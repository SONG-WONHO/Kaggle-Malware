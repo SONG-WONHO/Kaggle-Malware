{
 "cells": [
  {
   "cell_type": "markdown",
   "metadata": {},
   "source": [
    "# 케글 커널 필사 1\n",
    "\n",
    "* [커널](https://www.kaggle.com/artgor/is-this-malware-eda-fe-and-lgb-updated)\n",
    "* 투표수 기준으로 정렬"
   ]
  },
  {
   "cell_type": "markdown",
   "metadata": {},
   "source": [
    "## 사전작업"
   ]
  },
  {
   "cell_type": "code",
   "execution_count": 10,
   "metadata": {
    "ExecuteTime": {
     "end_time": "2019-02-09T11:17:48.566303Z",
     "start_time": "2019-02-09T11:17:48.561345Z"
    },
    "hide_input": false
   },
   "outputs": [],
   "source": [
    "# libraries\n",
    "import numpy as np\n",
    "import pandas as pd\n",
    "import matplotlib.pyplot as plt\n",
    "import seaborn as sns\n",
    "\n",
    "import gc\n",
    "import os\n",
    "import time\n",
    "import datetime\n",
    "import warnings\n",
    "\n",
    "from tqdm import tqdm_notebook\n",
    "import plotly.offline as py\n",
    "import plotly.graph_objs as go\n",
    "import plotly.tools as tls\n",
    "import logging"
   ]
  },
  {
   "cell_type": "code",
   "execution_count": 11,
   "metadata": {
    "ExecuteTime": {
     "end_time": "2019-02-09T11:17:48.768002Z",
     "start_time": "2019-02-09T11:17:48.764012Z"
    }
   },
   "outputs": [],
   "source": [
    "# 모델 관련 라이브러리\n",
    "import lightgbm as lgb\n",
    "import xgboost as xgb\n",
    "from catboost import CatBoostClassifier\n",
    "from sklearn.linear_model import LogisticRegression, LogisticRegressionCV\n",
    "\n",
    "from sklearn.preprocessing import LabelEncoder\n",
    "from sklearn.model_selection import StratifiedKFold, KFold, TimeSeriesSplit\n",
    "from sklearn.metrics import mean_squared_error, roc_auc_score"
   ]
  },
  {
   "cell_type": "code",
   "execution_count": 12,
   "metadata": {
    "ExecuteTime": {
     "end_time": "2019-02-09T11:17:48.930810Z",
     "start_time": "2019-02-09T11:17:48.922828Z"
    }
   },
   "outputs": [
    {
     "data": {
      "text/html": [
       "<script type=\"text/javascript\">window.PlotlyConfig = {MathJaxConfig: 'local'};</script><script type=\"text/javascript\">if (window.MathJax) {MathJax.Hub.Config({SVG: {font: \"STIX-Web\"}});}</script><script>requirejs.config({paths: { 'plotly': ['https://cdn.plot.ly/plotly-latest.min']},});if(!window._Plotly) {require(['plotly'],function(plotly) {window._Plotly=plotly;});}</script>"
      ],
      "text/vnd.plotly.v1+html": [
       "<script type=\"text/javascript\">window.PlotlyConfig = {MathJaxConfig: 'local'};</script><script type=\"text/javascript\">if (window.MathJax) {MathJax.Hub.Config({SVG: {font: \"STIX-Web\"}});}</script><script>requirejs.config({paths: { 'plotly': ['https://cdn.plot.ly/plotly-latest.min']},});if(!window._Plotly) {require(['plotly'],function(plotly) {window._Plotly=plotly;});}</script>"
      ]
     },
     "metadata": {},
     "output_type": "display_data"
    }
   ],
   "source": [
    "# 여러가지 환경 설정\n",
    "%matplotlib inline\n",
    "plt.style.use('ggplot')\n",
    "py.init_notebook_mode(connected=True)\n",
    "warnings.filterwarnings(\"ignore\")\n",
    "logging.basicConfig(filename='./data/log.txt',level=logging.DEBUG, format='%(asctime)s %(message)s')\n",
    "pd.set_option('max_colwidth', 500)\n",
    "pd.set_option('max_columns', 500)\n",
    "pd.set_option('max_rows', 100)"
   ]
  },
  {
   "cell_type": "markdown",
   "metadata": {},
   "source": [
    "## 데이터 로드"
   ]
  },
  {
   "cell_type": "code",
   "execution_count": 19,
   "metadata": {
    "ExecuteTime": {
     "end_time": "2019-02-09T11:19:25.127512Z",
     "start_time": "2019-02-09T11:19:25.118467Z"
    },
    "hide_input": false
   },
   "outputs": [],
   "source": [
    "#https://www.kaggle.com/theoviel/load-the-totality-of-the-data\n",
    "dtypes = {\n",
    "        'MachineIdentifier':                                    'category',\n",
    "        'ProductName':                                          'category',\n",
    "        'EngineVersion':                                        'category',\n",
    "        'AppVersion':                                           'category',\n",
    "        'AvSigVersion':                                         'category',\n",
    "        'IsBeta':                                               'int8',\n",
    "        'RtpStateBitfield':                                     'float16',\n",
    "        'IsSxsPassiveMode':                                     'int8',\n",
    "        'DefaultBrowsersIdentifier':                            'float16',\n",
    "        'AVProductStatesIdentifier':                            'float32',\n",
    "        'AVProductsInstalled':                                  'float16',\n",
    "        'AVProductsEnabled':                                    'float16',\n",
    "        'HasTpm':                                               'int8',\n",
    "        'CountryIdentifier':                                    'int16',\n",
    "        'CityIdentifier':                                       'float32',\n",
    "        'OrganizationIdentifier':                               'float16',\n",
    "        'GeoNameIdentifier':                                    'float16',\n",
    "        'LocaleEnglishNameIdentifier':                          'int8',\n",
    "        'Platform':                                             'category',\n",
    "        'Processor':                                            'category',\n",
    "        'OsVer':                                                'category',\n",
    "        'OsBuild':                                              'int16',\n",
    "        'OsSuite':                                              'int16',\n",
    "        'OsPlatformSubRelease':                                 'category',\n",
    "        'OsBuildLab':                                           'category',\n",
    "        'SkuEdition':                                           'category',\n",
    "        'IsProtected':                                          'float16',\n",
    "        'AutoSampleOptIn':                                      'int8',\n",
    "        'PuaMode':                                              'category',\n",
    "        'SMode':                                                'float16',\n",
    "        'IeVerIdentifier':                                      'float16',\n",
    "        'SmartScreen':                                          'category',\n",
    "        'Firewall':                                             'float16',\n",
    "        'UacLuaenable':                                         'float32',\n",
    "        'Census_MDC2FormFactor':                                'category',\n",
    "        'Census_DeviceFamily':                                  'category',\n",
    "        'Census_OEMNameIdentifier':                             'float16',\n",
    "        'Census_OEMModelIdentifier':                            'float32',\n",
    "        'Census_ProcessorCoreCount':                            'float16',\n",
    "        'Census_ProcessorManufacturerIdentifier':               'float16',\n",
    "        'Census_ProcessorModelIdentifier':                      'float16',\n",
    "        'Census_ProcessorClass':                                'category',\n",
    "        'Census_PrimaryDiskTotalCapacity':                      'float32',\n",
    "        'Census_PrimaryDiskTypeName':                           'category',\n",
    "        'Census_SystemVolumeTotalCapacity':                     'float32',\n",
    "        'Census_HasOpticalDiskDrive':                           'int8',\n",
    "        'Census_TotalPhysicalRAM':                              'float32',\n",
    "        'Census_ChassisTypeName':                               'category',\n",
    "        'Census_InternalPrimaryDiagonalDisplaySizeInInches':    'float16',\n",
    "        'Census_InternalPrimaryDisplayResolutionHorizontal':    'float16',\n",
    "        'Census_InternalPrimaryDisplayResolutionVertical':      'float16',\n",
    "        'Census_PowerPlatformRoleName':                         'category',\n",
    "        'Census_InternalBatteryType':                           'category',\n",
    "        'Census_InternalBatteryNumberOfCharges':                'float32',\n",
    "        'Census_OSVersion':                                     'category',\n",
    "        'Census_OSArchitecture':                                'category',\n",
    "        'Census_OSBranch':                                      'category',\n",
    "        'Census_OSBuildNumber':                                 'int16',\n",
    "        'Census_OSBuildRevision':                               'int32',\n",
    "        'Census_OSEdition':                                     'category',\n",
    "        'Census_OSSkuName':                                     'category',\n",
    "        'Census_OSInstallTypeName':                             'category',\n",
    "        'Census_OSInstallLanguageIdentifier':                   'float16',\n",
    "        'Census_OSUILocaleIdentifier':                          'int16',\n",
    "        'Census_OSWUAutoUpdateOptionsName':                     'category',\n",
    "        'Census_IsPortableOperatingSystem':                     'int8',\n",
    "        'Census_GenuineStateName':                              'category',\n",
    "        'Census_ActivationChannel':                             'category',\n",
    "        'Census_IsFlightingInternal':                           'float16',\n",
    "        'Census_IsFlightsDisabled':                             'float16',\n",
    "        'Census_FlightRing':                                    'category',\n",
    "        'Census_ThresholdOptIn':                                'float16',\n",
    "        'Census_FirmwareManufacturerIdentifier':                'float16',\n",
    "        'Census_FirmwareVersionIdentifier':                     'float32',\n",
    "        'Census_IsSecureBootEnabled':                           'int8',\n",
    "        'Census_IsWIMBootEnabled':                              'float16',\n",
    "        'Census_IsVirtualDevice':                               'float16',\n",
    "        'Census_IsTouchEnabled':                                'int8',\n",
    "        'Census_IsPenCapable':                                  'int8',\n",
    "        'Census_IsAlwaysOnAlwaysConnectedCapable':              'float16',\n",
    "        'Wdft_IsGamer':                                         'float16',\n",
    "        'Wdft_RegionIdentifier':                                'float16',\n",
    "        'HasDetections':                                        'int8'\n",
    "        }"
   ]
  },
  {
   "cell_type": "code",
   "execution_count": 20,
   "metadata": {
    "ExecuteTime": {
     "end_time": "2019-02-09T11:19:25.876012Z",
     "start_time": "2019-02-09T11:19:25.872044Z"
    }
   },
   "outputs": [],
   "source": [
    "numerics = ['int8', 'int16', 'int32', 'int64', 'float16', 'float32', 'float64']\n",
    "numerical_columns = [c for c,v in dtypes.items() if v in numerics]\n",
    "categorical_columns = [c for c,v in dtypes.items() if v not in numerics]"
   ]
  },
  {
   "cell_type": "code",
   "execution_count": 21,
   "metadata": {
    "ExecuteTime": {
     "end_time": "2019-02-09T11:21:49.636218Z",
     "start_time": "2019-02-09T11:19:34.040892Z"
    },
    "scrolled": true
   },
   "outputs": [
    {
     "name": "stdout",
     "output_type": "stream",
     "text": [
      "Wall time: 2min 15s\n"
     ]
    }
   ],
   "source": [
    "%%time\n",
    "train = pd.read_csv('./data/train.csv', dtype=dtypes)"
   ]
  },
  {
   "cell_type": "code",
   "execution_count": 23,
   "metadata": {
    "ExecuteTime": {
     "end_time": "2019-02-09T11:23:12.927737Z",
     "start_time": "2019-02-09T11:22:36.414245Z"
    }
   },
   "outputs": [
    {
     "name": "stdout",
     "output_type": "stream",
     "text": [
      "Wall time: 36.5 s\n"
     ]
    }
   ],
   "source": [
    "%%time\n",
    "stats = []\n",
    "for col in train.columns:\n",
    "    stats.append((col, train[col].nunique(), train[col].isnull().sum() * 100 / train.shape[0], train[col].value_counts(normalize=True, dropna=False).values[0] * 100, train[col].dtype))\n",
    "    \n",
    "stats_df = pd.DataFrame(stats, columns=['Feature', 'Unique_values', 'Percentage of missing values', 'Percentage of values in the biggest category', 'type'])"
   ]
  },
  {
   "cell_type": "code",
   "execution_count": 25,
   "metadata": {
    "ExecuteTime": {
     "end_time": "2019-02-09T11:24:12.288920Z",
     "start_time": "2019-02-09T11:24:12.266946Z"
    },
    "hide_input": false,
    "scrolled": false
   },
   "outputs": [
    {
     "data": {
      "text/html": [
       "<div>\n",
       "<style scoped>\n",
       "    .dataframe tbody tr th:only-of-type {\n",
       "        vertical-align: middle;\n",
       "    }\n",
       "\n",
       "    .dataframe tbody tr th {\n",
       "        vertical-align: top;\n",
       "    }\n",
       "\n",
       "    .dataframe thead th {\n",
       "        text-align: right;\n",
       "    }\n",
       "</style>\n",
       "<table border=\"1\" class=\"dataframe\">\n",
       "  <thead>\n",
       "    <tr style=\"text-align: right;\">\n",
       "      <th></th>\n",
       "      <th>Feature</th>\n",
       "      <th>Unique_values</th>\n",
       "      <th>Percentage of missing values</th>\n",
       "      <th>Percentage of values in the biggest category</th>\n",
       "      <th>type</th>\n",
       "    </tr>\n",
       "  </thead>\n",
       "  <tbody>\n",
       "    <tr>\n",
       "      <th>28</th>\n",
       "      <td>PuaMode</td>\n",
       "      <td>2</td>\n",
       "      <td>99.974119</td>\n",
       "      <td>99.974119</td>\n",
       "      <td>category</td>\n",
       "    </tr>\n",
       "    <tr>\n",
       "      <th>41</th>\n",
       "      <td>Census_ProcessorClass</td>\n",
       "      <td>3</td>\n",
       "      <td>99.589407</td>\n",
       "      <td>99.589407</td>\n",
       "      <td>category</td>\n",
       "    </tr>\n",
       "    <tr>\n",
       "      <th>8</th>\n",
       "      <td>DefaultBrowsersIdentifier</td>\n",
       "      <td>1730</td>\n",
       "      <td>95.141637</td>\n",
       "      <td>95.141637</td>\n",
       "      <td>float16</td>\n",
       "    </tr>\n",
       "    <tr>\n",
       "      <th>68</th>\n",
       "      <td>Census_IsFlightingInternal</td>\n",
       "      <td>2</td>\n",
       "      <td>83.044030</td>\n",
       "      <td>83.044030</td>\n",
       "      <td>float16</td>\n",
       "    </tr>\n",
       "    <tr>\n",
       "      <th>52</th>\n",
       "      <td>Census_InternalBatteryType</td>\n",
       "      <td>78</td>\n",
       "      <td>71.046809</td>\n",
       "      <td>71.046809</td>\n",
       "      <td>category</td>\n",
       "    </tr>\n",
       "    <tr>\n",
       "      <th>71</th>\n",
       "      <td>Census_ThresholdOptIn</td>\n",
       "      <td>2</td>\n",
       "      <td>63.524472</td>\n",
       "      <td>63.524472</td>\n",
       "      <td>float16</td>\n",
       "    </tr>\n",
       "    <tr>\n",
       "      <th>75</th>\n",
       "      <td>Census_IsWIMBootEnabled</td>\n",
       "      <td>2</td>\n",
       "      <td>63.439038</td>\n",
       "      <td>63.439038</td>\n",
       "      <td>float16</td>\n",
       "    </tr>\n",
       "    <tr>\n",
       "      <th>31</th>\n",
       "      <td>SmartScreen</td>\n",
       "      <td>21</td>\n",
       "      <td>35.610795</td>\n",
       "      <td>48.379658</td>\n",
       "      <td>category</td>\n",
       "    </tr>\n",
       "    <tr>\n",
       "      <th>15</th>\n",
       "      <td>OrganizationIdentifier</td>\n",
       "      <td>49</td>\n",
       "      <td>30.841487</td>\n",
       "      <td>47.037662</td>\n",
       "      <td>float16</td>\n",
       "    </tr>\n",
       "    <tr>\n",
       "      <th>29</th>\n",
       "      <td>SMode</td>\n",
       "      <td>2</td>\n",
       "      <td>6.027686</td>\n",
       "      <td>93.928812</td>\n",
       "      <td>float16</td>\n",
       "    </tr>\n",
       "    <tr>\n",
       "      <th>14</th>\n",
       "      <td>CityIdentifier</td>\n",
       "      <td>107366</td>\n",
       "      <td>3.647477</td>\n",
       "      <td>3.647477</td>\n",
       "      <td>float32</td>\n",
       "    </tr>\n",
       "    <tr>\n",
       "      <th>80</th>\n",
       "      <td>Wdft_IsGamer</td>\n",
       "      <td>2</td>\n",
       "      <td>3.401352</td>\n",
       "      <td>69.205344</td>\n",
       "      <td>float16</td>\n",
       "    </tr>\n",
       "    <tr>\n",
       "      <th>81</th>\n",
       "      <td>Wdft_RegionIdentifier</td>\n",
       "      <td>15</td>\n",
       "      <td>3.401352</td>\n",
       "      <td>20.177195</td>\n",
       "      <td>float16</td>\n",
       "    </tr>\n",
       "    <tr>\n",
       "      <th>53</th>\n",
       "      <td>Census_InternalBatteryNumberOfCharges</td>\n",
       "      <td>41087</td>\n",
       "      <td>3.012448</td>\n",
       "      <td>56.643094</td>\n",
       "      <td>float32</td>\n",
       "    </tr>\n",
       "    <tr>\n",
       "      <th>72</th>\n",
       "      <td>Census_FirmwareManufacturerIdentifier</td>\n",
       "      <td>712</td>\n",
       "      <td>2.054109</td>\n",
       "      <td>30.253692</td>\n",
       "      <td>float16</td>\n",
       "    </tr>\n",
       "    <tr>\n",
       "      <th>69</th>\n",
       "      <td>Census_IsFlightsDisabled</td>\n",
       "      <td>2</td>\n",
       "      <td>1.799286</td>\n",
       "      <td>98.199728</td>\n",
       "      <td>float16</td>\n",
       "    </tr>\n",
       "    <tr>\n",
       "      <th>73</th>\n",
       "      <td>Census_FirmwareVersionIdentifier</td>\n",
       "      <td>50494</td>\n",
       "      <td>1.794915</td>\n",
       "      <td>1.794915</td>\n",
       "      <td>float32</td>\n",
       "    </tr>\n",
       "    <tr>\n",
       "      <th>37</th>\n",
       "      <td>Census_OEMModelIdentifier</td>\n",
       "      <td>175365</td>\n",
       "      <td>1.145919</td>\n",
       "      <td>3.416271</td>\n",
       "      <td>float32</td>\n",
       "    </tr>\n",
       "    <tr>\n",
       "      <th>36</th>\n",
       "      <td>Census_OEMNameIdentifier</td>\n",
       "      <td>2564</td>\n",
       "      <td>1.070203</td>\n",
       "      <td>14.428946</td>\n",
       "      <td>float16</td>\n",
       "    </tr>\n",
       "    <tr>\n",
       "      <th>32</th>\n",
       "      <td>Firewall</td>\n",
       "      <td>2</td>\n",
       "      <td>1.023933</td>\n",
       "      <td>96.856251</td>\n",
       "      <td>float16</td>\n",
       "    </tr>\n",
       "    <tr>\n",
       "      <th>46</th>\n",
       "      <td>Census_TotalPhysicalRAM</td>\n",
       "      <td>3446</td>\n",
       "      <td>0.902686</td>\n",
       "      <td>45.894971</td>\n",
       "      <td>float32</td>\n",
       "    </tr>\n",
       "    <tr>\n",
       "      <th>79</th>\n",
       "      <td>Census_IsAlwaysOnAlwaysConnectedCapable</td>\n",
       "      <td>2</td>\n",
       "      <td>0.799676</td>\n",
       "      <td>93.504320</td>\n",
       "      <td>float16</td>\n",
       "    </tr>\n",
       "    <tr>\n",
       "      <th>62</th>\n",
       "      <td>Census_OSInstallLanguageIdentifier</td>\n",
       "      <td>39</td>\n",
       "      <td>0.673475</td>\n",
       "      <td>35.636026</td>\n",
       "      <td>float16</td>\n",
       "    </tr>\n",
       "    <tr>\n",
       "      <th>30</th>\n",
       "      <td>IeVerIdentifier</td>\n",
       "      <td>303</td>\n",
       "      <td>0.660137</td>\n",
       "      <td>43.556010</td>\n",
       "      <td>float16</td>\n",
       "    </tr>\n",
       "    <tr>\n",
       "      <th>42</th>\n",
       "      <td>Census_PrimaryDiskTotalCapacity</td>\n",
       "      <td>5735</td>\n",
       "      <td>0.594251</td>\n",
       "      <td>31.850422</td>\n",
       "      <td>float32</td>\n",
       "    </tr>\n",
       "    <tr>\n",
       "      <th>44</th>\n",
       "      <td>Census_SystemVolumeTotalCapacity</td>\n",
       "      <td>536848</td>\n",
       "      <td>0.594094</td>\n",
       "      <td>0.594094</td>\n",
       "      <td>float32</td>\n",
       "    </tr>\n",
       "    <tr>\n",
       "      <th>48</th>\n",
       "      <td>Census_InternalPrimaryDiagonalDisplaySizeInInches</td>\n",
       "      <td>785</td>\n",
       "      <td>0.528320</td>\n",
       "      <td>34.158346</td>\n",
       "      <td>float16</td>\n",
       "    </tr>\n",
       "    <tr>\n",
       "      <th>49</th>\n",
       "      <td>Census_InternalPrimaryDisplayResolutionHorizontal</td>\n",
       "      <td>2050</td>\n",
       "      <td>0.526661</td>\n",
       "      <td>50.608895</td>\n",
       "      <td>float16</td>\n",
       "    </tr>\n",
       "    <tr>\n",
       "      <th>50</th>\n",
       "      <td>Census_InternalPrimaryDisplayResolutionVertical</td>\n",
       "      <td>1552</td>\n",
       "      <td>0.526661</td>\n",
       "      <td>55.748814</td>\n",
       "      <td>float16</td>\n",
       "    </tr>\n",
       "    <tr>\n",
       "      <th>40</th>\n",
       "      <td>Census_ProcessorModelIdentifier</td>\n",
       "      <td>2583</td>\n",
       "      <td>0.463410</td>\n",
       "      <td>3.242555</td>\n",
       "      <td>float16</td>\n",
       "    </tr>\n",
       "    <tr>\n",
       "      <th>39</th>\n",
       "      <td>Census_ProcessorManufacturerIdentifier</td>\n",
       "      <td>7</td>\n",
       "      <td>0.463073</td>\n",
       "      <td>87.870122</td>\n",
       "      <td>float16</td>\n",
       "    </tr>\n",
       "    <tr>\n",
       "      <th>38</th>\n",
       "      <td>Census_ProcessorCoreCount</td>\n",
       "      <td>45</td>\n",
       "      <td>0.462995</td>\n",
       "      <td>60.866484</td>\n",
       "      <td>float16</td>\n",
       "    </tr>\n",
       "    <tr>\n",
       "      <th>9</th>\n",
       "      <td>AVProductStatesIdentifier</td>\n",
       "      <td>28970</td>\n",
       "      <td>0.405998</td>\n",
       "      <td>65.286960</td>\n",
       "      <td>float32</td>\n",
       "    </tr>\n",
       "    <tr>\n",
       "      <th>10</th>\n",
       "      <td>AVProductsInstalled</td>\n",
       "      <td>8</td>\n",
       "      <td>0.405998</td>\n",
       "      <td>69.594853</td>\n",
       "      <td>float16</td>\n",
       "    </tr>\n",
       "    <tr>\n",
       "      <th>11</th>\n",
       "      <td>AVProductsEnabled</td>\n",
       "      <td>6</td>\n",
       "      <td>0.405998</td>\n",
       "      <td>97.002942</td>\n",
       "      <td>float16</td>\n",
       "    </tr>\n",
       "    <tr>\n",
       "      <th>26</th>\n",
       "      <td>IsProtected</td>\n",
       "      <td>2</td>\n",
       "      <td>0.404014</td>\n",
       "      <td>94.180329</td>\n",
       "      <td>float16</td>\n",
       "    </tr>\n",
       "    <tr>\n",
       "      <th>6</th>\n",
       "      <td>RtpStateBitfield</td>\n",
       "      <td>7</td>\n",
       "      <td>0.362249</td>\n",
       "      <td>96.973642</td>\n",
       "      <td>float16</td>\n",
       "    </tr>\n",
       "    <tr>\n",
       "      <th>76</th>\n",
       "      <td>Census_IsVirtualDevice</td>\n",
       "      <td>2</td>\n",
       "      <td>0.178816</td>\n",
       "      <td>99.118499</td>\n",
       "      <td>float16</td>\n",
       "    </tr>\n",
       "    <tr>\n",
       "      <th>43</th>\n",
       "      <td>Census_PrimaryDiskTypeName</td>\n",
       "      <td>4</td>\n",
       "      <td>0.143967</td>\n",
       "      <td>65.087878</td>\n",
       "      <td>category</td>\n",
       "    </tr>\n",
       "    <tr>\n",
       "      <th>33</th>\n",
       "      <td>UacLuaenable</td>\n",
       "      <td>11</td>\n",
       "      <td>0.121482</td>\n",
       "      <td>99.271803</td>\n",
       "      <td>float32</td>\n",
       "    </tr>\n",
       "    <tr>\n",
       "      <th>47</th>\n",
       "      <td>Census_ChassisTypeName</td>\n",
       "      <td>52</td>\n",
       "      <td>0.006983</td>\n",
       "      <td>58.833402</td>\n",
       "      <td>category</td>\n",
       "    </tr>\n",
       "    <tr>\n",
       "      <th>16</th>\n",
       "      <td>GeoNameIdentifier</td>\n",
       "      <td>292</td>\n",
       "      <td>0.002387</td>\n",
       "      <td>17.171237</td>\n",
       "      <td>float16</td>\n",
       "    </tr>\n",
       "    <tr>\n",
       "      <th>51</th>\n",
       "      <td>Census_PowerPlatformRoleName</td>\n",
       "      <td>10</td>\n",
       "      <td>0.000616</td>\n",
       "      <td>69.303590</td>\n",
       "      <td>category</td>\n",
       "    </tr>\n",
       "    <tr>\n",
       "      <th>24</th>\n",
       "      <td>OsBuildLab</td>\n",
       "      <td>663</td>\n",
       "      <td>0.000235</td>\n",
       "      <td>41.004382</td>\n",
       "      <td>category</td>\n",
       "    </tr>\n",
       "    <tr>\n",
       "      <th>61</th>\n",
       "      <td>Census_OSInstallTypeName</td>\n",
       "      <td>9</td>\n",
       "      <td>0.000000</td>\n",
       "      <td>29.233223</td>\n",
       "      <td>category</td>\n",
       "    </tr>\n",
       "    <tr>\n",
       "      <th>60</th>\n",
       "      <td>Census_OSSkuName</td>\n",
       "      <td>30</td>\n",
       "      <td>0.000000</td>\n",
       "      <td>38.893410</td>\n",
       "      <td>category</td>\n",
       "    </tr>\n",
       "    <tr>\n",
       "      <th>64</th>\n",
       "      <td>Census_OSWUAutoUpdateOptionsName</td>\n",
       "      <td>6</td>\n",
       "      <td>0.000000</td>\n",
       "      <td>44.325557</td>\n",
       "      <td>category</td>\n",
       "    </tr>\n",
       "    <tr>\n",
       "      <th>63</th>\n",
       "      <td>Census_OSUILocaleIdentifier</td>\n",
       "      <td>147</td>\n",
       "      <td>0.000000</td>\n",
       "      <td>35.541445</td>\n",
       "      <td>int16</td>\n",
       "    </tr>\n",
       "    <tr>\n",
       "      <th>65</th>\n",
       "      <td>Census_IsPortableOperatingSystem</td>\n",
       "      <td>2</td>\n",
       "      <td>0.000000</td>\n",
       "      <td>99.945480</td>\n",
       "      <td>int8</td>\n",
       "    </tr>\n",
       "    <tr>\n",
       "      <th>78</th>\n",
       "      <td>Census_IsPenCapable</td>\n",
       "      <td>2</td>\n",
       "      <td>0.000000</td>\n",
       "      <td>96.192909</td>\n",
       "      <td>int8</td>\n",
       "    </tr>\n",
       "    <tr>\n",
       "      <th>58</th>\n",
       "      <td>Census_OSBuildRevision</td>\n",
       "      <td>285</td>\n",
       "      <td>0.000000</td>\n",
       "      <td>15.845269</td>\n",
       "      <td>int32</td>\n",
       "    </tr>\n",
       "    <tr>\n",
       "      <th>66</th>\n",
       "      <td>Census_GenuineStateName</td>\n",
       "      <td>5</td>\n",
       "      <td>0.000000</td>\n",
       "      <td>88.299187</td>\n",
       "      <td>category</td>\n",
       "    </tr>\n",
       "    <tr>\n",
       "      <th>67</th>\n",
       "      <td>Census_ActivationChannel</td>\n",
       "      <td>6</td>\n",
       "      <td>0.000000</td>\n",
       "      <td>52.991067</td>\n",
       "      <td>category</td>\n",
       "    </tr>\n",
       "    <tr>\n",
       "      <th>77</th>\n",
       "      <td>Census_IsTouchEnabled</td>\n",
       "      <td>2</td>\n",
       "      <td>0.000000</td>\n",
       "      <td>87.445686</td>\n",
       "      <td>int8</td>\n",
       "    </tr>\n",
       "    <tr>\n",
       "      <th>70</th>\n",
       "      <td>Census_FlightRing</td>\n",
       "      <td>10</td>\n",
       "      <td>0.000000</td>\n",
       "      <td>93.657960</td>\n",
       "      <td>category</td>\n",
       "    </tr>\n",
       "    <tr>\n",
       "      <th>74</th>\n",
       "      <td>Census_IsSecureBootEnabled</td>\n",
       "      <td>2</td>\n",
       "      <td>0.000000</td>\n",
       "      <td>51.397710</td>\n",
       "      <td>int8</td>\n",
       "    </tr>\n",
       "    <tr>\n",
       "      <th>59</th>\n",
       "      <td>Census_OSEdition</td>\n",
       "      <td>33</td>\n",
       "      <td>0.000000</td>\n",
       "      <td>38.894778</td>\n",
       "      <td>category</td>\n",
       "    </tr>\n",
       "    <tr>\n",
       "      <th>0</th>\n",
       "      <td>MachineIdentifier</td>\n",
       "      <td>8921483</td>\n",
       "      <td>0.000000</td>\n",
       "      <td>0.000011</td>\n",
       "      <td>category</td>\n",
       "    </tr>\n",
       "    <tr>\n",
       "      <th>57</th>\n",
       "      <td>Census_OSBuildNumber</td>\n",
       "      <td>165</td>\n",
       "      <td>0.000000</td>\n",
       "      <td>44.935141</td>\n",
       "      <td>int16</td>\n",
       "    </tr>\n",
       "    <tr>\n",
       "      <th>20</th>\n",
       "      <td>OsVer</td>\n",
       "      <td>58</td>\n",
       "      <td>0.000000</td>\n",
       "      <td>96.761323</td>\n",
       "      <td>category</td>\n",
       "    </tr>\n",
       "    <tr>\n",
       "      <th>2</th>\n",
       "      <td>EngineVersion</td>\n",
       "      <td>70</td>\n",
       "      <td>0.000000</td>\n",
       "      <td>43.098967</td>\n",
       "      <td>category</td>\n",
       "    </tr>\n",
       "    <tr>\n",
       "      <th>3</th>\n",
       "      <td>AppVersion</td>\n",
       "      <td>110</td>\n",
       "      <td>0.000000</td>\n",
       "      <td>57.605042</td>\n",
       "      <td>category</td>\n",
       "    </tr>\n",
       "    <tr>\n",
       "      <th>4</th>\n",
       "      <td>AvSigVersion</td>\n",
       "      <td>8531</td>\n",
       "      <td>0.000000</td>\n",
       "      <td>1.146861</td>\n",
       "      <td>category</td>\n",
       "    </tr>\n",
       "    <tr>\n",
       "      <th>5</th>\n",
       "      <td>IsBeta</td>\n",
       "      <td>2</td>\n",
       "      <td>0.000000</td>\n",
       "      <td>99.999249</td>\n",
       "      <td>int8</td>\n",
       "    </tr>\n",
       "    <tr>\n",
       "      <th>7</th>\n",
       "      <td>IsSxsPassiveMode</td>\n",
       "      <td>2</td>\n",
       "      <td>0.000000</td>\n",
       "      <td>98.266622</td>\n",
       "      <td>int8</td>\n",
       "    </tr>\n",
       "    <tr>\n",
       "      <th>12</th>\n",
       "      <td>HasTpm</td>\n",
       "      <td>2</td>\n",
       "      <td>0.000000</td>\n",
       "      <td>98.797106</td>\n",
       "      <td>int8</td>\n",
       "    </tr>\n",
       "    <tr>\n",
       "      <th>13</th>\n",
       "      <td>CountryIdentifier</td>\n",
       "      <td>222</td>\n",
       "      <td>0.000000</td>\n",
       "      <td>4.451861</td>\n",
       "      <td>int16</td>\n",
       "    </tr>\n",
       "    <tr>\n",
       "      <th>17</th>\n",
       "      <td>LocaleEnglishNameIdentifier</td>\n",
       "      <td>252</td>\n",
       "      <td>0.000000</td>\n",
       "      <td>23.477991</td>\n",
       "      <td>int8</td>\n",
       "    </tr>\n",
       "    <tr>\n",
       "      <th>18</th>\n",
       "      <td>Platform</td>\n",
       "      <td>4</td>\n",
       "      <td>0.000000</td>\n",
       "      <td>96.606304</td>\n",
       "      <td>category</td>\n",
       "    </tr>\n",
       "    <tr>\n",
       "      <th>19</th>\n",
       "      <td>Processor</td>\n",
       "      <td>3</td>\n",
       "      <td>0.000000</td>\n",
       "      <td>90.853001</td>\n",
       "      <td>category</td>\n",
       "    </tr>\n",
       "    <tr>\n",
       "      <th>21</th>\n",
       "      <td>OsBuild</td>\n",
       "      <td>76</td>\n",
       "      <td>0.000000</td>\n",
       "      <td>43.888679</td>\n",
       "      <td>int16</td>\n",
       "    </tr>\n",
       "    <tr>\n",
       "      <th>56</th>\n",
       "      <td>Census_OSBranch</td>\n",
       "      <td>32</td>\n",
       "      <td>0.000000</td>\n",
       "      <td>44.938246</td>\n",
       "      <td>category</td>\n",
       "    </tr>\n",
       "    <tr>\n",
       "      <th>22</th>\n",
       "      <td>OsSuite</td>\n",
       "      <td>14</td>\n",
       "      <td>0.000000</td>\n",
       "      <td>62.328886</td>\n",
       "      <td>int16</td>\n",
       "    </tr>\n",
       "    <tr>\n",
       "      <th>23</th>\n",
       "      <td>OsPlatformSubRelease</td>\n",
       "      <td>9</td>\n",
       "      <td>0.000000</td>\n",
       "      <td>43.888735</td>\n",
       "      <td>category</td>\n",
       "    </tr>\n",
       "    <tr>\n",
       "      <th>25</th>\n",
       "      <td>SkuEdition</td>\n",
       "      <td>8</td>\n",
       "      <td>0.000000</td>\n",
       "      <td>61.809690</td>\n",
       "      <td>category</td>\n",
       "    </tr>\n",
       "    <tr>\n",
       "      <th>27</th>\n",
       "      <td>AutoSampleOptIn</td>\n",
       "      <td>2</td>\n",
       "      <td>0.000000</td>\n",
       "      <td>99.997108</td>\n",
       "      <td>int8</td>\n",
       "    </tr>\n",
       "    <tr>\n",
       "      <th>34</th>\n",
       "      <td>Census_MDC2FormFactor</td>\n",
       "      <td>13</td>\n",
       "      <td>0.000000</td>\n",
       "      <td>64.152103</td>\n",
       "      <td>category</td>\n",
       "    </tr>\n",
       "    <tr>\n",
       "      <th>35</th>\n",
       "      <td>Census_DeviceFamily</td>\n",
       "      <td>3</td>\n",
       "      <td>0.000000</td>\n",
       "      <td>99.838256</td>\n",
       "      <td>category</td>\n",
       "    </tr>\n",
       "    <tr>\n",
       "      <th>1</th>\n",
       "      <td>ProductName</td>\n",
       "      <td>6</td>\n",
       "      <td>0.000000</td>\n",
       "      <td>98.935569</td>\n",
       "      <td>category</td>\n",
       "    </tr>\n",
       "    <tr>\n",
       "      <th>45</th>\n",
       "      <td>Census_HasOpticalDiskDrive</td>\n",
       "      <td>2</td>\n",
       "      <td>0.000000</td>\n",
       "      <td>92.281272</td>\n",
       "      <td>int8</td>\n",
       "    </tr>\n",
       "    <tr>\n",
       "      <th>54</th>\n",
       "      <td>Census_OSVersion</td>\n",
       "      <td>469</td>\n",
       "      <td>0.000000</td>\n",
       "      <td>15.845202</td>\n",
       "      <td>category</td>\n",
       "    </tr>\n",
       "    <tr>\n",
       "      <th>55</th>\n",
       "      <td>Census_OSArchitecture</td>\n",
       "      <td>3</td>\n",
       "      <td>0.000000</td>\n",
       "      <td>90.858045</td>\n",
       "      <td>category</td>\n",
       "    </tr>\n",
       "    <tr>\n",
       "      <th>82</th>\n",
       "      <td>HasDetections</td>\n",
       "      <td>2</td>\n",
       "      <td>0.000000</td>\n",
       "      <td>50.020731</td>\n",
       "      <td>int8</td>\n",
       "    </tr>\n",
       "  </tbody>\n",
       "</table>\n",
       "</div>"
      ],
      "text/plain": [
       "                                              Feature  Unique_values  \\\n",
       "28                                            PuaMode              2   \n",
       "41                              Census_ProcessorClass              3   \n",
       "8                           DefaultBrowsersIdentifier           1730   \n",
       "68                         Census_IsFlightingInternal              2   \n",
       "52                         Census_InternalBatteryType             78   \n",
       "71                              Census_ThresholdOptIn              2   \n",
       "75                            Census_IsWIMBootEnabled              2   \n",
       "31                                        SmartScreen             21   \n",
       "15                             OrganizationIdentifier             49   \n",
       "29                                              SMode              2   \n",
       "14                                     CityIdentifier         107366   \n",
       "80                                       Wdft_IsGamer              2   \n",
       "81                              Wdft_RegionIdentifier             15   \n",
       "53              Census_InternalBatteryNumberOfCharges          41087   \n",
       "72              Census_FirmwareManufacturerIdentifier            712   \n",
       "69                           Census_IsFlightsDisabled              2   \n",
       "73                   Census_FirmwareVersionIdentifier          50494   \n",
       "37                          Census_OEMModelIdentifier         175365   \n",
       "36                           Census_OEMNameIdentifier           2564   \n",
       "32                                           Firewall              2   \n",
       "46                            Census_TotalPhysicalRAM           3446   \n",
       "79            Census_IsAlwaysOnAlwaysConnectedCapable              2   \n",
       "62                 Census_OSInstallLanguageIdentifier             39   \n",
       "30                                    IeVerIdentifier            303   \n",
       "42                    Census_PrimaryDiskTotalCapacity           5735   \n",
       "44                   Census_SystemVolumeTotalCapacity         536848   \n",
       "48  Census_InternalPrimaryDiagonalDisplaySizeInInches            785   \n",
       "49  Census_InternalPrimaryDisplayResolutionHorizontal           2050   \n",
       "50    Census_InternalPrimaryDisplayResolutionVertical           1552   \n",
       "40                    Census_ProcessorModelIdentifier           2583   \n",
       "39             Census_ProcessorManufacturerIdentifier              7   \n",
       "38                          Census_ProcessorCoreCount             45   \n",
       "9                           AVProductStatesIdentifier          28970   \n",
       "10                                AVProductsInstalled              8   \n",
       "11                                  AVProductsEnabled              6   \n",
       "26                                        IsProtected              2   \n",
       "6                                    RtpStateBitfield              7   \n",
       "76                             Census_IsVirtualDevice              2   \n",
       "43                         Census_PrimaryDiskTypeName              4   \n",
       "33                                       UacLuaenable             11   \n",
       "47                             Census_ChassisTypeName             52   \n",
       "16                                  GeoNameIdentifier            292   \n",
       "51                       Census_PowerPlatformRoleName             10   \n",
       "24                                         OsBuildLab            663   \n",
       "61                           Census_OSInstallTypeName              9   \n",
       "60                                   Census_OSSkuName             30   \n",
       "64                   Census_OSWUAutoUpdateOptionsName              6   \n",
       "63                        Census_OSUILocaleIdentifier            147   \n",
       "65                   Census_IsPortableOperatingSystem              2   \n",
       "78                                Census_IsPenCapable              2   \n",
       "58                             Census_OSBuildRevision            285   \n",
       "66                            Census_GenuineStateName              5   \n",
       "67                           Census_ActivationChannel              6   \n",
       "77                              Census_IsTouchEnabled              2   \n",
       "70                                  Census_FlightRing             10   \n",
       "74                         Census_IsSecureBootEnabled              2   \n",
       "59                                   Census_OSEdition             33   \n",
       "0                                   MachineIdentifier        8921483   \n",
       "57                               Census_OSBuildNumber            165   \n",
       "20                                              OsVer             58   \n",
       "2                                       EngineVersion             70   \n",
       "3                                          AppVersion            110   \n",
       "4                                        AvSigVersion           8531   \n",
       "5                                              IsBeta              2   \n",
       "7                                    IsSxsPassiveMode              2   \n",
       "12                                             HasTpm              2   \n",
       "13                                  CountryIdentifier            222   \n",
       "17                        LocaleEnglishNameIdentifier            252   \n",
       "18                                           Platform              4   \n",
       "19                                          Processor              3   \n",
       "21                                            OsBuild             76   \n",
       "56                                    Census_OSBranch             32   \n",
       "22                                            OsSuite             14   \n",
       "23                               OsPlatformSubRelease              9   \n",
       "25                                         SkuEdition              8   \n",
       "27                                    AutoSampleOptIn              2   \n",
       "34                              Census_MDC2FormFactor             13   \n",
       "35                                Census_DeviceFamily              3   \n",
       "1                                         ProductName              6   \n",
       "45                         Census_HasOpticalDiskDrive              2   \n",
       "54                                   Census_OSVersion            469   \n",
       "55                              Census_OSArchitecture              3   \n",
       "82                                      HasDetections              2   \n",
       "\n",
       "    Percentage of missing values  \\\n",
       "28                     99.974119   \n",
       "41                     99.589407   \n",
       "8                      95.141637   \n",
       "68                     83.044030   \n",
       "52                     71.046809   \n",
       "71                     63.524472   \n",
       "75                     63.439038   \n",
       "31                     35.610795   \n",
       "15                     30.841487   \n",
       "29                      6.027686   \n",
       "14                      3.647477   \n",
       "80                      3.401352   \n",
       "81                      3.401352   \n",
       "53                      3.012448   \n",
       "72                      2.054109   \n",
       "69                      1.799286   \n",
       "73                      1.794915   \n",
       "37                      1.145919   \n",
       "36                      1.070203   \n",
       "32                      1.023933   \n",
       "46                      0.902686   \n",
       "79                      0.799676   \n",
       "62                      0.673475   \n",
       "30                      0.660137   \n",
       "42                      0.594251   \n",
       "44                      0.594094   \n",
       "48                      0.528320   \n",
       "49                      0.526661   \n",
       "50                      0.526661   \n",
       "40                      0.463410   \n",
       "39                      0.463073   \n",
       "38                      0.462995   \n",
       "9                       0.405998   \n",
       "10                      0.405998   \n",
       "11                      0.405998   \n",
       "26                      0.404014   \n",
       "6                       0.362249   \n",
       "76                      0.178816   \n",
       "43                      0.143967   \n",
       "33                      0.121482   \n",
       "47                      0.006983   \n",
       "16                      0.002387   \n",
       "51                      0.000616   \n",
       "24                      0.000235   \n",
       "61                      0.000000   \n",
       "60                      0.000000   \n",
       "64                      0.000000   \n",
       "63                      0.000000   \n",
       "65                      0.000000   \n",
       "78                      0.000000   \n",
       "58                      0.000000   \n",
       "66                      0.000000   \n",
       "67                      0.000000   \n",
       "77                      0.000000   \n",
       "70                      0.000000   \n",
       "74                      0.000000   \n",
       "59                      0.000000   \n",
       "0                       0.000000   \n",
       "57                      0.000000   \n",
       "20                      0.000000   \n",
       "2                       0.000000   \n",
       "3                       0.000000   \n",
       "4                       0.000000   \n",
       "5                       0.000000   \n",
       "7                       0.000000   \n",
       "12                      0.000000   \n",
       "13                      0.000000   \n",
       "17                      0.000000   \n",
       "18                      0.000000   \n",
       "19                      0.000000   \n",
       "21                      0.000000   \n",
       "56                      0.000000   \n",
       "22                      0.000000   \n",
       "23                      0.000000   \n",
       "25                      0.000000   \n",
       "27                      0.000000   \n",
       "34                      0.000000   \n",
       "35                      0.000000   \n",
       "1                       0.000000   \n",
       "45                      0.000000   \n",
       "54                      0.000000   \n",
       "55                      0.000000   \n",
       "82                      0.000000   \n",
       "\n",
       "    Percentage of values in the biggest category      type  \n",
       "28                                     99.974119  category  \n",
       "41                                     99.589407  category  \n",
       "8                                      95.141637   float16  \n",
       "68                                     83.044030   float16  \n",
       "52                                     71.046809  category  \n",
       "71                                     63.524472   float16  \n",
       "75                                     63.439038   float16  \n",
       "31                                     48.379658  category  \n",
       "15                                     47.037662   float16  \n",
       "29                                     93.928812   float16  \n",
       "14                                      3.647477   float32  \n",
       "80                                     69.205344   float16  \n",
       "81                                     20.177195   float16  \n",
       "53                                     56.643094   float32  \n",
       "72                                     30.253692   float16  \n",
       "69                                     98.199728   float16  \n",
       "73                                      1.794915   float32  \n",
       "37                                      3.416271   float32  \n",
       "36                                     14.428946   float16  \n",
       "32                                     96.856251   float16  \n",
       "46                                     45.894971   float32  \n",
       "79                                     93.504320   float16  \n",
       "62                                     35.636026   float16  \n",
       "30                                     43.556010   float16  \n",
       "42                                     31.850422   float32  \n",
       "44                                      0.594094   float32  \n",
       "48                                     34.158346   float16  \n",
       "49                                     50.608895   float16  \n",
       "50                                     55.748814   float16  \n",
       "40                                      3.242555   float16  \n",
       "39                                     87.870122   float16  \n",
       "38                                     60.866484   float16  \n",
       "9                                      65.286960   float32  \n",
       "10                                     69.594853   float16  \n",
       "11                                     97.002942   float16  \n",
       "26                                     94.180329   float16  \n",
       "6                                      96.973642   float16  \n",
       "76                                     99.118499   float16  \n",
       "43                                     65.087878  category  \n",
       "33                                     99.271803   float32  \n",
       "47                                     58.833402  category  \n",
       "16                                     17.171237   float16  \n",
       "51                                     69.303590  category  \n",
       "24                                     41.004382  category  \n",
       "61                                     29.233223  category  \n",
       "60                                     38.893410  category  \n",
       "64                                     44.325557  category  \n",
       "63                                     35.541445     int16  \n",
       "65                                     99.945480      int8  \n",
       "78                                     96.192909      int8  \n",
       "58                                     15.845269     int32  \n",
       "66                                     88.299187  category  \n",
       "67                                     52.991067  category  \n",
       "77                                     87.445686      int8  \n",
       "70                                     93.657960  category  \n",
       "74                                     51.397710      int8  \n",
       "59                                     38.894778  category  \n",
       "0                                       0.000011  category  \n",
       "57                                     44.935141     int16  \n",
       "20                                     96.761323  category  \n",
       "2                                      43.098967  category  \n",
       "3                                      57.605042  category  \n",
       "4                                       1.146861  category  \n",
       "5                                      99.999249      int8  \n",
       "7                                      98.266622      int8  \n",
       "12                                     98.797106      int8  \n",
       "13                                      4.451861     int16  \n",
       "17                                     23.477991      int8  \n",
       "18                                     96.606304  category  \n",
       "19                                     90.853001  category  \n",
       "21                                     43.888679     int16  \n",
       "56                                     44.938246  category  \n",
       "22                                     62.328886     int16  \n",
       "23                                     43.888735  category  \n",
       "25                                     61.809690  category  \n",
       "27                                     99.997108      int8  \n",
       "34                                     64.152103  category  \n",
       "35                                     99.838256  category  \n",
       "1                                      98.935569  category  \n",
       "45                                     92.281272      int8  \n",
       "54                                     15.845202  category  \n",
       "55                                     90.858045  category  \n",
       "82                                     50.020731      int8  "
      ]
     },
     "execution_count": 25,
     "metadata": {},
     "output_type": "execute_result"
    }
   ],
   "source": [
    "stats_df.sort_values('Percentage of missing values', ascending=False)"
   ]
  },
  {
   "cell_type": "code",
   "execution_count": 26,
   "metadata": {
    "ExecuteTime": {
     "end_time": "2019-02-09T11:26:44.414251Z",
     "start_time": "2019-02-09T11:26:31.200171Z"
    }
   },
   "outputs": [
    {
     "name": "stdout",
     "output_type": "stream",
     "text": [
      "Wall time: 13.2 s\n"
     ]
    }
   ],
   "source": [
    "%%time\n",
    "good_cols = list(train.columns)\n",
    "for col in train.columns:\n",
    "    rate = train[col].value_counts(normalize=True, dropna=False).values[0]\n",
    "    if rate > 0.9:\n",
    "        good_cols.remove(col)"
   ]
  },
  {
   "cell_type": "code",
   "execution_count": 27,
   "metadata": {
    "ExecuteTime": {
     "end_time": "2019-02-09T11:26:47.891000Z",
     "start_time": "2019-02-09T11:26:47.169970Z"
    }
   },
   "outputs": [],
   "source": [
    "train = train[good_cols]"
   ]
  },
  {
   "cell_type": "code",
   "execution_count": 29,
   "metadata": {
    "ExecuteTime": {
     "end_time": "2019-02-09T11:30:53.177150Z",
     "start_time": "2019-02-09T11:29:23.168414Z"
    }
   },
   "outputs": [
    {
     "name": "stdout",
     "output_type": "stream",
     "text": [
      "Wall time: 1min 29s\n"
     ]
    }
   ],
   "source": [
    "%%time\n",
    "test_dtypes = {k: v for k, v in dtypes.items() if k in good_cols}\n",
    "test = pd.read_csv('./data/test.csv', dtype=test_dtypes, usecols=good_cols[:-1])\n",
    "test.loc[6529507, 'OsBuildLab'] = '17134.1.amd64fre.rs4_release.180410-1804'"
   ]
  },
  {
   "cell_type": "markdown",
   "metadata": {},
   "source": [
    "## Data Exploration"
   ]
  },
  {
   "cell_type": "code",
   "execution_count": 30,
   "metadata": {
    "ExecuteTime": {
     "end_time": "2019-02-09T11:32:03.047311Z",
     "start_time": "2019-02-09T11:32:03.001425Z"
    }
   },
   "outputs": [
    {
     "data": {
      "text/html": [
       "<div>\n",
       "<style scoped>\n",
       "    .dataframe tbody tr th:only-of-type {\n",
       "        vertical-align: middle;\n",
       "    }\n",
       "\n",
       "    .dataframe tbody tr th {\n",
       "        vertical-align: top;\n",
       "    }\n",
       "\n",
       "    .dataframe thead th {\n",
       "        text-align: right;\n",
       "    }\n",
       "</style>\n",
       "<table border=\"1\" class=\"dataframe\">\n",
       "  <thead>\n",
       "    <tr style=\"text-align: right;\">\n",
       "      <th></th>\n",
       "      <th>MachineIdentifier</th>\n",
       "      <th>EngineVersion</th>\n",
       "      <th>AppVersion</th>\n",
       "      <th>AvSigVersion</th>\n",
       "      <th>AVProductStatesIdentifier</th>\n",
       "      <th>AVProductsInstalled</th>\n",
       "      <th>CountryIdentifier</th>\n",
       "      <th>CityIdentifier</th>\n",
       "      <th>OrganizationIdentifier</th>\n",
       "      <th>GeoNameIdentifier</th>\n",
       "      <th>LocaleEnglishNameIdentifier</th>\n",
       "      <th>OsBuild</th>\n",
       "      <th>OsSuite</th>\n",
       "      <th>OsPlatformSubRelease</th>\n",
       "      <th>OsBuildLab</th>\n",
       "      <th>SkuEdition</th>\n",
       "      <th>IeVerIdentifier</th>\n",
       "      <th>SmartScreen</th>\n",
       "      <th>Census_MDC2FormFactor</th>\n",
       "      <th>Census_OEMNameIdentifier</th>\n",
       "      <th>Census_OEMModelIdentifier</th>\n",
       "      <th>Census_ProcessorCoreCount</th>\n",
       "      <th>Census_ProcessorManufacturerIdentifier</th>\n",
       "      <th>Census_ProcessorModelIdentifier</th>\n",
       "      <th>Census_PrimaryDiskTotalCapacity</th>\n",
       "      <th>Census_PrimaryDiskTypeName</th>\n",
       "      <th>Census_SystemVolumeTotalCapacity</th>\n",
       "      <th>Census_TotalPhysicalRAM</th>\n",
       "      <th>Census_ChassisTypeName</th>\n",
       "      <th>Census_InternalPrimaryDiagonalDisplaySizeInInches</th>\n",
       "      <th>Census_InternalPrimaryDisplayResolutionHorizontal</th>\n",
       "      <th>Census_InternalPrimaryDisplayResolutionVertical</th>\n",
       "      <th>Census_PowerPlatformRoleName</th>\n",
       "      <th>Census_InternalBatteryType</th>\n",
       "      <th>Census_InternalBatteryNumberOfCharges</th>\n",
       "      <th>Census_OSVersion</th>\n",
       "      <th>Census_OSBranch</th>\n",
       "      <th>Census_OSBuildNumber</th>\n",
       "      <th>Census_OSBuildRevision</th>\n",
       "      <th>Census_OSEdition</th>\n",
       "      <th>Census_OSSkuName</th>\n",
       "      <th>Census_OSInstallTypeName</th>\n",
       "      <th>Census_OSInstallLanguageIdentifier</th>\n",
       "      <th>Census_OSUILocaleIdentifier</th>\n",
       "      <th>Census_OSWUAutoUpdateOptionsName</th>\n",
       "      <th>Census_GenuineStateName</th>\n",
       "      <th>Census_ActivationChannel</th>\n",
       "      <th>Census_IsFlightingInternal</th>\n",
       "      <th>Census_ThresholdOptIn</th>\n",
       "      <th>Census_FirmwareManufacturerIdentifier</th>\n",
       "      <th>Census_FirmwareVersionIdentifier</th>\n",
       "      <th>Census_IsSecureBootEnabled</th>\n",
       "      <th>Census_IsWIMBootEnabled</th>\n",
       "      <th>Census_IsTouchEnabled</th>\n",
       "      <th>Wdft_IsGamer</th>\n",
       "      <th>Wdft_RegionIdentifier</th>\n",
       "      <th>HasDetections</th>\n",
       "    </tr>\n",
       "  </thead>\n",
       "  <tbody>\n",
       "    <tr>\n",
       "      <th>0</th>\n",
       "      <td>0000028988387b115f69f31a3bf04f09</td>\n",
       "      <td>1.1.15100.1</td>\n",
       "      <td>4.18.1807.18075</td>\n",
       "      <td>1.273.1735.0</td>\n",
       "      <td>53447.0</td>\n",
       "      <td>1.0</td>\n",
       "      <td>29</td>\n",
       "      <td>128035.0</td>\n",
       "      <td>18.0</td>\n",
       "      <td>35.0</td>\n",
       "      <td>-85</td>\n",
       "      <td>17134</td>\n",
       "      <td>256</td>\n",
       "      <td>rs4</td>\n",
       "      <td>17134.1.amd64fre.rs4_release.180410-1804</td>\n",
       "      <td>Pro</td>\n",
       "      <td>137.0</td>\n",
       "      <td>NaN</td>\n",
       "      <td>Desktop</td>\n",
       "      <td>2668.0</td>\n",
       "      <td>9124.0</td>\n",
       "      <td>4.0</td>\n",
       "      <td>5.0</td>\n",
       "      <td>2340.0</td>\n",
       "      <td>476940.0</td>\n",
       "      <td>HDD</td>\n",
       "      <td>299451.0</td>\n",
       "      <td>4096.0</td>\n",
       "      <td>Desktop</td>\n",
       "      <td>18.906250</td>\n",
       "      <td>1440.0</td>\n",
       "      <td>900.0</td>\n",
       "      <td>Desktop</td>\n",
       "      <td>NaN</td>\n",
       "      <td>4.294967e+09</td>\n",
       "      <td>10.0.17134.165</td>\n",
       "      <td>rs4_release</td>\n",
       "      <td>17134</td>\n",
       "      <td>165</td>\n",
       "      <td>Professional</td>\n",
       "      <td>PROFESSIONAL</td>\n",
       "      <td>UUPUpgrade</td>\n",
       "      <td>26.0</td>\n",
       "      <td>119</td>\n",
       "      <td>UNKNOWN</td>\n",
       "      <td>IS_GENUINE</td>\n",
       "      <td>Retail</td>\n",
       "      <td>NaN</td>\n",
       "      <td>NaN</td>\n",
       "      <td>628.0</td>\n",
       "      <td>36144.0</td>\n",
       "      <td>0</td>\n",
       "      <td>NaN</td>\n",
       "      <td>0</td>\n",
       "      <td>0.0</td>\n",
       "      <td>10.0</td>\n",
       "      <td>0</td>\n",
       "    </tr>\n",
       "    <tr>\n",
       "      <th>1</th>\n",
       "      <td>000007535c3f730efa9ea0b7ef1bd645</td>\n",
       "      <td>1.1.14600.4</td>\n",
       "      <td>4.13.17134.1</td>\n",
       "      <td>1.263.48.0</td>\n",
       "      <td>53447.0</td>\n",
       "      <td>1.0</td>\n",
       "      <td>93</td>\n",
       "      <td>1482.0</td>\n",
       "      <td>18.0</td>\n",
       "      <td>119.0</td>\n",
       "      <td>64</td>\n",
       "      <td>17134</td>\n",
       "      <td>256</td>\n",
       "      <td>rs4</td>\n",
       "      <td>17134.1.amd64fre.rs4_release.180410-1804</td>\n",
       "      <td>Pro</td>\n",
       "      <td>137.0</td>\n",
       "      <td>NaN</td>\n",
       "      <td>Notebook</td>\n",
       "      <td>2668.0</td>\n",
       "      <td>91656.0</td>\n",
       "      <td>4.0</td>\n",
       "      <td>5.0</td>\n",
       "      <td>2404.0</td>\n",
       "      <td>476940.0</td>\n",
       "      <td>HDD</td>\n",
       "      <td>102385.0</td>\n",
       "      <td>4096.0</td>\n",
       "      <td>Notebook</td>\n",
       "      <td>13.898438</td>\n",
       "      <td>1366.0</td>\n",
       "      <td>768.0</td>\n",
       "      <td>Mobile</td>\n",
       "      <td>NaN</td>\n",
       "      <td>1.000000e+00</td>\n",
       "      <td>10.0.17134.1</td>\n",
       "      <td>rs4_release</td>\n",
       "      <td>17134</td>\n",
       "      <td>1</td>\n",
       "      <td>Professional</td>\n",
       "      <td>PROFESSIONAL</td>\n",
       "      <td>IBSClean</td>\n",
       "      <td>8.0</td>\n",
       "      <td>31</td>\n",
       "      <td>UNKNOWN</td>\n",
       "      <td>OFFLINE</td>\n",
       "      <td>Retail</td>\n",
       "      <td>NaN</td>\n",
       "      <td>NaN</td>\n",
       "      <td>628.0</td>\n",
       "      <td>57858.0</td>\n",
       "      <td>0</td>\n",
       "      <td>NaN</td>\n",
       "      <td>0</td>\n",
       "      <td>0.0</td>\n",
       "      <td>8.0</td>\n",
       "      <td>0</td>\n",
       "    </tr>\n",
       "    <tr>\n",
       "      <th>2</th>\n",
       "      <td>000007905a28d863f6d0d597892cd692</td>\n",
       "      <td>1.1.15100.1</td>\n",
       "      <td>4.18.1807.18075</td>\n",
       "      <td>1.273.1341.0</td>\n",
       "      <td>53447.0</td>\n",
       "      <td>1.0</td>\n",
       "      <td>86</td>\n",
       "      <td>153579.0</td>\n",
       "      <td>18.0</td>\n",
       "      <td>64.0</td>\n",
       "      <td>49</td>\n",
       "      <td>17134</td>\n",
       "      <td>768</td>\n",
       "      <td>rs4</td>\n",
       "      <td>17134.1.amd64fre.rs4_release.180410-1804</td>\n",
       "      <td>Home</td>\n",
       "      <td>137.0</td>\n",
       "      <td>RequireAdmin</td>\n",
       "      <td>Desktop</td>\n",
       "      <td>4908.0</td>\n",
       "      <td>317701.0</td>\n",
       "      <td>4.0</td>\n",
       "      <td>5.0</td>\n",
       "      <td>1972.0</td>\n",
       "      <td>114473.0</td>\n",
       "      <td>SSD</td>\n",
       "      <td>113907.0</td>\n",
       "      <td>4096.0</td>\n",
       "      <td>Desktop</td>\n",
       "      <td>21.500000</td>\n",
       "      <td>1920.0</td>\n",
       "      <td>1080.0</td>\n",
       "      <td>Desktop</td>\n",
       "      <td>NaN</td>\n",
       "      <td>4.294967e+09</td>\n",
       "      <td>10.0.17134.165</td>\n",
       "      <td>rs4_release</td>\n",
       "      <td>17134</td>\n",
       "      <td>165</td>\n",
       "      <td>Core</td>\n",
       "      <td>CORE</td>\n",
       "      <td>UUPUpgrade</td>\n",
       "      <td>7.0</td>\n",
       "      <td>30</td>\n",
       "      <td>FullAuto</td>\n",
       "      <td>IS_GENUINE</td>\n",
       "      <td>OEM:NONSLP</td>\n",
       "      <td>NaN</td>\n",
       "      <td>NaN</td>\n",
       "      <td>142.0</td>\n",
       "      <td>52682.0</td>\n",
       "      <td>0</td>\n",
       "      <td>NaN</td>\n",
       "      <td>0</td>\n",
       "      <td>0.0</td>\n",
       "      <td>3.0</td>\n",
       "      <td>0</td>\n",
       "    </tr>\n",
       "    <tr>\n",
       "      <th>3</th>\n",
       "      <td>00000b11598a75ea8ba1beea8459149f</td>\n",
       "      <td>1.1.15100.1</td>\n",
       "      <td>4.18.1807.18075</td>\n",
       "      <td>1.273.1527.0</td>\n",
       "      <td>53447.0</td>\n",
       "      <td>1.0</td>\n",
       "      <td>88</td>\n",
       "      <td>20710.0</td>\n",
       "      <td>NaN</td>\n",
       "      <td>117.0</td>\n",
       "      <td>115</td>\n",
       "      <td>17134</td>\n",
       "      <td>256</td>\n",
       "      <td>rs4</td>\n",
       "      <td>17134.1.amd64fre.rs4_release.180410-1804</td>\n",
       "      <td>Pro</td>\n",
       "      <td>137.0</td>\n",
       "      <td>ExistsNotSet</td>\n",
       "      <td>Desktop</td>\n",
       "      <td>1443.0</td>\n",
       "      <td>275890.0</td>\n",
       "      <td>4.0</td>\n",
       "      <td>5.0</td>\n",
       "      <td>2272.0</td>\n",
       "      <td>238475.0</td>\n",
       "      <td>UNKNOWN</td>\n",
       "      <td>227116.0</td>\n",
       "      <td>4096.0</td>\n",
       "      <td>MiniTower</td>\n",
       "      <td>18.500000</td>\n",
       "      <td>1366.0</td>\n",
       "      <td>768.0</td>\n",
       "      <td>Desktop</td>\n",
       "      <td>NaN</td>\n",
       "      <td>4.294967e+09</td>\n",
       "      <td>10.0.17134.228</td>\n",
       "      <td>rs4_release</td>\n",
       "      <td>17134</td>\n",
       "      <td>228</td>\n",
       "      <td>Professional</td>\n",
       "      <td>PROFESSIONAL</td>\n",
       "      <td>UUPUpgrade</td>\n",
       "      <td>17.0</td>\n",
       "      <td>64</td>\n",
       "      <td>FullAuto</td>\n",
       "      <td>IS_GENUINE</td>\n",
       "      <td>OEM:NONSLP</td>\n",
       "      <td>NaN</td>\n",
       "      <td>NaN</td>\n",
       "      <td>355.0</td>\n",
       "      <td>20050.0</td>\n",
       "      <td>0</td>\n",
       "      <td>NaN</td>\n",
       "      <td>0</td>\n",
       "      <td>0.0</td>\n",
       "      <td>3.0</td>\n",
       "      <td>1</td>\n",
       "    </tr>\n",
       "    <tr>\n",
       "      <th>4</th>\n",
       "      <td>000014a5f00daa18e76b81417eeb99fc</td>\n",
       "      <td>1.1.15100.1</td>\n",
       "      <td>4.18.1807.18075</td>\n",
       "      <td>1.273.1379.0</td>\n",
       "      <td>53447.0</td>\n",
       "      <td>1.0</td>\n",
       "      <td>18</td>\n",
       "      <td>37376.0</td>\n",
       "      <td>NaN</td>\n",
       "      <td>277.0</td>\n",
       "      <td>75</td>\n",
       "      <td>17134</td>\n",
       "      <td>768</td>\n",
       "      <td>rs4</td>\n",
       "      <td>17134.1.amd64fre.rs4_release.180410-1804</td>\n",
       "      <td>Home</td>\n",
       "      <td>137.0</td>\n",
       "      <td>RequireAdmin</td>\n",
       "      <td>Notebook</td>\n",
       "      <td>1443.0</td>\n",
       "      <td>331929.0</td>\n",
       "      <td>4.0</td>\n",
       "      <td>5.0</td>\n",
       "      <td>2500.0</td>\n",
       "      <td>476940.0</td>\n",
       "      <td>HDD</td>\n",
       "      <td>101900.0</td>\n",
       "      <td>6144.0</td>\n",
       "      <td>Portable</td>\n",
       "      <td>14.000000</td>\n",
       "      <td>1366.0</td>\n",
       "      <td>768.0</td>\n",
       "      <td>Mobile</td>\n",
       "      <td>lion</td>\n",
       "      <td>0.000000e+00</td>\n",
       "      <td>10.0.17134.191</td>\n",
       "      <td>rs4_release</td>\n",
       "      <td>17134</td>\n",
       "      <td>191</td>\n",
       "      <td>Core</td>\n",
       "      <td>CORE</td>\n",
       "      <td>Update</td>\n",
       "      <td>8.0</td>\n",
       "      <td>31</td>\n",
       "      <td>FullAuto</td>\n",
       "      <td>IS_GENUINE</td>\n",
       "      <td>Retail</td>\n",
       "      <td>0.0</td>\n",
       "      <td>0.0</td>\n",
       "      <td>355.0</td>\n",
       "      <td>19844.0</td>\n",
       "      <td>0</td>\n",
       "      <td>0.0</td>\n",
       "      <td>0</td>\n",
       "      <td>0.0</td>\n",
       "      <td>1.0</td>\n",
       "      <td>1</td>\n",
       "    </tr>\n",
       "  </tbody>\n",
       "</table>\n",
       "</div>"
      ],
      "text/plain": [
       "                  MachineIdentifier EngineVersion       AppVersion  \\\n",
       "0  0000028988387b115f69f31a3bf04f09   1.1.15100.1  4.18.1807.18075   \n",
       "1  000007535c3f730efa9ea0b7ef1bd645   1.1.14600.4     4.13.17134.1   \n",
       "2  000007905a28d863f6d0d597892cd692   1.1.15100.1  4.18.1807.18075   \n",
       "3  00000b11598a75ea8ba1beea8459149f   1.1.15100.1  4.18.1807.18075   \n",
       "4  000014a5f00daa18e76b81417eeb99fc   1.1.15100.1  4.18.1807.18075   \n",
       "\n",
       "   AvSigVersion  AVProductStatesIdentifier  AVProductsInstalled  \\\n",
       "0  1.273.1735.0                    53447.0                  1.0   \n",
       "1    1.263.48.0                    53447.0                  1.0   \n",
       "2  1.273.1341.0                    53447.0                  1.0   \n",
       "3  1.273.1527.0                    53447.0                  1.0   \n",
       "4  1.273.1379.0                    53447.0                  1.0   \n",
       "\n",
       "   CountryIdentifier  CityIdentifier  OrganizationIdentifier  \\\n",
       "0                 29        128035.0                    18.0   \n",
       "1                 93          1482.0                    18.0   \n",
       "2                 86        153579.0                    18.0   \n",
       "3                 88         20710.0                     NaN   \n",
       "4                 18         37376.0                     NaN   \n",
       "\n",
       "   GeoNameIdentifier  LocaleEnglishNameIdentifier  OsBuild  OsSuite  \\\n",
       "0               35.0                          -85    17134      256   \n",
       "1              119.0                           64    17134      256   \n",
       "2               64.0                           49    17134      768   \n",
       "3              117.0                          115    17134      256   \n",
       "4              277.0                           75    17134      768   \n",
       "\n",
       "  OsPlatformSubRelease                                OsBuildLab SkuEdition  \\\n",
       "0                  rs4  17134.1.amd64fre.rs4_release.180410-1804        Pro   \n",
       "1                  rs4  17134.1.amd64fre.rs4_release.180410-1804        Pro   \n",
       "2                  rs4  17134.1.amd64fre.rs4_release.180410-1804       Home   \n",
       "3                  rs4  17134.1.amd64fre.rs4_release.180410-1804        Pro   \n",
       "4                  rs4  17134.1.amd64fre.rs4_release.180410-1804       Home   \n",
       "\n",
       "   IeVerIdentifier   SmartScreen Census_MDC2FormFactor  \\\n",
       "0            137.0           NaN               Desktop   \n",
       "1            137.0           NaN              Notebook   \n",
       "2            137.0  RequireAdmin               Desktop   \n",
       "3            137.0  ExistsNotSet               Desktop   \n",
       "4            137.0  RequireAdmin              Notebook   \n",
       "\n",
       "   Census_OEMNameIdentifier  Census_OEMModelIdentifier  \\\n",
       "0                    2668.0                     9124.0   \n",
       "1                    2668.0                    91656.0   \n",
       "2                    4908.0                   317701.0   \n",
       "3                    1443.0                   275890.0   \n",
       "4                    1443.0                   331929.0   \n",
       "\n",
       "   Census_ProcessorCoreCount  Census_ProcessorManufacturerIdentifier  \\\n",
       "0                        4.0                                     5.0   \n",
       "1                        4.0                                     5.0   \n",
       "2                        4.0                                     5.0   \n",
       "3                        4.0                                     5.0   \n",
       "4                        4.0                                     5.0   \n",
       "\n",
       "   Census_ProcessorModelIdentifier  Census_PrimaryDiskTotalCapacity  \\\n",
       "0                           2340.0                         476940.0   \n",
       "1                           2404.0                         476940.0   \n",
       "2                           1972.0                         114473.0   \n",
       "3                           2272.0                         238475.0   \n",
       "4                           2500.0                         476940.0   \n",
       "\n",
       "  Census_PrimaryDiskTypeName  Census_SystemVolumeTotalCapacity  \\\n",
       "0                        HDD                          299451.0   \n",
       "1                        HDD                          102385.0   \n",
       "2                        SSD                          113907.0   \n",
       "3                    UNKNOWN                          227116.0   \n",
       "4                        HDD                          101900.0   \n",
       "\n",
       "   Census_TotalPhysicalRAM Census_ChassisTypeName  \\\n",
       "0                   4096.0                Desktop   \n",
       "1                   4096.0               Notebook   \n",
       "2                   4096.0                Desktop   \n",
       "3                   4096.0              MiniTower   \n",
       "4                   6144.0               Portable   \n",
       "\n",
       "   Census_InternalPrimaryDiagonalDisplaySizeInInches  \\\n",
       "0                                          18.906250   \n",
       "1                                          13.898438   \n",
       "2                                          21.500000   \n",
       "3                                          18.500000   \n",
       "4                                          14.000000   \n",
       "\n",
       "   Census_InternalPrimaryDisplayResolutionHorizontal  \\\n",
       "0                                             1440.0   \n",
       "1                                             1366.0   \n",
       "2                                             1920.0   \n",
       "3                                             1366.0   \n",
       "4                                             1366.0   \n",
       "\n",
       "   Census_InternalPrimaryDisplayResolutionVertical  \\\n",
       "0                                            900.0   \n",
       "1                                            768.0   \n",
       "2                                           1080.0   \n",
       "3                                            768.0   \n",
       "4                                            768.0   \n",
       "\n",
       "  Census_PowerPlatformRoleName Census_InternalBatteryType  \\\n",
       "0                      Desktop                        NaN   \n",
       "1                       Mobile                        NaN   \n",
       "2                      Desktop                        NaN   \n",
       "3                      Desktop                        NaN   \n",
       "4                       Mobile                       lion   \n",
       "\n",
       "   Census_InternalBatteryNumberOfCharges Census_OSVersion Census_OSBranch  \\\n",
       "0                           4.294967e+09   10.0.17134.165     rs4_release   \n",
       "1                           1.000000e+00     10.0.17134.1     rs4_release   \n",
       "2                           4.294967e+09   10.0.17134.165     rs4_release   \n",
       "3                           4.294967e+09   10.0.17134.228     rs4_release   \n",
       "4                           0.000000e+00   10.0.17134.191     rs4_release   \n",
       "\n",
       "   Census_OSBuildNumber  Census_OSBuildRevision Census_OSEdition  \\\n",
       "0                 17134                     165     Professional   \n",
       "1                 17134                       1     Professional   \n",
       "2                 17134                     165             Core   \n",
       "3                 17134                     228     Professional   \n",
       "4                 17134                     191             Core   \n",
       "\n",
       "  Census_OSSkuName Census_OSInstallTypeName  \\\n",
       "0     PROFESSIONAL               UUPUpgrade   \n",
       "1     PROFESSIONAL                 IBSClean   \n",
       "2             CORE               UUPUpgrade   \n",
       "3     PROFESSIONAL               UUPUpgrade   \n",
       "4             CORE                   Update   \n",
       "\n",
       "   Census_OSInstallLanguageIdentifier  Census_OSUILocaleIdentifier  \\\n",
       "0                                26.0                          119   \n",
       "1                                 8.0                           31   \n",
       "2                                 7.0                           30   \n",
       "3                                17.0                           64   \n",
       "4                                 8.0                           31   \n",
       "\n",
       "  Census_OSWUAutoUpdateOptionsName Census_GenuineStateName  \\\n",
       "0                          UNKNOWN              IS_GENUINE   \n",
       "1                          UNKNOWN                 OFFLINE   \n",
       "2                         FullAuto              IS_GENUINE   \n",
       "3                         FullAuto              IS_GENUINE   \n",
       "4                         FullAuto              IS_GENUINE   \n",
       "\n",
       "  Census_ActivationChannel  Census_IsFlightingInternal  Census_ThresholdOptIn  \\\n",
       "0                   Retail                         NaN                    NaN   \n",
       "1                   Retail                         NaN                    NaN   \n",
       "2               OEM:NONSLP                         NaN                    NaN   \n",
       "3               OEM:NONSLP                         NaN                    NaN   \n",
       "4                   Retail                         0.0                    0.0   \n",
       "\n",
       "   Census_FirmwareManufacturerIdentifier  Census_FirmwareVersionIdentifier  \\\n",
       "0                                  628.0                           36144.0   \n",
       "1                                  628.0                           57858.0   \n",
       "2                                  142.0                           52682.0   \n",
       "3                                  355.0                           20050.0   \n",
       "4                                  355.0                           19844.0   \n",
       "\n",
       "   Census_IsSecureBootEnabled  Census_IsWIMBootEnabled  Census_IsTouchEnabled  \\\n",
       "0                           0                      NaN                      0   \n",
       "1                           0                      NaN                      0   \n",
       "2                           0                      NaN                      0   \n",
       "3                           0                      NaN                      0   \n",
       "4                           0                      0.0                      0   \n",
       "\n",
       "   Wdft_IsGamer  Wdft_RegionIdentifier  HasDetections  \n",
       "0           0.0                   10.0              0  \n",
       "1           0.0                    8.0              0  \n",
       "2           0.0                    3.0              0  \n",
       "3           0.0                    3.0              1  \n",
       "4           0.0                    1.0              1  "
      ]
     },
     "execution_count": 30,
     "metadata": {},
     "output_type": "execute_result"
    }
   ],
   "source": [
    "train.head()"
   ]
  },
  {
   "cell_type": "code",
   "execution_count": 32,
   "metadata": {
    "ExecuteTime": {
     "end_time": "2019-02-09T11:33:42.565210Z",
     "start_time": "2019-02-09T11:33:42.544219Z"
    },
    "hide_input": true
   },
   "outputs": [],
   "source": [
    "# function to plot data\n",
    "def plot_categorical_feature(col, only_bars=False, top_n=10, by_touch=False):\n",
    "    top_n = top_n if train[col].nunique() > top_n else train[col].nunique()\n",
    "    print(f\"{col} has {train[col].nunique()} unique values and type: {train[col].dtype}.\")\n",
    "    print(train[col].value_counts(normalize=True, dropna=False).head())\n",
    "    if not by_touch:\n",
    "        if not only_bars:\n",
    "            df = train.groupby([col]).agg({'HasDetections': ['count', 'mean']})\n",
    "            df = df.sort_values(('HasDetections', 'count'), ascending=False).head(top_n).sort_index()\n",
    "            data = [go.Bar(x=df.index, y=df['HasDetections']['count'].values, name='counts'),\n",
    "                    go.Scatter(x=df.index, y=df['HasDetections']['mean'], name='Detections rate', yaxis='y2')]\n",
    "\n",
    "            layout = go.Layout(dict(title = f\"Counts of {col} by top-{top_n} categories and mean target value\",\n",
    "                                xaxis = dict(title = f'{col}',\n",
    "                                             showgrid=False,\n",
    "                                             zeroline=False,\n",
    "                                             showline=False,),\n",
    "                                yaxis = dict(title = 'Counts',\n",
    "                                             showgrid=False,\n",
    "                                             zeroline=False,\n",
    "                                             showline=False,),\n",
    "                                yaxis2=dict(title='Detections rate', overlaying='y', side='right')),\n",
    "                           legend=dict(orientation=\"v\"))\n",
    "\n",
    "        else:\n",
    "            top_cat = list(train[col].value_counts(dropna=False).index[:top_n])\n",
    "            df0 = train.loc[(train[col].isin(top_cat)) & (train['HasDetections'] == 1), col].value_counts().head(10).sort_index()\n",
    "            df1 = train.loc[(train[col].isin(top_cat)) & (train['HasDetections'] == 0), col].value_counts().head(10).sort_index()\n",
    "            data = [go.Bar(x=df0.index, y=df0.values, name='Has Detections'),\n",
    "                    go.Bar(x=df1.index, y=df1.values, name='No Detections')]\n",
    "\n",
    "            layout = go.Layout(dict(title = f\"Counts of {col} by top-{top_n} categories\",\n",
    "                                xaxis = dict(title = f'{col}',\n",
    "                                             showgrid=False,\n",
    "                                             zeroline=False,\n",
    "                                             showline=False,),\n",
    "                                yaxis = dict(title = 'Counts',\n",
    "                                             showgrid=False,\n",
    "                                             zeroline=False,\n",
    "                                             showline=False,),\n",
    "                                ),\n",
    "                           legend=dict(orientation=\"v\"), barmode='group')\n",
    "        \n",
    "        py.iplot(dict(data=data, layout=layout))\n",
    "        \n",
    "    else:\n",
    "        top_n = 10\n",
    "        top_cat = list(train[col].value_counts(dropna=False).index[:top_n])\n",
    "        df = train.loc[train[col].isin(top_cat)]\n",
    "\n",
    "        df1 = train.loc[train['Census_IsTouchEnabled'] == 1]\n",
    "        df0 = train.loc[train['Census_IsTouchEnabled'] == 0]\n",
    "\n",
    "        df0_ = df0.groupby([col]).agg({'HasDetections': ['count', 'mean']})\n",
    "        df0_ = df0_.sort_values(('HasDetections', 'count'), ascending=False).head(top_n).sort_index()\n",
    "        df1_ = df1.groupby([col]).agg({'HasDetections': ['count', 'mean']})\n",
    "        df1_ = df1_.sort_values(('HasDetections', 'count'), ascending=False).head(top_n).sort_index()\n",
    "        data1 = [go.Bar(x=df0_.index, y=df0_['HasDetections']['count'].values, name='Nontouch device counts'),\n",
    "                go.Scatter(x=df0_.index, y=df0_['HasDetections']['mean'], name='Detections rate for nontouch devices', yaxis='y2')]\n",
    "        data2 = [go.Bar(x=df1_.index, y=df1_['HasDetections']['count'].values, name='Touch device counts'),\n",
    "                go.Scatter(x=df1_.index, y=df1_['HasDetections']['mean'], name='Detections rate for touch devices', yaxis='y2')]\n",
    "\n",
    "        layout = go.Layout(dict(title = f\"Counts of {col} by top-{top_n} categories for nontouch devices\",\n",
    "                            xaxis = dict(title = f'{col}',\n",
    "                                         showgrid=False,\n",
    "                                         zeroline=False,\n",
    "                                         showline=False,\n",
    "                                         type='category'),\n",
    "                            yaxis = dict(title = 'Counts',\n",
    "                                         showgrid=False,\n",
    "                                         zeroline=False,\n",
    "                                         showline=False,),\n",
    "                                    yaxis2=dict(title='Detections rate', overlaying='y', side='right'),\n",
    "                            ),\n",
    "                       legend=dict(orientation=\"v\"), barmode='group')\n",
    "\n",
    "        py.iplot(dict(data=data1, layout=layout))\n",
    "        layout['title'] = f\"Counts of {col} by top-{top_n} categories for touch devices\"\n",
    "        py.iplot(dict(data=data2, layout=layout))"
   ]
  },
  {
   "cell_type": "markdown",
   "metadata": {},
   "source": [
    "### Target"
   ]
  },
  {
   "cell_type": "code",
   "execution_count": 31,
   "metadata": {
    "ExecuteTime": {
     "end_time": "2019-02-09T11:32:21.888474Z",
     "start_time": "2019-02-09T11:32:21.770787Z"
    }
   },
   "outputs": [
    {
     "data": {
      "text/plain": [
       "0    4462591\n",
       "1    4458892\n",
       "Name: HasDetections, dtype: int64"
      ]
     },
     "execution_count": 31,
     "metadata": {},
     "output_type": "execute_result"
    }
   ],
   "source": [
    "train['HasDetections'].value_counts()"
   ]
  },
  {
   "cell_type": "markdown",
   "metadata": {},
   "source": [
    "### Census_IsTouchEnabled"
   ]
  },
  {
   "cell_type": "code",
   "execution_count": 33,
   "metadata": {
    "ExecuteTime": {
     "end_time": "2019-02-09T11:33:51.704420Z",
     "start_time": "2019-02-09T11:33:49.804594Z"
    }
   },
   "outputs": [
    {
     "name": "stdout",
     "output_type": "stream",
     "text": [
      "Census_IsTouchEnabled has 2 unique values and type: int8.\n",
      "0    0.874457\n",
      "1    0.125543\n",
      "Name: Census_IsTouchEnabled, dtype: float64\n"
     ]
    },
    {
     "data": {
      "application/vnd.plotly.v1+json": {
       "config": {
        "linkText": "Export to plot.ly",
        "plotlyServerURL": "https://plot.ly",
        "showLink": false
       },
       "data": [
        {
         "name": "Has Detections",
         "type": "bar",
         "uid": "062f9b58-f2c9-48ed-b3e6-1560050f82bf",
         "x": [
          0,
          1
         ],
         "y": [
          3958835,
          500057
         ]
        },
        {
         "name": "No Detections",
         "type": "bar",
         "uid": "a671e3c7-702e-4b30-b0cf-83f6090675a9",
         "x": [
          0,
          1
         ],
         "y": [
          3842617,
          619974
         ]
        }
       ],
       "layout": {
        "barmode": "group",
        "legend": {
         "orientation": "v"
        },
        "title": {
         "text": "Counts of Census_IsTouchEnabled by top-2 categories"
        },
        "xaxis": {
         "showgrid": false,
         "showline": false,
         "title": {
          "text": "Census_IsTouchEnabled"
         },
         "zeroline": false
        },
        "yaxis": {
         "showgrid": false,
         "showline": false,
         "title": {
          "text": "Counts"
         },
         "zeroline": false
        }
       }
      },
      "text/html": [
       "<div id=\"67d81d3b-a256-4b6f-a7b1-6599b0c273ad\" style=\"height: 525px; width: 100%;\" class=\"plotly-graph-div\"></div><script type=\"text/javascript\">require([\"plotly\"], function(Plotly) { window.PLOTLYENV=window.PLOTLYENV || {};window.PLOTLYENV.BASE_URL=\"https://plot.ly\";Plotly.newPlot(\"67d81d3b-a256-4b6f-a7b1-6599b0c273ad\", [{\"name\": \"Has Detections\", \"x\": [0, 1], \"y\": [3958835, 500057], \"type\": \"bar\", \"uid\": \"4f96cb03-eeec-4ec8-a2f3-d1f3594bac4e\"}, {\"name\": \"No Detections\", \"x\": [0, 1], \"y\": [3842617, 619974], \"type\": \"bar\", \"uid\": \"16296b51-3c88-492b-889d-3dab760b2137\"}], {\"barmode\": \"group\", \"legend\": {\"orientation\": \"v\"}, \"title\": {\"text\": \"Counts of Census_IsTouchEnabled by top-2 categories\"}, \"xaxis\": {\"showgrid\": false, \"showline\": false, \"title\": {\"text\": \"Census_IsTouchEnabled\"}, \"zeroline\": false}, \"yaxis\": {\"showgrid\": false, \"showline\": false, \"title\": {\"text\": \"Counts\"}, \"zeroline\": false}}, {\"showLink\": false, \"linkText\": \"Export to plot.ly\", \"plotlyServerURL\": \"https://plot.ly\"})});</script><script type=\"text/javascript\">window.addEventListener(\"resize\", function(){window._Plotly.Plots.resize(document.getElementById(\"67d81d3b-a256-4b6f-a7b1-6599b0c273ad\"));});</script>"
      ],
      "text/vnd.plotly.v1+html": [
       "<div id=\"67d81d3b-a256-4b6f-a7b1-6599b0c273ad\" style=\"height: 525px; width: 100%;\" class=\"plotly-graph-div\"></div><script type=\"text/javascript\">require([\"plotly\"], function(Plotly) { window.PLOTLYENV=window.PLOTLYENV || {};window.PLOTLYENV.BASE_URL=\"https://plot.ly\";Plotly.newPlot(\"67d81d3b-a256-4b6f-a7b1-6599b0c273ad\", [{\"name\": \"Has Detections\", \"x\": [0, 1], \"y\": [3958835, 500057], \"type\": \"bar\", \"uid\": \"4f96cb03-eeec-4ec8-a2f3-d1f3594bac4e\"}, {\"name\": \"No Detections\", \"x\": [0, 1], \"y\": [3842617, 619974], \"type\": \"bar\", \"uid\": \"16296b51-3c88-492b-889d-3dab760b2137\"}], {\"barmode\": \"group\", \"legend\": {\"orientation\": \"v\"}, \"title\": {\"text\": \"Counts of Census_IsTouchEnabled by top-2 categories\"}, \"xaxis\": {\"showgrid\": false, \"showline\": false, \"title\": {\"text\": \"Census_IsTouchEnabled\"}, \"zeroline\": false}, \"yaxis\": {\"showgrid\": false, \"showline\": false, \"title\": {\"text\": \"Counts\"}, \"zeroline\": false}}, {\"showLink\": false, \"linkText\": \"Export to plot.ly\", \"plotlyServerURL\": \"https://plot.ly\"})});</script><script type=\"text/javascript\">window.addEventListener(\"resize\", function(){window._Plotly.Plots.resize(document.getElementById(\"67d81d3b-a256-4b6f-a7b1-6599b0c273ad\"));});</script>"
      ]
     },
     "metadata": {},
     "output_type": "display_data"
    }
   ],
   "source": [
    "plot_categorical_feature('Census_IsTouchEnabled', True)"
   ]
  },
  {
   "cell_type": "markdown",
   "metadata": {},
   "source": [
    "### EngineVersion"
   ]
  },
  {
   "cell_type": "code",
   "execution_count": 36,
   "metadata": {
    "ExecuteTime": {
     "end_time": "2019-02-09T11:36:59.098699Z",
     "start_time": "2019-02-09T11:36:57.529471Z"
    }
   },
   "outputs": [
    {
     "name": "stdout",
     "output_type": "stream",
     "text": [
      "EngineVersion has 70 unique values and type: category.\n",
      "1.1.15200.1    0.430990\n",
      "1.1.15100.1    0.412030\n",
      "1.1.15000.2    0.029728\n",
      "1.1.14901.4    0.023809\n",
      "1.1.14600.4    0.018000\n",
      "Name: EngineVersion, dtype: float64\n"
     ]
    },
    {
     "data": {
      "application/vnd.plotly.v1+json": {
       "config": {
        "linkText": "Export to plot.ly",
        "plotlyServerURL": "https://plot.ly",
        "showLink": false
       },
       "data": [
        {
         "name": "counts",
         "type": "bar",
         "uid": "e77d74e7-e160-45af-a06f-751b9e5adf7d",
         "x": [
          "1.1.13504.0",
          "1.1.14104.0",
          "1.1.14600.4",
          "1.1.14800.3",
          "1.1.14901.4",
          "1.1.15000.2",
          "1.1.15100.1",
          "1.1.15200.1",
          "1.1.15300.5",
          "1.1.15300.6"
         ],
         "y": [
          70645,
          93926,
          160585,
          136476,
          212408,
          265218,
          3675915,
          3845067,
          68716,
          120295
         ]
        },
        {
         "name": "Detections rate",
         "type": "scatter",
         "uid": "a09d5885-c2f4-4679-b62a-c69ae9e31653",
         "x": [
          "1.1.13504.0",
          "1.1.14104.0",
          "1.1.14600.4",
          "1.1.14800.3",
          "1.1.14901.4",
          "1.1.15000.2",
          "1.1.15100.1",
          "1.1.15200.1",
          "1.1.15300.5",
          "1.1.15300.6"
         ],
         "y": [
          0.4360818175383962,
          0.43965462172348446,
          0.43715789145935174,
          0.309746768662622,
          0.3024603593085006,
          0.34380396504008026,
          0.552692594904942,
          0.49173213366633145,
          0.5253361662494906,
          0.4924560455546781
         ],
         "yaxis": "y2"
        }
       ],
       "layout": {
        "legend": {
         "orientation": "v"
        },
        "title": {
         "text": "Counts of EngineVersion by top-10 categories and mean target value"
        },
        "xaxis": {
         "showgrid": false,
         "showline": false,
         "title": {
          "text": "EngineVersion"
         },
         "zeroline": false
        },
        "yaxis": {
         "showgrid": false,
         "showline": false,
         "title": {
          "text": "Counts"
         },
         "zeroline": false
        },
        "yaxis2": {
         "overlaying": "y",
         "side": "right",
         "title": {
          "text": "Detections rate"
         }
        }
       }
      },
      "text/html": [
       "<div id=\"29f00ee2-3f2c-49f7-9c77-446f950f72c6\" style=\"height: 525px; width: 100%;\" class=\"plotly-graph-div\"></div><script type=\"text/javascript\">require([\"plotly\"], function(Plotly) { window.PLOTLYENV=window.PLOTLYENV || {};window.PLOTLYENV.BASE_URL=\"https://plot.ly\";Plotly.newPlot(\"29f00ee2-3f2c-49f7-9c77-446f950f72c6\", [{\"name\": \"counts\", \"x\": [\"1.1.13504.0\", \"1.1.14104.0\", \"1.1.14600.4\", \"1.1.14800.3\", \"1.1.14901.4\", \"1.1.15000.2\", \"1.1.15100.1\", \"1.1.15200.1\", \"1.1.15300.5\", \"1.1.15300.6\"], \"y\": [70645, 93926, 160585, 136476, 212408, 265218, 3675915, 3845067, 68716, 120295], \"type\": \"bar\", \"uid\": \"55f02b61-0e96-41c9-80a3-032c4984b090\"}, {\"name\": \"Detections rate\", \"x\": [\"1.1.13504.0\", \"1.1.14104.0\", \"1.1.14600.4\", \"1.1.14800.3\", \"1.1.14901.4\", \"1.1.15000.2\", \"1.1.15100.1\", \"1.1.15200.1\", \"1.1.15300.5\", \"1.1.15300.6\"], \"y\": [0.4360818175383962, 0.43965462172348446, 0.43715789145935174, 0.309746768662622, 0.3024603593085006, 0.34380396504008026, 0.552692594904942, 0.49173213366633145, 0.5253361662494906, 0.4924560455546781], \"yaxis\": \"y2\", \"type\": \"scatter\", \"uid\": \"b9aef99c-8731-47e6-86a4-22ca759303b2\"}], {\"legend\": {\"orientation\": \"v\"}, \"title\": {\"text\": \"Counts of EngineVersion by top-10 categories and mean target value\"}, \"xaxis\": {\"showgrid\": false, \"showline\": false, \"title\": {\"text\": \"EngineVersion\"}, \"zeroline\": false}, \"yaxis\": {\"showgrid\": false, \"showline\": false, \"title\": {\"text\": \"Counts\"}, \"zeroline\": false}, \"yaxis2\": {\"overlaying\": \"y\", \"side\": \"right\", \"title\": {\"text\": \"Detections rate\"}}}, {\"showLink\": false, \"linkText\": \"Export to plot.ly\", \"plotlyServerURL\": \"https://plot.ly\"})});</script><script type=\"text/javascript\">window.addEventListener(\"resize\", function(){window._Plotly.Plots.resize(document.getElementById(\"29f00ee2-3f2c-49f7-9c77-446f950f72c6\"));});</script>"
      ],
      "text/vnd.plotly.v1+html": [
       "<div id=\"29f00ee2-3f2c-49f7-9c77-446f950f72c6\" style=\"height: 525px; width: 100%;\" class=\"plotly-graph-div\"></div><script type=\"text/javascript\">require([\"plotly\"], function(Plotly) { window.PLOTLYENV=window.PLOTLYENV || {};window.PLOTLYENV.BASE_URL=\"https://plot.ly\";Plotly.newPlot(\"29f00ee2-3f2c-49f7-9c77-446f950f72c6\", [{\"name\": \"counts\", \"x\": [\"1.1.13504.0\", \"1.1.14104.0\", \"1.1.14600.4\", \"1.1.14800.3\", \"1.1.14901.4\", \"1.1.15000.2\", \"1.1.15100.1\", \"1.1.15200.1\", \"1.1.15300.5\", \"1.1.15300.6\"], \"y\": [70645, 93926, 160585, 136476, 212408, 265218, 3675915, 3845067, 68716, 120295], \"type\": \"bar\", \"uid\": \"55f02b61-0e96-41c9-80a3-032c4984b090\"}, {\"name\": \"Detections rate\", \"x\": [\"1.1.13504.0\", \"1.1.14104.0\", \"1.1.14600.4\", \"1.1.14800.3\", \"1.1.14901.4\", \"1.1.15000.2\", \"1.1.15100.1\", \"1.1.15200.1\", \"1.1.15300.5\", \"1.1.15300.6\"], \"y\": [0.4360818175383962, 0.43965462172348446, 0.43715789145935174, 0.309746768662622, 0.3024603593085006, 0.34380396504008026, 0.552692594904942, 0.49173213366633145, 0.5253361662494906, 0.4924560455546781], \"yaxis\": \"y2\", \"type\": \"scatter\", \"uid\": \"b9aef99c-8731-47e6-86a4-22ca759303b2\"}], {\"legend\": {\"orientation\": \"v\"}, \"title\": {\"text\": \"Counts of EngineVersion by top-10 categories and mean target value\"}, \"xaxis\": {\"showgrid\": false, \"showline\": false, \"title\": {\"text\": \"EngineVersion\"}, \"zeroline\": false}, \"yaxis\": {\"showgrid\": false, \"showline\": false, \"title\": {\"text\": \"Counts\"}, \"zeroline\": false}, \"yaxis2\": {\"overlaying\": \"y\", \"side\": \"right\", \"title\": {\"text\": \"Detections rate\"}}}, {\"showLink\": false, \"linkText\": \"Export to plot.ly\", \"plotlyServerURL\": \"https://plot.ly\"})});</script><script type=\"text/javascript\">window.addEventListener(\"resize\", function(){window._Plotly.Plots.resize(document.getElementById(\"29f00ee2-3f2c-49f7-9c77-446f950f72c6\"));});</script>"
      ]
     },
     "metadata": {},
     "output_type": "display_data"
    }
   ],
   "source": [
    "plot_categorical_feature('EngineVersion')"
   ]
  },
  {
   "cell_type": "markdown",
   "metadata": {},
   "source": [
    "### AppVersion"
   ]
  },
  {
   "cell_type": "code",
   "execution_count": 35,
   "metadata": {
    "ExecuteTime": {
     "end_time": "2019-02-09T11:35:59.363698Z",
     "start_time": "2019-02-09T11:35:58.468498Z"
    }
   },
   "outputs": [
    {
     "name": "stdout",
     "output_type": "stream",
     "text": [
      "AppVersion has 110 unique values and type: category.\n",
      "4.18.1807.18075    0.576050\n",
      "4.18.1806.18062    0.095380\n",
      "4.12.16299.15      0.040338\n",
      "4.10.209.0         0.030539\n",
      "4.13.17134.1       0.028837\n",
      "Name: AppVersion, dtype: float64\n"
     ]
    },
    {
     "data": {
      "application/vnd.plotly.v1+json": {
       "config": {
        "linkText": "Export to plot.ly",
        "plotlyServerURL": "https://plot.ly",
        "showLink": false
       },
       "data": [
        {
         "name": "counts",
         "type": "bar",
         "uid": "8f81448b-72a3-430e-a579-8db512051c76",
         "x": [
          "4.10.209.0",
          "4.12.16299.15",
          "4.13.17134.1",
          "4.13.17134.228",
          "4.14.17639.18041",
          "4.16.17656.18052",
          "4.18.1806.18062",
          "4.18.1807.18075",
          "4.8.10240.17443",
          "4.9.10586.1106"
         ],
         "y": [
          272455,
          359871,
          257270,
          226501,
          194699,
          235032,
          850929,
          5139224,
          205480,
          203525
         ]
        },
        {
         "name": "Detections rate",
         "type": "scatter",
         "uid": "6f0ef45c-04ef-4928-a072-255534f594a5",
         "x": [
          "4.10.209.0",
          "4.12.16299.15",
          "4.13.17134.1",
          "4.13.17134.228",
          "4.14.17639.18041",
          "4.16.17656.18052",
          "4.18.1806.18062",
          "4.18.1807.18075",
          "4.8.10240.17443",
          "4.9.10586.1106"
         ],
         "y": [
          0.5018480115982455,
          0.4573222071242195,
          0.5217942239670386,
          0.42864711414077644,
          0.3169867333679166,
          0.3241048027502638,
          0.4852143950905422,
          0.5303851320744144,
          0.4863052365193693,
          0.444495762191377
         ],
         "yaxis": "y2"
        }
       ],
       "layout": {
        "legend": {
         "orientation": "v"
        },
        "title": {
         "text": "Counts of AppVersion by top-10 categories and mean target value"
        },
        "xaxis": {
         "showgrid": false,
         "showline": false,
         "title": {
          "text": "AppVersion"
         },
         "zeroline": false
        },
        "yaxis": {
         "showgrid": false,
         "showline": false,
         "title": {
          "text": "Counts"
         },
         "zeroline": false
        },
        "yaxis2": {
         "overlaying": "y",
         "side": "right",
         "title": {
          "text": "Detections rate"
         }
        }
       }
      },
      "text/html": [
       "<div id=\"2bc10e30-e28d-42f1-9c49-4749a2a5b05b\" style=\"height: 525px; width: 100%;\" class=\"plotly-graph-div\"></div><script type=\"text/javascript\">require([\"plotly\"], function(Plotly) { window.PLOTLYENV=window.PLOTLYENV || {};window.PLOTLYENV.BASE_URL=\"https://plot.ly\";Plotly.newPlot(\"2bc10e30-e28d-42f1-9c49-4749a2a5b05b\", [{\"name\": \"counts\", \"x\": [\"4.10.209.0\", \"4.12.16299.15\", \"4.13.17134.1\", \"4.13.17134.228\", \"4.14.17639.18041\", \"4.16.17656.18052\", \"4.18.1806.18062\", \"4.18.1807.18075\", \"4.8.10240.17443\", \"4.9.10586.1106\"], \"y\": [272455, 359871, 257270, 226501, 194699, 235032, 850929, 5139224, 205480, 203525], \"type\": \"bar\", \"uid\": \"78ed6d27-49cb-44b5-bccb-f3b67d49b4ee\"}, {\"name\": \"Detections rate\", \"x\": [\"4.10.209.0\", \"4.12.16299.15\", \"4.13.17134.1\", \"4.13.17134.228\", \"4.14.17639.18041\", \"4.16.17656.18052\", \"4.18.1806.18062\", \"4.18.1807.18075\", \"4.8.10240.17443\", \"4.9.10586.1106\"], \"y\": [0.5018480115982455, 0.4573222071242195, 0.5217942239670386, 0.42864711414077644, 0.3169867333679166, 0.3241048027502638, 0.4852143950905422, 0.5303851320744144, 0.4863052365193693, 0.444495762191377], \"yaxis\": \"y2\", \"type\": \"scatter\", \"uid\": \"46b7a5d4-1876-4a95-93be-e2b373829362\"}], {\"legend\": {\"orientation\": \"v\"}, \"title\": {\"text\": \"Counts of AppVersion by top-10 categories and mean target value\"}, \"xaxis\": {\"showgrid\": false, \"showline\": false, \"title\": {\"text\": \"AppVersion\"}, \"zeroline\": false}, \"yaxis\": {\"showgrid\": false, \"showline\": false, \"title\": {\"text\": \"Counts\"}, \"zeroline\": false}, \"yaxis2\": {\"overlaying\": \"y\", \"side\": \"right\", \"title\": {\"text\": \"Detections rate\"}}}, {\"showLink\": false, \"linkText\": \"Export to plot.ly\", \"plotlyServerURL\": \"https://plot.ly\"})});</script><script type=\"text/javascript\">window.addEventListener(\"resize\", function(){window._Plotly.Plots.resize(document.getElementById(\"2bc10e30-e28d-42f1-9c49-4749a2a5b05b\"));});</script>"
      ],
      "text/vnd.plotly.v1+html": [
       "<div id=\"2bc10e30-e28d-42f1-9c49-4749a2a5b05b\" style=\"height: 525px; width: 100%;\" class=\"plotly-graph-div\"></div><script type=\"text/javascript\">require([\"plotly\"], function(Plotly) { window.PLOTLYENV=window.PLOTLYENV || {};window.PLOTLYENV.BASE_URL=\"https://plot.ly\";Plotly.newPlot(\"2bc10e30-e28d-42f1-9c49-4749a2a5b05b\", [{\"name\": \"counts\", \"x\": [\"4.10.209.0\", \"4.12.16299.15\", \"4.13.17134.1\", \"4.13.17134.228\", \"4.14.17639.18041\", \"4.16.17656.18052\", \"4.18.1806.18062\", \"4.18.1807.18075\", \"4.8.10240.17443\", \"4.9.10586.1106\"], \"y\": [272455, 359871, 257270, 226501, 194699, 235032, 850929, 5139224, 205480, 203525], \"type\": \"bar\", \"uid\": \"78ed6d27-49cb-44b5-bccb-f3b67d49b4ee\"}, {\"name\": \"Detections rate\", \"x\": [\"4.10.209.0\", \"4.12.16299.15\", \"4.13.17134.1\", \"4.13.17134.228\", \"4.14.17639.18041\", \"4.16.17656.18052\", \"4.18.1806.18062\", \"4.18.1807.18075\", \"4.8.10240.17443\", \"4.9.10586.1106\"], \"y\": [0.5018480115982455, 0.4573222071242195, 0.5217942239670386, 0.42864711414077644, 0.3169867333679166, 0.3241048027502638, 0.4852143950905422, 0.5303851320744144, 0.4863052365193693, 0.444495762191377], \"yaxis\": \"y2\", \"type\": \"scatter\", \"uid\": \"46b7a5d4-1876-4a95-93be-e2b373829362\"}], {\"legend\": {\"orientation\": \"v\"}, \"title\": {\"text\": \"Counts of AppVersion by top-10 categories and mean target value\"}, \"xaxis\": {\"showgrid\": false, \"showline\": false, \"title\": {\"text\": \"AppVersion\"}, \"zeroline\": false}, \"yaxis\": {\"showgrid\": false, \"showline\": false, \"title\": {\"text\": \"Counts\"}, \"zeroline\": false}, \"yaxis2\": {\"overlaying\": \"y\", \"side\": \"right\", \"title\": {\"text\": \"Detections rate\"}}}, {\"showLink\": false, \"linkText\": \"Export to plot.ly\", \"plotlyServerURL\": \"https://plot.ly\"})});</script><script type=\"text/javascript\">window.addEventListener(\"resize\", function(){window._Plotly.Plots.resize(document.getElementById(\"2bc10e30-e28d-42f1-9c49-4749a2a5b05b\"));});</script>"
      ]
     },
     "metadata": {},
     "output_type": "display_data"
    }
   ],
   "source": [
    "plot_categorical_feature('AppVersion')\n"
   ]
  },
  {
   "cell_type": "markdown",
   "metadata": {},
   "source": [
    "### AvSigVersion"
   ]
  },
  {
   "cell_type": "code",
   "execution_count": 37,
   "metadata": {
    "ExecuteTime": {
     "end_time": "2019-02-09T11:37:26.535712Z",
     "start_time": "2019-02-09T11:37:25.768326Z"
    }
   },
   "outputs": [
    {
     "name": "stdout",
     "output_type": "stream",
     "text": [
      "AvSigVersion has 8531 unique values and type: category.\n",
      "1.273.1420.0    0.011469\n",
      "1.263.48.0      0.010987\n",
      "1.275.1140.0    0.010899\n",
      "1.275.727.0     0.010362\n",
      "1.273.371.0     0.009748\n",
      "Name: AvSigVersion, dtype: float64\n"
     ]
    },
    {
     "data": {
      "application/vnd.plotly.v1+json": {
       "config": {
        "linkText": "Export to plot.ly",
        "plotlyServerURL": "https://plot.ly",
        "showLink": false
       },
       "data": [
        {
         "name": "counts",
         "type": "bar",
         "uid": "beb6cd7f-60b7-4c82-b7fa-e5d14987e9ac",
         "x": [
          "1.251.42.0",
          "1.263.48.0",
          "1.273.1420.0",
          "1.273.1826.0",
          "1.273.371.0",
          "1.273.810.0",
          "1.275.1140.0",
          "1.275.1209.0",
          "1.275.1244.0",
          "1.275.727.0"
         ],
         "y": [
          76837,
          98024,
          102317,
          86013,
          86967,
          65895,
          97232,
          66393,
          78902,
          92448
         ]
        },
        {
         "name": "Detections rate",
         "type": "scatter",
         "uid": "574f4d3f-6202-4cd6-80f3-57d37da72e2a",
         "x": [
          "1.251.42.0",
          "1.263.48.0",
          "1.273.1420.0",
          "1.273.1826.0",
          "1.273.371.0",
          "1.273.810.0",
          "1.275.1140.0",
          "1.275.1209.0",
          "1.275.1244.0",
          "1.275.727.0"
         ],
         "y": [
          0.4487291278941135,
          0.4668958622378193,
          0.5595551081442967,
          0.5581016823038378,
          0.521749629169685,
          0.5518628120494726,
          0.4487411551752509,
          0.46265419547241426,
          0.47102735038402066,
          0.4987452405676705
         ],
         "yaxis": "y2"
        }
       ],
       "layout": {
        "legend": {
         "orientation": "v"
        },
        "title": {
         "text": "Counts of AvSigVersion by top-10 categories and mean target value"
        },
        "xaxis": {
         "showgrid": false,
         "showline": false,
         "title": {
          "text": "AvSigVersion"
         },
         "zeroline": false
        },
        "yaxis": {
         "showgrid": false,
         "showline": false,
         "title": {
          "text": "Counts"
         },
         "zeroline": false
        },
        "yaxis2": {
         "overlaying": "y",
         "side": "right",
         "title": {
          "text": "Detections rate"
         }
        }
       }
      },
      "text/html": [
       "<div id=\"1df387df-492c-4205-9a92-6200ef9afc48\" style=\"height: 525px; width: 100%;\" class=\"plotly-graph-div\"></div><script type=\"text/javascript\">require([\"plotly\"], function(Plotly) { window.PLOTLYENV=window.PLOTLYENV || {};window.PLOTLYENV.BASE_URL=\"https://plot.ly\";Plotly.newPlot(\"1df387df-492c-4205-9a92-6200ef9afc48\", [{\"name\": \"counts\", \"x\": [\"1.251.42.0\", \"1.263.48.0\", \"1.273.1420.0\", \"1.273.1826.0\", \"1.273.371.0\", \"1.273.810.0\", \"1.275.1140.0\", \"1.275.1209.0\", \"1.275.1244.0\", \"1.275.727.0\"], \"y\": [76837, 98024, 102317, 86013, 86967, 65895, 97232, 66393, 78902, 92448], \"type\": \"bar\", \"uid\": \"53c25ba0-8554-4785-b811-7a3c62909621\"}, {\"name\": \"Detections rate\", \"x\": [\"1.251.42.0\", \"1.263.48.0\", \"1.273.1420.0\", \"1.273.1826.0\", \"1.273.371.0\", \"1.273.810.0\", \"1.275.1140.0\", \"1.275.1209.0\", \"1.275.1244.0\", \"1.275.727.0\"], \"y\": [0.4487291278941135, 0.4668958622378193, 0.5595551081442967, 0.5581016823038378, 0.521749629169685, 0.5518628120494726, 0.4487411551752509, 0.46265419547241426, 0.47102735038402066, 0.4987452405676705], \"yaxis\": \"y2\", \"type\": \"scatter\", \"uid\": \"05646c82-70c7-4d96-9142-2970b27bf6d0\"}], {\"legend\": {\"orientation\": \"v\"}, \"title\": {\"text\": \"Counts of AvSigVersion by top-10 categories and mean target value\"}, \"xaxis\": {\"showgrid\": false, \"showline\": false, \"title\": {\"text\": \"AvSigVersion\"}, \"zeroline\": false}, \"yaxis\": {\"showgrid\": false, \"showline\": false, \"title\": {\"text\": \"Counts\"}, \"zeroline\": false}, \"yaxis2\": {\"overlaying\": \"y\", \"side\": \"right\", \"title\": {\"text\": \"Detections rate\"}}}, {\"showLink\": false, \"linkText\": \"Export to plot.ly\", \"plotlyServerURL\": \"https://plot.ly\"})});</script><script type=\"text/javascript\">window.addEventListener(\"resize\", function(){window._Plotly.Plots.resize(document.getElementById(\"1df387df-492c-4205-9a92-6200ef9afc48\"));});</script>"
      ],
      "text/vnd.plotly.v1+html": [
       "<div id=\"1df387df-492c-4205-9a92-6200ef9afc48\" style=\"height: 525px; width: 100%;\" class=\"plotly-graph-div\"></div><script type=\"text/javascript\">require([\"plotly\"], function(Plotly) { window.PLOTLYENV=window.PLOTLYENV || {};window.PLOTLYENV.BASE_URL=\"https://plot.ly\";Plotly.newPlot(\"1df387df-492c-4205-9a92-6200ef9afc48\", [{\"name\": \"counts\", \"x\": [\"1.251.42.0\", \"1.263.48.0\", \"1.273.1420.0\", \"1.273.1826.0\", \"1.273.371.0\", \"1.273.810.0\", \"1.275.1140.0\", \"1.275.1209.0\", \"1.275.1244.0\", \"1.275.727.0\"], \"y\": [76837, 98024, 102317, 86013, 86967, 65895, 97232, 66393, 78902, 92448], \"type\": \"bar\", \"uid\": \"53c25ba0-8554-4785-b811-7a3c62909621\"}, {\"name\": \"Detections rate\", \"x\": [\"1.251.42.0\", \"1.263.48.0\", \"1.273.1420.0\", \"1.273.1826.0\", \"1.273.371.0\", \"1.273.810.0\", \"1.275.1140.0\", \"1.275.1209.0\", \"1.275.1244.0\", \"1.275.727.0\"], \"y\": [0.4487291278941135, 0.4668958622378193, 0.5595551081442967, 0.5581016823038378, 0.521749629169685, 0.5518628120494726, 0.4487411551752509, 0.46265419547241426, 0.47102735038402066, 0.4987452405676705], \"yaxis\": \"y2\", \"type\": \"scatter\", \"uid\": \"05646c82-70c7-4d96-9142-2970b27bf6d0\"}], {\"legend\": {\"orientation\": \"v\"}, \"title\": {\"text\": \"Counts of AvSigVersion by top-10 categories and mean target value\"}, \"xaxis\": {\"showgrid\": false, \"showline\": false, \"title\": {\"text\": \"AvSigVersion\"}, \"zeroline\": false}, \"yaxis\": {\"showgrid\": false, \"showline\": false, \"title\": {\"text\": \"Counts\"}, \"zeroline\": false}, \"yaxis2\": {\"overlaying\": \"y\", \"side\": \"right\", \"title\": {\"text\": \"Detections rate\"}}}, {\"showLink\": false, \"linkText\": \"Export to plot.ly\", \"plotlyServerURL\": \"https://plot.ly\"})});</script><script type=\"text/javascript\">window.addEventListener(\"resize\", function(){window._Plotly.Plots.resize(document.getElementById(\"1df387df-492c-4205-9a92-6200ef9afc48\"));});</script>"
      ]
     },
     "metadata": {},
     "output_type": "display_data"
    }
   ],
   "source": [
    "plot_categorical_feature('AvSigVersion')"
   ]
  },
  {
   "cell_type": "markdown",
   "metadata": {},
   "source": [
    "### AVProductStatesIdentifier"
   ]
  },
  {
   "cell_type": "code",
   "execution_count": 39,
   "metadata": {
    "ExecuteTime": {
     "end_time": "2019-02-09T11:38:47.332870Z",
     "start_time": "2019-02-09T11:38:46.189719Z"
    }
   },
   "outputs": [
    {
     "name": "stdout",
     "output_type": "stream",
     "text": [
      "AVProductStatesIdentifier has 28970 unique values and type: float32.\n",
      "53447.0    0.652870\n",
      "7945.0     0.053343\n",
      "47238.0    0.036727\n",
      "62773.0    0.029901\n",
      "46413.0    0.012652\n",
      "Name: AVProductStatesIdentifier, dtype: float64\n"
     ]
    },
    {
     "data": {
      "application/vnd.plotly.v1+json": {
       "config": {
        "linkText": "Export to plot.ly",
        "plotlyServerURL": "https://plot.ly",
        "showLink": false
       },
       "data": [
        {
         "name": "Has Detections",
         "type": "bar",
         "uid": "7a6fa08e-8597-4af2-af90-68f7e1181179",
         "x": [
          7945,
          23657,
          29199,
          41571,
          46413,
          47238,
          49480,
          51954,
          53447,
          62773
         ],
         "y": [
          165771,
          41380,
          35973,
          28277,
          55708,
          152550,
          39753,
          35240,
          3240582,
          101939
         ]
        },
        {
         "name": "No Detections",
         "type": "bar",
         "uid": "2323add7-3ba2-4c77-ace1-5d191390db32",
         "x": [
          7945,
          23657,
          29199,
          41571,
          46413,
          47238,
          49480,
          51954,
          53447,
          62773
         ],
         "y": [
          310126,
          59075,
          37577,
          69382,
          57170,
          175106,
          60146,
          32376,
          2583983,
          164825
         ]
        }
       ],
       "layout": {
        "barmode": "group",
        "legend": {
         "orientation": "v"
        },
        "title": {
         "text": "Counts of AVProductStatesIdentifier by top-10 categories"
        },
        "xaxis": {
         "showgrid": false,
         "showline": false,
         "title": {
          "text": "AVProductStatesIdentifier"
         },
         "zeroline": false
        },
        "yaxis": {
         "showgrid": false,
         "showline": false,
         "title": {
          "text": "Counts"
         },
         "zeroline": false
        }
       }
      },
      "text/html": [
       "<div id=\"738f9dab-df31-4560-a7c6-3e98ec78bfb7\" style=\"height: 525px; width: 100%;\" class=\"plotly-graph-div\"></div><script type=\"text/javascript\">require([\"plotly\"], function(Plotly) { window.PLOTLYENV=window.PLOTLYENV || {};window.PLOTLYENV.BASE_URL=\"https://plot.ly\";Plotly.newPlot(\"738f9dab-df31-4560-a7c6-3e98ec78bfb7\", [{\"name\": \"Has Detections\", \"x\": [7945.0, 23657.0, 29199.0, 41571.0, 46413.0, 47238.0, 49480.0, 51954.0, 53447.0, 62773.0], \"y\": [165771, 41380, 35973, 28277, 55708, 152550, 39753, 35240, 3240582, 101939], \"type\": \"bar\", \"uid\": \"f2b5160d-6040-4030-850e-a3a8ac2ba0fd\"}, {\"name\": \"No Detections\", \"x\": [7945.0, 23657.0, 29199.0, 41571.0, 46413.0, 47238.0, 49480.0, 51954.0, 53447.0, 62773.0], \"y\": [310126, 59075, 37577, 69382, 57170, 175106, 60146, 32376, 2583983, 164825], \"type\": \"bar\", \"uid\": \"84821a16-1963-4740-8942-4d885945f18f\"}], {\"barmode\": \"group\", \"legend\": {\"orientation\": \"v\"}, \"title\": {\"text\": \"Counts of AVProductStatesIdentifier by top-10 categories\"}, \"xaxis\": {\"showgrid\": false, \"showline\": false, \"title\": {\"text\": \"AVProductStatesIdentifier\"}, \"zeroline\": false}, \"yaxis\": {\"showgrid\": false, \"showline\": false, \"title\": {\"text\": \"Counts\"}, \"zeroline\": false}}, {\"showLink\": false, \"linkText\": \"Export to plot.ly\", \"plotlyServerURL\": \"https://plot.ly\"})});</script><script type=\"text/javascript\">window.addEventListener(\"resize\", function(){window._Plotly.Plots.resize(document.getElementById(\"738f9dab-df31-4560-a7c6-3e98ec78bfb7\"));});</script>"
      ],
      "text/vnd.plotly.v1+html": [
       "<div id=\"738f9dab-df31-4560-a7c6-3e98ec78bfb7\" style=\"height: 525px; width: 100%;\" class=\"plotly-graph-div\"></div><script type=\"text/javascript\">require([\"plotly\"], function(Plotly) { window.PLOTLYENV=window.PLOTLYENV || {};window.PLOTLYENV.BASE_URL=\"https://plot.ly\";Plotly.newPlot(\"738f9dab-df31-4560-a7c6-3e98ec78bfb7\", [{\"name\": \"Has Detections\", \"x\": [7945.0, 23657.0, 29199.0, 41571.0, 46413.0, 47238.0, 49480.0, 51954.0, 53447.0, 62773.0], \"y\": [165771, 41380, 35973, 28277, 55708, 152550, 39753, 35240, 3240582, 101939], \"type\": \"bar\", \"uid\": \"f2b5160d-6040-4030-850e-a3a8ac2ba0fd\"}, {\"name\": \"No Detections\", \"x\": [7945.0, 23657.0, 29199.0, 41571.0, 46413.0, 47238.0, 49480.0, 51954.0, 53447.0, 62773.0], \"y\": [310126, 59075, 37577, 69382, 57170, 175106, 60146, 32376, 2583983, 164825], \"type\": \"bar\", \"uid\": \"84821a16-1963-4740-8942-4d885945f18f\"}], {\"barmode\": \"group\", \"legend\": {\"orientation\": \"v\"}, \"title\": {\"text\": \"Counts of AVProductStatesIdentifier by top-10 categories\"}, \"xaxis\": {\"showgrid\": false, \"showline\": false, \"title\": {\"text\": \"AVProductStatesIdentifier\"}, \"zeroline\": false}, \"yaxis\": {\"showgrid\": false, \"showline\": false, \"title\": {\"text\": \"Counts\"}, \"zeroline\": false}}, {\"showLink\": false, \"linkText\": \"Export to plot.ly\", \"plotlyServerURL\": \"https://plot.ly\"})});</script><script type=\"text/javascript\">window.addEventListener(\"resize\", function(){window._Plotly.Plots.resize(document.getElementById(\"738f9dab-df31-4560-a7c6-3e98ec78bfb7\"));});</script>"
      ]
     },
     "metadata": {},
     "output_type": "display_data"
    }
   ],
   "source": [
    "plot_categorical_feature('AVProductStatesIdentifier', True, 10)"
   ]
  },
  {
   "cell_type": "code",
   "execution_count": 40,
   "metadata": {
    "ExecuteTime": {
     "end_time": "2019-02-09T11:39:18.215783Z",
     "start_time": "2019-02-09T11:39:17.430586Z"
    }
   },
   "outputs": [],
   "source": [
    "train['AVProductStatesIdentifier'] = train['AVProductStatesIdentifier'].astype('category')\n",
    "test['AVProductStatesIdentifier'] = test['AVProductStatesIdentifier'].astype('category')"
   ]
  },
  {
   "cell_type": "markdown",
   "metadata": {},
   "source": [
    "### AVProductsInstalled"
   ]
  },
  {
   "cell_type": "code",
   "execution_count": 42,
   "metadata": {
    "ExecuteTime": {
     "end_time": "2019-02-09T11:39:33.906199Z",
     "start_time": "2019-02-09T11:39:32.703691Z"
    }
   },
   "outputs": [
    {
     "name": "stdout",
     "output_type": "stream",
     "text": [
      "AVProductsInstalled has 8 unique values and type: float16.\n",
      " 1.0    0.695949\n",
      " 2.0    0.275628\n",
      " 3.0    0.023326\n",
      "NaN     0.004060\n",
      " 4.0    0.000982\n",
      "Name: AVProductsInstalled, dtype: float64\n"
     ]
    },
    {
     "data": {
      "application/vnd.plotly.v1+json": {
       "config": {
        "linkText": "Export to plot.ly",
        "plotlyServerURL": "https://plot.ly",
        "showLink": false
       },
       "data": [
        {
         "name": "Has Detections",
         "type": "bar",
         "uid": "c23fdf4b-ca9a-4dc6-9044-346b537cf35d",
         "x": [
          1,
          2,
          3,
          4,
          5,
          6,
          7
         ],
         "y": [
          3406078,
          975996,
          60682,
          2371,
          125,
          6,
          1
         ]
        },
        {
         "name": "No Detections",
         "type": "bar",
         "uid": "1c6bca98-317e-4680-8097-de8cf09e7bcb",
         "x": [
          1,
          2,
          3,
          4,
          5,
          6
         ],
         "y": [
          2802815,
          1483012,
          147421,
          6386,
          346,
          22
         ]
        }
       ],
       "layout": {
        "barmode": "group",
        "legend": {
         "orientation": "v"
        },
        "title": {
         "text": "Counts of AVProductsInstalled by top-8 categories"
        },
        "xaxis": {
         "showgrid": false,
         "showline": false,
         "title": {
          "text": "AVProductsInstalled"
         },
         "zeroline": false
        },
        "yaxis": {
         "showgrid": false,
         "showline": false,
         "title": {
          "text": "Counts"
         },
         "zeroline": false
        }
       }
      },
      "text/html": [
       "<div id=\"06004059-93b2-4fae-8b9b-3738a65e1fac\" style=\"height: 525px; width: 100%;\" class=\"plotly-graph-div\"></div><script type=\"text/javascript\">require([\"plotly\"], function(Plotly) { window.PLOTLYENV=window.PLOTLYENV || {};window.PLOTLYENV.BASE_URL=\"https://plot.ly\";Plotly.newPlot(\"06004059-93b2-4fae-8b9b-3738a65e1fac\", [{\"name\": \"Has Detections\", \"x\": [1.0, 2.0, 3.0, 4.0, 5.0, 6.0, 7.0], \"y\": [3406078, 975996, 60682, 2371, 125, 6, 1], \"type\": \"bar\", \"uid\": \"2561dd19-7fca-42c9-b1b5-572783867b98\"}, {\"name\": \"No Detections\", \"x\": [1.0, 2.0, 3.0, 4.0, 5.0, 6.0], \"y\": [2802815, 1483012, 147421, 6386, 346, 22], \"type\": \"bar\", \"uid\": \"3192b07d-23ef-41f9-98bf-4a934baae3e0\"}], {\"barmode\": \"group\", \"legend\": {\"orientation\": \"v\"}, \"title\": {\"text\": \"Counts of AVProductsInstalled by top-8 categories\"}, \"xaxis\": {\"showgrid\": false, \"showline\": false, \"title\": {\"text\": \"AVProductsInstalled\"}, \"zeroline\": false}, \"yaxis\": {\"showgrid\": false, \"showline\": false, \"title\": {\"text\": \"Counts\"}, \"zeroline\": false}}, {\"showLink\": false, \"linkText\": \"Export to plot.ly\", \"plotlyServerURL\": \"https://plot.ly\"})});</script><script type=\"text/javascript\">window.addEventListener(\"resize\", function(){window._Plotly.Plots.resize(document.getElementById(\"06004059-93b2-4fae-8b9b-3738a65e1fac\"));});</script>"
      ],
      "text/vnd.plotly.v1+html": [
       "<div id=\"06004059-93b2-4fae-8b9b-3738a65e1fac\" style=\"height: 525px; width: 100%;\" class=\"plotly-graph-div\"></div><script type=\"text/javascript\">require([\"plotly\"], function(Plotly) { window.PLOTLYENV=window.PLOTLYENV || {};window.PLOTLYENV.BASE_URL=\"https://plot.ly\";Plotly.newPlot(\"06004059-93b2-4fae-8b9b-3738a65e1fac\", [{\"name\": \"Has Detections\", \"x\": [1.0, 2.0, 3.0, 4.0, 5.0, 6.0, 7.0], \"y\": [3406078, 975996, 60682, 2371, 125, 6, 1], \"type\": \"bar\", \"uid\": \"2561dd19-7fca-42c9-b1b5-572783867b98\"}, {\"name\": \"No Detections\", \"x\": [1.0, 2.0, 3.0, 4.0, 5.0, 6.0], \"y\": [2802815, 1483012, 147421, 6386, 346, 22], \"type\": \"bar\", \"uid\": \"3192b07d-23ef-41f9-98bf-4a934baae3e0\"}], {\"barmode\": \"group\", \"legend\": {\"orientation\": \"v\"}, \"title\": {\"text\": \"Counts of AVProductsInstalled by top-8 categories\"}, \"xaxis\": {\"showgrid\": false, \"showline\": false, \"title\": {\"text\": \"AVProductsInstalled\"}, \"zeroline\": false}, \"yaxis\": {\"showgrid\": false, \"showline\": false, \"title\": {\"text\": \"Counts\"}, \"zeroline\": false}}, {\"showLink\": false, \"linkText\": \"Export to plot.ly\", \"plotlyServerURL\": \"https://plot.ly\"})});</script><script type=\"text/javascript\">window.addEventListener(\"resize\", function(){window._Plotly.Plots.resize(document.getElementById(\"06004059-93b2-4fae-8b9b-3738a65e1fac\"));});</script>"
      ]
     },
     "metadata": {},
     "output_type": "display_data"
    }
   ],
   "source": [
    "plot_categorical_feature('AVProductsInstalled', True)"
   ]
  },
  {
   "cell_type": "code",
   "execution_count": 43,
   "metadata": {
    "ExecuteTime": {
     "end_time": "2019-02-09T11:40:24.466765Z",
     "start_time": "2019-02-09T11:40:23.790676Z"
    }
   },
   "outputs": [],
   "source": [
    "train['AVProductsInstalled'] = train['AVProductsInstalled'].astype('category')\n",
    "test['AVProductsInstalled'] = test['AVProductsInstalled'].astype('category')"
   ]
  },
  {
   "cell_type": "code",
   "execution_count": 46,
   "metadata": {
    "ExecuteTime": {
     "end_time": "2019-02-09T11:40:55.728301Z",
     "start_time": "2019-02-09T11:40:51.176185Z"
    }
   },
   "outputs": [
    {
     "name": "stdout",
     "output_type": "stream",
     "text": [
      "AVProductsInstalled has 8 unique values and type: category.\n",
      " 1.0    0.695949\n",
      " 2.0    0.275628\n",
      " 3.0    0.023326\n",
      "NaN     0.004060\n",
      " 4.0    0.000982\n",
      "Name: AVProductsInstalled, dtype: float64\n"
     ]
    },
    {
     "data": {
      "application/vnd.plotly.v1+json": {
       "config": {
        "linkText": "Export to plot.ly",
        "plotlyServerURL": "https://plot.ly",
        "showLink": false
       },
       "data": [
        {
         "name": "Nontouch device counts",
         "type": "bar",
         "uid": "5573b329-fab2-41b4-aa64-802c3d4f0c68",
         "x": [
          0,
          1,
          2,
          3,
          4,
          5,
          6,
          7
         ],
         "y": [
          1,
          5412701,
          2160603,
          186244,
          7987,
          436,
          27,
          1
         ]
        },
        {
         "name": "Detections rate for nontouch devices",
         "type": "scatter",
         "uid": "339dd2ec-3021-4565-955e-c295cc7bcd7f",
         "x": [
          0,
          1,
          2,
          3,
          4,
          5,
          6,
          7
         ],
         "y": [
          0,
          0.5594423190935542,
          0.3986183486739581,
          0.29333025493438714,
          0.27169149868536374,
          0.268348623853211,
          0.18518518518518517,
          1
         ],
         "yaxis": "y2"
        }
       ],
       "layout": {
        "barmode": "group",
        "legend": {
         "orientation": "v"
        },
        "title": {
         "text": "Counts of AVProductsInstalled by top-10 categories for nontouch devices"
        },
        "xaxis": {
         "showgrid": false,
         "showline": false,
         "title": {
          "text": "AVProductsInstalled"
         },
         "type": "category",
         "zeroline": false
        },
        "yaxis": {
         "showgrid": false,
         "showline": false,
         "title": {
          "text": "Counts"
         },
         "zeroline": false
        },
        "yaxis2": {
         "overlaying": "y",
         "side": "right",
         "title": {
          "text": "Detections rate"
         }
        }
       }
      },
      "text/html": [
       "<div id=\"a1b3b858-d128-45e4-98f3-112f97a274a8\" style=\"height: 525px; width: 100%;\" class=\"plotly-graph-div\"></div><script type=\"text/javascript\">require([\"plotly\"], function(Plotly) { window.PLOTLYENV=window.PLOTLYENV || {};window.PLOTLYENV.BASE_URL=\"https://plot.ly\";Plotly.newPlot(\"a1b3b858-d128-45e4-98f3-112f97a274a8\", [{\"name\": \"Nontouch device counts\", \"x\": [0.0, 1.0, 2.0, 3.0, 4.0, 5.0, 6.0, 7.0], \"y\": [1, 5412701, 2160603, 186244, 7987, 436, 27, 1], \"type\": \"bar\", \"uid\": \"496886b7-e9d7-4e8b-acd2-7c0e3a3c3aa1\"}, {\"name\": \"Detections rate for nontouch devices\", \"x\": [0.0, 1.0, 2.0, 3.0, 4.0, 5.0, 6.0, 7.0], \"y\": [0.0, 0.5594423190935542, 0.3986183486739581, 0.29333025493438714, 0.27169149868536374, 0.268348623853211, 0.18518518518518517, 1.0], \"yaxis\": \"y2\", \"type\": \"scatter\", \"uid\": \"f26a0c8f-51c3-4613-98ad-5b22ea6d84d3\"}], {\"barmode\": \"group\", \"legend\": {\"orientation\": \"v\"}, \"title\": {\"text\": \"Counts of AVProductsInstalled by top-10 categories for nontouch devices\"}, \"xaxis\": {\"showgrid\": false, \"showline\": false, \"title\": {\"text\": \"AVProductsInstalled\"}, \"type\": \"category\", \"zeroline\": false}, \"yaxis\": {\"showgrid\": false, \"showline\": false, \"title\": {\"text\": \"Counts\"}, \"zeroline\": false}, \"yaxis2\": {\"overlaying\": \"y\", \"side\": \"right\", \"title\": {\"text\": \"Detections rate\"}}}, {\"showLink\": false, \"linkText\": \"Export to plot.ly\", \"plotlyServerURL\": \"https://plot.ly\"})});</script><script type=\"text/javascript\">window.addEventListener(\"resize\", function(){window._Plotly.Plots.resize(document.getElementById(\"a1b3b858-d128-45e4-98f3-112f97a274a8\"));});</script>"
      ],
      "text/vnd.plotly.v1+html": [
       "<div id=\"a1b3b858-d128-45e4-98f3-112f97a274a8\" style=\"height: 525px; width: 100%;\" class=\"plotly-graph-div\"></div><script type=\"text/javascript\">require([\"plotly\"], function(Plotly) { window.PLOTLYENV=window.PLOTLYENV || {};window.PLOTLYENV.BASE_URL=\"https://plot.ly\";Plotly.newPlot(\"a1b3b858-d128-45e4-98f3-112f97a274a8\", [{\"name\": \"Nontouch device counts\", \"x\": [0.0, 1.0, 2.0, 3.0, 4.0, 5.0, 6.0, 7.0], \"y\": [1, 5412701, 2160603, 186244, 7987, 436, 27, 1], \"type\": \"bar\", \"uid\": \"496886b7-e9d7-4e8b-acd2-7c0e3a3c3aa1\"}, {\"name\": \"Detections rate for nontouch devices\", \"x\": [0.0, 1.0, 2.0, 3.0, 4.0, 5.0, 6.0, 7.0], \"y\": [0.0, 0.5594423190935542, 0.3986183486739581, 0.29333025493438714, 0.27169149868536374, 0.268348623853211, 0.18518518518518517, 1.0], \"yaxis\": \"y2\", \"type\": \"scatter\", \"uid\": \"f26a0c8f-51c3-4613-98ad-5b22ea6d84d3\"}], {\"barmode\": \"group\", \"legend\": {\"orientation\": \"v\"}, \"title\": {\"text\": \"Counts of AVProductsInstalled by top-10 categories for nontouch devices\"}, \"xaxis\": {\"showgrid\": false, \"showline\": false, \"title\": {\"text\": \"AVProductsInstalled\"}, \"type\": \"category\", \"zeroline\": false}, \"yaxis\": {\"showgrid\": false, \"showline\": false, \"title\": {\"text\": \"Counts\"}, \"zeroline\": false}, \"yaxis2\": {\"overlaying\": \"y\", \"side\": \"right\", \"title\": {\"text\": \"Detections rate\"}}}, {\"showLink\": false, \"linkText\": \"Export to plot.ly\", \"plotlyServerURL\": \"https://plot.ly\"})});</script><script type=\"text/javascript\">window.addEventListener(\"resize\", function(){window._Plotly.Plots.resize(document.getElementById(\"a1b3b858-d128-45e4-98f3-112f97a274a8\"));});</script>"
      ]
     },
     "metadata": {},
     "output_type": "display_data"
    },
    {
     "data": {
      "application/vnd.plotly.v1+json": {
       "config": {
        "linkText": "Export to plot.ly",
        "plotlyServerURL": "https://plot.ly",
        "showLink": false
       },
       "data": [
        {
         "name": "Touch device counts",
         "type": "bar",
         "uid": "8ec64e0e-b287-4efb-a7c0-2c1269939341",
         "x": [
          0,
          1,
          2,
          3,
          4,
          5,
          6,
          7
         ],
         "y": [
          0,
          796192,
          298405,
          21859,
          770,
          35,
          1,
          0
         ]
        },
        {
         "name": "Detections rate for touch devices",
         "type": "scatter",
         "uid": "84e88ebf-a24a-477e-b13e-c6e1f7d3c04f",
         "x": [
          0,
          1,
          2,
          3,
          4,
          5,
          6,
          7
         ],
         "y": [
          null,
          0.4747397612636148,
          0.38451098339505035,
          0.27681961663388077,
          0.261038961038961,
          0.22857142857142856,
          1,
          null
         ],
         "yaxis": "y2"
        }
       ],
       "layout": {
        "barmode": "group",
        "legend": {
         "orientation": "v"
        },
        "title": {
         "text": "Counts of AVProductsInstalled by top-10 categories for touch devices"
        },
        "xaxis": {
         "showgrid": false,
         "showline": false,
         "title": {
          "text": "AVProductsInstalled"
         },
         "type": "category",
         "zeroline": false
        },
        "yaxis": {
         "showgrid": false,
         "showline": false,
         "title": {
          "text": "Counts"
         },
         "zeroline": false
        },
        "yaxis2": {
         "overlaying": "y",
         "side": "right",
         "title": {
          "text": "Detections rate"
         }
        }
       }
      },
      "text/html": [
       "<div id=\"e51bd0ab-2c5e-4ff6-ab7c-5a753cd41abd\" style=\"height: 525px; width: 100%;\" class=\"plotly-graph-div\"></div><script type=\"text/javascript\">require([\"plotly\"], function(Plotly) { window.PLOTLYENV=window.PLOTLYENV || {};window.PLOTLYENV.BASE_URL=\"https://plot.ly\";Plotly.newPlot(\"e51bd0ab-2c5e-4ff6-ab7c-5a753cd41abd\", [{\"name\": \"Touch device counts\", \"x\": [0.0, 1.0, 2.0, 3.0, 4.0, 5.0, 6.0, 7.0], \"y\": [0, 796192, 298405, 21859, 770, 35, 1, 0], \"type\": \"bar\", \"uid\": \"25f122d8-f894-40e9-a8c7-6e684f0a62e4\"}, {\"name\": \"Detections rate for touch devices\", \"x\": [0.0, 1.0, 2.0, 3.0, 4.0, 5.0, 6.0, 7.0], \"y\": [null, 0.4747397612636148, 0.38451098339505035, 0.27681961663388077, 0.261038961038961, 0.22857142857142856, 1.0, null], \"yaxis\": \"y2\", \"type\": \"scatter\", \"uid\": \"025767a4-bb9c-4d2f-a135-2aa82fa2832f\"}], {\"barmode\": \"group\", \"legend\": {\"orientation\": \"v\"}, \"title\": {\"text\": \"Counts of AVProductsInstalled by top-10 categories for touch devices\"}, \"xaxis\": {\"showgrid\": false, \"showline\": false, \"title\": {\"text\": \"AVProductsInstalled\"}, \"type\": \"category\", \"zeroline\": false}, \"yaxis\": {\"showgrid\": false, \"showline\": false, \"title\": {\"text\": \"Counts\"}, \"zeroline\": false}, \"yaxis2\": {\"overlaying\": \"y\", \"side\": \"right\", \"title\": {\"text\": \"Detections rate\"}}}, {\"showLink\": false, \"linkText\": \"Export to plot.ly\", \"plotlyServerURL\": \"https://plot.ly\"})});</script><script type=\"text/javascript\">window.addEventListener(\"resize\", function(){window._Plotly.Plots.resize(document.getElementById(\"e51bd0ab-2c5e-4ff6-ab7c-5a753cd41abd\"));});</script>"
      ],
      "text/vnd.plotly.v1+html": [
       "<div id=\"e51bd0ab-2c5e-4ff6-ab7c-5a753cd41abd\" style=\"height: 525px; width: 100%;\" class=\"plotly-graph-div\"></div><script type=\"text/javascript\">require([\"plotly\"], function(Plotly) { window.PLOTLYENV=window.PLOTLYENV || {};window.PLOTLYENV.BASE_URL=\"https://plot.ly\";Plotly.newPlot(\"e51bd0ab-2c5e-4ff6-ab7c-5a753cd41abd\", [{\"name\": \"Touch device counts\", \"x\": [0.0, 1.0, 2.0, 3.0, 4.0, 5.0, 6.0, 7.0], \"y\": [0, 796192, 298405, 21859, 770, 35, 1, 0], \"type\": \"bar\", \"uid\": \"25f122d8-f894-40e9-a8c7-6e684f0a62e4\"}, {\"name\": \"Detections rate for touch devices\", \"x\": [0.0, 1.0, 2.0, 3.0, 4.0, 5.0, 6.0, 7.0], \"y\": [null, 0.4747397612636148, 0.38451098339505035, 0.27681961663388077, 0.261038961038961, 0.22857142857142856, 1.0, null], \"yaxis\": \"y2\", \"type\": \"scatter\", \"uid\": \"025767a4-bb9c-4d2f-a135-2aa82fa2832f\"}], {\"barmode\": \"group\", \"legend\": {\"orientation\": \"v\"}, \"title\": {\"text\": \"Counts of AVProductsInstalled by top-10 categories for touch devices\"}, \"xaxis\": {\"showgrid\": false, \"showline\": false, \"title\": {\"text\": \"AVProductsInstalled\"}, \"type\": \"category\", \"zeroline\": false}, \"yaxis\": {\"showgrid\": false, \"showline\": false, \"title\": {\"text\": \"Counts\"}, \"zeroline\": false}, \"yaxis2\": {\"overlaying\": \"y\", \"side\": \"right\", \"title\": {\"text\": \"Detections rate\"}}}, {\"showLink\": false, \"linkText\": \"Export to plot.ly\", \"plotlyServerURL\": \"https://plot.ly\"})});</script><script type=\"text/javascript\">window.addEventListener(\"resize\", function(){window._Plotly.Plots.resize(document.getElementById(\"e51bd0ab-2c5e-4ff6-ab7c-5a753cd41abd\"));});</script>"
      ]
     },
     "metadata": {},
     "output_type": "display_data"
    }
   ],
   "source": [
    "plot_categorical_feature('AVProductsInstalled', True, by_touch=True)"
   ]
  },
  {
   "cell_type": "markdown",
   "metadata": {},
   "source": [
    "### CountryIdentifier"
   ]
  },
  {
   "cell_type": "code",
   "execution_count": 47,
   "metadata": {
    "ExecuteTime": {
     "end_time": "2019-02-09T11:47:03.655438Z",
     "start_time": "2019-02-09T11:47:02.486462Z"
    }
   },
   "outputs": [
    {
     "name": "stdout",
     "output_type": "stream",
     "text": [
      "CountryIdentifier has 222 unique values and type: int16.\n",
      "43     0.044519\n",
      "29     0.039006\n",
      "141    0.037372\n",
      "93     0.031791\n",
      "171    0.031449\n",
      "Name: CountryIdentifier, dtype: float64\n"
     ]
    },
    {
     "data": {
      "application/vnd.plotly.v1+json": {
       "config": {
        "linkText": "Export to plot.ly",
        "plotlyServerURL": "https://plot.ly",
        "showLink": false
       },
       "data": [
        {
         "name": "Has Detections",
         "type": "bar",
         "uid": "bde024fa-2bb7-4e49-a745-af296b7262a6",
         "x": [
          29,
          43,
          60,
          89,
          93,
          141,
          171,
          201,
          207,
          214
         ],
         "y": [
          175846,
          203364,
          114256,
          118148,
          139601,
          173263,
          139257,
          112664,
          102423,
          116083
         ]
        },
        {
         "name": "No Detections",
         "type": "bar",
         "uid": "2d15eb25-abe1-445d-8d15-8ced91929a9f",
         "x": [
          29,
          43,
          60,
          66,
          93,
          97,
          141,
          171,
          201,
          207
         ],
         "y": [
          172145,
          193808,
          117725,
          107593,
          144024,
          100740,
          160148,
          141315,
          107958,
          109222
         ]
        }
       ],
       "layout": {
        "barmode": "group",
        "legend": {
         "orientation": "v"
        },
        "title": {
         "text": "Counts of CountryIdentifier by top-20 categories"
        },
        "xaxis": {
         "showgrid": false,
         "showline": false,
         "title": {
          "text": "CountryIdentifier"
         },
         "zeroline": false
        },
        "yaxis": {
         "showgrid": false,
         "showline": false,
         "title": {
          "text": "Counts"
         },
         "zeroline": false
        }
       }
      },
      "text/html": [
       "<div id=\"f9a06aa0-bf48-4c2e-a919-eb5bdfd9fe8a\" style=\"height: 525px; width: 100%;\" class=\"plotly-graph-div\"></div><script type=\"text/javascript\">require([\"plotly\"], function(Plotly) { window.PLOTLYENV=window.PLOTLYENV || {};window.PLOTLYENV.BASE_URL=\"https://plot.ly\";Plotly.newPlot(\"f9a06aa0-bf48-4c2e-a919-eb5bdfd9fe8a\", [{\"name\": \"Has Detections\", \"x\": [29, 43, 60, 89, 93, 141, 171, 201, 207, 214], \"y\": [175846, 203364, 114256, 118148, 139601, 173263, 139257, 112664, 102423, 116083], \"type\": \"bar\", \"uid\": \"2879b7c0-5358-428a-96d1-a563dc665d6e\"}, {\"name\": \"No Detections\", \"x\": [29, 43, 60, 66, 93, 97, 141, 171, 201, 207], \"y\": [172145, 193808, 117725, 107593, 144024, 100740, 160148, 141315, 107958, 109222], \"type\": \"bar\", \"uid\": \"ef6079ae-98ae-460a-b070-fc0f632e3133\"}], {\"barmode\": \"group\", \"legend\": {\"orientation\": \"v\"}, \"title\": {\"text\": \"Counts of CountryIdentifier by top-20 categories\"}, \"xaxis\": {\"showgrid\": false, \"showline\": false, \"title\": {\"text\": \"CountryIdentifier\"}, \"zeroline\": false}, \"yaxis\": {\"showgrid\": false, \"showline\": false, \"title\": {\"text\": \"Counts\"}, \"zeroline\": false}}, {\"showLink\": false, \"linkText\": \"Export to plot.ly\", \"plotlyServerURL\": \"https://plot.ly\"})});</script><script type=\"text/javascript\">window.addEventListener(\"resize\", function(){window._Plotly.Plots.resize(document.getElementById(\"f9a06aa0-bf48-4c2e-a919-eb5bdfd9fe8a\"));});</script>"
      ],
      "text/vnd.plotly.v1+html": [
       "<div id=\"f9a06aa0-bf48-4c2e-a919-eb5bdfd9fe8a\" style=\"height: 525px; width: 100%;\" class=\"plotly-graph-div\"></div><script type=\"text/javascript\">require([\"plotly\"], function(Plotly) { window.PLOTLYENV=window.PLOTLYENV || {};window.PLOTLYENV.BASE_URL=\"https://plot.ly\";Plotly.newPlot(\"f9a06aa0-bf48-4c2e-a919-eb5bdfd9fe8a\", [{\"name\": \"Has Detections\", \"x\": [29, 43, 60, 89, 93, 141, 171, 201, 207, 214], \"y\": [175846, 203364, 114256, 118148, 139601, 173263, 139257, 112664, 102423, 116083], \"type\": \"bar\", \"uid\": \"2879b7c0-5358-428a-96d1-a563dc665d6e\"}, {\"name\": \"No Detections\", \"x\": [29, 43, 60, 66, 93, 97, 141, 171, 201, 207], \"y\": [172145, 193808, 117725, 107593, 144024, 100740, 160148, 141315, 107958, 109222], \"type\": \"bar\", \"uid\": \"ef6079ae-98ae-460a-b070-fc0f632e3133\"}], {\"barmode\": \"group\", \"legend\": {\"orientation\": \"v\"}, \"title\": {\"text\": \"Counts of CountryIdentifier by top-20 categories\"}, \"xaxis\": {\"showgrid\": false, \"showline\": false, \"title\": {\"text\": \"CountryIdentifier\"}, \"zeroline\": false}, \"yaxis\": {\"showgrid\": false, \"showline\": false, \"title\": {\"text\": \"Counts\"}, \"zeroline\": false}}, {\"showLink\": false, \"linkText\": \"Export to plot.ly\", \"plotlyServerURL\": \"https://plot.ly\"})});</script><script type=\"text/javascript\">window.addEventListener(\"resize\", function(){window._Plotly.Plots.resize(document.getElementById(\"f9a06aa0-bf48-4c2e-a919-eb5bdfd9fe8a\"));});</script>"
      ]
     },
     "metadata": {},
     "output_type": "display_data"
    }
   ],
   "source": [
    "plot_categorical_feature('CountryIdentifier', True, 20)\n"
   ]
  },
  {
   "cell_type": "code",
   "execution_count": 48,
   "metadata": {
    "ExecuteTime": {
     "end_time": "2019-02-09T11:47:59.499957Z",
     "start_time": "2019-02-09T11:47:59.077673Z"
    }
   },
   "outputs": [],
   "source": [
    "train['CountryIdentifier'] = train['CountryIdentifier'].astype('category')\n",
    "test['CountryIdentifier'] = test['CountryIdentifier'].astype('category')"
   ]
  },
  {
   "cell_type": "markdown",
   "metadata": {},
   "source": [
    "### CityIdentifier"
   ]
  },
  {
   "cell_type": "code",
   "execution_count": 49,
   "metadata": {
    "ExecuteTime": {
     "end_time": "2019-02-09T11:48:11.250120Z",
     "start_time": "2019-02-09T11:48:09.860333Z"
    }
   },
   "outputs": [
    {
     "name": "stdout",
     "output_type": "stream",
     "text": [
      "CityIdentifier has 107366 unique values and type: float32.\n",
      "NaN          0.036475\n",
      " 130775.0    0.010627\n",
      " 16668.0     0.009503\n",
      " 82373.0     0.009338\n",
      " 10222.0     0.008050\n",
      "Name: CityIdentifier, dtype: float64\n"
     ]
    },
    {
     "data": {
      "application/vnd.plotly.v1+json": {
       "config": {
        "linkText": "Export to plot.ly",
        "plotlyServerURL": "https://plot.ly",
        "showLink": false
       },
       "data": [
        {
         "name": "Has Detections",
         "type": "bar",
         "uid": "c2961204-5259-44ef-b1f3-08fea2825c18",
         "x": [
          10222,
          16668,
          22656,
          58607,
          61668,
          66202,
          66953,
          82373,
          130775,
          143782
         ],
         "y": [
          37731,
          44472,
          31456,
          37841,
          40456,
          31582,
          32261,
          44514,
          46553,
          30401
         ]
        },
        {
         "name": "No Detections",
         "type": "bar",
         "uid": "8c8a592d-4476-4179-83d3-90bdaba2c173",
         "x": [
          10222,
          16668,
          61668,
          66202,
          82373,
          92213,
          96401,
          130775,
          136271,
          143782
         ],
         "y": [
          34083,
          40308,
          26389,
          32704,
          38798,
          30096,
          26521,
          48259,
          27247,
          34249
         ]
        }
       ],
       "layout": {
        "barmode": "group",
        "legend": {
         "orientation": "v"
        },
        "title": {
         "text": "Counts of CityIdentifier by top-20 categories"
        },
        "xaxis": {
         "showgrid": false,
         "showline": false,
         "title": {
          "text": "CityIdentifier"
         },
         "zeroline": false
        },
        "yaxis": {
         "showgrid": false,
         "showline": false,
         "title": {
          "text": "Counts"
         },
         "zeroline": false
        }
       }
      },
      "text/html": [
       "<div id=\"98364f5a-712f-47e2-8061-30b40795e1d6\" style=\"height: 525px; width: 100%;\" class=\"plotly-graph-div\"></div><script type=\"text/javascript\">require([\"plotly\"], function(Plotly) { window.PLOTLYENV=window.PLOTLYENV || {};window.PLOTLYENV.BASE_URL=\"https://plot.ly\";Plotly.newPlot(\"98364f5a-712f-47e2-8061-30b40795e1d6\", [{\"name\": \"Has Detections\", \"x\": [10222.0, 16668.0, 22656.0, 58607.0, 61668.0, 66202.0, 66953.0, 82373.0, 130775.0, 143782.0], \"y\": [37731, 44472, 31456, 37841, 40456, 31582, 32261, 44514, 46553, 30401], \"type\": \"bar\", \"uid\": \"fa3a7c15-574e-40cc-855d-a863c6d97ca6\"}, {\"name\": \"No Detections\", \"x\": [10222.0, 16668.0, 61668.0, 66202.0, 82373.0, 92213.0, 96401.0, 130775.0, 136271.0, 143782.0], \"y\": [34083, 40308, 26389, 32704, 38798, 30096, 26521, 48259, 27247, 34249], \"type\": \"bar\", \"uid\": \"0225965a-e238-47c0-9070-2aaf8f699d5a\"}], {\"barmode\": \"group\", \"legend\": {\"orientation\": \"v\"}, \"title\": {\"text\": \"Counts of CityIdentifier by top-20 categories\"}, \"xaxis\": {\"showgrid\": false, \"showline\": false, \"title\": {\"text\": \"CityIdentifier\"}, \"zeroline\": false}, \"yaxis\": {\"showgrid\": false, \"showline\": false, \"title\": {\"text\": \"Counts\"}, \"zeroline\": false}}, {\"showLink\": false, \"linkText\": \"Export to plot.ly\", \"plotlyServerURL\": \"https://plot.ly\"})});</script><script type=\"text/javascript\">window.addEventListener(\"resize\", function(){window._Plotly.Plots.resize(document.getElementById(\"98364f5a-712f-47e2-8061-30b40795e1d6\"));});</script>"
      ],
      "text/vnd.plotly.v1+html": [
       "<div id=\"98364f5a-712f-47e2-8061-30b40795e1d6\" style=\"height: 525px; width: 100%;\" class=\"plotly-graph-div\"></div><script type=\"text/javascript\">require([\"plotly\"], function(Plotly) { window.PLOTLYENV=window.PLOTLYENV || {};window.PLOTLYENV.BASE_URL=\"https://plot.ly\";Plotly.newPlot(\"98364f5a-712f-47e2-8061-30b40795e1d6\", [{\"name\": \"Has Detections\", \"x\": [10222.0, 16668.0, 22656.0, 58607.0, 61668.0, 66202.0, 66953.0, 82373.0, 130775.0, 143782.0], \"y\": [37731, 44472, 31456, 37841, 40456, 31582, 32261, 44514, 46553, 30401], \"type\": \"bar\", \"uid\": \"fa3a7c15-574e-40cc-855d-a863c6d97ca6\"}, {\"name\": \"No Detections\", \"x\": [10222.0, 16668.0, 61668.0, 66202.0, 82373.0, 92213.0, 96401.0, 130775.0, 136271.0, 143782.0], \"y\": [34083, 40308, 26389, 32704, 38798, 30096, 26521, 48259, 27247, 34249], \"type\": \"bar\", \"uid\": \"0225965a-e238-47c0-9070-2aaf8f699d5a\"}], {\"barmode\": \"group\", \"legend\": {\"orientation\": \"v\"}, \"title\": {\"text\": \"Counts of CityIdentifier by top-20 categories\"}, \"xaxis\": {\"showgrid\": false, \"showline\": false, \"title\": {\"text\": \"CityIdentifier\"}, \"zeroline\": false}, \"yaxis\": {\"showgrid\": false, \"showline\": false, \"title\": {\"text\": \"Counts\"}, \"zeroline\": false}}, {\"showLink\": false, \"linkText\": \"Export to plot.ly\", \"plotlyServerURL\": \"https://plot.ly\"})});</script><script type=\"text/javascript\">window.addEventListener(\"resize\", function(){window._Plotly.Plots.resize(document.getElementById(\"98364f5a-712f-47e2-8061-30b40795e1d6\"));});</script>"
      ]
     },
     "metadata": {},
     "output_type": "display_data"
    }
   ],
   "source": [
    "plot_categorical_feature('CityIdentifier', True, 20)\n"
   ]
  },
  {
   "cell_type": "code",
   "execution_count": 51,
   "metadata": {
    "ExecuteTime": {
     "end_time": "2019-02-09T11:48:34.534672Z",
     "start_time": "2019-02-09T11:48:33.677130Z"
    }
   },
   "outputs": [],
   "source": [
    "train['CityIdentifier'] = train['CityIdentifier'].astype('category')\n",
    "test['CityIdentifier'] = test['CityIdentifier'].astype('category')"
   ]
  },
  {
   "cell_type": "markdown",
   "metadata": {},
   "source": [
    "### OrganizationIdentifier"
   ]
  },
  {
   "cell_type": "code",
   "execution_count": 52,
   "metadata": {
    "ExecuteTime": {
     "end_time": "2019-02-09T11:48:46.702273Z",
     "start_time": "2019-02-09T11:48:45.304039Z"
    }
   },
   "outputs": [
    {
     "name": "stdout",
     "output_type": "stream",
     "text": [
      "OrganizationIdentifier has 49 unique values and type: float16.\n",
      " 27.0    0.470377\n",
      "NaN      0.308415\n",
      " 18.0    0.197745\n",
      " 48.0    0.007156\n",
      " 50.0    0.005100\n",
      "Name: OrganizationIdentifier, dtype: float64\n"
     ]
    },
    {
     "data": {
      "application/vnd.plotly.v1+json": {
       "config": {
        "linkText": "Export to plot.ly",
        "plotlyServerURL": "https://plot.ly",
        "showLink": false
       },
       "data": [
        {
         "name": "Has Detections",
         "type": "bar",
         "uid": "c2566bee-90b9-4cad-9552-b193d522961e",
         "x": [
          11,
          14,
          18,
          27,
          37,
          46,
          48,
          49,
          50
         ],
         "y": [
          10043,
          1931,
          892153,
          2088092,
          9033,
          5643,
          33211,
          6221,
          27752
         ]
        },
        {
         "name": "No Detections",
         "type": "bar",
         "uid": "c7b1e9ba-221c-4ee9-ab77-829f6c26c602",
         "x": [
          11,
          14,
          18,
          27,
          37,
          46,
          48,
          49,
          50
         ],
         "y": [
          9393,
          2782,
          872022,
          2108365,
          10365,
          5331,
          30634,
          7406,
          17750
         ]
        }
       ],
       "layout": {
        "barmode": "group",
        "legend": {
         "orientation": "v"
        },
        "title": {
         "text": "Counts of OrganizationIdentifier by top-10 categories"
        },
        "xaxis": {
         "showgrid": false,
         "showline": false,
         "title": {
          "text": "OrganizationIdentifier"
         },
         "zeroline": false
        },
        "yaxis": {
         "showgrid": false,
         "showline": false,
         "title": {
          "text": "Counts"
         },
         "zeroline": false
        }
       }
      },
      "text/html": [
       "<div id=\"6bec6e13-1bfa-4df4-87b3-d38125b21abf\" style=\"height: 525px; width: 100%;\" class=\"plotly-graph-div\"></div><script type=\"text/javascript\">require([\"plotly\"], function(Plotly) { window.PLOTLYENV=window.PLOTLYENV || {};window.PLOTLYENV.BASE_URL=\"https://plot.ly\";Plotly.newPlot(\"6bec6e13-1bfa-4df4-87b3-d38125b21abf\", [{\"name\": \"Has Detections\", \"x\": [11.0, 14.0, 18.0, 27.0, 37.0, 46.0, 48.0, 49.0, 50.0], \"y\": [10043, 1931, 892153, 2088092, 9033, 5643, 33211, 6221, 27752], \"type\": \"bar\", \"uid\": \"9fb7580b-a2ea-4ef3-a003-c3aa0d7a80c1\"}, {\"name\": \"No Detections\", \"x\": [11.0, 14.0, 18.0, 27.0, 37.0, 46.0, 48.0, 49.0, 50.0], \"y\": [9393, 2782, 872022, 2108365, 10365, 5331, 30634, 7406, 17750], \"type\": \"bar\", \"uid\": \"9be2ca7b-d174-4bf1-9667-09811eb3f69d\"}], {\"barmode\": \"group\", \"legend\": {\"orientation\": \"v\"}, \"title\": {\"text\": \"Counts of OrganizationIdentifier by top-10 categories\"}, \"xaxis\": {\"showgrid\": false, \"showline\": false, \"title\": {\"text\": \"OrganizationIdentifier\"}, \"zeroline\": false}, \"yaxis\": {\"showgrid\": false, \"showline\": false, \"title\": {\"text\": \"Counts\"}, \"zeroline\": false}}, {\"showLink\": false, \"linkText\": \"Export to plot.ly\", \"plotlyServerURL\": \"https://plot.ly\"})});</script><script type=\"text/javascript\">window.addEventListener(\"resize\", function(){window._Plotly.Plots.resize(document.getElementById(\"6bec6e13-1bfa-4df4-87b3-d38125b21abf\"));});</script>"
      ],
      "text/vnd.plotly.v1+html": [
       "<div id=\"6bec6e13-1bfa-4df4-87b3-d38125b21abf\" style=\"height: 525px; width: 100%;\" class=\"plotly-graph-div\"></div><script type=\"text/javascript\">require([\"plotly\"], function(Plotly) { window.PLOTLYENV=window.PLOTLYENV || {};window.PLOTLYENV.BASE_URL=\"https://plot.ly\";Plotly.newPlot(\"6bec6e13-1bfa-4df4-87b3-d38125b21abf\", [{\"name\": \"Has Detections\", \"x\": [11.0, 14.0, 18.0, 27.0, 37.0, 46.0, 48.0, 49.0, 50.0], \"y\": [10043, 1931, 892153, 2088092, 9033, 5643, 33211, 6221, 27752], \"type\": \"bar\", \"uid\": \"9fb7580b-a2ea-4ef3-a003-c3aa0d7a80c1\"}, {\"name\": \"No Detections\", \"x\": [11.0, 14.0, 18.0, 27.0, 37.0, 46.0, 48.0, 49.0, 50.0], \"y\": [9393, 2782, 872022, 2108365, 10365, 5331, 30634, 7406, 17750], \"type\": \"bar\", \"uid\": \"9be2ca7b-d174-4bf1-9667-09811eb3f69d\"}], {\"barmode\": \"group\", \"legend\": {\"orientation\": \"v\"}, \"title\": {\"text\": \"Counts of OrganizationIdentifier by top-10 categories\"}, \"xaxis\": {\"showgrid\": false, \"showline\": false, \"title\": {\"text\": \"OrganizationIdentifier\"}, \"zeroline\": false}, \"yaxis\": {\"showgrid\": false, \"showline\": false, \"title\": {\"text\": \"Counts\"}, \"zeroline\": false}}, {\"showLink\": false, \"linkText\": \"Export to plot.ly\", \"plotlyServerURL\": \"https://plot.ly\"})});</script><script type=\"text/javascript\">window.addEventListener(\"resize\", function(){window._Plotly.Plots.resize(document.getElementById(\"6bec6e13-1bfa-4df4-87b3-d38125b21abf\"));});</script>"
      ]
     },
     "metadata": {},
     "output_type": "display_data"
    }
   ],
   "source": [
    "plot_categorical_feature('OrganizationIdentifier', True)\n"
   ]
  },
  {
   "cell_type": "code",
   "execution_count": 53,
   "metadata": {
    "ExecuteTime": {
     "end_time": "2019-02-09T11:50:12.079871Z",
     "start_time": "2019-02-09T11:50:11.312134Z"
    }
   },
   "outputs": [],
   "source": [
    "train['OrganizationIdentifier'] = train['OrganizationIdentifier'].astype('category')\n",
    "test['OrganizationIdentifier'] = test['OrganizationIdentifier'].astype('category')"
   ]
  },
  {
   "cell_type": "code",
   "execution_count": 54,
   "metadata": {
    "ExecuteTime": {
     "end_time": "2019-02-09T11:50:22.247125Z",
     "start_time": "2019-02-09T11:50:17.667873Z"
    }
   },
   "outputs": [
    {
     "name": "stdout",
     "output_type": "stream",
     "text": [
      "OrganizationIdentifier has 49 unique values and type: category.\n",
      " 27.0    0.470377\n",
      "NaN      0.308415\n",
      " 18.0    0.197745\n",
      " 48.0    0.007156\n",
      " 50.0    0.005100\n",
      "Name: OrganizationIdentifier, dtype: float64\n"
     ]
    },
    {
     "data": {
      "application/vnd.plotly.v1+json": {
       "config": {
        "linkText": "Export to plot.ly",
        "plotlyServerURL": "https://plot.ly",
        "showLink": false
       },
       "data": [
        {
         "name": "Nontouch device counts",
         "type": "bar",
         "uid": "53733fbe-6e29-48e9-86fc-86ed7cbfc859",
         "x": [
          11,
          14,
          18,
          27,
          32,
          37,
          46,
          48,
          49,
          50
         ],
         "y": [
          16894,
          4148,
          1548608,
          3652368,
          3578,
          17288,
          9676,
          54969,
          10537,
          39911
         ]
        },
        {
         "name": "Detections rate for nontouch devices",
         "type": "scatter",
         "uid": "7aa41d91-a51c-40e1-92d2-1be75180921e",
         "x": [
          11,
          14,
          18,
          27,
          32,
          37,
          46,
          48,
          49,
          50
         ],
         "y": [
          0.5240913933941044,
          0.42020250723240116,
          0.5135334442286233,
          0.5053562510678004,
          0.5190050307434321,
          0.47530078667283665,
          0.5251136833402232,
          0.5240590150812277,
          0.4624655974186201,
          0.6160958131843352
         ],
         "yaxis": "y2"
        }
       ],
       "layout": {
        "barmode": "group",
        "legend": {
         "orientation": "v"
        },
        "title": {
         "text": "Counts of OrganizationIdentifier by top-10 categories for nontouch devices"
        },
        "xaxis": {
         "showgrid": false,
         "showline": false,
         "title": {
          "text": "OrganizationIdentifier"
         },
         "type": "category",
         "zeroline": false
        },
        "yaxis": {
         "showgrid": false,
         "showline": false,
         "title": {
          "text": "Counts"
         },
         "zeroline": false
        },
        "yaxis2": {
         "overlaying": "y",
         "side": "right",
         "title": {
          "text": "Detections rate"
         }
        }
       }
      },
      "text/html": [
       "<div id=\"d9f0a23d-b596-402b-9b5f-dfd68546ad44\" style=\"height: 525px; width: 100%;\" class=\"plotly-graph-div\"></div><script type=\"text/javascript\">require([\"plotly\"], function(Plotly) { window.PLOTLYENV=window.PLOTLYENV || {};window.PLOTLYENV.BASE_URL=\"https://plot.ly\";Plotly.newPlot(\"d9f0a23d-b596-402b-9b5f-dfd68546ad44\", [{\"name\": \"Nontouch device counts\", \"x\": [11.0, 14.0, 18.0, 27.0, 32.0, 37.0, 46.0, 48.0, 49.0, 50.0], \"y\": [16894, 4148, 1548608, 3652368, 3578, 17288, 9676, 54969, 10537, 39911], \"type\": \"bar\", \"uid\": \"69ab878e-43b6-497e-a999-dff790e5eec6\"}, {\"name\": \"Detections rate for nontouch devices\", \"x\": [11.0, 14.0, 18.0, 27.0, 32.0, 37.0, 46.0, 48.0, 49.0, 50.0], \"y\": [0.5240913933941044, 0.42020250723240116, 0.5135334442286233, 0.5053562510678004, 0.5190050307434321, 0.47530078667283665, 0.5251136833402232, 0.5240590150812277, 0.4624655974186201, 0.6160958131843352], \"yaxis\": \"y2\", \"type\": \"scatter\", \"uid\": \"901da413-3d6a-483c-81b2-64cf5f6250fd\"}], {\"barmode\": \"group\", \"legend\": {\"orientation\": \"v\"}, \"title\": {\"text\": \"Counts of OrganizationIdentifier by top-10 categories for nontouch devices\"}, \"xaxis\": {\"showgrid\": false, \"showline\": false, \"title\": {\"text\": \"OrganizationIdentifier\"}, \"type\": \"category\", \"zeroline\": false}, \"yaxis\": {\"showgrid\": false, \"showline\": false, \"title\": {\"text\": \"Counts\"}, \"zeroline\": false}, \"yaxis2\": {\"overlaying\": \"y\", \"side\": \"right\", \"title\": {\"text\": \"Detections rate\"}}}, {\"showLink\": false, \"linkText\": \"Export to plot.ly\", \"plotlyServerURL\": \"https://plot.ly\"})});</script><script type=\"text/javascript\">window.addEventListener(\"resize\", function(){window._Plotly.Plots.resize(document.getElementById(\"d9f0a23d-b596-402b-9b5f-dfd68546ad44\"));});</script>"
      ],
      "text/vnd.plotly.v1+html": [
       "<div id=\"d9f0a23d-b596-402b-9b5f-dfd68546ad44\" style=\"height: 525px; width: 100%;\" class=\"plotly-graph-div\"></div><script type=\"text/javascript\">require([\"plotly\"], function(Plotly) { window.PLOTLYENV=window.PLOTLYENV || {};window.PLOTLYENV.BASE_URL=\"https://plot.ly\";Plotly.newPlot(\"d9f0a23d-b596-402b-9b5f-dfd68546ad44\", [{\"name\": \"Nontouch device counts\", \"x\": [11.0, 14.0, 18.0, 27.0, 32.0, 37.0, 46.0, 48.0, 49.0, 50.0], \"y\": [16894, 4148, 1548608, 3652368, 3578, 17288, 9676, 54969, 10537, 39911], \"type\": \"bar\", \"uid\": \"69ab878e-43b6-497e-a999-dff790e5eec6\"}, {\"name\": \"Detections rate for nontouch devices\", \"x\": [11.0, 14.0, 18.0, 27.0, 32.0, 37.0, 46.0, 48.0, 49.0, 50.0], \"y\": [0.5240913933941044, 0.42020250723240116, 0.5135334442286233, 0.5053562510678004, 0.5190050307434321, 0.47530078667283665, 0.5251136833402232, 0.5240590150812277, 0.4624655974186201, 0.6160958131843352], \"yaxis\": \"y2\", \"type\": \"scatter\", \"uid\": \"901da413-3d6a-483c-81b2-64cf5f6250fd\"}], {\"barmode\": \"group\", \"legend\": {\"orientation\": \"v\"}, \"title\": {\"text\": \"Counts of OrganizationIdentifier by top-10 categories for nontouch devices\"}, \"xaxis\": {\"showgrid\": false, \"showline\": false, \"title\": {\"text\": \"OrganizationIdentifier\"}, \"type\": \"category\", \"zeroline\": false}, \"yaxis\": {\"showgrid\": false, \"showline\": false, \"title\": {\"text\": \"Counts\"}, \"zeroline\": false}, \"yaxis2\": {\"overlaying\": \"y\", \"side\": \"right\", \"title\": {\"text\": \"Detections rate\"}}}, {\"showLink\": false, \"linkText\": \"Export to plot.ly\", \"plotlyServerURL\": \"https://plot.ly\"})});</script><script type=\"text/javascript\">window.addEventListener(\"resize\", function(){window._Plotly.Plots.resize(document.getElementById(\"d9f0a23d-b596-402b-9b5f-dfd68546ad44\"));});</script>"
      ]
     },
     "metadata": {},
     "output_type": "display_data"
    },
    {
     "data": {
      "application/vnd.plotly.v1+json": {
       "config": {
        "linkText": "Export to plot.ly",
        "plotlyServerURL": "https://plot.ly",
        "showLink": false
       },
       "data": [
        {
         "name": "Touch device counts",
         "type": "bar",
         "uid": "4314fc87-0599-4046-b9f9-2bdb3c18d5a9",
         "x": [
          11,
          14,
          18,
          27,
          33,
          37,
          46,
          48,
          49,
          50
         ],
         "y": [
          2542,
          565,
          215567,
          544089,
          642,
          2110,
          1298,
          8876,
          3090,
          5591
         ]
        },
        {
         "name": "Detections rate for touch devices",
         "type": "scatter",
         "uid": "36d92a6c-aba9-432f-a950-34a5007758da",
         "x": [
          11,
          14,
          18,
          27,
          33,
          37,
          46,
          48,
          49,
          50
         ],
         "y": [
          0.46774193548387094,
          0.3327433628318584,
          0.4494704662587502,
          0.4454142612697555,
          0.30062305295950154,
          0.3867298578199052,
          0.43297380585516176,
          0.4961694456962596,
          0.4362459546925566,
          0.5657306385262029
         ],
         "yaxis": "y2"
        }
       ],
       "layout": {
        "barmode": "group",
        "legend": {
         "orientation": "v"
        },
        "title": {
         "text": "Counts of OrganizationIdentifier by top-10 categories for touch devices"
        },
        "xaxis": {
         "showgrid": false,
         "showline": false,
         "title": {
          "text": "OrganizationIdentifier"
         },
         "type": "category",
         "zeroline": false
        },
        "yaxis": {
         "showgrid": false,
         "showline": false,
         "title": {
          "text": "Counts"
         },
         "zeroline": false
        },
        "yaxis2": {
         "overlaying": "y",
         "side": "right",
         "title": {
          "text": "Detections rate"
         }
        }
       }
      },
      "text/html": [
       "<div id=\"e2cc18bd-c756-4366-bf9c-3e3d9cd12ca8\" style=\"height: 525px; width: 100%;\" class=\"plotly-graph-div\"></div><script type=\"text/javascript\">require([\"plotly\"], function(Plotly) { window.PLOTLYENV=window.PLOTLYENV || {};window.PLOTLYENV.BASE_URL=\"https://plot.ly\";Plotly.newPlot(\"e2cc18bd-c756-4366-bf9c-3e3d9cd12ca8\", [{\"name\": \"Touch device counts\", \"x\": [11.0, 14.0, 18.0, 27.0, 33.0, 37.0, 46.0, 48.0, 49.0, 50.0], \"y\": [2542, 565, 215567, 544089, 642, 2110, 1298, 8876, 3090, 5591], \"type\": \"bar\", \"uid\": \"5f62d361-ed69-49f3-ae0f-4dbc505ee952\"}, {\"name\": \"Detections rate for touch devices\", \"x\": [11.0, 14.0, 18.0, 27.0, 33.0, 37.0, 46.0, 48.0, 49.0, 50.0], \"y\": [0.46774193548387094, 0.3327433628318584, 0.4494704662587502, 0.4454142612697555, 0.30062305295950154, 0.3867298578199052, 0.43297380585516176, 0.4961694456962596, 0.4362459546925566, 0.5657306385262029], \"yaxis\": \"y2\", \"type\": \"scatter\", \"uid\": \"d1f89b88-4bef-4f30-aa97-8ef3c00db858\"}], {\"barmode\": \"group\", \"legend\": {\"orientation\": \"v\"}, \"title\": {\"text\": \"Counts of OrganizationIdentifier by top-10 categories for touch devices\"}, \"xaxis\": {\"showgrid\": false, \"showline\": false, \"title\": {\"text\": \"OrganizationIdentifier\"}, \"type\": \"category\", \"zeroline\": false}, \"yaxis\": {\"showgrid\": false, \"showline\": false, \"title\": {\"text\": \"Counts\"}, \"zeroline\": false}, \"yaxis2\": {\"overlaying\": \"y\", \"side\": \"right\", \"title\": {\"text\": \"Detections rate\"}}}, {\"showLink\": false, \"linkText\": \"Export to plot.ly\", \"plotlyServerURL\": \"https://plot.ly\"})});</script><script type=\"text/javascript\">window.addEventListener(\"resize\", function(){window._Plotly.Plots.resize(document.getElementById(\"e2cc18bd-c756-4366-bf9c-3e3d9cd12ca8\"));});</script>"
      ],
      "text/vnd.plotly.v1+html": [
       "<div id=\"e2cc18bd-c756-4366-bf9c-3e3d9cd12ca8\" style=\"height: 525px; width: 100%;\" class=\"plotly-graph-div\"></div><script type=\"text/javascript\">require([\"plotly\"], function(Plotly) { window.PLOTLYENV=window.PLOTLYENV || {};window.PLOTLYENV.BASE_URL=\"https://plot.ly\";Plotly.newPlot(\"e2cc18bd-c756-4366-bf9c-3e3d9cd12ca8\", [{\"name\": \"Touch device counts\", \"x\": [11.0, 14.0, 18.0, 27.0, 33.0, 37.0, 46.0, 48.0, 49.0, 50.0], \"y\": [2542, 565, 215567, 544089, 642, 2110, 1298, 8876, 3090, 5591], \"type\": \"bar\", \"uid\": \"5f62d361-ed69-49f3-ae0f-4dbc505ee952\"}, {\"name\": \"Detections rate for touch devices\", \"x\": [11.0, 14.0, 18.0, 27.0, 33.0, 37.0, 46.0, 48.0, 49.0, 50.0], \"y\": [0.46774193548387094, 0.3327433628318584, 0.4494704662587502, 0.4454142612697555, 0.30062305295950154, 0.3867298578199052, 0.43297380585516176, 0.4961694456962596, 0.4362459546925566, 0.5657306385262029], \"yaxis\": \"y2\", \"type\": \"scatter\", \"uid\": \"d1f89b88-4bef-4f30-aa97-8ef3c00db858\"}], {\"barmode\": \"group\", \"legend\": {\"orientation\": \"v\"}, \"title\": {\"text\": \"Counts of OrganizationIdentifier by top-10 categories for touch devices\"}, \"xaxis\": {\"showgrid\": false, \"showline\": false, \"title\": {\"text\": \"OrganizationIdentifier\"}, \"type\": \"category\", \"zeroline\": false}, \"yaxis\": {\"showgrid\": false, \"showline\": false, \"title\": {\"text\": \"Counts\"}, \"zeroline\": false}, \"yaxis2\": {\"overlaying\": \"y\", \"side\": \"right\", \"title\": {\"text\": \"Detections rate\"}}}, {\"showLink\": false, \"linkText\": \"Export to plot.ly\", \"plotlyServerURL\": \"https://plot.ly\"})});</script><script type=\"text/javascript\">window.addEventListener(\"resize\", function(){window._Plotly.Plots.resize(document.getElementById(\"e2cc18bd-c756-4366-bf9c-3e3d9cd12ca8\"));});</script>"
      ]
     },
     "metadata": {},
     "output_type": "display_data"
    }
   ],
   "source": [
    "plot_categorical_feature('OrganizationIdentifier', True, by_touch=True)\n"
   ]
  },
  {
   "cell_type": "markdown",
   "metadata": {},
   "source": [
    "### GeoNameIdentifier"
   ]
  },
  {
   "cell_type": "code",
   "execution_count": 55,
   "metadata": {
    "ExecuteTime": {
     "end_time": "2019-02-09T11:50:52.476429Z",
     "start_time": "2019-02-09T11:50:51.363230Z"
    }
   },
   "outputs": [
    {
     "name": "stdout",
     "output_type": "stream",
     "text": [
      "GeoNameIdentifier has 292 unique values and type: float16.\n",
      "277.0    0.171712\n",
      "211.0    0.047432\n",
      "53.0     0.045823\n",
      "89.0     0.040441\n",
      "240.0    0.038846\n",
      "Name: GeoNameIdentifier, dtype: float64\n"
     ]
    },
    {
     "data": {
      "application/vnd.plotly.v1+json": {
       "config": {
        "linkText": "Export to plot.ly",
        "plotlyServerURL": "https://plot.ly",
        "showLink": false
       },
       "data": [
        {
         "name": "Has Detections",
         "type": "bar",
         "uid": "0a7dbe0c-524a-4d37-a7f3-6be34dca8cf8",
         "x": [
          35,
          53,
          89,
          126,
          167,
          211,
          240,
          267,
          276,
          277
         ],
         "y": [
          175448,
          211714,
          170922,
          95856,
          177251,
          212070,
          172596,
          111478,
          138394,
          784129
         ]
        },
        {
         "name": "No Detections",
         "type": "bar",
         "uid": "7443ae87-01f2-4871-b649-6a1f48f710dc",
         "x": [
          35,
          53,
          89,
          126,
          167,
          211,
          240,
          267,
          276,
          277
         ],
         "y": [
          170456,
          197093,
          189876,
          102165,
          162594,
          211096,
          173972,
          104334,
          158380,
          747800
         ]
        }
       ],
       "layout": {
        "barmode": "group",
        "legend": {
         "orientation": "v"
        },
        "title": {
         "text": "Counts of GeoNameIdentifier by top-10 categories"
        },
        "xaxis": {
         "showgrid": false,
         "showline": false,
         "title": {
          "text": "GeoNameIdentifier"
         },
         "zeroline": false
        },
        "yaxis": {
         "showgrid": false,
         "showline": false,
         "title": {
          "text": "Counts"
         },
         "zeroline": false
        }
       }
      },
      "text/html": [
       "<div id=\"eafa1710-19bf-4bc9-985c-e95bd2aa4fe1\" style=\"height: 525px; width: 100%;\" class=\"plotly-graph-div\"></div><script type=\"text/javascript\">require([\"plotly\"], function(Plotly) { window.PLOTLYENV=window.PLOTLYENV || {};window.PLOTLYENV.BASE_URL=\"https://plot.ly\";Plotly.newPlot(\"eafa1710-19bf-4bc9-985c-e95bd2aa4fe1\", [{\"name\": \"Has Detections\", \"x\": [35.0, 53.0, 89.0, 126.0, 167.0, 211.0, 240.0, 267.0, 276.0, 277.0], \"y\": [175448, 211714, 170922, 95856, 177251, 212070, 172596, 111478, 138394, 784129], \"type\": \"bar\", \"uid\": \"3571147d-5e64-4944-b7e5-abb451122500\"}, {\"name\": \"No Detections\", \"x\": [35.0, 53.0, 89.0, 126.0, 167.0, 211.0, 240.0, 267.0, 276.0, 277.0], \"y\": [170456, 197093, 189876, 102165, 162594, 211096, 173972, 104334, 158380, 747800], \"type\": \"bar\", \"uid\": \"87c4afe7-c19a-4c8a-991b-a685a6d2c279\"}], {\"barmode\": \"group\", \"legend\": {\"orientation\": \"v\"}, \"title\": {\"text\": \"Counts of GeoNameIdentifier by top-10 categories\"}, \"xaxis\": {\"showgrid\": false, \"showline\": false, \"title\": {\"text\": \"GeoNameIdentifier\"}, \"zeroline\": false}, \"yaxis\": {\"showgrid\": false, \"showline\": false, \"title\": {\"text\": \"Counts\"}, \"zeroline\": false}}, {\"showLink\": false, \"linkText\": \"Export to plot.ly\", \"plotlyServerURL\": \"https://plot.ly\"})});</script><script type=\"text/javascript\">window.addEventListener(\"resize\", function(){window._Plotly.Plots.resize(document.getElementById(\"eafa1710-19bf-4bc9-985c-e95bd2aa4fe1\"));});</script>"
      ],
      "text/vnd.plotly.v1+html": [
       "<div id=\"eafa1710-19bf-4bc9-985c-e95bd2aa4fe1\" style=\"height: 525px; width: 100%;\" class=\"plotly-graph-div\"></div><script type=\"text/javascript\">require([\"plotly\"], function(Plotly) { window.PLOTLYENV=window.PLOTLYENV || {};window.PLOTLYENV.BASE_URL=\"https://plot.ly\";Plotly.newPlot(\"eafa1710-19bf-4bc9-985c-e95bd2aa4fe1\", [{\"name\": \"Has Detections\", \"x\": [35.0, 53.0, 89.0, 126.0, 167.0, 211.0, 240.0, 267.0, 276.0, 277.0], \"y\": [175448, 211714, 170922, 95856, 177251, 212070, 172596, 111478, 138394, 784129], \"type\": \"bar\", \"uid\": \"3571147d-5e64-4944-b7e5-abb451122500\"}, {\"name\": \"No Detections\", \"x\": [35.0, 53.0, 89.0, 126.0, 167.0, 211.0, 240.0, 267.0, 276.0, 277.0], \"y\": [170456, 197093, 189876, 102165, 162594, 211096, 173972, 104334, 158380, 747800], \"type\": \"bar\", \"uid\": \"87c4afe7-c19a-4c8a-991b-a685a6d2c279\"}], {\"barmode\": \"group\", \"legend\": {\"orientation\": \"v\"}, \"title\": {\"text\": \"Counts of GeoNameIdentifier by top-10 categories\"}, \"xaxis\": {\"showgrid\": false, \"showline\": false, \"title\": {\"text\": \"GeoNameIdentifier\"}, \"zeroline\": false}, \"yaxis\": {\"showgrid\": false, \"showline\": false, \"title\": {\"text\": \"Counts\"}, \"zeroline\": false}}, {\"showLink\": false, \"linkText\": \"Export to plot.ly\", \"plotlyServerURL\": \"https://plot.ly\"})});</script><script type=\"text/javascript\">window.addEventListener(\"resize\", function(){window._Plotly.Plots.resize(document.getElementById(\"eafa1710-19bf-4bc9-985c-e95bd2aa4fe1\"));});</script>"
      ]
     },
     "metadata": {},
     "output_type": "display_data"
    }
   ],
   "source": [
    "plot_categorical_feature('GeoNameIdentifier', True)"
   ]
  },
  {
   "cell_type": "code",
   "execution_count": 56,
   "metadata": {
    "ExecuteTime": {
     "end_time": "2019-02-09T11:51:12.884801Z",
     "start_time": "2019-02-09T11:51:12.241243Z"
    }
   },
   "outputs": [],
   "source": [
    "train['GeoNameIdentifier'] = train['GeoNameIdentifier'].astype('category')\n",
    "test['GeoNameIdentifier'] = test['GeoNameIdentifier'].astype('category')"
   ]
  },
  {
   "cell_type": "markdown",
   "metadata": {},
   "source": [
    "### LocaleEnglishNameIdentifier"
   ]
  },
  {
   "cell_type": "code",
   "execution_count": 57,
   "metadata": {
    "ExecuteTime": {
     "end_time": "2019-02-09T11:51:24.650622Z",
     "start_time": "2019-02-09T11:51:23.686815Z"
    }
   },
   "outputs": [
    {
     "name": "stdout",
     "output_type": "stream",
     "text": [
      "LocaleEnglishNameIdentifier has 252 unique values and type: int8.\n",
      " 75    0.234780\n",
      "-74    0.050450\n",
      " 74    0.046075\n",
      " 42    0.045913\n",
      " 88    0.042058\n",
      "Name: LocaleEnglishNameIdentifier, dtype: float64\n"
     ]
    },
    {
     "data": {
      "application/vnd.plotly.v1+json": {
       "config": {
        "linkText": "Export to plot.ly",
        "plotlyServerURL": "https://plot.ly",
        "showLink": false
       },
       "data": [
        {
         "name": "Has Detections",
         "type": "bar",
         "uid": "100dff7c-5195-4eee-baa5-5ed7306c6c64",
         "x": [
          -85,
          -74,
          -29,
          -23,
          -5,
          42,
          74,
          75,
          88,
          124
         ],
         "y": [
          174588,
          225819,
          174223,
          170432,
          109727,
          212304,
          192348,
          1082101,
          176729,
          94665
         ]
        },
        {
         "name": "No Detections",
         "type": "bar",
         "uid": "b7b3dfc5-55a9-4ec1-8c63-dbd9d1015ee5",
         "x": [
          -85,
          -74,
          -29,
          -23,
          -5,
          42,
          74,
          75,
          88,
          124
         ],
         "y": [
          169027,
          224269,
          158879,
          170847,
          102114,
          197312,
          218708,
          1012484,
          198494,
          100423
         ]
        }
       ],
       "layout": {
        "barmode": "group",
        "legend": {
         "orientation": "v"
        },
        "title": {
         "text": "Counts of LocaleEnglishNameIdentifier by top-10 categories"
        },
        "xaxis": {
         "showgrid": false,
         "showline": false,
         "title": {
          "text": "LocaleEnglishNameIdentifier"
         },
         "zeroline": false
        },
        "yaxis": {
         "showgrid": false,
         "showline": false,
         "title": {
          "text": "Counts"
         },
         "zeroline": false
        }
       }
      },
      "text/html": [
       "<div id=\"3387877a-81cd-4b27-9c5a-09e6372e4bbd\" style=\"height: 525px; width: 100%;\" class=\"plotly-graph-div\"></div><script type=\"text/javascript\">require([\"plotly\"], function(Plotly) { window.PLOTLYENV=window.PLOTLYENV || {};window.PLOTLYENV.BASE_URL=\"https://plot.ly\";Plotly.newPlot(\"3387877a-81cd-4b27-9c5a-09e6372e4bbd\", [{\"name\": \"Has Detections\", \"x\": [-85, -74, -29, -23, -5, 42, 74, 75, 88, 124], \"y\": [174588, 225819, 174223, 170432, 109727, 212304, 192348, 1082101, 176729, 94665], \"type\": \"bar\", \"uid\": \"9652dbe7-19c5-4c8b-986f-bd9611226720\"}, {\"name\": \"No Detections\", \"x\": [-85, -74, -29, -23, -5, 42, 74, 75, 88, 124], \"y\": [169027, 224269, 158879, 170847, 102114, 197312, 218708, 1012484, 198494, 100423], \"type\": \"bar\", \"uid\": \"f7a4e9b4-d73f-4c39-bb3f-8cd56d85b5a2\"}], {\"barmode\": \"group\", \"legend\": {\"orientation\": \"v\"}, \"title\": {\"text\": \"Counts of LocaleEnglishNameIdentifier by top-10 categories\"}, \"xaxis\": {\"showgrid\": false, \"showline\": false, \"title\": {\"text\": \"LocaleEnglishNameIdentifier\"}, \"zeroline\": false}, \"yaxis\": {\"showgrid\": false, \"showline\": false, \"title\": {\"text\": \"Counts\"}, \"zeroline\": false}}, {\"showLink\": false, \"linkText\": \"Export to plot.ly\", \"plotlyServerURL\": \"https://plot.ly\"})});</script><script type=\"text/javascript\">window.addEventListener(\"resize\", function(){window._Plotly.Plots.resize(document.getElementById(\"3387877a-81cd-4b27-9c5a-09e6372e4bbd\"));});</script>"
      ],
      "text/vnd.plotly.v1+html": [
       "<div id=\"3387877a-81cd-4b27-9c5a-09e6372e4bbd\" style=\"height: 525px; width: 100%;\" class=\"plotly-graph-div\"></div><script type=\"text/javascript\">require([\"plotly\"], function(Plotly) { window.PLOTLYENV=window.PLOTLYENV || {};window.PLOTLYENV.BASE_URL=\"https://plot.ly\";Plotly.newPlot(\"3387877a-81cd-4b27-9c5a-09e6372e4bbd\", [{\"name\": \"Has Detections\", \"x\": [-85, -74, -29, -23, -5, 42, 74, 75, 88, 124], \"y\": [174588, 225819, 174223, 170432, 109727, 212304, 192348, 1082101, 176729, 94665], \"type\": \"bar\", \"uid\": \"9652dbe7-19c5-4c8b-986f-bd9611226720\"}, {\"name\": \"No Detections\", \"x\": [-85, -74, -29, -23, -5, 42, 74, 75, 88, 124], \"y\": [169027, 224269, 158879, 170847, 102114, 197312, 218708, 1012484, 198494, 100423], \"type\": \"bar\", \"uid\": \"f7a4e9b4-d73f-4c39-bb3f-8cd56d85b5a2\"}], {\"barmode\": \"group\", \"legend\": {\"orientation\": \"v\"}, \"title\": {\"text\": \"Counts of LocaleEnglishNameIdentifier by top-10 categories\"}, \"xaxis\": {\"showgrid\": false, \"showline\": false, \"title\": {\"text\": \"LocaleEnglishNameIdentifier\"}, \"zeroline\": false}, \"yaxis\": {\"showgrid\": false, \"showline\": false, \"title\": {\"text\": \"Counts\"}, \"zeroline\": false}}, {\"showLink\": false, \"linkText\": \"Export to plot.ly\", \"plotlyServerURL\": \"https://plot.ly\"})});</script><script type=\"text/javascript\">window.addEventListener(\"resize\", function(){window._Plotly.Plots.resize(document.getElementById(\"3387877a-81cd-4b27-9c5a-09e6372e4bbd\"));});</script>"
      ]
     },
     "metadata": {},
     "output_type": "display_data"
    }
   ],
   "source": [
    "plot_categorical_feature('LocaleEnglishNameIdentifier', True)\n"
   ]
  },
  {
   "cell_type": "code",
   "execution_count": 58,
   "metadata": {
    "ExecuteTime": {
     "end_time": "2019-02-09T11:51:32.941574Z",
     "start_time": "2019-02-09T11:51:32.547703Z"
    }
   },
   "outputs": [],
   "source": [
    "train['LocaleEnglishNameIdentifier'] = train['LocaleEnglishNameIdentifier'].astype('category')\n",
    "test['LocaleEnglishNameIdentifier'] = test['LocaleEnglishNameIdentifier'].astype('category')"
   ]
  },
  {
   "cell_type": "markdown",
   "metadata": {},
   "source": [
    "### OsPlatformSubRelease"
   ]
  },
  {
   "cell_type": "code",
   "execution_count": 59,
   "metadata": {
    "ExecuteTime": {
     "end_time": "2019-02-09T11:51:47.159792Z",
     "start_time": "2019-02-09T11:51:42.517652Z"
    }
   },
   "outputs": [
    {
     "name": "stdout",
     "output_type": "stream",
     "text": [
      "OsPlatformSubRelease has 9 unique values and type: category.\n",
      "rs4    0.438887\n",
      "rs3    0.280635\n",
      "rs2    0.087460\n",
      "rs1    0.081917\n",
      "th2    0.046136\n",
      "Name: OsPlatformSubRelease, dtype: float64\n"
     ]
    },
    {
     "data": {
      "application/vnd.plotly.v1+json": {
       "config": {
        "linkText": "Export to plot.ly",
        "plotlyServerURL": "https://plot.ly",
        "showLink": false
       },
       "data": [
        {
         "name": "Nontouch device counts",
         "type": "bar",
         "uid": "e91d33cf-526c-47f0-b34d-871946db5372",
         "x": [
          "prers5",
          "rs1",
          "rs2",
          "rs3",
          "rs4",
          "th1",
          "th2",
          "windows7",
          "windows8.1"
         ],
         "y": [
          17874,
          607382,
          671844,
          2174455,
          3489887,
          241853,
          342486,
          91273,
          164398
         ]
        },
        {
         "name": "Detections rate for nontouch devices",
         "type": "scatter",
         "uid": "9ac8db0e-bb49-4823-8147-70f4effbd86e",
         "x": [
          "prers5",
          "rs1",
          "rs2",
          "rs3",
          "rs4",
          "th1",
          "th2",
          "windows7",
          "windows8.1"
         ],
         "y": [
          0.43398232068926934,
          0.47573355812322393,
          0.48791981471889306,
          0.49947504087231054,
          0.5251367737694659,
          0.49645032313016585,
          0.4836635658099893,
          0.487855115970769,
          0.5189965814669278
         ],
         "yaxis": "y2"
        }
       ],
       "layout": {
        "barmode": "group",
        "legend": {
         "orientation": "v"
        },
        "title": {
         "text": "Counts of OsPlatformSubRelease by top-10 categories for nontouch devices"
        },
        "xaxis": {
         "showgrid": false,
         "showline": false,
         "title": {
          "text": "OsPlatformSubRelease"
         },
         "type": "category",
         "zeroline": false
        },
        "yaxis": {
         "showgrid": false,
         "showline": false,
         "title": {
          "text": "Counts"
         },
         "zeroline": false
        },
        "yaxis2": {
         "overlaying": "y",
         "side": "right",
         "title": {
          "text": "Detections rate"
         }
        }
       }
      },
      "text/html": [
       "<div id=\"55062765-ea3d-442a-8f49-16c16f362f5c\" style=\"height: 525px; width: 100%;\" class=\"plotly-graph-div\"></div><script type=\"text/javascript\">require([\"plotly\"], function(Plotly) { window.PLOTLYENV=window.PLOTLYENV || {};window.PLOTLYENV.BASE_URL=\"https://plot.ly\";Plotly.newPlot(\"55062765-ea3d-442a-8f49-16c16f362f5c\", [{\"name\": \"Nontouch device counts\", \"x\": [\"prers5\", \"rs1\", \"rs2\", \"rs3\", \"rs4\", \"th1\", \"th2\", \"windows7\", \"windows8.1\"], \"y\": [17874, 607382, 671844, 2174455, 3489887, 241853, 342486, 91273, 164398], \"type\": \"bar\", \"uid\": \"4290e0ee-164f-4780-82a9-54a5bc6893e5\"}, {\"name\": \"Detections rate for nontouch devices\", \"x\": [\"prers5\", \"rs1\", \"rs2\", \"rs3\", \"rs4\", \"th1\", \"th2\", \"windows7\", \"windows8.1\"], \"y\": [0.43398232068926934, 0.47573355812322393, 0.48791981471889306, 0.49947504087231054, 0.5251367737694659, 0.49645032313016585, 0.4836635658099893, 0.487855115970769, 0.5189965814669278], \"yaxis\": \"y2\", \"type\": \"scatter\", \"uid\": \"9d1134a6-b562-46ba-8cc8-eda8c17ae76f\"}], {\"barmode\": \"group\", \"legend\": {\"orientation\": \"v\"}, \"title\": {\"text\": \"Counts of OsPlatformSubRelease by top-10 categories for nontouch devices\"}, \"xaxis\": {\"showgrid\": false, \"showline\": false, \"title\": {\"text\": \"OsPlatformSubRelease\"}, \"type\": \"category\", \"zeroline\": false}, \"yaxis\": {\"showgrid\": false, \"showline\": false, \"title\": {\"text\": \"Counts\"}, \"zeroline\": false}, \"yaxis2\": {\"overlaying\": \"y\", \"side\": \"right\", \"title\": {\"text\": \"Detections rate\"}}}, {\"showLink\": false, \"linkText\": \"Export to plot.ly\", \"plotlyServerURL\": \"https://plot.ly\"})});</script><script type=\"text/javascript\">window.addEventListener(\"resize\", function(){window._Plotly.Plots.resize(document.getElementById(\"55062765-ea3d-442a-8f49-16c16f362f5c\"));});</script>"
      ],
      "text/vnd.plotly.v1+html": [
       "<div id=\"55062765-ea3d-442a-8f49-16c16f362f5c\" style=\"height: 525px; width: 100%;\" class=\"plotly-graph-div\"></div><script type=\"text/javascript\">require([\"plotly\"], function(Plotly) { window.PLOTLYENV=window.PLOTLYENV || {};window.PLOTLYENV.BASE_URL=\"https://plot.ly\";Plotly.newPlot(\"55062765-ea3d-442a-8f49-16c16f362f5c\", [{\"name\": \"Nontouch device counts\", \"x\": [\"prers5\", \"rs1\", \"rs2\", \"rs3\", \"rs4\", \"th1\", \"th2\", \"windows7\", \"windows8.1\"], \"y\": [17874, 607382, 671844, 2174455, 3489887, 241853, 342486, 91273, 164398], \"type\": \"bar\", \"uid\": \"4290e0ee-164f-4780-82a9-54a5bc6893e5\"}, {\"name\": \"Detections rate for nontouch devices\", \"x\": [\"prers5\", \"rs1\", \"rs2\", \"rs3\", \"rs4\", \"th1\", \"th2\", \"windows7\", \"windows8.1\"], \"y\": [0.43398232068926934, 0.47573355812322393, 0.48791981471889306, 0.49947504087231054, 0.5251367737694659, 0.49645032313016585, 0.4836635658099893, 0.487855115970769, 0.5189965814669278], \"yaxis\": \"y2\", \"type\": \"scatter\", \"uid\": \"9d1134a6-b562-46ba-8cc8-eda8c17ae76f\"}], {\"barmode\": \"group\", \"legend\": {\"orientation\": \"v\"}, \"title\": {\"text\": \"Counts of OsPlatformSubRelease by top-10 categories for nontouch devices\"}, \"xaxis\": {\"showgrid\": false, \"showline\": false, \"title\": {\"text\": \"OsPlatformSubRelease\"}, \"type\": \"category\", \"zeroline\": false}, \"yaxis\": {\"showgrid\": false, \"showline\": false, \"title\": {\"text\": \"Counts\"}, \"zeroline\": false}, \"yaxis2\": {\"overlaying\": \"y\", \"side\": \"right\", \"title\": {\"text\": \"Detections rate\"}}}, {\"showLink\": false, \"linkText\": \"Export to plot.ly\", \"plotlyServerURL\": \"https://plot.ly\"})});</script><script type=\"text/javascript\">window.addEventListener(\"resize\", function(){window._Plotly.Plots.resize(document.getElementById(\"55062765-ea3d-442a-8f49-16c16f362f5c\"));});</script>"
      ]
     },
     "metadata": {},
     "output_type": "display_data"
    },
    {
     "data": {
      "application/vnd.plotly.v1+json": {
       "config": {
        "linkText": "Export to plot.ly",
        "plotlyServerURL": "https://plot.ly",
        "showLink": false
       },
       "data": [
        {
         "name": "Touch device counts",
         "type": "bar",
         "uid": "f63d77d1-bb16-4b8a-9989-db99ee3ac08d",
         "x": [
          "prers5",
          "rs1",
          "rs2",
          "rs3",
          "rs4",
          "th1",
          "th2",
          "windows7",
          "windows8.1"
         ],
         "y": [
          3118,
          123437,
          108426,
          329226,
          425639,
          28339,
          69120,
          2616,
          30110
         ]
        },
        {
         "name": "Detections rate for touch devices",
         "type": "scatter",
         "uid": "02b8f8c8-44ff-48d0-9114-51a8e4f0f94f",
         "x": [
          "prers5",
          "rs1",
          "rs2",
          "rs3",
          "rs4",
          "th1",
          "th2",
          "windows7",
          "windows8.1"
         ],
         "y": [
          0.36786401539448366,
          0.3960157813297472,
          0.42283216202755797,
          0.44360105216477436,
          0.4845726073033721,
          0.4023783478598398,
          0.37747395833333336,
          0.4396024464831804,
          0.4396878113583527
         ],
         "yaxis": "y2"
        }
       ],
       "layout": {
        "barmode": "group",
        "legend": {
         "orientation": "v"
        },
        "title": {
         "text": "Counts of OsPlatformSubRelease by top-10 categories for touch devices"
        },
        "xaxis": {
         "showgrid": false,
         "showline": false,
         "title": {
          "text": "OsPlatformSubRelease"
         },
         "type": "category",
         "zeroline": false
        },
        "yaxis": {
         "showgrid": false,
         "showline": false,
         "title": {
          "text": "Counts"
         },
         "zeroline": false
        },
        "yaxis2": {
         "overlaying": "y",
         "side": "right",
         "title": {
          "text": "Detections rate"
         }
        }
       }
      },
      "text/html": [
       "<div id=\"7224bdb1-3bcf-41f0-9f06-2c00d8f114d9\" style=\"height: 525px; width: 100%;\" class=\"plotly-graph-div\"></div><script type=\"text/javascript\">require([\"plotly\"], function(Plotly) { window.PLOTLYENV=window.PLOTLYENV || {};window.PLOTLYENV.BASE_URL=\"https://plot.ly\";Plotly.newPlot(\"7224bdb1-3bcf-41f0-9f06-2c00d8f114d9\", [{\"name\": \"Touch device counts\", \"x\": [\"prers5\", \"rs1\", \"rs2\", \"rs3\", \"rs4\", \"th1\", \"th2\", \"windows7\", \"windows8.1\"], \"y\": [3118, 123437, 108426, 329226, 425639, 28339, 69120, 2616, 30110], \"type\": \"bar\", \"uid\": \"bdc8ac2b-f760-48ec-b41e-8e5f4f1a3537\"}, {\"name\": \"Detections rate for touch devices\", \"x\": [\"prers5\", \"rs1\", \"rs2\", \"rs3\", \"rs4\", \"th1\", \"th2\", \"windows7\", \"windows8.1\"], \"y\": [0.36786401539448366, 0.3960157813297472, 0.42283216202755797, 0.44360105216477436, 0.4845726073033721, 0.4023783478598398, 0.37747395833333336, 0.4396024464831804, 0.4396878113583527], \"yaxis\": \"y2\", \"type\": \"scatter\", \"uid\": \"dc135e07-187a-4e8b-8207-fb490cdb4ab6\"}], {\"barmode\": \"group\", \"legend\": {\"orientation\": \"v\"}, \"title\": {\"text\": \"Counts of OsPlatformSubRelease by top-10 categories for touch devices\"}, \"xaxis\": {\"showgrid\": false, \"showline\": false, \"title\": {\"text\": \"OsPlatformSubRelease\"}, \"type\": \"category\", \"zeroline\": false}, \"yaxis\": {\"showgrid\": false, \"showline\": false, \"title\": {\"text\": \"Counts\"}, \"zeroline\": false}, \"yaxis2\": {\"overlaying\": \"y\", \"side\": \"right\", \"title\": {\"text\": \"Detections rate\"}}}, {\"showLink\": false, \"linkText\": \"Export to plot.ly\", \"plotlyServerURL\": \"https://plot.ly\"})});</script><script type=\"text/javascript\">window.addEventListener(\"resize\", function(){window._Plotly.Plots.resize(document.getElementById(\"7224bdb1-3bcf-41f0-9f06-2c00d8f114d9\"));});</script>"
      ],
      "text/vnd.plotly.v1+html": [
       "<div id=\"7224bdb1-3bcf-41f0-9f06-2c00d8f114d9\" style=\"height: 525px; width: 100%;\" class=\"plotly-graph-div\"></div><script type=\"text/javascript\">require([\"plotly\"], function(Plotly) { window.PLOTLYENV=window.PLOTLYENV || {};window.PLOTLYENV.BASE_URL=\"https://plot.ly\";Plotly.newPlot(\"7224bdb1-3bcf-41f0-9f06-2c00d8f114d9\", [{\"name\": \"Touch device counts\", \"x\": [\"prers5\", \"rs1\", \"rs2\", \"rs3\", \"rs4\", \"th1\", \"th2\", \"windows7\", \"windows8.1\"], \"y\": [3118, 123437, 108426, 329226, 425639, 28339, 69120, 2616, 30110], \"type\": \"bar\", \"uid\": \"bdc8ac2b-f760-48ec-b41e-8e5f4f1a3537\"}, {\"name\": \"Detections rate for touch devices\", \"x\": [\"prers5\", \"rs1\", \"rs2\", \"rs3\", \"rs4\", \"th1\", \"th2\", \"windows7\", \"windows8.1\"], \"y\": [0.36786401539448366, 0.3960157813297472, 0.42283216202755797, 0.44360105216477436, 0.4845726073033721, 0.4023783478598398, 0.37747395833333336, 0.4396024464831804, 0.4396878113583527], \"yaxis\": \"y2\", \"type\": \"scatter\", \"uid\": \"dc135e07-187a-4e8b-8207-fb490cdb4ab6\"}], {\"barmode\": \"group\", \"legend\": {\"orientation\": \"v\"}, \"title\": {\"text\": \"Counts of OsPlatformSubRelease by top-10 categories for touch devices\"}, \"xaxis\": {\"showgrid\": false, \"showline\": false, \"title\": {\"text\": \"OsPlatformSubRelease\"}, \"type\": \"category\", \"zeroline\": false}, \"yaxis\": {\"showgrid\": false, \"showline\": false, \"title\": {\"text\": \"Counts\"}, \"zeroline\": false}, \"yaxis2\": {\"overlaying\": \"y\", \"side\": \"right\", \"title\": {\"text\": \"Detections rate\"}}}, {\"showLink\": false, \"linkText\": \"Export to plot.ly\", \"plotlyServerURL\": \"https://plot.ly\"})});</script><script type=\"text/javascript\">window.addEventListener(\"resize\", function(){window._Plotly.Plots.resize(document.getElementById(\"7224bdb1-3bcf-41f0-9f06-2c00d8f114d9\"));});</script>"
      ]
     },
     "metadata": {},
     "output_type": "display_data"
    }
   ],
   "source": [
    "plot_categorical_feature('OsPlatformSubRelease', True, by_touch=True)\n"
   ]
  },
  {
   "cell_type": "markdown",
   "metadata": {},
   "source": [
    "### OsBuildLab\n"
   ]
  },
  {
   "cell_type": "code",
   "execution_count": 60,
   "metadata": {
    "ExecuteTime": {
     "end_time": "2019-02-09T11:52:13.964335Z",
     "start_time": "2019-02-09T11:52:13.002291Z"
    }
   },
   "outputs": [
    {
     "name": "stdout",
     "output_type": "stream",
     "text": [
      "OsBuildLab has 663 unique values and type: category.\n",
      "17134.1.amd64fre.rs4_release.180410-1804                 0.410044\n",
      "16299.431.amd64fre.rs3_release_svc_escrow.180502-1908    0.140411\n",
      "16299.15.amd64fre.rs3_release.170928-1534                0.107724\n",
      "15063.0.amd64fre.rs2_release.170317-1834                 0.080484\n",
      "17134.1.x86fre.rs4_release.180410-1804                   0.028815\n",
      "Name: OsBuildLab, dtype: float64\n"
     ]
    },
    {
     "data": {
      "application/vnd.plotly.v1+json": {
       "config": {
        "linkText": "Export to plot.ly",
        "plotlyServerURL": "https://plot.ly",
        "showLink": false
       },
       "data": [
        {
         "name": "Has Detections",
         "type": "bar",
         "uid": "8d417d43-2140-40a4-a2e7-a963cb15815f",
         "x": [
          "10240.17443.amd64fre.th1.170602-2340",
          "10586.1176.amd64fre.th2_release_sec.170913-1848",
          "14393.2189.amd64fre.rs1_release.180329-1711",
          "15063.0.amd64fre.rs2_release.170317-1834",
          "15063.0.x86fre.rs2_release.170317-1834",
          "16299.15.amd64fre.rs3_release.170928-1534",
          "16299.15.x86fre.rs3_release.170928-1534",
          "16299.431.amd64fre.rs3_release_svc_escrow.180502-1908",
          "17134.1.amd64fre.rs4_release.180410-1804",
          "17134.1.x86fre.rs4_release.180410-1804"
         ],
         "y": [
          86335,
          67231,
          97364,
          350691,
          22961,
          471746,
          85061,
          647674,
          1937549,
          101360
         ]
        },
        {
         "name": "No Detections",
         "type": "bar",
         "uid": "471e46a8-667e-4c1b-9f92-1398225da282",
         "x": [
          "10240.17443.amd64fre.th1.170602-2340",
          "10586.1176.amd64fre.th2_release_sec.170913-1848",
          "14393.2189.amd64fre.rs1_release.180329-1711",
          "15063.0.amd64fre.rs2_release.170317-1834",
          "15063.0.x86fre.rs2_release.170317-1834",
          "16299.15.amd64fre.rs3_release.170928-1534",
          "16299.15.x86fre.rs3_release.170928-1534",
          "16299.431.amd64fre.rs3_release_svc_escrow.180502-1908",
          "17134.1.amd64fre.rs4_release.180410-1804",
          "17134.1.x86fre.rs4_release.180410-1804"
         ],
         "y": [
          85655,
          81028,
          96272,
          367342,
          39276,
          489314,
          148388,
          605000,
          1720650,
          155714
         ]
        }
       ],
       "layout": {
        "barmode": "group",
        "legend": {
         "orientation": "v"
        },
        "title": {
         "text": "Counts of OsBuildLab by top-10 categories"
        },
        "xaxis": {
         "showgrid": false,
         "showline": false,
         "title": {
          "text": "OsBuildLab"
         },
         "zeroline": false
        },
        "yaxis": {
         "showgrid": false,
         "showline": false,
         "title": {
          "text": "Counts"
         },
         "zeroline": false
        }
       }
      },
      "text/html": [
       "<div id=\"8b47bdbb-e926-4a05-8b6a-f3594585cf6a\" style=\"height: 525px; width: 100%;\" class=\"plotly-graph-div\"></div><script type=\"text/javascript\">require([\"plotly\"], function(Plotly) { window.PLOTLYENV=window.PLOTLYENV || {};window.PLOTLYENV.BASE_URL=\"https://plot.ly\";Plotly.newPlot(\"8b47bdbb-e926-4a05-8b6a-f3594585cf6a\", [{\"name\": \"Has Detections\", \"x\": [\"10240.17443.amd64fre.th1.170602-2340\", \"10586.1176.amd64fre.th2_release_sec.170913-1848\", \"14393.2189.amd64fre.rs1_release.180329-1711\", \"15063.0.amd64fre.rs2_release.170317-1834\", \"15063.0.x86fre.rs2_release.170317-1834\", \"16299.15.amd64fre.rs3_release.170928-1534\", \"16299.15.x86fre.rs3_release.170928-1534\", \"16299.431.amd64fre.rs3_release_svc_escrow.180502-1908\", \"17134.1.amd64fre.rs4_release.180410-1804\", \"17134.1.x86fre.rs4_release.180410-1804\"], \"y\": [86335, 67231, 97364, 350691, 22961, 471746, 85061, 647674, 1937549, 101360], \"type\": \"bar\", \"uid\": \"2de6b125-5ed4-4858-bcc1-1a6a8971c716\"}, {\"name\": \"No Detections\", \"x\": [\"10240.17443.amd64fre.th1.170602-2340\", \"10586.1176.amd64fre.th2_release_sec.170913-1848\", \"14393.2189.amd64fre.rs1_release.180329-1711\", \"15063.0.amd64fre.rs2_release.170317-1834\", \"15063.0.x86fre.rs2_release.170317-1834\", \"16299.15.amd64fre.rs3_release.170928-1534\", \"16299.15.x86fre.rs3_release.170928-1534\", \"16299.431.amd64fre.rs3_release_svc_escrow.180502-1908\", \"17134.1.amd64fre.rs4_release.180410-1804\", \"17134.1.x86fre.rs4_release.180410-1804\"], \"y\": [85655, 81028, 96272, 367342, 39276, 489314, 148388, 605000, 1720650, 155714], \"type\": \"bar\", \"uid\": \"5d5d1633-89ad-4f4e-a922-efcbe183d6be\"}], {\"barmode\": \"group\", \"legend\": {\"orientation\": \"v\"}, \"title\": {\"text\": \"Counts of OsBuildLab by top-10 categories\"}, \"xaxis\": {\"showgrid\": false, \"showline\": false, \"title\": {\"text\": \"OsBuildLab\"}, \"zeroline\": false}, \"yaxis\": {\"showgrid\": false, \"showline\": false, \"title\": {\"text\": \"Counts\"}, \"zeroline\": false}}, {\"showLink\": false, \"linkText\": \"Export to plot.ly\", \"plotlyServerURL\": \"https://plot.ly\"})});</script><script type=\"text/javascript\">window.addEventListener(\"resize\", function(){window._Plotly.Plots.resize(document.getElementById(\"8b47bdbb-e926-4a05-8b6a-f3594585cf6a\"));});</script>"
      ],
      "text/vnd.plotly.v1+html": [
       "<div id=\"8b47bdbb-e926-4a05-8b6a-f3594585cf6a\" style=\"height: 525px; width: 100%;\" class=\"plotly-graph-div\"></div><script type=\"text/javascript\">require([\"plotly\"], function(Plotly) { window.PLOTLYENV=window.PLOTLYENV || {};window.PLOTLYENV.BASE_URL=\"https://plot.ly\";Plotly.newPlot(\"8b47bdbb-e926-4a05-8b6a-f3594585cf6a\", [{\"name\": \"Has Detections\", \"x\": [\"10240.17443.amd64fre.th1.170602-2340\", \"10586.1176.amd64fre.th2_release_sec.170913-1848\", \"14393.2189.amd64fre.rs1_release.180329-1711\", \"15063.0.amd64fre.rs2_release.170317-1834\", \"15063.0.x86fre.rs2_release.170317-1834\", \"16299.15.amd64fre.rs3_release.170928-1534\", \"16299.15.x86fre.rs3_release.170928-1534\", \"16299.431.amd64fre.rs3_release_svc_escrow.180502-1908\", \"17134.1.amd64fre.rs4_release.180410-1804\", \"17134.1.x86fre.rs4_release.180410-1804\"], \"y\": [86335, 67231, 97364, 350691, 22961, 471746, 85061, 647674, 1937549, 101360], \"type\": \"bar\", \"uid\": \"2de6b125-5ed4-4858-bcc1-1a6a8971c716\"}, {\"name\": \"No Detections\", \"x\": [\"10240.17443.amd64fre.th1.170602-2340\", \"10586.1176.amd64fre.th2_release_sec.170913-1848\", \"14393.2189.amd64fre.rs1_release.180329-1711\", \"15063.0.amd64fre.rs2_release.170317-1834\", \"15063.0.x86fre.rs2_release.170317-1834\", \"16299.15.amd64fre.rs3_release.170928-1534\", \"16299.15.x86fre.rs3_release.170928-1534\", \"16299.431.amd64fre.rs3_release_svc_escrow.180502-1908\", \"17134.1.amd64fre.rs4_release.180410-1804\", \"17134.1.x86fre.rs4_release.180410-1804\"], \"y\": [85655, 81028, 96272, 367342, 39276, 489314, 148388, 605000, 1720650, 155714], \"type\": \"bar\", \"uid\": \"5d5d1633-89ad-4f4e-a922-efcbe183d6be\"}], {\"barmode\": \"group\", \"legend\": {\"orientation\": \"v\"}, \"title\": {\"text\": \"Counts of OsBuildLab by top-10 categories\"}, \"xaxis\": {\"showgrid\": false, \"showline\": false, \"title\": {\"text\": \"OsBuildLab\"}, \"zeroline\": false}, \"yaxis\": {\"showgrid\": false, \"showline\": false, \"title\": {\"text\": \"Counts\"}, \"zeroline\": false}}, {\"showLink\": false, \"linkText\": \"Export to plot.ly\", \"plotlyServerURL\": \"https://plot.ly\"})});</script><script type=\"text/javascript\">window.addEventListener(\"resize\", function(){window._Plotly.Plots.resize(document.getElementById(\"8b47bdbb-e926-4a05-8b6a-f3594585cf6a\"));});</script>"
      ]
     },
     "metadata": {},
     "output_type": "display_data"
    }
   ],
   "source": [
    "plot_categorical_feature('OsBuildLab', True)\n"
   ]
  },
  {
   "cell_type": "markdown",
   "metadata": {},
   "source": [
    "### IeVerIdentifier"
   ]
  },
  {
   "cell_type": "code",
   "execution_count": 61,
   "metadata": {
    "ExecuteTime": {
     "end_time": "2019-02-09T11:52:28.816576Z",
     "start_time": "2019-02-09T11:52:27.687853Z"
    }
   },
   "outputs": [
    {
     "name": "stdout",
     "output_type": "stream",
     "text": [
      "IeVerIdentifier has 303 unique values and type: float16.\n",
      "137.0    0.435560\n",
      "117.0    0.198166\n",
      "108.0    0.053174\n",
      "111.0    0.052438\n",
      "98.0     0.039726\n",
      "Name: IeVerIdentifier, dtype: float64\n"
     ]
    },
    {
     "data": {
      "application/vnd.plotly.v1+json": {
       "config": {
        "linkText": "Export to plot.ly",
        "plotlyServerURL": "https://plot.ly",
        "showLink": false
       },
       "data": [
        {
         "name": "Has Detections",
         "type": "bar",
         "uid": "294cfcaf-f716-4ca2-9b84-5412803a2d02",
         "x": [
          53,
          74,
          94,
          98,
          105,
          108,
          111,
          117,
          135,
          137
         ],
         "y": [
          99644,
          89873,
          80521,
          168671,
          88005,
          226004,
          236175,
          873124,
          102612,
          2023823
         ]
        },
        {
         "name": "No Detections",
         "type": "bar",
         "uid": "f0b9a9c6-0205-4dbc-8c6e-243d241117e6",
         "x": [
          53,
          74,
          94,
          98,
          105,
          108,
          111,
          117,
          135,
          137
         ],
         "y": [
          105308,
          112669,
          93072,
          185740,
          85443,
          248386,
          231653,
          894807,
          114846,
          1862019
         ]
        }
       ],
       "layout": {
        "barmode": "group",
        "legend": {
         "orientation": "v"
        },
        "title": {
         "text": "Counts of IeVerIdentifier by top-10 categories"
        },
        "xaxis": {
         "showgrid": false,
         "showline": false,
         "title": {
          "text": "IeVerIdentifier"
         },
         "zeroline": false
        },
        "yaxis": {
         "showgrid": false,
         "showline": false,
         "title": {
          "text": "Counts"
         },
         "zeroline": false
        }
       }
      },
      "text/html": [
       "<div id=\"685c395d-1c74-4bb0-9bda-57aec1f825ce\" style=\"height: 525px; width: 100%;\" class=\"plotly-graph-div\"></div><script type=\"text/javascript\">require([\"plotly\"], function(Plotly) { window.PLOTLYENV=window.PLOTLYENV || {};window.PLOTLYENV.BASE_URL=\"https://plot.ly\";Plotly.newPlot(\"685c395d-1c74-4bb0-9bda-57aec1f825ce\", [{\"name\": \"Has Detections\", \"x\": [53.0, 74.0, 94.0, 98.0, 105.0, 108.0, 111.0, 117.0, 135.0, 137.0], \"y\": [99644, 89873, 80521, 168671, 88005, 226004, 236175, 873124, 102612, 2023823], \"type\": \"bar\", \"uid\": \"326e2c17-1e0b-4cd9-abbe-adc69b50e952\"}, {\"name\": \"No Detections\", \"x\": [53.0, 74.0, 94.0, 98.0, 105.0, 108.0, 111.0, 117.0, 135.0, 137.0], \"y\": [105308, 112669, 93072, 185740, 85443, 248386, 231653, 894807, 114846, 1862019], \"type\": \"bar\", \"uid\": \"31734d7d-674f-4aaa-897c-cdc9e151e49d\"}], {\"barmode\": \"group\", \"legend\": {\"orientation\": \"v\"}, \"title\": {\"text\": \"Counts of IeVerIdentifier by top-10 categories\"}, \"xaxis\": {\"showgrid\": false, \"showline\": false, \"title\": {\"text\": \"IeVerIdentifier\"}, \"zeroline\": false}, \"yaxis\": {\"showgrid\": false, \"showline\": false, \"title\": {\"text\": \"Counts\"}, \"zeroline\": false}}, {\"showLink\": false, \"linkText\": \"Export to plot.ly\", \"plotlyServerURL\": \"https://plot.ly\"})});</script><script type=\"text/javascript\">window.addEventListener(\"resize\", function(){window._Plotly.Plots.resize(document.getElementById(\"685c395d-1c74-4bb0-9bda-57aec1f825ce\"));});</script>"
      ],
      "text/vnd.plotly.v1+html": [
       "<div id=\"685c395d-1c74-4bb0-9bda-57aec1f825ce\" style=\"height: 525px; width: 100%;\" class=\"plotly-graph-div\"></div><script type=\"text/javascript\">require([\"plotly\"], function(Plotly) { window.PLOTLYENV=window.PLOTLYENV || {};window.PLOTLYENV.BASE_URL=\"https://plot.ly\";Plotly.newPlot(\"685c395d-1c74-4bb0-9bda-57aec1f825ce\", [{\"name\": \"Has Detections\", \"x\": [53.0, 74.0, 94.0, 98.0, 105.0, 108.0, 111.0, 117.0, 135.0, 137.0], \"y\": [99644, 89873, 80521, 168671, 88005, 226004, 236175, 873124, 102612, 2023823], \"type\": \"bar\", \"uid\": \"326e2c17-1e0b-4cd9-abbe-adc69b50e952\"}, {\"name\": \"No Detections\", \"x\": [53.0, 74.0, 94.0, 98.0, 105.0, 108.0, 111.0, 117.0, 135.0, 137.0], \"y\": [105308, 112669, 93072, 185740, 85443, 248386, 231653, 894807, 114846, 1862019], \"type\": \"bar\", \"uid\": \"31734d7d-674f-4aaa-897c-cdc9e151e49d\"}], {\"barmode\": \"group\", \"legend\": {\"orientation\": \"v\"}, \"title\": {\"text\": \"Counts of IeVerIdentifier by top-10 categories\"}, \"xaxis\": {\"showgrid\": false, \"showline\": false, \"title\": {\"text\": \"IeVerIdentifier\"}, \"zeroline\": false}, \"yaxis\": {\"showgrid\": false, \"showline\": false, \"title\": {\"text\": \"Counts\"}, \"zeroline\": false}}, {\"showLink\": false, \"linkText\": \"Export to plot.ly\", \"plotlyServerURL\": \"https://plot.ly\"})});</script><script type=\"text/javascript\">window.addEventListener(\"resize\", function(){window._Plotly.Plots.resize(document.getElementById(\"685c395d-1c74-4bb0-9bda-57aec1f825ce\"));});</script>"
      ]
     },
     "metadata": {},
     "output_type": "display_data"
    }
   ],
   "source": [
    "plot_categorical_feature('IeVerIdentifier', True)\n"
   ]
  },
  {
   "cell_type": "code",
   "execution_count": 62,
   "metadata": {
    "ExecuteTime": {
     "end_time": "2019-02-09T11:52:35.446818Z",
     "start_time": "2019-02-09T11:52:34.809047Z"
    }
   },
   "outputs": [],
   "source": [
    "train['IeVerIdentifier'] = train['IeVerIdentifier'].astype('category')\n",
    "test['IeVerIdentifier'] = test['IeVerIdentifier'].astype('category')"
   ]
  },
  {
   "cell_type": "markdown",
   "metadata": {},
   "source": [
    "### Census_OEMNameIdentifier"
   ]
  },
  {
   "cell_type": "code",
   "execution_count": 63,
   "metadata": {
    "ExecuteTime": {
     "end_time": "2019-02-09T11:52:49.478665Z",
     "start_time": "2019-02-09T11:52:48.303205Z"
    }
   },
   "outputs": [
    {
     "name": "stdout",
     "output_type": "stream",
     "text": [
      "Census_OEMNameIdentifier has 2564 unique values and type: float16.\n",
      "2668.0    0.144289\n",
      "2102.0    0.116412\n",
      "1443.0    0.106432\n",
      "2206.0    0.103609\n",
      "585.0     0.100370\n",
      "Name: Census_OEMNameIdentifier, dtype: float64\n"
     ]
    },
    {
     "data": {
      "application/vnd.plotly.v1+json": {
       "config": {
        "linkText": "Export to plot.ly",
        "plotlyServerURL": "https://plot.ly",
        "showLink": false
       },
       "data": [
        {
         "name": "Has Detections",
         "type": "bar",
         "uid": "1481348d-917d-40c8-93f4-803d21aca902",
         "x": [
          525,
          585,
          1443,
          1980,
          2102,
          2206,
          2668,
          4144,
          4588,
          4728
         ],
         "y": [
          438743,
          441907,
          485746,
          159172,
          536642,
          451165,
          645476,
          95733,
          171858,
          144612
         ]
        },
        {
         "name": "No Detections",
         "type": "bar",
         "uid": "16623133-f73b-4046-bf16-68d7fcd50b3b",
         "x": [
          525,
          585,
          1443,
          1980,
          2102,
          2206,
          2668,
          4144,
          4588,
          4728
         ],
         "y": [
          403621,
          453545,
          463785,
          126428,
          501925,
          473184,
          641800,
          107495,
          138844,
          159492
         ]
        }
       ],
       "layout": {
        "barmode": "group",
        "legend": {
         "orientation": "v"
        },
        "title": {
         "text": "Counts of Census_OEMNameIdentifier by top-10 categories"
        },
        "xaxis": {
         "showgrid": false,
         "showline": false,
         "title": {
          "text": "Census_OEMNameIdentifier"
         },
         "zeroline": false
        },
        "yaxis": {
         "showgrid": false,
         "showline": false,
         "title": {
          "text": "Counts"
         },
         "zeroline": false
        }
       }
      },
      "text/html": [
       "<div id=\"096973de-ad28-4be2-a619-dee2ab8a4b4c\" style=\"height: 525px; width: 100%;\" class=\"plotly-graph-div\"></div><script type=\"text/javascript\">require([\"plotly\"], function(Plotly) { window.PLOTLYENV=window.PLOTLYENV || {};window.PLOTLYENV.BASE_URL=\"https://plot.ly\";Plotly.newPlot(\"096973de-ad28-4be2-a619-dee2ab8a4b4c\", [{\"name\": \"Has Detections\", \"x\": [525.0, 585.0, 1443.0, 1980.0, 2102.0, 2206.0, 2668.0, 4144.0, 4588.0, 4728.0], \"y\": [438743, 441907, 485746, 159172, 536642, 451165, 645476, 95733, 171858, 144612], \"type\": \"bar\", \"uid\": \"1a4dc647-8b32-4f65-97d4-fbc456ec6004\"}, {\"name\": \"No Detections\", \"x\": [525.0, 585.0, 1443.0, 1980.0, 2102.0, 2206.0, 2668.0, 4144.0, 4588.0, 4728.0], \"y\": [403621, 453545, 463785, 126428, 501925, 473184, 641800, 107495, 138844, 159492], \"type\": \"bar\", \"uid\": \"f4f06dcc-449b-4046-94f5-c1a7cfc99396\"}], {\"barmode\": \"group\", \"legend\": {\"orientation\": \"v\"}, \"title\": {\"text\": \"Counts of Census_OEMNameIdentifier by top-10 categories\"}, \"xaxis\": {\"showgrid\": false, \"showline\": false, \"title\": {\"text\": \"Census_OEMNameIdentifier\"}, \"zeroline\": false}, \"yaxis\": {\"showgrid\": false, \"showline\": false, \"title\": {\"text\": \"Counts\"}, \"zeroline\": false}}, {\"showLink\": false, \"linkText\": \"Export to plot.ly\", \"plotlyServerURL\": \"https://plot.ly\"})});</script><script type=\"text/javascript\">window.addEventListener(\"resize\", function(){window._Plotly.Plots.resize(document.getElementById(\"096973de-ad28-4be2-a619-dee2ab8a4b4c\"));});</script>"
      ],
      "text/vnd.plotly.v1+html": [
       "<div id=\"096973de-ad28-4be2-a619-dee2ab8a4b4c\" style=\"height: 525px; width: 100%;\" class=\"plotly-graph-div\"></div><script type=\"text/javascript\">require([\"plotly\"], function(Plotly) { window.PLOTLYENV=window.PLOTLYENV || {};window.PLOTLYENV.BASE_URL=\"https://plot.ly\";Plotly.newPlot(\"096973de-ad28-4be2-a619-dee2ab8a4b4c\", [{\"name\": \"Has Detections\", \"x\": [525.0, 585.0, 1443.0, 1980.0, 2102.0, 2206.0, 2668.0, 4144.0, 4588.0, 4728.0], \"y\": [438743, 441907, 485746, 159172, 536642, 451165, 645476, 95733, 171858, 144612], \"type\": \"bar\", \"uid\": \"1a4dc647-8b32-4f65-97d4-fbc456ec6004\"}, {\"name\": \"No Detections\", \"x\": [525.0, 585.0, 1443.0, 1980.0, 2102.0, 2206.0, 2668.0, 4144.0, 4588.0, 4728.0], \"y\": [403621, 453545, 463785, 126428, 501925, 473184, 641800, 107495, 138844, 159492], \"type\": \"bar\", \"uid\": \"f4f06dcc-449b-4046-94f5-c1a7cfc99396\"}], {\"barmode\": \"group\", \"legend\": {\"orientation\": \"v\"}, \"title\": {\"text\": \"Counts of Census_OEMNameIdentifier by top-10 categories\"}, \"xaxis\": {\"showgrid\": false, \"showline\": false, \"title\": {\"text\": \"Census_OEMNameIdentifier\"}, \"zeroline\": false}, \"yaxis\": {\"showgrid\": false, \"showline\": false, \"title\": {\"text\": \"Counts\"}, \"zeroline\": false}}, {\"showLink\": false, \"linkText\": \"Export to plot.ly\", \"plotlyServerURL\": \"https://plot.ly\"})});</script><script type=\"text/javascript\">window.addEventListener(\"resize\", function(){window._Plotly.Plots.resize(document.getElementById(\"096973de-ad28-4be2-a619-dee2ab8a4b4c\"));});</script>"
      ]
     },
     "metadata": {},
     "output_type": "display_data"
    }
   ],
   "source": [
    "plot_categorical_feature('Census_OEMNameIdentifier', True)\n"
   ]
  },
  {
   "cell_type": "code",
   "execution_count": 64,
   "metadata": {
    "ExecuteTime": {
     "end_time": "2019-02-09T11:52:54.744304Z",
     "start_time": "2019-02-09T11:52:54.125266Z"
    }
   },
   "outputs": [],
   "source": [
    "train['Census_OEMNameIdentifier'] = train['Census_OEMNameIdentifier'].astype('category')\n",
    "test['Census_OEMNameIdentifier'] = test['Census_OEMNameIdentifier'].astype('category')"
   ]
  },
  {
   "cell_type": "markdown",
   "metadata": {},
   "source": [
    "### Census_OEMModelIdentifier"
   ]
  },
  {
   "cell_type": "code",
   "execution_count": 65,
   "metadata": {
    "ExecuteTime": {
     "end_time": "2019-02-09T11:53:04.825469Z",
     "start_time": "2019-02-09T11:53:03.527926Z"
    }
   },
   "outputs": [
    {
     "name": "stdout",
     "output_type": "stream",
     "text": [
      "Census_OEMModelIdentifier has 175365 unique values and type: float32.\n",
      " 313586.0    0.034163\n",
      " 242491.0    0.029522\n",
      " 317701.0    0.015584\n",
      " 317708.0    0.012919\n",
      "NaN          0.011459\n",
      "Name: Census_OEMModelIdentifier, dtype: float64\n"
     ]
    },
    {
     "data": {
      "application/vnd.plotly.v1+json": {
       "config": {
        "linkText": "Export to plot.ly",
        "plotlyServerURL": "https://plot.ly",
        "showLink": false
       },
       "data": [
        {
         "name": "Has Detections",
         "type": "bar",
         "uid": "4e2c3b97-f4e7-487e-9336-cdfab94240df",
         "x": [
          188345,
          228975,
          241876,
          242491,
          244755,
          245824,
          313586,
          317701,
          317708
         ],
         "y": [
          40943,
          39709,
          35503,
          136780,
          26024,
          39300,
          168849,
          74769,
          61099
         ]
        },
        {
         "name": "No Detections",
         "type": "bar",
         "uid": "833f0612-35bb-4273-9a19-925a5edd8e1b",
         "x": [
          188345,
          228975,
          241876,
          242491,
          244755,
          245824,
          313586,
          317701,
          317708
         ],
         "y": [
          30007,
          40169,
          32760,
          126602,
          23606,
          30229,
          135933,
          64266,
          54158
         ]
        }
       ],
       "layout": {
        "barmode": "group",
        "legend": {
         "orientation": "v"
        },
        "title": {
         "text": "Counts of Census_OEMModelIdentifier by top-10 categories"
        },
        "xaxis": {
         "showgrid": false,
         "showline": false,
         "title": {
          "text": "Census_OEMModelIdentifier"
         },
         "zeroline": false
        },
        "yaxis": {
         "showgrid": false,
         "showline": false,
         "title": {
          "text": "Counts"
         },
         "zeroline": false
        }
       }
      },
      "text/html": [
       "<div id=\"a28f1933-050a-4eff-b334-0db59472f67e\" style=\"height: 525px; width: 100%;\" class=\"plotly-graph-div\"></div><script type=\"text/javascript\">require([\"plotly\"], function(Plotly) { window.PLOTLYENV=window.PLOTLYENV || {};window.PLOTLYENV.BASE_URL=\"https://plot.ly\";Plotly.newPlot(\"a28f1933-050a-4eff-b334-0db59472f67e\", [{\"name\": \"Has Detections\", \"x\": [188345.0, 228975.0, 241876.0, 242491.0, 244755.0, 245824.0, 313586.0, 317701.0, 317708.0], \"y\": [40943, 39709, 35503, 136780, 26024, 39300, 168849, 74769, 61099], \"type\": \"bar\", \"uid\": \"81cb1dd7-f2dd-4bf5-9f8c-461661b3be78\"}, {\"name\": \"No Detections\", \"x\": [188345.0, 228975.0, 241876.0, 242491.0, 244755.0, 245824.0, 313586.0, 317701.0, 317708.0], \"y\": [30007, 40169, 32760, 126602, 23606, 30229, 135933, 64266, 54158], \"type\": \"bar\", \"uid\": \"58b87cea-7eb2-40bf-b8b5-e75028d95d5f\"}], {\"barmode\": \"group\", \"legend\": {\"orientation\": \"v\"}, \"title\": {\"text\": \"Counts of Census_OEMModelIdentifier by top-10 categories\"}, \"xaxis\": {\"showgrid\": false, \"showline\": false, \"title\": {\"text\": \"Census_OEMModelIdentifier\"}, \"zeroline\": false}, \"yaxis\": {\"showgrid\": false, \"showline\": false, \"title\": {\"text\": \"Counts\"}, \"zeroline\": false}}, {\"showLink\": false, \"linkText\": \"Export to plot.ly\", \"plotlyServerURL\": \"https://plot.ly\"})});</script><script type=\"text/javascript\">window.addEventListener(\"resize\", function(){window._Plotly.Plots.resize(document.getElementById(\"a28f1933-050a-4eff-b334-0db59472f67e\"));});</script>"
      ],
      "text/vnd.plotly.v1+html": [
       "<div id=\"a28f1933-050a-4eff-b334-0db59472f67e\" style=\"height: 525px; width: 100%;\" class=\"plotly-graph-div\"></div><script type=\"text/javascript\">require([\"plotly\"], function(Plotly) { window.PLOTLYENV=window.PLOTLYENV || {};window.PLOTLYENV.BASE_URL=\"https://plot.ly\";Plotly.newPlot(\"a28f1933-050a-4eff-b334-0db59472f67e\", [{\"name\": \"Has Detections\", \"x\": [188345.0, 228975.0, 241876.0, 242491.0, 244755.0, 245824.0, 313586.0, 317701.0, 317708.0], \"y\": [40943, 39709, 35503, 136780, 26024, 39300, 168849, 74769, 61099], \"type\": \"bar\", \"uid\": \"81cb1dd7-f2dd-4bf5-9f8c-461661b3be78\"}, {\"name\": \"No Detections\", \"x\": [188345.0, 228975.0, 241876.0, 242491.0, 244755.0, 245824.0, 313586.0, 317701.0, 317708.0], \"y\": [30007, 40169, 32760, 126602, 23606, 30229, 135933, 64266, 54158], \"type\": \"bar\", \"uid\": \"58b87cea-7eb2-40bf-b8b5-e75028d95d5f\"}], {\"barmode\": \"group\", \"legend\": {\"orientation\": \"v\"}, \"title\": {\"text\": \"Counts of Census_OEMModelIdentifier by top-10 categories\"}, \"xaxis\": {\"showgrid\": false, \"showline\": false, \"title\": {\"text\": \"Census_OEMModelIdentifier\"}, \"zeroline\": false}, \"yaxis\": {\"showgrid\": false, \"showline\": false, \"title\": {\"text\": \"Counts\"}, \"zeroline\": false}}, {\"showLink\": false, \"linkText\": \"Export to plot.ly\", \"plotlyServerURL\": \"https://plot.ly\"})});</script><script type=\"text/javascript\">window.addEventListener(\"resize\", function(){window._Plotly.Plots.resize(document.getElementById(\"a28f1933-050a-4eff-b334-0db59472f67e\"));});</script>"
      ]
     },
     "metadata": {},
     "output_type": "display_data"
    }
   ],
   "source": [
    "plot_categorical_feature('Census_OEMModelIdentifier', True)\n"
   ]
  },
  {
   "cell_type": "code",
   "execution_count": 66,
   "metadata": {
    "ExecuteTime": {
     "end_time": "2019-02-09T11:53:10.410251Z",
     "start_time": "2019-02-09T11:53:09.600975Z"
    }
   },
   "outputs": [],
   "source": [
    "train['Census_OEMModelIdentifier'] = train['Census_OEMModelIdentifier'].astype('category')\n",
    "test['Census_OEMModelIdentifier'] = test['Census_OEMModelIdentifier'].astype('category')"
   ]
  },
  {
   "cell_type": "code",
   "execution_count": 67,
   "metadata": {
    "ExecuteTime": {
     "end_time": "2019-02-09T11:53:18.870362Z",
     "start_time": "2019-02-09T11:53:18.195210Z"
    }
   },
   "outputs": [],
   "source": [
    "train['Census_ProcessorModelIdentifier'] = train['Census_ProcessorModelIdentifier'].astype('category')\n",
    "test['Census_ProcessorModelIdentifier'] = test['Census_ProcessorModelIdentifier'].astype('category')"
   ]
  },
  {
   "cell_type": "code",
   "execution_count": 68,
   "metadata": {
    "ExecuteTime": {
     "end_time": "2019-02-09T11:53:37.308755Z",
     "start_time": "2019-02-09T11:53:36.682380Z"
    }
   },
   "outputs": [],
   "source": [
    "train['Census_InternalBatteryNumberOfCharges'] = train['Census_InternalBatteryNumberOfCharges'].astype('category')\n",
    "test['Census_InternalBatteryNumberOfCharges'] = test['Census_InternalBatteryNumberOfCharges'].astype('category')"
   ]
  },
  {
   "cell_type": "code",
   "execution_count": 69,
   "metadata": {
    "ExecuteTime": {
     "end_time": "2019-02-09T11:53:46.494944Z",
     "start_time": "2019-02-09T11:53:46.090667Z"
    }
   },
   "outputs": [],
   "source": [
    "train['Census_OSBuildNumber'] = train['Census_OSBuildNumber'].astype('category')\n",
    "test['Census_OSBuildNumber'] = test['Census_OSBuildNumber'].astype('category')"
   ]
  },
  {
   "cell_type": "code",
   "execution_count": 70,
   "metadata": {
    "ExecuteTime": {
     "end_time": "2019-02-09T11:53:52.699103Z",
     "start_time": "2019-02-09T11:53:52.309187Z"
    }
   },
   "outputs": [],
   "source": [
    "train['Census_OSBuildRevision'] = train['Census_OSBuildRevision'].astype('category')\n",
    "test['Census_OSBuildRevision'] = test['Census_OSBuildRevision'].astype('category')"
   ]
  },
  {
   "cell_type": "code",
   "execution_count": 71,
   "metadata": {
    "ExecuteTime": {
     "end_time": "2019-02-09T11:53:58.700921Z",
     "start_time": "2019-02-09T11:53:58.146724Z"
    }
   },
   "outputs": [],
   "source": [
    "train['Census_FirmwareManufacturerIdentifier'] = train['Census_FirmwareManufacturerIdentifier'].astype('category')\n",
    "test['Census_FirmwareManufacturerIdentifier'] = test['Census_FirmwareManufacturerIdentifier'].astype('category')"
   ]
  },
  {
   "cell_type": "code",
   "execution_count": 72,
   "metadata": {
    "ExecuteTime": {
     "end_time": "2019-02-09T11:54:03.462573Z",
     "start_time": "2019-02-09T11:54:02.765027Z"
    }
   },
   "outputs": [],
   "source": [
    "train['Census_FirmwareVersionIdentifier'] = train['Census_FirmwareVersionIdentifier'].astype('category')\n",
    "test['Census_FirmwareVersionIdentifier'] = test['Census_FirmwareVersionIdentifier'].astype('category')"
   ]
  },
  {
   "cell_type": "code",
   "execution_count": 73,
   "metadata": {
    "ExecuteTime": {
     "end_time": "2019-02-09T11:54:07.716086Z",
     "start_time": "2019-02-09T11:54:07.359136Z"
    }
   },
   "outputs": [],
   "source": [
    "train['OsBuild'] = train['OsBuild'].astype('category')\n",
    "test['OsBuild'] = test['OsBuild'].astype('category')"
   ]
  },
  {
   "cell_type": "code",
   "execution_count": 74,
   "metadata": {
    "ExecuteTime": {
     "end_time": "2019-02-09T11:54:28.390869Z",
     "start_time": "2019-02-09T11:54:28.086610Z"
    }
   },
   "outputs": [],
   "source": [
    "def group_battery(x):\n",
    "    x = x.lower()\n",
    "    if 'li' in x:\n",
    "        return 1\n",
    "    else:\n",
    "        return 0\n",
    "    \n",
    "train['Census_InternalBatteryType'] = train['Census_InternalBatteryType'].apply(group_battery)\n",
    "test['Census_InternalBatteryType'] = test['Census_InternalBatteryType'].apply(group_battery)"
   ]
  },
  {
   "cell_type": "code",
   "execution_count": 75,
   "metadata": {
    "ExecuteTime": {
     "end_time": "2019-02-09T11:54:42.750020Z",
     "start_time": "2019-02-09T11:54:42.745070Z"
    }
   },
   "outputs": [],
   "source": [
    "def rename_edition(x):\n",
    "    x = x.lower()\n",
    "    if 'core' in x:\n",
    "        return 'Core'\n",
    "    elif 'pro' in x:\n",
    "        return 'pro'\n",
    "    elif 'enterprise' in x:\n",
    "        return 'Enterprise'\n",
    "    elif 'server' in x:\n",
    "        return 'Server'\n",
    "    elif 'home' in x:\n",
    "        return 'Home'\n",
    "    elif 'education' in x:\n",
    "        return 'Education'\n",
    "    elif 'cloud' in x:\n",
    "        return 'Cloud'\n",
    "    else:\n",
    "        return x"
   ]
  },
  {
   "cell_type": "code",
   "execution_count": 76,
   "metadata": {
    "ExecuteTime": {
     "end_time": "2019-02-09T11:54:55.830327Z",
     "start_time": "2019-02-09T11:54:50.691482Z"
    }
   },
   "outputs": [],
   "source": [
    "train['Census_OSEdition'] = train['Census_OSEdition'].astype(str)\n",
    "test['Census_OSEdition'] = test['Census_OSEdition'].astype(str)\n",
    "train['Census_OSEdition'] = train['Census_OSEdition'].apply(rename_edition)\n",
    "test['Census_OSEdition'] = test['Census_OSEdition'].apply(rename_edition)\n",
    "train['Census_OSEdition'] = train['Census_OSEdition'].astype('category')\n",
    "test['Census_OSEdition'] = test['Census_OSEdition'].astype('category')"
   ]
  },
  {
   "cell_type": "code",
   "execution_count": 77,
   "metadata": {
    "ExecuteTime": {
     "end_time": "2019-02-09T11:55:18.757358Z",
     "start_time": "2019-02-09T11:55:13.052757Z"
    }
   },
   "outputs": [],
   "source": [
    "train['Census_OSSkuName'] = train['Census_OSSkuName'].astype(str)\n",
    "test['Census_OSSkuName'] = test['Census_OSSkuName'].astype(str)\n",
    "train['Census_OSSkuName'] = train['Census_OSSkuName'].apply(rename_edition)\n",
    "test['Census_OSSkuName'] = test['Census_OSSkuName'].apply(rename_edition)\n",
    "train['Census_OSSkuName'] = train['Census_OSSkuName'].astype('category')\n",
    "test['Census_OSSkuName'] = test['Census_OSSkuName'].astype('category')"
   ]
  },
  {
   "cell_type": "code",
   "execution_count": 78,
   "metadata": {
    "ExecuteTime": {
     "end_time": "2019-02-09T11:55:23.024348Z",
     "start_time": "2019-02-09T11:55:22.486601Z"
    }
   },
   "outputs": [],
   "source": [
    "train['Census_OSInstallLanguageIdentifier'] = train['Census_OSInstallLanguageIdentifier'].astype('category')\n",
    "test['Census_OSInstallLanguageIdentifier'] = test['Census_OSInstallLanguageIdentifier'].astype('category')"
   ]
  },
  {
   "cell_type": "code",
   "execution_count": 79,
   "metadata": {
    "ExecuteTime": {
     "end_time": "2019-02-09T11:55:28.854434Z",
     "start_time": "2019-02-09T11:55:28.487886Z"
    }
   },
   "outputs": [],
   "source": [
    "train['Census_OSUILocaleIdentifier'] = train['Census_OSUILocaleIdentifier'].astype('category')\n",
    "test['Census_OSUILocaleIdentifier'] = test['Census_OSUILocaleIdentifier'].astype('category')"
   ]
  },
  {
   "cell_type": "code",
   "execution_count": 80,
   "metadata": {
    "ExecuteTime": {
     "end_time": "2019-02-09T11:55:35.795400Z",
     "start_time": "2019-02-09T11:55:35.470850Z"
    }
   },
   "outputs": [],
   "source": [
    "train['OsSuite'] = train['OsSuite'].astype('category')\n",
    "test['OsSuite'] = test['OsSuite'].astype('category')"
   ]
  },
  {
   "cell_type": "code",
   "execution_count": 81,
   "metadata": {
    "ExecuteTime": {
     "end_time": "2019-02-09T11:55:45.922052Z",
     "start_time": "2019-02-09T11:55:45.395018Z"
    }
   },
   "outputs": [],
   "source": [
    "train['Wdft_RegionIdentifier'] = train['Wdft_RegionIdentifier'].astype('category')\n",
    "test['Wdft_RegionIdentifier'] = test['Wdft_RegionIdentifier'].astype('category')"
   ]
  },
  {
   "cell_type": "markdown",
   "metadata": {},
   "source": [
    "## Feature engineering and transformation\n"
   ]
  },
  {
   "cell_type": "code",
   "execution_count": 82,
   "metadata": {
    "ExecuteTime": {
     "end_time": "2019-02-09T11:56:38.686359Z",
     "start_time": "2019-02-09T11:56:38.576677Z"
    }
   },
   "outputs": [],
   "source": [
    "train['OsBuildLab'] = train['OsBuildLab'].cat.add_categories(['0.0.0.0.0-0'])\n",
    "train['OsBuildLab'] = train['OsBuildLab'].fillna('0.0.0.0.0-0')\n",
    "test['OsBuildLab'] = test['OsBuildLab'].cat.add_categories(['0.0.0.0.0-0'])\n",
    "test['OsBuildLab'] = test['OsBuildLab'].fillna('0.0.0.0.0-0')"
   ]
  },
  {
   "cell_type": "code",
   "execution_count": 83,
   "metadata": {
    "ExecuteTime": {
     "end_time": "2019-02-09T11:57:01.515473Z",
     "start_time": "2019-02-09T11:57:01.498519Z"
    }
   },
   "outputs": [],
   "source": [
    "def fe(df):\n",
    "    df['EngineVersion_2'] = df['EngineVersion'].apply(lambda x: x.split('.')[2]).astype('category')\n",
    "    df['EngineVersion_3'] = df['EngineVersion'].apply(lambda x: x.split('.')[3]).astype('category')\n",
    "\n",
    "    df['AppVersion_1'] = df['AppVersion'].apply(lambda x: x.split('.')[1]).astype('category')\n",
    "    df['AppVersion_2'] = df['AppVersion'].apply(lambda x: x.split('.')[2]).astype('category')\n",
    "    df['AppVersion_3'] = df['AppVersion'].apply(lambda x: x.split('.')[3]).astype('category')\n",
    "\n",
    "    df['AvSigVersion_0'] = df['AvSigVersion'].apply(lambda x: x.split('.')[0]).astype('category')\n",
    "    df['AvSigVersion_1'] = df['AvSigVersion'].apply(lambda x: x.split('.')[1]).astype('category')\n",
    "    df['AvSigVersion_2'] = df['AvSigVersion'].apply(lambda x: x.split('.')[2]).astype('category')\n",
    "\n",
    "    df['OsBuildLab_0'] = df['OsBuildLab'].apply(lambda x: x.split('.')[0]).astype('category')\n",
    "    df['OsBuildLab_1'] = df['OsBuildLab'].apply(lambda x: x.split('.')[1]).astype('category')\n",
    "    df['OsBuildLab_2'] = df['OsBuildLab'].apply(lambda x: x.split('.')[2]).astype('category')\n",
    "    df['OsBuildLab_3'] = df['OsBuildLab'].apply(lambda x: x.split('.')[3]).astype('category')\n",
    "    # df['OsBuildLab_40'] = df['OsBuildLab'].apply(lambda x: x.split('.')[4].split('-')[0]).astype('category')\n",
    "    # df['OsBuildLab_41'] = df['OsBuildLab'].apply(lambda x: x.split('.')[4].split('-')[1]).astype('category')\n",
    "\n",
    "    df['Census_OSVersion_0'] = df['Census_OSVersion'].apply(lambda x: x.split('.')[0]).astype('category')\n",
    "    df['Census_OSVersion_1'] = df['Census_OSVersion'].apply(lambda x: x.split('.')[1]).astype('category')\n",
    "    df['Census_OSVersion_2'] = df['Census_OSVersion'].apply(lambda x: x.split('.')[2]).astype('category')\n",
    "    df['Census_OSVersion_3'] = df['Census_OSVersion'].apply(lambda x: x.split('.')[3]).astype('category')\n",
    "\n",
    "    # https://www.kaggle.com/adityaecdrid/simple-feature-engineering-xd\n",
    "    df['primary_drive_c_ratio'] = df['Census_SystemVolumeTotalCapacity']/ df['Census_PrimaryDiskTotalCapacity']\n",
    "    df['non_primary_drive_MB'] = df['Census_PrimaryDiskTotalCapacity'] - df['Census_SystemVolumeTotalCapacity']\n",
    "\n",
    "    df['aspect_ratio'] = df['Census_InternalPrimaryDisplayResolutionHorizontal']/ df['Census_InternalPrimaryDisplayResolutionVertical']\n",
    "\n",
    "    df['monitor_dims'] = df['Census_InternalPrimaryDisplayResolutionHorizontal'].astype(str) + '*' + df['Census_InternalPrimaryDisplayResolutionVertical'].astype('str')\n",
    "    df['monitor_dims'] = df['monitor_dims'].astype('category')\n",
    "\n",
    "    df['dpi'] = ((df['Census_InternalPrimaryDisplayResolutionHorizontal']**2 + df['Census_InternalPrimaryDisplayResolutionVertical']**2)**.5)/(df['Census_InternalPrimaryDiagonalDisplaySizeInInches'])\n",
    "\n",
    "    df['dpi_square'] = df['dpi'] ** 2\n",
    "\n",
    "    df['MegaPixels'] = (df['Census_InternalPrimaryDisplayResolutionHorizontal'] * df['Census_InternalPrimaryDisplayResolutionVertical'])/1e6\n",
    "\n",
    "    df['Screen_Area'] = (df['aspect_ratio']* (df['Census_InternalPrimaryDiagonalDisplaySizeInInches']**2))/(df['aspect_ratio']**2 + 1)\n",
    "\n",
    "    df['ram_per_processor'] = df['Census_TotalPhysicalRAM']/ df['Census_ProcessorCoreCount']\n",
    "\n",
    "    df['new_num_0'] = df['Census_InternalPrimaryDiagonalDisplaySizeInInches'] / df['Census_ProcessorCoreCount']\n",
    "\n",
    "    df['new_num_1'] = df['Census_ProcessorCoreCount'] * df['Census_InternalPrimaryDiagonalDisplaySizeInInches']\n",
    "    \n",
    "    df['Census_IsFlightingInternal'] = df['Census_IsFlightingInternal'].fillna(1)\n",
    "    df['Census_ThresholdOptIn'] = df['Census_ThresholdOptIn'].fillna(1)\n",
    "    df['Census_IsWIMBootEnabled'] = df['Census_IsWIMBootEnabled'].fillna(1)\n",
    "    df['Wdft_IsGamer'] = df['Wdft_IsGamer'].fillna(0)\n",
    "    \n",
    "    return df"
   ]
  },
  {
   "cell_type": "code",
   "execution_count": 84,
   "metadata": {
    "ExecuteTime": {
     "end_time": "2019-02-09T11:57:41.607165Z",
     "start_time": "2019-02-09T11:57:09.988249Z"
    }
   },
   "outputs": [
    {
     "name": "stdout",
     "output_type": "stream",
     "text": [
      "Wall time: 31.6 s\n"
     ]
    }
   ],
   "source": [
    "%%time\n",
    "train = fe(train)\n",
    "test = fe(test)"
   ]
  },
  {
   "cell_type": "code",
   "execution_count": 85,
   "metadata": {
    "ExecuteTime": {
     "end_time": "2019-02-09T11:57:48.933792Z",
     "start_time": "2019-02-09T11:57:48.925849Z"
    }
   },
   "outputs": [
    {
     "data": {
      "text/plain": [
       "57"
      ]
     },
     "execution_count": 85,
     "metadata": {},
     "output_type": "execute_result"
    }
   ],
   "source": [
    "cat_cols = [col for col in train.columns if col not in ['MachineIdentifier', 'Census_SystemVolumeTotalCapacity', 'HasDetections'] and str(train[col].dtype) == 'category']\n",
    "len(cat_cols)"
   ]
  },
  {
   "cell_type": "code",
   "execution_count": 87,
   "metadata": {
    "ExecuteTime": {
     "end_time": "2019-02-09T12:00:43.988926Z",
     "start_time": "2019-02-09T11:58:48.129271Z"
    }
   },
   "outputs": [],
   "source": [
    "more_cat_cols = []\n",
    "add_cat_feats = [\n",
    " 'Census_OSBuildRevision',\n",
    " 'OsBuildLab',\n",
    " 'SmartScreen',\n",
    "'AVProductsInstalled']\n",
    "for col1 in add_cat_feats:\n",
    "    for col2 in add_cat_feats:\n",
    "        if col1 != col2:\n",
    "            train[col1 + '__' + col2] = train[col1].astype(str) + train[col2].astype(str)\n",
    "            train[col1 + '__' + col2] = train[col1 + '__' + col2].astype('category')\n",
    "            \n",
    "            test[col1 + '__' + col2] = test[col1].astype(str) + test[col2].astype(str)\n",
    "            test[col1 + '__' + col2] = test[col1 + '__' + col2].astype('category')\n",
    "            more_cat_cols.append(col1 + '__' + col2)\n",
    "            \n",
    "cat_cols = cat_cols + more_cat_cols"
   ]
  },
  {
   "cell_type": "code",
   "execution_count": 88,
   "metadata": {
    "ExecuteTime": {
     "end_time": "2019-02-09T12:02:14.016367Z",
     "start_time": "2019-02-09T12:02:05.543501Z"
    }
   },
   "outputs": [
    {
     "name": "stdout",
     "output_type": "stream",
     "text": [
      "AvSigVersion 8531\n",
      "AVProductStatesIdentifier 28970\n",
      "CityIdentifier 107366\n",
      "Census_OEMNameIdentifier 2564\n",
      "Census_OEMModelIdentifier 175365\n",
      "Census_ProcessorModelIdentifier 2583\n",
      "Census_InternalBatteryNumberOfCharges 41087\n",
      "Census_FirmwareVersionIdentifier 50494\n",
      "AvSigVersion_2 2766\n",
      "monitor_dims 10061\n",
      "Census_OSBuildRevision__OsBuildLab 15367\n",
      "Census_OSBuildRevision__SmartScreen 1763\n",
      "Census_OSBuildRevision__AVProductsInstalled 1169\n",
      "OsBuildLab__Census_OSBuildRevision 15367\n",
      "OsBuildLab__SmartScreen 2307\n",
      "OsBuildLab__AVProductsInstalled 1951\n",
      "SmartScreen__Census_OSBuildRevision 1763\n",
      "SmartScreen__OsBuildLab 2307\n",
      "AVProductsInstalled__Census_OSBuildRevision 1169\n",
      "AVProductsInstalled__OsBuildLab 1951\n"
     ]
    }
   ],
   "source": [
    "to_encode = []\n",
    "for col in cat_cols:\n",
    "    if train[col].nunique() > 1000:\n",
    "        print(col, train[col].nunique())\n",
    "        to_encode.append(col)"
   ]
  },
  {
   "cell_type": "markdown",
   "metadata": {},
   "source": [
    "### Frequency encoding"
   ]
  },
  {
   "cell_type": "code",
   "execution_count": 89,
   "metadata": {
    "ExecuteTime": {
     "end_time": "2019-02-09T12:02:16.236819Z",
     "start_time": "2019-02-09T12:02:16.228841Z"
    }
   },
   "outputs": [],
   "source": [
    "def frequency_encoding(variable):\n",
    "    t = pd.concat([train[variable], test[variable]]).value_counts().reset_index()\n",
    "    t = t.reset_index()\n",
    "    t.loc[t[variable] == 1, 'level_0'] = np.nan\n",
    "    t.set_index('index', inplace=True)\n",
    "    max_label = t['level_0'].max() + 1\n",
    "    t.fillna(max_label, inplace=True)\n",
    "    return t.to_dict()['level_0']"
   ]
  },
  {
   "cell_type": "code",
   "execution_count": 90,
   "metadata": {
    "ExecuteTime": {
     "end_time": "2019-02-09T12:02:58.897667Z",
     "start_time": "2019-02-09T12:02:23.006366Z"
    }
   },
   "outputs": [
    {
     "data": {
      "application/vnd.jupyter.widget-view+json": {
       "model_id": "d7dae0edde45472187d9fe804983a82f",
       "version_major": 2,
       "version_minor": 0
      },
      "text/plain": [
       "HBox(children=(IntProgress(value=0, max=20), HTML(value='')))"
      ]
     },
     "metadata": {},
     "output_type": "display_data"
    },
    {
     "name": "stdout",
     "output_type": "stream",
     "text": [
      "\n"
     ]
    }
   ],
   "source": [
    "for col in tqdm_notebook(to_encode):\n",
    "    freq_enc_dict = frequency_encoding(col)\n",
    "    train[col] = train[col].map(lambda x: freq_enc_dict.get(x, np.nan))\n",
    "    test[col] = test[col].map(lambda x: freq_enc_dict.get(x, np.nan))\n",
    "    cat_cols.remove(col)"
   ]
  },
  {
   "cell_type": "markdown",
   "metadata": {},
   "source": [
    "### Label encoding"
   ]
  },
  {
   "cell_type": "code",
   "execution_count": 92,
   "metadata": {
    "ExecuteTime": {
     "end_time": "2019-02-09T12:08:08.306663Z",
     "start_time": "2019-02-09T12:04:01.061659Z"
    }
   },
   "outputs": [
    {
     "data": {
      "application/vnd.jupyter.widget-view+json": {
       "model_id": "8bd748cc9f3d4e71b6e7d481f043c142",
       "version_major": 2,
       "version_minor": 0
      },
      "text/plain": [
       "HBox(children=(IntProgress(value=0, max=49), HTML(value='')))"
      ]
     },
     "metadata": {},
     "output_type": "display_data"
    },
    {
     "name": "stdout",
     "output_type": "stream",
     "text": [
      "\n",
      "Wall time: 4min 7s\n"
     ]
    }
   ],
   "source": [
    "%%time\n",
    "indexer = {}\n",
    "for col in cat_cols:\n",
    "    # print(col)\n",
    "    _, indexer[col] = pd.factorize(train[col].astype(str), sort=True)\n",
    "    \n",
    "for col in tqdm_notebook(cat_cols):\n",
    "    # print(col)\n",
    "    train[col] = indexer[col].get_indexer(train[col].astype(str))\n",
    "    test[col] = indexer[col].get_indexer(test[col].astype(str))"
   ]
  },
  {
   "cell_type": "code",
   "execution_count": 105,
   "metadata": {
    "ExecuteTime": {
     "end_time": "2019-02-09T12:13:54.597463Z",
     "start_time": "2019-02-09T12:13:54.594471Z"
    }
   },
   "outputs": [],
   "source": [
    "del indexer"
   ]
  },
  {
   "cell_type": "code",
   "execution_count": 106,
   "metadata": {
    "ExecuteTime": {
     "end_time": "2019-02-09T12:13:59.093134Z",
     "start_time": "2019-02-09T12:13:59.037284Z"
    }
   },
   "outputs": [
    {
     "data": {
      "text/html": [
       "<div>\n",
       "<style scoped>\n",
       "    .dataframe tbody tr th:only-of-type {\n",
       "        vertical-align: middle;\n",
       "    }\n",
       "\n",
       "    .dataframe tbody tr th {\n",
       "        vertical-align: top;\n",
       "    }\n",
       "\n",
       "    .dataframe thead th {\n",
       "        text-align: right;\n",
       "    }\n",
       "</style>\n",
       "<table border=\"1\" class=\"dataframe\">\n",
       "  <thead>\n",
       "    <tr style=\"text-align: right;\">\n",
       "      <th></th>\n",
       "      <th>MachineIdentifier</th>\n",
       "      <th>EngineVersion</th>\n",
       "      <th>AppVersion</th>\n",
       "      <th>AvSigVersion</th>\n",
       "      <th>AVProductStatesIdentifier</th>\n",
       "      <th>AVProductsInstalled</th>\n",
       "      <th>CountryIdentifier</th>\n",
       "      <th>CityIdentifier</th>\n",
       "      <th>OrganizationIdentifier</th>\n",
       "      <th>GeoNameIdentifier</th>\n",
       "      <th>LocaleEnglishNameIdentifier</th>\n",
       "      <th>OsBuild</th>\n",
       "      <th>OsSuite</th>\n",
       "      <th>OsPlatformSubRelease</th>\n",
       "      <th>OsBuildLab</th>\n",
       "      <th>SkuEdition</th>\n",
       "      <th>IeVerIdentifier</th>\n",
       "      <th>SmartScreen</th>\n",
       "      <th>Census_MDC2FormFactor</th>\n",
       "      <th>Census_OEMNameIdentifier</th>\n",
       "      <th>Census_OEMModelIdentifier</th>\n",
       "      <th>Census_ProcessorCoreCount</th>\n",
       "      <th>Census_ProcessorManufacturerIdentifier</th>\n",
       "      <th>Census_ProcessorModelIdentifier</th>\n",
       "      <th>Census_PrimaryDiskTotalCapacity</th>\n",
       "      <th>Census_PrimaryDiskTypeName</th>\n",
       "      <th>Census_SystemVolumeTotalCapacity</th>\n",
       "      <th>Census_TotalPhysicalRAM</th>\n",
       "      <th>Census_ChassisTypeName</th>\n",
       "      <th>Census_InternalPrimaryDiagonalDisplaySizeInInches</th>\n",
       "      <th>Census_InternalPrimaryDisplayResolutionHorizontal</th>\n",
       "      <th>Census_InternalPrimaryDisplayResolutionVertical</th>\n",
       "      <th>Census_PowerPlatformRoleName</th>\n",
       "      <th>Census_InternalBatteryType</th>\n",
       "      <th>Census_InternalBatteryNumberOfCharges</th>\n",
       "      <th>Census_OSVersion</th>\n",
       "      <th>Census_OSBranch</th>\n",
       "      <th>Census_OSBuildNumber</th>\n",
       "      <th>Census_OSBuildRevision</th>\n",
       "      <th>Census_OSEdition</th>\n",
       "      <th>Census_OSSkuName</th>\n",
       "      <th>Census_OSInstallTypeName</th>\n",
       "      <th>Census_OSInstallLanguageIdentifier</th>\n",
       "      <th>Census_OSUILocaleIdentifier</th>\n",
       "      <th>Census_OSWUAutoUpdateOptionsName</th>\n",
       "      <th>Census_GenuineStateName</th>\n",
       "      <th>Census_ActivationChannel</th>\n",
       "      <th>Census_IsFlightingInternal</th>\n",
       "      <th>Census_ThresholdOptIn</th>\n",
       "      <th>Census_FirmwareManufacturerIdentifier</th>\n",
       "      <th>Census_FirmwareVersionIdentifier</th>\n",
       "      <th>Census_IsSecureBootEnabled</th>\n",
       "      <th>Census_IsWIMBootEnabled</th>\n",
       "      <th>Census_IsTouchEnabled</th>\n",
       "      <th>Wdft_IsGamer</th>\n",
       "      <th>Wdft_RegionIdentifier</th>\n",
       "      <th>HasDetections</th>\n",
       "      <th>EngineVersion_2</th>\n",
       "      <th>EngineVersion_3</th>\n",
       "      <th>AppVersion_1</th>\n",
       "      <th>AppVersion_2</th>\n",
       "      <th>AppVersion_3</th>\n",
       "      <th>AvSigVersion_0</th>\n",
       "      <th>AvSigVersion_1</th>\n",
       "      <th>AvSigVersion_2</th>\n",
       "      <th>OsBuildLab_0</th>\n",
       "      <th>OsBuildLab_1</th>\n",
       "      <th>OsBuildLab_2</th>\n",
       "      <th>OsBuildLab_3</th>\n",
       "      <th>Census_OSVersion_0</th>\n",
       "      <th>Census_OSVersion_1</th>\n",
       "      <th>Census_OSVersion_2</th>\n",
       "      <th>Census_OSVersion_3</th>\n",
       "      <th>primary_drive_c_ratio</th>\n",
       "      <th>non_primary_drive_MB</th>\n",
       "      <th>aspect_ratio</th>\n",
       "      <th>monitor_dims</th>\n",
       "      <th>dpi</th>\n",
       "      <th>dpi_square</th>\n",
       "      <th>MegaPixels</th>\n",
       "      <th>Screen_Area</th>\n",
       "      <th>ram_per_processor</th>\n",
       "      <th>new_num_0</th>\n",
       "      <th>new_num_1</th>\n",
       "      <th>Census_OSBuildRevision__OsBuildLab</th>\n",
       "      <th>Census_OSBuildRevision__SmartScreen</th>\n",
       "      <th>Census_OSBuildRevision__AVProductsInstalled</th>\n",
       "      <th>OsBuildLab__Census_OSBuildRevision</th>\n",
       "      <th>OsBuildLab__SmartScreen</th>\n",
       "      <th>OsBuildLab__AVProductsInstalled</th>\n",
       "      <th>SmartScreen__Census_OSBuildRevision</th>\n",
       "      <th>SmartScreen__OsBuildLab</th>\n",
       "      <th>SmartScreen__AVProductsInstalled</th>\n",
       "      <th>AVProductsInstalled__Census_OSBuildRevision</th>\n",
       "      <th>AVProductsInstalled__OsBuildLab</th>\n",
       "      <th>AVProductsInstalled__SmartScreen</th>\n",
       "    </tr>\n",
       "  </thead>\n",
       "  <tbody>\n",
       "    <tr>\n",
       "      <th>0</th>\n",
       "      <td>0000028988387b115f69f31a3bf04f09</td>\n",
       "      <td>65</td>\n",
       "      <td>59</td>\n",
       "      <td>134.0</td>\n",
       "      <td>0.0</td>\n",
       "      <td>1</td>\n",
       "      <td>144</td>\n",
       "      <td>205.0</td>\n",
       "      <td>8</td>\n",
       "      <td>223</td>\n",
       "      <td>111</td>\n",
       "      <td>6</td>\n",
       "      <td>3</td>\n",
       "      <td>4</td>\n",
       "      <td>273</td>\n",
       "      <td>6</td>\n",
       "      <td>24</td>\n",
       "      <td>15</td>\n",
       "      <td>2</td>\n",
       "      <td>0.0</td>\n",
       "      <td>22022.0</td>\n",
       "      <td>4.0</td>\n",
       "      <td>5.0</td>\n",
       "      <td>135.0</td>\n",
       "      <td>476940.0</td>\n",
       "      <td>0</td>\n",
       "      <td>299451.0</td>\n",
       "      <td>4096.0</td>\n",
       "      <td>24</td>\n",
       "      <td>18.906250</td>\n",
       "      <td>1440.0</td>\n",
       "      <td>900.0</td>\n",
       "      <td>1</td>\n",
       "      <td>0</td>\n",
       "      <td>1.0</td>\n",
       "      <td>361</td>\n",
       "      <td>10</td>\n",
       "      <td>96</td>\n",
       "      <td>75</td>\n",
       "      <td>6</td>\n",
       "      <td>5</td>\n",
       "      <td>6</td>\n",
       "      <td>18</td>\n",
       "      <td>17</td>\n",
       "      <td>5</td>\n",
       "      <td>1</td>\n",
       "      <td>2</td>\n",
       "      <td>1.0</td>\n",
       "      <td>1.0</td>\n",
       "      <td>448</td>\n",
       "      <td>2572.0</td>\n",
       "      <td>0</td>\n",
       "      <td>1.0</td>\n",
       "      <td>0</td>\n",
       "      <td>0.0</td>\n",
       "      <td>1</td>\n",
       "      <td>0</td>\n",
       "      <td>59</td>\n",
       "      <td>1</td>\n",
       "      <td>8</td>\n",
       "      <td>25</td>\n",
       "      <td>54</td>\n",
       "      <td>1</td>\n",
       "      <td>48</td>\n",
       "      <td>211.0</td>\n",
       "      <td>19</td>\n",
       "      <td>1</td>\n",
       "      <td>1</td>\n",
       "      <td>14</td>\n",
       "      <td>0</td>\n",
       "      <td>0</td>\n",
       "      <td>96</td>\n",
       "      <td>75</td>\n",
       "      <td>0.627859</td>\n",
       "      <td>177489.0</td>\n",
       "      <td>1.599609</td>\n",
       "      <td>6.0</td>\n",
       "      <td>inf</td>\n",
       "      <td>inf</td>\n",
       "      <td>inf</td>\n",
       "      <td>160.7500</td>\n",
       "      <td>1024.0</td>\n",
       "      <td>4.726562</td>\n",
       "      <td>75.62500</td>\n",
       "      <td>3.0</td>\n",
       "      <td>8.0</td>\n",
       "      <td>3.0</td>\n",
       "      <td>3.0</td>\n",
       "      <td>0.0</td>\n",
       "      <td>0.0</td>\n",
       "      <td>8.0</td>\n",
       "      <td>0.0</td>\n",
       "      <td>61</td>\n",
       "      <td>3.0</td>\n",
       "      <td>0.0</td>\n",
       "      <td>16</td>\n",
       "    </tr>\n",
       "    <tr>\n",
       "      <th>1</th>\n",
       "      <td>000007535c3f730efa9ea0b7ef1bd645</td>\n",
       "      <td>55</td>\n",
       "      <td>26</td>\n",
       "      <td>0.0</td>\n",
       "      <td>0.0</td>\n",
       "      <td>1</td>\n",
       "      <td>215</td>\n",
       "      <td>171.0</td>\n",
       "      <td>8</td>\n",
       "      <td>22</td>\n",
       "      <td>213</td>\n",
       "      <td>6</td>\n",
       "      <td>3</td>\n",
       "      <td>4</td>\n",
       "      <td>273</td>\n",
       "      <td>6</td>\n",
       "      <td>24</td>\n",
       "      <td>15</td>\n",
       "      <td>8</td>\n",
       "      <td>0.0</td>\n",
       "      <td>118655.0</td>\n",
       "      <td>4.0</td>\n",
       "      <td>5.0</td>\n",
       "      <td>134.0</td>\n",
       "      <td>476940.0</td>\n",
       "      <td>0</td>\n",
       "      <td>102385.0</td>\n",
       "      <td>4096.0</td>\n",
       "      <td>38</td>\n",
       "      <td>13.898438</td>\n",
       "      <td>1366.0</td>\n",
       "      <td>768.0</td>\n",
       "      <td>3</td>\n",
       "      <td>0</td>\n",
       "      <td>2.0</td>\n",
       "      <td>357</td>\n",
       "      <td>10</td>\n",
       "      <td>96</td>\n",
       "      <td>1</td>\n",
       "      <td>6</td>\n",
       "      <td>5</td>\n",
       "      <td>2</td>\n",
       "      <td>37</td>\n",
       "      <td>79</td>\n",
       "      <td>5</td>\n",
       "      <td>2</td>\n",
       "      <td>2</td>\n",
       "      <td>1.0</td>\n",
       "      <td>1.0</td>\n",
       "      <td>448</td>\n",
       "      <td>1415.0</td>\n",
       "      <td>0</td>\n",
       "      <td>1.0</td>\n",
       "      <td>0</td>\n",
       "      <td>0.0</td>\n",
       "      <td>13</td>\n",
       "      <td>0</td>\n",
       "      <td>54</td>\n",
       "      <td>4</td>\n",
       "      <td>3</td>\n",
       "      <td>6</td>\n",
       "      <td>1</td>\n",
       "      <td>1</td>\n",
       "      <td>43</td>\n",
       "      <td>0.0</td>\n",
       "      <td>19</td>\n",
       "      <td>1</td>\n",
       "      <td>1</td>\n",
       "      <td>14</td>\n",
       "      <td>0</td>\n",
       "      <td>0</td>\n",
       "      <td>96</td>\n",
       "      <td>1</td>\n",
       "      <td>0.214671</td>\n",
       "      <td>374555.0</td>\n",
       "      <td>1.778320</td>\n",
       "      <td>0.0</td>\n",
       "      <td>inf</td>\n",
       "      <td>inf</td>\n",
       "      <td>inf</td>\n",
       "      <td>82.5000</td>\n",
       "      <td>1024.0</td>\n",
       "      <td>3.474609</td>\n",
       "      <td>55.59375</td>\n",
       "      <td>19.0</td>\n",
       "      <td>17.0</td>\n",
       "      <td>19.0</td>\n",
       "      <td>19.0</td>\n",
       "      <td>0.0</td>\n",
       "      <td>0.0</td>\n",
       "      <td>17.0</td>\n",
       "      <td>0.0</td>\n",
       "      <td>61</td>\n",
       "      <td>19.0</td>\n",
       "      <td>0.0</td>\n",
       "      <td>16</td>\n",
       "    </tr>\n",
       "    <tr>\n",
       "      <th>2</th>\n",
       "      <td>000007905a28d863f6d0d597892cd692</td>\n",
       "      <td>65</td>\n",
       "      <td>59</td>\n",
       "      <td>336.0</td>\n",
       "      <td>0.0</td>\n",
       "      <td>1</td>\n",
       "      <td>207</td>\n",
       "      <td>673.0</td>\n",
       "      <td>8</td>\n",
       "      <td>254</td>\n",
       "      <td>197</td>\n",
       "      <td>6</td>\n",
       "      <td>12</td>\n",
       "      <td>4</td>\n",
       "      <td>273</td>\n",
       "      <td>4</td>\n",
       "      <td>24</td>\n",
       "      <td>13</td>\n",
       "      <td>2</td>\n",
       "      <td>10.0</td>\n",
       "      <td>2.0</td>\n",
       "      <td>4.0</td>\n",
       "      <td>5.0</td>\n",
       "      <td>191.0</td>\n",
       "      <td>114473.0</td>\n",
       "      <td>1</td>\n",
       "      <td>113907.0</td>\n",
       "      <td>4096.0</td>\n",
       "      <td>24</td>\n",
       "      <td>21.500000</td>\n",
       "      <td>1920.0</td>\n",
       "      <td>1080.0</td>\n",
       "      <td>1</td>\n",
       "      <td>0</td>\n",
       "      <td>1.0</td>\n",
       "      <td>361</td>\n",
       "      <td>10</td>\n",
       "      <td>96</td>\n",
       "      <td>75</td>\n",
       "      <td>1</td>\n",
       "      <td>1</td>\n",
       "      <td>6</td>\n",
       "      <td>36</td>\n",
       "      <td>78</td>\n",
       "      <td>2</td>\n",
       "      <td>1</td>\n",
       "      <td>1</td>\n",
       "      <td>1.0</td>\n",
       "      <td>1.0</td>\n",
       "      <td>89</td>\n",
       "      <td>184.0</td>\n",
       "      <td>0</td>\n",
       "      <td>1.0</td>\n",
       "      <td>0</td>\n",
       "      <td>0.0</td>\n",
       "      <td>8</td>\n",
       "      <td>0</td>\n",
       "      <td>59</td>\n",
       "      <td>1</td>\n",
       "      <td>8</td>\n",
       "      <td>25</td>\n",
       "      <td>54</td>\n",
       "      <td>1</td>\n",
       "      <td>48</td>\n",
       "      <td>295.0</td>\n",
       "      <td>19</td>\n",
       "      <td>1</td>\n",
       "      <td>1</td>\n",
       "      <td>14</td>\n",
       "      <td>0</td>\n",
       "      <td>0</td>\n",
       "      <td>96</td>\n",
       "      <td>75</td>\n",
       "      <td>0.995056</td>\n",
       "      <td>566.0</td>\n",
       "      <td>1.777344</td>\n",
       "      <td>1.0</td>\n",
       "      <td>inf</td>\n",
       "      <td>inf</td>\n",
       "      <td>inf</td>\n",
       "      <td>197.6250</td>\n",
       "      <td>1024.0</td>\n",
       "      <td>5.375000</td>\n",
       "      <td>86.00000</td>\n",
       "      <td>3.0</td>\n",
       "      <td>7.0</td>\n",
       "      <td>3.0</td>\n",
       "      <td>3.0</td>\n",
       "      <td>1.0</td>\n",
       "      <td>0.0</td>\n",
       "      <td>7.0</td>\n",
       "      <td>1.0</td>\n",
       "      <td>47</td>\n",
       "      <td>3.0</td>\n",
       "      <td>0.0</td>\n",
       "      <td>14</td>\n",
       "    </tr>\n",
       "    <tr>\n",
       "      <th>3</th>\n",
       "      <td>00000b11598a75ea8ba1beea8459149f</td>\n",
       "      <td>65</td>\n",
       "      <td>59</td>\n",
       "      <td>25.0</td>\n",
       "      <td>0.0</td>\n",
       "      <td>1</td>\n",
       "      <td>209</td>\n",
       "      <td>20.0</td>\n",
       "      <td>49</td>\n",
       "      <td>20</td>\n",
       "      <td>145</td>\n",
       "      <td>6</td>\n",
       "      <td>3</td>\n",
       "      <td>4</td>\n",
       "      <td>273</td>\n",
       "      <td>6</td>\n",
       "      <td>24</td>\n",
       "      <td>7</td>\n",
       "      <td>2</td>\n",
       "      <td>2.0</td>\n",
       "      <td>158.0</td>\n",
       "      <td>4.0</td>\n",
       "      <td>5.0</td>\n",
       "      <td>63.0</td>\n",
       "      <td>238475.0</td>\n",
       "      <td>2</td>\n",
       "      <td>227116.0</td>\n",
       "      <td>4096.0</td>\n",
       "      <td>36</td>\n",
       "      <td>18.500000</td>\n",
       "      <td>1366.0</td>\n",
       "      <td>768.0</td>\n",
       "      <td>1</td>\n",
       "      <td>0</td>\n",
       "      <td>1.0</td>\n",
       "      <td>365</td>\n",
       "      <td>10</td>\n",
       "      <td>96</td>\n",
       "      <td>161</td>\n",
       "      <td>6</td>\n",
       "      <td>5</td>\n",
       "      <td>6</td>\n",
       "      <td>8</td>\n",
       "      <td>112</td>\n",
       "      <td>2</td>\n",
       "      <td>1</td>\n",
       "      <td>1</td>\n",
       "      <td>1.0</td>\n",
       "      <td>1.0</td>\n",
       "      <td>240</td>\n",
       "      <td>30.0</td>\n",
       "      <td>0</td>\n",
       "      <td>1.0</td>\n",
       "      <td>0</td>\n",
       "      <td>0.0</td>\n",
       "      <td>8</td>\n",
       "      <td>1</td>\n",
       "      <td>59</td>\n",
       "      <td>1</td>\n",
       "      <td>8</td>\n",
       "      <td>25</td>\n",
       "      <td>54</td>\n",
       "      <td>1</td>\n",
       "      <td>48</td>\n",
       "      <td>23.0</td>\n",
       "      <td>19</td>\n",
       "      <td>1</td>\n",
       "      <td>1</td>\n",
       "      <td>14</td>\n",
       "      <td>0</td>\n",
       "      <td>0</td>\n",
       "      <td>96</td>\n",
       "      <td>161</td>\n",
       "      <td>0.952368</td>\n",
       "      <td>11359.0</td>\n",
       "      <td>1.778320</td>\n",
       "      <td>0.0</td>\n",
       "      <td>inf</td>\n",
       "      <td>inf</td>\n",
       "      <td>inf</td>\n",
       "      <td>146.1250</td>\n",
       "      <td>1024.0</td>\n",
       "      <td>4.625000</td>\n",
       "      <td>74.00000</td>\n",
       "      <td>0.0</td>\n",
       "      <td>22.0</td>\n",
       "      <td>0.0</td>\n",
       "      <td>0.0</td>\n",
       "      <td>6.0</td>\n",
       "      <td>0.0</td>\n",
       "      <td>22.0</td>\n",
       "      <td>6.0</td>\n",
       "      <td>19</td>\n",
       "      <td>0.0</td>\n",
       "      <td>0.0</td>\n",
       "      <td>8</td>\n",
       "    </tr>\n",
       "    <tr>\n",
       "      <th>4</th>\n",
       "      <td>000014a5f00daa18e76b81417eeb99fc</td>\n",
       "      <td>65</td>\n",
       "      <td>59</td>\n",
       "      <td>18.0</td>\n",
       "      <td>0.0</td>\n",
       "      <td>1</td>\n",
       "      <td>89</td>\n",
       "      <td>13.0</td>\n",
       "      <td>49</td>\n",
       "      <td>195</td>\n",
       "      <td>225</td>\n",
       "      <td>6</td>\n",
       "      <td>12</td>\n",
       "      <td>4</td>\n",
       "      <td>273</td>\n",
       "      <td>4</td>\n",
       "      <td>24</td>\n",
       "      <td>13</td>\n",
       "      <td>8</td>\n",
       "      <td>2.0</td>\n",
       "      <td>2269.0</td>\n",
       "      <td>4.0</td>\n",
       "      <td>5.0</td>\n",
       "      <td>52.0</td>\n",
       "      <td>476940.0</td>\n",
       "      <td>0</td>\n",
       "      <td>101900.0</td>\n",
       "      <td>6144.0</td>\n",
       "      <td>41</td>\n",
       "      <td>14.000000</td>\n",
       "      <td>1366.0</td>\n",
       "      <td>768.0</td>\n",
       "      <td>3</td>\n",
       "      <td>1</td>\n",
       "      <td>0.0</td>\n",
       "      <td>363</td>\n",
       "      <td>10</td>\n",
       "      <td>96</td>\n",
       "      <td>136</td>\n",
       "      <td>1</td>\n",
       "      <td>1</td>\n",
       "      <td>7</td>\n",
       "      <td>37</td>\n",
       "      <td>79</td>\n",
       "      <td>2</td>\n",
       "      <td>1</td>\n",
       "      <td>2</td>\n",
       "      <td>0.0</td>\n",
       "      <td>0.0</td>\n",
       "      <td>240</td>\n",
       "      <td>129.0</td>\n",
       "      <td>0</td>\n",
       "      <td>0.0</td>\n",
       "      <td>0</td>\n",
       "      <td>0.0</td>\n",
       "      <td>0</td>\n",
       "      <td>1</td>\n",
       "      <td>59</td>\n",
       "      <td>1</td>\n",
       "      <td>8</td>\n",
       "      <td>25</td>\n",
       "      <td>54</td>\n",
       "      <td>1</td>\n",
       "      <td>48</td>\n",
       "      <td>26.0</td>\n",
       "      <td>19</td>\n",
       "      <td>1</td>\n",
       "      <td>1</td>\n",
       "      <td>14</td>\n",
       "      <td>0</td>\n",
       "      <td>0</td>\n",
       "      <td>96</td>\n",
       "      <td>136</td>\n",
       "      <td>0.213654</td>\n",
       "      <td>375040.0</td>\n",
       "      <td>1.778320</td>\n",
       "      <td>0.0</td>\n",
       "      <td>inf</td>\n",
       "      <td>inf</td>\n",
       "      <td>inf</td>\n",
       "      <td>83.6875</td>\n",
       "      <td>1536.0</td>\n",
       "      <td>3.500000</td>\n",
       "      <td>56.00000</td>\n",
       "      <td>18.0</td>\n",
       "      <td>40.0</td>\n",
       "      <td>21.0</td>\n",
       "      <td>18.0</td>\n",
       "      <td>1.0</td>\n",
       "      <td>0.0</td>\n",
       "      <td>40.0</td>\n",
       "      <td>1.0</td>\n",
       "      <td>47</td>\n",
       "      <td>21.0</td>\n",
       "      <td>0.0</td>\n",
       "      <td>14</td>\n",
       "    </tr>\n",
       "  </tbody>\n",
       "</table>\n",
       "</div>"
      ],
      "text/plain": [
       "                  MachineIdentifier  EngineVersion  AppVersion  AvSigVersion  \\\n",
       "0  0000028988387b115f69f31a3bf04f09             65          59         134.0   \n",
       "1  000007535c3f730efa9ea0b7ef1bd645             55          26           0.0   \n",
       "2  000007905a28d863f6d0d597892cd692             65          59         336.0   \n",
       "3  00000b11598a75ea8ba1beea8459149f             65          59          25.0   \n",
       "4  000014a5f00daa18e76b81417eeb99fc             65          59          18.0   \n",
       "\n",
       "   AVProductStatesIdentifier  AVProductsInstalled  CountryIdentifier  \\\n",
       "0                        0.0                    1                144   \n",
       "1                        0.0                    1                215   \n",
       "2                        0.0                    1                207   \n",
       "3                        0.0                    1                209   \n",
       "4                        0.0                    1                 89   \n",
       "\n",
       "   CityIdentifier  OrganizationIdentifier  GeoNameIdentifier  \\\n",
       "0           205.0                       8                223   \n",
       "1           171.0                       8                 22   \n",
       "2           673.0                       8                254   \n",
       "3            20.0                      49                 20   \n",
       "4            13.0                      49                195   \n",
       "\n",
       "   LocaleEnglishNameIdentifier  OsBuild  OsSuite  OsPlatformSubRelease  \\\n",
       "0                          111        6        3                     4   \n",
       "1                          213        6        3                     4   \n",
       "2                          197        6       12                     4   \n",
       "3                          145        6        3                     4   \n",
       "4                          225        6       12                     4   \n",
       "\n",
       "   OsBuildLab  SkuEdition  IeVerIdentifier  SmartScreen  \\\n",
       "0         273           6               24           15   \n",
       "1         273           6               24           15   \n",
       "2         273           4               24           13   \n",
       "3         273           6               24            7   \n",
       "4         273           4               24           13   \n",
       "\n",
       "   Census_MDC2FormFactor  Census_OEMNameIdentifier  Census_OEMModelIdentifier  \\\n",
       "0                      2                       0.0                    22022.0   \n",
       "1                      8                       0.0                   118655.0   \n",
       "2                      2                      10.0                        2.0   \n",
       "3                      2                       2.0                      158.0   \n",
       "4                      8                       2.0                     2269.0   \n",
       "\n",
       "   Census_ProcessorCoreCount  Census_ProcessorManufacturerIdentifier  \\\n",
       "0                        4.0                                     5.0   \n",
       "1                        4.0                                     5.0   \n",
       "2                        4.0                                     5.0   \n",
       "3                        4.0                                     5.0   \n",
       "4                        4.0                                     5.0   \n",
       "\n",
       "   Census_ProcessorModelIdentifier  Census_PrimaryDiskTotalCapacity  \\\n",
       "0                            135.0                         476940.0   \n",
       "1                            134.0                         476940.0   \n",
       "2                            191.0                         114473.0   \n",
       "3                             63.0                         238475.0   \n",
       "4                             52.0                         476940.0   \n",
       "\n",
       "   Census_PrimaryDiskTypeName  Census_SystemVolumeTotalCapacity  \\\n",
       "0                           0                          299451.0   \n",
       "1                           0                          102385.0   \n",
       "2                           1                          113907.0   \n",
       "3                           2                          227116.0   \n",
       "4                           0                          101900.0   \n",
       "\n",
       "   Census_TotalPhysicalRAM  Census_ChassisTypeName  \\\n",
       "0                   4096.0                      24   \n",
       "1                   4096.0                      38   \n",
       "2                   4096.0                      24   \n",
       "3                   4096.0                      36   \n",
       "4                   6144.0                      41   \n",
       "\n",
       "   Census_InternalPrimaryDiagonalDisplaySizeInInches  \\\n",
       "0                                          18.906250   \n",
       "1                                          13.898438   \n",
       "2                                          21.500000   \n",
       "3                                          18.500000   \n",
       "4                                          14.000000   \n",
       "\n",
       "   Census_InternalPrimaryDisplayResolutionHorizontal  \\\n",
       "0                                             1440.0   \n",
       "1                                             1366.0   \n",
       "2                                             1920.0   \n",
       "3                                             1366.0   \n",
       "4                                             1366.0   \n",
       "\n",
       "   Census_InternalPrimaryDisplayResolutionVertical  \\\n",
       "0                                            900.0   \n",
       "1                                            768.0   \n",
       "2                                           1080.0   \n",
       "3                                            768.0   \n",
       "4                                            768.0   \n",
       "\n",
       "   Census_PowerPlatformRoleName  Census_InternalBatteryType  \\\n",
       "0                             1                           0   \n",
       "1                             3                           0   \n",
       "2                             1                           0   \n",
       "3                             1                           0   \n",
       "4                             3                           1   \n",
       "\n",
       "   Census_InternalBatteryNumberOfCharges  Census_OSVersion  Census_OSBranch  \\\n",
       "0                                    1.0               361               10   \n",
       "1                                    2.0               357               10   \n",
       "2                                    1.0               361               10   \n",
       "3                                    1.0               365               10   \n",
       "4                                    0.0               363               10   \n",
       "\n",
       "   Census_OSBuildNumber  Census_OSBuildRevision  Census_OSEdition  \\\n",
       "0                    96                      75                 6   \n",
       "1                    96                       1                 6   \n",
       "2                    96                      75                 1   \n",
       "3                    96                     161                 6   \n",
       "4                    96                     136                 1   \n",
       "\n",
       "   Census_OSSkuName  Census_OSInstallTypeName  \\\n",
       "0                 5                         6   \n",
       "1                 5                         2   \n",
       "2                 1                         6   \n",
       "3                 5                         6   \n",
       "4                 1                         7   \n",
       "\n",
       "   Census_OSInstallLanguageIdentifier  Census_OSUILocaleIdentifier  \\\n",
       "0                                  18                           17   \n",
       "1                                  37                           79   \n",
       "2                                  36                           78   \n",
       "3                                   8                          112   \n",
       "4                                  37                           79   \n",
       "\n",
       "   Census_OSWUAutoUpdateOptionsName  Census_GenuineStateName  \\\n",
       "0                                 5                        1   \n",
       "1                                 5                        2   \n",
       "2                                 2                        1   \n",
       "3                                 2                        1   \n",
       "4                                 2                        1   \n",
       "\n",
       "   Census_ActivationChannel  Census_IsFlightingInternal  \\\n",
       "0                         2                         1.0   \n",
       "1                         2                         1.0   \n",
       "2                         1                         1.0   \n",
       "3                         1                         1.0   \n",
       "4                         2                         0.0   \n",
       "\n",
       "   Census_ThresholdOptIn  Census_FirmwareManufacturerIdentifier  \\\n",
       "0                    1.0                                    448   \n",
       "1                    1.0                                    448   \n",
       "2                    1.0                                     89   \n",
       "3                    1.0                                    240   \n",
       "4                    0.0                                    240   \n",
       "\n",
       "   Census_FirmwareVersionIdentifier  Census_IsSecureBootEnabled  \\\n",
       "0                            2572.0                           0   \n",
       "1                            1415.0                           0   \n",
       "2                             184.0                           0   \n",
       "3                              30.0                           0   \n",
       "4                             129.0                           0   \n",
       "\n",
       "   Census_IsWIMBootEnabled  Census_IsTouchEnabled  Wdft_IsGamer  \\\n",
       "0                      1.0                      0           0.0   \n",
       "1                      1.0                      0           0.0   \n",
       "2                      1.0                      0           0.0   \n",
       "3                      1.0                      0           0.0   \n",
       "4                      0.0                      0           0.0   \n",
       "\n",
       "   Wdft_RegionIdentifier  HasDetections  EngineVersion_2  EngineVersion_3  \\\n",
       "0                      1              0               59                1   \n",
       "1                     13              0               54                4   \n",
       "2                      8              0               59                1   \n",
       "3                      8              1               59                1   \n",
       "4                      0              1               59                1   \n",
       "\n",
       "   AppVersion_1  AppVersion_2  AppVersion_3  AvSigVersion_0  AvSigVersion_1  \\\n",
       "0             8            25            54               1              48   \n",
       "1             3             6             1               1              43   \n",
       "2             8            25            54               1              48   \n",
       "3             8            25            54               1              48   \n",
       "4             8            25            54               1              48   \n",
       "\n",
       "   AvSigVersion_2  OsBuildLab_0  OsBuildLab_1  OsBuildLab_2  OsBuildLab_3  \\\n",
       "0           211.0            19             1             1            14   \n",
       "1             0.0            19             1             1            14   \n",
       "2           295.0            19             1             1            14   \n",
       "3            23.0            19             1             1            14   \n",
       "4            26.0            19             1             1            14   \n",
       "\n",
       "   Census_OSVersion_0  Census_OSVersion_1  Census_OSVersion_2  \\\n",
       "0                   0                   0                  96   \n",
       "1                   0                   0                  96   \n",
       "2                   0                   0                  96   \n",
       "3                   0                   0                  96   \n",
       "4                   0                   0                  96   \n",
       "\n",
       "   Census_OSVersion_3  primary_drive_c_ratio  non_primary_drive_MB  \\\n",
       "0                  75               0.627859              177489.0   \n",
       "1                   1               0.214671              374555.0   \n",
       "2                  75               0.995056                 566.0   \n",
       "3                 161               0.952368               11359.0   \n",
       "4                 136               0.213654              375040.0   \n",
       "\n",
       "   aspect_ratio  monitor_dims  dpi  dpi_square  MegaPixels  Screen_Area  \\\n",
       "0      1.599609           6.0  inf         inf         inf     160.7500   \n",
       "1      1.778320           0.0  inf         inf         inf      82.5000   \n",
       "2      1.777344           1.0  inf         inf         inf     197.6250   \n",
       "3      1.778320           0.0  inf         inf         inf     146.1250   \n",
       "4      1.778320           0.0  inf         inf         inf      83.6875   \n",
       "\n",
       "   ram_per_processor  new_num_0  new_num_1  \\\n",
       "0             1024.0   4.726562   75.62500   \n",
       "1             1024.0   3.474609   55.59375   \n",
       "2             1024.0   5.375000   86.00000   \n",
       "3             1024.0   4.625000   74.00000   \n",
       "4             1536.0   3.500000   56.00000   \n",
       "\n",
       "   Census_OSBuildRevision__OsBuildLab  Census_OSBuildRevision__SmartScreen  \\\n",
       "0                                 3.0                                  8.0   \n",
       "1                                19.0                                 17.0   \n",
       "2                                 3.0                                  7.0   \n",
       "3                                 0.0                                 22.0   \n",
       "4                                18.0                                 40.0   \n",
       "\n",
       "   Census_OSBuildRevision__AVProductsInstalled  \\\n",
       "0                                          3.0   \n",
       "1                                         19.0   \n",
       "2                                          3.0   \n",
       "3                                          0.0   \n",
       "4                                         21.0   \n",
       "\n",
       "   OsBuildLab__Census_OSBuildRevision  OsBuildLab__SmartScreen  \\\n",
       "0                                 3.0                      0.0   \n",
       "1                                19.0                      0.0   \n",
       "2                                 3.0                      1.0   \n",
       "3                                 0.0                      6.0   \n",
       "4                                18.0                      1.0   \n",
       "\n",
       "   OsBuildLab__AVProductsInstalled  SmartScreen__Census_OSBuildRevision  \\\n",
       "0                              0.0                                  8.0   \n",
       "1                              0.0                                 17.0   \n",
       "2                              0.0                                  7.0   \n",
       "3                              0.0                                 22.0   \n",
       "4                              0.0                                 40.0   \n",
       "\n",
       "   SmartScreen__OsBuildLab  SmartScreen__AVProductsInstalled  \\\n",
       "0                      0.0                                61   \n",
       "1                      0.0                                61   \n",
       "2                      1.0                                47   \n",
       "3                      6.0                                19   \n",
       "4                      1.0                                47   \n",
       "\n",
       "   AVProductsInstalled__Census_OSBuildRevision  \\\n",
       "0                                          3.0   \n",
       "1                                         19.0   \n",
       "2                                          3.0   \n",
       "3                                          0.0   \n",
       "4                                         21.0   \n",
       "\n",
       "   AVProductsInstalled__OsBuildLab  AVProductsInstalled__SmartScreen  \n",
       "0                              0.0                                16  \n",
       "1                              0.0                                16  \n",
       "2                              0.0                                14  \n",
       "3                              0.0                                 8  \n",
       "4                              0.0                                14  "
      ]
     },
     "execution_count": 106,
     "metadata": {},
     "output_type": "execute_result"
    }
   ],
   "source": [
    "train.head()"
   ]
  },
  {
   "cell_type": "markdown",
   "metadata": {},
   "source": [
    "## Idea of training on all data"
   ]
  },
  {
   "cell_type": "code",
   "execution_count": 107,
   "metadata": {
    "ExecuteTime": {
     "end_time": "2019-02-09T12:16:19.098500Z",
     "start_time": "2019-02-09T12:14:47.562643Z"
    }
   },
   "outputs": [],
   "source": [
    "y = train['HasDetections']\n",
    "train = train.drop(['HasDetections', 'MachineIdentifier'], axis=1)\n",
    "test = test.drop(['MachineIdentifier'], axis=1)\n",
    "gc.collect()\n",
    "train.sort_values('AvSigVersion')\n",
    "train1 = train[:4000000]\n",
    "train = train[4000000:8000000]\n",
    "\n",
    "y1 = y[:4000000]\n",
    "y = y[4000000:8000000]"
   ]
  },
  {
   "cell_type": "code",
   "execution_count": 108,
   "metadata": {
    "ExecuteTime": {
     "end_time": "2019-02-09T12:51:18.093340Z",
     "start_time": "2019-02-09T12:51:18.076378Z"
    }
   },
   "outputs": [],
   "source": [
    "n_fold = 5\n",
    "folds = StratifiedKFold(n_splits=n_fold, shuffle=True, random_state=15)\n",
    "# folds = TimeSeriesSplit(n_splits=5)"
   ]
  },
  {
   "cell_type": "code",
   "execution_count": 111,
   "metadata": {
    "ExecuteTime": {
     "end_time": "2019-02-09T12:53:14.589472Z",
     "start_time": "2019-02-09T12:53:10.894897Z"
    }
   },
   "outputs": [],
   "source": [
    "from numba import jit\n",
    "# fast roc_auc computation: https://www.kaggle.com/c/microsoft-malware-prediction/discussion/76013\n",
    "@jit\n",
    "def fast_auc(y_true, y_prob):\n",
    "    y_true = np.asarray(y_true)\n",
    "    y_true = y_true[np.argsort(y_prob)]\n",
    "    nfalse = 0\n",
    "    auc = 0\n",
    "    n = len(y_true)\n",
    "    for i in range(n):\n",
    "        y_i = y_true[i]\n",
    "        nfalse += (1 - y_i)\n",
    "        auc += y_i * nfalse\n",
    "    auc /= (nfalse * (n - nfalse))\n",
    "    return auc\n",
    "\n",
    "def eval_auc(preds, dtrain):\n",
    "    labels = dtrain.get_label()\n",
    "    return 'auc', fast_auc(labels, preds), True\n",
    "\n",
    "# idea from this kernel: https://www.kaggle.com/fabiendaniel/detecting-malwares-with-lgbm\n",
    "def predict_chunk(model, test):\n",
    "    initial_idx = 0\n",
    "    chunk_size = 1000000\n",
    "    current_pred = np.zeros(len(test))\n",
    "    while initial_idx < test.shape[0]:\n",
    "        final_idx = min(initial_idx + chunk_size, test.shape[0])\n",
    "        idx = range(initial_idx, final_idx)\n",
    "        current_pred[idx] = model.predict(test.iloc[idx], num_iteration=model.best_iteration)\n",
    "        initial_idx = final_idx\n",
    "    #predictions += current_pred / min(folds.n_splits, max_iter)\n",
    "    return current_pred\n",
    "\n",
    "\n",
    "def train_model(X=train, X_test=test, y=y, params=None, folds=folds, model_type='lgb', plot_feature_importance=False, averaging='usual', make_oof=False):\n",
    "    result_dict = {}\n",
    "    if make_oof:\n",
    "        oof = np.zeros(len(X))\n",
    "    prediction = np.zeros(len(X_test))\n",
    "    scores = []\n",
    "    feature_importance = pd.DataFrame()\n",
    "    for fold_n, (train_index, valid_index) in enumerate(folds.split(X, y)):\n",
    "        gc.collect()\n",
    "        print('Fold', fold_n + 1, 'started at', time.ctime())\n",
    "        X_train, X_valid = X.iloc[train_index], X.iloc[valid_index]\n",
    "        y_train, y_valid = y.iloc[train_index], y.iloc[valid_index]\n",
    "        \n",
    "        \n",
    "        if model_type == 'lgb':\n",
    "            train_data = lgb.Dataset(X_train, label=y_train, categorical_feature = cat_cols)\n",
    "            valid_data = lgb.Dataset(X_valid, label=y_valid, categorical_feature = cat_cols)\n",
    "            \n",
    "            model = lgb.train(params,\n",
    "                    train_data,\n",
    "                    num_boost_round=2000,\n",
    "                    valid_sets = [train_data, valid_data],\n",
    "                    verbose_eval=500,\n",
    "                    early_stopping_rounds = 200,\n",
    "                    feval=eval_auc)\n",
    "\n",
    "            del train_data, valid_data\n",
    "            \n",
    "            y_pred_valid = model.predict(X_valid, num_iteration=model.best_iteration)\n",
    "            del X_valid\n",
    "            gc.collect()\n",
    "            # print('predicting on test')\n",
    "            # y_pred = model.predict(X_test, num_iteration=model.best_iteration)\n",
    "            y_pred = predict_chunk(model, X_test)\n",
    "            # print('predicted')\n",
    "            \n",
    "        if model_type == 'xgb':\n",
    "            train_data = xgb.DMatrix(data=X_train, label=y_train)\n",
    "            valid_data = xgb.DMatrix(data=X_valid, label=y_valid)\n",
    "\n",
    "            watchlist = [(train_data, 'train'), (valid_data, 'valid_data')]\n",
    "            model = xgb.train(dtrain=train_data, num_boost_round=20000, evals=watchlist, early_stopping_rounds=200, verbose_eval=500, params=params)\n",
    "            y_pred_valid = model.predict(xgb.DMatrix(X_valid), ntree_limit=model.best_ntree_limit)\n",
    "            #y_pred = model.predict(xgb.DMatrix(X_test), ntree_limit=model.best_ntree_limit)\n",
    "            y_pred = predict_chunk(model, xgb.DMatrix(X_test))\n",
    "            \n",
    "        if model_type == 'lcv':\n",
    "            model = LogisticRegressionCV(scoring='roc_auc', cv=3)\n",
    "            model.fit(X_train, y_train)\n",
    "\n",
    "            y_pred_valid = model.predict(X_valid)\n",
    "            # y_pred = model.predict(X_test)\n",
    "            y_pred = predict_chunk(model, X_test)\n",
    "            \n",
    "        if model_type == 'cat':\n",
    "            model = CatBoostRegressor(iterations=20000,  eval_metric='AUC', **params)\n",
    "            model.fit(X_train, y_train, eval_set=(X_valid, y_valid), cat_features=[], use_best_model=True, verbose=False)\n",
    "\n",
    "            y_pred_valid = model.predict(X_valid)\n",
    "            # y_pred = model.predict(X_test)\n",
    "            y_pred = predict_chunk(model, X_test)\n",
    "        \n",
    "        if make_oof:\n",
    "            oof[valid_index] = y_pred_valid.reshape(-1,)\n",
    "            \n",
    "        scores.append(fast_auc(y_valid, y_pred_valid))\n",
    "        print('Fold roc_auc:', roc_auc_score(y_valid, y_pred_valid))\n",
    "        print('')\n",
    "        \n",
    "        if averaging == 'usual':\n",
    "            prediction += y_pred\n",
    "        elif averaging == 'rank':\n",
    "            prediction += pd.Series(y_pred).rank().values\n",
    "        \n",
    "        if model_type == 'lgb':\n",
    "            # feature importance\n",
    "            fold_importance = pd.DataFrame()\n",
    "            fold_importance[\"feature\"] = X.columns\n",
    "            fold_importance[\"importance\"] = model.feature_importance()\n",
    "            fold_importance[\"fold\"] = fold_n + 1\n",
    "            feature_importance = pd.concat([feature_importance, fold_importance], axis=0)\n",
    "\n",
    "    prediction /= n_fold\n",
    "    \n",
    "    print('CV mean score: {0:.4f}, std: {1:.4f}.'.format(np.mean(scores), np.std(scores)))\n",
    "    \n",
    "    if model_type == 'lgb':\n",
    "        \n",
    "        if plot_feature_importance:\n",
    "            feature_importance[\"importance\"] /= n_fold\n",
    "            cols = feature_importance[[\"feature\", \"importance\"]].groupby(\"feature\").mean().sort_values(\n",
    "                by=\"importance\", ascending=False)[:50].index\n",
    "\n",
    "            best_features = feature_importance.loc[feature_importance.feature.isin(cols)]\n",
    "            logging.info('Top features')\n",
    "            for f in best_features.sort_values(by=\"importance\", ascending=False)['feature'].values:\n",
    "                logging.info(f)\n",
    "\n",
    "            plt.figure(figsize=(16, 12));\n",
    "            sns.barplot(x=\"importance\", y=\"feature\", data=best_features.sort_values(by=\"importance\", ascending=False));\n",
    "            plt.title('LGB Features (avg over folds)');\n",
    "            \n",
    "            result_dict['feature_importance'] = feature_importance\n",
    "            \n",
    "    result_dict['prediction'] = prediction\n",
    "    if make_oof:\n",
    "        result_dict['oof'] = oof\n",
    "    \n",
    "    return result_dict"
   ]
  },
  {
   "cell_type": "code",
   "execution_count": 112,
   "metadata": {
    "ExecuteTime": {
     "end_time": "2019-02-09T12:53:18.346830Z",
     "start_time": "2019-02-09T12:53:18.338854Z"
    }
   },
   "outputs": [],
   "source": [
    "params = {'num_leaves': 256,\n",
    "         'min_data_in_leaf': 42,\n",
    "         'objective': 'binary',\n",
    "         'max_depth': -1,\n",
    "         'learning_rate': 0.05,\n",
    "         \"boosting\": \"gbdt\",\n",
    "         \"feature_fraction\": 0.8,\n",
    "         \"bagging_freq\": 5,\n",
    "         \"bagging_fraction\": 0.8,\n",
    "         \"bagging_seed\": 11,\n",
    "         \"lambda_l1\": 0.15,\n",
    "         \"lambda_l2\": 0.15,\n",
    "         \"random_state\": 42,          \n",
    "         \"verbosity\": -1}"
   ]
  },
  {
   "cell_type": "code",
   "execution_count": 113,
   "metadata": {
    "ExecuteTime": {
     "end_time": "2019-02-09T15:01:31.113516Z",
     "start_time": "2019-02-09T12:53:31.985946Z"
    }
   },
   "outputs": [
    {
     "name": "stdout",
     "output_type": "stream",
     "text": [
      "Fold 1 started at Sat Feb  9 21:53:33 2019\n",
      "Training until validation scores don't improve for 200 rounds.\n",
      "[500]\ttraining's binary_logloss: 0.565337\ttraining's auc: 0.780653\tvalid_1's binary_logloss: 0.603249\tvalid_1's auc: 0.73028\n",
      "Early stopping, best iteration is:\n",
      "[480]\ttraining's binary_logloss: 0.566296\ttraining's auc: 0.77947\tvalid_1's binary_logloss: 0.603243\tvalid_1's auc: 0.730292\n",
      "Fold roc_auc: 0.7302919851165133\n",
      "\n",
      "Fold 2 started at Sat Feb  9 22:19:24 2019\n",
      "Training until validation scores don't improve for 200 rounds.\n",
      "[500]\ttraining's binary_logloss: 0.565558\ttraining's auc: 0.780453\tvalid_1's binary_logloss: 0.602246\tvalid_1's auc: 0.731414\n",
      "Early stopping, best iteration is:\n",
      "[449]\ttraining's binary_logloss: 0.568057\ttraining's auc: 0.777368\tvalid_1's binary_logloss: 0.602188\tvalid_1's auc: 0.731505\n",
      "Fold roc_auc: 0.7315044700282973\n",
      "\n",
      "Fold 3 started at Sat Feb  9 22:42:59 2019\n",
      "Training until validation scores don't improve for 200 rounds.\n",
      "[500]\ttraining's binary_logloss: 0.565408\ttraining's auc: 0.780631\tvalid_1's binary_logloss: 0.602275\tvalid_1's auc: 0.731378\n",
      "Early stopping, best iteration is:\n",
      "[480]\ttraining's binary_logloss: 0.566287\ttraining's auc: 0.779557\tvalid_1's binary_logloss: 0.602256\tvalid_1's auc: 0.7314\n",
      "Fold roc_auc: 0.7314002649631097\n",
      "\n",
      "Fold 4 started at Sat Feb  9 23:07:24 2019\n",
      "Training until validation scores don't improve for 200 rounds.\n",
      "[500]\ttraining's binary_logloss: 0.565697\ttraining's auc: 0.780298\tvalid_1's binary_logloss: 0.602088\tvalid_1's auc: 0.731763\n",
      "Early stopping, best iteration is:\n",
      "[494]\ttraining's binary_logloss: 0.565924\ttraining's auc: 0.780013\tvalid_1's binary_logloss: 0.602073\tvalid_1's auc: 0.731783\n",
      "Fold roc_auc: 0.7317829101682081\n",
      "\n",
      "Fold 5 started at Sat Feb  9 23:33:23 2019\n",
      "Training until validation scores don't improve for 200 rounds.\n",
      "[500]\ttraining's binary_logloss: 0.565429\ttraining's auc: 0.78059\tvalid_1's binary_logloss: 0.602896\tvalid_1's auc: 0.730746\n",
      "Early stopping, best iteration is:\n",
      "[584]\ttraining's binary_logloss: 0.561657\ttraining's auc: 0.785156\tvalid_1's binary_logloss: 0.602851\tvalid_1's auc: 0.730793\n",
      "Fold roc_auc: 0.7307926608012987\n",
      "\n",
      "CV mean score: 0.7312, std: 0.0005.\n"
     ]
    },
    {
     "data": {
      "image/png": "[encoded data removed]",
      "text/plain": [
       "<Figure size 1152x864 with 1 Axes>"
      ]
     },
     "metadata": {},
     "output_type": "display_data"
    }
   ],
   "source": [
    "result_dict1 = train_model(X=train1, X_test=test, y=y1, params=params, model_type='lgb', plot_feature_importance=True, averaging='rank')"
   ]
  },
  {
   "cell_type": "code",
   "execution_count": 117,
   "metadata": {
    "ExecuteTime": {
     "end_time": "2019-02-09T15:02:28.514530Z",
     "start_time": "2019-02-09T15:02:28.501565Z"
    }
   },
   "outputs": [
    {
     "data": {
      "text/plain": [
       "array([5862751.2, 4246642.6, 3633129.6, ..., 2330401.4, 4815984.4,\n",
       "       3321554.2])"
      ]
     },
     "execution_count": 117,
     "metadata": {},
     "output_type": "execute_result"
    }
   ],
   "source": [
    "result_dict1['prediction']"
   ]
  },
  {
   "cell_type": "code",
   "execution_count": null,
   "metadata": {},
   "outputs": [],
   "source": []
  }
 ],
 "metadata": {
  "kernelspec": {
   "display_name": "Python 3",
   "language": "python",
   "name": "python3"
  },
  "language_info": {
   "codemirror_mode": {
    "name": "ipython",
    "version": 3
   },
   "file_extension": ".py",
   "mimetype": "text/x-python",
   "name": "python",
   "nbconvert_exporter": "python",
   "pygments_lexer": "ipython3",
   "version": "3.6.7"
  },
  "toc": {
   "base_numbering": 1,
   "nav_menu": {},
   "number_sections": true,
   "sideBar": true,
   "skip_h1_title": false,
   "title_cell": "Table of Contents",
   "title_sidebar": "Contents",
   "toc_cell": false,
   "toc_position": {},
   "toc_section_display": true,
   "toc_window_display": false
  }
 },
 "nbformat": 4,
 "nbformat_minor": 2
}
