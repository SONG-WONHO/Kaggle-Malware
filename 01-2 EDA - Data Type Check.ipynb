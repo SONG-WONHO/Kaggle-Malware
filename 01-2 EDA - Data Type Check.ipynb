{
 "cells": [
  {
   "cell_type": "markdown",
   "metadata": {},
   "source": [
    "# EDA - Data Type Check\n",
    "* 이번 커널에서는 데이터 타입을 확인할 것입니다.\n",
    "* 효과적으로 메모리를 줄이기 위한 과정!"
   ]
  },
  {
   "cell_type": "markdown",
   "metadata": {},
   "source": [
    "## 라이브러리 로드"
   ]
  },
  {
   "cell_type": "code",
   "execution_count": 37,
   "metadata": {
    "ExecuteTime": {
     "end_time": "2019-02-10T04:54:18.409190Z",
     "start_time": "2019-02-10T04:54:18.405203Z"
    }
   },
   "outputs": [],
   "source": [
    "import numpy as np\n",
    "import pandas as pd\n",
    "import warnings\n",
    "import gc\n",
    "warnings.filterwarnings(\"ignore\")"
   ]
  },
  {
   "cell_type": "code",
   "execution_count": 10,
   "metadata": {
    "ExecuteTime": {
     "end_time": "2019-02-10T04:41:07.459401Z",
     "start_time": "2019-02-10T04:41:07.454449Z"
    }
   },
   "outputs": [],
   "source": [
    "pd.set_option('max_rows', 100)"
   ]
  },
  {
   "cell_type": "markdown",
   "metadata": {},
   "source": [
    "## 기존 dtype\n",
    "* [커널](www.kaggle.com)"
   ]
  },
  {
   "cell_type": "code",
   "execution_count": 44,
   "metadata": {
    "ExecuteTime": {
     "end_time": "2019-02-10T05:02:59.223089Z",
     "start_time": "2019-02-10T05:02:59.213117Z"
    }
   },
   "outputs": [],
   "source": [
    "dtypes = {\n",
    "        'MachineIdentifier':                                    'category',\n",
    "        'ProductName':                                          'category',\n",
    "        'EngineVersion':                                        'category',\n",
    "        'AppVersion':                                           'category',\n",
    "        'AvSigVersion':                                         'category',\n",
    "        'IsBeta':                                               'int8',\n",
    "        'RtpStateBitfield':                                     'float16',\n",
    "        'IsSxsPassiveMode':                                     'int8',\n",
    "        'DefaultBrowsersIdentifier':                            'float16',\n",
    "        'AVProductStatesIdentifier':                            'float32',\n",
    "        'AVProductsInstalled':                                  'float16',\n",
    "        'AVProductsEnabled':                                    'float16',\n",
    "        'HasTpm':                                               'int8',\n",
    "        'CountryIdentifier':                                    'int16',\n",
    "        'CityIdentifier':                                       'float32',\n",
    "        'OrganizationIdentifier':                               'float16',\n",
    "        'GeoNameIdentifier':                                    'float16',\n",
    "        'LocaleEnglishNameIdentifier':                          'int8',\n",
    "        'Platform':                                             'category',\n",
    "        'Processor':                                            'category',\n",
    "        'OsVer':                                                'category',\n",
    "        'OsBuild':                                              'int16',\n",
    "        'OsSuite':                                              'int16',\n",
    "        'OsPlatformSubRelease':                                 'category',\n",
    "        'OsBuildLab':                                           'category',\n",
    "        'SkuEdition':                                           'category',\n",
    "        'IsProtected':                                          'float16',\n",
    "        'AutoSampleOptIn':                                      'int8',\n",
    "        'PuaMode':                                              'category',\n",
    "        'SMode':                                                'float16',\n",
    "        'IeVerIdentifier':                                      'float16',\n",
    "        'SmartScreen':                                          'category',\n",
    "        'Firewall':                                             'float16',\n",
    "        'UacLuaenable':                                         'float32',\n",
    "        'Census_MDC2FormFactor':                                'category',\n",
    "        'Census_DeviceFamily':                                  'category',\n",
    "        'Census_OEMNameIdentifier':                             'float16',\n",
    "        'Census_OEMModelIdentifier':                            'float32',\n",
    "        'Census_ProcessorCoreCount':                            'float16',\n",
    "        'Census_ProcessorManufacturerIdentifier':               'float16',\n",
    "        'Census_ProcessorModelIdentifier':                      'float16',\n",
    "        'Census_ProcessorClass':                                'category',\n",
    "        'Census_PrimaryDiskTotalCapacity':                      'float32',\n",
    "        'Census_PrimaryDiskTypeName':                           'category',\n",
    "        'Census_SystemVolumeTotalCapacity':                     'float32',\n",
    "        'Census_HasOpticalDiskDrive':                           'int8',\n",
    "        'Census_TotalPhysicalRAM':                              'float32',\n",
    "        'Census_ChassisTypeName':                               'category',\n",
    "        'Census_InternalPrimaryDiagonalDisplaySizeInInches':    'float16',\n",
    "        'Census_InternalPrimaryDisplayResolutionHorizontal':    'float16',\n",
    "        'Census_InternalPrimaryDisplayResolutionVertical':      'float16',\n",
    "        'Census_PowerPlatformRoleName':                         'category',\n",
    "        'Census_InternalBatteryType':                           'category',\n",
    "        'Census_InternalBatteryNumberOfCharges':                'float32',\n",
    "        'Census_OSVersion':                                     'category',\n",
    "        'Census_OSArchitecture':                                'category',\n",
    "        'Census_OSBranch':                                      'category',\n",
    "        'Census_OSBuildNumber':                                 'int16',\n",
    "        'Census_OSBuildRevision':                               'int32',\n",
    "        'Census_OSEdition':                                     'category',\n",
    "        'Census_OSSkuName':                                     'category',\n",
    "        'Census_OSInstallTypeName':                             'category',\n",
    "        'Census_OSInstallLanguageIdentifier':                   'float16',\n",
    "        'Census_OSUILocaleIdentifier':                          'int16',\n",
    "        'Census_OSWUAutoUpdateOptionsName':                     'category',\n",
    "        'Census_IsPortableOperatingSystem':                     'int8',\n",
    "        'Census_GenuineStateName':                              'category',\n",
    "        'Census_ActivationChannel':                             'category',\n",
    "        'Census_IsFlightingInternal':                           'float16',\n",
    "        'Census_IsFlightsDisabled':                             'float16',\n",
    "        'Census_FlightRing':                                    'category',\n",
    "        'Census_ThresholdOptIn':                                'float16',\n",
    "        'Census_FirmwareManufacturerIdentifier':                'float16',\n",
    "        'Census_FirmwareVersionIdentifier':                     'float32',\n",
    "        'Census_IsSecureBootEnabled':                           'int8',\n",
    "        'Census_IsWIMBootEnabled':                              'float16',\n",
    "        'Census_IsVirtualDevice':                               'float16',\n",
    "        'Census_IsTouchEnabled':                                'int8',\n",
    "        'Census_IsPenCapable':                                  'int8',\n",
    "        'Census_IsAlwaysOnAlwaysConnectedCapable':              'float16',\n",
    "        'Wdft_IsGamer':                                         'float16',\n",
    "        'Wdft_RegionIdentifier':                                'float16',\n",
    "        'HasDetections':                                        'int8'\n",
    "        }"
   ]
  },
  {
   "cell_type": "markdown",
   "metadata": {},
   "source": [
    "## 새로운 dtype"
   ]
  },
  {
   "cell_type": "code",
   "execution_count": 2,
   "metadata": {
    "ExecuteTime": {
     "end_time": "2019-02-10T04:33:01.507941Z",
     "start_time": "2019-02-10T04:33:01.500988Z"
    }
   },
   "outputs": [],
   "source": [
    "dtypes = {\n",
    "        'MachineIdentifier':                                    'category',\n",
    "        'ProductName':                                          'category',\n",
    "        'EngineVersion':                                        'category',\n",
    "        'AppVersion':                                           'category',\n",
    "        'AvSigVersion':                                         'category',\n",
    "#         'IsBeta':                                               'int8',\n",
    "#         'RtpStateBitfield':                                     'float16',\n",
    "#         'IsSxsPassiveMode':                                     'int8',\n",
    "#         'DefaultBrowsersIdentifier':                            'float16',\n",
    "#         'AVProductStatesIdentifier':                            'float32',\n",
    "#         'AVProductsInstalled':                                  'float16',\n",
    "#         'AVProductsEnabled':                                    'float16',\n",
    "#         'HasTpm':                                               'int8',\n",
    "#         'CountryIdentifier':                                    'int16',\n",
    "#         'CityIdentifier':                                       'float32',\n",
    "#         'OrganizationIdentifier':                               'float16',\n",
    "#         'GeoNameIdentifier':                                    'float16',\n",
    "#         'LocaleEnglishNameIdentifier':                          'int8',\n",
    "        'Platform':                                             'category',\n",
    "        'Processor':                                            'category',\n",
    "        'OsVer':                                                'category',\n",
    "#         'OsBuild':                                              'int16',\n",
    "#         'OsSuite':                                              'int16',\n",
    "        'OsPlatformSubRelease':                                 'category',\n",
    "        'OsBuildLab':                                           'category',\n",
    "        'SkuEdition':                                           'category',\n",
    "#         'IsProtected':                                          'float16',\n",
    "#         'AutoSampleOptIn':                                      'int8',\n",
    "#         'PuaMode':                                              'category',\n",
    "#         'SMode':                                                'float16',\n",
    "#         'IeVerIdentifier':                                      'float16',\n",
    "        'SmartScreen':                                          'category',\n",
    "#         'Firewall':                                             'float16',\n",
    "#         'UacLuaenable':                                         'float32',\n",
    "        'Census_MDC2FormFactor':                                'category',\n",
    "        'Census_DeviceFamily':                                  'category',\n",
    "#         'Census_OEMNameIdentifier':                             'float16',\n",
    "#         'Census_OEMModelIdentifier':                            'float32',\n",
    "#         'Census_ProcessorCoreCount':                            'float16',\n",
    "#         'Census_ProcessorManufacturerIdentifier':               'float16',\n",
    "#         'Census_ProcessorModelIdentifier':                      'float16',\n",
    "        'Census_ProcessorClass':                                'category',\n",
    "#         'Census_PrimaryDiskTotalCapacity':                      'float32',\n",
    "        'Census_PrimaryDiskTypeName':                           'category',\n",
    "#         'Census_SystemVolumeTotalCapacity':                     'float32',\n",
    "#         'Census_HasOpticalDiskDrive':                           'int8',\n",
    "#         'Census_TotalPhysicalRAM':                              'float32',\n",
    "        'Census_ChassisTypeName':                               'category',\n",
    "#         'Census_InternalPrimaryDiagonalDisplaySizeInInches':    'float16',\n",
    "#         'Census_InternalPrimaryDisplayResolutionHorizontal':    'float16',\n",
    "#         'Census_InternalPrimaryDisplayResolutionVertical':      'float16',\n",
    "        'Census_PowerPlatformRoleName':                         'category',\n",
    "        'Census_InternalBatteryType':                           'category',\n",
    "#         'Census_InternalBatteryNumberOfCharges':                'float32',\n",
    "        'Census_OSVersion':                                     'category',\n",
    "        'Census_OSArchitecture':                                'category',\n",
    "        'Census_OSBranch':                                      'category',\n",
    "#         'Census_OSBuildNumber':                                 'int16',\n",
    "#         'Census_OSBuildRevision':                               'int32',\n",
    "        'Census_OSEdition':                                     'category',\n",
    "        'Census_OSSkuName':                                     'category',\n",
    "        'Census_OSInstallTypeName':                             'category',\n",
    "#         'Census_OSInstallLanguageIdentifier':                   'float16',\n",
    "#         'Census_OSUILocaleIdentifier':                          'int16',\n",
    "        'Census_OSWUAutoUpdateOptionsName':                     'category',\n",
    "#         'Census_IsPortableOperatingSystem':                     'int8',\n",
    "        'Census_GenuineStateName':                              'category',\n",
    "        'Census_ActivationChannel':                             'category',\n",
    "#         'Census_IsFlightingInternal':                           'float16',\n",
    "#         'Census_IsFlightsDisabled':                             'float16',\n",
    "        'Census_FlightRing':                                    'category',\n",
    "#         'Census_ThresholdOptIn':                                'float16',\n",
    "#         'Census_FirmwareManufacturerIdentifier':                'float16',\n",
    "#         'Census_FirmwareVersionIdentifier':                     'float32',\n",
    "#         'Census_IsSecureBootEnabled':                           'int8',\n",
    "#         'Census_IsWIMBootEnabled':                              'float16',\n",
    "#         'Census_IsVirtualDevice':                               'float16',\n",
    "#         'Census_IsTouchEnabled':                                'int8',\n",
    "#         'Census_IsPenCapable':                                  'int8',\n",
    "#         'Census_IsAlwaysOnAlwaysConnectedCapable':              'float16',\n",
    "#         'Wdft_IsGamer':                                         'float16',\n",
    "#         'Wdft_RegionIdentifier':                                'float16',\n",
    "#         'HasDetections':                                        'int8'\n",
    "        }"
   ]
  },
  {
   "cell_type": "code",
   "execution_count": 3,
   "metadata": {
    "ExecuteTime": {
     "end_time": "2019-02-10T04:36:35.952467Z",
     "start_time": "2019-02-10T04:33:01.973389Z"
    }
   },
   "outputs": [
    {
     "name": "stdout",
     "output_type": "stream",
     "text": [
      "Wall time: 3min 33s\n"
     ]
    }
   ],
   "source": [
    "%%time\n",
    "train = pd.read_csv('./data/train.csv', dtype=dtypes)\n",
    "test = pd.read_csv('./data/test.csv', dtype=dtypes)"
   ]
  },
  {
   "cell_type": "code",
   "execution_count": 4,
   "metadata": {
    "ExecuteTime": {
     "end_time": "2019-02-10T04:36:36.686950Z",
     "start_time": "2019-02-10T04:36:35.952467Z"
    }
   },
   "outputs": [],
   "source": [
    "del train['HasDetections']"
   ]
  },
  {
   "cell_type": "code",
   "execution_count": 5,
   "metadata": {
    "ExecuteTime": {
     "end_time": "2019-02-10T04:37:25.707482Z",
     "start_time": "2019-02-10T04:36:36.686950Z"
    }
   },
   "outputs": [
    {
     "data": {
      "text/plain": [
       "194985"
      ]
     },
     "execution_count": 5,
     "metadata": {},
     "output_type": "execute_result"
    }
   ],
   "source": [
    "data = train.append(test)\n",
    "del train, test\n",
    "gc.collect()"
   ]
  },
  {
   "cell_type": "code",
   "execution_count": 22,
   "metadata": {
    "ExecuteTime": {
     "end_time": "2019-02-10T04:45:14.838187Z",
     "start_time": "2019-02-10T04:45:14.830243Z"
    }
   },
   "outputs": [
    {
     "data": {
      "text/plain": [
       "IsBeta                              int64\n",
       "IsSxsPassiveMode                    int64\n",
       "HasTpm                              int64\n",
       "CountryIdentifier                   int64\n",
       "LocaleEnglishNameIdentifier         int64\n",
       "OsBuild                             int64\n",
       "OsSuite                             int64\n",
       "AutoSampleOptIn                     int64\n",
       "Census_HasOpticalDiskDrive          int64\n",
       "Census_OSBuildNumber                int64\n",
       "Census_OSBuildRevision              int64\n",
       "Census_OSUILocaleIdentifier         int64\n",
       "Census_IsPortableOperatingSystem    int64\n",
       "Census_IsSecureBootEnabled          int64\n",
       "Census_IsTouchEnabled               int64\n",
       "Census_IsPenCapable                 int64\n",
       "dtype: object"
      ]
     },
     "execution_count": 22,
     "metadata": {},
     "output_type": "execute_result"
    }
   ],
   "source": [
    "data.dtypes[data.dtypes == 'int64']"
   ]
  },
  {
   "cell_type": "code",
   "execution_count": 25,
   "metadata": {
    "ExecuteTime": {
     "end_time": "2019-02-10T04:45:50.823262Z",
     "start_time": "2019-02-10T04:45:50.808266Z"
    },
    "collapsed": true,
    "hide_input": false
   },
   "outputs": [
    {
     "data": {
      "text/plain": [
       "RtpStateBitfield                                     float64\n",
       "DefaultBrowsersIdentifier                            float64\n",
       "AVProductStatesIdentifier                            float64\n",
       "AVProductsInstalled                                  float64\n",
       "AVProductsEnabled                                    float64\n",
       "CityIdentifier                                       float64\n",
       "OrganizationIdentifier                               float64\n",
       "GeoNameIdentifier                                    float64\n",
       "IsProtected                                          float64\n",
       "SMode                                                float64\n",
       "IeVerIdentifier                                      float64\n",
       "Firewall                                             float64\n",
       "UacLuaenable                                         float64\n",
       "Census_OEMNameIdentifier                             float64\n",
       "Census_OEMModelIdentifier                            float64\n",
       "Census_ProcessorCoreCount                            float64\n",
       "Census_ProcessorManufacturerIdentifier               float64\n",
       "Census_ProcessorModelIdentifier                      float64\n",
       "Census_PrimaryDiskTotalCapacity                      float64\n",
       "Census_SystemVolumeTotalCapacity                     float64\n",
       "Census_TotalPhysicalRAM                              float64\n",
       "Census_InternalPrimaryDiagonalDisplaySizeInInches    float64\n",
       "Census_InternalPrimaryDisplayResolutionHorizontal    float64\n",
       "Census_InternalPrimaryDisplayResolutionVertical      float64\n",
       "Census_InternalBatteryNumberOfCharges                float64\n",
       "Census_OSInstallLanguageIdentifier                   float64\n",
       "Census_IsFlightingInternal                           float64\n",
       "Census_IsFlightsDisabled                             float64\n",
       "Census_ThresholdOptIn                                float64\n",
       "Census_FirmwareManufacturerIdentifier                float64\n",
       "Census_FirmwareVersionIdentifier                     float64\n",
       "Census_IsWIMBootEnabled                              float64\n",
       "Census_IsVirtualDevice                               float64\n",
       "Census_IsAlwaysOnAlwaysConnectedCapable              float64\n",
       "Wdft_IsGamer                                         float64\n",
       "Wdft_RegionIdentifier                                float64\n",
       "dtype: object"
      ]
     },
     "execution_count": 25,
     "metadata": {},
     "output_type": "execute_result"
    }
   ],
   "source": [
    "data.dtypes[data.dtypes == 'float64']"
   ]
  },
  {
   "cell_type": "markdown",
   "metadata": {},
   "source": [
    "### isBeta => int8"
   ]
  },
  {
   "cell_type": "markdown",
   "metadata": {},
   "source": [
    "### IsSxsPassiveMode => int8"
   ]
  },
  {
   "cell_type": "markdown",
   "metadata": {},
   "source": [
    "### Has Tpm => int8"
   ]
  },
  {
   "cell_type": "markdown",
   "metadata": {},
   "source": [
    "### CountryIdentifier"
   ]
  },
  {
   "cell_type": "code",
   "execution_count": 43,
   "metadata": {
    "ExecuteTime": {
     "end_time": "2019-02-10T04:56:34.165992Z",
     "start_time": "2019-02-10T04:56:33.810940Z"
    }
   },
   "outputs": [
    {
     "data": {
      "text/plain": [
       "43     854955\n",
       "29     647634\n",
       "141    626133\n",
       "171    591078\n",
       "93     520839\n",
       "60     440351\n",
       "201    437084\n",
       "89     404519\n",
       "207    402717\n",
       "214    382567\n",
       "66     375938\n",
       "97     363656\n",
       "158    335904\n",
       "107    327198\n",
       "44     320051\n",
       "9      298986\n",
       "51     289451\n",
       "68     285818\n",
       "203    280937\n",
       "160    274348\n",
       "41     273807\n",
       "195    253827\n",
       "205    248393\n",
       "35     237857\n",
       "142    228038\n",
       "149    220002\n",
       "155    207665\n",
       "164    195229\n",
       "59     192455\n",
       "159    190219\n",
       "173    176057\n",
       "88     166503\n",
       "169    158675\n",
       "91     147650\n",
       "12     146010\n",
       "220    143456\n",
       "101    142946\n",
       "50     132804\n",
       "80     130384\n",
       "57     128298\n",
       "18     122590\n",
       "2      121208\n",
       "95     118238\n",
       "19     114061\n",
       "84     109795\n",
       "110    106692\n",
       "21     101467\n",
       "177     99672\n",
       "11      91597\n",
       "94      83660\n",
       "        ...  \n",
       "191      3065\n",
       "92       2839\n",
       "98       2708\n",
       "117      2616\n",
       "109      2568\n",
       "76       2507\n",
       "38       2238\n",
       "136      2208\n",
       "213      2182\n",
       "146      2102\n",
       "52       2101\n",
       "23       1886\n",
       "106      1875\n",
       "25       1857\n",
       "189      1845\n",
       "175      1795\n",
       "54       1768\n",
       "72       1746\n",
       "65       1659\n",
       "198      1532\n",
       "196      1530\n",
       "197      1494\n",
       "74       1357\n",
       "192      1340\n",
       "182      1290\n",
       "134      1267\n",
       "123      1137\n",
       "105      1113\n",
       "64       1079\n",
       "75       1061\n",
       "79       1022\n",
       "114       960\n",
       "28        922\n",
       "215       918\n",
       "126       911\n",
       "174       891\n",
       "5         840\n",
       "187       836\n",
       "14        747\n",
       "216       632\n",
       "200       619\n",
       "10        614\n",
       "212       590\n",
       "193       560\n",
       "128       516\n",
       "186       480\n",
       "217       438\n",
       "37        427\n",
       "165       408\n",
       "161       342\n",
       "Name: CountryIdentifier, Length: 222, dtype: int64"
      ]
     },
     "execution_count": 43,
     "metadata": {},
     "output_type": "execute_result"
    }
   ],
   "source": [
    "col = \"CountryIdentifier\"\n",
    "data[col].value_counts(dropna=False)"
   ]
  },
  {
   "cell_type": "code",
   "execution_count": null,
   "metadata": {},
   "outputs": [],
   "source": []
  }
 ],
 "metadata": {
  "kernelspec": {
   "display_name": "Python 3",
   "language": "python",
   "name": "python3"
  },
  "language_info": {
   "codemirror_mode": {
    "name": "ipython",
    "version": 3
   },
   "file_extension": ".py",
   "mimetype": "text/x-python",
   "name": "python",
   "nbconvert_exporter": "python",
   "pygments_lexer": "ipython3",
   "version": "3.6.7"
  },
  "toc": {
   "base_numbering": 1,
   "nav_menu": {},
   "number_sections": true,
   "sideBar": true,
   "skip_h1_title": false,
   "title_cell": "Table of Contents",
   "title_sidebar": "Contents",
   "toc_cell": false,
   "toc_position": {},
   "toc_section_display": true,
   "toc_window_display": true
  }
 },
 "nbformat": 4,
 "nbformat_minor": 2
}
