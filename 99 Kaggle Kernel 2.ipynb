{
 "cells": [
  {
   "cell_type": "markdown",
   "metadata": {},
   "source": [
    "# 케글 커널 필사 2\n",
    "\n",
    "* [커널](https://www.kaggle.com/bogorodvo/upd-lightgbm-baseline-model-using-sparse-matrix)\n",
    "* 스코어 기준으로 정렬"
   ]
  },
  {
   "cell_type": "code",
   "execution_count": 1,
   "metadata": {
    "ExecuteTime": {
     "end_time": "2019-02-26T13:21:26.546454Z",
     "start_time": "2019-02-26T13:21:18.664920Z"
    }
   },
   "outputs": [],
   "source": [
    "import pandas as pd\n",
    "import numpy as np\n",
    "from tqdm import tqdm_notebook\n",
    "import lightgbm as lgb\n",
    "#import xgboost as xgb\n",
    "from scipy.sparse import vstack, csr_matrix, save_npz, load_npz\n",
    "from sklearn.preprocessing import LabelEncoder, OneHotEncoder\n",
    "from sklearn.model_selection import StratifiedKFold\n",
    "#from sklearn.metrics import roc_auc_score\n",
    "import gc\n",
    "gc.enable()"
   ]
  },
  {
   "cell_type": "code",
   "execution_count": 2,
   "metadata": {
    "ExecuteTime": {
     "end_time": "2019-02-26T13:21:26.558424Z",
     "start_time": "2019-02-26T13:21:26.548449Z"
    }
   },
   "outputs": [],
   "source": [
    "dtypes = {\n",
    "        'MachineIdentifier':                                    'category',\n",
    "        'ProductName':                                          'category',\n",
    "        'EngineVersion':                                        'category',\n",
    "        'AppVersion':                                           'category',\n",
    "        'AvSigVersion':                                         'category',\n",
    "        'IsBeta':                                               'int8',\n",
    "        'RtpStateBitfield':                                     'float16',\n",
    "        'IsSxsPassiveMode':                                     'int8',\n",
    "        'DefaultBrowsersIdentifier':                            'float16',\n",
    "        'AVProductStatesIdentifier':                            'float32',\n",
    "        'AVProductsInstalled':                                  'float16',\n",
    "        'AVProductsEnabled':                                    'float16',\n",
    "        'HasTpm':                                               'int8',\n",
    "        'CountryIdentifier':                                    'int16',\n",
    "        'CityIdentifier':                                       'float32',\n",
    "        'OrganizationIdentifier':                               'float16',\n",
    "        'GeoNameIdentifier':                                    'float16',\n",
    "        'LocaleEnglishNameIdentifier':                          'int8',\n",
    "        'Platform':                                             'category',\n",
    "        'Processor':                                            'category',\n",
    "        'OsVer':                                                'category',\n",
    "        'OsBuild':                                              'int16',\n",
    "        'OsSuite':                                              'int16',\n",
    "        'OsPlatformSubRelease':                                 'category',\n",
    "        'OsBuildLab':                                           'category',\n",
    "        'SkuEdition':                                           'category',\n",
    "        'IsProtected':                                          'float16',\n",
    "        'AutoSampleOptIn':                                      'int8',\n",
    "        'PuaMode':                                              'category',\n",
    "        'SMode':                                                'float16',\n",
    "        'IeVerIdentifier':                                      'float16',\n",
    "        'SmartScreen':                                          'category',\n",
    "        'Firewall':                                             'float16',\n",
    "        'UacLuaenable':                                         'float32',\n",
    "        'Census_MDC2FormFactor':                                'category',\n",
    "        'Census_DeviceFamily':                                  'category',\n",
    "        'Census_OEMNameIdentifier':                             'float16',\n",
    "        'Census_OEMModelIdentifier':                            'float32',\n",
    "        'Census_ProcessorCoreCount':                            'float16',\n",
    "        'Census_ProcessorManufacturerIdentifier':               'float16',\n",
    "        'Census_ProcessorModelIdentifier':                      'float16',\n",
    "        'Census_ProcessorClass':                                'category',\n",
    "        'Census_PrimaryDiskTotalCapacity':                      'float32',\n",
    "        'Census_PrimaryDiskTypeName':                           'category',\n",
    "        'Census_SystemVolumeTotalCapacity':                     'float32',\n",
    "        'Census_HasOpticalDiskDrive':                           'int8',\n",
    "        'Census_TotalPhysicalRAM':                              'float32',\n",
    "        'Census_ChassisTypeName':                               'category',\n",
    "        'Census_InternalPrimaryDiagonalDisplaySizeInInches':    'float16',\n",
    "        'Census_InternalPrimaryDisplayResolutionHorizontal':    'float16',\n",
    "        'Census_InternalPrimaryDisplayResolutionVertical':      'float16',\n",
    "        'Census_PowerPlatformRoleName':                         'category',\n",
    "        'Census_InternalBatteryType':                           'category',\n",
    "        'Census_InternalBatteryNumberOfCharges':                'float32',\n",
    "        'Census_OSVersion':                                     'category',\n",
    "        'Census_OSArchitecture':                                'category',\n",
    "        'Census_OSBranch':                                      'category',\n",
    "        'Census_OSBuildNumber':                                 'int16',\n",
    "        'Census_OSBuildRevision':                               'int32',\n",
    "        'Census_OSEdition':                                     'category',\n",
    "        'Census_OSSkuName':                                     'category',\n",
    "        'Census_OSInstallTypeName':                             'category',\n",
    "        'Census_OSInstallLanguageIdentifier':                   'float16',\n",
    "        'Census_OSUILocaleIdentifier':                          'int16',\n",
    "        'Census_OSWUAutoUpdateOptionsName':                     'category',\n",
    "        'Census_IsPortableOperatingSystem':                     'int8',\n",
    "        'Census_GenuineStateName':                              'category',\n",
    "        'Census_ActivationChannel':                             'category',\n",
    "        'Census_IsFlightingInternal':                           'float16',\n",
    "        'Census_IsFlightsDisabled':                             'float16',\n",
    "        'Census_FlightRing':                                    'category',\n",
    "        'Census_ThresholdOptIn':                                'float16',\n",
    "        'Census_FirmwareManufacturerIdentifier':                'float16',\n",
    "        'Census_FirmwareVersionIdentifier':                     'float32',\n",
    "        'Census_IsSecureBootEnabled':                           'int8',\n",
    "        'Census_IsWIMBootEnabled':                              'float16',\n",
    "        'Census_IsVirtualDevice':                               'float16',\n",
    "        'Census_IsTouchEnabled':                                'int8',\n",
    "        'Census_IsPenCapable':                                  'int8',\n",
    "        'Census_IsAlwaysOnAlwaysConnectedCapable':              'float16',\n",
    "        'Wdft_IsGamer':                                         'float16',\n",
    "        'Wdft_RegionIdentifier':                                'float16',\n",
    "        'HasDetections':                                        'int8'\n",
    "        }"
   ]
  },
  {
   "cell_type": "code",
   "execution_count": 3,
   "metadata": {
    "ExecuteTime": {
     "end_time": "2019-02-26T13:25:26.359183Z",
     "start_time": "2019-02-26T13:21:27.848894Z"
    },
    "scrolled": true
   },
   "outputs": [
    {
     "name": "stdout",
     "output_type": "stream",
     "text": [
      "Download Train and Test Data.\n",
      "\n",
      "Wall time: 3min 58s\n"
     ]
    }
   ],
   "source": [
    "%%time\n",
    "print('Download Train and Test Data.\\n')\n",
    "train = pd.read_csv('./data/train.csv', dtype=dtypes, low_memory=True)\n",
    "# train['MachineIdentifier'] = train.index.astype('uint32')\n",
    "test  = pd.read_csv('./data/test.csv',  dtype=dtypes, low_memory=True)\n",
    "# test['MachineIdentifier']  = test.index.astype('uint32')"
   ]
  },
  {
   "cell_type": "code",
   "execution_count": 4,
   "metadata": {
    "ExecuteTime": {
     "end_time": "2019-02-26T13:25:26.365166Z",
     "start_time": "2019-02-26T13:25:26.361177Z"
    }
   },
   "outputs": [],
   "source": [
    "debug = False\n",
    "if debug:\n",
    "    train = train[:10000]\n",
    "    test = test[:10000]"
   ]
  },
  {
   "cell_type": "code",
   "execution_count": 5,
   "metadata": {
    "ExecuteTime": {
     "end_time": "2019-02-26T13:25:26.899780Z",
     "start_time": "2019-02-26T13:25:26.366163Z"
    }
   },
   "outputs": [
    {
     "data": {
      "text/plain": [
       "201019"
      ]
     },
     "execution_count": 5,
     "metadata": {},
     "output_type": "execute_result"
    }
   ],
   "source": [
    "gc.collect()"
   ]
  },
  {
   "cell_type": "code",
   "execution_count": 6,
   "metadata": {
    "ExecuteTime": {
     "end_time": "2019-02-26T13:25:27.944985Z",
     "start_time": "2019-02-26T13:25:26.901741Z"
    }
   },
   "outputs": [],
   "source": [
    "train.MachineIdentifier = range(len(train))\n",
    "train.reset_index(drop=True, inplace=True)\n",
    "\n",
    "test.MachineIdentifier = range(len(test))\n",
    "test.reset_index(drop=True, inplace=True)"
   ]
  },
  {
   "cell_type": "code",
   "execution_count": 7,
   "metadata": {
    "ExecuteTime": {
     "end_time": "2019-02-26T13:38:57.557043Z",
     "start_time": "2019-02-26T13:25:27.946978Z"
    }
   },
   "outputs": [
    {
     "name": "stdout",
     "output_type": "stream",
     "text": [
      "Transform all features to category.\n",
      "\n"
     ]
    },
    {
     "data": {
      "application/vnd.jupyter.widget-view+json": {
       "model_id": "875fc55b61914403baaa4869aa4fc3d4",
       "version_major": 2,
       "version_minor": 0
      },
      "text/plain": [
       "HBox(children=(IntProgress(value=0, max=81), HTML(value='')))"
      ]
     },
     "metadata": {},
     "output_type": "display_data"
    },
    {
     "name": "stdout",
     "output_type": "stream",
     "text": [
      "\n"
     ]
    }
   ],
   "source": [
    "print('Transform all features to category.\\n')\n",
    "for usecol in tqdm_notebook(train.columns.tolist()[1:-1]):\n",
    "\n",
    "    train[usecol] = train[usecol].astype('str')\n",
    "    test[usecol] = test[usecol].astype('str')\n",
    "    \n",
    "    #Fit LabelEncoder\n",
    "    le = LabelEncoder().fit(\n",
    "            np.unique(train[usecol].unique().tolist()+\n",
    "                      test[usecol].unique().tolist()))\n",
    "\n",
    "    #At the end 0 will be used for dropped values\n",
    "    train[usecol] = le.transform(train[usecol])+1\n",
    "    test[usecol]  = le.transform(test[usecol])+1\n",
    "\n",
    "    agg_tr = (train\n",
    "              .groupby([usecol])\n",
    "              .aggregate({'MachineIdentifier':'count'})\n",
    "              .reset_index()\n",
    "              .rename({'MachineIdentifier':'Train'}, axis=1))\n",
    "    \n",
    "    agg_te = (test\n",
    "              .groupby([usecol])\n",
    "              .aggregate({'MachineIdentifier':'count'})\n",
    "              .reset_index()\n",
    "              .rename({'MachineIdentifier':'Test'}, axis=1))\n",
    "\n",
    "    agg = pd.merge(agg_tr, agg_te, on=usecol, how='outer').replace(np.nan, 0)\n",
    "    #Select values with more than 1000 observations\n",
    "    agg = agg[(agg['Train'] > 800)].reset_index(drop=True)\n",
    "    agg['Total'] = agg['Train'] + agg['Test']\n",
    "    #Drop unbalanced values\n",
    "    agg = agg[(agg['Train'] / agg['Total'] > 0.1) & (agg['Train'] / agg['Total'] < 0.9)]\n",
    "    agg[usecol+'Copy'] = agg[usecol]\n",
    "    \n",
    "    train[usecol] = (pd.merge(train[[usecol]], \n",
    "                              agg[[usecol, usecol+'Copy']], \n",
    "                              on=usecol, how='left')[usecol+'Copy']\n",
    "                     .replace(np.nan, 0).astype('int').astype('category'))\n",
    "\n",
    "    test[usecol]  = (pd.merge(test[[usecol]], \n",
    "                              agg[[usecol, usecol+'Copy']], \n",
    "                              on=usecol, how='left')[usecol+'Copy']\n",
    "                     .replace(np.nan, 0).astype('int').astype('category'))\n",
    "\n",
    "    del le, agg_tr, agg_te, agg, usecol\n",
    "    gc.collect()"
   ]
  },
  {
   "cell_type": "code",
   "execution_count": 9,
   "metadata": {
    "ExecuteTime": {
     "end_time": "2019-02-26T13:50:10.352675Z",
     "start_time": "2019-02-26T13:50:10.347688Z"
    }
   },
   "outputs": [
    {
     "data": {
      "text/plain": [
       "(8921483, 83)"
      ]
     },
     "execution_count": 9,
     "metadata": {},
     "output_type": "execute_result"
    }
   ],
   "source": [
    "train.shape"
   ]
  },
  {
   "cell_type": "code",
   "execution_count": 11,
   "metadata": {
    "ExecuteTime": {
     "end_time": "2019-02-26T13:50:26.331034Z",
     "start_time": "2019-02-26T13:50:26.322058Z"
    }
   },
   "outputs": [],
   "source": [
    "y_train = np.array(train['HasDetections'])\n",
    "train_ids = train.index\n",
    "test_ids  = test.index"
   ]
  },
  {
   "cell_type": "code",
   "execution_count": 12,
   "metadata": {
    "ExecuteTime": {
     "end_time": "2019-02-26T13:50:27.700363Z",
     "start_time": "2019-02-26T13:50:27.660877Z"
    }
   },
   "outputs": [
    {
     "data": {
      "text/plain": [
       "21"
      ]
     },
     "execution_count": 12,
     "metadata": {},
     "output_type": "execute_result"
    }
   ],
   "source": [
    "del train['HasDetections'], train['MachineIdentifier'], test['MachineIdentifier']\n",
    "gc.collect()"
   ]
  },
  {
   "cell_type": "code",
   "execution_count": 13,
   "metadata": {
    "ExecuteTime": {
     "end_time": "2019-02-26T13:50:28.563870Z",
     "start_time": "2019-02-26T13:50:28.550949Z"
    }
   },
   "outputs": [
    {
     "name": "stdout",
     "output_type": "stream",
     "text": [
      "If you don't want use Sparse Matrix choose Kernel Version 2 to get simple solution.\n",
      "\n",
      "--------------------------------------------------------------------------------------------------------\n",
      "Transform Data to Sparse Matrix.\n",
      "Sparse Matrix can be used to fit a lot of models, eg. XGBoost, LightGBM, Random Forest, K-Means and etc.\n",
      "To concatenate Sparse Matrices by column use hstack()\n",
      "Read more about Sparse Matrix https://docs.scipy.org/doc/scipy/reference/sparse.html\n",
      "Good Luck!\n",
      "--------------------------------------------------------------------------------------------------------\n"
     ]
    }
   ],
   "source": [
    "print(\"If you don't want use Sparse Matrix choose Kernel Version 2 to get simple solution.\\n\")\n",
    "\n",
    "print('--------------------------------------------------------------------------------------------------------')\n",
    "print('Transform Data to Sparse Matrix.')\n",
    "print('Sparse Matrix can be used to fit a lot of models, eg. XGBoost, LightGBM, Random Forest, K-Means and etc.')\n",
    "print('To concatenate Sparse Matrices by column use hstack()')\n",
    "print('Read more about Sparse Matrix https://docs.scipy.org/doc/scipy/reference/sparse.html')\n",
    "print('Good Luck!')\n",
    "print('--------------------------------------------------------------------------------------------------------')\n"
   ]
  },
  {
   "cell_type": "code",
   "execution_count": 14,
   "metadata": {
    "ExecuteTime": {
     "end_time": "2019-02-26T13:51:06.708330Z",
     "start_time": "2019-02-26T13:50:30.090619Z"
    }
   },
   "outputs": [],
   "source": [
    "#Fit OneHotEncoder\n",
    "ohe = OneHotEncoder(categories='auto', sparse=True, dtype='uint8').fit(train)"
   ]
  },
  {
   "cell_type": "code",
   "execution_count": 15,
   "metadata": {
    "ExecuteTime": {
     "end_time": "2019-02-26T13:54:21.270761Z",
     "start_time": "2019-02-26T13:51:06.710289Z"
    }
   },
   "outputs": [],
   "source": [
    "#Transform data using small groups to reduce memory usage\n",
    "m = 100000\n",
    "train = vstack([ohe.transform(train[i*m:(i+1)*m]) for i in range(train.shape[0] // m + 1)])\n",
    "test  = vstack([ohe.transform(test[i*m:(i+1)*m])  for i in range(test.shape[0] // m +  1)])"
   ]
  },
  {
   "cell_type": "code",
   "execution_count": 16,
   "metadata": {
    "ExecuteTime": {
     "end_time": "2019-02-26T13:54:21.276734Z",
     "start_time": "2019-02-26T13:54:21.271771Z"
    }
   },
   "outputs": [
    {
     "data": {
      "text/plain": [
       "(8921483, 9318)"
      ]
     },
     "execution_count": 16,
     "metadata": {},
     "output_type": "execute_result"
    }
   ],
   "source": [
    "train.shape"
   ]
  },
  {
   "cell_type": "code",
   "execution_count": 17,
   "metadata": {
    "ExecuteTime": {
     "end_time": "2019-02-26T14:06:46.337538Z",
     "start_time": "2019-02-26T14:04:18.452653Z"
    }
   },
   "outputs": [],
   "source": [
    "save_npz('./data_temp/train.npz', train, compressed=True)\n",
    "save_npz('./data_temp/test.npz',  test,  compressed=True)"
   ]
  },
  {
   "cell_type": "code",
   "execution_count": 18,
   "metadata": {
    "ExecuteTime": {
     "end_time": "2019-02-26T14:06:47.018861Z",
     "start_time": "2019-02-26T14:06:46.339518Z"
    }
   },
   "outputs": [
    {
     "data": {
      "text/plain": [
       "574"
      ]
     },
     "execution_count": 18,
     "metadata": {},
     "output_type": "execute_result"
    }
   ],
   "source": [
    "del ohe, train, test\n",
    "gc.collect()"
   ]
  },
  {
   "cell_type": "code",
   "execution_count": 19,
   "metadata": {
    "ExecuteTime": {
     "end_time": "2019-02-26T14:06:47.026805Z",
     "start_time": "2019-02-26T14:06:47.020823Z"
    }
   },
   "outputs": [],
   "source": [
    "skf = StratifiedKFold(n_splits=5, shuffle=True, random_state=42)\n",
    "skf.get_n_splits(train_ids, y_train)\n",
    "\n",
    "lgb_test_result  = np.zeros(test_ids.shape[0])\n",
    "lgb_train_result = np.zeros(train_ids.shape[0])\n",
    "#xgb_test_result  = np.zeros(test_ids.shape[0])\n",
    "#xgb_train_result = np.zeros(train_ids.shape[0])\n",
    "counter = 0"
   ]
  },
  {
   "cell_type": "code",
   "execution_count": 20,
   "metadata": {
    "ExecuteTime": {
     "end_time": "2019-02-26T18:23:58.358962Z",
     "start_time": "2019-02-26T14:06:47.028800Z"
    },
    "scrolled": false
   },
   "outputs": [
    {
     "name": "stdout",
     "output_type": "stream",
     "text": [
      "\n",
      "LightGBM\n",
      "\n",
      "Fold 1\n",
      "\n",
      "Training until validation scores don't improve for 100 rounds.\n",
      "[100]\tvalid_0's binary_logloss: 0.60303\tvalid_0's auc: 0.733677\n",
      "[200]\tvalid_0's binary_logloss: 0.596402\tvalid_0's auc: 0.739307\n",
      "[300]\tvalid_0's binary_logloss: 0.594763\tvalid_0's auc: 0.740888\n",
      "[400]\tvalid_0's binary_logloss: 0.594454\tvalid_0's auc: 0.741114\n",
      "[500]\tvalid_0's binary_logloss: 0.594459\tvalid_0's auc: 0.741081\n",
      "Early stopping, best iteration is:\n",
      "[422]\tvalid_0's binary_logloss: 0.594423\tvalid_0's auc: 0.741143\n",
      "Fold 2\n",
      "\n",
      "Training until validation scores don't improve for 100 rounds.\n",
      "[100]\tvalid_0's binary_logloss: 0.603561\tvalid_0's auc: 0.733416\n",
      "[200]\tvalid_0's binary_logloss: 0.596694\tvalid_0's auc: 0.739351\n",
      "[300]\tvalid_0's binary_logloss: 0.594834\tvalid_0's auc: 0.741061\n",
      "[400]\tvalid_0's binary_logloss: 0.594422\tvalid_0's auc: 0.741374\n",
      "Early stopping, best iteration is:\n",
      "[384]\tvalid_0's binary_logloss: 0.594427\tvalid_0's auc: 0.741386\n",
      "Fold 3\n",
      "\n",
      "Training until validation scores don't improve for 100 rounds.\n",
      "[100]\tvalid_0's binary_logloss: 0.604099\tvalid_0's auc: 0.733326\n",
      "[200]\tvalid_0's binary_logloss: 0.596749\tvalid_0's auc: 0.739258\n",
      "[300]\tvalid_0's binary_logloss: 0.594733\tvalid_0's auc: 0.741153\n",
      "[400]\tvalid_0's binary_logloss: 0.594284\tvalid_0's auc: 0.741513\n",
      "[500]\tvalid_0's binary_logloss: 0.594291\tvalid_0's auc: 0.741477\n",
      "Early stopping, best iteration is:\n",
      "[434]\tvalid_0's binary_logloss: 0.594254\tvalid_0's auc: 0.741527\n",
      "Fold 4\n",
      "\n",
      "Training until validation scores don't improve for 100 rounds.\n",
      "[100]\tvalid_0's binary_logloss: 0.602456\tvalid_0's auc: 0.734571\n",
      "[200]\tvalid_0's binary_logloss: 0.595688\tvalid_0's auc: 0.740306\n",
      "[300]\tvalid_0's binary_logloss: 0.594055\tvalid_0's auc: 0.741863\n",
      "[400]\tvalid_0's binary_logloss: 0.593726\tvalid_0's auc: 0.742099\n",
      "[500]\tvalid_0's binary_logloss: 0.593791\tvalid_0's auc: 0.741987\n",
      "Early stopping, best iteration is:\n",
      "[416]\tvalid_0's binary_logloss: 0.59372\tvalid_0's auc: 0.742099\n",
      "Fold 5\n",
      "\n",
      "Training until validation scores don't improve for 100 rounds.\n",
      "[100]\tvalid_0's binary_logloss: 0.60309\tvalid_0's auc: 0.73359\n",
      "[200]\tvalid_0's binary_logloss: 0.596569\tvalid_0's auc: 0.7392\n",
      "[300]\tvalid_0's binary_logloss: 0.594812\tvalid_0's auc: 0.740848\n",
      "[400]\tvalid_0's binary_logloss: 0.594391\tvalid_0's auc: 0.741168\n",
      "[500]\tvalid_0's binary_logloss: 0.594378\tvalid_0's auc: 0.741142\n",
      "Early stopping, best iteration is:\n",
      "[415]\tvalid_0's binary_logloss: 0.59438\tvalid_0's auc: 0.741171\n"
     ]
    }
   ],
   "source": [
    "print('\\nLightGBM\\n')\n",
    "\n",
    "for train_index, test_index in skf.split(train_ids, y_train):\n",
    "    \n",
    "    print('Fold {}\\n'.format(counter + 1))\n",
    "    \n",
    "    train = load_npz('./data_temp/train.npz')\n",
    "    X_fit = vstack([train[train_index[i*m:(i+1)*m]] for i in range(train_index.shape[0] // m + 1)])\n",
    "    X_val = vstack([train[test_index[i*m:(i+1)*m]]  for i in range(test_index.shape[0] //  m + 1)])\n",
    "    X_fit, X_val = csr_matrix(X_fit, dtype='float32'), csr_matrix(X_val, dtype='float32')\n",
    "    y_fit, y_val = y_train[train_index], y_train[test_index]\n",
    "    \n",
    "    del train\n",
    "    gc.collect()\n",
    "\n",
    "    lgb_model = lgb.LGBMClassifier(max_depth=-1,\n",
    "                                   n_estimators=30000,\n",
    "                                   learning_rate=0.05,\n",
    "                                   num_leaves=2**12-1,\n",
    "                                   colsample_bytree=0.28,\n",
    "                                   objective='binary', \n",
    "                                   n_jobs=-1)\n",
    "                                   \n",
    "    #xgb_model = xgb.XGBClassifier(max_depth=6,\n",
    "    #                              n_estimators=30000,\n",
    "    #                              colsample_bytree=0.2,\n",
    "    #                              learning_rate=0.1,\n",
    "    #                              objective='binary:logistic', \n",
    "    #                              n_jobs=-1)\n",
    "    \n",
    "                               \n",
    "    lgb_model.fit(X_fit, y_fit, eval_metric='auc', \n",
    "                  eval_set=[(X_val, y_val)], \n",
    "                  verbose=100, early_stopping_rounds=100)\n",
    "                  \n",
    "    #xgb_model.fit(X_fit, y_fit, eval_metric='auc', \n",
    "    #              eval_set=[(X_val, y_val)], \n",
    "    #              verbose=1000, early_stopping_rounds=300)\n",
    "\n",
    "    #lgb_train_result[test_index] += lgb_model.predict_proba(X_val)[:,1]\n",
    "    #xgb_train_result[test_index] += xgb_model.predict_proba(X_val)[:,1]\n",
    "    \n",
    "    del X_fit, X_val, y_fit, y_val, train_index, test_index\n",
    "    gc.collect()\n",
    "    \n",
    "    test = load_npz('./data_temp/test.npz')\n",
    "    test = csr_matrix(test, dtype='float32')\n",
    "    lgb_test_result += lgb_model.predict_proba(test)[:,1]\n",
    "    #xgb_test_result += xgb_model.predict_proba(test)[:,1]\n",
    "    counter += 1\n",
    "    \n",
    "    del test\n",
    "    gc.collect()"
   ]
  },
  {
   "cell_type": "markdown",
   "metadata": {},
   "source": [
    "Fold 1\n",
    "\n",
    "Training until validation scores don't improve for 100 rounds.\n",
    "* [100]\tvalid_0's auc: 0.731814\tvalid_0's binary_logloss: 0.604756\n",
    "* [200]\tvalid_0's auc: 0.737255\tvalid_0's binary_logloss: 0.598171\n",
    "* [300]\tvalid_0's auc: 0.738762\tvalid_0's binary_logloss: 0.596577\n",
    "* [400]\tvalid_0's auc: 0.73902\tvalid_0's binary_logloss: 0.596246\n",
    "* [500]\tvalid_0's auc: 0.738941\tvalid_0's binary_logloss: 0.596295\n",
    "\n",
    "Early stopping, best iteration is:\n",
    "* [413]\tvalid_0's auc: 0.739032\tvalid_0's binary_logloss: 0.596234\n",
    "\n",
    "Fold 2\n",
    "\n",
    "Training until validation scores don't improve for 100 rounds.\n",
    "* [100]\tvalid_0's auc: 0.732085\tvalid_0's binary_logloss: 0.604716\n",
    "* [200]\tvalid_0's auc: 0.737355\tvalid_0's binary_logloss: 0.598296\n",
    "* [300]\tvalid_0's auc: 0.738891\tvalid_0's binary_logloss: 0.596623\n",
    "* [400]\tvalid_0's auc: 0.739114\tvalid_0's binary_logloss: 0.596321\n",
    "\n",
    "Early stopping, best iteration is:\n",
    "* [392]\tvalid_0's auc: 0.739125\tvalid_0's binary_logloss: 0.596318\n",
    "\n",
    "Fold 3\n",
    "\n",
    "Training until validation scores don't improve for 100 rounds.\n",
    "* [100]\tvalid_0's auc: 0.731732\tvalid_0's binary_logloss: 0.604695\n",
    "* [200]\tvalid_0's auc: 0.7373\tvalid_0's binary_logloss: 0.598301\n",
    "* [300]\tvalid_0's auc: 0.739042\tvalid_0's binary_logloss: 0.596534\n",
    "* [400]\tvalid_0's auc: 0.73933\tvalid_0's binary_logloss: 0.596197\n",
    "* [500]\tvalid_0's auc: 0.739239\tvalid_0's binary_logloss: 0.596242\n",
    "\n",
    "Early stopping, best iteration is:\n",
    "* [403]\tvalid_0's auc: 0.739335\tvalid_0's binary_logloss: 0.596189\n",
    "\n",
    "Fold 4\n",
    "\n",
    "Training until validation scores don't improve for 100 rounds.\n",
    "* [100]\tvalid_0's auc: 0.732696\tvalid_0's binary_logloss: 0.60421\n",
    "* [200]\tvalid_0's auc: 0.738141\tvalid_0's binary_logloss: 0.597535\n",
    "* [300]\tvalid_0's auc: 0.739715\tvalid_0's binary_logloss: 0.595869\n",
    "* [400]\tvalid_0's auc: 0.739938\tvalid_0's binary_logloss: 0.595555\n",
    "\n",
    "Early stopping, best iteration is:\n",
    "* [350]\tvalid_0's auc: 0.739944\tvalid_0's binary_logloss: 0.595605\n",
    "\n",
    "Fold 5\n",
    "\n",
    "Training until validation scores don't improve for 100 rounds.\n",
    "* [100]\tvalid_0's auc: 0.731629\tvalid_0's binary_logloss: 0.60482\n",
    "* [200]\tvalid_0's auc: 0.737059\tvalid_0's binary_logloss: 0.598237\n",
    "* [300]\tvalid_0's auc: 0.738603\tvalid_0's binary_logloss: 0.596627\n",
    "* [400]\tvalid_0's auc: 0.738839\tvalid_0's binary_logloss: 0.596299\n",
    "\n",
    "Early stopping, best iteration is:\n",
    "* [396]\tvalid_0's auc: 0.73884\tvalid_0's binary_logloss: 0.596306\n"
   ]
  },
  {
   "cell_type": "code",
   "execution_count": 135,
   "metadata": {
    "ExecuteTime": {
     "end_time": "2019-02-12T16:26:19.048803Z",
     "start_time": "2019-02-12T16:26:19.025658Z"
    }
   },
   "outputs": [],
   "source": [
    "sub = pd.DataFrame({\"MachineIdentifier\":test.MachineIdentifier, \"HasDetections\": lgb_test_result / counter})"
   ]
  },
  {
   "cell_type": "code",
   "execution_count": 23,
   "metadata": {
    "ExecuteTime": {
     "end_time": "2019-02-26T21:19:09.758076Z",
     "start_time": "2019-02-26T21:19:04.754422Z"
    }
   },
   "outputs": [],
   "source": [
    "submission = pd.read_csv('./data/sample_submission.csv')"
   ]
  },
  {
   "cell_type": "code",
   "execution_count": 27,
   "metadata": {
    "ExecuteTime": {
     "end_time": "2019-02-26T21:20:32.370412Z",
     "start_time": "2019-02-26T21:20:08.741168Z"
    }
   },
   "outputs": [],
   "source": [
    "submission.to_csv('./data/submission_lgb_more_feature.csv', index=False)"
   ]
  },
  {
   "cell_type": "code",
   "execution_count": 25,
   "metadata": {
    "ExecuteTime": {
     "end_time": "2019-02-26T21:19:26.610168Z",
     "start_time": "2019-02-26T21:19:26.535369Z"
    }
   },
   "outputs": [],
   "source": [
    "submission.HasDetections = lgb_test_result / counter"
   ]
  },
  {
   "cell_type": "code",
   "execution_count": 118,
   "metadata": {
    "ExecuteTime": {
     "end_time": "2019-02-12T16:15:30.796752Z",
     "start_time": "2019-02-12T16:15:30.414765Z"
    }
   },
   "outputs": [],
   "source": [
    "t1 = set(range(len(submission.index)))"
   ]
  },
  {
   "cell_type": "code",
   "execution_count": 123,
   "metadata": {
    "ExecuteTime": {
     "end_time": "2019-02-12T16:16:31.676765Z",
     "start_time": "2019-02-12T16:16:31.510991Z"
    }
   },
   "outputs": [],
   "source": [
    "t2 = set(sub.index)"
   ]
  },
  {
   "cell_type": "code",
   "execution_count": 132,
   "metadata": {
    "ExecuteTime": {
     "end_time": "2019-02-12T16:19:22.178402Z",
     "start_time": "2019-02-12T16:18:50.042063Z"
    }
   },
   "outputs": [],
   "source": [
    "submission.iloc[list(t1.difference(t2))].append(sub).sort_values('MachineIdentifier').to_csv('./data/submission_split_av.csv', index=False)"
   ]
  },
  {
   "cell_type": "code",
   "execution_count": 108,
   "metadata": {
    "ExecuteTime": {
     "end_time": "2019-02-12T16:12:35.374622Z",
     "start_time": "2019-02-12T16:08:32.944700Z"
    },
    "collapsed": true
   },
   "outputs": [
    {
     "data": {
      "application/vnd.jupyter.widget-view+json": {
       "model_id": "34d79e420b164b2da96df6ffea351c05",
       "version_major": 2,
       "version_minor": 0
      },
      "text/plain": [
       "HBox(children=(IntProgress(value=0, max=2344631), HTML(value='')))"
      ]
     },
     "metadata": {},
     "output_type": "display_data"
    },
    {
     "ename": "KeyboardInterrupt",
     "evalue": "",
     "output_type": "error",
     "traceback": [
      "\u001b[1;31m---------------------------------------------------------------------------\u001b[0m",
      "\u001b[1;31mKeyboardInterrupt\u001b[0m                         Traceback (most recent call last)",
      "\u001b[1;32m<ipython-input-108-c52c538ac844>\u001b[0m in \u001b[0;36m<module>\u001b[1;34m\u001b[0m\n\u001b[0;32m      1\u001b[0m \u001b[1;32mfor\u001b[0m \u001b[0mmachine_id\u001b[0m \u001b[1;32min\u001b[0m \u001b[0mtqdm_notebook\u001b[0m\u001b[1;33m(\u001b[0m\u001b[0msub\u001b[0m\u001b[1;33m.\u001b[0m\u001b[0mMachineIdentifier\u001b[0m\u001b[1;33m)\u001b[0m\u001b[1;33m:\u001b[0m\u001b[1;33m\u001b[0m\u001b[1;33m\u001b[0m\u001b[0m\n\u001b[1;32m----> 2\u001b[1;33m     \u001b[0msubmission\u001b[0m\u001b[1;33m.\u001b[0m\u001b[0mloc\u001b[0m\u001b[1;33m[\u001b[0m\u001b[0msubmission\u001b[0m\u001b[1;33m.\u001b[0m\u001b[0mMachineIdentifier\u001b[0m \u001b[1;33m==\u001b[0m \u001b[0mmachine_id\u001b[0m\u001b[1;33m,\u001b[0m \u001b[1;34m'HasDetections'\u001b[0m\u001b[1;33m]\u001b[0m \u001b[1;33m=\u001b[0m \u001b[0msub\u001b[0m\u001b[1;33m[\u001b[0m\u001b[0msub\u001b[0m\u001b[1;33m.\u001b[0m\u001b[0mMachineIdentifier\u001b[0m \u001b[1;33m==\u001b[0m \u001b[0mmachine_id\u001b[0m\u001b[1;33m]\u001b[0m\u001b[1;33m.\u001b[0m\u001b[0mHasDetections\u001b[0m\u001b[1;33m\u001b[0m\u001b[1;33m\u001b[0m\u001b[0m\n\u001b[0m",
      "\u001b[1;32mc:\\python\\lib\\site-packages\\pandas\\core\\ops.py\u001b[0m in \u001b[0;36mwrapper\u001b[1;34m(self, other, axis)\u001b[0m\n\u001b[0;32m   1194\u001b[0m             \u001b[1;31m# Dispatch to Categorical implementation; pd.CategoricalIndex\u001b[0m\u001b[1;33m\u001b[0m\u001b[1;33m\u001b[0m\u001b[1;33m\u001b[0m\u001b[0m\n\u001b[0;32m   1195\u001b[0m             \u001b[1;31m# behavior is non-canonical GH#19513\u001b[0m\u001b[1;33m\u001b[0m\u001b[1;33m\u001b[0m\u001b[1;33m\u001b[0m\u001b[0m\n\u001b[1;32m-> 1196\u001b[1;33m             \u001b[0mres_values\u001b[0m \u001b[1;33m=\u001b[0m \u001b[0mdispatch_to_index_op\u001b[0m\u001b[1;33m(\u001b[0m\u001b[0mop\u001b[0m\u001b[1;33m,\u001b[0m \u001b[0mself\u001b[0m\u001b[1;33m,\u001b[0m \u001b[0mother\u001b[0m\u001b[1;33m,\u001b[0m \u001b[0mpd\u001b[0m\u001b[1;33m.\u001b[0m\u001b[0mCategorical\u001b[0m\u001b[1;33m)\u001b[0m\u001b[1;33m\u001b[0m\u001b[1;33m\u001b[0m\u001b[0m\n\u001b[0m\u001b[0;32m   1197\u001b[0m             return self._constructor(res_values, index=self.index,\n\u001b[0;32m   1198\u001b[0m                                      name=res_name)\n",
      "\u001b[1;32mc:\\python\\lib\\site-packages\\pandas\\core\\ops.py\u001b[0m in \u001b[0;36mdispatch_to_index_op\u001b[1;34m(op, left, right, index_class)\u001b[0m\n\u001b[0;32m   1091\u001b[0m     \u001b[0mresult\u001b[0m \u001b[1;33m:\u001b[0m \u001b[0mobject\u001b[0m\u001b[1;33m,\u001b[0m \u001b[0musually\u001b[0m \u001b[0mDatetimeIndex\u001b[0m\u001b[1;33m,\u001b[0m \u001b[0mTimedeltaIndex\u001b[0m\u001b[1;33m,\u001b[0m \u001b[1;32mor\u001b[0m \u001b[0mSeries\u001b[0m\u001b[1;33m\u001b[0m\u001b[1;33m\u001b[0m\u001b[0m\n\u001b[0;32m   1092\u001b[0m     \"\"\"\n\u001b[1;32m-> 1093\u001b[1;33m     \u001b[0mleft_idx\u001b[0m \u001b[1;33m=\u001b[0m \u001b[0mindex_class\u001b[0m\u001b[1;33m(\u001b[0m\u001b[0mleft\u001b[0m\u001b[1;33m)\u001b[0m\u001b[1;33m\u001b[0m\u001b[1;33m\u001b[0m\u001b[0m\n\u001b[0m\u001b[0;32m   1094\u001b[0m \u001b[1;33m\u001b[0m\u001b[0m\n\u001b[0;32m   1095\u001b[0m     \u001b[1;31m# avoid accidentally allowing integer add/sub.  For datetime64[tz] dtypes,\u001b[0m\u001b[1;33m\u001b[0m\u001b[1;33m\u001b[0m\u001b[1;33m\u001b[0m\u001b[0m\n",
      "\u001b[1;32mc:\\python\\lib\\site-packages\\pandas\\core\\arrays\\categorical.py\u001b[0m in \u001b[0;36m__init__\u001b[1;34m(self, values, categories, ordered, dtype, fastpath)\u001b[0m\n\u001b[0;32m    365\u001b[0m                          else values.codes)\n\u001b[0;32m    366\u001b[0m             codes = _recode_for_categories(old_codes, values.dtype.categories,\n\u001b[1;32m--> 367\u001b[1;33m                                            dtype.categories)\n\u001b[0m\u001b[0;32m    368\u001b[0m \u001b[1;33m\u001b[0m\u001b[0m\n\u001b[0;32m    369\u001b[0m         \u001b[1;32melse\u001b[0m\u001b[1;33m:\u001b[0m\u001b[1;33m\u001b[0m\u001b[1;33m\u001b[0m\u001b[0m\n",
      "\u001b[1;32mc:\\python\\lib\\site-packages\\pandas\\core\\arrays\\categorical.py\u001b[0m in \u001b[0;36m_recode_for_categories\u001b[1;34m(codes, old_categories, new_categories)\u001b[0m\n\u001b[0;32m   2462\u001b[0m         \u001b[1;32mreturn\u001b[0m \u001b[0mcodes\u001b[0m\u001b[1;33m.\u001b[0m\u001b[0mcopy\u001b[0m\u001b[1;33m(\u001b[0m\u001b[1;33m)\u001b[0m\u001b[1;33m\u001b[0m\u001b[1;33m\u001b[0m\u001b[0m\n\u001b[0;32m   2463\u001b[0m     indexer = coerce_indexer_dtype(new_categories.get_indexer(old_categories),\n\u001b[1;32m-> 2464\u001b[1;33m                                    new_categories)\n\u001b[0m\u001b[0;32m   2465\u001b[0m     \u001b[0mnew_codes\u001b[0m \u001b[1;33m=\u001b[0m \u001b[0mtake_1d\u001b[0m\u001b[1;33m(\u001b[0m\u001b[0mindexer\u001b[0m\u001b[1;33m,\u001b[0m \u001b[0mcodes\u001b[0m\u001b[1;33m.\u001b[0m\u001b[0mcopy\u001b[0m\u001b[1;33m(\u001b[0m\u001b[1;33m)\u001b[0m\u001b[1;33m,\u001b[0m \u001b[0mfill_value\u001b[0m\u001b[1;33m=\u001b[0m\u001b[1;33m-\u001b[0m\u001b[1;36m1\u001b[0m\u001b[1;33m)\u001b[0m\u001b[1;33m\u001b[0m\u001b[1;33m\u001b[0m\u001b[0m\n\u001b[0;32m   2466\u001b[0m     \u001b[1;32mreturn\u001b[0m \u001b[0mnew_codes\u001b[0m\u001b[1;33m\u001b[0m\u001b[1;33m\u001b[0m\u001b[0m\n",
      "\u001b[1;32mc:\\python\\lib\\site-packages\\pandas\\core\\dtypes\\cast.py\u001b[0m in \u001b[0;36mcoerce_indexer_dtype\u001b[1;34m(indexer, categories)\u001b[0m\n\u001b[0;32m    606\u001b[0m         \u001b[1;32mreturn\u001b[0m \u001b[0m_ensure_int16\u001b[0m\u001b[1;33m(\u001b[0m\u001b[0mindexer\u001b[0m\u001b[1;33m)\u001b[0m\u001b[1;33m\u001b[0m\u001b[1;33m\u001b[0m\u001b[0m\n\u001b[0;32m    607\u001b[0m     \u001b[1;32melif\u001b[0m \u001b[0mlength\u001b[0m \u001b[1;33m<\u001b[0m \u001b[0m_int32_max\u001b[0m\u001b[1;33m:\u001b[0m\u001b[1;33m\u001b[0m\u001b[1;33m\u001b[0m\u001b[0m\n\u001b[1;32m--> 608\u001b[1;33m         \u001b[1;32mreturn\u001b[0m \u001b[0m_ensure_int32\u001b[0m\u001b[1;33m(\u001b[0m\u001b[0mindexer\u001b[0m\u001b[1;33m)\u001b[0m\u001b[1;33m\u001b[0m\u001b[1;33m\u001b[0m\u001b[0m\n\u001b[0m\u001b[0;32m    609\u001b[0m     \u001b[1;32mreturn\u001b[0m \u001b[0m_ensure_int64\u001b[0m\u001b[1;33m(\u001b[0m\u001b[0mindexer\u001b[0m\u001b[1;33m)\u001b[0m\u001b[1;33m\u001b[0m\u001b[1;33m\u001b[0m\u001b[0m\n\u001b[0;32m    610\u001b[0m \u001b[1;33m\u001b[0m\u001b[0m\n",
      "\u001b[1;31mKeyboardInterrupt\u001b[0m: "
     ]
    }
   ],
   "source": [
    "# for machine_id in tqdm_notebook(sub.MachineIdentifier):\n",
    "#     submission.loc[submission.MachineIdentifier == machine_id, 'HasDetections'] = sub[sub.MachineIdentifier == machine_id].HasDetections"
   ]
  },
  {
   "cell_type": "code",
   "execution_count": null,
   "metadata": {},
   "outputs": [],
   "source": []
  },
  {
   "cell_type": "code",
   "execution_count": null,
   "metadata": {},
   "outputs": [],
   "source": []
  },
  {
   "cell_type": "code",
   "execution_count": 94,
   "metadata": {
    "ExecuteTime": {
     "end_time": "2019-02-10T00:09:14.894053Z",
     "start_time": "2019-02-10T00:09:08.949629Z"
    }
   },
   "outputs": [],
   "source": [
    "submission = pd.read_csv('./data/sample_submission.csv')\n",
    "# submission['HasDetections'] = lgb_test_result / counter\n",
    "# submission.to_csv('lgb_submission.csv', index=False)"
   ]
  },
  {
   "cell_type": "code",
   "execution_count": 116,
   "metadata": {
    "ExecuteTime": {
     "end_time": "2019-02-10T00:33:28.620521Z",
     "start_time": "2019-02-10T00:33:28.531021Z"
    }
   },
   "outputs": [],
   "source": [
    "submission['HasDetections'] = lgb_test_result / counter"
   ]
  },
  {
   "cell_type": "code",
   "execution_count": 106,
   "metadata": {
    "ExecuteTime": {
     "end_time": "2019-02-10T00:17:41.325602Z",
     "start_time": "2019-02-10T00:17:17.196094Z"
    }
   },
   "outputs": [],
   "source": [
    "submission.to_csv('./data/submission_temp.csv', index=False)"
   ]
  },
  {
   "cell_type": "markdown",
   "metadata": {},
   "source": [
    "# 모델 블렌딩 테스트"
   ]
  },
  {
   "cell_type": "code",
   "execution_count": 108,
   "metadata": {
    "ExecuteTime": {
     "end_time": "2019-02-10T00:26:30.976695Z",
     "start_time": "2019-02-10T00:26:25.537110Z"
    }
   },
   "outputs": [],
   "source": [
    "sub2 = pd.read_csv('./data/nffm_submission.csv')"
   ]
  },
  {
   "cell_type": "code",
   "execution_count": 109,
   "metadata": {
    "ExecuteTime": {
     "end_time": "2019-02-10T00:26:56.309409Z",
     "start_time": "2019-02-10T00:26:50.034868Z"
    }
   },
   "outputs": [],
   "source": [
    "sub3 = pd.read_csv('./data/ms_malware.csv')"
   ]
  },
  {
   "cell_type": "code",
   "execution_count": 117,
   "metadata": {
    "ExecuteTime": {
     "end_time": "2019-02-10T00:33:59.401717Z",
     "start_time": "2019-02-10T00:33:59.202356Z"
    }
   },
   "outputs": [],
   "source": [
    "submission.HasDetections = (2*submission.HasDetections + 2*sub2.HasDetections + sub3.HasDetections) / 5"
   ]
  },
  {
   "cell_type": "code",
   "execution_count": 118,
   "metadata": {
    "ExecuteTime": {
     "end_time": "2019-02-10T00:34:28.317794Z",
     "start_time": "2019-02-10T00:34:03.569832Z"
    }
   },
   "outputs": [],
   "source": [
    "submission.to_csv('./data/submission_temp3.csv', index=False)"
   ]
  }
 ],
 "metadata": {
  "kernelspec": {
   "display_name": "Python 3",
   "language": "python",
   "name": "python3"
  },
  "language_info": {
   "codemirror_mode": {
    "name": "ipython",
    "version": 3
   },
   "file_extension": ".py",
   "mimetype": "text/x-python",
   "name": "python",
   "nbconvert_exporter": "python",
   "pygments_lexer": "ipython3",
   "version": "3.6.7"
  },
  "toc": {
   "base_numbering": 1,
   "nav_menu": {},
   "number_sections": true,
   "sideBar": true,
   "skip_h1_title": false,
   "title_cell": "Table of Contents",
   "title_sidebar": "Contents",
   "toc_cell": false,
   "toc_position": {},
   "toc_section_display": true,
   "toc_window_display": false
  }
 },
 "nbformat": 4,
 "nbformat_minor": 2
}
