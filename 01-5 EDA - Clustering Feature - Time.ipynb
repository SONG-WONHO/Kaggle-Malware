{
 "cells": [
  {
   "cell_type": "markdown",
   "metadata": {},
   "source": [
    "# EDA - Clustering EDA - TIME\n",
    "\n",
    "* 시간 정보 추출\n",
    "* OsBuild, Census_OSVersion을 비교 후 같으면 revision 이용, 다르면 BuildLab에서 revision 이용 후 시계열 정보 추출"
   ]
  },
  {
   "cell_type": "markdown",
   "metadata": {},
   "source": [
    "## 라이브러리"
   ]
  },
  {
   "cell_type": "code",
   "execution_count": 1,
   "metadata": {
    "ExecuteTime": {
     "end_time": "2019-02-27T11:57:50.979790Z",
     "start_time": "2019-02-27T11:57:15.580791Z"
    }
   },
   "outputs": [],
   "source": [
    "import numpy as np\n",
    "import pandas as pd\n",
    "import warnings\n",
    "import gc\n",
    "import seaborn as sns\n",
    "import matplotlib.pyplot as plt\n",
    "warnings.filterwarnings(\"ignore\")\n",
    "sns.set()"
   ]
  },
  {
   "cell_type": "code",
   "execution_count": 2,
   "metadata": {
    "ExecuteTime": {
     "end_time": "2019-02-27T11:57:50.999392Z",
     "start_time": "2019-02-27T11:57:50.987469Z"
    }
   },
   "outputs": [],
   "source": [
    "pd.set_option('max_rows', 500)\n",
    "pd.set_option('max_colwidth', 500)\n",
    "pd.set_option('max_columns', 500)"
   ]
  },
  {
   "cell_type": "markdown",
   "metadata": {},
   "source": [
    "## 데이터 로드"
   ]
  },
  {
   "cell_type": "code",
   "execution_count": 4,
   "metadata": {
    "ExecuteTime": {
     "end_time": "2019-02-27T11:57:54.166717Z",
     "start_time": "2019-02-27T11:57:54.144866Z"
    },
    "hide_input": true
   },
   "outputs": [],
   "source": [
    "dtypes = {\n",
    "        'MachineIdentifier':                                    'object',\n",
    "        'ProductName':                                          'category',\n",
    "        'EngineVersion':                                        'category',\n",
    "        'AppVersion':                                           'category',\n",
    "        'AvSigVersion':                                         'category',\n",
    "        'IsBeta':                                               'int8',\n",
    "        'RtpStateBitfield':                                     'float16',\n",
    "        'IsSxsPassiveMode':                                     'int8',\n",
    "        'DefaultBrowsersIdentifier':                            'float16',\n",
    "        'AVProductStatesIdentifier':                            'float32',\n",
    "        'AVProductsInstalled':                                  'float16',\n",
    "        'AVProductsEnabled':                                    'float16',\n",
    "        'HasTpm':                                               'int8',\n",
    "        'CountryIdentifier':                                    'int16',\n",
    "        'CityIdentifier':                                       'float32',\n",
    "        'OrganizationIdentifier':                               'float16',\n",
    "        'GeoNameIdentifier':                                    'float16',\n",
    "        'LocaleEnglishNameIdentifier':                          'int8',\n",
    "        'Platform':                                             'category',\n",
    "        'Processor':                                            'category',\n",
    "        'OsVer':                                                'category',\n",
    "        'OsBuild':                                              'int16',\n",
    "        'OsSuite':                                              'int16',\n",
    "        'OsPlatformSubRelease':                                 'category',\n",
    "        'OsBuildLab':                                           'category',\n",
    "        'SkuEdition':                                           'category',\n",
    "        'IsProtected':                                          'float16',\n",
    "        'AutoSampleOptIn':                                      'int8',\n",
    "        'PuaMode':                                              'category',\n",
    "        'SMode':                                                'float16',\n",
    "        'IeVerIdentifier':                                      'float16',\n",
    "        'SmartScreen':                                          'category',\n",
    "        'Firewall':                                             'float16',\n",
    "        'UacLuaenable':                                         'float32',\n",
    "        'Census_MDC2FormFactor':                                'category',\n",
    "        'Census_DeviceFamily':                                  'category',\n",
    "        'Census_OEMNameIdentifier':                             'float16',\n",
    "        'Census_OEMModelIdentifier':                            'float32',\n",
    "        'Census_ProcessorCoreCount':                            'float16',\n",
    "        'Census_ProcessorManufacturerIdentifier':               'float16',\n",
    "        'Census_ProcessorModelIdentifier':                      'float16',\n",
    "        'Census_ProcessorClass':                                'category',\n",
    "        'Census_PrimaryDiskTotalCapacity':                      'float32',\n",
    "        'Census_PrimaryDiskTypeName':                           'category',\n",
    "        'Census_SystemVolumeTotalCapacity':                     'float32',\n",
    "        'Census_HasOpticalDiskDrive':                           'int8',\n",
    "        'Census_TotalPhysicalRAM':                              'float32',\n",
    "        'Census_ChassisTypeName':                               'category',\n",
    "        'Census_InternalPrimaryDiagonalDisplaySizeInInches':    'float16',\n",
    "        'Census_InternalPrimaryDisplayResolutionHorizontal':    'float16',\n",
    "        'Census_InternalPrimaryDisplayResolutionVertical':      'float16',\n",
    "        'Census_PowerPlatformRoleName':                         'category',\n",
    "        'Census_InternalBatteryType':                           'category',\n",
    "        'Census_InternalBatteryNumberOfCharges':                'float32',\n",
    "        'Census_OSVersion':                                     'category',\n",
    "        'Census_OSArchitecture':                                'category',\n",
    "        'Census_OSBranch':                                      'category',\n",
    "        'Census_OSBuildNumber':                                 'int16',\n",
    "        'Census_OSBuildRevision':                               'int32',\n",
    "        'Census_OSEdition':                                     'category',\n",
    "        'Census_OSSkuName':                                     'category',\n",
    "        'Census_OSInstallTypeName':                             'category',\n",
    "        'Census_OSInstallLanguageIdentifier':                   'float16',\n",
    "        'Census_OSUILocaleIdentifier':                          'int16',\n",
    "        'Census_OSWUAutoUpdateOptionsName':                     'category',\n",
    "        'Census_IsPortableOperatingSystem':                     'int8',\n",
    "        'Census_GenuineStateName':                              'category',\n",
    "        'Census_ActivationChannel':                             'category',\n",
    "        'Census_IsFlightingInternal':                           'float16',\n",
    "        'Census_IsFlightsDisabled':                             'float16',\n",
    "        'Census_FlightRing':                                    'category',\n",
    "        'Census_ThresholdOptIn':                                'float16',\n",
    "        'Census_FirmwareManufacturerIdentifier':                'float16',\n",
    "        'Census_FirmwareVersionIdentifier':                     'float32',\n",
    "        'Census_IsSecureBootEnabled':                           'int8',\n",
    "        'Census_IsWIMBootEnabled':                              'float16',\n",
    "        'Census_IsVirtualDevice':                               'float16',\n",
    "        'Census_IsTouchEnabled':                                'int8',\n",
    "        'Census_IsPenCapable':                                  'int8',\n",
    "        'Census_IsAlwaysOnAlwaysConnectedCapable':              'float16',\n",
    "        'Wdft_IsGamer':                                         'float16',\n",
    "        'Wdft_RegionIdentifier':                                'float16',\n",
    "        'HasDetections':                                        'int8'\n",
    "        }"
   ]
  },
  {
   "cell_type": "code",
   "execution_count": 5,
   "metadata": {
    "ExecuteTime": {
     "end_time": "2019-02-27T12:06:02.220097Z",
     "start_time": "2019-02-27T11:57:58.366165Z"
    }
   },
   "outputs": [
    {
     "name": "stdout",
     "output_type": "stream",
     "text": [
      "Wall time: 8min 3s\n"
     ]
    }
   ],
   "source": [
    "%%time\n",
    "train = pd.read_csv('./data/train.csv', dtype=dtypes)\n",
    "test = pd.read_csv('./data/test.csv', dtype=dtypes)"
   ]
  },
  {
   "cell_type": "code",
   "execution_count": 6,
   "metadata": {
    "ExecuteTime": {
     "end_time": "2019-02-27T12:06:20.798124Z",
     "start_time": "2019-02-27T12:06:02.223112Z"
    }
   },
   "outputs": [],
   "source": [
    "data = train.append(test)"
   ]
  },
  {
   "cell_type": "markdown",
   "metadata": {},
   "source": [
    "## 시간 관련 피처 분석"
   ]
  },
  {
   "cell_type": "markdown",
   "metadata": {},
   "source": [
    "- EngineVersion\n",
    "- AppVersion\n",
    "- AvSigVersion\n",
    "- Platform\n",
    "- OsVer\n",
    "- OsBuild\n",
    "- OsPlatformSubRelease\n",
    "- OsBuildLab\n",
    "- IeVerIdentifier\n",
    "- Census_OSVersion\n",
    "- Census_OSBranch\n",
    "- Census_OSBuildNumber\n",
    "- Census_OSBuildRevision\n",
    "- Census_FirmwareVersionIdentifier"
   ]
  },
  {
   "cell_type": "code",
   "execution_count": 7,
   "metadata": {
    "ExecuteTime": {
     "end_time": "2019-02-27T12:06:20.812008Z",
     "start_time": "2019-02-27T12:06:20.798124Z"
    }
   },
   "outputs": [],
   "source": [
    "TIME_FEARUES = ['EngineVersion', 'AppVersion', 'AvSigVersion', 'Platform', \n",
    "                'OsVer', 'OsBuild', 'OsPlatformSubRelease', 'OsBuildLab', \n",
    "                'IeVerIdentifier', 'Census_OSVersion', 'Census_OSBranch', \n",
    "                'Census_OSBuildNumber', 'Census_OSBuildRevision', \n",
    "                'Census_FirmwareVersionIdentifier', 'HasDetections']"
   ]
  },
  {
   "cell_type": "code",
   "execution_count": 8,
   "metadata": {
    "ExecuteTime": {
     "end_time": "2019-02-27T12:06:42.129621Z",
     "start_time": "2019-02-27T12:06:20.819736Z"
    }
   },
   "outputs": [],
   "source": [
    "data = data[TIME_FEARUES]"
   ]
  },
  {
   "cell_type": "markdown",
   "metadata": {},
   "source": [
    "### EngineVersion"
   ]
  },
  {
   "cell_type": "markdown",
   "metadata": {},
   "source": [
    "* $*.*.*.*$포맷\n",
    "* 맨앞은 무조건 $1.1.*.*$"
   ]
  },
  {
   "cell_type": "code",
   "execution_count": 61,
   "metadata": {
    "ExecuteTime": {
     "end_time": "2019-02-27T13:17:25.977460Z",
     "start_time": "2019-02-27T13:17:24.549354Z"
    }
   },
   "outputs": [
    {
     "data": {
      "text/plain": [
       "False"
      ]
     },
     "execution_count": 61,
     "metadata": {},
     "output_type": "execute_result"
    }
   ],
   "source": [
    "data.EngineVersion.isna().any()"
   ]
  },
  {
   "cell_type": "code",
   "execution_count": 9,
   "metadata": {
    "ExecuteTime": {
     "end_time": "2019-02-27T12:06:42.155429Z",
     "start_time": "2019-02-27T12:06:42.139732Z"
    }
   },
   "outputs": [],
   "source": [
    "def get_engine_version_3(engine_version):\n",
    "    return engine_version.split('.')[2]"
   ]
  },
  {
   "cell_type": "code",
   "execution_count": 10,
   "metadata": {
    "ExecuteTime": {
     "end_time": "2019-02-27T12:06:42.176985Z",
     "start_time": "2019-02-27T12:06:42.172104Z"
    }
   },
   "outputs": [],
   "source": [
    "def get_engine_version_4(engine_version):\n",
    "    return engine_version.split('.')[3]"
   ]
  },
  {
   "cell_type": "code",
   "execution_count": 11,
   "metadata": {
    "ExecuteTime": {
     "end_time": "2019-02-27T12:07:16.797950Z",
     "start_time": "2019-02-27T12:06:42.182968Z"
    }
   },
   "outputs": [],
   "source": [
    "data['EngineVersion_3'] = data.EngineVersion.map(get_engine_version_3)\n",
    "data['EngineVersion_4'] = data.EngineVersion.map(get_engine_version_4)\n",
    "data.EngineVersion_3 = data.EngineVersion_3.astype(int)\n",
    "data.EngineVersion_4 = data.EngineVersion_4.astype(int)"
   ]
  },
  {
   "cell_type": "code",
   "execution_count": 90,
   "metadata": {
    "ExecuteTime": {
     "end_time": "2019-02-27T13:27:06.210482Z",
     "start_time": "2019-02-27T13:27:02.969386Z"
    }
   },
   "outputs": [
    {
     "data": {
      "text/plain": [
       "194"
      ]
     },
     "execution_count": 90,
     "metadata": {},
     "output_type": "execute_result"
    }
   ],
   "source": [
    "# meta idx\n",
    "temp = data.groupby(['EngineVersion_3', 'EngineVersion_4']).size()\n",
    "idx = []\n",
    "for i in range(len(temp)):\n",
    "    idx.append(str(temp.index.levels[0][temp.index.labels[0][i]]) + '_' + str(temp.index.levels[1][temp.index.labels[1][i]]))\n",
    "\n",
    "del temp\n",
    "gc.collect()"
   ]
  },
  {
   "cell_type": "code",
   "execution_count": 92,
   "metadata": {
    "ExecuteTime": {
     "end_time": "2019-02-27T13:27:16.785708Z",
     "start_time": "2019-02-27T13:27:12.064457Z"
    }
   },
   "outputs": [
    {
     "data": {
      "text/plain": [
       "14"
      ]
     },
     "execution_count": 92,
     "metadata": {},
     "output_type": "execute_result"
    }
   ],
   "source": [
    "# train_dict\n",
    "temp = data[~data.HasDetections.isna()].groupby(['EngineVersion_3', 'EngineVersion_4']).size()\n",
    "train_dict = {}\n",
    "for v in idx:\n",
    "    train_dict[v] = 0\n",
    "    v1, v2 = int(v.split('_')[0]), int(v.split('_')[1])\n",
    "    try:\n",
    "        train_dict[v] = temp[v1, v2]\n",
    "    except:\n",
    "        pass\n",
    "\n",
    "del temp\n",
    "gc.collect()"
   ]
  },
  {
   "cell_type": "code",
   "execution_count": 93,
   "metadata": {
    "ExecuteTime": {
     "end_time": "2019-02-27T13:27:21.022571Z",
     "start_time": "2019-02-27T13:27:16.789920Z"
    }
   },
   "outputs": [
    {
     "data": {
      "text/plain": [
       "14"
      ]
     },
     "execution_count": 93,
     "metadata": {},
     "output_type": "execute_result"
    }
   ],
   "source": [
    "# test_dict\n",
    "temp = data[data.HasDetections.isna()].groupby(['EngineVersion_3', 'EngineVersion_4']).size()\n",
    "test_dict = {}\n",
    "for v in idx:\n",
    "    test_dict[v] = 0\n",
    "    v1, v2 = int(v.split('_')[0]), int(v.split('_')[1])\n",
    "    try:\n",
    "        test_dict[v] = temp[v1, v2]\n",
    "    except:\n",
    "        pass\n",
    "\n",
    "del temp\n",
    "gc.collect()"
   ]
  },
  {
   "cell_type": "code",
   "execution_count": 94,
   "metadata": {
    "ExecuteTime": {
     "end_time": "2019-02-27T13:27:23.865289Z",
     "start_time": "2019-02-27T13:27:21.545371Z"
    }
   },
   "outputs": [
    {
     "data": {
      "image/png": "[encoded data removed]",
      "text/plain": [
       "<Figure size 1152x576 with 1 Axes>"
      ]
     },
     "metadata": {
      "needs_background": "light"
     },
     "output_type": "display_data"
    }
   ],
   "source": [
    "plt.figure(figsize=(16,8))\n",
    "plt.bar(x=list(train_dict.keys()), height=list(train_dict.values()), color='r')\n",
    "plt.bar(x=list(test_dict.keys()), height=list(test_dict.values()), color='g', alpha=0.5)\n",
    "plt.xticks(rotation='vertical')\n",
    "plt.xlabel('Time Series', fontsize=18)\n",
    "plt.show();"
   ]
  },
  {
   "cell_type": "markdown",
   "metadata": {},
   "source": [
    "### AppVersion"
   ]
  },
  {
   "cell_type": "markdown",
   "metadata": {},
   "source": [
    "* $*.*.*.*$포맷\n",
    "* 맨앞은 무조건 $4.*.*.*$"
   ]
  },
  {
   "cell_type": "code",
   "execution_count": 60,
   "metadata": {
    "ExecuteTime": {
     "end_time": "2019-02-27T13:17:14.902958Z",
     "start_time": "2019-02-27T13:17:13.518261Z"
    }
   },
   "outputs": [
    {
     "data": {
      "text/plain": [
       "False"
      ]
     },
     "execution_count": 60,
     "metadata": {},
     "output_type": "execute_result"
    }
   ],
   "source": [
    "data.AppVersion.isna().any()"
   ]
  },
  {
   "cell_type": "code",
   "execution_count": 62,
   "metadata": {
    "ExecuteTime": {
     "end_time": "2019-02-27T13:17:34.131004Z",
     "start_time": "2019-02-27T13:17:34.126044Z"
    }
   },
   "outputs": [],
   "source": [
    "def get_app_version_2(app_version):\n",
    "    return app_version.split('.')[1]"
   ]
  },
  {
   "cell_type": "code",
   "execution_count": 63,
   "metadata": {
    "ExecuteTime": {
     "end_time": "2019-02-27T13:17:34.425671Z",
     "start_time": "2019-02-27T13:17:34.417634Z"
    }
   },
   "outputs": [],
   "source": [
    "def get_app_version_3(app_version):\n",
    "    return app_version.split('.')[2]"
   ]
  },
  {
   "cell_type": "code",
   "execution_count": 64,
   "metadata": {
    "ExecuteTime": {
     "end_time": "2019-02-27T13:17:34.648530Z",
     "start_time": "2019-02-27T13:17:34.640890Z"
    }
   },
   "outputs": [],
   "source": [
    "def get_app_version_4(app_version):\n",
    "    return app_version.split('.')[3]"
   ]
  },
  {
   "cell_type": "code",
   "execution_count": 65,
   "metadata": {
    "ExecuteTime": {
     "end_time": "2019-02-27T13:19:45.386145Z",
     "start_time": "2019-02-27T13:18:49.403142Z"
    }
   },
   "outputs": [],
   "source": [
    "data['AppVersion_2'] = data.AppVersion.map(get_app_version_2)\n",
    "data['AppVersion_3'] = data.AppVersion.map(get_app_version_3)\n",
    "data['AppVersion_4'] = data.AppVersion.map(get_app_version_4)\n",
    "data.AppVersion_2 = data.AppVersion_2.astype(int)\n",
    "data.AppVersion_3 = data.AppVersion_3.astype(int)\n",
    "data.AppVersion_4 = data.AppVersion_4.astype(int)"
   ]
  },
  {
   "cell_type": "code",
   "execution_count": 101,
   "metadata": {
    "ExecuteTime": {
     "end_time": "2019-02-27T13:29:37.475529Z",
     "start_time": "2019-02-27T13:29:33.308048Z"
    }
   },
   "outputs": [
    {
     "data": {
      "text/plain": [
       "0"
      ]
     },
     "execution_count": 101,
     "metadata": {},
     "output_type": "execute_result"
    }
   ],
   "source": [
    "# meta idx\n",
    "temp = data.groupby(['AppVersion_2', 'AppVersion_3', 'AppVersion_4']).size()\n",
    "idx = []\n",
    "for i in range(len(temp)):\n",
    "    idx.append(str(temp.index.levels[0][temp.index.labels[0][i]]) + '_' + str(temp.index.levels[1][temp.index.labels[1][i]]) + '_' + str(temp.index.levels[2][temp.index.labels[2][i]]))\n",
    "\n",
    "del temp\n",
    "gc.collect()"
   ]
  },
  {
   "cell_type": "code",
   "execution_count": 103,
   "metadata": {
    "ExecuteTime": {
     "end_time": "2019-02-27T13:30:50.699103Z",
     "start_time": "2019-02-27T13:30:45.610724Z"
    }
   },
   "outputs": [
    {
     "data": {
      "text/plain": [
       "29"
      ]
     },
     "execution_count": 103,
     "metadata": {},
     "output_type": "execute_result"
    }
   ],
   "source": [
    "# train_dict\n",
    "temp = data[~data.HasDetections.isna()].groupby(['AppVersion_2', 'AppVersion_3', 'AppVersion_4']).size()\n",
    "train_dict = {}\n",
    "for v in idx:\n",
    "    train_dict[v] = 0\n",
    "    v1, v2, v3 = int(v.split('_')[0]), int(v.split('_')[1]), int(v.split('_')[2])\n",
    "    try:\n",
    "        train_dict[v] = temp[v1, v2, v3]\n",
    "    except:\n",
    "        pass\n",
    "\n",
    "del temp\n",
    "gc.collect()"
   ]
  },
  {
   "cell_type": "code",
   "execution_count": 105,
   "metadata": {
    "ExecuteTime": {
     "end_time": "2019-02-27T13:31:35.867466Z",
     "start_time": "2019-02-27T13:31:31.324901Z"
    }
   },
   "outputs": [
    {
     "data": {
      "text/plain": [
       "855"
      ]
     },
     "execution_count": 105,
     "metadata": {},
     "output_type": "execute_result"
    }
   ],
   "source": [
    "# test_dict\n",
    "temp = data[data.HasDetections.isna()].groupby(['AppVersion_2', 'AppVersion_3', 'AppVersion_4']).size()\n",
    "test_dict = {}\n",
    "for v in idx:\n",
    "    test_dict[v] = 0\n",
    "    v1, v2, v3 = int(v.split('_')[0]), int(v.split('_')[1]), int(v.split('_')[2])\n",
    "    try:\n",
    "        test_dict[v] = temp[v1, v2, v3]\n",
    "    except:\n",
    "        pass\n",
    "\n",
    "del temp\n",
    "gc.collect()"
   ]
  },
  {
   "cell_type": "code",
   "execution_count": 115,
   "metadata": {
    "ExecuteTime": {
     "end_time": "2019-02-27T13:33:30.610770Z",
     "start_time": "2019-02-27T13:33:25.994800Z"
    },
    "scrolled": false
   },
   "outputs": [
    {
     "data": {
      "image/png": "[encoded data removed]",
      "text/plain": [
       "<Figure size 1152x576 with 1 Axes>"
      ]
     },
     "metadata": {
      "needs_background": "light"
     },
     "output_type": "display_data"
    }
   ],
   "source": [
    "plt.figure(figsize=(16,8))\n",
    "plt.bar(x=list(train_dict.keys()), height=list(train_dict.values()), color='r')\n",
    "plt.bar(x=list(test_dict.keys()), height=list(test_dict.values()), color='g', alpha=0.5)\n",
    "plt.xticks(rotation='vertical', fontsize=9)\n",
    "plt.xlabel('Time Series', fontsize=18)\n",
    "plt.show();"
   ]
  },
  {
   "cell_type": "markdown",
   "metadata": {},
   "source": [
    "### AvSigVersion\n",
    "* 너무 많아서 일단 보류"
   ]
  },
  {
   "cell_type": "code",
   "execution_count": 165,
   "metadata": {
    "ExecuteTime": {
     "end_time": "2019-02-27T13:53:35.311070Z",
     "start_time": "2019-02-27T13:53:07.753587Z"
    }
   },
   "outputs": [
    {
     "data": {
      "text/html": [
       "<div>\n",
       "<style scoped>\n",
       "    .dataframe tbody tr th:only-of-type {\n",
       "        vertical-align: middle;\n",
       "    }\n",
       "\n",
       "    .dataframe tbody tr th {\n",
       "        vertical-align: top;\n",
       "    }\n",
       "\n",
       "    .dataframe thead th {\n",
       "        text-align: right;\n",
       "    }\n",
       "</style>\n",
       "<table border=\"1\" class=\"dataframe\">\n",
       "  <thead>\n",
       "    <tr style=\"text-align: right;\">\n",
       "      <th></th>\n",
       "      <th>EngineVersion</th>\n",
       "      <th>AppVersion</th>\n",
       "      <th>AvSigVersion</th>\n",
       "      <th>Platform</th>\n",
       "      <th>OsVer</th>\n",
       "      <th>OsBuild</th>\n",
       "      <th>OsPlatformSubRelease</th>\n",
       "      <th>OsBuildLab</th>\n",
       "      <th>IeVerIdentifier</th>\n",
       "      <th>Census_OSVersion</th>\n",
       "      <th>Census_OSBranch</th>\n",
       "      <th>Census_OSBuildNumber</th>\n",
       "      <th>Census_OSBuildRevision</th>\n",
       "      <th>Census_FirmwareVersionIdentifier</th>\n",
       "      <th>HasDetections</th>\n",
       "      <th>EngineVersion_3</th>\n",
       "      <th>EngineVersion_4</th>\n",
       "      <th>AppVersion_2</th>\n",
       "      <th>AppVersion_3</th>\n",
       "      <th>AppVersion_4</th>\n",
       "      <th>AvSigVersion_1</th>\n",
       "      <th>AvSigVersion_2</th>\n",
       "      <th>AvSigVersion_3</th>\n",
       "    </tr>\n",
       "  </thead>\n",
       "  <tbody>\n",
       "    <tr>\n",
       "      <th>5244810</th>\n",
       "      <td>1.1.15100.1</td>\n",
       "      <td>4.18.1807.18075</td>\n",
       "      <td>1.2&amp;#x17;3.1144.0</td>\n",
       "      <td>windows10</td>\n",
       "      <td>10.0.0.0</td>\n",
       "      <td>15063</td>\n",
       "      <td>rs2</td>\n",
       "      <td>15063.0.amd64fre.rs2_release.170317-1834</td>\n",
       "      <td>108.0</td>\n",
       "      <td>10.0.15063.1206</td>\n",
       "      <td>rs2_release</td>\n",
       "      <td>15063</td>\n",
       "      <td>1206</td>\n",
       "      <td>28079.0</td>\n",
       "      <td>1.0</td>\n",
       "      <td>15100</td>\n",
       "      <td>1</td>\n",
       "      <td>18</td>\n",
       "      <td>1807</td>\n",
       "      <td>18075</td>\n",
       "      <td>1</td>\n",
       "      <td>2&amp;#x17;3</td>\n",
       "      <td>1144</td>\n",
       "    </tr>\n",
       "  </tbody>\n",
       "</table>\n",
       "</div>"
      ],
      "text/plain": [
       "        EngineVersion       AppVersion       AvSigVersion   Platform  \\\n",
       "5244810   1.1.15100.1  4.18.1807.18075  1.2&#x17;3.1144.0  windows10   \n",
       "\n",
       "            OsVer  OsBuild OsPlatformSubRelease  \\\n",
       "5244810  10.0.0.0    15063                  rs2   \n",
       "\n",
       "                                       OsBuildLab  IeVerIdentifier  \\\n",
       "5244810  15063.0.amd64fre.rs2_release.170317-1834            108.0   \n",
       "\n",
       "        Census_OSVersion Census_OSBranch  Census_OSBuildNumber  \\\n",
       "5244810  10.0.15063.1206     rs2_release                 15063   \n",
       "\n",
       "         Census_OSBuildRevision  Census_FirmwareVersionIdentifier  \\\n",
       "5244810                    1206                           28079.0   \n",
       "\n",
       "         HasDetections  EngineVersion_3  EngineVersion_4  AppVersion_2  \\\n",
       "5244810            1.0            15100                1            18   \n",
       "\n",
       "         AppVersion_3  AppVersion_4  AvSigVersion_1 AvSigVersion_2  \\\n",
       "5244810          1807         18075               1       2&#x17;3   \n",
       "\n",
       "        AvSigVersion_3  \n",
       "5244810           1144  "
      ]
     },
     "execution_count": 165,
     "metadata": {},
     "output_type": "execute_result"
    }
   ],
   "source": [
    "data[~data.AvSigVersion.str.contains('[0-9]*\\.[0-9]*\\.[0-9]*\\.[0-9]*', regex=True)]"
   ]
  },
  {
   "cell_type": "code",
   "execution_count": 119,
   "metadata": {
    "ExecuteTime": {
     "end_time": "2019-02-27T13:37:57.705462Z",
     "start_time": "2019-02-27T13:37:57.695340Z"
    }
   },
   "outputs": [],
   "source": [
    "def get_avsig_version_1(avsig_version):\n",
    "    return avsig_version.split('.')[0]"
   ]
  },
  {
   "cell_type": "code",
   "execution_count": 120,
   "metadata": {
    "ExecuteTime": {
     "end_time": "2019-02-27T13:37:59.245548Z",
     "start_time": "2019-02-27T13:37:59.237481Z"
    }
   },
   "outputs": [],
   "source": [
    "def get_avsig_version_2(avsig_version):\n",
    "    return avsig_version.split('.')[1]"
   ]
  },
  {
   "cell_type": "code",
   "execution_count": 121,
   "metadata": {
    "ExecuteTime": {
     "end_time": "2019-02-27T13:38:03.002169Z",
     "start_time": "2019-02-27T13:38:02.994840Z"
    }
   },
   "outputs": [],
   "source": [
    "def get_avsig_version_3(avsig_version):\n",
    "    return avsig_version.split('.')[2]"
   ]
  },
  {
   "cell_type": "code",
   "execution_count": 177,
   "metadata": {
    "ExecuteTime": {
     "end_time": "2019-02-27T13:58:44.481725Z",
     "start_time": "2019-02-27T13:58:44.473729Z"
    }
   },
   "outputs": [],
   "source": [
    "# data['AvSigVersion_1'] = data.AvSigVersion.map(get_avsig_version_1)\n",
    "# data['AvSigVersion_2'] = data.AvSigVersion.map(get_avsig_version_2)\n",
    "# data['AvSigVersion_3'] = data.AvSigVersion.map(get_avsig_version_3)\n",
    "# data.AvSigVersion_1 = data.AvSigVersion_1.astype(int)\n",
    "# data.AvSigVersion_2 = data.AvSigVersion_2.astype(int)\n",
    "# data.AvSigVersion_3 = data.AvSigVersion_3.astype(int)"
   ]
  },
  {
   "cell_type": "code",
   "execution_count": 178,
   "metadata": {
    "ExecuteTime": {
     "end_time": "2019-02-27T13:58:48.818624Z",
     "start_time": "2019-02-27T13:58:48.812112Z"
    }
   },
   "outputs": [],
   "source": [
    "# # meta idx\n",
    "# temp = data.groupby(['AvSigVersion_1', 'AvSigVersion_2', 'AvSigVersion_3']).size()\n",
    "# idx = []\n",
    "# for i in range(len(temp)):\n",
    "#     idx.append(str(temp.index.levels[0][temp.index.labels[0][i]]) + '_' + str(temp.index.levels[1][temp.index.labels[1][i]]) + '_' + str(temp.index.levels[2][temp.index.labels[2][i]]))\n",
    "\n",
    "# del temp\n",
    "# gc.collect()"
   ]
  },
  {
   "cell_type": "code",
   "execution_count": 179,
   "metadata": {
    "ExecuteTime": {
     "end_time": "2019-02-27T13:58:51.774473Z",
     "start_time": "2019-02-27T13:58:51.765590Z"
    }
   },
   "outputs": [],
   "source": [
    "# # train_dict\n",
    "# temp = data[~data.HasDetections.isna()].groupby(['AvSigVersion_1', 'AvSigVersion_2', 'AvSigVersion_3']).size()\n",
    "# train_dict = {}\n",
    "# for v in idx:\n",
    "#     train_dict[v] = 0\n",
    "#     v1, v2, v3 = int(v.split('_')[0]), int(v.split('_')[1]), int(v.split('_')[2])\n",
    "#     try:\n",
    "#         train_dict[v] = temp[v1, v2, v3]\n",
    "#     except:\n",
    "#         pass\n",
    "\n",
    "# del temp\n",
    "# gc.collect()"
   ]
  },
  {
   "cell_type": "code",
   "execution_count": 180,
   "metadata": {
    "ExecuteTime": {
     "end_time": "2019-02-27T13:58:54.658654Z",
     "start_time": "2019-02-27T13:58:54.653400Z"
    }
   },
   "outputs": [],
   "source": [
    "# # test_dict\n",
    "# temp = data[data.HasDetections.isna()].groupby(['AppVersion_2', 'AppVersion_3', 'AppVersion_4']).size()\n",
    "# test_dict = {}\n",
    "# for v in idx:\n",
    "#     test_dict[v] = 0\n",
    "#     v1, v2, v3 = int(v.split('_')[0]), int(v.split('_')[1]), int(v.split('_')[2])\n",
    "#     try:\n",
    "#         test_dict[v] = temp[v1, v2, v3]\n",
    "#     except:\n",
    "#         pass\n",
    "\n",
    "# del temp\n",
    "# gc.collect()"
   ]
  },
  {
   "cell_type": "code",
   "execution_count": 181,
   "metadata": {
    "ExecuteTime": {
     "end_time": "2019-02-27T13:58:56.881469Z",
     "start_time": "2019-02-27T13:58:56.873808Z"
    }
   },
   "outputs": [],
   "source": [
    "# plt.figure(figsize=(16,8))\n",
    "# plt.bar(x=list(train_dict.keys()), height=list(train_dict.values()), color='r')\n",
    "# plt.bar(x=list(test_dict.keys()), height=list(test_dict.values()), color='g', alpha=0.5)\n",
    "# plt.xticks(rotation='vertical', fontsize=9)\n",
    "# plt.xlabel('Time Series', fontsize=18)\n",
    "# plt.show();"
   ]
  },
  {
   "cell_type": "markdown",
   "metadata": {},
   "source": [
    "### Platform\n",
    "* windows 10, 8, 7, 2016 이렇게 4개의 버전\n",
    "* train, test 비슷"
   ]
  },
  {
   "cell_type": "code",
   "execution_count": 189,
   "metadata": {
    "ExecuteTime": {
     "end_time": "2019-02-27T14:02:19.813735Z",
     "start_time": "2019-02-27T14:02:19.615049Z"
    }
   },
   "outputs": [
    {
     "data": {
      "text/plain": [
       "windows10      0.966063\n",
       "windows8       0.021802\n",
       "windows7       0.010524\n",
       "windows2016    0.001611\n",
       "Name: Platform, dtype: float64"
      ]
     },
     "execution_count": 189,
     "metadata": {},
     "output_type": "execute_result"
    }
   ],
   "source": [
    "train.Platform.value_counts(dropna=False) / train.__len__()"
   ]
  },
  {
   "cell_type": "code",
   "execution_count": 190,
   "metadata": {
    "ExecuteTime": {
     "end_time": "2019-02-27T14:02:25.012909Z",
     "start_time": "2019-02-27T14:02:24.881302Z"
    }
   },
   "outputs": [
    {
     "data": {
      "text/plain": [
       "windows10      0.977363\n",
       "windows8       0.014204\n",
       "windows7       0.007034\n",
       "windows2016    0.001399\n",
       "Name: Platform, dtype: float64"
      ]
     },
     "execution_count": 190,
     "metadata": {},
     "output_type": "execute_result"
    }
   ],
   "source": [
    "test.Platform.value_counts(dropna=False) / test.__len__()"
   ]
  },
  {
   "cell_type": "markdown",
   "metadata": {},
   "source": [
    "### OsVer\n",
    "* train, test 비슷"
   ]
  },
  {
   "cell_type": "code",
   "execution_count": 193,
   "metadata": {
    "ExecuteTime": {
     "end_time": "2019-02-27T14:04:41.938766Z",
     "start_time": "2019-02-27T14:04:40.523951Z"
    }
   },
   "outputs": [
    {
     "data": {
      "text/plain": [
       "False"
      ]
     },
     "execution_count": 193,
     "metadata": {},
     "output_type": "execute_result"
    }
   ],
   "source": [
    "data.OsVer.isna().any()"
   ]
  },
  {
   "cell_type": "code",
   "execution_count": 202,
   "metadata": {
    "ExecuteTime": {
     "end_time": "2019-02-27T14:07:31.233412Z",
     "start_time": "2019-02-27T14:07:31.064496Z"
    }
   },
   "outputs": [
    {
     "data": {
      "text/plain": [
       "10.0.0.0    0.967613\n",
       "6.3.0.0     0.021795\n",
       "6.1.1.0     0.010454\n",
       "6.1.0.0     0.000065\n",
       "10.0.3.0    0.000025\n",
       "10.0.1.0    0.000016\n",
       "Name: OsVer, dtype: float64"
      ]
     },
     "execution_count": 202,
     "metadata": {},
     "output_type": "execute_result"
    }
   ],
   "source": [
    "train.OsVer.value_counts(dropna=False).sort_values(ascending=False)[:6] / train.__len__()"
   ]
  },
  {
   "cell_type": "code",
   "execution_count": 201,
   "metadata": {
    "ExecuteTime": {
     "end_time": "2019-02-27T14:07:28.314443Z",
     "start_time": "2019-02-27T14:07:28.171716Z"
    }
   },
   "outputs": [
    {
     "data": {
      "text/plain": [
       "10.0.0.0    0.978713\n",
       "6.3.0.0     0.014200\n",
       "6.1.1.0     0.006959\n",
       "6.1.0.0     0.000073\n",
       "10.0.3.0    0.000021\n",
       "10.0.1.0    0.000014\n",
       "Name: OsVer, dtype: float64"
      ]
     },
     "execution_count": 201,
     "metadata": {},
     "output_type": "execute_result"
    }
   ],
   "source": [
    "test.OsVer.value_counts(dropna=False).sort_values(ascending=False)[:6] / test.__len__()"
   ]
  },
  {
   "cell_type": "markdown",
   "metadata": {},
   "source": [
    "### OsBuild"
   ]
  },
  {
   "cell_type": "code",
   "execution_count": 203,
   "metadata": {
    "ExecuteTime": {
     "end_time": "2019-02-27T14:08:33.044993Z",
     "start_time": "2019-02-27T14:08:32.762249Z"
    }
   },
   "outputs": [
    {
     "data": {
      "text/plain": [
       "False"
      ]
     },
     "execution_count": 203,
     "metadata": {},
     "output_type": "execute_result"
    }
   ],
   "source": [
    "data.OsBuild.isna().any()"
   ]
  },
  {
   "cell_type": "code",
   "execution_count": 217,
   "metadata": {
    "ExecuteTime": {
     "end_time": "2019-02-27T14:25:25.385539Z",
     "start_time": "2019-02-27T14:25:24.932409Z"
    }
   },
   "outputs": [],
   "source": [
    "idx = data.OsBuild.value_counts(dropna=False).sort_index().index"
   ]
  },
  {
   "cell_type": "code",
   "execution_count": 224,
   "metadata": {
    "ExecuteTime": {
     "end_time": "2019-02-27T14:28:46.215660Z",
     "start_time": "2019-02-27T14:28:41.824806Z"
    }
   },
   "outputs": [
    {
     "data": {
      "text/plain": [
       "199725"
      ]
     },
     "execution_count": 224,
     "metadata": {},
     "output_type": "execute_result"
    }
   ],
   "source": [
    "# # train_dict\n",
    "temp = data[~data.HasDetections.isna()].OsBuild.value_counts(dropna=False).to_dict()\n",
    "\n",
    "train_dict = {}\n",
    "\n",
    "for v in idx:\n",
    "    try:\n",
    "        train_dict[v] = temp[v]\n",
    "    except:\n",
    "        train_dict[v] = 0\n",
    "\n",
    "del temp\n",
    "gc.collect()"
   ]
  },
  {
   "cell_type": "code",
   "execution_count": 226,
   "metadata": {
    "ExecuteTime": {
     "end_time": "2019-02-27T14:29:31.919822Z",
     "start_time": "2019-02-27T14:29:27.662352Z"
    }
   },
   "outputs": [
    {
     "data": {
      "text/plain": [
       "0"
      ]
     },
     "execution_count": 226,
     "metadata": {},
     "output_type": "execute_result"
    }
   ],
   "source": [
    "# # test_dict\n",
    "temp = data[data.HasDetections.isna()].OsBuild.value_counts(dropna=False).to_dict()\n",
    "\n",
    "test_dict = {}\n",
    "\n",
    "for v in idx:\n",
    "    try:\n",
    "        test_dict[v] = temp[v]\n",
    "    except:\n",
    "        test_dict[v] = 0\n",
    "\n",
    "del temp\n",
    "gc.collect()"
   ]
  },
  {
   "cell_type": "code",
   "execution_count": 234,
   "metadata": {
    "ExecuteTime": {
     "end_time": "2019-02-27T14:32:10.956182Z",
     "start_time": "2019-02-27T14:32:07.816741Z"
    }
   },
   "outputs": [
    {
     "data": {
      "image/png": "[encoded data removed]",
      "text/plain": [
       "<Figure size 1152x576 with 1 Axes>"
      ]
     },
     "metadata": {
      "needs_background": "light"
     },
     "output_type": "display_data"
    }
   ],
   "source": [
    "plt.figure(figsize=(16,8))\n",
    "plt.bar(x=[str(v) for v in list(train_dict.keys())], height=list(train_dict.values()), color='r')\n",
    "plt.bar(x=[str(v) for v in list(test_dict.keys())], height=list(test_dict.values()), color='g', alpha=0.5)\n",
    "plt.xticks(rotation='vertical', fontsize=9)\n",
    "plt.xlabel('Time Series', fontsize=18)\n",
    "plt.show();"
   ]
  },
  {
   "cell_type": "markdown",
   "metadata": {},
   "source": [
    "### OsPlatformSubRelease"
   ]
  },
  {
   "cell_type": "code",
   "execution_count": 237,
   "metadata": {
    "ExecuteTime": {
     "end_time": "2019-02-27T14:37:07.987201Z",
     "start_time": "2019-02-27T14:37:07.667872Z"
    }
   },
   "outputs": [
    {
     "data": {
      "text/plain": [
       "False"
      ]
     },
     "execution_count": 237,
     "metadata": {},
     "output_type": "execute_result"
    }
   ],
   "source": [
    "data.OsPlatformSubRelease.isna().any()"
   ]
  },
  {
   "cell_type": "code",
   "execution_count": 239,
   "metadata": {
    "ExecuteTime": {
     "end_time": "2019-02-27T14:37:32.817563Z",
     "start_time": "2019-02-27T14:37:32.621009Z"
    }
   },
   "outputs": [
    {
     "data": {
      "text/plain": [
       "rs4    0.438887\n",
       "rs3    0.280635\n",
       "rs2    0.087460\n",
       "rs1    0.081917\n",
       "th2    0.046136\n",
       "th1    0.030286\n",
       "Name: OsPlatformSubRelease, dtype: float64"
      ]
     },
     "execution_count": 239,
     "metadata": {},
     "output_type": "execute_result"
    }
   ],
   "source": [
    "train.OsPlatformSubRelease.value_counts(dropna=False).sort_values(ascending=False)[:6] / train.__len__()"
   ]
  },
  {
   "cell_type": "code",
   "execution_count": 240,
   "metadata": {
    "ExecuteTime": {
     "end_time": "2019-02-27T14:37:46.120847Z",
     "start_time": "2019-02-27T14:37:45.952436Z"
    }
   },
   "outputs": [
    {
     "data": {
      "text/plain": [
       "rs4       0.495742\n",
       "rs3       0.215272\n",
       "rs2       0.078450\n",
       "rs1       0.073291\n",
       "th2       0.046777\n",
       "prers5    0.037607\n",
       "Name: OsPlatformSubRelease, dtype: float64"
      ]
     },
     "execution_count": 240,
     "metadata": {},
     "output_type": "execute_result"
    }
   ],
   "source": [
    "test.OsPlatformSubRelease.value_counts(dropna=False).sort_values(ascending=False)[:6] / test.__len__()"
   ]
  },
  {
   "cell_type": "markdown",
   "metadata": {},
   "source": [
    "### OsBuildLab\n",
    "- $'[0-9]*\\.[0-9]*\\..*\\..*\\.[0-9]*-[0-9]*'$"
   ]
  },
  {
   "cell_type": "code",
   "execution_count": 241,
   "metadata": {
    "ExecuteTime": {
     "end_time": "2019-02-27T14:39:15.494124Z",
     "start_time": "2019-02-27T14:39:14.033154Z"
    }
   },
   "outputs": [
    {
     "data": {
      "text/plain": [
       "True"
      ]
     },
     "execution_count": 241,
     "metadata": {},
     "output_type": "execute_result"
    }
   ],
   "source": [
    "data.OsBuildLab.isna().any()"
   ]
  },
  {
   "cell_type": "code",
   "execution_count": 247,
   "metadata": {
    "ExecuteTime": {
     "end_time": "2019-02-27T14:40:35.200925Z",
     "start_time": "2019-02-27T14:40:34.875437Z"
    }
   },
   "outputs": [
    {
     "name": "stdout",
     "output_type": "stream",
     "text": [
      "train null:  21\n",
      "test null:  17\n"
     ]
    }
   ],
   "source": [
    "print(\"train null: \", np.sum(train.OsBuildLab.isna() * 1))\n",
    "print(\"test null: \", np.sum(test.OsBuildLab.isna() * 1))"
   ]
  },
  {
   "cell_type": "code",
   "execution_count": 267,
   "metadata": {
    "ExecuteTime": {
     "end_time": "2019-02-27T14:54:57.586557Z",
     "start_time": "2019-02-27T14:54:57.577583Z"
    }
   },
   "outputs": [
    {
     "data": {
      "text/plain": [
       "0    17134.1.amd64fre.rs4_release.180410-1804\n",
       "Name: OsBuildLab, dtype: object"
      ]
     },
     "execution_count": 267,
     "metadata": {},
     "output_type": "execute_result"
    }
   ],
   "source": [
    "data[:1].OsBuildLab"
   ]
  },
  {
   "cell_type": "code",
   "execution_count": 294,
   "metadata": {
    "ExecuteTime": {
     "end_time": "2019-02-27T15:00:34.714136Z",
     "start_time": "2019-02-27T15:00:19.549689Z"
    },
    "scrolled": true
   },
   "outputs": [
    {
     "data": {
      "text/plain": [
       "70087                                          NULL\n",
       "587482                                         NULL\n",
       "988555                                         NULL\n",
       "1485217                                        NULL\n",
       "2487095                                        NULL\n",
       "3064835                                        NULL\n",
       "3526730                                        NULL\n",
       "5100502                                        NULL\n",
       "5523941                                        NULL\n",
       "5768068                                        NULL\n",
       "5837811                                        NULL\n",
       "6453766                                        NULL\n",
       "6512377                                        NULL\n",
       "6542168                                        NULL\n",
       "6598274                                        NULL\n",
       "6653205                                        NULL\n",
       "7087221                                        NULL\n",
       "7471801                                        NULL\n",
       "7975258                                        NULL\n",
       "8214882                                        NULL\n",
       "8765189                                        NULL\n",
       "319691                                         NULL\n",
       "445694                                         NULL\n",
       "891746                                         NULL\n",
       "1824420                                        NULL\n",
       "2047612                                        NULL\n",
       "2234093                                        NULL\n",
       "2284155                                        NULL\n",
       "2369097                                        NULL\n",
       "2517969                                        NULL\n",
       "3308841                                        NULL\n",
       "5595832                                        NULL\n",
       "6288266                                        NULL\n",
       "6365768                                        NULL\n",
       "6446860                                        NULL\n",
       "6478556                                        NULL\n",
       "6529507    17134.1*amd64fre.rs4_release.180410-1804\n",
       "6924397                                        NULL\n",
       "6927028                                        NULL\n",
       "Name: OsBuildLab, dtype: object"
      ]
     },
     "execution_count": 294,
     "metadata": {},
     "output_type": "execute_result"
    }
   ],
   "source": [
    "data.OsBuildLab.fillna('NULL')[~data.OsBuildLab.fillna('NULL').str.contains('[0-9]*\\.[0-9]*\\..*\\..*\\.[0-9]*-[0-9]*', regex=True)]"
   ]
  },
  {
   "cell_type": "code",
   "execution_count": 306,
   "metadata": {
    "ExecuteTime": {
     "end_time": "2019-02-27T15:05:40.369833Z",
     "start_time": "2019-02-27T15:05:40.332916Z"
    },
    "scrolled": true
   },
   "outputs": [
    {
     "data": {
      "text/html": [
       "<div>\n",
       "<style scoped>\n",
       "    .dataframe tbody tr th:only-of-type {\n",
       "        vertical-align: middle;\n",
       "    }\n",
       "\n",
       "    .dataframe tbody tr th {\n",
       "        vertical-align: top;\n",
       "    }\n",
       "\n",
       "    .dataframe thead th {\n",
       "        text-align: right;\n",
       "    }\n",
       "</style>\n",
       "<table border=\"1\" class=\"dataframe\">\n",
       "  <thead>\n",
       "    <tr style=\"text-align: right;\">\n",
       "      <th></th>\n",
       "      <th>EngineVersion</th>\n",
       "      <th>AppVersion</th>\n",
       "      <th>AvSigVersion</th>\n",
       "      <th>Platform</th>\n",
       "      <th>OsVer</th>\n",
       "      <th>OsBuild</th>\n",
       "      <th>OsPlatformSubRelease</th>\n",
       "      <th>OsBuildLab</th>\n",
       "      <th>IeVerIdentifier</th>\n",
       "      <th>Census_OSVersion</th>\n",
       "      <th>Census_OSBranch</th>\n",
       "      <th>Census_OSBuildNumber</th>\n",
       "      <th>Census_OSBuildRevision</th>\n",
       "      <th>Census_FirmwareVersionIdentifier</th>\n",
       "      <th>HasDetections</th>\n",
       "      <th>EngineVersion_3</th>\n",
       "      <th>EngineVersion_4</th>\n",
       "      <th>AppVersion_2</th>\n",
       "      <th>AppVersion_3</th>\n",
       "      <th>AppVersion_4</th>\n",
       "      <th>AvSigVersion_1</th>\n",
       "      <th>AvSigVersion_2</th>\n",
       "      <th>AvSigVersion_3</th>\n",
       "    </tr>\n",
       "  </thead>\n",
       "  <tbody>\n",
       "    <tr>\n",
       "      <th>6529507</th>\n",
       "      <td>1.1.15100.1</td>\n",
       "      <td>4.18.1807.18075</td>\n",
       "      <td>1.273.127.0</td>\n",
       "      <td>windows10</td>\n",
       "      <td>10.0.0.0</td>\n",
       "      <td>16299</td>\n",
       "      <td>rs3</td>\n",
       "      <td>16299.431.amd64fre.rs3_release_svc_escrow.180502-1908</td>\n",
       "      <td>117.0</td>\n",
       "      <td>10.0.16299.492</td>\n",
       "      <td>rs3_release_svc_escrow</td>\n",
       "      <td>16299</td>\n",
       "      <td>492</td>\n",
       "      <td>16986.0</td>\n",
       "      <td>0.0</td>\n",
       "      <td>15100</td>\n",
       "      <td>1</td>\n",
       "      <td>18</td>\n",
       "      <td>1807</td>\n",
       "      <td>18075</td>\n",
       "      <td>1</td>\n",
       "      <td>273</td>\n",
       "      <td>127</td>\n",
       "    </tr>\n",
       "    <tr>\n",
       "      <th>6529507</th>\n",
       "      <td>1.1.15300.6</td>\n",
       "      <td>4.18.1809.2</td>\n",
       "      <td>1.277.1071.0</td>\n",
       "      <td>windows10</td>\n",
       "      <td>10.0.0.0</td>\n",
       "      <td>17134</td>\n",
       "      <td>rs4</td>\n",
       "      <td>17134.1.amd64fre.rs4_release.180410-1804</td>\n",
       "      <td>137.0</td>\n",
       "      <td>10.0.17134.112</td>\n",
       "      <td>rs4_release</td>\n",
       "      <td>17134</td>\n",
       "      <td>112</td>\n",
       "      <td>3941.0</td>\n",
       "      <td>NaN</td>\n",
       "      <td>15300</td>\n",
       "      <td>6</td>\n",
       "      <td>18</td>\n",
       "      <td>1809</td>\n",
       "      <td>2</td>\n",
       "      <td>1</td>\n",
       "      <td>277</td>\n",
       "      <td>1071</td>\n",
       "    </tr>\n",
       "  </tbody>\n",
       "</table>\n",
       "</div>"
      ],
      "text/plain": [
       "        EngineVersion       AppVersion  AvSigVersion   Platform     OsVer  \\\n",
       "6529507   1.1.15100.1  4.18.1807.18075   1.273.127.0  windows10  10.0.0.0   \n",
       "6529507   1.1.15300.6      4.18.1809.2  1.277.1071.0  windows10  10.0.0.0   \n",
       "\n",
       "         OsBuild OsPlatformSubRelease  \\\n",
       "6529507    16299                  rs3   \n",
       "6529507    17134                  rs4   \n",
       "\n",
       "                                                    OsBuildLab  \\\n",
       "6529507  16299.431.amd64fre.rs3_release_svc_escrow.180502-1908   \n",
       "6529507               17134.1.amd64fre.rs4_release.180410-1804   \n",
       "\n",
       "         IeVerIdentifier Census_OSVersion         Census_OSBranch  \\\n",
       "6529507            117.0   10.0.16299.492  rs3_release_svc_escrow   \n",
       "6529507            137.0   10.0.17134.112             rs4_release   \n",
       "\n",
       "         Census_OSBuildNumber  Census_OSBuildRevision  \\\n",
       "6529507                 16299                     492   \n",
       "6529507                 17134                     112   \n",
       "\n",
       "         Census_FirmwareVersionIdentifier  HasDetections  EngineVersion_3  \\\n",
       "6529507                           16986.0            0.0            15100   \n",
       "6529507                            3941.0            NaN            15300   \n",
       "\n",
       "         EngineVersion_4  AppVersion_2  AppVersion_3  AppVersion_4  \\\n",
       "6529507                1            18          1807         18075   \n",
       "6529507                6            18          1809             2   \n",
       "\n",
       "         AvSigVersion_1 AvSigVersion_2 AvSigVersion_3  \n",
       "6529507               1            273            127  \n",
       "6529507               1            277           1071  "
      ]
     },
     "execution_count": 306,
     "metadata": {},
     "output_type": "execute_result"
    }
   ],
   "source": [
    "data.loc[data.index == 6529507]"
   ]
  },
  {
   "cell_type": "code",
   "execution_count": 305,
   "metadata": {
    "ExecuteTime": {
     "end_time": "2019-02-27T15:05:17.561636Z",
     "start_time": "2019-02-27T15:05:17.136803Z"
    }
   },
   "outputs": [],
   "source": [
    "data.loc[(data.index == 6529507) & (data.HasDetections.isna()), 'OsBuildLab'] = '17134.1.amd64fre.rs4_release.180410-1804'"
   ]
  },
  {
   "cell_type": "code",
   "execution_count": 334,
   "metadata": {
    "ExecuteTime": {
     "end_time": "2019-02-28T00:02:27.660854Z",
     "start_time": "2019-02-28T00:02:27.656899Z"
    }
   },
   "outputs": [],
   "source": [
    "def get_os_build_lab_1(os_build_lab):\n",
    "    try: \n",
    "        return int(os_build_lab.split('.')[0])\n",
    "    except:\n",
    "        return np.nan"
   ]
  },
  {
   "cell_type": "code",
   "execution_count": 335,
   "metadata": {
    "ExecuteTime": {
     "end_time": "2019-02-28T00:02:27.832214Z",
     "start_time": "2019-02-28T00:02:27.828244Z"
    }
   },
   "outputs": [],
   "source": [
    "def get_os_build_lab_2(os_build_lab):\n",
    "    try: \n",
    "        return int(os_build_lab.split('.')[1])\n",
    "    except:\n",
    "        return np.nan"
   ]
  },
  {
   "cell_type": "code",
   "execution_count": 342,
   "metadata": {
    "ExecuteTime": {
     "end_time": "2019-02-28T00:04:12.502700Z",
     "start_time": "2019-02-28T00:04:12.498747Z"
    }
   },
   "outputs": [],
   "source": [
    "def get_os_build_lab_5(os_build_lab):\n",
    "    try: \n",
    "        return os_build_lab.split('.')[4]\n",
    "    except:\n",
    "        return np.nan"
   ]
  },
  {
   "cell_type": "code",
   "execution_count": 343,
   "metadata": {
    "ExecuteTime": {
     "end_time": "2019-02-28T00:04:12.689499Z",
     "start_time": "2019-02-28T00:04:12.685519Z"
    }
   },
   "outputs": [],
   "source": [
    "def get_os_build_lab_date(os_build_lab_5):\n",
    "    try:\n",
    "        return int(os_build_lab_5.split('-')[0])\n",
    "    except:\n",
    "        return np.nan"
   ]
  },
  {
   "cell_type": "code",
   "execution_count": 357,
   "metadata": {
    "ExecuteTime": {
     "end_time": "2019-02-28T00:08:41.614472Z",
     "start_time": "2019-02-28T00:08:41.610525Z"
    }
   },
   "outputs": [],
   "source": [
    "def get_os_build_lab_version(os_build_lab_5):\n",
    "    try:\n",
    "        return int(os_build_lab_5.split('-')[1])\n",
    "    except:\n",
    "        return np.nan"
   ]
  },
  {
   "cell_type": "code",
   "execution_count": 365,
   "metadata": {
    "ExecuteTime": {
     "end_time": "2019-02-28T00:21:57.533713Z",
     "start_time": "2019-02-28T00:21:03.554056Z"
    }
   },
   "outputs": [
    {
     "data": {
      "text/plain": [
       "951"
      ]
     },
     "execution_count": 365,
     "metadata": {},
     "output_type": "execute_result"
    }
   ],
   "source": [
    "data['os_build_lab_1'] = data.OsBuildLab.map(get_os_build_lab_1)\n",
    "data['os_build_lab_2'] = data.OsBuildLab.map(get_os_build_lab_2)\n",
    "data['os_build_lab_5'] = data.OsBuildLab.map(get_os_build_lab_5)\n",
    "data['os_build_lab_date'] = data.os_build_lab_5.map(get_os_build_lab_date)\n",
    "data['os_build_lab_version'] = data.os_build_lab_5.map(get_os_build_lab_version)\n",
    "del data['os_build_lab_5']\n",
    "gc.collect()"
   ]
  },
  {
   "cell_type": "markdown",
   "metadata": {},
   "source": [
    "#### os_build_lab_1 (OsBuild From OsBuildLab)"
   ]
  },
  {
   "cell_type": "code",
   "execution_count": 380,
   "metadata": {
    "ExecuteTime": {
     "end_time": "2019-02-28T00:31:51.101168Z",
     "start_time": "2019-02-28T00:31:50.878731Z"
    }
   },
   "outputs": [],
   "source": [
    "idx = data.os_build_lab_1.value_counts(dropna=True).sort_index().index"
   ]
  },
  {
   "cell_type": "code",
   "execution_count": 381,
   "metadata": {
    "ExecuteTime": {
     "end_time": "2019-02-28T00:32:04.644818Z",
     "start_time": "2019-02-28T00:32:02.381897Z"
    }
   },
   "outputs": [
    {
     "data": {
      "text/plain": [
       "349"
      ]
     },
     "execution_count": 381,
     "metadata": {},
     "output_type": "execute_result"
    }
   ],
   "source": [
    "# # train_dict\n",
    "temp = data[~data.HasDetections.isna()].os_build_lab_1.value_counts(dropna=True).to_dict()\n",
    "\n",
    "train_dict = {}\n",
    "\n",
    "for v in idx:\n",
    "    try:\n",
    "        train_dict[v] = temp[v]\n",
    "    except:\n",
    "        train_dict[v] = 0\n",
    "\n",
    "del temp\n",
    "gc.collect()"
   ]
  },
  {
   "cell_type": "code",
   "execution_count": 382,
   "metadata": {
    "ExecuteTime": {
     "end_time": "2019-02-28T00:32:12.251004Z",
     "start_time": "2019-02-28T00:32:10.185527Z"
    }
   },
   "outputs": [
    {
     "data": {
      "text/plain": [
       "0"
      ]
     },
     "execution_count": 382,
     "metadata": {},
     "output_type": "execute_result"
    }
   ],
   "source": [
    "# # test_dict\n",
    "temp = data[data.HasDetections.isna()].os_build_lab_1.value_counts(dropna=True).to_dict()\n",
    "\n",
    "test_dict = {}\n",
    "\n",
    "for v in idx:\n",
    "    try:\n",
    "        test_dict[v] = temp[v]\n",
    "    except:\n",
    "        test_dict[v] = 0\n",
    "\n",
    "del temp\n",
    "gc.collect()"
   ]
  },
  {
   "cell_type": "code",
   "execution_count": 383,
   "metadata": {
    "ExecuteTime": {
     "end_time": "2019-02-28T00:32:23.289457Z",
     "start_time": "2019-02-28T00:32:21.610401Z"
    }
   },
   "outputs": [
    {
     "data": {
      "image/png": "[encoded data removed]",
      "text/plain": [
       "<Figure size 1152x576 with 1 Axes>"
      ]
     },
     "metadata": {
      "needs_background": "light"
     },
     "output_type": "display_data"
    }
   ],
   "source": [
    "plt.figure(figsize=(16,8))\n",
    "plt.bar(x=[str(v) for v in list(train_dict.keys())], height=list(train_dict.values()), color='r')\n",
    "plt.bar(x=[str(v) for v in list(test_dict.keys())], height=list(test_dict.values()), color='g', alpha=0.5)\n",
    "plt.xticks(rotation='vertical', fontsize=9)\n",
    "plt.xlabel('Time Series', fontsize=18)\n",
    "plt.show();"
   ]
  },
  {
   "cell_type": "markdown",
   "metadata": {},
   "source": [
    "#### os_build_lab_date (OsBuildDate From OsBuildLab)"
   ]
  },
  {
   "cell_type": "code",
   "execution_count": 393,
   "metadata": {
    "ExecuteTime": {
     "end_time": "2019-02-28T00:37:18.469336Z",
     "start_time": "2019-02-28T00:37:18.257904Z"
    }
   },
   "outputs": [],
   "source": [
    "idx = data.os_build_lab_date.value_counts(dropna=True).sort_index().index[100:-20]"
   ]
  },
  {
   "cell_type": "code",
   "execution_count": 394,
   "metadata": {
    "ExecuteTime": {
     "end_time": "2019-02-28T00:37:20.817655Z",
     "start_time": "2019-02-28T00:37:18.776109Z"
    }
   },
   "outputs": [
    {
     "data": {
      "text/plain": [
       "39569"
      ]
     },
     "execution_count": 394,
     "metadata": {},
     "output_type": "execute_result"
    }
   ],
   "source": [
    "# # train_dict\n",
    "temp = data[~data.HasDetections.isna()].os_build_lab_date.value_counts(dropna=True).to_dict()\n",
    "\n",
    "train_dict = {}\n",
    "\n",
    "for v in idx:\n",
    "    try:\n",
    "        train_dict[v] = temp[v]\n",
    "    except:\n",
    "        train_dict[v] = 0\n",
    "\n",
    "del temp\n",
    "gc.collect()"
   ]
  },
  {
   "cell_type": "code",
   "execution_count": 395,
   "metadata": {
    "ExecuteTime": {
     "end_time": "2019-02-28T00:37:22.725514Z",
     "start_time": "2019-02-28T00:37:20.820609Z"
    }
   },
   "outputs": [
    {
     "data": {
      "text/plain": [
       "0"
      ]
     },
     "execution_count": 395,
     "metadata": {},
     "output_type": "execute_result"
    }
   ],
   "source": [
    "# # test_dict\n",
    "temp = data[data.HasDetections.isna()].os_build_lab_date.value_counts(dropna=True).to_dict()\n",
    "\n",
    "test_dict = {}\n",
    "\n",
    "for v in idx:\n",
    "    try:\n",
    "        test_dict[v] = temp[v]\n",
    "    except:\n",
    "        test_dict[v] = 0\n",
    "\n",
    "del temp\n",
    "gc.collect()"
   ]
  },
  {
   "cell_type": "code",
   "execution_count": 398,
   "metadata": {
    "ExecuteTime": {
     "end_time": "2019-02-28T00:37:47.357132Z",
     "start_time": "2019-02-28T00:37:44.786762Z"
    },
    "scrolled": false
   },
   "outputs": [
    {
     "name": "stdout",
     "output_type": "stream",
     "text": [
      "100 ~ -20 trim\n"
     ]
    },
    {
     "data": {
      "image/png": "[encoded data removed]",
      "text/plain": [
       "<Figure size 1152x576 with 1 Axes>"
      ]
     },
     "metadata": {
      "needs_background": "light"
     },
     "output_type": "display_data"
    }
   ],
   "source": [
    "print('100 ~ -20 trim')\n",
    "plt.figure(figsize=(16,8))\n",
    "plt.bar(x=[str(v) for v in list(train_dict.keys())], height=list(train_dict.values()), color='r')\n",
    "plt.bar(x=[str(v) for v in list(test_dict.keys())], height=list(test_dict.values()), color='g', alpha=0.5)\n",
    "plt.xticks(rotation='vertical', fontsize=9)\n",
    "plt.xlabel('Time Series', fontsize=18)\n",
    "plt.show();"
   ]
  },
  {
   "cell_type": "markdown",
   "metadata": {},
   "source": [
    "#### os_build_lab_version (OsBuildVersion From OsBuildLab)"
   ]
  },
  {
   "cell_type": "code",
   "execution_count": 407,
   "metadata": {
    "ExecuteTime": {
     "end_time": "2019-02-28T00:40:26.654224Z",
     "start_time": "2019-02-28T00:40:26.423879Z"
    }
   },
   "outputs": [],
   "source": [
    "idx = data.os_build_lab_version.value_counts(dropna=True).sort_index().index"
   ]
  },
  {
   "cell_type": "code",
   "execution_count": 403,
   "metadata": {
    "ExecuteTime": {
     "end_time": "2019-02-28T00:39:46.957659Z",
     "start_time": "2019-02-28T00:39:44.952021Z"
    }
   },
   "outputs": [
    {
     "data": {
      "text/plain": [
       "0"
      ]
     },
     "execution_count": 403,
     "metadata": {},
     "output_type": "execute_result"
    }
   ],
   "source": [
    "# # train_dict\n",
    "temp = data[~data.HasDetections.isna()].os_build_lab_version.value_counts(dropna=True).to_dict()\n",
    "\n",
    "train_dict = {}\n",
    "\n",
    "for v in idx:\n",
    "    try:\n",
    "        train_dict[v] = temp[v]\n",
    "    except:\n",
    "        train_dict[v] = 0\n",
    "\n",
    "del temp\n",
    "gc.collect()"
   ]
  },
  {
   "cell_type": "code",
   "execution_count": 404,
   "metadata": {
    "ExecuteTime": {
     "end_time": "2019-02-28T00:39:50.139111Z",
     "start_time": "2019-02-28T00:39:48.189295Z"
    }
   },
   "outputs": [
    {
     "data": {
      "text/plain": [
       "0"
      ]
     },
     "execution_count": 404,
     "metadata": {},
     "output_type": "execute_result"
    }
   ],
   "source": [
    "# # test_dict\n",
    "temp = data[data.HasDetections.isna()].os_build_lab_version.value_counts(dropna=True).to_dict()\n",
    "\n",
    "test_dict = {}\n",
    "\n",
    "for v in idx:\n",
    "    try:\n",
    "        test_dict[v] = temp[v]\n",
    "    except:\n",
    "        test_dict[v] = 0\n",
    "\n",
    "del temp\n",
    "gc.collect()"
   ]
  },
  {
   "cell_type": "code",
   "execution_count": 405,
   "metadata": {
    "ExecuteTime": {
     "end_time": "2019-02-28T00:39:55.762971Z",
     "start_time": "2019-02-28T00:39:52.684867Z"
    },
    "scrolled": false
   },
   "outputs": [
    {
     "data": {
      "image/png": "[encoded data removed]",
      "text/plain": [
       "<Figure size 1152x576 with 1 Axes>"
      ]
     },
     "metadata": {
      "needs_background": "light"
     },
     "output_type": "display_data"
    }
   ],
   "source": [
    "plt.figure(figsize=(16,8))\n",
    "plt.bar(x=[str(v) for v in list(train_dict.keys())], height=list(train_dict.values()), color='r')\n",
    "plt.bar(x=[str(v) for v in list(test_dict.keys())], height=list(test_dict.values()), color='g', alpha=0.5)\n",
    "plt.xticks(rotation='vertical', fontsize=9)\n",
    "plt.xlabel('Time Series', fontsize=18)\n",
    "plt.show();"
   ]
  },
  {
   "cell_type": "markdown",
   "metadata": {},
   "source": [
    "### IeVerIdentifier"
   ]
  },
  {
   "cell_type": "code",
   "execution_count": 409,
   "metadata": {
    "ExecuteTime": {
     "end_time": "2019-02-28T00:42:34.185631Z",
     "start_time": "2019-02-28T00:42:34.038058Z"
    }
   },
   "outputs": [
    {
     "data": {
      "text/plain": [
       "True"
      ]
     },
     "execution_count": 409,
     "metadata": {},
     "output_type": "execute_result"
    }
   ],
   "source": [
    "data.IeVerIdentifier.isna().any()"
   ]
  },
  {
   "cell_type": "code",
   "execution_count": 410,
   "metadata": {
    "ExecuteTime": {
     "end_time": "2019-02-28T00:43:05.741985Z",
     "start_time": "2019-02-28T00:43:05.468305Z"
    }
   },
   "outputs": [
    {
     "name": "stdout",
     "output_type": "stream",
     "text": [
      "train null:  58894\n",
      "test null:  49796\n"
     ]
    }
   ],
   "source": [
    "print(\"train null: \", np.sum(train.IeVerIdentifier.isna() * 1))\n",
    "print(\"test null: \", np.sum(test.IeVerIdentifier.isna() * 1))"
   ]
  },
  {
   "cell_type": "code",
   "execution_count": 422,
   "metadata": {
    "ExecuteTime": {
     "end_time": "2019-02-28T00:44:42.034936Z",
     "start_time": "2019-02-28T00:44:41.892318Z"
    }
   },
   "outputs": [
    {
     "data": {
      "text/plain": [
       "137.0    0.435560\n",
       "117.0    0.198166\n",
       "108.0    0.053174\n",
       "111.0    0.052438\n",
       "98.0     0.039726\n",
       "Name: IeVerIdentifier, dtype: float64"
      ]
     },
     "execution_count": 422,
     "metadata": {},
     "output_type": "execute_result"
    }
   ],
   "source": [
    "train.IeVerIdentifier.value_counts(dropna=False).sort_values(ascending=False).iloc[:5] / train.__len__()"
   ]
  },
  {
   "cell_type": "code",
   "execution_count": 423,
   "metadata": {
    "ExecuteTime": {
     "end_time": "2019-02-28T00:44:47.372404Z",
     "start_time": "2019-02-28T00:44:47.253756Z"
    },
    "scrolled": true
   },
   "outputs": [
    {
     "data": {
      "text/plain": [
       "137.0    0.492484\n",
       "117.0    0.138773\n",
       "111.0    0.050266\n",
       "108.0    0.047376\n",
       "98.0     0.037140\n",
       "Name: IeVerIdentifier, dtype: float64"
      ]
     },
     "execution_count": 423,
     "metadata": {},
     "output_type": "execute_result"
    }
   ],
   "source": [
    "test.IeVerIdentifier.value_counts(dropna=False).sort_values(ascending=False).iloc[:5] / test.__len__()"
   ]
  },
  {
   "cell_type": "code",
   "execution_count": 434,
   "metadata": {
    "ExecuteTime": {
     "end_time": "2019-02-28T00:48:37.181983Z",
     "start_time": "2019-02-28T00:48:36.952636Z"
    }
   },
   "outputs": [],
   "source": [
    "idx = data.IeVerIdentifier.value_counts(dropna=True).sort_index().index[20:-60]"
   ]
  },
  {
   "cell_type": "code",
   "execution_count": 435,
   "metadata": {
    "ExecuteTime": {
     "end_time": "2019-02-28T00:48:39.422225Z",
     "start_time": "2019-02-28T00:48:37.342105Z"
    }
   },
   "outputs": [
    {
     "data": {
      "text/plain": [
       "52929"
      ]
     },
     "execution_count": 435,
     "metadata": {},
     "output_type": "execute_result"
    }
   ],
   "source": [
    "# # train_dict\n",
    "temp = data[~data.HasDetections.isna()].IeVerIdentifier.value_counts(dropna=True).to_dict()\n",
    "\n",
    "train_dict = {}\n",
    "\n",
    "for v in idx:\n",
    "    try:\n",
    "        train_dict[v] = temp[v]\n",
    "    except:\n",
    "        train_dict[v] = 0\n",
    "\n",
    "del temp\n",
    "gc.collect()"
   ]
  },
  {
   "cell_type": "code",
   "execution_count": 436,
   "metadata": {
    "ExecuteTime": {
     "end_time": "2019-02-28T00:48:41.276266Z",
     "start_time": "2019-02-28T00:48:39.425220Z"
    }
   },
   "outputs": [
    {
     "data": {
      "text/plain": [
       "0"
      ]
     },
     "execution_count": 436,
     "metadata": {},
     "output_type": "execute_result"
    }
   ],
   "source": [
    "# # test_dict\n",
    "temp = data[data.HasDetections.isna()].IeVerIdentifier.value_counts(dropna=True).to_dict()\n",
    "\n",
    "test_dict = {}\n",
    "\n",
    "for v in idx:\n",
    "    try:\n",
    "        test_dict[v] = temp[v]\n",
    "    except:\n",
    "        test_dict[v] = 0\n",
    "\n",
    "del temp\n",
    "gc.collect()"
   ]
  },
  {
   "cell_type": "code",
   "execution_count": 439,
   "metadata": {
    "ExecuteTime": {
     "end_time": "2019-02-28T00:48:54.567630Z",
     "start_time": "2019-02-28T00:48:51.520748Z"
    },
    "scrolled": false
   },
   "outputs": [
    {
     "name": "stdout",
     "output_type": "stream",
     "text": [
      "20 ~ -60 trim\n"
     ]
    },
    {
     "data": {
      "image/png": "[encoded data removed]",
      "text/plain": [
       "<Figure size 1152x576 with 1 Axes>"
      ]
     },
     "metadata": {
      "needs_background": "light"
     },
     "output_type": "display_data"
    }
   ],
   "source": [
    "print(\"20 ~ -60 trim\")\n",
    "plt.figure(figsize=(16,8))\n",
    "plt.bar(x=[str(v) for v in list(train_dict.keys())], height=list(train_dict.values()), color='r')\n",
    "plt.bar(x=[str(v) for v in list(test_dict.keys())], height=list(test_dict.values()), color='g', alpha=0.5)\n",
    "plt.xticks(rotation='vertical', fontsize=9)\n",
    "plt.xlabel('Time Series', fontsize=18)\n",
    "plt.show();"
   ]
  },
  {
   "cell_type": "markdown",
   "metadata": {},
   "source": [
    "### Census_OSVersion\n",
    "* Census_OSBuildNumber와 Census_OSBuildRevision과 중복 정보"
   ]
  },
  {
   "cell_type": "markdown",
   "metadata": {},
   "source": [
    "### Census_OSBranch"
   ]
  },
  {
   "cell_type": "code",
   "execution_count": 451,
   "metadata": {
    "ExecuteTime": {
     "end_time": "2019-02-28T00:54:51.533359Z",
     "start_time": "2019-02-28T00:54:51.002800Z"
    }
   },
   "outputs": [
    {
     "data": {
      "text/plain": [
       "False"
      ]
     },
     "execution_count": 451,
     "metadata": {},
     "output_type": "execute_result"
    }
   ],
   "source": [
    "data.Census_OSBranch.isna().any()"
   ]
  },
  {
   "cell_type": "code",
   "execution_count": 452,
   "metadata": {
    "ExecuteTime": {
     "end_time": "2019-02-28T00:54:52.383955Z",
     "start_time": "2019-02-28T00:54:52.276213Z"
    }
   },
   "outputs": [
    {
     "data": {
      "text/plain": [
       "rs4_release               0.449382\n",
       "rs3_release               0.138690\n",
       "rs3_release_svc_escrow    0.134481\n",
       "rs2_release               0.089342\n",
       "rs1_release               0.088050\n",
       "th2_release               0.036614\n",
       "Name: Census_OSBranch, dtype: float64"
      ]
     },
     "execution_count": 452,
     "metadata": {},
     "output_type": "execute_result"
    }
   ],
   "source": [
    "train.Census_OSBranch.value_counts(dropna=False).sort_values(ascending=False)[:6] / train.__len__()"
   ]
  },
  {
   "cell_type": "code",
   "execution_count": 453,
   "metadata": {
    "ExecuteTime": {
     "end_time": "2019-02-28T00:54:53.098861Z",
     "start_time": "2019-02-28T00:54:52.995108Z"
    }
   },
   "outputs": [
    {
     "data": {
      "text/plain": [
       "rs4_release               0.506687\n",
       "rs3_release               0.143590\n",
       "rs2_release               0.079801\n",
       "rs1_release               0.076900\n",
       "rs3_release_svc_escrow    0.063161\n",
       "rs5_release               0.037005\n",
       "Name: Census_OSBranch, dtype: float64"
      ]
     },
     "execution_count": 453,
     "metadata": {},
     "output_type": "execute_result"
    }
   ],
   "source": [
    "test.Census_OSBranch.value_counts(dropna=False).sort_values(ascending=False)[:6] / test.__len__()"
   ]
  },
  {
   "cell_type": "markdown",
   "metadata": {},
   "source": [
    "### Census_OSBuildNumber"
   ]
  },
  {
   "cell_type": "code",
   "execution_count": 455,
   "metadata": {
    "ExecuteTime": {
     "end_time": "2019-02-28T00:55:58.370334Z",
     "start_time": "2019-02-28T00:55:58.240653Z"
    }
   },
   "outputs": [
    {
     "data": {
      "text/plain": [
       "False"
      ]
     },
     "execution_count": 455,
     "metadata": {},
     "output_type": "execute_result"
    }
   ],
   "source": [
    "data.Census_OSBuildNumber.isna().any()"
   ]
  },
  {
   "cell_type": "code",
   "execution_count": 456,
   "metadata": {
    "ExecuteTime": {
     "end_time": "2019-02-28T00:56:10.692536Z",
     "start_time": "2019-02-28T00:56:10.495104Z"
    }
   },
   "outputs": [],
   "source": [
    "idx = data.Census_OSBuildNumber.value_counts(dropna=False).sort_index().index"
   ]
  },
  {
   "cell_type": "code",
   "execution_count": 457,
   "metadata": {
    "ExecuteTime": {
     "end_time": "2019-02-28T00:56:15.705620Z",
     "start_time": "2019-02-28T00:56:13.550380Z"
    }
   },
   "outputs": [
    {
     "data": {
      "text/plain": [
       "93183"
      ]
     },
     "execution_count": 457,
     "metadata": {},
     "output_type": "execute_result"
    }
   ],
   "source": [
    "# # train_dict\n",
    "temp = data[~data.HasDetections.isna()].Census_OSBuildNumber.value_counts(dropna=True).to_dict()\n",
    "\n",
    "train_dict = {}\n",
    "\n",
    "for v in idx:\n",
    "    try:\n",
    "        train_dict[v] = temp[v]\n",
    "    except:\n",
    "        train_dict[v] = 0\n",
    "\n",
    "del temp\n",
    "gc.collect()"
   ]
  },
  {
   "cell_type": "code",
   "execution_count": 458,
   "metadata": {
    "ExecuteTime": {
     "end_time": "2019-02-28T00:56:18.296326Z",
     "start_time": "2019-02-28T00:56:16.300626Z"
    }
   },
   "outputs": [
    {
     "data": {
      "text/plain": [
       "0"
      ]
     },
     "execution_count": 458,
     "metadata": {},
     "output_type": "execute_result"
    }
   ],
   "source": [
    "# # test_dict\n",
    "temp = data[data.HasDetections.isna()].Census_OSBuildNumber.value_counts(dropna=True).to_dict()\n",
    "\n",
    "test_dict = {}\n",
    "\n",
    "for v in idx:\n",
    "    try:\n",
    "        test_dict[v] = temp[v]\n",
    "    except:\n",
    "        test_dict[v] = 0\n",
    "\n",
    "del temp\n",
    "gc.collect()"
   ]
  },
  {
   "cell_type": "code",
   "execution_count": 459,
   "metadata": {
    "ExecuteTime": {
     "end_time": "2019-02-28T00:56:21.352286Z",
     "start_time": "2019-02-28T00:56:18.918587Z"
    }
   },
   "outputs": [
    {
     "data": {
      "image/png": "[encoded data removed]",
      "text/plain": [
       "<Figure size 1152x576 with 1 Axes>"
      ]
     },
     "metadata": {
      "needs_background": "light"
     },
     "output_type": "display_data"
    }
   ],
   "source": [
    "plt.figure(figsize=(16,8))\n",
    "plt.bar(x=[str(v) for v in list(train_dict.keys())], height=list(train_dict.values()), color='r')\n",
    "plt.bar(x=[str(v) for v in list(test_dict.keys())], height=list(test_dict.values()), color='g', alpha=0.5)\n",
    "plt.xticks(rotation='vertical', fontsize=9)\n",
    "plt.xlabel('Time Series', fontsize=18)\n",
    "plt.show();"
   ]
  },
  {
   "cell_type": "markdown",
   "metadata": {},
   "source": [
    "### Census_FirmwareVersionIdentifier"
   ]
  },
  {
   "cell_type": "code",
   "execution_count": 440,
   "metadata": {
    "ExecuteTime": {
     "end_time": "2019-02-28T00:50:24.111356Z",
     "start_time": "2019-02-28T00:50:23.987727Z"
    }
   },
   "outputs": [
    {
     "data": {
      "text/plain": [
       "True"
      ]
     },
     "execution_count": 440,
     "metadata": {},
     "output_type": "execute_result"
    }
   ],
   "source": [
    "data.Census_FirmwareVersionIdentifier.isna().any()"
   ]
  },
  {
   "cell_type": "code",
   "execution_count": 441,
   "metadata": {
    "ExecuteTime": {
     "end_time": "2019-02-28T00:50:29.271382Z",
     "start_time": "2019-02-28T00:50:28.840853Z"
    }
   },
   "outputs": [
    {
     "name": "stdout",
     "output_type": "stream",
     "text": [
      "train null:  160133\n",
      "test null:  177624\n"
     ]
    }
   ],
   "source": [
    "print(\"train null: \", np.sum(train.Census_FirmwareVersionIdentifier.isna() * 1))\n",
    "print(\"test null: \", np.sum(test.Census_FirmwareVersionIdentifier.isna() * 1))"
   ]
  },
  {
   "cell_type": "code",
   "execution_count": 443,
   "metadata": {
    "ExecuteTime": {
     "end_time": "2019-02-28T00:50:57.490611Z",
     "start_time": "2019-02-28T00:50:57.245302Z"
    }
   },
   "outputs": [
    {
     "data": {
      "text/plain": [
       "58958"
      ]
     },
     "execution_count": 443,
     "metadata": {},
     "output_type": "execute_result"
    }
   ],
   "source": [
    "data.Census_FirmwareVersionIdentifier.unique().__len__()"
   ]
  },
  {
   "cell_type": "code",
   "execution_count": 442,
   "metadata": {
    "ExecuteTime": {
     "end_time": "2019-02-28T00:50:32.726538Z",
     "start_time": "2019-02-28T00:50:32.482703Z"
    }
   },
   "outputs": [
    {
     "data": {
      "text/plain": [
       "NaN         0.017949\n",
       " 33105.0    0.010044\n",
       " 33111.0    0.006903\n",
       " 33054.0    0.006347\n",
       " 33108.0    0.006169\n",
       "Name: Census_FirmwareVersionIdentifier, dtype: float64"
      ]
     },
     "execution_count": 442,
     "metadata": {},
     "output_type": "execute_result"
    }
   ],
   "source": [
    "train.Census_FirmwareVersionIdentifier.value_counts(dropna=False).sort_values(ascending=False).iloc[:5] / train.__len__()"
   ]
  },
  {
   "cell_type": "code",
   "execution_count": 444,
   "metadata": {
    "ExecuteTime": {
     "end_time": "2019-02-28T00:51:04.804342Z",
     "start_time": "2019-02-28T00:51:04.596896Z"
    },
    "scrolled": true
   },
   "outputs": [
    {
     "data": {
      "text/plain": [
       "NaN         0.022618\n",
       " 33105.0    0.009225\n",
       " 33054.0    0.006677\n",
       " 11778.0    0.006597\n",
       " 33111.0    0.005955\n",
       "Name: Census_FirmwareVersionIdentifier, dtype: float64"
      ]
     },
     "execution_count": 444,
     "metadata": {},
     "output_type": "execute_result"
    }
   ],
   "source": [
    "test.Census_FirmwareVersionIdentifier.value_counts(dropna=False).sort_values(ascending=False).iloc[:5] / test.__len__()"
   ]
  },
  {
   "cell_type": "markdown",
   "metadata": {},
   "source": [
    "## OsBuild + OsRevision 정보 조합해서 날짜 찾기\n",
    "\n",
    "- OsBuild => OsBuild, os_build_lab_1, Census_OSBuildNumber\n",
    "- OsRevision => os_build_lab_2, Census_OSBuildRevision\n",
    "\n",
    "- https://support.microsoft.com/ko-kr/help/4000825 (윈도우10 빌드 릴리즈 정보)"
   ]
  }
 ],
 "metadata": {
  "kernelspec": {
   "display_name": "Python 3",
   "language": "python",
   "name": "python3"
  },
  "language_info": {
   "codemirror_mode": {
    "name": "ipython",
    "version": 3
   },
   "file_extension": ".py",
   "mimetype": "text/x-python",
   "name": "python",
   "nbconvert_exporter": "python",
   "pygments_lexer": "ipython3",
   "version": "3.6.7"
  },
  "toc": {
   "base_numbering": 1,
   "nav_menu": {},
   "number_sections": true,
   "sideBar": true,
   "skip_h1_title": false,
   "title_cell": "Table of Contents",
   "title_sidebar": "Contents",
   "toc_cell": false,
   "toc_position": {},
   "toc_section_display": true,
   "toc_window_display": true
  }
 },
 "nbformat": 4,
 "nbformat_minor": 2
}
