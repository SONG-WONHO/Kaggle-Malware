{
 "cells": [
  {
   "cell_type": "markdown",
   "metadata": {},
   "source": [
    "# 사전작업"
   ]
  },
  {
   "cell_type": "markdown",
   "metadata": {},
   "source": [
    "## 라이브러리 로드"
   ]
  },
  {
   "cell_type": "code",
   "execution_count": 1,
   "metadata": {
    "ExecuteTime": {
     "end_time": "2019-03-09T04:43:24.867800Z",
     "start_time": "2019-03-09T04:43:22.637981Z"
    }
   },
   "outputs": [],
   "source": [
    "import numpy as np\n",
    "import pandas as pd\n",
    "import warnings\n",
    "import gc\n",
    "from tqdm import tqdm_notebook\n",
    "import lightgbm as lgb\n",
    "from scipy.sparse import vstack, csr_matrix, save_npz, load_npz\n",
    "from sklearn.preprocessing import LabelEncoder, OneHotEncoder\n",
    "from sklearn.model_selection import StratifiedKFold\n",
    "import matplotlib.pyplot as plt\n",
    "import seaborn as sns\n",
    "warnings.filterwarnings(\"ignore\")\n",
    "gc.enable()\n",
    "# sns.set()"
   ]
  },
  {
   "cell_type": "code",
   "execution_count": 2,
   "metadata": {
    "ExecuteTime": {
     "end_time": "2019-03-09T04:43:24.881162Z",
     "start_time": "2019-03-09T04:43:24.867800Z"
    }
   },
   "outputs": [],
   "source": [
    "pd.set_option('max_rows', 150)\n",
    "pd.set_option('max_colwidth', 500)\n",
    "pd.set_option('max_columns', 500)"
   ]
  },
  {
   "cell_type": "markdown",
   "metadata": {},
   "source": [
    "## 데이터 로드"
   ]
  },
  {
   "cell_type": "code",
   "execution_count": 77,
   "metadata": {
    "ExecuteTime": {
     "end_time": "2019-03-08T18:47:12.562748Z",
     "start_time": "2019-03-08T18:47:06.217827Z"
    }
   },
   "outputs": [],
   "source": [
    "yh = pd.read_csv('./data/YH_v3_new_jebal.csv')"
   ]
  },
  {
   "cell_type": "code",
   "execution_count": 6,
   "metadata": {
    "ExecuteTime": {
     "end_time": "2019-03-09T04:43:52.022906Z",
     "start_time": "2019-03-09T04:43:51.300839Z"
    }
   },
   "outputs": [],
   "source": [
    "test = pd.read_csv('./data_temp/outlier_split.csv')"
   ]
  },
  {
   "cell_type": "code",
   "execution_count": 3,
   "metadata": {
    "ExecuteTime": {
     "end_time": "2019-03-09T04:43:37.073133Z",
     "start_time": "2019-03-09T04:43:31.133019Z"
    }
   },
   "outputs": [],
   "source": [
    "base = pd.read_csv('./data/submission_lgb.csv')"
   ]
  },
  {
   "cell_type": "code",
   "execution_count": 8,
   "metadata": {
    "ExecuteTime": {
     "end_time": "2019-03-09T04:43:58.499186Z",
     "start_time": "2019-03-09T04:43:58.467857Z"
    }
   },
   "outputs": [],
   "source": [
    "# base['yh'] = yh.HasDetections\n",
    "base['test'] = test['0']"
   ]
  },
  {
   "cell_type": "code",
   "execution_count": 9,
   "metadata": {
    "ExecuteTime": {
     "end_time": "2019-03-09T04:44:03.020933Z",
     "start_time": "2019-03-09T04:44:03.016944Z"
    }
   },
   "outputs": [],
   "source": [
    "base.columns = ['MachineIdentifier', 'cv_692', 'new']"
   ]
  },
  {
   "cell_type": "code",
   "execution_count": 12,
   "metadata": {
    "ExecuteTime": {
     "end_time": "2019-03-09T04:44:19.750840Z",
     "start_time": "2019-03-09T04:44:19.674509Z"
    }
   },
   "outputs": [
    {
     "data": {
      "text/html": [
       "<div>\n",
       "<style scoped>\n",
       "    .dataframe tbody tr th:only-of-type {\n",
       "        vertical-align: middle;\n",
       "    }\n",
       "\n",
       "    .dataframe tbody tr th {\n",
       "        vertical-align: top;\n",
       "    }\n",
       "\n",
       "    .dataframe thead th {\n",
       "        text-align: right;\n",
       "    }\n",
       "</style>\n",
       "<table border=\"1\" class=\"dataframe\">\n",
       "  <thead>\n",
       "    <tr style=\"text-align: right;\">\n",
       "      <th></th>\n",
       "      <th>cv_692</th>\n",
       "      <th>new</th>\n",
       "    </tr>\n",
       "  </thead>\n",
       "  <tbody>\n",
       "    <tr>\n",
       "      <th>cv_692</th>\n",
       "      <td>1.00000</td>\n",
       "      <td>0.91407</td>\n",
       "    </tr>\n",
       "    <tr>\n",
       "      <th>new</th>\n",
       "      <td>0.91407</td>\n",
       "      <td>1.00000</td>\n",
       "    </tr>\n",
       "  </tbody>\n",
       "</table>\n",
       "</div>"
      ],
      "text/plain": [
       "         cv_692      new\n",
       "cv_692  1.00000  0.91407\n",
       "new     0.91407  1.00000"
      ]
     },
     "execution_count": 12,
     "metadata": {},
     "output_type": "execute_result"
    }
   ],
   "source": [
    "base[base.new != 0].iloc[:,1:].corr()"
   ]
  },
  {
   "cell_type": "code",
   "execution_count": 15,
   "metadata": {
    "ExecuteTime": {
     "end_time": "2019-03-09T04:44:49.659671Z",
     "start_time": "2019-03-09T04:44:49.655683Z"
    }
   },
   "outputs": [],
   "source": [
    "def get_score(data):\n",
    "    if data.new == 0:\n",
    "        return data.cv_692\n",
    "    else:\n",
    "        return 0.1*data.cv_692 + 0.9*data.new"
   ]
  },
  {
   "cell_type": "code",
   "execution_count": 16,
   "metadata": {
    "ExecuteTime": {
     "end_time": "2019-03-09T04:47:40.150704Z",
     "start_time": "2019-03-09T04:44:50.263839Z"
    }
   },
   "outputs": [],
   "source": [
    "base['HasDetections'] = base.apply(get_score, axis=1)"
   ]
  },
  {
   "cell_type": "code",
   "execution_count": 17,
   "metadata": {
    "ExecuteTime": {
     "end_time": "2019-03-09T04:49:22.582573Z",
     "start_time": "2019-03-09T04:49:22.097605Z"
    }
   },
   "outputs": [
    {
     "data": {
      "text/html": [
       "<div>\n",
       "<style scoped>\n",
       "    .dataframe tbody tr th:only-of-type {\n",
       "        vertical-align: middle;\n",
       "    }\n",
       "\n",
       "    .dataframe tbody tr th {\n",
       "        vertical-align: top;\n",
       "    }\n",
       "\n",
       "    .dataframe thead th {\n",
       "        text-align: right;\n",
       "    }\n",
       "</style>\n",
       "<table border=\"1\" class=\"dataframe\">\n",
       "  <thead>\n",
       "    <tr style=\"text-align: right;\">\n",
       "      <th></th>\n",
       "      <th>cv_692</th>\n",
       "      <th>new</th>\n",
       "      <th>HasDetections</th>\n",
       "    </tr>\n",
       "  </thead>\n",
       "  <tbody>\n",
       "    <tr>\n",
       "      <th>cv_692</th>\n",
       "      <td>1.000000</td>\n",
       "      <td>0.075031</td>\n",
       "      <td>0.994997</td>\n",
       "    </tr>\n",
       "    <tr>\n",
       "      <th>new</th>\n",
       "      <td>0.075031</td>\n",
       "      <td>1.000000</td>\n",
       "      <td>0.067566</td>\n",
       "    </tr>\n",
       "    <tr>\n",
       "      <th>HasDetections</th>\n",
       "      <td>0.994997</td>\n",
       "      <td>0.067566</td>\n",
       "      <td>1.000000</td>\n",
       "    </tr>\n",
       "  </tbody>\n",
       "</table>\n",
       "</div>"
      ],
      "text/plain": [
       "                 cv_692       new  HasDetections\n",
       "cv_692         1.000000  0.075031       0.994997\n",
       "new            0.075031  1.000000       0.067566\n",
       "HasDetections  0.994997  0.067566       1.000000"
      ]
     },
     "execution_count": 17,
     "metadata": {},
     "output_type": "execute_result"
    }
   ],
   "source": [
    "base.loc[:,['cv_692', 'new', 'HasDetections']].corr()"
   ]
  },
  {
   "cell_type": "code",
   "execution_count": 18,
   "metadata": {
    "ExecuteTime": {
     "end_time": "2019-03-09T04:50:17.135840Z",
     "start_time": "2019-03-09T04:49:52.238535Z"
    }
   },
   "outputs": [],
   "source": [
    "base[['MachineIdentifier', 'HasDetections']].to_csv('./data/JEBAL4.csv', index=False)"
   ]
  }
 ],
 "metadata": {
  "kernelspec": {
   "display_name": "Python 3",
   "language": "python",
   "name": "python3"
  },
  "language_info": {
   "codemirror_mode": {
    "name": "ipython",
    "version": 3
   },
   "file_extension": ".py",
   "mimetype": "text/x-python",
   "name": "python",
   "nbconvert_exporter": "python",
   "pygments_lexer": "ipython3",
   "version": "3.6.7"
  },
  "toc": {
   "base_numbering": 1,
   "nav_menu": {},
   "number_sections": true,
   "sideBar": true,
   "skip_h1_title": false,
   "title_cell": "Table of Contents",
   "title_sidebar": "Contents",
   "toc_cell": false,
   "toc_position": {},
   "toc_section_display": true,
   "toc_window_display": false
  }
 },
 "nbformat": 4,
 "nbformat_minor": 2
}
