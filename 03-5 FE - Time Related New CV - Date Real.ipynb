{
 "cells": [
  {
   "cell_type": "markdown",
   "metadata": {},
   "source": [
    "# 사전작업"
   ]
  },
  {
   "cell_type": "markdown",
   "metadata": {},
   "source": [
    "## 라이브러리 로드"
   ]
  },
  {
   "cell_type": "code",
   "execution_count": 1,
   "metadata": {
    "ExecuteTime": {
     "end_time": "2019-03-13T16:18:56.078440Z",
     "start_time": "2019-03-13T16:18:46.889080Z"
    }
   },
   "outputs": [],
   "source": [
    "import numpy as np\n",
    "import pandas as pd\n",
    "import warnings\n",
    "import gc\n",
    "from tqdm import tqdm_notebook\n",
    "import lightgbm as lgb\n",
    "from scipy.sparse import vstack, csr_matrix, save_npz, load_npz\n",
    "from sklearn.preprocessing import LabelEncoder, OneHotEncoder\n",
    "from sklearn.model_selection import StratifiedKFold\n",
    "import matplotlib.pyplot as plt\n",
    "import seaborn as sns\n",
    "from sklearn.compose import ColumnTransformer\n",
    "\n",
    "warnings.filterwarnings(\"ignore\")\n",
    "gc.enable()"
   ]
  },
  {
   "cell_type": "code",
   "execution_count": 2,
   "metadata": {
    "ExecuteTime": {
     "end_time": "2019-03-13T16:18:56.091514Z",
     "start_time": "2019-03-13T16:18:56.082307Z"
    }
   },
   "outputs": [],
   "source": [
    "pd.set_option('max_rows', 150)\n",
    "pd.set_option('max_colwidth', 500)\n",
    "pd.set_option('max_columns', 500)"
   ]
  },
  {
   "cell_type": "markdown",
   "metadata": {},
   "source": [
    "## 데이터 로드"
   ]
  },
  {
   "cell_type": "code",
   "execution_count": 3,
   "metadata": {
    "ExecuteTime": {
     "end_time": "2019-03-13T16:18:56.110920Z",
     "start_time": "2019-03-13T16:18:56.095076Z"
    },
    "hide_input": true
   },
   "outputs": [],
   "source": [
    "dtypes = {\n",
    "        'MachineIdentifier':                                    'object',\n",
    "        'ProductName':                                          'category',\n",
    "        'EngineVersion':                                        'category',\n",
    "        'AppVersion':                                           'category',\n",
    "        'AvSigVersion':                                         'category',\n",
    "        'IsBeta':                                               'int8',\n",
    "        'RtpStateBitfield':                                     'float16',\n",
    "        'IsSxsPassiveMode':                                     'int8',\n",
    "        'DefaultBrowsersIdentifier':                            'float16',\n",
    "        'AVProductStatesIdentifier':                            'float32',\n",
    "        'AVProductsInstalled':                                  'float16',\n",
    "        'AVProductsEnabled':                                    'float16',\n",
    "        'HasTpm':                                               'int8',\n",
    "        'CountryIdentifier':                                    'int16',\n",
    "        'CityIdentifier':                                       'float32',\n",
    "        'OrganizationIdentifier':                               'float16',\n",
    "        'GeoNameIdentifier':                                    'float16',\n",
    "        'LocaleEnglishNameIdentifier':                          'int8',\n",
    "        'Platform':                                             'category',\n",
    "        'Processor':                                            'category',\n",
    "        'OsVer':                                                'category',\n",
    "        'OsBuild':                                              'int16',\n",
    "        'OsSuite':                                              'int16',\n",
    "        'OsPlatformSubRelease':                                 'category',\n",
    "        'OsBuildLab':                                           'category',\n",
    "        'SkuEdition':                                           'category',\n",
    "        'IsProtected':                                          'float16',\n",
    "        'AutoSampleOptIn':                                      'int8',\n",
    "        'PuaMode':                                              'category',\n",
    "        'SMode':                                                'float16',\n",
    "        'IeVerIdentifier':                                      'float16',\n",
    "        'SmartScreen':                                          'category',\n",
    "        'Firewall':                                             'float16',\n",
    "        'UacLuaenable':                                         'float32',\n",
    "        'Census_MDC2FormFactor':                                'category',\n",
    "        'Census_DeviceFamily':                                  'category',\n",
    "        'Census_OEMNameIdentifier':                             'float16',\n",
    "        'Census_OEMModelIdentifier':                            'float32',\n",
    "        'Census_ProcessorCoreCount':                            'float16',\n",
    "        'Census_ProcessorManufacturerIdentifier':               'float16',\n",
    "        'Census_ProcessorModelIdentifier':                      'float16',\n",
    "        'Census_ProcessorClass':                                'category',\n",
    "        'Census_PrimaryDiskTotalCapacity':                      'float32',\n",
    "        'Census_PrimaryDiskTypeName':                           'category',\n",
    "        'Census_SystemVolumeTotalCapacity':                     'float32',\n",
    "        'Census_HasOpticalDiskDrive':                           'int8',\n",
    "        'Census_TotalPhysicalRAM':                              'float32',\n",
    "        'Census_ChassisTypeName':                               'category',\n",
    "        'Census_InternalPrimaryDiagonalDisplaySizeInInches':    'float16',\n",
    "        'Census_InternalPrimaryDisplayResolutionHorizontal':    'float16',\n",
    "        'Census_InternalPrimaryDisplayResolutionVertical':      'float16',\n",
    "        'Census_PowerPlatformRoleName':                         'category',\n",
    "        'Census_InternalBatteryType':                           'category',\n",
    "        'Census_InternalBatteryNumberOfCharges':                'float32',\n",
    "        'Census_OSVersion':                                     'category',\n",
    "        'Census_OSArchitecture':                                'category',\n",
    "        'Census_OSBranch':                                      'category',\n",
    "        'Census_OSBuildNumber':                                 'int16',\n",
    "        'Census_OSBuildRevision':                               'int32',\n",
    "        'Census_OSEdition':                                     'category',\n",
    "        'Census_OSSkuName':                                     'category',\n",
    "        'Census_OSInstallTypeName':                             'category',\n",
    "        'Census_OSInstallLanguageIdentifier':                   'float16',\n",
    "        'Census_OSUILocaleIdentifier':                          'int16',\n",
    "        'Census_OSWUAutoUpdateOptionsName':                     'category',\n",
    "        'Census_IsPortableOperatingSystem':                     'int8',\n",
    "        'Census_GenuineStateName':                              'category',\n",
    "        'Census_ActivationChannel':                             'category',\n",
    "        'Census_IsFlightingInternal':                           'float16',\n",
    "        'Census_IsFlightsDisabled':                             'float16',\n",
    "        'Census_FlightRing':                                    'category',\n",
    "        'Census_ThresholdOptIn':                                'float16',\n",
    "        'Census_FirmwareManufacturerIdentifier':                'float16',\n",
    "        'Census_FirmwareVersionIdentifier':                     'float32',\n",
    "        'Census_IsSecureBootEnabled':                           'int8',\n",
    "        'Census_IsWIMBootEnabled':                              'float16',\n",
    "        'Census_IsVirtualDevice':                               'float16',\n",
    "        'Census_IsTouchEnabled':                                'int8',\n",
    "        'Census_IsPenCapable':                                  'int8',\n",
    "        'Census_IsAlwaysOnAlwaysConnectedCapable':              'float16',\n",
    "        'Wdft_IsGamer':                                         'float16',\n",
    "        'Wdft_RegionIdentifier':                                'float16',\n",
    "        'HasDetections':                                        'int8'\n",
    "        }"
   ]
  },
  {
   "cell_type": "code",
   "execution_count": 4,
   "metadata": {
    "ExecuteTime": {
     "end_time": "2019-03-13T16:27:09.743978Z",
     "start_time": "2019-03-13T16:18:56.115016Z"
    },
    "scrolled": true
   },
   "outputs": [
    {
     "name": "stdout",
     "output_type": "stream",
     "text": [
      "Wall time: 8min 13s\n"
     ]
    }
   ],
   "source": [
    "%%time\n",
    "train = pd.read_csv('./data/train.csv', dtype=dtypes)\n",
    "test = pd.read_csv('./data/test.csv', dtype=dtypes)"
   ]
  },
  {
   "cell_type": "markdown",
   "metadata": {},
   "source": [
    "## train, test 합치기"
   ]
  },
  {
   "cell_type": "code",
   "execution_count": 5,
   "metadata": {
    "ExecuteTime": {
     "end_time": "2019-03-13T16:29:41.058760Z",
     "start_time": "2019-03-13T16:27:09.749767Z"
    }
   },
   "outputs": [
    {
     "data": {
      "text/plain": [
       "194754"
      ]
     },
     "execution_count": 5,
     "metadata": {},
     "output_type": "execute_result"
    }
   ],
   "source": [
    "test['HasDetections'] = np.nan\n",
    "data = train.append(test)\n",
    "data.reset_index(drop=True, inplace=True)\n",
    "data = data.reset_index().drop(['MachineIdentifier'], axis=1).rename(columns={'index':'MachineIdentifier'})\n",
    "del train, test\n",
    "gc.collect()"
   ]
  },
  {
   "cell_type": "markdown",
   "metadata": {},
   "source": [
    "## Get Date - AvSigVersion"
   ]
  },
  {
   "cell_type": "code",
   "execution_count": 6,
   "metadata": {
    "ExecuteTime": {
     "end_time": "2019-03-13T16:30:43.631584Z",
     "start_time": "2019-03-13T16:29:41.063339Z"
    }
   },
   "outputs": [],
   "source": [
    "datedict = np.load('./data/AvSigVersionTimestamps.npy')\n",
    "datedict = datedict[()]\n",
    "data['Date'] = data['AvSigVersion'].map(datedict)\n",
    "data['Date_YMD'] = pd.to_datetime(data['Date'].astype(str).str.slice(0, 10))\n",
    "del datedict"
   ]
  },
  {
   "cell_type": "markdown",
   "metadata": {},
   "source": [
    "## 2018년 1월 1일 ~ 9월 24일"
   ]
  },
  {
   "cell_type": "markdown",
   "metadata": {},
   "source": [
    "### Data Load"
   ]
  },
  {
   "cell_type": "code",
   "execution_count": 7,
   "metadata": {
    "ExecuteTime": {
     "end_time": "2019-03-13T16:30:56.496990Z",
     "start_time": "2019-03-13T16:30:43.646001Z"
    }
   },
   "outputs": [],
   "source": [
    "train = data[~data.HasDetections.isna()]\n",
    "test = data[data.HasDetections.isna()]"
   ]
  },
  {
   "cell_type": "code",
   "execution_count": 8,
   "metadata": {
    "ExecuteTime": {
     "end_time": "2019-03-13T16:31:11.226825Z",
     "start_time": "2019-03-13T16:30:56.504536Z"
    }
   },
   "outputs": [],
   "source": [
    "lb_692 = pd.read_csv('./data/submission_lgb.csv')\n",
    "lb_692['Date_YMD'] = test.Date_YMD.values"
   ]
  },
  {
   "cell_type": "code",
   "execution_count": 9,
   "metadata": {
    "ExecuteTime": {
     "end_time": "2019-03-13T16:31:25.738128Z",
     "start_time": "2019-03-13T16:31:11.230785Z"
    }
   },
   "outputs": [],
   "source": [
    "lb_701 = pd.read_csv('./data/YH_v3_new_jebal.csv')\n",
    "lb_701['Date_YMD'] = test.Date_YMD.values"
   ]
  },
  {
   "cell_type": "code",
   "execution_count": 10,
   "metadata": {
    "ExecuteTime": {
     "end_time": "2019-03-13T16:31:42.326263Z",
     "start_time": "2019-03-13T16:31:25.739825Z"
    }
   },
   "outputs": [],
   "source": [
    "lb_702 = pd.read_csv('./data/time_test.csv')\n",
    "lb_702['Date_YMD'] = test.Date_YMD.values"
   ]
  },
  {
   "cell_type": "code",
   "execution_count": 11,
   "metadata": {
    "ExecuteTime": {
     "end_time": "2019-03-13T16:31:56.849429Z",
     "start_time": "2019-03-13T16:31:42.331315Z"
    }
   },
   "outputs": [],
   "source": [
    "lb_694 = pd.read_csv('./data/time_test_3.csv')\n",
    "lb_694['Date_YMD'] = test.Date_YMD.values"
   ]
  },
  {
   "cell_type": "code",
   "execution_count": 12,
   "metadata": {
    "ExecuteTime": {
     "end_time": "2019-03-13T16:32:12.658793Z",
     "start_time": "2019-03-13T16:31:56.849429Z"
    }
   },
   "outputs": [],
   "source": [
    "lb_706 = pd.read_csv('./data/time_test_5.csv')\n",
    "lb_706['Date_YMD'] = test.Date_YMD.values"
   ]
  },
  {
   "cell_type": "code",
   "execution_count": 13,
   "metadata": {
    "ExecuteTime": {
     "end_time": "2019-03-13T16:32:27.128008Z",
     "start_time": "2019-03-13T16:32:12.670319Z"
    }
   },
   "outputs": [],
   "source": [
    "lb_707 = pd.read_csv('./data/time_test_7.csv')\n",
    "lb_707['Date_YMD'] = test.Date_YMD.values"
   ]
  },
  {
   "cell_type": "code",
   "execution_count": 14,
   "metadata": {
    "ExecuteTime": {
     "end_time": "2019-03-13T16:32:42.688179Z",
     "start_time": "2019-03-13T16:32:27.129761Z"
    }
   },
   "outputs": [],
   "source": [
    "time_un = pd.read_csv('./data/submission_lgb_drop_time_related_feature.csv')\n",
    "time_un['Date_YMD'] = test.Date_YMD.values"
   ]
  },
  {
   "cell_type": "code",
   "execution_count": 15,
   "metadata": {
    "ExecuteTime": {
     "end_time": "2019-03-13T16:32:59.053949Z",
     "start_time": "2019-03-13T16:32:42.699363Z"
    }
   },
   "outputs": [],
   "source": [
    "time_un2 = pd.read_csv('./data/sub_lgb_without_time.csv')\n",
    "time_un2['Date_YMD'] = test.Date_YMD.values"
   ]
  },
  {
   "cell_type": "code",
   "execution_count": 16,
   "metadata": {
    "ExecuteTime": {
     "end_time": "2019-03-13T16:33:29.928789Z",
     "start_time": "2019-03-13T16:32:59.067004Z"
    }
   },
   "outputs": [],
   "source": [
    "group = pd.read_csv('./data/groupby_date.csv').sort_values('MachineIdentifier')\n",
    "group['Date_YMD'] = test.Date_YMD.values"
   ]
  },
  {
   "cell_type": "code",
   "execution_count": 17,
   "metadata": {
    "ExecuteTime": {
     "end_time": "2019-03-13T16:34:00.643742Z",
     "start_time": "2019-03-13T16:33:29.943435Z"
    }
   },
   "outputs": [],
   "source": [
    "group_t_isprotected = pd.read_csv('./data/groupby_date_t_t_isprotected.csv').sort_values('MachineIdentifier')\n",
    "group_t_isprotected['Date_YMD'] = test.Date_YMD.values"
   ]
  },
  {
   "cell_type": "code",
   "execution_count": 18,
   "metadata": {
    "ExecuteTime": {
     "end_time": "2019-03-13T16:34:31.984022Z",
     "start_time": "2019-03-13T16:34:00.662729Z"
    }
   },
   "outputs": [],
   "source": [
    "group_t = pd.read_csv('./data/groupby_date_t_t.csv').sort_values('MachineIdentifier')\n",
    "group_t['Date_YMD'] = test.Date_YMD.values"
   ]
  },
  {
   "cell_type": "code",
   "execution_count": 68,
   "metadata": {
    "ExecuteTime": {
     "end_time": "2019-03-13T16:37:48.214966Z",
     "start_time": "2019-03-13T16:37:37.220369Z"
    }
   },
   "outputs": [],
   "source": [
    "yh = pd.read_csv('./data/blending2.csv').sort_values('MachineIdentifier')\n",
    "yh['Date_YMD'] = test.Date_YMD.values"
   ]
  },
  {
   "cell_type": "code",
   "execution_count": 71,
   "metadata": {
    "ExecuteTime": {
     "end_time": "2019-03-13T16:40:25.577357Z",
     "start_time": "2019-03-13T16:40:18.970009Z"
    }
   },
   "outputs": [],
   "source": [
    "final = pd.read_csv('./data/final.csv')\n",
    "final['Date_YMD'] = test.Date_YMD.values"
   ]
  },
  {
   "cell_type": "markdown",
   "metadata": {},
   "source": [
    "### make meta"
   ]
  },
  {
   "cell_type": "code",
   "execution_count": 20,
   "metadata": {
    "ExecuteTime": {
     "end_time": "2019-03-13T16:34:55.145497Z",
     "start_time": "2019-03-13T16:34:54.180609Z"
    },
    "scrolled": true
   },
   "outputs": [],
   "source": [
    "time_idx = data.groupby(['Date_YMD']).size().index"
   ]
  },
  {
   "cell_type": "code",
   "execution_count": 21,
   "metadata": {
    "ExecuteTime": {
     "end_time": "2019-03-13T16:34:55.221260Z",
     "start_time": "2019-03-13T16:34:55.215277Z"
    }
   },
   "outputs": [],
   "source": [
    "temp = pd.DataFrame(time_idx)"
   ]
  },
  {
   "cell_type": "code",
   "execution_count": 22,
   "metadata": {
    "ExecuteTime": {
     "end_time": "2019-03-13T16:34:55.273120Z",
     "start_time": "2019-03-13T16:34:55.226248Z"
    }
   },
   "outputs": [],
   "source": [
    "condition = (temp.Date_YMD >= '2018-01-01')&(temp.Date_YMD <= '2018-11-25')"
   ]
  },
  {
   "cell_type": "markdown",
   "metadata": {},
   "source": [
    "### train, test"
   ]
  },
  {
   "cell_type": "code",
   "execution_count": 23,
   "metadata": {
    "ExecuteTime": {
     "end_time": "2019-03-13T16:34:57.471343Z",
     "start_time": "2019-03-13T16:34:55.275116Z"
    }
   },
   "outputs": [],
   "source": [
    "tr_temp = train.groupby('Date_YMD').HasDetections.agg(['size', 'mean']).reset_index()\n",
    "te_temp = test.groupby('Date_YMD').HasDetections.agg(['size', 'mean']).reset_index()"
   ]
  },
  {
   "cell_type": "code",
   "execution_count": 24,
   "metadata": {
    "ExecuteTime": {
     "end_time": "2019-03-13T16:34:57.521236Z",
     "start_time": "2019-03-13T16:34:57.474336Z"
    }
   },
   "outputs": [],
   "source": [
    "tr_temp = temp.merge(tr_temp, on='Date_YMD', how='left')\n",
    "te_temp = temp.merge(te_temp, on='Date_YMD', how='left')"
   ]
  },
  {
   "cell_type": "code",
   "execution_count": 25,
   "metadata": {
    "ExecuteTime": {
     "end_time": "2019-03-13T16:34:57.537201Z",
     "start_time": "2019-03-13T16:34:57.524228Z"
    }
   },
   "outputs": [],
   "source": [
    "tr_temp = tr_temp[condition]\n",
    "te_temp = te_temp[condition]"
   ]
  },
  {
   "cell_type": "markdown",
   "metadata": {},
   "source": [
    "### lb_692"
   ]
  },
  {
   "cell_type": "code",
   "execution_count": 26,
   "metadata": {
    "ExecuteTime": {
     "end_time": "2019-03-13T16:34:58.228318Z",
     "start_time": "2019-03-13T16:34:57.539162Z"
    }
   },
   "outputs": [],
   "source": [
    "lb_temp_692 = lb_692.groupby('Date_YMD').HasDetections.agg(['size', 'mean']).reset_index()"
   ]
  },
  {
   "cell_type": "code",
   "execution_count": 27,
   "metadata": {
    "ExecuteTime": {
     "end_time": "2019-03-13T16:34:58.240325Z",
     "start_time": "2019-03-13T16:34:58.231311Z"
    }
   },
   "outputs": [],
   "source": [
    "lb_temp_692 = temp.merge(lb_temp_692, on='Date_YMD', how='left')"
   ]
  },
  {
   "cell_type": "code",
   "execution_count": 28,
   "metadata": {
    "ExecuteTime": {
     "end_time": "2019-03-13T16:34:58.250293Z",
     "start_time": "2019-03-13T16:34:58.241283Z"
    }
   },
   "outputs": [],
   "source": [
    "lb_temp_692 = lb_temp_692[condition]"
   ]
  },
  {
   "cell_type": "markdown",
   "metadata": {},
   "source": [
    "### lb_694"
   ]
  },
  {
   "cell_type": "code",
   "execution_count": 29,
   "metadata": {
    "ExecuteTime": {
     "end_time": "2019-03-13T16:34:59.181139Z",
     "start_time": "2019-03-13T16:34:58.252255Z"
    }
   },
   "outputs": [],
   "source": [
    "lb_temp_694 = lb_694.groupby('Date_YMD').HasDetections.agg(['size', 'mean']).reset_index()"
   ]
  },
  {
   "cell_type": "code",
   "execution_count": 30,
   "metadata": {
    "ExecuteTime": {
     "end_time": "2019-03-13T16:34:59.191113Z",
     "start_time": "2019-03-13T16:34:59.183135Z"
    }
   },
   "outputs": [],
   "source": [
    "lb_temp_694 = temp.merge(lb_temp_694, on='Date_YMD', how='left')"
   ]
  },
  {
   "cell_type": "code",
   "execution_count": 31,
   "metadata": {
    "ExecuteTime": {
     "end_time": "2019-03-13T16:34:59.213054Z",
     "start_time": "2019-03-13T16:34:59.208067Z"
    }
   },
   "outputs": [],
   "source": [
    "lb_temp_694 = lb_temp_694[condition]"
   ]
  },
  {
   "cell_type": "markdown",
   "metadata": {},
   "source": [
    "### lb_701"
   ]
  },
  {
   "cell_type": "code",
   "execution_count": 32,
   "metadata": {
    "ExecuteTime": {
     "end_time": "2019-03-13T16:34:59.937150Z",
     "start_time": "2019-03-13T16:34:59.215050Z"
    }
   },
   "outputs": [],
   "source": [
    "lb_temp_701 = lb_701.groupby('Date_YMD').HasDetections.agg(['size', 'mean']).reset_index()"
   ]
  },
  {
   "cell_type": "code",
   "execution_count": 33,
   "metadata": {
    "ExecuteTime": {
     "end_time": "2019-03-13T16:34:59.946142Z",
     "start_time": "2019-03-13T16:34:59.938114Z"
    }
   },
   "outputs": [],
   "source": [
    "lb_temp_701 = temp.merge(lb_temp_701, on='Date_YMD', how='left')"
   ]
  },
  {
   "cell_type": "code",
   "execution_count": 34,
   "metadata": {
    "ExecuteTime": {
     "end_time": "2019-03-13T16:34:59.952077Z",
     "start_time": "2019-03-13T16:34:59.948088Z"
    }
   },
   "outputs": [],
   "source": [
    "lb_temp_701 = lb_temp_701[condition]"
   ]
  },
  {
   "cell_type": "markdown",
   "metadata": {},
   "source": [
    "### lb_702"
   ]
  },
  {
   "cell_type": "code",
   "execution_count": 35,
   "metadata": {
    "ExecuteTime": {
     "end_time": "2019-03-13T16:35:00.826737Z",
     "start_time": "2019-03-13T16:34:59.954072Z"
    }
   },
   "outputs": [],
   "source": [
    "lb_temp_702 = lb_702.groupby('Date_YMD').HasDetections.agg(['size', 'mean']).reset_index()"
   ]
  },
  {
   "cell_type": "code",
   "execution_count": 36,
   "metadata": {
    "ExecuteTime": {
     "end_time": "2019-03-13T16:35:00.836711Z",
     "start_time": "2019-03-13T16:35:00.828733Z"
    }
   },
   "outputs": [],
   "source": [
    "lb_temp_702 = temp.merge(lb_temp_702, on='Date_YMD', how='left')"
   ]
  },
  {
   "cell_type": "code",
   "execution_count": 37,
   "metadata": {
    "ExecuteTime": {
     "end_time": "2019-03-13T16:35:00.843693Z",
     "start_time": "2019-03-13T16:35:00.838708Z"
    }
   },
   "outputs": [],
   "source": [
    "lb_temp_702 = lb_temp_702[condition]"
   ]
  },
  {
   "cell_type": "markdown",
   "metadata": {},
   "source": [
    "### lb_706"
   ]
  },
  {
   "cell_type": "code",
   "execution_count": 38,
   "metadata": {
    "ExecuteTime": {
     "end_time": "2019-03-13T16:35:01.759243Z",
     "start_time": "2019-03-13T16:35:00.845688Z"
    }
   },
   "outputs": [],
   "source": [
    "lb_temp_706 = lb_706.groupby('Date_YMD').HasDetections.agg(['size', 'mean']).reset_index()"
   ]
  },
  {
   "cell_type": "code",
   "execution_count": 39,
   "metadata": {
    "ExecuteTime": {
     "end_time": "2019-03-13T16:35:01.768218Z",
     "start_time": "2019-03-13T16:35:01.761238Z"
    }
   },
   "outputs": [],
   "source": [
    "lb_temp_706 = temp.merge(lb_temp_706, on='Date_YMD', how='left')"
   ]
  },
  {
   "cell_type": "code",
   "execution_count": 40,
   "metadata": {
    "ExecuteTime": {
     "end_time": "2019-03-13T16:35:01.774202Z",
     "start_time": "2019-03-13T16:35:01.769216Z"
    }
   },
   "outputs": [],
   "source": [
    "lb_temp_706 = lb_temp_706[condition]"
   ]
  },
  {
   "cell_type": "markdown",
   "metadata": {},
   "source": [
    "### lb_707"
   ]
  },
  {
   "cell_type": "code",
   "execution_count": 41,
   "metadata": {
    "ExecuteTime": {
     "end_time": "2019-03-13T16:35:03.445732Z",
     "start_time": "2019-03-13T16:35:01.777195Z"
    }
   },
   "outputs": [],
   "source": [
    "lb_temp_707 = lb_707.groupby('Date_YMD').HasDetections.agg(['size', 'mean']).reset_index()"
   ]
  },
  {
   "cell_type": "code",
   "execution_count": 42,
   "metadata": {
    "ExecuteTime": {
     "end_time": "2019-03-13T16:35:03.459697Z",
     "start_time": "2019-03-13T16:35:03.450719Z"
    }
   },
   "outputs": [],
   "source": [
    "lb_temp_707 = temp.merge(lb_temp_707, on='Date_YMD', how='left')"
   ]
  },
  {
   "cell_type": "code",
   "execution_count": 43,
   "metadata": {
    "ExecuteTime": {
     "end_time": "2019-03-13T16:35:03.469666Z",
     "start_time": "2019-03-13T16:35:03.463683Z"
    }
   },
   "outputs": [],
   "source": [
    "lb_temp_707 = lb_temp_707[condition]"
   ]
  },
  {
   "cell_type": "markdown",
   "metadata": {},
   "source": [
    "### time unrelated"
   ]
  },
  {
   "cell_type": "code",
   "execution_count": 44,
   "metadata": {
    "ExecuteTime": {
     "end_time": "2019-03-13T16:35:04.387211Z",
     "start_time": "2019-03-13T16:35:03.475650Z"
    }
   },
   "outputs": [],
   "source": [
    "time_un_temp = time_un.groupby('Date_YMD').HasDetections.agg(['size', 'mean']).reset_index()"
   ]
  },
  {
   "cell_type": "code",
   "execution_count": 45,
   "metadata": {
    "ExecuteTime": {
     "end_time": "2019-03-13T16:35:04.399179Z",
     "start_time": "2019-03-13T16:35:04.389206Z"
    }
   },
   "outputs": [],
   "source": [
    "time_un_temp = temp.merge(time_un_temp, on='Date_YMD', how='left')"
   ]
  },
  {
   "cell_type": "code",
   "execution_count": 46,
   "metadata": {
    "ExecuteTime": {
     "end_time": "2019-03-13T16:35:04.410150Z",
     "start_time": "2019-03-13T16:35:04.402171Z"
    }
   },
   "outputs": [],
   "source": [
    "time_un_temp = time_un_temp[condition]"
   ]
  },
  {
   "cell_type": "markdown",
   "metadata": {},
   "source": [
    "### time unrelated 2"
   ]
  },
  {
   "cell_type": "code",
   "execution_count": 47,
   "metadata": {
    "ExecuteTime": {
     "end_time": "2019-03-13T16:35:05.233946Z",
     "start_time": "2019-03-13T16:35:04.413142Z"
    }
   },
   "outputs": [],
   "source": [
    "time_un2_temp = time_un2.groupby('Date_YMD').HasDetections.agg(['size', 'mean']).reset_index()"
   ]
  },
  {
   "cell_type": "code",
   "execution_count": 48,
   "metadata": {
    "ExecuteTime": {
     "end_time": "2019-03-13T16:35:05.249906Z",
     "start_time": "2019-03-13T16:35:05.237938Z"
    }
   },
   "outputs": [],
   "source": [
    "time_un2_temp = temp.merge(time_un2_temp, on='Date_YMD', how='left')"
   ]
  },
  {
   "cell_type": "code",
   "execution_count": 49,
   "metadata": {
    "ExecuteTime": {
     "end_time": "2019-03-13T16:35:05.257884Z",
     "start_time": "2019-03-13T16:35:05.251899Z"
    }
   },
   "outputs": [],
   "source": [
    "time_un2_temp = time_un2_temp[condition]"
   ]
  },
  {
   "cell_type": "markdown",
   "metadata": {},
   "source": [
    "### group"
   ]
  },
  {
   "cell_type": "code",
   "execution_count": 50,
   "metadata": {
    "ExecuteTime": {
     "end_time": "2019-03-13T16:35:05.992918Z",
     "start_time": "2019-03-13T16:35:05.260877Z"
    }
   },
   "outputs": [],
   "source": [
    "group_temp = group.groupby('Date_YMD').HasDetections.agg(['size', 'mean']).reset_index()"
   ]
  },
  {
   "cell_type": "code",
   "execution_count": 51,
   "metadata": {
    "ExecuteTime": {
     "end_time": "2019-03-13T16:35:06.019846Z",
     "start_time": "2019-03-13T16:35:05.993915Z"
    }
   },
   "outputs": [],
   "source": [
    "group_temp = temp.merge(group_temp, on='Date_YMD', how='left')"
   ]
  },
  {
   "cell_type": "code",
   "execution_count": 52,
   "metadata": {
    "ExecuteTime": {
     "end_time": "2019-03-13T16:35:06.029819Z",
     "start_time": "2019-03-13T16:35:06.023837Z"
    }
   },
   "outputs": [],
   "source": [
    "group_temp = group_temp[condition]"
   ]
  },
  {
   "cell_type": "markdown",
   "metadata": {},
   "source": [
    "### group_t_is_protected"
   ]
  },
  {
   "cell_type": "code",
   "execution_count": 53,
   "metadata": {
    "ExecuteTime": {
     "end_time": "2019-03-13T16:35:06.676148Z",
     "start_time": "2019-03-13T16:35:06.030818Z"
    }
   },
   "outputs": [],
   "source": [
    "group__t_isprotected_temp = group_t_isprotected.groupby('Date_YMD').HasDetections.agg(['size', 'mean']).reset_index()"
   ]
  },
  {
   "cell_type": "code",
   "execution_count": 54,
   "metadata": {
    "ExecuteTime": {
     "end_time": "2019-03-13T16:35:06.687084Z",
     "start_time": "2019-03-13T16:35:06.680080Z"
    }
   },
   "outputs": [],
   "source": [
    "group__t_isprotected_temp = temp.merge(group__t_isprotected_temp, on='Date_YMD', how='left')"
   ]
  },
  {
   "cell_type": "code",
   "execution_count": 55,
   "metadata": {
    "ExecuteTime": {
     "end_time": "2019-03-13T16:35:06.696064Z",
     "start_time": "2019-03-13T16:35:06.689055Z"
    }
   },
   "outputs": [],
   "source": [
    "group__t_isprotected_temp = group__t_isprotected_temp[condition]"
   ]
  },
  {
   "cell_type": "markdown",
   "metadata": {},
   "source": [
    "### group_t"
   ]
  },
  {
   "cell_type": "code",
   "execution_count": 56,
   "metadata": {
    "ExecuteTime": {
     "end_time": "2019-03-13T16:35:07.342345Z",
     "start_time": "2019-03-13T16:35:06.698032Z"
    }
   },
   "outputs": [],
   "source": [
    "group_t_temp = group_t.groupby('Date_YMD').HasDetections.agg(['size', 'mean']).reset_index()"
   ]
  },
  {
   "cell_type": "code",
   "execution_count": 57,
   "metadata": {
    "ExecuteTime": {
     "end_time": "2019-03-13T16:35:07.352306Z",
     "start_time": "2019-03-13T16:35:07.344303Z"
    }
   },
   "outputs": [],
   "source": [
    "group_t_temp = temp.merge(group_t_temp, on='Date_YMD', how='left')"
   ]
  },
  {
   "cell_type": "code",
   "execution_count": 58,
   "metadata": {
    "ExecuteTime": {
     "end_time": "2019-03-13T16:35:07.375239Z",
     "start_time": "2019-03-13T16:35:07.370233Z"
    }
   },
   "outputs": [],
   "source": [
    "group_t_temp = group_t_temp[condition]"
   ]
  },
  {
   "cell_type": "markdown",
   "metadata": {},
   "source": [
    "### yh"
   ]
  },
  {
   "cell_type": "code",
   "execution_count": 59,
   "metadata": {
    "ExecuteTime": {
     "end_time": "2019-03-13T16:35:08.681724Z",
     "start_time": "2019-03-13T16:35:07.376249Z"
    }
   },
   "outputs": [],
   "source": [
    "yh_temp = yh.groupby('Date_YMD').HasDetections.agg(['size', 'mean']).reset_index()"
   ]
  },
  {
   "cell_type": "code",
   "execution_count": 60,
   "metadata": {
    "ExecuteTime": {
     "end_time": "2019-03-13T16:35:08.725608Z",
     "start_time": "2019-03-13T16:35:08.696684Z"
    }
   },
   "outputs": [],
   "source": [
    "yh_temp = temp.merge(yh_temp, on='Date_YMD', how='left')"
   ]
  },
  {
   "cell_type": "code",
   "execution_count": 61,
   "metadata": {
    "ExecuteTime": {
     "end_time": "2019-03-13T16:35:08.738572Z",
     "start_time": "2019-03-13T16:35:08.729596Z"
    }
   },
   "outputs": [],
   "source": [
    "yh_temp = yh_temp[condition]"
   ]
  },
  {
   "cell_type": "markdown",
   "metadata": {},
   "source": [
    "### final"
   ]
  },
  {
   "cell_type": "code",
   "execution_count": 74,
   "metadata": {
    "ExecuteTime": {
     "end_time": "2019-03-13T16:41:16.727723Z",
     "start_time": "2019-03-13T16:41:15.092135Z"
    }
   },
   "outputs": [],
   "source": [
    "final_temp = final.groupby('Date_YMD').HasDetections.agg(['size', 'mean']).reset_index()"
   ]
  },
  {
   "cell_type": "code",
   "execution_count": 75,
   "metadata": {
    "ExecuteTime": {
     "end_time": "2019-03-13T16:41:16.746673Z",
     "start_time": "2019-03-13T16:41:16.730716Z"
    }
   },
   "outputs": [],
   "source": [
    "final_temp = temp.merge(final_temp, on='Date_YMD', how='left')"
   ]
  },
  {
   "cell_type": "code",
   "execution_count": 76,
   "metadata": {
    "ExecuteTime": {
     "end_time": "2019-03-13T16:41:16.754651Z",
     "start_time": "2019-03-13T16:41:16.748669Z"
    }
   },
   "outputs": [],
   "source": [
    "final_temp = final_temp[condition]"
   ]
  },
  {
   "cell_type": "markdown",
   "metadata": {},
   "source": [
    "### hypothesis"
   ]
  },
  {
   "cell_type": "code",
   "execution_count": 77,
   "metadata": {
    "ExecuteTime": {
     "end_time": "2019-03-13T16:41:18.314478Z",
     "start_time": "2019-03-13T16:41:18.310489Z"
    }
   },
   "outputs": [],
   "source": [
    "# hypothesis_temp = train.groupby('Date_YMD').HasDetections.agg(['size', 'mean']).reset_index()"
   ]
  },
  {
   "cell_type": "code",
   "execution_count": 78,
   "metadata": {
    "ExecuteTime": {
     "end_time": "2019-03-13T16:41:18.474052Z",
     "start_time": "2019-03-13T16:41:18.470063Z"
    }
   },
   "outputs": [],
   "source": [
    "# hypothesis_temp.Date_YMD = hypothesis_temp.Date_YMD + pd.offsets.MonthOffset(2)"
   ]
  },
  {
   "cell_type": "code",
   "execution_count": 79,
   "metadata": {
    "ExecuteTime": {
     "end_time": "2019-03-13T16:41:18.638612Z",
     "start_time": "2019-03-13T16:41:18.634622Z"
    }
   },
   "outputs": [],
   "source": [
    "# condition_H = (hypothesis_temp.Date_YMD >= '2018-01-01')&(hypothesis_temp.Date_YMD <= '2018-11-25')\n",
    "# hypothesis_temp = hypothesis_temp[condition_H]"
   ]
  },
  {
   "cell_type": "code",
   "execution_count": 80,
   "metadata": {
    "ExecuteTime": {
     "end_time": "2019-03-13T16:41:18.834088Z",
     "start_time": "2019-03-13T16:41:18.830099Z"
    }
   },
   "outputs": [],
   "source": [
    "# hypothesis_temp = temp.merge(hypothesis_temp, on='Date_YMD', how='left')"
   ]
  },
  {
   "cell_type": "markdown",
   "metadata": {},
   "source": [
    "### test"
   ]
  },
  {
   "cell_type": "markdown",
   "metadata": {},
   "source": [
    "### check hypothesis"
   ]
  },
  {
   "cell_type": "code",
   "execution_count": 161,
   "metadata": {
    "ExecuteTime": {
     "end_time": "2019-03-13T16:54:55.142155Z",
     "start_time": "2019-03-13T16:54:54.587404Z"
    },
    "hide_input": false
   },
   "outputs": [],
   "source": [
    "check_temp = check.groupby(['Date_YMD']).HasDetections.agg(['size', 'mean']).reset_index()\n",
    "condition_c = (check_temp.Date_YMD >= '2018-01-01')&(check_temp.Date_YMD <= '2018-11-25')\n",
    "check_temp = check_temp[condition_c]"
   ]
  },
  {
   "cell_type": "markdown",
   "metadata": {},
   "source": [
    "### plot"
   ]
  },
  {
   "cell_type": "code",
   "execution_count": 162,
   "metadata": {
    "ExecuteTime": {
     "end_time": "2019-03-13T16:54:57.625676Z",
     "start_time": "2019-03-13T16:54:57.397575Z"
    },
    "hide_input": false
   },
   "outputs": [
    {
     "data": {
      "text/plain": [
       "<matplotlib.legend.Legend at 0x220c4c9a978>"
      ]
     },
     "execution_count": 162,
     "metadata": {},
     "output_type": "execute_result"
    },
    {
     "data": {
      "image/png": "[encoded data removed]",
      "text/plain": [
       "<Figure size 1296x576 with 1 Axes>"
      ]
     },
     "metadata": {
      "needs_background": "light"
     },
     "output_type": "display_data"
    }
   ],
   "source": [
    "plt.figure(figsize=(18, 8))\n",
    "# plt.plot(tr_temp.Date_YMD, tr_temp['mean'], 'o', color='b', alpha=0.1, label='train')\n",
    "# plt.plot(lb_temp_692.Date_YMD, lb_temp_692['mean'], 'o', color='r', alpha=1, label='692')\n",
    "# plt.plot(lb_temp_694.Date_YMD, lb_temp_694['mean'], 'o', color='y', alpha=1, label='694')\n",
    "# plt.plot(lb_temp_701.Date_YMD, lb_temp_701['mean'], 'o', color='g', alpha=1, label='701')\n",
    "# plt.plot(lb_temp_702.Date_YMD, lb_temp_702['mean'], 'o', color='y', alpha=1, label='702')\n",
    "# plt.plot(lb_temp_706.Date_YMD, lb_temp_706['mean'], 'o', color='k', alpha=1, label='706')\n",
    "plt.plot(lb_temp_707.Date_YMD, lb_temp_707['mean'], 'o', color='b', alpha=0.5, label='707')\n",
    "# plt.plot(group__t_isprotected_temp.Date_YMD, group__t_isprotected_temp['mean'], 'o', color='r', alpha=1, label='group_t_is_protected')\n",
    "# plt.plot(group_t_temp.Date_YMD, group_t_temp['mean'], 'o', color='y', alpha=1, label='group_t')\n",
    "# plt.plot(yh_temp.Date_YMD, yh_temp['mean'], 'o', color='b', alpha=1, label='yh')\n",
    "# plt.plot(time_un_temp.Date_YMD, time_un_temp['mean'], 'o', color='k', alpha=0.3, label='un time - 686')\n",
    "# plt.plot(time_un2_temp.Date_YMD, time_un2_temp['mean'], 'o', color='r', alpha=0.3, label='un time - 683')\n",
    "# plt.plot(group_temp.Date_YMD, group_temp['mean'], 'o', color='r', alpha=1, label='groupby')\n",
    "# plt.plot(te_temp.Date_YMD, (te_temp['size'] - 657) * (0.35 / 178909) + 0.3, 'og', label='guide')\n",
    "plt.plot(final_temp.Date_YMD, final_temp['mean'], 'o', color='r', alpha=0.5, label='final')\n",
    "\n",
    "plt.plot(check_temp.Date_YMD, check_temp['mean'], 'o', color='k', alpha=0.8, label='check')\n",
    "# plt.plot(te_temp.Date_YMD, (te_temp['size'] - 657) * (0.3 / 178909) + 0.3, 'ok', label='guide')\n",
    "# plt.plot(hypothesis_temp.Date_YMD, hypothesis_temp['mean'], '+', color='c', alpha=1, label='hypothesis')\n",
    "plt.legend(prop={'size': 16})"
   ]
  },
  {
   "cell_type": "code",
   "execution_count": 97,
   "metadata": {
    "ExecuteTime": {
     "end_time": "2019-03-13T16:43:46.017025Z",
     "start_time": "2019-03-13T16:43:45.796613Z"
    },
    "hide_input": false,
    "scrolled": false
   },
   "outputs": [
    {
     "data": {
      "text/plain": [
       "<matplotlib.legend.Legend at 0x22011f32438>"
      ]
     },
     "execution_count": 97,
     "metadata": {},
     "output_type": "execute_result"
    },
    {
     "data": {
      "image/png": "[encoded data removed]",
      "text/plain": [
       "<Figure size 1296x576 with 1 Axes>"
      ]
     },
     "metadata": {
      "needs_background": "light"
     },
     "output_type": "display_data"
    }
   ],
   "source": [
    "plt.figure(figsize=(18, 8))\n",
    "plt.plot(tr_temp.Date_YMD, tr_temp['size'], 'o', color='b', alpha=1, label='train')\n",
    "plt.plot(te_temp.Date_YMD, te_temp['size'], 'o', color='r', alpha=1, label='train')\n",
    "# plt.plot(hypothesis_temp.Date_YMD, hypothesis_temp['size'], 'o', color='c', alpha=1, label='train')\n",
    "plt.legend(prop={'size': 16})"
   ]
  },
  {
   "cell_type": "markdown",
   "metadata": {},
   "source": [
    "## 데이터 개수 곱해버리기"
   ]
  },
  {
   "cell_type": "code",
   "execution_count": 144,
   "metadata": {
    "ExecuteTime": {
     "end_time": "2019-03-13T16:53:46.533566Z",
     "start_time": "2019-03-13T16:53:46.529576Z"
    }
   },
   "outputs": [],
   "source": [
    "te_temp['new_size'] = (te_temp['size'] - 657) * (0.27 / 178909) + 0.33"
   ]
  },
  {
   "cell_type": "code",
   "execution_count": 145,
   "metadata": {
    "ExecuteTime": {
     "end_time": "2019-03-13T16:53:46.766658Z",
     "start_time": "2019-03-13T16:53:46.535559Z"
    }
   },
   "outputs": [
    {
     "data": {
      "text/plain": [
       "[<matplotlib.lines.Line2D at 0x21a6b420908>]"
      ]
     },
     "execution_count": 145,
     "metadata": {},
     "output_type": "execute_result"
    },
    {
     "data": {
      "image/png": "[encoded data removed]",
      "text/plain": [
       "<Figure size 1296x576 with 1 Axes>"
      ]
     },
     "metadata": {
      "needs_background": "light"
     },
     "output_type": "display_data"
    }
   ],
   "source": [
    "# 최저가 0.3, 최고가 0.6\n",
    "plt.figure(figsize=(18, 8))\n",
    "plt.plot(te_temp.Date_YMD, (te_temp['size'] - 657) * (0.27 / 178909) + 0.33, 'or')\n",
    "plt.plot(lb_temp_707.Date_YMD, lb_temp_707['mean'], 'o', color='b', alpha=1, label='707')"
   ]
  },
  {
   "cell_type": "code",
   "execution_count": 146,
   "metadata": {
    "ExecuteTime": {
     "end_time": "2019-03-13T16:53:48.943633Z",
     "start_time": "2019-03-13T16:53:48.939645Z"
    }
   },
   "outputs": [],
   "source": [
    "te_temp['rate'] = te_temp.new_size / final_temp['mean']"
   ]
  },
  {
   "cell_type": "code",
   "execution_count": 147,
   "metadata": {
    "ExecuteTime": {
     "end_time": "2019-03-13T16:54:23.252293Z",
     "start_time": "2019-03-13T16:53:56.782069Z"
    }
   },
   "outputs": [],
   "source": [
    "lb_707_new = final.merge(te_temp, on='Date_YMD', how='left').fillna(1)"
   ]
  },
  {
   "cell_type": "code",
   "execution_count": 148,
   "metadata": {
    "ExecuteTime": {
     "end_time": "2019-03-13T16:54:23.337079Z",
     "start_time": "2019-03-13T16:54:23.254260Z"
    }
   },
   "outputs": [],
   "source": [
    "final['NewHasDetections'] = lb_707_new.HasDetections * lb_707_new.rate"
   ]
  },
  {
   "cell_type": "code",
   "execution_count": 149,
   "metadata": {
    "ExecuteTime": {
     "end_time": "2019-03-13T16:54:23.746937Z",
     "start_time": "2019-03-13T16:54:23.338029Z"
    }
   },
   "outputs": [],
   "source": [
    "t = final[['MachineIdentifier', 'NewHasDetections', 'Date_YMD']]"
   ]
  },
  {
   "cell_type": "code",
   "execution_count": 150,
   "metadata": {
    "ExecuteTime": {
     "end_time": "2019-03-13T16:54:23.752954Z",
     "start_time": "2019-03-13T16:54:23.748930Z"
    }
   },
   "outputs": [],
   "source": [
    "t.columns = ['MachineIdentifier', 'HasDetections', 'Date_YMD']"
   ]
  },
  {
   "cell_type": "code",
   "execution_count": 151,
   "metadata": {
    "ExecuteTime": {
     "end_time": "2019-03-13T16:54:24.008236Z",
     "start_time": "2019-03-13T16:54:23.754914Z"
    }
   },
   "outputs": [],
   "source": [
    "t_temp = t.groupby('Date_YMD').HasDetections.agg(['size', 'mean']).reset_index()"
   ]
  },
  {
   "cell_type": "code",
   "execution_count": 152,
   "metadata": {
    "ExecuteTime": {
     "end_time": "2019-03-13T16:54:24.019282Z",
     "start_time": "2019-03-13T16:54:24.009233Z"
    }
   },
   "outputs": [],
   "source": [
    "t_temp = temp.merge(t_temp, on='Date_YMD', how='left')"
   ]
  },
  {
   "cell_type": "code",
   "execution_count": 153,
   "metadata": {
    "ExecuteTime": {
     "end_time": "2019-03-13T16:54:24.383006Z",
     "start_time": "2019-03-13T16:54:24.019876Z"
    }
   },
   "outputs": [],
   "source": [
    "t_temp = t_temp[condition]"
   ]
  },
  {
   "cell_type": "code",
   "execution_count": 154,
   "metadata": {
    "ExecuteTime": {
     "end_time": "2019-03-13T16:54:24.598032Z",
     "start_time": "2019-03-13T16:54:24.383695Z"
    }
   },
   "outputs": [
    {
     "data": {
      "text/plain": [
       "<matplotlib.legend.Legend at 0x220ea17ecc0>"
      ]
     },
     "execution_count": 154,
     "metadata": {},
     "output_type": "execute_result"
    },
    {
     "data": {
      "image/png": "[encoded data removed]",
      "text/plain": [
       "<Figure size 1296x576 with 1 Axes>"
      ]
     },
     "metadata": {
      "needs_background": "light"
     },
     "output_type": "display_data"
    }
   ],
   "source": [
    "# 최저가 0.3, 최고가 0.6\n",
    "plt.figure(figsize=(18, 8))\n",
    "plt.plot(tr_temp.Date_YMD, tr_temp['mean'], 'o', color='b', alpha=0.1, label='train')\n",
    "plt.plot(lb_temp_707.Date_YMD, lb_temp_707['mean'], 'o', color='b', alpha=1, label='707')\n",
    "# plt.plot(lb_temp_707_new.Date_YMD, lb_temp_707_new['mean'], 'o', color='r', alpha=1, label='707_new')\n",
    "plt.plot(t_temp.Date_YMD, t_temp['mean'], 'o', color='r', alpha=1, label='temp')\n",
    "plt.plot(lb_temp_694.Date_YMD, lb_temp_694['mean'], 'o', color='y', alpha=1, label='694')\n",
    "plt.legend(prop={'size': 16})"
   ]
  },
  {
   "cell_type": "code",
   "execution_count": 155,
   "metadata": {
    "ExecuteTime": {
     "end_time": "2019-03-13T16:54:30.543224Z",
     "start_time": "2019-03-13T16:54:29.294543Z"
    }
   },
   "outputs": [],
   "source": [
    "test = test.reset_index(drop=True)"
   ]
  },
  {
   "cell_type": "code",
   "execution_count": 157,
   "metadata": {
    "ExecuteTime": {
     "end_time": "2019-03-13T16:54:37.312974Z",
     "start_time": "2019-03-13T16:54:37.282007Z"
    }
   },
   "outputs": [],
   "source": [
    "condition = test.Date_YMD >= '2018-11-17'"
   ]
  },
  {
   "cell_type": "code",
   "execution_count": 158,
   "metadata": {
    "ExecuteTime": {
     "end_time": "2019-03-13T16:54:43.372900Z",
     "start_time": "2019-03-13T16:54:43.001841Z"
    }
   },
   "outputs": [],
   "source": [
    "change = final[condition]\n",
    "not_change = final[~condition]"
   ]
  },
  {
   "cell_type": "code",
   "execution_count": 159,
   "metadata": {
    "ExecuteTime": {
     "end_time": "2019-03-13T16:54:46.405135Z",
     "start_time": "2019-03-13T16:54:45.866227Z"
    }
   },
   "outputs": [],
   "source": [
    "change.HasDetections = change.NewHasDetections"
   ]
  },
  {
   "cell_type": "code",
   "execution_count": 160,
   "metadata": {
    "ExecuteTime": {
     "end_time": "2019-03-13T16:54:54.585409Z",
     "start_time": "2019-03-13T16:54:47.822169Z"
    }
   },
   "outputs": [],
   "source": [
    "check = change.append(not_change).sort_values('MachineIdentifier')"
   ]
  },
  {
   "cell_type": "code",
   "execution_count": 165,
   "metadata": {
    "ExecuteTime": {
     "end_time": "2019-03-13T16:58:11.722650Z",
     "start_time": "2019-03-13T16:57:46.710807Z"
    }
   },
   "outputs": [],
   "source": [
    "check[['MachineIdentifier', 'HasDetections']].to_csv('./data/finax.csv', index=False)"
   ]
  },
  {
   "cell_type": "code",
   "execution_count": 259,
   "metadata": {
    "ExecuteTime": {
     "end_time": "2019-03-11T14:01:11.694500Z",
     "start_time": "2019-03-11T14:01:11.451151Z"
    }
   },
   "outputs": [
    {
     "data": {
      "text/plain": [
       "<matplotlib.axes._subplots.AxesSubplot at 0x1cc9a323278>"
      ]
     },
     "execution_count": 259,
     "metadata": {},
     "output_type": "execute_result"
    },
    {
     "data": {
      "image/png": "[encoded data removed]",
      "text/plain": [
       "<Figure size 432x288 with 1 Axes>"
      ]
     },
     "metadata": {
      "needs_background": "light"
     },
     "output_type": "display_data"
    }
   ],
   "source": [
    "sns.distplot(lb_707[lb_707.Date_YMD == '2018-09-01'].HasDetections)"
   ]
  },
  {
   "cell_type": "code",
   "execution_count": 261,
   "metadata": {
    "ExecuteTime": {
     "end_time": "2019-03-11T14:01:56.210755Z",
     "start_time": "2019-03-11T14:01:55.933497Z"
    }
   },
   "outputs": [
    {
     "data": {
      "text/plain": [
       "<matplotlib.axes._subplots.AxesSubplot at 0x1ccff2a7438>"
      ]
     },
     "execution_count": 261,
     "metadata": {},
     "output_type": "execute_result"
    },
    {
     "data": {
      "image/png": "[encoded data removed]",
      "text/plain": [
       "<Figure size 432x288 with 1 Axes>"
      ]
     },
     "metadata": {
      "needs_background": "light"
     },
     "output_type": "display_data"
    }
   ],
   "source": [
    "sns.distplot(lb_707[lb_707.Date_YMD == '2018-11-01'].HasDetections)"
   ]
  },
  {
   "cell_type": "code",
   "execution_count": 260,
   "metadata": {
    "ExecuteTime": {
     "end_time": "2019-03-11T14:01:36.936455Z",
     "start_time": "2019-03-11T14:01:36.670168Z"
    }
   },
   "outputs": [
    {
     "data": {
      "text/plain": [
       "<matplotlib.axes._subplots.AxesSubplot at 0x1cc9a1b6518>"
      ]
     },
     "execution_count": 260,
     "metadata": {},
     "output_type": "execute_result"
    },
    {
     "data": {
      "image/png": "[encoded data removed]",
      "text/plain": [
       "<Figure size 432x288 with 1 Axes>"
      ]
     },
     "metadata": {
      "needs_background": "light"
     },
     "output_type": "display_data"
    }
   ],
   "source": [
    "sns.distplot(lb_707[lb_707.Date_YMD == '2018-11-01'].NewHasDetections)"
   ]
  },
  {
   "cell_type": "code",
   "execution_count": null,
   "metadata": {},
   "outputs": [],
   "source": []
  },
  {
   "cell_type": "code",
   "execution_count": 111,
   "metadata": {
    "ExecuteTime": {
     "end_time": "2019-03-11T11:42:02.150721Z",
     "start_time": "2019-03-11T11:42:02.141745Z"
    }
   },
   "outputs": [],
   "source": [
    "def get_has_detections(data):\n",
    "    try:\n",
    "        if data.Date_YMD == '2018-10-25':\n",
    "            return data.HasDetections * 0.8932461873638343\n",
    "        elif data.Date_YMD == '2018-10-24':\n",
    "            return data.HasDetections *  0.946000733633222\n",
    "        elif data.Date_YMD == '2018-10-23':\n",
    "            return data.HasDetections *  0.9557970983024938\n",
    "        elif data.Date_YMD == '2018-10-22':\n",
    "            return data.HasDetections * 0.9655259079294601\n",
    "        elif data.Date_YMD == '2018-10-21':\n",
    "            return data.HasDetections * 0.9681535196547988\n",
    "        elif data.Date_YMD == '2018-10-20':\n",
    "            return data.HasDetections * 0.9655259079294601\n",
    "        else:\n",
    "            return data.HasDetections\n",
    "    except:\n",
    "        print(data)"
   ]
  },
  {
   "cell_type": "code",
   "execution_count": 176,
   "metadata": {
    "ExecuteTime": {
     "end_time": "2019-03-11T12:00:02.880758Z",
     "start_time": "2019-03-11T11:59:58.875764Z"
    }
   },
   "outputs": [],
   "source": [
    "t1 = lb_707[lb_707.Date_YMD == '2018-10-25']\n",
    "t2 = lb_707[lb_707.Date_YMD == '2018-10-24']\n",
    "t3 = lb_707[lb_707.Date_YMD == '2018-10-23']\n",
    "t4 = lb_707[lb_707.Date_YMD == '2018-10-22']\n",
    "t5 = lb_707[lb_707.Date_YMD == '2018-10-21']\n",
    "t6 = lb_707[lb_707.Date_YMD == '2018-10-20']\n",
    "t7 = lb_707[~((lb_707.Date_YMD == '2018-10-25') | (lb_707.Date_YMD == '2018-10-24') | (lb_707.Date_YMD == '2018-10-23') | (lb_707.Date_YMD == '2018-10-22')| (lb_707.Date_YMD == '2018-10-21') | (lb_707.Date_YMD == '2018-10-20'))]"
   ]
  },
  {
   "cell_type": "code",
   "execution_count": 177,
   "metadata": {
    "ExecuteTime": {
     "end_time": "2019-03-11T12:00:12.311591Z",
     "start_time": "2019-03-11T12:00:05.798920Z"
    }
   },
   "outputs": [],
   "source": [
    "t1.HasDetections = t1.HasDetections * 0.8732461873638343\n",
    "t2.HasDetections = t2.HasDetections * 0.926000733633222\n",
    "t3.HasDetections = t3.HasDetections * 0.9457970983024938\n",
    "t4.HasDetections = t4.HasDetections * 0.9555259079294601\n",
    "t5.HasDetections = t5.HasDetections * 0.9581535196547988\n",
    "t6.HasDetections = t6.HasDetections * 0.9555259079294601"
   ]
  },
  {
   "cell_type": "code",
   "execution_count": 178,
   "metadata": {
    "ExecuteTime": {
     "end_time": "2019-03-11T12:00:20.265777Z",
     "start_time": "2019-03-11T12:00:13.761244Z"
    }
   },
   "outputs": [],
   "source": [
    "temp2 = t1.append(t2).append(t3).append(t4).append(t5).append(t6).append(t7).sort_values('MachineIdentifier').reset_index(drop=True)"
   ]
  },
  {
   "cell_type": "code",
   "execution_count": 182,
   "metadata": {
    "ExecuteTime": {
     "end_time": "2019-03-11T12:00:49.271883Z",
     "start_time": "2019-03-11T12:00:48.727114Z"
    }
   },
   "outputs": [],
   "source": [
    "temp2_temp = temp2.groupby('Date_YMD').HasDetections.agg(['size', 'mean']).reset_index()"
   ]
  },
  {
   "cell_type": "code",
   "execution_count": 183,
   "metadata": {
    "ExecuteTime": {
     "end_time": "2019-03-11T12:00:49.615280Z",
     "start_time": "2019-03-11T12:00:49.604319Z"
    }
   },
   "outputs": [],
   "source": [
    "temp2_temp = temp.merge(temp2_temp, on='Date_YMD', how='left')"
   ]
  },
  {
   "cell_type": "code",
   "execution_count": 188,
   "metadata": {
    "ExecuteTime": {
     "end_time": "2019-03-11T12:01:01.218311Z",
     "start_time": "2019-03-11T12:01:01.213308Z"
    }
   },
   "outputs": [],
   "source": [
    "temp2_temp = temp2_temp[condition]"
   ]
  },
  {
   "cell_type": "code",
   "execution_count": 265,
   "metadata": {
    "ExecuteTime": {
     "end_time": "2019-03-12T01:52:36.325165Z",
     "start_time": "2019-03-12T01:52:35.773551Z"
    }
   },
   "outputs": [
    {
     "ename": "NameError",
     "evalue": "name 'temp2_temp' is not defined",
     "output_type": "error",
     "traceback": [
      "\u001b[1;31m---------------------------------------------------------------------------\u001b[0m",
      "\u001b[1;31mNameError\u001b[0m                                 Traceback (most recent call last)",
      "\u001b[1;32m<ipython-input-265-6909552469fd>\u001b[0m in \u001b[0;36m<module>\u001b[1;34m\u001b[0m\n\u001b[0;32m      5\u001b[0m \u001b[1;31m# plt.plot(lb_temp_707_new.Date_YMD, lb_temp_707_new['mean'], 'o', color='r', alpha=1, label='707_new')\u001b[0m\u001b[1;33m\u001b[0m\u001b[1;33m\u001b[0m\u001b[1;33m\u001b[0m\u001b[0m\n\u001b[0;32m      6\u001b[0m \u001b[0mplt\u001b[0m\u001b[1;33m.\u001b[0m\u001b[0mplot\u001b[0m\u001b[1;33m(\u001b[0m\u001b[0mlb_temp_694\u001b[0m\u001b[1;33m.\u001b[0m\u001b[0mDate_YMD\u001b[0m\u001b[1;33m,\u001b[0m \u001b[0mlb_temp_694\u001b[0m\u001b[1;33m[\u001b[0m\u001b[1;34m'mean'\u001b[0m\u001b[1;33m]\u001b[0m\u001b[1;33m,\u001b[0m \u001b[1;34m'o'\u001b[0m\u001b[1;33m,\u001b[0m \u001b[0mcolor\u001b[0m\u001b[1;33m=\u001b[0m\u001b[1;34m'y'\u001b[0m\u001b[1;33m,\u001b[0m \u001b[0malpha\u001b[0m\u001b[1;33m=\u001b[0m\u001b[1;36m1\u001b[0m\u001b[1;33m,\u001b[0m \u001b[0mlabel\u001b[0m\u001b[1;33m=\u001b[0m\u001b[1;34m'694'\u001b[0m\u001b[1;33m)\u001b[0m\u001b[1;33m\u001b[0m\u001b[1;33m\u001b[0m\u001b[0m\n\u001b[1;32m----> 7\u001b[1;33m \u001b[0mplt\u001b[0m\u001b[1;33m.\u001b[0m\u001b[0mplot\u001b[0m\u001b[1;33m(\u001b[0m\u001b[0mtemp2_temp\u001b[0m\u001b[1;33m.\u001b[0m\u001b[0mDate_YMD\u001b[0m\u001b[1;33m,\u001b[0m \u001b[0mtemp2_temp\u001b[0m\u001b[1;33m[\u001b[0m\u001b[1;34m'mean'\u001b[0m\u001b[1;33m]\u001b[0m\u001b[1;33m,\u001b[0m \u001b[1;34m'o'\u001b[0m\u001b[1;33m,\u001b[0m \u001b[0mcolor\u001b[0m\u001b[1;33m=\u001b[0m\u001b[1;34m'g'\u001b[0m\u001b[1;33m,\u001b[0m \u001b[0malpha\u001b[0m\u001b[1;33m=\u001b[0m\u001b[1;36m1\u001b[0m\u001b[1;33m,\u001b[0m \u001b[0mlabel\u001b[0m\u001b[1;33m=\u001b[0m\u001b[1;34m'new'\u001b[0m\u001b[1;33m)\u001b[0m\u001b[1;33m\u001b[0m\u001b[1;33m\u001b[0m\u001b[0m\n\u001b[0m\u001b[0;32m      8\u001b[0m \u001b[0mplt\u001b[0m\u001b[1;33m.\u001b[0m\u001b[0mlegend\u001b[0m\u001b[1;33m(\u001b[0m\u001b[0mprop\u001b[0m\u001b[1;33m=\u001b[0m\u001b[1;33m{\u001b[0m\u001b[1;34m'size'\u001b[0m\u001b[1;33m:\u001b[0m \u001b[1;36m16\u001b[0m\u001b[1;33m}\u001b[0m\u001b[1;33m)\u001b[0m\u001b[1;33m\u001b[0m\u001b[1;33m\u001b[0m\u001b[0m\n",
      "\u001b[1;31mNameError\u001b[0m: name 'temp2_temp' is not defined"
     ]
    },
    {
     "data": {
      "image/png": "[encoded data removed]",
      "text/plain": [
       "<Figure size 1296x576 with 1 Axes>"
      ]
     },
     "metadata": {
      "needs_background": "light"
     },
     "output_type": "display_data"
    }
   ],
   "source": [
    "# 최저가 0.3, 최고가 0.6\n",
    "plt.figure(figsize=(18, 8))\n",
    "# plt.plot(tr_temp.Date_YMD, tr_temp['mean'], 'o', color='b', alpha=0.1, label='train')\n",
    "plt.plot(lb_temp_707.Date_YMD, lb_temp_707['mean'], 'o', color='b', alpha=1, label='707')\n",
    "# plt.plot(lb_temp_707_new.Date_YMD, lb_temp_707_new['mean'], 'o', color='r', alpha=1, label='707_new')\n",
    "plt.plot(lb_temp_694.Date_YMD, lb_temp_694['mean'], 'o', color='y', alpha=1, label='694')\n",
    "plt.plot(temp2_temp.Date_YMD, temp2_temp['mean'], 'o', color='g', alpha=1, label='new')\n",
    "plt.legend(prop={'size': 16})"
   ]
  },
  {
   "cell_type": "code",
   "execution_count": 197,
   "metadata": {
    "ExecuteTime": {
     "end_time": "2019-03-11T12:07:33.554807Z",
     "start_time": "2019-03-11T12:07:07.980127Z"
    }
   },
   "outputs": [],
   "source": [
    "temp2[['MachineIdentifier', 'HasDetections']].to_csv('./data/time_test_11.csv', index=False)"
   ]
  },
  {
   "cell_type": "markdown",
   "metadata": {},
   "source": [
    "##### 회귀"
   ]
  },
  {
   "cell_type": "code",
   "execution_count": 3,
   "metadata": {
    "ExecuteTime": {
     "end_time": "2019-03-11T11:13:38.499703Z",
     "start_time": "2019-03-11T11:13:38.489730Z"
    }
   },
   "outputs": [
    {
     "ename": "NameError",
     "evalue": "name 'np' is not defined",
     "output_type": "error",
     "traceback": [
      "\u001b[1;31m---------------------------------------------------------------------------\u001b[0m",
      "\u001b[1;31mNameError\u001b[0m                                 Traceback (most recent call last)",
      "\u001b[1;32m<ipython-input-3-c50b20966665>\u001b[0m in \u001b[0;36m<module>\u001b[1;34m\u001b[0m\n\u001b[1;32m----> 1\u001b[1;33m \u001b[0mx\u001b[0m \u001b[1;33m=\u001b[0m \u001b[0mnp\u001b[0m\u001b[1;33m.\u001b[0m\u001b[0marray\u001b[0m\u001b[1;33m(\u001b[0m\u001b[0mlist\u001b[0m\u001b[1;33m(\u001b[0m\u001b[0mrange\u001b[0m\u001b[1;33m(\u001b[0m\u001b[0mte_temp\u001b[0m\u001b[1;33m.\u001b[0m\u001b[0mshape\u001b[0m\u001b[1;33m[\u001b[0m\u001b[1;36m0\u001b[0m\u001b[1;33m]\u001b[0m\u001b[1;33m)\u001b[0m\u001b[1;33m)\u001b[0m\u001b[1;33m)\u001b[0m\u001b[1;33m[\u001b[0m\u001b[1;33m:\u001b[0m\u001b[1;33m,\u001b[0m \u001b[0mnp\u001b[0m\u001b[1;33m.\u001b[0m\u001b[0mnewaxis\u001b[0m\u001b[1;33m]\u001b[0m\u001b[1;33m\u001b[0m\u001b[1;33m\u001b[0m\u001b[0m\n\u001b[0m\u001b[0;32m      2\u001b[0m \u001b[0my\u001b[0m \u001b[1;33m=\u001b[0m \u001b[0mte_temp\u001b[0m\u001b[1;33m[\u001b[0m\u001b[1;34m'size'\u001b[0m\u001b[1;33m]\u001b[0m\u001b[1;33m.\u001b[0m\u001b[0mvalues\u001b[0m\u001b[1;33m.\u001b[0m\u001b[0mtolist\u001b[0m\u001b[1;33m(\u001b[0m\u001b[1;33m)\u001b[0m\u001b[1;33m\u001b[0m\u001b[1;33m\u001b[0m\u001b[0m\n",
      "\u001b[1;31mNameError\u001b[0m: name 'np' is not defined"
     ]
    }
   ],
   "source": [
    "x = np.array(list(range(te_temp.shape[0])))[:, np.newaxis]\n",
    "y = te_temp['size'].values.tolist()"
   ]
  },
  {
   "cell_type": "code",
   "execution_count": 341,
   "metadata": {
    "ExecuteTime": {
     "end_time": "2019-03-11T11:01:30.106935Z",
     "start_time": "2019-03-11T11:01:30.102982Z"
    }
   },
   "outputs": [],
   "source": [
    "from sklearn.linear_model import LinearRegression\n",
    "from sklearn.preprocessing import PolynomialFeatures"
   ]
  },
  {
   "cell_type": "code",
   "execution_count": 349,
   "metadata": {
    "ExecuteTime": {
     "end_time": "2019-03-11T11:04:00.779066Z",
     "start_time": "2019-03-11T11:04:00.776073Z"
    }
   },
   "outputs": [],
   "source": [
    "lr = LinearRegression()\n",
    "pr = LinearRegression()"
   ]
  },
  {
   "cell_type": "code",
   "execution_count": 398,
   "metadata": {
    "ExecuteTime": {
     "end_time": "2019-03-11T11:06:57.834655Z",
     "start_time": "2019-03-11T11:06:57.830698Z"
    }
   },
   "outputs": [],
   "source": [
    "quadratic = PolynomialFeatures(degree=12)\n",
    "X_quad = quadratic.fit_transform(x)"
   ]
  },
  {
   "cell_type": "code",
   "execution_count": 399,
   "metadata": {
    "ExecuteTime": {
     "end_time": "2019-03-11T11:06:58.366881Z",
     "start_time": "2019-03-11T11:06:58.360879Z"
    }
   },
   "outputs": [
    {
     "data": {
      "text/plain": [
       "LinearRegression(copy_X=True, fit_intercept=True, n_jobs=None,\n",
       "         normalize=False)"
      ]
     },
     "execution_count": 399,
     "metadata": {},
     "output_type": "execute_result"
    }
   ],
   "source": [
    "pr.fit(X_quad, y)"
   ]
  },
  {
   "cell_type": "code",
   "execution_count": 400,
   "metadata": {
    "ExecuteTime": {
     "end_time": "2019-03-11T11:06:58.532774Z",
     "start_time": "2019-03-11T11:06:58.528810Z"
    }
   },
   "outputs": [],
   "source": [
    "y_quad_fit = pr.predict(X_quad)"
   ]
  },
  {
   "cell_type": "code",
   "execution_count": 401,
   "metadata": {
    "ExecuteTime": {
     "end_time": "2019-03-11T11:06:59.047285Z",
     "start_time": "2019-03-11T11:06:58.877198Z"
    }
   },
   "outputs": [
    {
     "data": {
      "text/plain": [
       "[<matplotlib.lines.Line2D at 0x24f9a46de48>]"
      ]
     },
     "execution_count": 401,
     "metadata": {},
     "output_type": "execute_result"
    },
    {
     "data": {
      "image/png": "[encoded data removed]",
      "text/plain": [
       "<Figure size 1296x576 with 1 Axes>"
      ]
     },
     "metadata": {
      "needs_background": "light"
     },
     "output_type": "display_data"
    }
   ],
   "source": [
    "plt.figure(figsize=(18,8))\n",
    "plt.scatter(x, y)\n",
    "plt.plot(y_quad_fit)"
   ]
  },
  {
   "cell_type": "markdown",
   "metadata": {},
   "source": [
    "## 707을 7월 25일부터 9월 14일까지"
   ]
  },
  {
   "cell_type": "code",
   "execution_count": 257,
   "metadata": {
    "ExecuteTime": {
     "end_time": "2019-03-12T01:40:47.102993Z",
     "start_time": "2019-03-12T01:40:46.017598Z"
    }
   },
   "outputs": [],
   "source": [
    "change = lb_707[(lb_707.Date_YMD >= '2018-7-25') & (lb_707.Date_YMD <= '2018-9-14')]\n",
    "not_change = lb_707[~((lb_707.Date_YMD >= '2018-07-25') & (lb_707.Date_YMD <= '2018-9-14'))]"
   ]
  },
  {
   "cell_type": "code",
   "execution_count": 258,
   "metadata": {
    "ExecuteTime": {
     "end_time": "2019-03-12T01:41:05.374524Z",
     "start_time": "2019-03-12T01:41:04.977570Z"
    }
   },
   "outputs": [],
   "source": [
    "change.HasDetections = yh[(yh.Date_YMD >= '2018-7-25') & (yh.Date_YMD <= '2018-9-14')].HasDetections * 0.3 + change.HasDetections * 0.7"
   ]
  },
  {
   "cell_type": "code",
   "execution_count": 259,
   "metadata": {
    "ExecuteTime": {
     "end_time": "2019-03-12T01:41:20.179056Z",
     "start_time": "2019-03-12T01:41:05.955227Z"
    }
   },
   "outputs": [],
   "source": [
    "check = change.append(not_change).sort_values('MachineIdentifier')"
   ]
  },
  {
   "cell_type": "code",
   "execution_count": 262,
   "metadata": {
    "ExecuteTime": {
     "end_time": "2019-03-12T01:42:52.203665Z",
     "start_time": "2019-03-12T01:41:52.677834Z"
    }
   },
   "outputs": [],
   "source": [
    "check[['MachineIdentifier', 'HasDetections']].to_csv('./data/time_test_13.csv', index=False)"
   ]
  },
  {
   "cell_type": "markdown",
   "metadata": {},
   "source": [
    "## 707을 9월 25일부터 10월 14일까지"
   ]
  },
  {
   "cell_type": "code",
   "execution_count": 271,
   "metadata": {
    "ExecuteTime": {
     "end_time": "2019-03-11T14:09:15.068842Z",
     "start_time": "2019-03-11T14:09:14.461469Z"
    }
   },
   "outputs": [],
   "source": [
    "change = lb_707[(lb_707.Date_YMD >= '2018-09-25') & (lb_707.Date_YMD <= '2018-10-14')]\n",
    "not_change = lb_707[~((lb_707.Date_YMD >= '2018-09-25') & (lb_707.Date_YMD <= '2018-10-14'))]"
   ]
  },
  {
   "cell_type": "code",
   "execution_count": 272,
   "metadata": {
    "ExecuteTime": {
     "end_time": "2019-03-11T14:09:23.195345Z",
     "start_time": "2019-03-11T14:09:22.944974Z"
    }
   },
   "outputs": [],
   "source": [
    "test = lb_707[(lb_707.Date_YMD >= '2018-09-25') & (lb_707.Date_YMD <= '2018-10-14')]"
   ]
  },
  {
   "cell_type": "code",
   "execution_count": 273,
   "metadata": {
    "ExecuteTime": {
     "end_time": "2019-03-11T14:09:36.603267Z",
     "start_time": "2019-03-11T14:09:35.894196Z"
    }
   },
   "outputs": [],
   "source": [
    "change.HasDetections = test.NewHasDetections.values"
   ]
  },
  {
   "cell_type": "code",
   "execution_count": 274,
   "metadata": {
    "ExecuteTime": {
     "end_time": "2019-03-11T14:09:48.160509Z",
     "start_time": "2019-03-11T14:09:41.150264Z"
    }
   },
   "outputs": [],
   "source": [
    "check = change.append(not_change).sort_values('MachineIdentifier')"
   ]
  },
  {
   "cell_type": "code",
   "execution_count": 282,
   "metadata": {
    "ExecuteTime": {
     "end_time": "2019-03-11T14:12:34.698419Z",
     "start_time": "2019-03-11T14:12:09.907581Z"
    }
   },
   "outputs": [],
   "source": [
    "check[['MachineIdentifier', 'HasDetections']].to_csv('./data/time_test_12.csv', index=False)"
   ]
  },
  {
   "cell_type": "markdown",
   "metadata": {},
   "source": [
    "## 707을 9월 30일부터 10월 14일까지"
   ]
  },
  {
   "cell_type": "code",
   "execution_count": 301,
   "metadata": {
    "ExecuteTime": {
     "end_time": "2019-03-11T10:35:07.962849Z",
     "start_time": "2019-03-11T10:35:07.372382Z"
    }
   },
   "outputs": [],
   "source": [
    "change = lb_707[(lb_707.Date_YMD >= '2018-09-30') & (lb_707.Date_YMD <= '2018-10-14')]\n",
    "not_change = lb_707[~((lb_707.Date_YMD >= '2018-09-30') & (lb_707.Date_YMD <= '2018-10-14'))]"
   ]
  },
  {
   "cell_type": "code",
   "execution_count": 302,
   "metadata": {
    "ExecuteTime": {
     "end_time": "2019-03-11T10:35:38.006687Z",
     "start_time": "2019-03-11T10:35:37.759030Z"
    }
   },
   "outputs": [],
   "source": [
    "test = lb_707[(lb_707.Date_YMD >= '2018-09-30') & (lb_707.Date_YMD <= '2018-10-14')]"
   ]
  },
  {
   "cell_type": "code",
   "execution_count": 304,
   "metadata": {
    "ExecuteTime": {
     "end_time": "2019-03-11T10:36:08.267596Z",
     "start_time": "2019-03-11T10:36:06.365685Z"
    }
   },
   "outputs": [],
   "source": [
    "change.HasDetections = (test.NewHasDetections.values + change.HasDetections) / 2"
   ]
  },
  {
   "cell_type": "code",
   "execution_count": 310,
   "metadata": {
    "ExecuteTime": {
     "end_time": "2019-03-11T10:40:22.070597Z",
     "start_time": "2019-03-11T10:40:14.843879Z"
    }
   },
   "outputs": [],
   "source": [
    "check = change.append(not_change).sort_values('MachineIdentifier')"
   ]
  },
  {
   "cell_type": "code",
   "execution_count": 311,
   "metadata": {
    "ExecuteTime": {
     "end_time": "2019-03-11T10:40:46.551954Z",
     "start_time": "2019-03-11T10:40:22.072541Z"
    }
   },
   "outputs": [],
   "source": [
    "check[['MachineIdentifier', 'HasDetections']].to_csv('./data/time_test_9.csv', index=False)"
   ]
  },
  {
   "cell_type": "code",
   "execution_count": null,
   "metadata": {},
   "outputs": [],
   "source": []
  },
  {
   "cell_type": "code",
   "execution_count": null,
   "metadata": {},
   "outputs": [],
   "source": []
  },
  {
   "cell_type": "markdown",
   "metadata": {},
   "source": [
    "## 706에서 8월 22일까지를 cat으로 바꿔보기"
   ]
  },
  {
   "cell_type": "code",
   "execution_count": 285,
   "metadata": {
    "ExecuteTime": {
     "end_time": "2019-03-11T10:23:33.210494Z",
     "start_time": "2019-03-11T10:23:26.836498Z"
    }
   },
   "outputs": [],
   "source": [
    "change = lb_706[(lb_706.Date_YMD >= '2018-07-25') & (lb_706.Date_YMD <= '2018-08-22')]\n",
    "not_change = lb_706[~((lb_706.Date_YMD >= '2018-07-25') & (lb_706.Date_YMD <= '2018-08-22'))]"
   ]
  },
  {
   "cell_type": "code",
   "execution_count": 288,
   "metadata": {
    "ExecuteTime": {
     "end_time": "2019-03-11T10:24:03.874789Z",
     "start_time": "2019-03-11T10:24:03.755789Z"
    }
   },
   "outputs": [],
   "source": [
    "test = lb_707[(lb_707.Date_YMD >= '2018-07-25') & (lb_707.Date_YMD <= '2018-08-22')]"
   ]
  },
  {
   "cell_type": "code",
   "execution_count": 289,
   "metadata": {
    "ExecuteTime": {
     "end_time": "2019-03-11T10:24:15.878808Z",
     "start_time": "2019-03-11T10:24:13.920164Z"
    }
   },
   "outputs": [],
   "source": [
    "change.HasDetections = test.NewHasDetections.values"
   ]
  },
  {
   "cell_type": "code",
   "execution_count": 290,
   "metadata": {
    "ExecuteTime": {
     "end_time": "2019-03-11T10:24:23.413541Z",
     "start_time": "2019-03-11T10:24:17.157430Z"
    }
   },
   "outputs": [],
   "source": [
    "check = change.append(not_change).sort_values('MachineIdentifier')"
   ]
  },
  {
   "cell_type": "code",
   "execution_count": 298,
   "metadata": {
    "ExecuteTime": {
     "end_time": "2019-03-11T10:25:37.554042Z",
     "start_time": "2019-03-11T10:25:13.985268Z"
    }
   },
   "outputs": [],
   "source": [
    "check[['MachineIdentifier', 'HasDetections']].to_csv('./data/time_test_8.csv', index=False)"
   ]
  },
  {
   "cell_type": "markdown",
   "metadata": {},
   "source": [
    "## 706에서 9월 26일부터 11월 25일까지 Hypothesis Check으로 바꿔보기"
   ]
  },
  {
   "cell_type": "code",
   "execution_count": 162,
   "metadata": {
    "ExecuteTime": {
     "end_time": "2019-03-11T09:02:07.407547Z",
     "start_time": "2019-03-11T09:02:06.899875Z"
    }
   },
   "outputs": [],
   "source": [
    "change = lb_707[(lb_707.Date_YMD >= '2018-09-26') & (lb_707.Date_YMD <= '2018-11-25')]\n",
    "not_change = lb_707[~((lb_707.Date_YMD >= '2018-09-26') & (lb_707.Date_YMD <= '2018-11-25'))]"
   ]
  },
  {
   "cell_type": "code",
   "execution_count": 163,
   "metadata": {
    "ExecuteTime": {
     "end_time": "2019-03-11T09:02:16.528356Z",
     "start_time": "2019-03-11T09:02:16.337894Z"
    }
   },
   "outputs": [],
   "source": [
    "change.HasDetections = lgb_test_result / 3"
   ]
  },
  {
   "cell_type": "code",
   "execution_count": 164,
   "metadata": {
    "ExecuteTime": {
     "end_time": "2019-03-11T09:02:24.497981Z",
     "start_time": "2019-03-11T09:02:17.607318Z"
    }
   },
   "outputs": [],
   "source": [
    "check = change.append(not_change).sort_values('MachineIdentifier')"
   ]
  },
  {
   "cell_type": "code",
   "execution_count": 122,
   "metadata": {
    "ExecuteTime": {
     "end_time": "2019-03-10T12:10:43.294401Z",
     "start_time": "2019-03-10T12:10:19.048364Z"
    }
   },
   "outputs": [],
   "source": [
    "check[['MachineIdentifier', 'HasDetections']].to_csv('./data/time_test_4.csv', index=False)"
   ]
  },
  {
   "cell_type": "markdown",
   "metadata": {},
   "source": [
    "# Crazy Method - 2달 미뤄서 훈련시켜보기 1"
   ]
  },
  {
   "cell_type": "code",
   "execution_count": 447,
   "metadata": {
    "ExecuteTime": {
     "end_time": "2019-03-12T02:50:41.237521Z",
     "start_time": "2019-03-12T02:50:40.762116Z"
    },
    "hide_input": false
   },
   "outputs": [
    {
     "data": {
      "text/plain": [
       "<matplotlib.legend.Legend at 0x1ad2b6c7dd8>"
      ]
     },
     "execution_count": 447,
     "metadata": {},
     "output_type": "execute_result"
    },
    {
     "data": {
      "image/png": "[encoded data removed]",
      "text/plain": [
       "<Figure size 1296x576 with 1 Axes>"
      ]
     },
     "metadata": {
      "needs_background": "light"
     },
     "output_type": "display_data"
    }
   ],
   "source": [
    "plt.figure(figsize=(18, 8))\n",
    "# plt.plot(tr_temp.Date_YMD, tr_temp['mean'], 'o', color='b', alpha=0.1, label='train')\n",
    "# plt.plot(lb_temp_692.Date_YMD, lb_temp_692['mean'], 'o', color='r', alpha=1, label='692')\n",
    "# plt.plot(lb_temp_694.Date_YMD, lb_temp_694['mean'], 'o', color='y', alpha=1, label='694')\n",
    "# plt.plot(lb_temp_701.Date_YMD, lb_temp_701['mean'], 'o', color='g', alpha=1, label='701')\n",
    "# plt.plot(lb_temp_702.Date_YMD, lb_temp_702['mean'], 'o', color='y', alpha=1, label='702')\n",
    "# plt.plot(lb_temp_706.Date_YMD, lb_temp_706['mean'], 'o', color='k', alpha=1, label='706')\n",
    "plt.plot(lb_temp_707.Date_YMD, lb_temp_707['mean'], 'o', color='b', alpha=1, label='707')\n",
    "# plt.plot(time_un_temp.Date_YMD, time_un_temp['mean'], 'o', color='k', alpha=1, label='un time')\n",
    "# plt.plot(group_temp.Date_YMD, group_temp['mean'], 'o', color='r', alpha=1, label='groupby')\n",
    "# plt.plot(te_temp.Date_YMD, (te_temp['size'] - 657) * (0.35 / 178909) + 0.3, 'og', label='guide')\n",
    "\n",
    "# plt.plot(check_temp.Date_YMD, check_temp['mean'], 'o', color='k', alpha=0.5, label='check')\n",
    "# plt.plot(te_temp.Date_YMD, (te_temp['size'] - 657) * (0.3 / 178909) + 0.3, 'or')\n",
    "plt.plot(hypothesis_temp.Date_YMD, hypothesis_temp['mean'], '+', color='c', alpha=1, label='guide')\n",
    "plt.legend(prop={'size': 16})"
   ]
  },
  {
   "cell_type": "markdown",
   "metadata": {
    "ExecuteTime": {
     "end_time": "2019-03-12T03:06:59.624158Z",
     "start_time": "2019-03-12T03:06:59.615791Z"
    }
   },
   "source": [
    "* Train 2018년 1월 24일 ~ 2018년 3월 24일\n",
    "* Test 2018년 3월 24일 ~ 2018년 5월 24일"
   ]
  },
  {
   "cell_type": "code",
   "execution_count": 654,
   "metadata": {
    "ExecuteTime": {
     "end_time": "2019-03-12T04:24:01.706397Z",
     "start_time": "2019-03-12T04:23:54.203366Z"
    }
   },
   "outputs": [
    {
     "data": {
      "text/plain": [
       "7"
      ]
     },
     "execution_count": 654,
     "metadata": {},
     "output_type": "execute_result"
    }
   ],
   "source": [
    "t = data[(data.Date_YMD >= '2018-03-24') & (data.Date_YMD <= '2018-09-24') & (data.Date_YMD != '2018-03-01')]\n",
    "del t['Date']\n",
    "gc.collect()"
   ]
  },
  {
   "cell_type": "code",
   "execution_count": 655,
   "metadata": {
    "ExecuteTime": {
     "end_time": "2019-03-12T04:24:08.833471Z",
     "start_time": "2019-03-12T04:24:01.711942Z"
    }
   },
   "outputs": [
    {
     "data": {
      "text/plain": [
       "7"
      ]
     },
     "execution_count": 655,
     "metadata": {},
     "output_type": "execute_result"
    }
   ],
   "source": [
    "train = t[~t.HasDetections.isna()]\n",
    "test = t[t.HasDetections.isna()]\n",
    "\n",
    "del t\n",
    "gc.collect()"
   ]
  },
  {
   "cell_type": "code",
   "execution_count": 656,
   "metadata": {
    "ExecuteTime": {
     "end_time": "2019-03-12T04:24:11.105359Z",
     "start_time": "2019-03-12T04:24:08.837688Z"
    }
   },
   "outputs": [
    {
     "data": {
      "text/plain": [
       "0"
      ]
     },
     "execution_count": 656,
     "metadata": {},
     "output_type": "execute_result"
    }
   ],
   "source": [
    "train = train[train.Date_YMD <= '2018-07-24']\n",
    "test = test[test.Date_YMD >= '2018-05-24']\n",
    "\n",
    "gc.collect()"
   ]
  },
  {
   "cell_type": "code",
   "execution_count": 657,
   "metadata": {
    "ExecuteTime": {
     "end_time": "2019-03-12T04:24:11.455184Z",
     "start_time": "2019-03-12T04:24:11.121476Z"
    }
   },
   "outputs": [],
   "source": [
    "# 2달 미루기\n",
    "train.Date_YMD = train.Date_YMD + pd.offsets.MonthOffset(2)"
   ]
  },
  {
   "cell_type": "code",
   "execution_count": 658,
   "metadata": {
    "ExecuteTime": {
     "end_time": "2019-03-12T04:24:11.479885Z",
     "start_time": "2019-03-12T04:24:11.461138Z"
    }
   },
   "outputs": [],
   "source": [
    "train.reset_index(drop=True, inplace=True)\n",
    "test.reset_index(drop=True, inplace=True)"
   ]
  },
  {
   "cell_type": "code",
   "execution_count": 659,
   "metadata": {
    "ExecuteTime": {
     "end_time": "2019-03-12T04:24:11.494118Z",
     "start_time": "2019-03-12T04:24:11.483202Z"
    }
   },
   "outputs": [
    {
     "data": {
      "text/plain": [
       "(848596, 84)"
      ]
     },
     "execution_count": 659,
     "metadata": {},
     "output_type": "execute_result"
    }
   ],
   "source": [
    "train.shape"
   ]
  },
  {
   "cell_type": "code",
   "execution_count": 660,
   "metadata": {
    "ExecuteTime": {
     "end_time": "2019-03-12T04:24:11.506799Z",
     "start_time": "2019-03-12T04:24:11.497745Z"
    }
   },
   "outputs": [
    {
     "data": {
      "text/plain": [
       "(648843, 84)"
      ]
     },
     "execution_count": 660,
     "metadata": {},
     "output_type": "execute_result"
    }
   ],
   "source": [
    "test.shape"
   ]
  },
  {
   "cell_type": "code",
   "execution_count": 661,
   "metadata": {
    "ExecuteTime": {
     "end_time": "2019-03-12T04:24:47.242217Z",
     "start_time": "2019-03-12T04:24:47.234205Z"
    }
   },
   "outputs": [],
   "source": [
    "# train.Date_YMD.value_counts().sort_index()"
   ]
  },
  {
   "cell_type": "code",
   "execution_count": 662,
   "metadata": {
    "ExecuteTime": {
     "end_time": "2019-03-12T04:24:48.577086Z",
     "start_time": "2019-03-12T04:24:48.127872Z"
    }
   },
   "outputs": [
    {
     "data": {
      "text/plain": [
       "7"
      ]
     },
     "execution_count": 662,
     "metadata": {},
     "output_type": "execute_result"
    }
   ],
   "source": [
    "del train['AvSigVersion'], test['AvSigVersion']\n",
    "gc.collect()"
   ]
  },
  {
   "cell_type": "code",
   "execution_count": 663,
   "metadata": {
    "ExecuteTime": {
     "end_time": "2019-03-12T04:24:48.893513Z",
     "start_time": "2019-03-12T04:24:48.885017Z"
    }
   },
   "outputs": [],
   "source": [
    "#1 27\n",
    "#2 10"
   ]
  },
  {
   "cell_type": "code",
   "execution_count": 664,
   "metadata": {
    "ExecuteTime": {
     "end_time": "2019-03-12T04:28:31.915322Z",
     "start_time": "2019-03-12T04:24:59.573176Z"
    }
   },
   "outputs": [
    {
     "name": "stdout",
     "output_type": "stream",
     "text": [
      "Transform all features to category.\n",
      "\n"
     ]
    },
    {
     "data": {
      "application/vnd.jupyter.widget-view+json": {
       "model_id": "d9fb9136530b427b984371114520ca12",
       "version_major": 2,
       "version_minor": 0
      },
      "text/plain": [
       "HBox(children=(IntProgress(value=0, max=81), HTML(value='')))"
      ]
     },
     "metadata": {},
     "output_type": "display_data"
    },
    {
     "name": "stdout",
     "output_type": "stream",
     "text": [
      "\n"
     ]
    }
   ],
   "source": [
    "print('Transform all features to category.\\n')\n",
    "for usecol in tqdm_notebook([col for col in train.columns if col not in ['HasDetections', 'MachineIdentifier']]):\n",
    "\n",
    "    train[usecol] = train[usecol].astype('str')\n",
    "    test[usecol] = test[usecol].astype('str')\n",
    "    \n",
    "    #Fit LabelEncoder\n",
    "    le = LabelEncoder().fit(\n",
    "            np.unique(train[usecol].unique().tolist()+\n",
    "                      test[usecol].unique().tolist()))\n",
    "\n",
    "    #At the end 0 will be used for dropped values\n",
    "    train[usecol] = le.transform(train[usecol])+1\n",
    "    test[usecol]  = le.transform(test[usecol])+1\n",
    "\n",
    "    agg_tr = (train\n",
    "              .groupby([usecol])\n",
    "              .aggregate({'MachineIdentifier':'count'})\n",
    "              .reset_index()\n",
    "              .rename({'MachineIdentifier':'Train'}, axis=1))\n",
    "    \n",
    "    agg_te = (test\n",
    "              .groupby([usecol])\n",
    "              .aggregate({'MachineIdentifier':'count'})\n",
    "              .reset_index()\n",
    "              .rename({'MachineIdentifier':'Test'}, axis=1))\n",
    "\n",
    "    agg = pd.merge(agg_tr, agg_te, on=usecol, how='outer').replace(np.nan, 0)\n",
    "\n",
    "    #Select values with more than 1000 observations\n",
    "    agg = agg[(agg['Train'] > 100)].reset_index(drop=True)\n",
    "    agg['Total'] = agg['Train'] + agg['Test']\n",
    "    #Drop unbalanced values\n",
    "    agg = agg[(agg['Train'] / (agg['Total']) > 0.2) & (agg['Train'] / (agg['Total']) < 0.8)]\n",
    "    agg[usecol+'Copy'] = agg[usecol]\n",
    "        \n",
    "    train[usecol] = (pd.merge(train[[usecol]], \n",
    "                              agg[[usecol, usecol+'Copy']], \n",
    "                              on=usecol, how='left')[usecol+'Copy']\n",
    "                     .replace(np.nan, 0).astype('int').astype('category'))\n",
    "\n",
    "    test[usecol]  = (pd.merge(test[[usecol]], \n",
    "                              agg[[usecol, usecol+'Copy']], \n",
    "                              on=usecol, how='left')[usecol+'Copy']\n",
    "                     .replace(np.nan, 0).astype('int').astype('category'))\n",
    "\n",
    "    del le, agg_tr, agg_te, agg, usecol\n",
    "    gc.collect()"
   ]
  },
  {
   "cell_type": "code",
   "execution_count": 665,
   "metadata": {
    "ExecuteTime": {
     "end_time": "2019-03-12T04:28:57.608717Z",
     "start_time": "2019-03-12T04:28:57.600603Z"
    }
   },
   "outputs": [
    {
     "data": {
      "text/plain": [
       "(848596, 83)"
      ]
     },
     "execution_count": 665,
     "metadata": {},
     "output_type": "execute_result"
    }
   ],
   "source": [
    "train.shape"
   ]
  },
  {
   "cell_type": "code",
   "execution_count": 666,
   "metadata": {
    "ExecuteTime": {
     "end_time": "2019-03-12T04:28:58.194893Z",
     "start_time": "2019-03-12T04:28:58.172382Z"
    }
   },
   "outputs": [],
   "source": [
    "y_train = np.array(train['HasDetections'])\n",
    "train_ids = train.index\n",
    "test_ids  = test.index"
   ]
  },
  {
   "cell_type": "code",
   "execution_count": 667,
   "metadata": {
    "ExecuteTime": {
     "end_time": "2019-03-12T04:28:58.907930Z",
     "start_time": "2019-03-12T04:28:58.700192Z"
    }
   },
   "outputs": [
    {
     "data": {
      "text/plain": [
       "28"
      ]
     },
     "execution_count": 667,
     "metadata": {},
     "output_type": "execute_result"
    }
   ],
   "source": [
    "del train['HasDetections'], train['MachineIdentifier'], test['MachineIdentifier'], test['HasDetections']\n",
    "gc.collect()"
   ]
  },
  {
   "cell_type": "code",
   "execution_count": 668,
   "metadata": {
    "ExecuteTime": {
     "end_time": "2019-03-12T04:28:59.313942Z",
     "start_time": "2019-03-12T04:28:59.283939Z"
    },
    "scrolled": true
   },
   "outputs": [
    {
     "name": "stdout",
     "output_type": "stream",
     "text": [
      "If you don't want use Sparse Matrix choose Kernel Version 2 to get simple solution.\n",
      "\n",
      "--------------------------------------------------------------------------------------------------------\n",
      "Transform Data to Sparse Matrix.\n",
      "Sparse Matrix can be used to fit a lot of models, eg. XGBoost, LightGBM, Random Forest, K-Means and etc.\n",
      "To concatenate Sparse Matrices by column use hstack()\n",
      "Read more about Sparse Matrix https://docs.scipy.org/doc/scipy/reference/sparse.html\n",
      "Good Luck!\n",
      "--------------------------------------------------------------------------------------------------------\n"
     ]
    }
   ],
   "source": [
    "print(\"If you don't want use Sparse Matrix choose Kernel Version 2 to get simple solution.\\n\")\n",
    "\n",
    "print('--------------------------------------------------------------------------------------------------------')\n",
    "print('Transform Data to Sparse Matrix.')\n",
    "print('Sparse Matrix can be used to fit a lot of models, eg. XGBoost, LightGBM, Random Forest, K-Means and etc.')\n",
    "print('To concatenate Sparse Matrices by column use hstack()')\n",
    "print('Read more about Sparse Matrix https://docs.scipy.org/doc/scipy/reference/sparse.html')\n",
    "print('Good Luck!')\n",
    "print('--------------------------------------------------------------------------------------------------------')\n"
   ]
  },
  {
   "cell_type": "code",
   "execution_count": 669,
   "metadata": {
    "ExecuteTime": {
     "end_time": "2019-03-12T04:29:13.016415Z",
     "start_time": "2019-03-12T04:28:59.967499Z"
    }
   },
   "outputs": [],
   "source": [
    "#Fit OneHotEncoder\n",
    "ohe = OneHotEncoder(categories='auto', sparse=True, dtype='uint8').fit(train.append(test))"
   ]
  },
  {
   "cell_type": "code",
   "execution_count": 670,
   "metadata": {
    "ExecuteTime": {
     "end_time": "2019-03-12T04:29:55.867537Z",
     "start_time": "2019-03-12T04:29:13.020526Z"
    }
   },
   "outputs": [],
   "source": [
    "#Transform data using small groups to reduce memory usage\n",
    "m = 100000\n",
    "train = vstack([ohe.transform(train[i*m:(i+1)*m]) for i in range(train.shape[0] // m + 1)])\n",
    "test  = vstack([ohe.transform(test[i*m:(i+1)*m])  for i in range(test.shape[0] // m +  1)])"
   ]
  },
  {
   "cell_type": "code",
   "execution_count": 671,
   "metadata": {
    "ExecuteTime": {
     "end_time": "2019-03-12T04:29:55.881941Z",
     "start_time": "2019-03-12T04:29:55.869531Z"
    }
   },
   "outputs": [
    {
     "data": {
      "text/plain": [
       "(848596, 7239)"
      ]
     },
     "execution_count": 671,
     "metadata": {},
     "output_type": "execute_result"
    }
   ],
   "source": [
    "train.shape"
   ]
  },
  {
   "cell_type": "code",
   "execution_count": 672,
   "metadata": {
    "ExecuteTime": {
     "end_time": "2019-03-12T04:29:55.893736Z",
     "start_time": "2019-03-12T04:29:55.886114Z"
    }
   },
   "outputs": [
    {
     "data": {
      "text/plain": [
       "(648843, 7239)"
      ]
     },
     "execution_count": 672,
     "metadata": {},
     "output_type": "execute_result"
    }
   ],
   "source": [
    "test.shape"
   ]
  },
  {
   "cell_type": "code",
   "execution_count": 673,
   "metadata": {
    "ExecuteTime": {
     "end_time": "2019-03-12T04:30:29.878854Z",
     "start_time": "2019-03-12T04:29:55.896728Z"
    }
   },
   "outputs": [],
   "source": [
    "save_npz('./data_temp/train.npz', train, compressed=True)\n",
    "save_npz('./data_temp/test.npz',  test,  compressed=True)"
   ]
  },
  {
   "cell_type": "code",
   "execution_count": 674,
   "metadata": {
    "ExecuteTime": {
     "end_time": "2019-03-12T04:30:30.249800Z",
     "start_time": "2019-03-12T04:30:29.883228Z"
    }
   },
   "outputs": [
    {
     "data": {
      "text/plain": [
       "1148"
      ]
     },
     "execution_count": 674,
     "metadata": {},
     "output_type": "execute_result"
    }
   ],
   "source": [
    "del ohe, train, test\n",
    "gc.collect()"
   ]
  },
  {
   "cell_type": "code",
   "execution_count": 675,
   "metadata": {
    "ExecuteTime": {
     "end_time": "2019-03-12T04:32:13.656716Z",
     "start_time": "2019-03-12T04:32:08.967627Z"
    }
   },
   "outputs": [],
   "source": [
    "train = load_npz('./data_temp/train.npz')\n",
    "test = load_npz('./data_temp/test.npz')\n",
    "test = csr_matrix(test, dtype='float32')"
   ]
  },
  {
   "cell_type": "code",
   "execution_count": 676,
   "metadata": {
    "ExecuteTime": {
     "end_time": "2019-03-12T04:32:13.669522Z",
     "start_time": "2019-03-12T04:32:13.661120Z"
    }
   },
   "outputs": [
    {
     "data": {
      "text/plain": [
       "(848596, 7239)"
      ]
     },
     "execution_count": 676,
     "metadata": {},
     "output_type": "execute_result"
    }
   ],
   "source": [
    "train.shape"
   ]
  },
  {
   "cell_type": "code",
   "execution_count": 677,
   "metadata": {
    "ExecuteTime": {
     "end_time": "2019-03-12T04:32:13.681349Z",
     "start_time": "2019-03-12T04:32:13.671953Z"
    }
   },
   "outputs": [
    {
     "data": {
      "text/plain": [
       "(648843, 7239)"
      ]
     },
     "execution_count": 677,
     "metadata": {},
     "output_type": "execute_result"
    }
   ],
   "source": [
    "test.shape"
   ]
  },
  {
   "cell_type": "code",
   "execution_count": 678,
   "metadata": {
    "ExecuteTime": {
     "end_time": "2019-03-12T04:32:15.147009Z",
     "start_time": "2019-03-12T04:32:15.123934Z"
    }
   },
   "outputs": [],
   "source": [
    "skf = StratifiedKFold(n_splits=3, shuffle=True, random_state=42)\n",
    "skf.get_n_splits(train_ids, y_train)\n",
    "\n",
    "lgb_test_result  = np.zeros(test_ids.shape[0])\n",
    "lgb_train_result = np.zeros(train_ids.shape[0])\n",
    "counter = 0"
   ]
  },
  {
   "cell_type": "code",
   "execution_count": 679,
   "metadata": {
    "ExecuteTime": {
     "end_time": "2019-03-12T04:45:04.048171Z",
     "start_time": "2019-03-12T04:32:15.677699Z"
    },
    "scrolled": false
   },
   "outputs": [
    {
     "name": "stdout",
     "output_type": "stream",
     "text": [
      "\n",
      "LightGBM\n",
      "\n",
      "Fold 1\n",
      "\n",
      "fitting\n",
      "Training until validation scores don't improve for 100 rounds.\n",
      "[100]\tvalid_0's auc: 0.67525\tvalid_0's binary_logloss: 0.600339\n",
      "[200]\tvalid_0's auc: 0.683175\tvalid_0's binary_logloss: 0.595639\n",
      "[300]\tvalid_0's auc: 0.685624\tvalid_0's binary_logloss: 0.594195\n",
      "[400]\tvalid_0's auc: 0.686644\tvalid_0's binary_logloss: 0.593592\n",
      "[500]\tvalid_0's auc: 0.687237\tvalid_0's binary_logloss: 0.593235\n",
      "[600]\tvalid_0's auc: 0.687691\tvalid_0's binary_logloss: 0.592946\n",
      "[700]\tvalid_0's auc: 0.688021\tvalid_0's binary_logloss: 0.592736\n",
      "[800]\tvalid_0's auc: 0.688288\tvalid_0's binary_logloss: 0.592562\n",
      "[900]\tvalid_0's auc: 0.688537\tvalid_0's binary_logloss: 0.592408\n",
      "[1000]\tvalid_0's auc: 0.688733\tvalid_0's binary_logloss: 0.592279\n",
      "[1100]\tvalid_0's auc: 0.68883\tvalid_0's binary_logloss: 0.592204\n",
      "[1200]\tvalid_0's auc: 0.688964\tvalid_0's binary_logloss: 0.592127\n",
      "[1300]\tvalid_0's auc: 0.689019\tvalid_0's binary_logloss: 0.592072\n",
      "[1400]\tvalid_0's auc: 0.689092\tvalid_0's binary_logloss: 0.592011\n",
      "[1500]\tvalid_0's auc: 0.689171\tvalid_0's binary_logloss: 0.591943\n",
      "[1600]\tvalid_0's auc: 0.689252\tvalid_0's binary_logloss: 0.59189\n",
      "[1700]\tvalid_0's auc: 0.689266\tvalid_0's binary_logloss: 0.591878\n",
      "Early stopping, best iteration is:\n",
      "[1639]\tvalid_0's auc: 0.689283\tvalid_0's binary_logloss: 0.591874\n",
      "predicting\n",
      "Fold 2\n",
      "\n",
      "fitting\n",
      "Training until validation scores don't improve for 100 rounds.\n",
      "[100]\tvalid_0's auc: 0.675292\tvalid_0's binary_logloss: 0.600282\n",
      "[200]\tvalid_0's auc: 0.682496\tvalid_0's binary_logloss: 0.595797\n",
      "[300]\tvalid_0's auc: 0.684956\tvalid_0's binary_logloss: 0.594324\n",
      "[400]\tvalid_0's auc: 0.686069\tvalid_0's binary_logloss: 0.593673\n",
      "[500]\tvalid_0's auc: 0.686677\tvalid_0's binary_logloss: 0.593297\n",
      "[600]\tvalid_0's auc: 0.686993\tvalid_0's binary_logloss: 0.593079\n",
      "[700]\tvalid_0's auc: 0.687261\tvalid_0's binary_logloss: 0.59291\n",
      "[800]\tvalid_0's auc: 0.68751\tvalid_0's binary_logloss: 0.592728\n",
      "[900]\tvalid_0's auc: 0.687685\tvalid_0's binary_logloss: 0.592616\n",
      "[1000]\tvalid_0's auc: 0.687893\tvalid_0's binary_logloss: 0.592486\n",
      "[1100]\tvalid_0's auc: 0.688131\tvalid_0's binary_logloss: 0.592351\n",
      "[1200]\tvalid_0's auc: 0.688184\tvalid_0's binary_logloss: 0.592302\n",
      "[1300]\tvalid_0's auc: 0.688249\tvalid_0's binary_logloss: 0.592254\n",
      "[1400]\tvalid_0's auc: 0.688275\tvalid_0's binary_logloss: 0.592224\n",
      "[1500]\tvalid_0's auc: 0.688313\tvalid_0's binary_logloss: 0.592179\n",
      "Early stopping, best iteration is:\n",
      "[1462]\tvalid_0's auc: 0.688353\tvalid_0's binary_logloss: 0.592169\n",
      "predicting\n",
      "Fold 3\n",
      "\n",
      "fitting\n",
      "Training until validation scores don't improve for 100 rounds.\n",
      "[100]\tvalid_0's auc: 0.675474\tvalid_0's binary_logloss: 0.600071\n",
      "[200]\tvalid_0's auc: 0.683009\tvalid_0's binary_logloss: 0.5955\n",
      "[300]\tvalid_0's auc: 0.685438\tvalid_0's binary_logloss: 0.594059\n",
      "[400]\tvalid_0's auc: 0.686418\tvalid_0's binary_logloss: 0.593447\n",
      "[500]\tvalid_0's auc: 0.68711\tvalid_0's binary_logloss: 0.593048\n",
      "[600]\tvalid_0's auc: 0.687529\tvalid_0's binary_logloss: 0.592766\n",
      "[700]\tvalid_0's auc: 0.687853\tvalid_0's binary_logloss: 0.592544\n",
      "[800]\tvalid_0's auc: 0.68807\tvalid_0's binary_logloss: 0.592403\n",
      "[900]\tvalid_0's auc: 0.688199\tvalid_0's binary_logloss: 0.592305\n",
      "[1000]\tvalid_0's auc: 0.688387\tvalid_0's binary_logloss: 0.59218\n",
      "[1100]\tvalid_0's auc: 0.688489\tvalid_0's binary_logloss: 0.592101\n",
      "[1200]\tvalid_0's auc: 0.688705\tvalid_0's binary_logloss: 0.591964\n",
      "[1300]\tvalid_0's auc: 0.68882\tvalid_0's binary_logloss: 0.591885\n",
      "[1400]\tvalid_0's auc: 0.688914\tvalid_0's binary_logloss: 0.591825\n",
      "[1500]\tvalid_0's auc: 0.688992\tvalid_0's binary_logloss: 0.591788\n",
      "[1600]\tvalid_0's auc: 0.689002\tvalid_0's binary_logloss: 0.59177\n",
      "[1700]\tvalid_0's auc: 0.689041\tvalid_0's binary_logloss: 0.591766\n",
      "[1800]\tvalid_0's auc: 0.689087\tvalid_0's binary_logloss: 0.591725\n",
      "[1900]\tvalid_0's auc: 0.68906\tvalid_0's binary_logloss: 0.591725\n",
      "Early stopping, best iteration is:\n",
      "[1826]\tvalid_0's auc: 0.689122\tvalid_0's binary_logloss: 0.591702\n",
      "predicting\n"
     ]
    }
   ],
   "source": [
    "print('\\nLightGBM\\n')\n",
    "\n",
    "for train_index, test_index in skf.split(train_ids, y_train):\n",
    "    \n",
    "    print('Fold {}\\n'.format(counter + 1))\n",
    "    \n",
    "    X_fit = vstack([train[train_index[i*m:(i+1)*m]] for i in range(train_index.shape[0] // m + 1)])\n",
    "    X_val = vstack([train[test_index[i*m:(i+1)*m]]  for i in range(test_index.shape[0] //  m + 1)])\n",
    "    X_fit, X_val = csr_matrix(X_fit, dtype='float32'), csr_matrix(X_val, dtype='float32')\n",
    "    y_fit, y_val = y_train[train_index], y_train[test_index]\n",
    "    \n",
    "    gc.collect()\n",
    "\n",
    "    lgb_model = lgb.LGBMClassifier(max_depth=-1,\n",
    "                                   n_estimators=30000,\n",
    "                                   learning_rate=0.05,\n",
    "                                   num_leaves=2**5-1,\n",
    "                                   objective='binary', \n",
    "                                   boosting_type='gbdt',\n",
    "                                   # overfitting handling\n",
    "                                   # max_bin=120,\n",
    "                                   # lambda_l1=6,\n",
    "                                   # lambda_l2=2,\n",
    "                                   save_binary=True,\n",
    "                                   feature_fraction=0.8,\n",
    "                                   feature_fraction_seed=42,\n",
    "                                   n_jobs=-1)\n",
    "    \n",
    "    print(\"fitting\")\n",
    "    lgb_model.fit(X_fit, y_fit, eval_metric='auc', \n",
    "                  eval_set=[(X_val, y_val)], \n",
    "                  verbose=100, early_stopping_rounds=100)\n",
    "    \n",
    "    del X_fit, X_val, y_fit, y_val, train_index, test_index\n",
    "    gc.collect()\n",
    "    \n",
    "    print(\"predicting\")\n",
    "    lgb_test_result += lgb_model.predict_proba(test)[:,1]\n",
    "    counter += 1\n",
    "    \n",
    "    gc.collect()"
   ]
  },
  {
   "cell_type": "code",
   "execution_count": 680,
   "metadata": {
    "ExecuteTime": {
     "end_time": "2019-03-12T04:45:51.454130Z",
     "start_time": "2019-03-12T04:45:51.433131Z"
    }
   },
   "outputs": [
    {
     "data": {
      "text/plain": [
       "array([0.40469891, 0.40093989, 0.18747329, ..., 0.2869779 , 0.43773369,\n",
       "       0.4879009 ])"
      ]
     },
     "execution_count": 680,
     "metadata": {},
     "output_type": "execute_result"
    }
   ],
   "source": [
    "lgb_test_result/3"
   ]
  },
  {
   "cell_type": "code",
   "execution_count": 681,
   "metadata": {
    "ExecuteTime": {
     "end_time": "2019-03-12T04:46:43.624869Z",
     "start_time": "2019-03-12T04:46:41.568306Z"
    }
   },
   "outputs": [],
   "source": [
    "change = lb_707[(lb_707.Date_YMD >= '2018-05-24') & (lb_707.Date_YMD <= '2018-09-24')]\n",
    "not_change = lb_707[~((lb_707.Date_YMD >= '2018-05-24') & (lb_707.Date_YMD <= '2018-09-24'))]"
   ]
  },
  {
   "cell_type": "code",
   "execution_count": 682,
   "metadata": {
    "ExecuteTime": {
     "end_time": "2019-03-12T04:46:43.636518Z",
     "start_time": "2019-03-12T04:46:43.628858Z"
    }
   },
   "outputs": [
    {
     "data": {
      "text/plain": [
       "((648843, 3), (648843,))"
      ]
     },
     "execution_count": 682,
     "metadata": {},
     "output_type": "execute_result"
    }
   ],
   "source": [
    "change.shape, lgb_test_result.shape"
   ]
  },
  {
   "cell_type": "code",
   "execution_count": 683,
   "metadata": {
    "ExecuteTime": {
     "end_time": "2019-03-12T04:46:47.717112Z",
     "start_time": "2019-03-12T04:46:47.474334Z"
    }
   },
   "outputs": [],
   "source": [
    "change.HasDetections = lgb_test_result / 3"
   ]
  },
  {
   "cell_type": "code",
   "execution_count": 684,
   "metadata": {
    "ExecuteTime": {
     "end_time": "2019-03-12T04:47:05.770885Z",
     "start_time": "2019-03-12T04:46:50.757224Z"
    }
   },
   "outputs": [],
   "source": [
    "check = change.append(not_change).sort_values('MachineIdentifier')"
   ]
  },
  {
   "cell_type": "code",
   "execution_count": 685,
   "metadata": {
    "ExecuteTime": {
     "end_time": "2019-03-12T04:47:07.193861Z",
     "start_time": "2019-03-12T04:47:06.035167Z"
    }
   },
   "outputs": [],
   "source": [
    "check_temp = check.groupby(['Date_YMD']).HasDetections.agg(['size', 'mean']).reset_index()\n",
    "condition_c = (check_temp.Date_YMD >= '2018-01-21')&(check_temp.Date_YMD <= '2018-09-24')\n",
    "check_temp = check_temp[condition_c]"
   ]
  },
  {
   "cell_type": "code",
   "execution_count": 688,
   "metadata": {
    "ExecuteTime": {
     "end_time": "2019-03-12T04:48:03.763998Z",
     "start_time": "2019-03-12T04:48:03.238972Z"
    },
    "hide_input": false
   },
   "outputs": [
    {
     "data": {
      "text/plain": [
       "<matplotlib.legend.Legend at 0x1ad2b12cfd0>"
      ]
     },
     "execution_count": 688,
     "metadata": {},
     "output_type": "execute_result"
    },
    {
     "data": {
      "image/png": "[encoded data removed]",
      "text/plain": [
       "<Figure size 1296x576 with 1 Axes>"
      ]
     },
     "metadata": {
      "needs_background": "light"
     },
     "output_type": "display_data"
    }
   ],
   "source": [
    "plt.figure(figsize=(18, 8))\n",
    "# plt.plot(tr_temp.Date_YMD, tr_temp['mean'], 'o', color='b', alpha=0.1, label='train')\n",
    "# plt.plot(lb_temp_692.Date_YMD, lb_temp_692['mean'], 'o', color='r', alpha=1, label='692')\n",
    "# plt.plot(lb_temp_694.Date_YMD, lb_temp_694['mean'], 'o', color='y', alpha=1, label='694')\n",
    "# plt.plot(lb_temp_701.Date_YMD, lb_temp_701['mean'], 'o', color='g', alpha=1, label='701')\n",
    "# plt.plot(lb_temp_702.Date_YMD, lb_temp_702['mean'], 'o', color='y', alpha=1, label='702')\n",
    "# plt.plot(lb_temp_706.Date_YMD, lb_temp_706['mean'], 'o', color='k', alpha=1, label='706')\n",
    "plt.plot(lb_temp_707.Date_YMD, lb_temp_707['mean'], 'o', color='b', alpha=1, label='707')\n",
    "plt.plot(time_un_temp.Date_YMD, time_un_temp['mean'], 'o', color='k', alpha=1, label='un time')\n",
    "# plt.plot(group_temp.Date_YMD, group_temp['mean'], 'o', color='r', alpha=1, label='groupby')\n",
    "# plt.plot(te_temp.Date_YMD, (te_temp['size'] - 657) * (0.35 / 178909) + 0.3, 'og', label='guide')\n",
    "\n",
    "plt.plot(check_temp.Date_YMD, check_temp['mean'], 'o', color='k', alpha=0.5, label='check')\n",
    "# plt.plot(te_temp.Date_YMD, (te_temp['size'] - 657) * (0.3 / 178909) + 0.3, 'or')\n",
    "plt.plot(hypothesis_temp.Date_YMD, hypothesis_temp['mean'], '+', color='c', alpha=1, label='guide')\n",
    "plt.legend(prop={'size': 16})"
   ]
  },
  {
   "cell_type": "markdown",
   "metadata": {
    "ExecuteTime": {
     "end_time": "2019-03-12T03:06:59.624158Z",
     "start_time": "2019-03-12T03:06:59.615791Z"
    }
   },
   "source": [
    "* Train 2018년 3월 24일 ~ 2018년 5월 24일\n",
    "* Test 2018년 5월 24일 ~ 2018년 7월 24일"
   ]
  },
  {
   "cell_type": "code",
   "execution_count": 586,
   "metadata": {
    "ExecuteTime": {
     "end_time": "2019-03-12T03:34:17.575658Z",
     "start_time": "2019-03-12T03:34:15.907356Z"
    }
   },
   "outputs": [
    {
     "data": {
      "text/plain": [
       "0"
      ]
     },
     "execution_count": 586,
     "metadata": {},
     "output_type": "execute_result"
    }
   ],
   "source": [
    "t = data[(data.Date_YMD >= '2018-03-24') & (data.Date_YMD <= '2018-07-24')]\n",
    "del t['Date']\n",
    "gc.collect()"
   ]
  },
  {
   "cell_type": "code",
   "execution_count": 587,
   "metadata": {
    "ExecuteTime": {
     "end_time": "2019-03-12T03:34:19.636485Z",
     "start_time": "2019-03-12T03:34:18.613365Z"
    }
   },
   "outputs": [
    {
     "data": {
      "text/plain": [
       "7"
      ]
     },
     "execution_count": 587,
     "metadata": {},
     "output_type": "execute_result"
    }
   ],
   "source": [
    "train = t[~t.HasDetections.isna()]\n",
    "test = t[t.HasDetections.isna()]\n",
    "\n",
    "del t\n",
    "gc.collect()"
   ]
  },
  {
   "cell_type": "code",
   "execution_count": 588,
   "metadata": {
    "ExecuteTime": {
     "end_time": "2019-03-12T03:34:20.593030Z",
     "start_time": "2019-03-12T03:34:20.085518Z"
    }
   },
   "outputs": [
    {
     "data": {
      "text/plain": [
       "0"
      ]
     },
     "execution_count": 588,
     "metadata": {},
     "output_type": "execute_result"
    }
   ],
   "source": [
    "train = train[train.Date_YMD <= '2018-05-24']\n",
    "test = test[test.Date_YMD >= '2018-05-24']\n",
    "\n",
    "gc.collect()"
   ]
  },
  {
   "cell_type": "code",
   "execution_count": 589,
   "metadata": {
    "ExecuteTime": {
     "end_time": "2019-03-12T03:34:23.642011Z",
     "start_time": "2019-03-12T03:34:23.397930Z"
    }
   },
   "outputs": [],
   "source": [
    "# 2달 미루기\n",
    "train.Date_YMD = train.Date_YMD + pd.offsets.MonthOffset(2)"
   ]
  },
  {
   "cell_type": "code",
   "execution_count": 590,
   "metadata": {
    "ExecuteTime": {
     "end_time": "2019-03-12T03:34:23.841613Z",
     "start_time": "2019-03-12T03:34:23.828194Z"
    }
   },
   "outputs": [],
   "source": [
    "train.reset_index(drop=True, inplace=True)\n",
    "test.reset_index(drop=True, inplace=True)"
   ]
  },
  {
   "cell_type": "code",
   "execution_count": 591,
   "metadata": {
    "ExecuteTime": {
     "end_time": "2019-03-12T03:34:24.227816Z",
     "start_time": "2019-03-12T03:34:24.220061Z"
    }
   },
   "outputs": [
    {
     "data": {
      "text/plain": [
       "(221297, 84)"
      ]
     },
     "execution_count": 591,
     "metadata": {},
     "output_type": "execute_result"
    }
   ],
   "source": [
    "train.shape"
   ]
  },
  {
   "cell_type": "code",
   "execution_count": 592,
   "metadata": {
    "ExecuteTime": {
     "end_time": "2019-03-12T03:34:24.603173Z",
     "start_time": "2019-03-12T03:34:24.594089Z"
    }
   },
   "outputs": [
    {
     "data": {
      "text/plain": [
       "(165564, 84)"
      ]
     },
     "execution_count": 592,
     "metadata": {},
     "output_type": "execute_result"
    }
   ],
   "source": [
    "test.shape"
   ]
  },
  {
   "cell_type": "code",
   "execution_count": 593,
   "metadata": {
    "ExecuteTime": {
     "end_time": "2019-03-12T03:34:26.625184Z",
     "start_time": "2019-03-12T03:34:26.616132Z"
    }
   },
   "outputs": [],
   "source": [
    "# train.Date_YMD.value_counts().sort_index()"
   ]
  },
  {
   "cell_type": "code",
   "execution_count": 594,
   "metadata": {
    "ExecuteTime": {
     "end_time": "2019-03-12T03:34:27.358715Z",
     "start_time": "2019-03-12T03:34:27.099517Z"
    }
   },
   "outputs": [
    {
     "data": {
      "text/plain": [
       "7"
      ]
     },
     "execution_count": 594,
     "metadata": {},
     "output_type": "execute_result"
    }
   ],
   "source": [
    "del train['AvSigVersion'], test['AvSigVersion']\n",
    "gc.collect()"
   ]
  },
  {
   "cell_type": "code",
   "execution_count": 595,
   "metadata": {
    "ExecuteTime": {
     "end_time": "2019-03-12T03:35:51.249855Z",
     "start_time": "2019-03-12T03:34:37.584615Z"
    }
   },
   "outputs": [
    {
     "name": "stdout",
     "output_type": "stream",
     "text": [
      "Transform all features to category.\n",
      "\n"
     ]
    },
    {
     "data": {
      "application/vnd.jupyter.widget-view+json": {
       "model_id": "0f7877493498468ba03d62636c3cfb33",
       "version_major": 2,
       "version_minor": 0
      },
      "text/plain": [
       "HBox(children=(IntProgress(value=0, max=81), HTML(value='')))"
      ]
     },
     "metadata": {},
     "output_type": "display_data"
    },
    {
     "name": "stdout",
     "output_type": "stream",
     "text": [
      "\n"
     ]
    }
   ],
   "source": [
    "print('Transform all features to category.\\n')\n",
    "for usecol in tqdm_notebook([col for col in train.columns if col not in ['HasDetections', 'MachineIdentifier']]):\n",
    "\n",
    "    train[usecol] = train[usecol].astype('str')\n",
    "    test[usecol] = test[usecol].astype('str')\n",
    "    \n",
    "    #Fit LabelEncoder\n",
    "    le = LabelEncoder().fit(\n",
    "            np.unique(train[usecol].unique().tolist()+\n",
    "                      test[usecol].unique().tolist()))\n",
    "\n",
    "    #At the end 0 will be used for dropped values\n",
    "    train[usecol] = le.transform(train[usecol])+1\n",
    "    test[usecol]  = le.transform(test[usecol])+1\n",
    "\n",
    "    agg_tr = (train\n",
    "              .groupby([usecol])\n",
    "              .aggregate({'MachineIdentifier':'count'})\n",
    "              .reset_index()\n",
    "              .rename({'MachineIdentifier':'Train'}, axis=1))\n",
    "    \n",
    "    agg_te = (test\n",
    "              .groupby([usecol])\n",
    "              .aggregate({'MachineIdentifier':'count'})\n",
    "              .reset_index()\n",
    "              .rename({'MachineIdentifier':'Test'}, axis=1))\n",
    "\n",
    "    agg = pd.merge(agg_tr, agg_te, on=usecol, how='outer').replace(np.nan, 0)\n",
    "\n",
    "    #Select values with more than 1000 observations\n",
    "    agg = agg[(agg['Train'] > 27)].reset_index(drop=True)\n",
    "    agg['Total'] = agg['Train'] + agg['Test']\n",
    "    #Drop unbalanced values\n",
    "    agg = agg[(agg['Train'] / (agg['Total']) > 0.2) & (agg['Train'] / (agg['Total']) < 0.8)]\n",
    "    agg[usecol+'Copy'] = agg[usecol]\n",
    "        \n",
    "    train[usecol] = (pd.merge(train[[usecol]], \n",
    "                              agg[[usecol, usecol+'Copy']], \n",
    "                              on=usecol, how='left')[usecol+'Copy']\n",
    "                     .replace(np.nan, 0).astype('int').astype('category'))\n",
    "\n",
    "    test[usecol]  = (pd.merge(test[[usecol]], \n",
    "                              agg[[usecol, usecol+'Copy']], \n",
    "                              on=usecol, how='left')[usecol+'Copy']\n",
    "                     .replace(np.nan, 0).astype('int').astype('category'))\n",
    "\n",
    "    del le, agg_tr, agg_te, agg, usecol\n",
    "    gc.collect()"
   ]
  },
  {
   "cell_type": "code",
   "execution_count": 596,
   "metadata": {
    "ExecuteTime": {
     "end_time": "2019-03-12T03:35:51.275035Z",
     "start_time": "2019-03-12T03:35:51.256036Z"
    }
   },
   "outputs": [
    {
     "data": {
      "text/plain": [
       "(221297, 83)"
      ]
     },
     "execution_count": 596,
     "metadata": {},
     "output_type": "execute_result"
    }
   ],
   "source": [
    "train.shape"
   ]
  },
  {
   "cell_type": "code",
   "execution_count": 597,
   "metadata": {
    "ExecuteTime": {
     "end_time": "2019-03-12T03:43:05.354604Z",
     "start_time": "2019-03-12T03:43:05.340321Z"
    }
   },
   "outputs": [],
   "source": [
    "y_train = np.array(train['HasDetections'])\n",
    "train_ids = train.index\n",
    "test_ids  = test.index"
   ]
  },
  {
   "cell_type": "code",
   "execution_count": 598,
   "metadata": {
    "ExecuteTime": {
     "end_time": "2019-03-12T03:43:06.187076Z",
     "start_time": "2019-03-12T03:43:05.977871Z"
    }
   },
   "outputs": [
    {
     "data": {
      "text/plain": [
       "28"
      ]
     },
     "execution_count": 598,
     "metadata": {},
     "output_type": "execute_result"
    }
   ],
   "source": [
    "del train['HasDetections'], train['MachineIdentifier'], test['MachineIdentifier'], test['HasDetections']\n",
    "gc.collect()"
   ]
  },
  {
   "cell_type": "code",
   "execution_count": 599,
   "metadata": {
    "ExecuteTime": {
     "end_time": "2019-03-12T03:43:07.420515Z",
     "start_time": "2019-03-12T03:43:07.392168Z"
    },
    "scrolled": true
   },
   "outputs": [
    {
     "name": "stdout",
     "output_type": "stream",
     "text": [
      "If you don't want use Sparse Matrix choose Kernel Version 2 to get simple solution.\n",
      "\n",
      "--------------------------------------------------------------------------------------------------------\n",
      "Transform Data to Sparse Matrix.\n",
      "Sparse Matrix can be used to fit a lot of models, eg. XGBoost, LightGBM, Random Forest, K-Means and etc.\n",
      "To concatenate Sparse Matrices by column use hstack()\n",
      "Read more about Sparse Matrix https://docs.scipy.org/doc/scipy/reference/sparse.html\n",
      "Good Luck!\n",
      "--------------------------------------------------------------------------------------------------------\n"
     ]
    }
   ],
   "source": [
    "print(\"If you don't want use Sparse Matrix choose Kernel Version 2 to get simple solution.\\n\")\n",
    "\n",
    "print('--------------------------------------------------------------------------------------------------------')\n",
    "print('Transform Data to Sparse Matrix.')\n",
    "print('Sparse Matrix can be used to fit a lot of models, eg. XGBoost, LightGBM, Random Forest, K-Means and etc.')\n",
    "print('To concatenate Sparse Matrices by column use hstack()')\n",
    "print('Read more about Sparse Matrix https://docs.scipy.org/doc/scipy/reference/sparse.html')\n",
    "print('Good Luck!')\n",
    "print('--------------------------------------------------------------------------------------------------------')\n"
   ]
  },
  {
   "cell_type": "code",
   "execution_count": 600,
   "metadata": {
    "ExecuteTime": {
     "end_time": "2019-03-12T03:43:10.956409Z",
     "start_time": "2019-03-12T03:43:07.739496Z"
    }
   },
   "outputs": [],
   "source": [
    "#Fit OneHotEncoder\n",
    "ohe = OneHotEncoder(categories='auto', sparse=True, dtype='uint8').fit(train.append(test))"
   ]
  },
  {
   "cell_type": "code",
   "execution_count": 601,
   "metadata": {
    "ExecuteTime": {
     "end_time": "2019-03-12T03:43:21.940422Z",
     "start_time": "2019-03-12T03:43:10.960580Z"
    }
   },
   "outputs": [],
   "source": [
    "#Transform data using small groups to reduce memory usage\n",
    "m = 100000\n",
    "train = vstack([ohe.transform(train[i*m:(i+1)*m]) for i in range(train.shape[0] // m + 1)])\n",
    "test  = vstack([ohe.transform(test[i*m:(i+1)*m])  for i in range(test.shape[0] // m +  1)])"
   ]
  },
  {
   "cell_type": "code",
   "execution_count": 602,
   "metadata": {
    "ExecuteTime": {
     "end_time": "2019-03-12T03:43:21.952947Z",
     "start_time": "2019-03-12T03:43:21.944563Z"
    }
   },
   "outputs": [
    {
     "data": {
      "text/plain": [
       "(221297, 6953)"
      ]
     },
     "execution_count": 602,
     "metadata": {},
     "output_type": "execute_result"
    }
   ],
   "source": [
    "train.shape"
   ]
  },
  {
   "cell_type": "code",
   "execution_count": 603,
   "metadata": {
    "ExecuteTime": {
     "end_time": "2019-03-12T03:43:21.967577Z",
     "start_time": "2019-03-12T03:43:21.958379Z"
    }
   },
   "outputs": [
    {
     "data": {
      "text/plain": [
       "(165564, 6953)"
      ]
     },
     "execution_count": 603,
     "metadata": {},
     "output_type": "execute_result"
    }
   ],
   "source": [
    "test.shape"
   ]
  },
  {
   "cell_type": "code",
   "execution_count": 604,
   "metadata": {
    "ExecuteTime": {
     "end_time": "2019-03-12T03:43:30.698671Z",
     "start_time": "2019-03-12T03:43:21.970611Z"
    }
   },
   "outputs": [],
   "source": [
    "save_npz('./data_temp/train.npz', train, compressed=True)\n",
    "save_npz('./data_temp/test.npz',  test,  compressed=True)"
   ]
  },
  {
   "cell_type": "code",
   "execution_count": 605,
   "metadata": {
    "ExecuteTime": {
     "end_time": "2019-03-12T03:43:30.938866Z",
     "start_time": "2019-03-12T03:43:30.702196Z"
    }
   },
   "outputs": [
    {
     "data": {
      "text/plain": [
       "1148"
      ]
     },
     "execution_count": 605,
     "metadata": {},
     "output_type": "execute_result"
    }
   ],
   "source": [
    "del ohe, train, test\n",
    "gc.collect()"
   ]
  },
  {
   "cell_type": "code",
   "execution_count": 606,
   "metadata": {
    "ExecuteTime": {
     "end_time": "2019-03-12T03:43:32.162278Z",
     "start_time": "2019-03-12T03:43:30.939865Z"
    }
   },
   "outputs": [],
   "source": [
    "train = load_npz('./data_temp/train.npz')\n",
    "test = load_npz('./data_temp/test.npz')\n",
    "test = csr_matrix(test, dtype='float32')"
   ]
  },
  {
   "cell_type": "code",
   "execution_count": 607,
   "metadata": {
    "ExecuteTime": {
     "end_time": "2019-03-12T03:43:32.174430Z",
     "start_time": "2019-03-12T03:43:32.166407Z"
    }
   },
   "outputs": [
    {
     "data": {
      "text/plain": [
       "(221297, 6953)"
      ]
     },
     "execution_count": 607,
     "metadata": {},
     "output_type": "execute_result"
    }
   ],
   "source": [
    "train.shape"
   ]
  },
  {
   "cell_type": "code",
   "execution_count": 608,
   "metadata": {
    "ExecuteTime": {
     "end_time": "2019-03-12T03:43:32.190311Z",
     "start_time": "2019-03-12T03:43:32.179095Z"
    }
   },
   "outputs": [
    {
     "data": {
      "text/plain": [
       "(165564, 6953)"
      ]
     },
     "execution_count": 608,
     "metadata": {},
     "output_type": "execute_result"
    }
   ],
   "source": [
    "test.shape"
   ]
  },
  {
   "cell_type": "code",
   "execution_count": 609,
   "metadata": {
    "ExecuteTime": {
     "end_time": "2019-03-12T03:43:32.207909Z",
     "start_time": "2019-03-12T03:43:32.191292Z"
    }
   },
   "outputs": [],
   "source": [
    "skf = StratifiedKFold(n_splits=3, shuffle=True, random_state=42)\n",
    "skf.get_n_splits(train_ids, y_train)\n",
    "\n",
    "lgb_test_result  = np.zeros(test_ids.shape[0])\n",
    "lgb_train_result = np.zeros(train_ids.shape[0])\n",
    "counter = 0"
   ]
  },
  {
   "cell_type": "code",
   "execution_count": 610,
   "metadata": {
    "ExecuteTime": {
     "end_time": "2019-03-12T03:45:44.618871Z",
     "start_time": "2019-03-12T03:44:12.514326Z"
    },
    "scrolled": false
   },
   "outputs": [
    {
     "name": "stdout",
     "output_type": "stream",
     "text": [
      "\n",
      "LightGBM\n",
      "\n",
      "Fold 1\n",
      "\n",
      "fitting\n",
      "Training until validation scores don't improve for 100 rounds.\n",
      "[100]\tvalid_0's auc: 0.668785\tvalid_0's binary_logloss: 0.584955\n",
      "[200]\tvalid_0's auc: 0.672469\tvalid_0's binary_logloss: 0.582787\n",
      "[300]\tvalid_0's auc: 0.673592\tvalid_0's binary_logloss: 0.582089\n",
      "[400]\tvalid_0's auc: 0.673665\tvalid_0's binary_logloss: 0.581929\n",
      "[500]\tvalid_0's auc: 0.673491\tvalid_0's binary_logloss: 0.581965\n",
      "Early stopping, best iteration is:\n",
      "[437]\tvalid_0's auc: 0.673787\tvalid_0's binary_logloss: 0.581876\n",
      "predicting\n",
      "Fold 2\n",
      "\n",
      "fitting\n",
      "Training until validation scores don't improve for 100 rounds.\n",
      "[100]\tvalid_0's auc: 0.668633\tvalid_0's binary_logloss: 0.58543\n",
      "[200]\tvalid_0's auc: 0.671839\tvalid_0's binary_logloss: 0.583272\n",
      "[300]\tvalid_0's auc: 0.672452\tvalid_0's binary_logloss: 0.582736\n",
      "[400]\tvalid_0's auc: 0.672422\tvalid_0's binary_logloss: 0.582522\n",
      "Early stopping, best iteration is:\n",
      "[358]\tvalid_0's auc: 0.672543\tvalid_0's binary_logloss: 0.582562\n",
      "predicting\n",
      "Fold 3\n",
      "\n",
      "fitting\n",
      "Training until validation scores don't improve for 100 rounds.\n",
      "[100]\tvalid_0's auc: 0.666479\tvalid_0's binary_logloss: 0.585224\n",
      "[200]\tvalid_0's auc: 0.67033\tvalid_0's binary_logloss: 0.582923\n",
      "[300]\tvalid_0's auc: 0.671387\tvalid_0's binary_logloss: 0.58223\n",
      "[400]\tvalid_0's auc: 0.67145\tvalid_0's binary_logloss: 0.582084\n",
      "[500]\tvalid_0's auc: 0.671344\tvalid_0's binary_logloss: 0.582034\n",
      "[600]\tvalid_0's auc: 0.671496\tvalid_0's binary_logloss: 0.581935\n",
      "Early stopping, best iteration is:\n",
      "[588]\tvalid_0's auc: 0.671579\tvalid_0's binary_logloss: 0.581914\n",
      "predicting\n"
     ]
    }
   ],
   "source": [
    "print('\\nLightGBM\\n')\n",
    "\n",
    "for train_index, test_index in skf.split(train_ids, y_train):\n",
    "    \n",
    "    print('Fold {}\\n'.format(counter + 1))\n",
    "    \n",
    "    X_fit = vstack([train[train_index[i*m:(i+1)*m]] for i in range(train_index.shape[0] // m + 1)])\n",
    "    X_val = vstack([train[test_index[i*m:(i+1)*m]]  for i in range(test_index.shape[0] //  m + 1)])\n",
    "    X_fit, X_val = csr_matrix(X_fit, dtype='float32'), csr_matrix(X_val, dtype='float32')\n",
    "    y_fit, y_val = y_train[train_index], y_train[test_index]\n",
    "    \n",
    "    gc.collect()\n",
    "\n",
    "    lgb_model = lgb.LGBMClassifier(max_depth=-1,\n",
    "                                   n_estimators=30000,\n",
    "                                   learning_rate=0.05,\n",
    "                                   num_leaves=2**5-1,\n",
    "                                   objective='binary', \n",
    "                                   boosting_type='gbdt',\n",
    "                                   # overfitting handling\n",
    "                                   # max_bin=120,\n",
    "                                   # lambda_l1=6,\n",
    "                                   # lambda_l2=2,\n",
    "                                   save_binary=True,\n",
    "                                   feature_fraction=0.8,\n",
    "                                   feature_fraction_seed=42,\n",
    "                                   n_jobs=-1)\n",
    "    \n",
    "    print(\"fitting\")\n",
    "    lgb_model.fit(X_fit, y_fit, eval_metric='auc', \n",
    "                  eval_set=[(X_val, y_val)], \n",
    "                  verbose=100, early_stopping_rounds=100)\n",
    "    \n",
    "    del X_fit, X_val, y_fit, y_val, train_index, test_index\n",
    "    gc.collect()\n",
    "    \n",
    "    print(\"predicting\")\n",
    "    lgb_test_result += lgb_model.predict_proba(test)[:,1]\n",
    "    counter += 1\n",
    "    \n",
    "    gc.collect()"
   ]
  },
  {
   "cell_type": "code",
   "execution_count": 611,
   "metadata": {
    "ExecuteTime": {
     "end_time": "2019-03-12T03:47:32.718405Z",
     "start_time": "2019-03-12T03:47:32.706790Z"
    }
   },
   "outputs": [
    {
     "data": {
      "text/plain": [
       "array([0.39567669, 0.26128841, 0.32241715, ..., 0.22979366, 0.25901553,\n",
       "       0.55169986])"
      ]
     },
     "execution_count": 611,
     "metadata": {},
     "output_type": "execute_result"
    }
   ],
   "source": [
    "lgb_test_result/3"
   ]
  },
  {
   "cell_type": "code",
   "execution_count": 614,
   "metadata": {
    "ExecuteTime": {
     "end_time": "2019-03-12T03:47:55.130690Z",
     "start_time": "2019-03-12T03:47:54.083334Z"
    }
   },
   "outputs": [],
   "source": [
    "change = check[(check.Date_YMD >= '2018-05-24') & (check.Date_YMD <= '2018-07-24')]\n",
    "not_change = check[~((check.Date_YMD >= '2018-05-24') & (check.Date_YMD <= '2018-07-24'))]"
   ]
  },
  {
   "cell_type": "code",
   "execution_count": 615,
   "metadata": {
    "ExecuteTime": {
     "end_time": "2019-03-12T03:47:55.725483Z",
     "start_time": "2019-03-12T03:47:55.714108Z"
    }
   },
   "outputs": [
    {
     "data": {
      "text/plain": [
       "((165564, 3), (165564,))"
      ]
     },
     "execution_count": 615,
     "metadata": {},
     "output_type": "execute_result"
    }
   ],
   "source": [
    "change.shape, lgb_test_result.shape"
   ]
  },
  {
   "cell_type": "code",
   "execution_count": 616,
   "metadata": {
    "ExecuteTime": {
     "end_time": "2019-03-12T03:47:59.749689Z",
     "start_time": "2019-03-12T03:47:59.533967Z"
    }
   },
   "outputs": [],
   "source": [
    "change.HasDetections = lgb_test_result / 3"
   ]
  },
  {
   "cell_type": "code",
   "execution_count": 641,
   "metadata": {
    "ExecuteTime": {
     "end_time": "2019-03-12T04:15:15.169644Z",
     "start_time": "2019-03-12T04:15:01.176621Z"
    }
   },
   "outputs": [],
   "source": [
    "check2 = change.append(not_change).sort_values('MachineIdentifier')"
   ]
  },
  {
   "cell_type": "code",
   "execution_count": 643,
   "metadata": {
    "ExecuteTime": {
     "end_time": "2019-03-12T04:15:16.694216Z",
     "start_time": "2019-03-12T04:15:15.447082Z"
    }
   },
   "outputs": [],
   "source": [
    "check2_temp = check2.groupby(['Date_YMD']).HasDetections.agg(['size', 'mean']).reset_index()\n",
    "condition_c = (check2_temp.Date_YMD >= '2018-01-21')&(check2_temp.Date_YMD <= '2018-09-24')\n",
    "check2_temp = check2_temp[condition_c]"
   ]
  },
  {
   "cell_type": "code",
   "execution_count": 644,
   "metadata": {
    "ExecuteTime": {
     "end_time": "2019-03-12T04:15:17.338693Z",
     "start_time": "2019-03-12T04:15:16.699006Z"
    },
    "hide_input": false
   },
   "outputs": [
    {
     "data": {
      "text/plain": [
       "<matplotlib.legend.Legend at 0x1ace46e99e8>"
      ]
     },
     "execution_count": 644,
     "metadata": {},
     "output_type": "execute_result"
    },
    {
     "data": {
      "image/png": "[encoded data removed]",
      "text/plain": [
       "<Figure size 1296x576 with 1 Axes>"
      ]
     },
     "metadata": {
      "needs_background": "light"
     },
     "output_type": "display_data"
    }
   ],
   "source": [
    "plt.figure(figsize=(18, 8))\n",
    "# plt.plot(tr_temp.Date_YMD, tr_temp['mean'], 'o', color='b', alpha=0.1, label='train')\n",
    "# plt.plot(lb_temp_692.Date_YMD, lb_temp_692['mean'], 'o', color='r', alpha=1, label='692')\n",
    "# plt.plot(lb_temp_694.Date_YMD, lb_temp_694['mean'], 'o', color='y', alpha=1, label='694')\n",
    "# plt.plot(lb_temp_701.Date_YMD, lb_temp_701['mean'], 'o', color='g', alpha=1, label='701')\n",
    "# plt.plot(lb_temp_702.Date_YMD, lb_temp_702['mean'], 'o', color='y', alpha=1, label='702')\n",
    "# plt.plot(lb_temp_706.Date_YMD, lb_temp_706['mean'], 'o', color='k', alpha=1, label='706')\n",
    "plt.plot(lb_temp_707.Date_YMD, lb_temp_707['mean'], 'o', color='b', alpha=1, label='707')\n",
    "# plt.plot(time_un_temp.Date_YMD, time_un_temp['mean'], 'o', color='k', alpha=1, label='un time')\n",
    "# plt.plot(group_temp.Date_YMD, group_temp['mean'], 'o', color='r', alpha=1, label='groupby')\n",
    "# plt.plot(te_temp.Date_YMD, (te_temp['size'] - 657) * (0.35 / 178909) + 0.3, 'og', label='guide')\n",
    "\n",
    "# plt.plot(check_temp.Date_YMD, check_temp['mean'], 'o', color='k', alpha=0.2, label='check')\n",
    "plt.plot(check2_temp.Date_YMD, check2_temp['mean'], 'o', color='k', alpha=0.5, label='check2')\n",
    "# plt.plot(te_temp.Date_YMD, (te_temp['size'] - 657) * (0.3 / 178909) + 0.3, 'or')\n",
    "plt.plot(hypothesis_temp.Date_YMD, hypothesis_temp['mean'], '+', color='c', alpha=1, label='guide')\n",
    "plt.legend(prop={'size': 16})"
   ]
  },
  {
   "cell_type": "code",
   "execution_count": 623,
   "metadata": {
    "ExecuteTime": {
     "end_time": "2019-03-12T03:49:28.481167Z",
     "start_time": "2019-03-12T03:49:27.957003Z"
    },
    "hide_input": false
   },
   "outputs": [
    {
     "data": {
      "text/plain": [
       "<matplotlib.legend.Legend at 0x1ace4da22b0>"
      ]
     },
     "execution_count": 623,
     "metadata": {},
     "output_type": "execute_result"
    },
    {
     "data": {
      "image/png": "[encoded data removed]",
      "text/plain": [
       "<Figure size 1296x576 with 1 Axes>"
      ]
     },
     "metadata": {
      "needs_background": "light"
     },
     "output_type": "display_data"
    }
   ],
   "source": [
    "plt.figure(figsize=(18, 8))\n",
    "# plt.plot(tr_temp.Date_YMD, tr_temp['mean'], 'o', color='b', alpha=0.1, label='train')\n",
    "# plt.plot(lb_temp_692.Date_YMD, lb_temp_692['mean'], 'o', color='r', alpha=1, label='692')\n",
    "# plt.plot(lb_temp_694.Date_YMD, lb_temp_694['mean'], 'o', color='y', alpha=1, label='694')\n",
    "# plt.plot(lb_temp_701.Date_YMD, lb_temp_701['mean'], 'o', color='g', alpha=1, label='701')\n",
    "# plt.plot(lb_temp_702.Date_YMD, lb_temp_702['mean'], 'o', color='y', alpha=1, label='702')\n",
    "# plt.plot(lb_temp_706.Date_YMD, lb_temp_706['mean'], 'o', color='k', alpha=1, label='706')\n",
    "plt.plot(lb_temp_707.Date_YMD, lb_temp_707['mean'], 'o', color='b', alpha=1, label='707')\n",
    "# plt.plot(time_un_temp.Date_YMD, time_un_temp['mean'], 'o', color='k', alpha=1, label='un time')\n",
    "# plt.plot(group_temp.Date_YMD, group_temp['mean'], 'o', color='r', alpha=1, label='groupby')\n",
    "# plt.plot(te_temp.Date_YMD, (te_temp['size'] - 657) * (0.35 / 178909) + 0.3, 'og', label='guide')\n",
    "\n",
    "# plt.plot(check_temp.Date_YMD, check_temp['mean'], 'o', color='k', alpha=0.2, label='check')\n",
    "plt.plot(check2_temp.Date_YMD, check2_temp['mean'], 'o', color='k', alpha=0.5, label='check2')\n",
    "# plt.plot(te_temp.Date_YMD, (te_temp['size'] - 657) * (0.3 / 178909) + 0.3, 'or')\n",
    "plt.plot(hypothesis_temp.Date_YMD, hypothesis_temp['mean'], '+', color='c', alpha=1, label='guide')\n",
    "plt.legend(prop={'size': 16})"
   ]
  },
  {
   "cell_type": "code",
   "execution_count": 628,
   "metadata": {
    "ExecuteTime": {
     "end_time": "2019-03-12T04:09:20.541698Z",
     "start_time": "2019-03-12T04:09:20.473567Z"
    }
   },
   "outputs": [
    {
     "data": {
      "text/html": [
       "<div>\n",
       "<style scoped>\n",
       "    .dataframe tbody tr th:only-of-type {\n",
       "        vertical-align: middle;\n",
       "    }\n",
       "\n",
       "    .dataframe tbody tr th {\n",
       "        vertical-align: top;\n",
       "    }\n",
       "\n",
       "    .dataframe thead th {\n",
       "        text-align: right;\n",
       "    }\n",
       "</style>\n",
       "<table border=\"1\" class=\"dataframe\">\n",
       "  <thead>\n",
       "    <tr style=\"text-align: right;\">\n",
       "      <th></th>\n",
       "      <th>MachineIdentifier</th>\n",
       "      <th>HasDetections</th>\n",
       "      <th>Date_YMD</th>\n",
       "    </tr>\n",
       "  </thead>\n",
       "  <tbody>\n",
       "    <tr>\n",
       "      <th>0</th>\n",
       "      <td>0000010489e3af074adeac69c53e555e</td>\n",
       "      <td>0.506743</td>\n",
       "      <td>2018-11-20</td>\n",
       "    </tr>\n",
       "    <tr>\n",
       "      <th>1</th>\n",
       "      <td>00000176ac758d54827acd545b6315a5</td>\n",
       "      <td>0.515043</td>\n",
       "      <td>2018-10-22</td>\n",
       "    </tr>\n",
       "    <tr>\n",
       "      <th>2</th>\n",
       "      <td>0000019dcefc128c2d4387c1273dae1d</td>\n",
       "      <td>0.611486</td>\n",
       "      <td>2018-09-28</td>\n",
       "    </tr>\n",
       "    <tr>\n",
       "      <th>3</th>\n",
       "      <td>0000055553dc51b1295785415f1a224d</td>\n",
       "      <td>0.342288</td>\n",
       "      <td>2018-11-23</td>\n",
       "    </tr>\n",
       "    <tr>\n",
       "      <th>4</th>\n",
       "      <td>00000574cefffeca83ec8adf9285b2bf</td>\n",
       "      <td>0.465092</td>\n",
       "      <td>2018-10-21</td>\n",
       "    </tr>\n",
       "    <tr>\n",
       "      <th>5</th>\n",
       "      <td>000007ffedd31948f08e6c16da31f6d1</td>\n",
       "      <td>0.506531</td>\n",
       "      <td>2018-10-07</td>\n",
       "    </tr>\n",
       "    <tr>\n",
       "      <th>6</th>\n",
       "      <td>000008f31610018d898e5f315cdf1bd1</td>\n",
       "      <td>0.247400</td>\n",
       "      <td>2018-11-07</td>\n",
       "    </tr>\n",
       "    <tr>\n",
       "      <th>7</th>\n",
       "      <td>00000a3c447250626dbcc628c9cbc460</td>\n",
       "      <td>0.207781</td>\n",
       "      <td>2018-10-16</td>\n",
       "    </tr>\n",
       "    <tr>\n",
       "      <th>8</th>\n",
       "      <td>00000b6bf217ec9aef0f68d5c6705897</td>\n",
       "      <td>0.185144</td>\n",
       "      <td>2018-11-23</td>\n",
       "    </tr>\n",
       "    <tr>\n",
       "      <th>9</th>\n",
       "      <td>00000b8d3776b13e93ad83676a28e4aa</td>\n",
       "      <td>0.530368</td>\n",
       "      <td>2018-04-15</td>\n",
       "    </tr>\n",
       "    <tr>\n",
       "      <th>10</th>\n",
       "      <td>00000dec341e29f26b92c3be03640bdc</td>\n",
       "      <td>0.387134</td>\n",
       "      <td>2018-10-21</td>\n",
       "    </tr>\n",
       "    <tr>\n",
       "      <th>11</th>\n",
       "      <td>00000e658ce75c1e2a3bb47bcc3b08f3</td>\n",
       "      <td>0.436845</td>\n",
       "      <td>2018-11-01</td>\n",
       "    </tr>\n",
       "    <tr>\n",
       "      <th>12</th>\n",
       "      <td>0000102ff65968bbdc04b69073434b05</td>\n",
       "      <td>0.445100</td>\n",
       "      <td>2018-11-23</td>\n",
       "    </tr>\n",
       "    <tr>\n",
       "      <th>13</th>\n",
       "      <td>000011236a5dc4ff119541c42bb4287e</td>\n",
       "      <td>0.688669</td>\n",
       "      <td>2018-11-14</td>\n",
       "    </tr>\n",
       "    <tr>\n",
       "      <th>14</th>\n",
       "      <td>0000124d8811c1a5b5848c4d730cfbf8</td>\n",
       "      <td>0.270151</td>\n",
       "      <td>2018-11-23</td>\n",
       "    </tr>\n",
       "    <tr>\n",
       "      <th>15</th>\n",
       "      <td>000015a88b949c982bc80ec8e32b726d</td>\n",
       "      <td>0.435536</td>\n",
       "      <td>2018-11-24</td>\n",
       "    </tr>\n",
       "    <tr>\n",
       "      <th>16</th>\n",
       "      <td>0000187a73c37cab54bd5be81c16c71f</td>\n",
       "      <td>0.239939</td>\n",
       "      <td>2018-11-20</td>\n",
       "    </tr>\n",
       "    <tr>\n",
       "      <th>17</th>\n",
       "      <td>00001be80a499e95d5e68151b6470aa2</td>\n",
       "      <td>0.357639</td>\n",
       "      <td>2018-10-22</td>\n",
       "    </tr>\n",
       "    <tr>\n",
       "      <th>18</th>\n",
       "      <td>00001dcfc3f82d68d6eae9cad4a3e07c</td>\n",
       "      <td>0.517164</td>\n",
       "      <td>2018-10-28</td>\n",
       "    </tr>\n",
       "    <tr>\n",
       "      <th>19</th>\n",
       "      <td>00001ec5ccb1deb10e7f9facb5738bbb</td>\n",
       "      <td>0.358548</td>\n",
       "      <td>2018-10-29</td>\n",
       "    </tr>\n",
       "    <tr>\n",
       "      <th>20</th>\n",
       "      <td>00001fb4bab6f49153f8b8a8cad33557</td>\n",
       "      <td>0.285654</td>\n",
       "      <td>2018-01-13</td>\n",
       "    </tr>\n",
       "    <tr>\n",
       "      <th>21</th>\n",
       "      <td>00001fb68068b9612b7bcc8e5dd07da7</td>\n",
       "      <td>0.902387</td>\n",
       "      <td>2018-10-10</td>\n",
       "    </tr>\n",
       "    <tr>\n",
       "      <th>22</th>\n",
       "      <td>0000208f0145e1b831c508fd33f4e66a</td>\n",
       "      <td>0.597198</td>\n",
       "      <td>2018-10-07</td>\n",
       "    </tr>\n",
       "    <tr>\n",
       "      <th>23</th>\n",
       "      <td>000022cd46c5714e86254b4133116bb7</td>\n",
       "      <td>0.609936</td>\n",
       "      <td>2018-10-10</td>\n",
       "    </tr>\n",
       "    <tr>\n",
       "      <th>24</th>\n",
       "      <td>00002336a5efa7665854da5c4b0f0269</td>\n",
       "      <td>0.420517</td>\n",
       "      <td>2018-09-17</td>\n",
       "    </tr>\n",
       "    <tr>\n",
       "      <th>25</th>\n",
       "      <td>000023628ce7bd01fe765c9f1a003a56</td>\n",
       "      <td>0.619152</td>\n",
       "      <td>2018-10-23</td>\n",
       "    </tr>\n",
       "    <tr>\n",
       "      <th>26</th>\n",
       "      <td>000024492167b242089b450565a650e7</td>\n",
       "      <td>0.617260</td>\n",
       "      <td>2018-10-13</td>\n",
       "    </tr>\n",
       "    <tr>\n",
       "      <th>27</th>\n",
       "      <td>00002594fa72db6c02c1deac489ea004</td>\n",
       "      <td>0.373776</td>\n",
       "      <td>2018-08-05</td>\n",
       "    </tr>\n",
       "    <tr>\n",
       "      <th>28</th>\n",
       "      <td>00002a6c8d5b34b6abfc7b73bff9c9c0</td>\n",
       "      <td>0.277839</td>\n",
       "      <td>2018-10-23</td>\n",
       "    </tr>\n",
       "    <tr>\n",
       "      <th>29</th>\n",
       "      <td>00002b6bcc3c7956f9fc002fedb89599</td>\n",
       "      <td>0.375187</td>\n",
       "      <td>2018-11-23</td>\n",
       "    </tr>\n",
       "    <tr>\n",
       "      <th>30</th>\n",
       "      <td>00002beccd9a641ba92c988f636533d6</td>\n",
       "      <td>0.183124</td>\n",
       "      <td>2018-09-28</td>\n",
       "    </tr>\n",
       "    <tr>\n",
       "      <th>31</th>\n",
       "      <td>0000308669f9083fa7383b4f627c61a2</td>\n",
       "      <td>0.607439</td>\n",
       "      <td>2018-10-10</td>\n",
       "    </tr>\n",
       "    <tr>\n",
       "      <th>32</th>\n",
       "      <td>0000329ca426eaf815bfb6e50b168ca7</td>\n",
       "      <td>0.344452</td>\n",
       "      <td>2018-10-11</td>\n",
       "    </tr>\n",
       "    <tr>\n",
       "      <th>33</th>\n",
       "      <td>000037823afada3fe53173808cab6374</td>\n",
       "      <td>0.207696</td>\n",
       "      <td>2018-10-12</td>\n",
       "    </tr>\n",
       "    <tr>\n",
       "      <th>34</th>\n",
       "      <td>000037d9ea7b7cfbf476b433586e5113</td>\n",
       "      <td>0.432016</td>\n",
       "      <td>2018-09-19</td>\n",
       "    </tr>\n",
       "    <tr>\n",
       "      <th>35</th>\n",
       "      <td>00003b98e4dbced155a5fb3eab04ce28</td>\n",
       "      <td>0.672330</td>\n",
       "      <td>2018-10-09</td>\n",
       "    </tr>\n",
       "    <tr>\n",
       "      <th>36</th>\n",
       "      <td>00003c48f2b0f68c78e82f3d18b517c7</td>\n",
       "      <td>0.549940</td>\n",
       "      <td>2018-10-09</td>\n",
       "    </tr>\n",
       "    <tr>\n",
       "      <th>37</th>\n",
       "      <td>00003c8a62e007ac98a85ef5adaa1865</td>\n",
       "      <td>0.359282</td>\n",
       "      <td>2018-10-05</td>\n",
       "    </tr>\n",
       "    <tr>\n",
       "      <th>38</th>\n",
       "      <td>00003f163bd22a7172e8655fa3bb638f</td>\n",
       "      <td>0.666044</td>\n",
       "      <td>2018-10-11</td>\n",
       "    </tr>\n",
       "    <tr>\n",
       "      <th>39</th>\n",
       "      <td>00004042973d5f920c690fbf2b175d7b</td>\n",
       "      <td>0.052430</td>\n",
       "      <td>2018-10-08</td>\n",
       "    </tr>\n",
       "    <tr>\n",
       "      <th>40</th>\n",
       "      <td>000040636c1d3217eaa78c3dc0e6ca9f</td>\n",
       "      <td>0.198819</td>\n",
       "      <td>2018-11-16</td>\n",
       "    </tr>\n",
       "    <tr>\n",
       "      <th>41</th>\n",
       "      <td>000040d0bb6095bc5b16451768177a71</td>\n",
       "      <td>0.423507</td>\n",
       "      <td>2018-10-14</td>\n",
       "    </tr>\n",
       "    <tr>\n",
       "      <th>42</th>\n",
       "      <td>00004316d7d468be75b2c330d40b3ee3</td>\n",
       "      <td>0.138373</td>\n",
       "      <td>2018-11-01</td>\n",
       "    </tr>\n",
       "    <tr>\n",
       "      <th>43</th>\n",
       "      <td>000046fde0c3bb60bb94d877f1aed51f</td>\n",
       "      <td>0.399137</td>\n",
       "      <td>2018-11-08</td>\n",
       "    </tr>\n",
       "    <tr>\n",
       "      <th>44</th>\n",
       "      <td>000047fcfba5075a43a39cc488d4a9f1</td>\n",
       "      <td>0.274868</td>\n",
       "      <td>2018-11-06</td>\n",
       "    </tr>\n",
       "    <tr>\n",
       "      <th>45</th>\n",
       "      <td>0000484c1fd0f566986d558367799d70</td>\n",
       "      <td>0.211586</td>\n",
       "      <td>2018-10-11</td>\n",
       "    </tr>\n",
       "    <tr>\n",
       "      <th>46</th>\n",
       "      <td>000049d209898e19506ae8f2431ec64e</td>\n",
       "      <td>0.351237</td>\n",
       "      <td>2018-10-18</td>\n",
       "    </tr>\n",
       "    <tr>\n",
       "      <th>47</th>\n",
       "      <td>00004a929a8abbe15a6ea584f11a2d7e</td>\n",
       "      <td>0.109434</td>\n",
       "      <td>2018-10-11</td>\n",
       "    </tr>\n",
       "    <tr>\n",
       "      <th>48</th>\n",
       "      <td>0000525b7a8f2fc01d84166b45f26b6b</td>\n",
       "      <td>0.686680</td>\n",
       "      <td>2018-10-23</td>\n",
       "    </tr>\n",
       "    <tr>\n",
       "      <th>49</th>\n",
       "      <td>00005272f40ed7235379787664f3c801</td>\n",
       "      <td>0.101450</td>\n",
       "      <td>2018-10-22</td>\n",
       "    </tr>\n",
       "    <tr>\n",
       "      <th>50</th>\n",
       "      <td>000055688c4b1d7875a8bc99d0c234f0</td>\n",
       "      <td>0.569831</td>\n",
       "      <td>2018-10-20</td>\n",
       "    </tr>\n",
       "    <tr>\n",
       "      <th>51</th>\n",
       "      <td>000055ea914f7ef72f9ad26b5cdf4195</td>\n",
       "      <td>0.442033</td>\n",
       "      <td>2018-10-11</td>\n",
       "    </tr>\n",
       "    <tr>\n",
       "      <th>52</th>\n",
       "      <td>0000561fb64f4d946f204ba29913d16b</td>\n",
       "      <td>0.520730</td>\n",
       "      <td>2018-10-14</td>\n",
       "    </tr>\n",
       "    <tr>\n",
       "      <th>53</th>\n",
       "      <td>00005e3b5150302adeccf70bdcf0aa52</td>\n",
       "      <td>0.507531</td>\n",
       "      <td>2018-08-09</td>\n",
       "    </tr>\n",
       "    <tr>\n",
       "      <th>54</th>\n",
       "      <td>00005f4864d68898cb9c63c22eafd5ee</td>\n",
       "      <td>0.290741</td>\n",
       "      <td>2018-11-05</td>\n",
       "    </tr>\n",
       "    <tr>\n",
       "      <th>55</th>\n",
       "      <td>00006154b861493f10f174f72c25fdc1</td>\n",
       "      <td>0.599717</td>\n",
       "      <td>2018-09-27</td>\n",
       "    </tr>\n",
       "    <tr>\n",
       "      <th>56</th>\n",
       "      <td>000065ad36d3a5b0943b3748ffa93fc1</td>\n",
       "      <td>0.052723</td>\n",
       "      <td>2018-11-23</td>\n",
       "    </tr>\n",
       "    <tr>\n",
       "      <th>57</th>\n",
       "      <td>0000684ebeb593a8d574293b505922cc</td>\n",
       "      <td>0.513278</td>\n",
       "      <td>2018-10-13</td>\n",
       "    </tr>\n",
       "    <tr>\n",
       "      <th>58</th>\n",
       "      <td>000068c452244499fb02b0cd0c9eb94f</td>\n",
       "      <td>0.438852</td>\n",
       "      <td>2018-10-30</td>\n",
       "    </tr>\n",
       "    <tr>\n",
       "      <th>59</th>\n",
       "      <td>00006a744f9d2238c14147b654db8899</td>\n",
       "      <td>0.522139</td>\n",
       "      <td>2018-10-11</td>\n",
       "    </tr>\n",
       "    <tr>\n",
       "      <th>60</th>\n",
       "      <td>00006e432bbb79128187560ba7c57ceb</td>\n",
       "      <td>0.604106</td>\n",
       "      <td>2018-11-16</td>\n",
       "    </tr>\n",
       "    <tr>\n",
       "      <th>61</th>\n",
       "      <td>0000786ab891c531ef0d5d5098f28930</td>\n",
       "      <td>0.270207</td>\n",
       "      <td>2018-10-18</td>\n",
       "    </tr>\n",
       "    <tr>\n",
       "      <th>62</th>\n",
       "      <td>000078e67a3f2a100429120430a18075</td>\n",
       "      <td>0.536908</td>\n",
       "      <td>2018-10-14</td>\n",
       "    </tr>\n",
       "    <tr>\n",
       "      <th>63</th>\n",
       "      <td>00007cfba1c285bb92b4fbc10ee867e5</td>\n",
       "      <td>0.243668</td>\n",
       "      <td>2018-11-17</td>\n",
       "    </tr>\n",
       "    <tr>\n",
       "      <th>64</th>\n",
       "      <td>00007d977cd6b0f21a7b497cff52b32b</td>\n",
       "      <td>0.286647</td>\n",
       "      <td>2018-09-15</td>\n",
       "    </tr>\n",
       "    <tr>\n",
       "      <th>65</th>\n",
       "      <td>00007e387347b6a2c20e252bd8de3f86</td>\n",
       "      <td>0.660067</td>\n",
       "      <td>2018-10-11</td>\n",
       "    </tr>\n",
       "    <tr>\n",
       "      <th>66</th>\n",
       "      <td>00007e926854c2c338f69d7ceb80cff3</td>\n",
       "      <td>0.356672</td>\n",
       "      <td>2018-08-07</td>\n",
       "    </tr>\n",
       "    <tr>\n",
       "      <th>67</th>\n",
       "      <td>0000805072cfea837bafe44ffc3f01df</td>\n",
       "      <td>0.148016</td>\n",
       "      <td>2018-10-21</td>\n",
       "    </tr>\n",
       "    <tr>\n",
       "      <th>68</th>\n",
       "      <td>0000837de4d8c1772b63a86a712409ed</td>\n",
       "      <td>0.576154</td>\n",
       "      <td>2018-11-22</td>\n",
       "    </tr>\n",
       "    <tr>\n",
       "      <th>69</th>\n",
       "      <td>0000842ddc228be24fdd679c9a4194ab</td>\n",
       "      <td>0.499239</td>\n",
       "      <td>2018-11-07</td>\n",
       "    </tr>\n",
       "    <tr>\n",
       "      <th>70</th>\n",
       "      <td>00008529373ccc5c6f2fd311cb03f3d4</td>\n",
       "      <td>0.728090</td>\n",
       "      <td>2018-10-15</td>\n",
       "    </tr>\n",
       "    <tr>\n",
       "      <th>71</th>\n",
       "      <td>00008887d503218e314102a1ca9d792f</td>\n",
       "      <td>0.260765</td>\n",
       "      <td>2018-10-13</td>\n",
       "    </tr>\n",
       "    <tr>\n",
       "      <th>72</th>\n",
       "      <td>00008c0e1103aa31ca48e0fa22464ae7</td>\n",
       "      <td>0.395677</td>\n",
       "      <td>2018-06-04</td>\n",
       "    </tr>\n",
       "    <tr>\n",
       "      <th>73</th>\n",
       "      <td>00008d6f5d868b09d41db74d9badcda4</td>\n",
       "      <td>0.394059</td>\n",
       "      <td>2018-11-22</td>\n",
       "    </tr>\n",
       "    <tr>\n",
       "      <th>74</th>\n",
       "      <td>00008f42abacfd7748a31fa33a3eb322</td>\n",
       "      <td>0.494454</td>\n",
       "      <td>2018-10-17</td>\n",
       "    </tr>\n",
       "    <tr>\n",
       "      <th>...</th>\n",
       "      <td>...</td>\n",
       "      <td>...</td>\n",
       "      <td>...</td>\n",
       "    </tr>\n",
       "    <tr>\n",
       "      <th>7853178</th>\n",
       "      <td>ffff5bbb4bdb4ae465b6347d7767f1a9</td>\n",
       "      <td>0.509065</td>\n",
       "      <td>2018-10-05</td>\n",
       "    </tr>\n",
       "    <tr>\n",
       "      <th>7853179</th>\n",
       "      <td>ffff5eb04e8bd4fddae8109dbf5c9df9</td>\n",
       "      <td>0.335669</td>\n",
       "      <td>2018-11-22</td>\n",
       "    </tr>\n",
       "    <tr>\n",
       "      <th>7853180</th>\n",
       "      <td>ffff5f5dcdd990e0b54f6bcce7ed3cb3</td>\n",
       "      <td>0.416456</td>\n",
       "      <td>2018-10-02</td>\n",
       "    </tr>\n",
       "    <tr>\n",
       "      <th>7853181</th>\n",
       "      <td>ffff6110cc944ddee257ec3eebb67a49</td>\n",
       "      <td>0.413364</td>\n",
       "      <td>2018-10-05</td>\n",
       "    </tr>\n",
       "    <tr>\n",
       "      <th>7853182</th>\n",
       "      <td>ffff65a85c21a478b1fbfac000a23924</td>\n",
       "      <td>0.393267</td>\n",
       "      <td>2018-09-20</td>\n",
       "    </tr>\n",
       "    <tr>\n",
       "      <th>7853183</th>\n",
       "      <td>ffff65bb6057b5f7f7555211b453b645</td>\n",
       "      <td>0.829053</td>\n",
       "      <td>2018-10-19</td>\n",
       "    </tr>\n",
       "    <tr>\n",
       "      <th>7853184</th>\n",
       "      <td>ffff660f43af7e2718637f6c77597d6a</td>\n",
       "      <td>0.317172</td>\n",
       "      <td>2018-10-22</td>\n",
       "    </tr>\n",
       "    <tr>\n",
       "      <th>7853185</th>\n",
       "      <td>ffff673ed1c806dc89fb8caf8b6dc89b</td>\n",
       "      <td>0.314695</td>\n",
       "      <td>2018-11-23</td>\n",
       "    </tr>\n",
       "    <tr>\n",
       "      <th>7853186</th>\n",
       "      <td>ffff6832e05327074d3250c6176a615d</td>\n",
       "      <td>0.366989</td>\n",
       "      <td>2018-10-08</td>\n",
       "    </tr>\n",
       "    <tr>\n",
       "      <th>7853187</th>\n",
       "      <td>ffff6b1df04c9f9996ee5a63f77486a2</td>\n",
       "      <td>0.519549</td>\n",
       "      <td>2018-10-24</td>\n",
       "    </tr>\n",
       "    <tr>\n",
       "      <th>7853188</th>\n",
       "      <td>ffff6bb1c80157cd93aea48f6e52ccaf</td>\n",
       "      <td>0.386165</td>\n",
       "      <td>2018-10-15</td>\n",
       "    </tr>\n",
       "    <tr>\n",
       "      <th>7853189</th>\n",
       "      <td>ffff723a30196b2a9a9e7fa2dae28f02</td>\n",
       "      <td>0.311453</td>\n",
       "      <td>2018-10-07</td>\n",
       "    </tr>\n",
       "    <tr>\n",
       "      <th>7853190</th>\n",
       "      <td>ffff72d6a8b804f90e2ea199eecfe113</td>\n",
       "      <td>0.479741</td>\n",
       "      <td>2018-10-27</td>\n",
       "    </tr>\n",
       "    <tr>\n",
       "      <th>7853191</th>\n",
       "      <td>ffff741905866b9d0d01edf7d9f7353a</td>\n",
       "      <td>0.432351</td>\n",
       "      <td>2018-10-27</td>\n",
       "    </tr>\n",
       "    <tr>\n",
       "      <th>7853192</th>\n",
       "      <td>ffff78ec305b07afa25e94d1695fbce6</td>\n",
       "      <td>0.559410</td>\n",
       "      <td>2018-11-05</td>\n",
       "    </tr>\n",
       "    <tr>\n",
       "      <th>7853193</th>\n",
       "      <td>ffff792a2bdc329c57a52f302ae9911d</td>\n",
       "      <td>0.338534</td>\n",
       "      <td>2018-10-06</td>\n",
       "    </tr>\n",
       "    <tr>\n",
       "      <th>7853194</th>\n",
       "      <td>ffff79e4c8f1bbdc454d04c1fdebcff5</td>\n",
       "      <td>0.368062</td>\n",
       "      <td>2018-11-08</td>\n",
       "    </tr>\n",
       "    <tr>\n",
       "      <th>7853195</th>\n",
       "      <td>ffff7b7577b37552c6adbf4b0dcbdf21</td>\n",
       "      <td>0.497058</td>\n",
       "      <td>2018-11-14</td>\n",
       "    </tr>\n",
       "    <tr>\n",
       "      <th>7853196</th>\n",
       "      <td>ffff7d73773851d8e71ef9437d2dcdb3</td>\n",
       "      <td>0.414218</td>\n",
       "      <td>2018-10-07</td>\n",
       "    </tr>\n",
       "    <tr>\n",
       "      <th>7853197</th>\n",
       "      <td>ffff7defa848b9acdb0ad31b20b3f547</td>\n",
       "      <td>0.704378</td>\n",
       "      <td>2018-10-07</td>\n",
       "    </tr>\n",
       "    <tr>\n",
       "      <th>7853198</th>\n",
       "      <td>ffff7f7d957d1dcae53db529fa30eca3</td>\n",
       "      <td>0.574208</td>\n",
       "      <td>2018-10-01</td>\n",
       "    </tr>\n",
       "    <tr>\n",
       "      <th>7853199</th>\n",
       "      <td>ffff7ff6926edd56029374e54d6cb295</td>\n",
       "      <td>0.190821</td>\n",
       "      <td>2018-10-02</td>\n",
       "    </tr>\n",
       "    <tr>\n",
       "      <th>7853200</th>\n",
       "      <td>ffff82d4d3978cb778a74f1f6012e223</td>\n",
       "      <td>0.429619</td>\n",
       "      <td>2018-10-22</td>\n",
       "    </tr>\n",
       "    <tr>\n",
       "      <th>7853201</th>\n",
       "      <td>ffff8302491747c9f2b4b480222ee2a5</td>\n",
       "      <td>0.689827</td>\n",
       "      <td>2018-09-30</td>\n",
       "    </tr>\n",
       "    <tr>\n",
       "      <th>7853202</th>\n",
       "      <td>ffff852af6350f9d0c272e0edd1a8da3</td>\n",
       "      <td>0.600486</td>\n",
       "      <td>2018-10-23</td>\n",
       "    </tr>\n",
       "    <tr>\n",
       "      <th>7853203</th>\n",
       "      <td>ffff88bc9f1c2208fde621a2bb4aff2a</td>\n",
       "      <td>0.259016</td>\n",
       "      <td>2018-05-29</td>\n",
       "    </tr>\n",
       "    <tr>\n",
       "      <th>7853204</th>\n",
       "      <td>ffff8f9f0b4705aed62dd3ed36490c44</td>\n",
       "      <td>0.242959</td>\n",
       "      <td>2018-11-20</td>\n",
       "    </tr>\n",
       "    <tr>\n",
       "      <th>7853205</th>\n",
       "      <td>ffff8fbff49f813b9d5ca6739805ffff</td>\n",
       "      <td>0.411909</td>\n",
       "      <td>2018-10-16</td>\n",
       "    </tr>\n",
       "    <tr>\n",
       "      <th>7853206</th>\n",
       "      <td>ffff98ffbe2b368dc1ad3a47e34014f0</td>\n",
       "      <td>0.619743</td>\n",
       "      <td>2018-11-24</td>\n",
       "    </tr>\n",
       "    <tr>\n",
       "      <th>7853207</th>\n",
       "      <td>ffff9a852e95ff9443cde29b12f04078</td>\n",
       "      <td>0.413467</td>\n",
       "      <td>2018-11-01</td>\n",
       "    </tr>\n",
       "    <tr>\n",
       "      <th>7853208</th>\n",
       "      <td>ffff9afbfdeef06a8ccc4e558c89b34b</td>\n",
       "      <td>0.818120</td>\n",
       "      <td>2018-11-07</td>\n",
       "    </tr>\n",
       "    <tr>\n",
       "      <th>7853209</th>\n",
       "      <td>ffff9bb8d05e05100d117547e101c8fd</td>\n",
       "      <td>0.641394</td>\n",
       "      <td>2018-11-19</td>\n",
       "    </tr>\n",
       "    <tr>\n",
       "      <th>7853210</th>\n",
       "      <td>ffff9f8390fcc6936fcb90783cadc4df</td>\n",
       "      <td>0.210971</td>\n",
       "      <td>2018-10-07</td>\n",
       "    </tr>\n",
       "    <tr>\n",
       "      <th>7853211</th>\n",
       "      <td>ffffa04d55edfde48c5be22ebfe147b1</td>\n",
       "      <td>0.435894</td>\n",
       "      <td>2018-03-01</td>\n",
       "    </tr>\n",
       "    <tr>\n",
       "      <th>7853212</th>\n",
       "      <td>ffffa79f1c00825707749b70cf459392</td>\n",
       "      <td>0.300956</td>\n",
       "      <td>2018-11-20</td>\n",
       "    </tr>\n",
       "    <tr>\n",
       "      <th>7853213</th>\n",
       "      <td>ffffa7c262471b98e2d8ef72de22cc70</td>\n",
       "      <td>0.612950</td>\n",
       "      <td>2018-10-14</td>\n",
       "    </tr>\n",
       "    <tr>\n",
       "      <th>7853214</th>\n",
       "      <td>ffffae503b667efca7079f60b0294901</td>\n",
       "      <td>0.585505</td>\n",
       "      <td>2018-10-14</td>\n",
       "    </tr>\n",
       "    <tr>\n",
       "      <th>7853215</th>\n",
       "      <td>ffffb3cece0b9f4d6e7048959a9dbd42</td>\n",
       "      <td>0.152314</td>\n",
       "      <td>2018-11-12</td>\n",
       "    </tr>\n",
       "    <tr>\n",
       "      <th>7853216</th>\n",
       "      <td>ffffb40d07038fc86b49469d7503f78c</td>\n",
       "      <td>0.249578</td>\n",
       "      <td>2018-10-24</td>\n",
       "    </tr>\n",
       "    <tr>\n",
       "      <th>7853217</th>\n",
       "      <td>ffffb44591488f1c7fbf5751d4b74764</td>\n",
       "      <td>0.546323</td>\n",
       "      <td>2018-10-12</td>\n",
       "    </tr>\n",
       "    <tr>\n",
       "      <th>7853218</th>\n",
       "      <td>ffffb47567afb310ca5ff9bf8be747ce</td>\n",
       "      <td>0.227236</td>\n",
       "      <td>2018-10-08</td>\n",
       "    </tr>\n",
       "    <tr>\n",
       "      <th>7853219</th>\n",
       "      <td>ffffb6ca3e122d90376f24f6db052846</td>\n",
       "      <td>0.591262</td>\n",
       "      <td>2018-11-24</td>\n",
       "    </tr>\n",
       "    <tr>\n",
       "      <th>7853220</th>\n",
       "      <td>ffffb7a73c0ed7869adb0b6746dbf555</td>\n",
       "      <td>0.230874</td>\n",
       "      <td>2018-10-11</td>\n",
       "    </tr>\n",
       "    <tr>\n",
       "      <th>7853221</th>\n",
       "      <td>ffffba324de22b9790323f765bbfa1c7</td>\n",
       "      <td>0.719736</td>\n",
       "      <td>2018-10-06</td>\n",
       "    </tr>\n",
       "    <tr>\n",
       "      <th>7853222</th>\n",
       "      <td>ffffbbca54d99a63d2e7dc714da28a28</td>\n",
       "      <td>0.608310</td>\n",
       "      <td>2018-10-23</td>\n",
       "    </tr>\n",
       "    <tr>\n",
       "      <th>7853223</th>\n",
       "      <td>ffffc5dc0ea43508e6178322089937a3</td>\n",
       "      <td>0.561709</td>\n",
       "      <td>2018-10-17</td>\n",
       "    </tr>\n",
       "    <tr>\n",
       "      <th>7853224</th>\n",
       "      <td>ffffc978b55f10c87d647872deeeb141</td>\n",
       "      <td>0.169113</td>\n",
       "      <td>2018-10-23</td>\n",
       "    </tr>\n",
       "    <tr>\n",
       "      <th>7853225</th>\n",
       "      <td>ffffd03c7eb58eb6758e62a5c54a64aa</td>\n",
       "      <td>0.284247</td>\n",
       "      <td>2018-11-21</td>\n",
       "    </tr>\n",
       "    <tr>\n",
       "      <th>7853226</th>\n",
       "      <td>ffffd12ca6bce4e69cdb6a0feb9e9619</td>\n",
       "      <td>0.525877</td>\n",
       "      <td>2018-11-15</td>\n",
       "    </tr>\n",
       "    <tr>\n",
       "      <th>7853227</th>\n",
       "      <td>ffffd149b10a6416b7fbee1022f0f608</td>\n",
       "      <td>0.394294</td>\n",
       "      <td>2018-11-18</td>\n",
       "    </tr>\n",
       "    <tr>\n",
       "      <th>7853228</th>\n",
       "      <td>ffffd1912c7b8afaeb96a0bd78b1ff04</td>\n",
       "      <td>0.598344</td>\n",
       "      <td>2018-10-16</td>\n",
       "    </tr>\n",
       "    <tr>\n",
       "      <th>7853229</th>\n",
       "      <td>ffffd2696ad316a0cd2f870361f54b50</td>\n",
       "      <td>0.430399</td>\n",
       "      <td>2018-10-25</td>\n",
       "    </tr>\n",
       "    <tr>\n",
       "      <th>7853230</th>\n",
       "      <td>ffffd28fac6242fa8b9f00d30d2eaebb</td>\n",
       "      <td>0.465001</td>\n",
       "      <td>2018-09-02</td>\n",
       "    </tr>\n",
       "    <tr>\n",
       "      <th>7853231</th>\n",
       "      <td>ffffdf248f74e52dd72469a305327205</td>\n",
       "      <td>0.304019</td>\n",
       "      <td>2018-11-21</td>\n",
       "    </tr>\n",
       "    <tr>\n",
       "      <th>7853232</th>\n",
       "      <td>ffffe31a2077b21bd79cdccc139c4030</td>\n",
       "      <td>0.306480</td>\n",
       "      <td>2018-11-22</td>\n",
       "    </tr>\n",
       "    <tr>\n",
       "      <th>7853233</th>\n",
       "      <td>ffffe3a255eed7864e99c319f8503ea7</td>\n",
       "      <td>0.504249</td>\n",
       "      <td>2018-10-08</td>\n",
       "    </tr>\n",
       "    <tr>\n",
       "      <th>7853234</th>\n",
       "      <td>ffffe4b4b7cc83979736620f88393bb5</td>\n",
       "      <td>0.635957</td>\n",
       "      <td>2018-10-02</td>\n",
       "    </tr>\n",
       "    <tr>\n",
       "      <th>7853235</th>\n",
       "      <td>ffffe54831c3e7b5fac512137a452f50</td>\n",
       "      <td>0.462464</td>\n",
       "      <td>2018-10-27</td>\n",
       "    </tr>\n",
       "    <tr>\n",
       "      <th>7853236</th>\n",
       "      <td>ffffe6e2c11cb55bcad4229b92a5fb5f</td>\n",
       "      <td>0.560798</td>\n",
       "      <td>2018-05-16</td>\n",
       "    </tr>\n",
       "    <tr>\n",
       "      <th>7853237</th>\n",
       "      <td>ffffe8fe730d2c82ef2f60f9925f2bf8</td>\n",
       "      <td>0.447482</td>\n",
       "      <td>2018-11-21</td>\n",
       "    </tr>\n",
       "    <tr>\n",
       "      <th>7853238</th>\n",
       "      <td>ffffe9604a0346ab910b0bb034746217</td>\n",
       "      <td>0.496125</td>\n",
       "      <td>2018-10-14</td>\n",
       "    </tr>\n",
       "    <tr>\n",
       "      <th>7853239</th>\n",
       "      <td>fffff2583d8fe56544dd402d69a496ab</td>\n",
       "      <td>0.478862</td>\n",
       "      <td>2018-10-09</td>\n",
       "    </tr>\n",
       "    <tr>\n",
       "      <th>7853240</th>\n",
       "      <td>fffff2bec84ef6a4795f0ed78ef48ff0</td>\n",
       "      <td>0.488819</td>\n",
       "      <td>2018-10-11</td>\n",
       "    </tr>\n",
       "    <tr>\n",
       "      <th>7853241</th>\n",
       "      <td>fffff4c3bc0c3b2aa62d13c36411ad5a</td>\n",
       "      <td>0.544465</td>\n",
       "      <td>2018-11-19</td>\n",
       "    </tr>\n",
       "    <tr>\n",
       "      <th>7853242</th>\n",
       "      <td>fffff53d4c052be10e63d12077bac46b</td>\n",
       "      <td>0.467218</td>\n",
       "      <td>2018-10-12</td>\n",
       "    </tr>\n",
       "    <tr>\n",
       "      <th>7853243</th>\n",
       "      <td>fffff595da0597305f42baf084cb3b2e</td>\n",
       "      <td>0.551700</td>\n",
       "      <td>2018-06-17</td>\n",
       "    </tr>\n",
       "    <tr>\n",
       "      <th>7853244</th>\n",
       "      <td>fffff5997168cb2045506c92604c94e0</td>\n",
       "      <td>0.362482</td>\n",
       "      <td>2018-11-08</td>\n",
       "    </tr>\n",
       "    <tr>\n",
       "      <th>7853245</th>\n",
       "      <td>fffff6241ca0c10545ae0f9c86ffc6a9</td>\n",
       "      <td>0.675116</td>\n",
       "      <td>2018-09-28</td>\n",
       "    </tr>\n",
       "    <tr>\n",
       "      <th>7853246</th>\n",
       "      <td>fffff6e05dd004b0c42a7fc94b044824</td>\n",
       "      <td>0.329408</td>\n",
       "      <td>2018-10-05</td>\n",
       "    </tr>\n",
       "    <tr>\n",
       "      <th>7853247</th>\n",
       "      <td>fffff83f05efef39e0f7244742657f07</td>\n",
       "      <td>0.742834</td>\n",
       "      <td>2018-10-03</td>\n",
       "    </tr>\n",
       "    <tr>\n",
       "      <th>7853248</th>\n",
       "      <td>fffff8c0e065c468a2373f7afd5e7674</td>\n",
       "      <td>0.482940</td>\n",
       "      <td>2018-11-16</td>\n",
       "    </tr>\n",
       "    <tr>\n",
       "      <th>7853249</th>\n",
       "      <td>fffff90b27a1248b6fffc7a535bd736c</td>\n",
       "      <td>0.659504</td>\n",
       "      <td>2018-11-19</td>\n",
       "    </tr>\n",
       "    <tr>\n",
       "      <th>7853250</th>\n",
       "      <td>fffffa6a956c17ddbabca53d4ab708ae</td>\n",
       "      <td>0.291415</td>\n",
       "      <td>2018-11-16</td>\n",
       "    </tr>\n",
       "    <tr>\n",
       "      <th>7853251</th>\n",
       "      <td>fffffad7b6c8196ec5cae634406c0d4f</td>\n",
       "      <td>0.459044</td>\n",
       "      <td>2018-11-08</td>\n",
       "    </tr>\n",
       "    <tr>\n",
       "      <th>7853252</th>\n",
       "      <td>fffffbd305a90eb0f93ee4f30a39c736</td>\n",
       "      <td>0.371972</td>\n",
       "      <td>2018-11-25</td>\n",
       "    </tr>\n",
       "  </tbody>\n",
       "</table>\n",
       "<p>7853253 rows × 3 columns</p>\n",
       "</div>"
      ],
      "text/plain": [
       "                        MachineIdentifier  HasDetections   Date_YMD\n",
       "0        0000010489e3af074adeac69c53e555e       0.506743 2018-11-20\n",
       "1        00000176ac758d54827acd545b6315a5       0.515043 2018-10-22\n",
       "2        0000019dcefc128c2d4387c1273dae1d       0.611486 2018-09-28\n",
       "3        0000055553dc51b1295785415f1a224d       0.342288 2018-11-23\n",
       "4        00000574cefffeca83ec8adf9285b2bf       0.465092 2018-10-21\n",
       "5        000007ffedd31948f08e6c16da31f6d1       0.506531 2018-10-07\n",
       "6        000008f31610018d898e5f315cdf1bd1       0.247400 2018-11-07\n",
       "7        00000a3c447250626dbcc628c9cbc460       0.207781 2018-10-16\n",
       "8        00000b6bf217ec9aef0f68d5c6705897       0.185144 2018-11-23\n",
       "9        00000b8d3776b13e93ad83676a28e4aa       0.530368 2018-04-15\n",
       "10       00000dec341e29f26b92c3be03640bdc       0.387134 2018-10-21\n",
       "11       00000e658ce75c1e2a3bb47bcc3b08f3       0.436845 2018-11-01\n",
       "12       0000102ff65968bbdc04b69073434b05       0.445100 2018-11-23\n",
       "13       000011236a5dc4ff119541c42bb4287e       0.688669 2018-11-14\n",
       "14       0000124d8811c1a5b5848c4d730cfbf8       0.270151 2018-11-23\n",
       "15       000015a88b949c982bc80ec8e32b726d       0.435536 2018-11-24\n",
       "16       0000187a73c37cab54bd5be81c16c71f       0.239939 2018-11-20\n",
       "17       00001be80a499e95d5e68151b6470aa2       0.357639 2018-10-22\n",
       "18       00001dcfc3f82d68d6eae9cad4a3e07c       0.517164 2018-10-28\n",
       "19       00001ec5ccb1deb10e7f9facb5738bbb       0.358548 2018-10-29\n",
       "20       00001fb4bab6f49153f8b8a8cad33557       0.285654 2018-01-13\n",
       "21       00001fb68068b9612b7bcc8e5dd07da7       0.902387 2018-10-10\n",
       "22       0000208f0145e1b831c508fd33f4e66a       0.597198 2018-10-07\n",
       "23       000022cd46c5714e86254b4133116bb7       0.609936 2018-10-10\n",
       "24       00002336a5efa7665854da5c4b0f0269       0.420517 2018-09-17\n",
       "25       000023628ce7bd01fe765c9f1a003a56       0.619152 2018-10-23\n",
       "26       000024492167b242089b450565a650e7       0.617260 2018-10-13\n",
       "27       00002594fa72db6c02c1deac489ea004       0.373776 2018-08-05\n",
       "28       00002a6c8d5b34b6abfc7b73bff9c9c0       0.277839 2018-10-23\n",
       "29       00002b6bcc3c7956f9fc002fedb89599       0.375187 2018-11-23\n",
       "30       00002beccd9a641ba92c988f636533d6       0.183124 2018-09-28\n",
       "31       0000308669f9083fa7383b4f627c61a2       0.607439 2018-10-10\n",
       "32       0000329ca426eaf815bfb6e50b168ca7       0.344452 2018-10-11\n",
       "33       000037823afada3fe53173808cab6374       0.207696 2018-10-12\n",
       "34       000037d9ea7b7cfbf476b433586e5113       0.432016 2018-09-19\n",
       "35       00003b98e4dbced155a5fb3eab04ce28       0.672330 2018-10-09\n",
       "36       00003c48f2b0f68c78e82f3d18b517c7       0.549940 2018-10-09\n",
       "37       00003c8a62e007ac98a85ef5adaa1865       0.359282 2018-10-05\n",
       "38       00003f163bd22a7172e8655fa3bb638f       0.666044 2018-10-11\n",
       "39       00004042973d5f920c690fbf2b175d7b       0.052430 2018-10-08\n",
       "40       000040636c1d3217eaa78c3dc0e6ca9f       0.198819 2018-11-16\n",
       "41       000040d0bb6095bc5b16451768177a71       0.423507 2018-10-14\n",
       "42       00004316d7d468be75b2c330d40b3ee3       0.138373 2018-11-01\n",
       "43       000046fde0c3bb60bb94d877f1aed51f       0.399137 2018-11-08\n",
       "44       000047fcfba5075a43a39cc488d4a9f1       0.274868 2018-11-06\n",
       "45       0000484c1fd0f566986d558367799d70       0.211586 2018-10-11\n",
       "46       000049d209898e19506ae8f2431ec64e       0.351237 2018-10-18\n",
       "47       00004a929a8abbe15a6ea584f11a2d7e       0.109434 2018-10-11\n",
       "48       0000525b7a8f2fc01d84166b45f26b6b       0.686680 2018-10-23\n",
       "49       00005272f40ed7235379787664f3c801       0.101450 2018-10-22\n",
       "50       000055688c4b1d7875a8bc99d0c234f0       0.569831 2018-10-20\n",
       "51       000055ea914f7ef72f9ad26b5cdf4195       0.442033 2018-10-11\n",
       "52       0000561fb64f4d946f204ba29913d16b       0.520730 2018-10-14\n",
       "53       00005e3b5150302adeccf70bdcf0aa52       0.507531 2018-08-09\n",
       "54       00005f4864d68898cb9c63c22eafd5ee       0.290741 2018-11-05\n",
       "55       00006154b861493f10f174f72c25fdc1       0.599717 2018-09-27\n",
       "56       000065ad36d3a5b0943b3748ffa93fc1       0.052723 2018-11-23\n",
       "57       0000684ebeb593a8d574293b505922cc       0.513278 2018-10-13\n",
       "58       000068c452244499fb02b0cd0c9eb94f       0.438852 2018-10-30\n",
       "59       00006a744f9d2238c14147b654db8899       0.522139 2018-10-11\n",
       "60       00006e432bbb79128187560ba7c57ceb       0.604106 2018-11-16\n",
       "61       0000786ab891c531ef0d5d5098f28930       0.270207 2018-10-18\n",
       "62       000078e67a3f2a100429120430a18075       0.536908 2018-10-14\n",
       "63       00007cfba1c285bb92b4fbc10ee867e5       0.243668 2018-11-17\n",
       "64       00007d977cd6b0f21a7b497cff52b32b       0.286647 2018-09-15\n",
       "65       00007e387347b6a2c20e252bd8de3f86       0.660067 2018-10-11\n",
       "66       00007e926854c2c338f69d7ceb80cff3       0.356672 2018-08-07\n",
       "67       0000805072cfea837bafe44ffc3f01df       0.148016 2018-10-21\n",
       "68       0000837de4d8c1772b63a86a712409ed       0.576154 2018-11-22\n",
       "69       0000842ddc228be24fdd679c9a4194ab       0.499239 2018-11-07\n",
       "70       00008529373ccc5c6f2fd311cb03f3d4       0.728090 2018-10-15\n",
       "71       00008887d503218e314102a1ca9d792f       0.260765 2018-10-13\n",
       "72       00008c0e1103aa31ca48e0fa22464ae7       0.395677 2018-06-04\n",
       "73       00008d6f5d868b09d41db74d9badcda4       0.394059 2018-11-22\n",
       "74       00008f42abacfd7748a31fa33a3eb322       0.494454 2018-10-17\n",
       "...                                   ...            ...        ...\n",
       "7853178  ffff5bbb4bdb4ae465b6347d7767f1a9       0.509065 2018-10-05\n",
       "7853179  ffff5eb04e8bd4fddae8109dbf5c9df9       0.335669 2018-11-22\n",
       "7853180  ffff5f5dcdd990e0b54f6bcce7ed3cb3       0.416456 2018-10-02\n",
       "7853181  ffff6110cc944ddee257ec3eebb67a49       0.413364 2018-10-05\n",
       "7853182  ffff65a85c21a478b1fbfac000a23924       0.393267 2018-09-20\n",
       "7853183  ffff65bb6057b5f7f7555211b453b645       0.829053 2018-10-19\n",
       "7853184  ffff660f43af7e2718637f6c77597d6a       0.317172 2018-10-22\n",
       "7853185  ffff673ed1c806dc89fb8caf8b6dc89b       0.314695 2018-11-23\n",
       "7853186  ffff6832e05327074d3250c6176a615d       0.366989 2018-10-08\n",
       "7853187  ffff6b1df04c9f9996ee5a63f77486a2       0.519549 2018-10-24\n",
       "7853188  ffff6bb1c80157cd93aea48f6e52ccaf       0.386165 2018-10-15\n",
       "7853189  ffff723a30196b2a9a9e7fa2dae28f02       0.311453 2018-10-07\n",
       "7853190  ffff72d6a8b804f90e2ea199eecfe113       0.479741 2018-10-27\n",
       "7853191  ffff741905866b9d0d01edf7d9f7353a       0.432351 2018-10-27\n",
       "7853192  ffff78ec305b07afa25e94d1695fbce6       0.559410 2018-11-05\n",
       "7853193  ffff792a2bdc329c57a52f302ae9911d       0.338534 2018-10-06\n",
       "7853194  ffff79e4c8f1bbdc454d04c1fdebcff5       0.368062 2018-11-08\n",
       "7853195  ffff7b7577b37552c6adbf4b0dcbdf21       0.497058 2018-11-14\n",
       "7853196  ffff7d73773851d8e71ef9437d2dcdb3       0.414218 2018-10-07\n",
       "7853197  ffff7defa848b9acdb0ad31b20b3f547       0.704378 2018-10-07\n",
       "7853198  ffff7f7d957d1dcae53db529fa30eca3       0.574208 2018-10-01\n",
       "7853199  ffff7ff6926edd56029374e54d6cb295       0.190821 2018-10-02\n",
       "7853200  ffff82d4d3978cb778a74f1f6012e223       0.429619 2018-10-22\n",
       "7853201  ffff8302491747c9f2b4b480222ee2a5       0.689827 2018-09-30\n",
       "7853202  ffff852af6350f9d0c272e0edd1a8da3       0.600486 2018-10-23\n",
       "7853203  ffff88bc9f1c2208fde621a2bb4aff2a       0.259016 2018-05-29\n",
       "7853204  ffff8f9f0b4705aed62dd3ed36490c44       0.242959 2018-11-20\n",
       "7853205  ffff8fbff49f813b9d5ca6739805ffff       0.411909 2018-10-16\n",
       "7853206  ffff98ffbe2b368dc1ad3a47e34014f0       0.619743 2018-11-24\n",
       "7853207  ffff9a852e95ff9443cde29b12f04078       0.413467 2018-11-01\n",
       "7853208  ffff9afbfdeef06a8ccc4e558c89b34b       0.818120 2018-11-07\n",
       "7853209  ffff9bb8d05e05100d117547e101c8fd       0.641394 2018-11-19\n",
       "7853210  ffff9f8390fcc6936fcb90783cadc4df       0.210971 2018-10-07\n",
       "7853211  ffffa04d55edfde48c5be22ebfe147b1       0.435894 2018-03-01\n",
       "7853212  ffffa79f1c00825707749b70cf459392       0.300956 2018-11-20\n",
       "7853213  ffffa7c262471b98e2d8ef72de22cc70       0.612950 2018-10-14\n",
       "7853214  ffffae503b667efca7079f60b0294901       0.585505 2018-10-14\n",
       "7853215  ffffb3cece0b9f4d6e7048959a9dbd42       0.152314 2018-11-12\n",
       "7853216  ffffb40d07038fc86b49469d7503f78c       0.249578 2018-10-24\n",
       "7853217  ffffb44591488f1c7fbf5751d4b74764       0.546323 2018-10-12\n",
       "7853218  ffffb47567afb310ca5ff9bf8be747ce       0.227236 2018-10-08\n",
       "7853219  ffffb6ca3e122d90376f24f6db052846       0.591262 2018-11-24\n",
       "7853220  ffffb7a73c0ed7869adb0b6746dbf555       0.230874 2018-10-11\n",
       "7853221  ffffba324de22b9790323f765bbfa1c7       0.719736 2018-10-06\n",
       "7853222  ffffbbca54d99a63d2e7dc714da28a28       0.608310 2018-10-23\n",
       "7853223  ffffc5dc0ea43508e6178322089937a3       0.561709 2018-10-17\n",
       "7853224  ffffc978b55f10c87d647872deeeb141       0.169113 2018-10-23\n",
       "7853225  ffffd03c7eb58eb6758e62a5c54a64aa       0.284247 2018-11-21\n",
       "7853226  ffffd12ca6bce4e69cdb6a0feb9e9619       0.525877 2018-11-15\n",
       "7853227  ffffd149b10a6416b7fbee1022f0f608       0.394294 2018-11-18\n",
       "7853228  ffffd1912c7b8afaeb96a0bd78b1ff04       0.598344 2018-10-16\n",
       "7853229  ffffd2696ad316a0cd2f870361f54b50       0.430399 2018-10-25\n",
       "7853230  ffffd28fac6242fa8b9f00d30d2eaebb       0.465001 2018-09-02\n",
       "7853231  ffffdf248f74e52dd72469a305327205       0.304019 2018-11-21\n",
       "7853232  ffffe31a2077b21bd79cdccc139c4030       0.306480 2018-11-22\n",
       "7853233  ffffe3a255eed7864e99c319f8503ea7       0.504249 2018-10-08\n",
       "7853234  ffffe4b4b7cc83979736620f88393bb5       0.635957 2018-10-02\n",
       "7853235  ffffe54831c3e7b5fac512137a452f50       0.462464 2018-10-27\n",
       "7853236  ffffe6e2c11cb55bcad4229b92a5fb5f       0.560798 2018-05-16\n",
       "7853237  ffffe8fe730d2c82ef2f60f9925f2bf8       0.447482 2018-11-21\n",
       "7853238  ffffe9604a0346ab910b0bb034746217       0.496125 2018-10-14\n",
       "7853239  fffff2583d8fe56544dd402d69a496ab       0.478862 2018-10-09\n",
       "7853240  fffff2bec84ef6a4795f0ed78ef48ff0       0.488819 2018-10-11\n",
       "7853241  fffff4c3bc0c3b2aa62d13c36411ad5a       0.544465 2018-11-19\n",
       "7853242  fffff53d4c052be10e63d12077bac46b       0.467218 2018-10-12\n",
       "7853243  fffff595da0597305f42baf084cb3b2e       0.551700 2018-06-17\n",
       "7853244  fffff5997168cb2045506c92604c94e0       0.362482 2018-11-08\n",
       "7853245  fffff6241ca0c10545ae0f9c86ffc6a9       0.675116 2018-09-28\n",
       "7853246  fffff6e05dd004b0c42a7fc94b044824       0.329408 2018-10-05\n",
       "7853247  fffff83f05efef39e0f7244742657f07       0.742834 2018-10-03\n",
       "7853248  fffff8c0e065c468a2373f7afd5e7674       0.482940 2018-11-16\n",
       "7853249  fffff90b27a1248b6fffc7a535bd736c       0.659504 2018-11-19\n",
       "7853250  fffffa6a956c17ddbabca53d4ab708ae       0.291415 2018-11-16\n",
       "7853251  fffffad7b6c8196ec5cae634406c0d4f       0.459044 2018-11-08\n",
       "7853252  fffffbd305a90eb0f93ee4f30a39c736       0.371972 2018-11-25\n",
       "\n",
       "[7853253 rows x 3 columns]"
      ]
     },
     "execution_count": 628,
     "metadata": {},
     "output_type": "execute_result"
    }
   ],
   "source": [
    "check2"
   ]
  },
  {
   "cell_type": "code",
   "execution_count": 622,
   "metadata": {
    "ExecuteTime": {
     "end_time": "2019-03-12T03:49:07.081768Z",
     "start_time": "2019-03-12T03:49:06.549647Z"
    },
    "hide_input": false
   },
   "outputs": [
    {
     "data": {
      "text/plain": [
       "<matplotlib.legend.Legend at 0x1ad98753a58>"
      ]
     },
     "execution_count": 622,
     "metadata": {},
     "output_type": "execute_result"
    },
    {
     "data": {
      "image/png": "[encoded data removed]",
      "text/plain": [
       "<Figure size 1296x576 with 1 Axes>"
      ]
     },
     "metadata": {
      "needs_background": "light"
     },
     "output_type": "display_data"
    }
   ],
   "source": [
    "plt.figure(figsize=(18, 8))\n",
    "# plt.plot(tr_temp.Date_YMD, tr_temp['mean'], 'o', color='b', alpha=0.1, label='train')\n",
    "# plt.plot(lb_temp_692.Date_YMD, lb_temp_692['mean'], 'o', color='r', alpha=1, label='692')\n",
    "# plt.plot(lb_temp_694.Date_YMD, lb_temp_694['mean'], 'o', color='y', alpha=1, label='694')\n",
    "# plt.plot(lb_temp_701.Date_YMD, lb_temp_701['mean'], 'o', color='g', alpha=1, label='701')\n",
    "# plt.plot(lb_temp_702.Date_YMD, lb_temp_702['mean'], 'o', color='y', alpha=1, label='702')\n",
    "# plt.plot(lb_temp_706.Date_YMD, lb_temp_706['mean'], 'o', color='k', alpha=1, label='706')\n",
    "plt.plot(lb_temp_707.Date_YMD, lb_temp_707['mean'], 'o', color='b', alpha=1, label='707')\n",
    "# plt.plot(time_un_temp.Date_YMD, time_un_temp['mean'], 'o', color='k', alpha=1, label='un time')\n",
    "# plt.plot(group_temp.Date_YMD, group_temp['mean'], 'o', color='r', alpha=1, label='groupby')\n",
    "# plt.plot(te_temp.Date_YMD, (te_temp['size'] - 657) * (0.35 / 178909) + 0.3, 'og', label='guide')\n",
    "\n",
    "plt.plot(check_temp.Date_YMD, check_temp['mean'], 'o', color='k', alpha=0.5, label='check')\n",
    "# plt.plot(te_temp.Date_YMD, (te_temp['size'] - 657) * (0.3 / 178909) + 0.3, 'or')\n",
    "plt.plot(hypothesis_temp.Date_YMD, hypothesis_temp['mean'], '+', color='c', alpha=1, label='guide')\n",
    "plt.legend(prop={'size': 16})"
   ]
  },
  {
   "cell_type": "code",
   "execution_count": 631,
   "metadata": {
    "ExecuteTime": {
     "end_time": "2019-03-12T04:12:53.235904Z",
     "start_time": "2019-03-12T04:12:53.136895Z"
    }
   },
   "outputs": [],
   "source": [
    "t = lb_707.HasDetections.to_frame()"
   ]
  },
  {
   "cell_type": "code",
   "execution_count": 633,
   "metadata": {
    "ExecuteTime": {
     "end_time": "2019-03-12T04:13:03.908825Z",
     "start_time": "2019-03-12T04:13:03.795012Z"
    }
   },
   "outputs": [],
   "source": [
    "t['new'] = check2.HasDetections"
   ]
  },
  {
   "cell_type": "code",
   "execution_count": 642,
   "metadata": {
    "ExecuteTime": {
     "end_time": "2019-03-12T04:15:15.444122Z",
     "start_time": "2019-03-12T04:15:15.173811Z"
    }
   },
   "outputs": [],
   "source": [
    "check2.HasDetections = check2.HasDetections * 0.5 + lb_707.HasDetections * 0.5"
   ]
  },
  {
   "cell_type": "code",
   "execution_count": 645,
   "metadata": {
    "ExecuteTime": {
     "end_time": "2019-03-12T04:16:35.766378Z",
     "start_time": "2019-03-12T04:15:37.313273Z"
    }
   },
   "outputs": [],
   "source": [
    "check2[['MachineIdentifier', 'HasDetections']].to_csv('./data/time_test_15.csv', index=False)"
   ]
  },
  {
   "cell_type": "markdown",
   "metadata": {},
   "source": [
    "# Crazy Method - 2달 미뤄서 훈련시켜보기 2"
   ]
  },
  {
   "cell_type": "code",
   "execution_count": 43,
   "metadata": {
    "ExecuteTime": {
     "end_time": "2019-03-11T07:42:23.549931Z",
     "start_time": "2019-03-11T07:42:11.796239Z"
    }
   },
   "outputs": [
    {
     "data": {
      "text/plain": [
       "33"
      ]
     },
     "execution_count": 43,
     "metadata": {},
     "output_type": "execute_result"
    }
   ],
   "source": [
    "temp = data[(data.Date_YMD >= '2018-05-25') & (data.Date_YMD <= '2018-09-24')]\n",
    "del temp['Date']\n",
    "gc.collect()"
   ]
  },
  {
   "cell_type": "code",
   "execution_count": 44,
   "metadata": {
    "ExecuteTime": {
     "end_time": "2019-03-11T07:42:37.312173Z",
     "start_time": "2019-03-11T07:42:24.241212Z"
    }
   },
   "outputs": [
    {
     "data": {
      "text/plain": [
       "14"
      ]
     },
     "execution_count": 44,
     "metadata": {},
     "output_type": "execute_result"
    }
   ],
   "source": [
    "train = temp[~temp.HasDetections.isna()]\n",
    "test = temp[temp.HasDetections.isna()]\n",
    "\n",
    "del temp\n",
    "gc.collect()"
   ]
  },
  {
   "cell_type": "code",
   "execution_count": 45,
   "metadata": {
    "ExecuteTime": {
     "end_time": "2019-03-11T07:42:38.484037Z",
     "start_time": "2019-03-11T07:42:37.316161Z"
    }
   },
   "outputs": [
    {
     "data": {
      "text/plain": [
       "0"
      ]
     },
     "execution_count": 45,
     "metadata": {},
     "output_type": "execute_result"
    }
   ],
   "source": [
    "train = train[train.Date_YMD <= '2018-07-24']\n",
    "test = test[test.Date_YMD >= '2018-07-25']\n",
    "\n",
    "gc.collect()"
   ]
  },
  {
   "cell_type": "code",
   "execution_count": 46,
   "metadata": {
    "ExecuteTime": {
     "end_time": "2019-03-11T07:42:38.586795Z",
     "start_time": "2019-03-11T07:42:38.485035Z"
    }
   },
   "outputs": [],
   "source": [
    "# 2달 미루기\n",
    "train.Date_YMD = train.Date_YMD + pd.offsets.MonthOffset(2)"
   ]
  },
  {
   "cell_type": "code",
   "execution_count": 47,
   "metadata": {
    "ExecuteTime": {
     "end_time": "2019-03-11T07:42:38.594777Z",
     "start_time": "2019-03-11T07:42:38.589754Z"
    }
   },
   "outputs": [],
   "source": [
    "train.reset_index(drop=True, inplace=True)\n",
    "test.reset_index(drop=True, inplace=True)"
   ]
  },
  {
   "cell_type": "code",
   "execution_count": 48,
   "metadata": {
    "ExecuteTime": {
     "end_time": "2019-03-11T07:42:38.602752Z",
     "start_time": "2019-03-11T07:42:38.596736Z"
    }
   },
   "outputs": [
    {
     "data": {
      "text/plain": [
       "(627299, 84)"
      ]
     },
     "execution_count": 48,
     "metadata": {},
     "output_type": "execute_result"
    }
   ],
   "source": [
    "train.shape"
   ]
  },
  {
   "cell_type": "code",
   "execution_count": 49,
   "metadata": {
    "ExecuteTime": {
     "end_time": "2019-03-11T07:42:38.609701Z",
     "start_time": "2019-03-11T07:42:38.604714Z"
    }
   },
   "outputs": [
    {
     "data": {
      "text/plain": [
       "(483279, 84)"
      ]
     },
     "execution_count": 49,
     "metadata": {},
     "output_type": "execute_result"
    }
   ],
   "source": [
    "test.shape"
   ]
  },
  {
   "cell_type": "code",
   "execution_count": 225,
   "metadata": {
    "ExecuteTime": {
     "end_time": "2019-03-10T09:07:49.916480Z",
     "start_time": "2019-03-10T09:07:49.745938Z"
    }
   },
   "outputs": [
    {
     "data": {
      "text/plain": [
       "7"
      ]
     },
     "execution_count": 225,
     "metadata": {},
     "output_type": "execute_result"
    }
   ],
   "source": [
    "del train['AvSigVersion'], test['AvSigVersion']\n",
    "gc.collect()"
   ]
  },
  {
   "cell_type": "code",
   "execution_count": 231,
   "metadata": {
    "ExecuteTime": {
     "end_time": "2019-03-10T09:08:51.209223Z",
     "start_time": "2019-03-10T09:07:57.142593Z"
    },
    "scrolled": false
   },
   "outputs": [
    {
     "name": "stdout",
     "output_type": "stream",
     "text": [
      "Transform all features to category.\n",
      "\n"
     ]
    },
    {
     "data": {
      "application/vnd.jupyter.widget-view+json": {
       "model_id": "",
       "version_major": 2,
       "version_minor": 0
      },
      "text/plain": [
       "HBox(children=(IntProgress(value=0, max=82), HTML(value='')))"
      ]
     },
     "metadata": {},
     "output_type": "display_data"
    },
    {
     "name": "stdout",
     "output_type": "stream",
     "text": [
      "\n"
     ]
    }
   ],
   "source": [
    "print('Transform all features to category.\\n')\n",
    "for usecol in tqdm_notebook([col for col in train.columns if col not in ['HasDetections', 'MachineIdentifier']]):\n",
    "\n",
    "    train[usecol] = train[usecol].astype('str')\n",
    "    test[usecol] = test[usecol].astype('str')\n",
    "    \n",
    "    #Fit LabelEncoder\n",
    "    le = LabelEncoder().fit(\n",
    "            np.unique(train[usecol].unique().tolist()+\n",
    "                      test[usecol].unique().tolist()))\n",
    "\n",
    "    #At the end 0 will be used for dropped values\n",
    "    train[usecol] = le.transform(train[usecol])+1\n",
    "    test[usecol]  = le.transform(test[usecol])+1\n",
    "\n",
    "    agg_tr = (train\n",
    "              .groupby([usecol])\n",
    "              .aggregate({'MachineIdentifier':'count'})\n",
    "              .reset_index()\n",
    "              .rename({'MachineIdentifier':'Train'}, axis=1))\n",
    "    \n",
    "    agg_te = (test\n",
    "              .groupby([usecol])\n",
    "              .aggregate({'MachineIdentifier':'count'})\n",
    "              .reset_index()\n",
    "              .rename({'MachineIdentifier':'Test'}, axis=1))\n",
    "\n",
    "    agg = pd.merge(agg_tr, agg_te, on=usecol, how='outer').replace(np.nan, 0)\n",
    "\n",
    "    #Select values with more than 1000 observations\n",
    "    agg = agg[(agg['Train'] > 50)].reset_index(drop=True)\n",
    "    agg['Total'] = agg['Train'] / 3 + agg['Test']\n",
    "    #Drop unbalanced values\n",
    "    agg = agg[(agg['Train'] / (agg['Total'] * 3) > 0.14) & (agg['Train'] / (agg['Total'] * 3) < 0.86)]\n",
    "    agg[usecol+'Copy'] = agg[usecol]\n",
    "        \n",
    "    train[usecol] = (pd.merge(train[[usecol]], \n",
    "                              agg[[usecol, usecol+'Copy']], \n",
    "                              on=usecol, how='left')[usecol+'Copy']\n",
    "                     .replace(np.nan, 0).astype('int').astype('category'))\n",
    "\n",
    "    test[usecol]  = (pd.merge(test[[usecol]], \n",
    "                              agg[[usecol, usecol+'Copy']], \n",
    "                              on=usecol, how='left')[usecol+'Copy']\n",
    "                     .replace(np.nan, 0).astype('int').astype('category'))\n",
    "\n",
    "    del le, agg_tr, agg_te, agg, usecol\n",
    "    gc.collect()"
   ]
  },
  {
   "cell_type": "code",
   "execution_count": 232,
   "metadata": {
    "ExecuteTime": {
     "end_time": "2019-03-10T09:08:51.443379Z",
     "start_time": "2019-03-10T09:08:51.439454Z"
    }
   },
   "outputs": [
    {
     "data": {
      "text/plain": [
       "(627299, 84)"
      ]
     },
     "execution_count": 232,
     "metadata": {},
     "output_type": "execute_result"
    }
   ],
   "source": [
    "train.shape"
   ]
  },
  {
   "cell_type": "code",
   "execution_count": 233,
   "metadata": {
    "ExecuteTime": {
     "end_time": "2019-03-10T09:08:52.953901Z",
     "start_time": "2019-03-10T09:08:52.945921Z"
    }
   },
   "outputs": [],
   "source": [
    "y_train = np.array(train['HasDetections'])\n",
    "train_ids = train.index\n",
    "test_ids  = test.index"
   ]
  },
  {
   "cell_type": "code",
   "execution_count": 234,
   "metadata": {
    "ExecuteTime": {
     "end_time": "2019-03-10T09:08:53.335489Z",
     "start_time": "2019-03-10T09:08:53.218799Z"
    }
   },
   "outputs": [
    {
     "data": {
      "text/plain": [
       "21"
      ]
     },
     "execution_count": 234,
     "metadata": {},
     "output_type": "execute_result"
    }
   ],
   "source": [
    "del train['HasDetections'], train['MachineIdentifier'], test['MachineIdentifier'], test['HasDetections']\n",
    "gc.collect()"
   ]
  },
  {
   "cell_type": "code",
   "execution_count": 235,
   "metadata": {
    "ExecuteTime": {
     "end_time": "2019-03-10T09:08:53.924768Z",
     "start_time": "2019-03-10T09:08:53.910839Z"
    },
    "scrolled": true
   },
   "outputs": [
    {
     "name": "stdout",
     "output_type": "stream",
     "text": [
      "If you don't want use Sparse Matrix choose Kernel Version 2 to get simple solution.\n",
      "\n",
      "--------------------------------------------------------------------------------------------------------\n",
      "Transform Data to Sparse Matrix.\n",
      "Sparse Matrix can be used to fit a lot of models, eg. XGBoost, LightGBM, Random Forest, K-Means and etc.\n",
      "To concatenate Sparse Matrices by column use hstack()\n",
      "Read more about Sparse Matrix https://docs.scipy.org/doc/scipy/reference/sparse.html\n",
      "Good Luck!\n",
      "--------------------------------------------------------------------------------------------------------\n"
     ]
    }
   ],
   "source": [
    "print(\"If you don't want use Sparse Matrix choose Kernel Version 2 to get simple solution.\\n\")\n",
    "\n",
    "print('--------------------------------------------------------------------------------------------------------')\n",
    "print('Transform Data to Sparse Matrix.')\n",
    "print('Sparse Matrix can be used to fit a lot of models, eg. XGBoost, LightGBM, Random Forest, K-Means and etc.')\n",
    "print('To concatenate Sparse Matrices by column use hstack()')\n",
    "print('Read more about Sparse Matrix https://docs.scipy.org/doc/scipy/reference/sparse.html')\n",
    "print('Good Luck!')\n",
    "print('--------------------------------------------------------------------------------------------------------')\n"
   ]
  },
  {
   "cell_type": "code",
   "execution_count": 236,
   "metadata": {
    "ExecuteTime": {
     "end_time": "2019-03-10T09:08:58.030846Z",
     "start_time": "2019-03-10T09:08:54.924014Z"
    }
   },
   "outputs": [],
   "source": [
    "#Fit OneHotEncoder\n",
    "ohe = OneHotEncoder(categories='auto', sparse=True, dtype='uint8').fit(train.append(test))"
   ]
  },
  {
   "cell_type": "code",
   "execution_count": 237,
   "metadata": {
    "ExecuteTime": {
     "end_time": "2019-03-10T09:09:07.905496Z",
     "start_time": "2019-03-10T09:08:58.032840Z"
    }
   },
   "outputs": [],
   "source": [
    "#Transform data using small groups to reduce memory usage\n",
    "m = 100000\n",
    "train = vstack([ohe.transform(train[i*m:(i+1)*m]) for i in range(train.shape[0] // m + 1)])\n",
    "test  = vstack([ohe.transform(test[i*m:(i+1)*m])  for i in range(test.shape[0] // m +  1)])"
   ]
  },
  {
   "cell_type": "code",
   "execution_count": 238,
   "metadata": {
    "ExecuteTime": {
     "end_time": "2019-03-10T09:09:07.910485Z",
     "start_time": "2019-03-10T09:09:07.906493Z"
    }
   },
   "outputs": [
    {
     "data": {
      "text/plain": [
       "(627299, 10039)"
      ]
     },
     "execution_count": 238,
     "metadata": {},
     "output_type": "execute_result"
    }
   ],
   "source": [
    "train.shape"
   ]
  },
  {
   "cell_type": "code",
   "execution_count": 239,
   "metadata": {
    "ExecuteTime": {
     "end_time": "2019-03-10T09:09:07.916467Z",
     "start_time": "2019-03-10T09:09:07.912478Z"
    }
   },
   "outputs": [
    {
     "data": {
      "text/plain": [
       "(161697, 10039)"
      ]
     },
     "execution_count": 239,
     "metadata": {},
     "output_type": "execute_result"
    }
   ],
   "source": [
    "test.shape"
   ]
  },
  {
   "cell_type": "code",
   "execution_count": 240,
   "metadata": {
    "ExecuteTime": {
     "end_time": "2019-03-10T09:09:19.524960Z",
     "start_time": "2019-03-10T09:09:10.718474Z"
    }
   },
   "outputs": [],
   "source": [
    "save_npz('./data_temp/train.npz', train, compressed=True)\n",
    "save_npz('./data_temp/test.npz',  test,  compressed=True)"
   ]
  },
  {
   "cell_type": "code",
   "execution_count": 241,
   "metadata": {
    "ExecuteTime": {
     "end_time": "2019-03-10T09:09:19.671570Z",
     "start_time": "2019-03-10T09:09:19.526958Z"
    }
   },
   "outputs": [
    {
     "data": {
      "text/plain": [
       "1162"
      ]
     },
     "execution_count": 241,
     "metadata": {},
     "output_type": "execute_result"
    }
   ],
   "source": [
    "del ohe, train, test\n",
    "gc.collect()"
   ]
  },
  {
   "cell_type": "code",
   "execution_count": 242,
   "metadata": {
    "ExecuteTime": {
     "end_time": "2019-03-10T09:09:20.754949Z",
     "start_time": "2019-03-10T09:09:19.673579Z"
    }
   },
   "outputs": [],
   "source": [
    "train = load_npz('./data_temp/train.npz')\n",
    "test = load_npz('./data_temp/test.npz')\n",
    "test = csr_matrix(test, dtype='float32')"
   ]
  },
  {
   "cell_type": "code",
   "execution_count": 243,
   "metadata": {
    "ExecuteTime": {
     "end_time": "2019-03-10T09:09:20.761654Z",
     "start_time": "2019-03-10T09:09:20.757665Z"
    }
   },
   "outputs": [
    {
     "data": {
      "text/plain": [
       "(627299, 10039)"
      ]
     },
     "execution_count": 243,
     "metadata": {},
     "output_type": "execute_result"
    }
   ],
   "source": [
    "train.shape"
   ]
  },
  {
   "cell_type": "code",
   "execution_count": 244,
   "metadata": {
    "ExecuteTime": {
     "end_time": "2019-03-10T09:09:20.768634Z",
     "start_time": "2019-03-10T09:09:20.763648Z"
    }
   },
   "outputs": [
    {
     "data": {
      "text/plain": [
       "(161697, 10039)"
      ]
     },
     "execution_count": 244,
     "metadata": {},
     "output_type": "execute_result"
    }
   ],
   "source": [
    "test.shape"
   ]
  },
  {
   "cell_type": "code",
   "execution_count": 246,
   "metadata": {
    "ExecuteTime": {
     "end_time": "2019-03-10T09:09:21.451924Z",
     "start_time": "2019-03-10T09:09:21.446979Z"
    }
   },
   "outputs": [],
   "source": [
    "skf = StratifiedKFold(n_splits=3, shuffle=True, random_state=42)\n",
    "skf.get_n_splits(train_ids, y_train)\n",
    "\n",
    "lgb_test_result  = np.zeros(test_ids.shape[0])\n",
    "lgb_train_result = np.zeros(train_ids.shape[0])\n",
    "counter = 0"
   ]
  },
  {
   "cell_type": "code",
   "execution_count": 247,
   "metadata": {
    "ExecuteTime": {
     "end_time": "2019-03-10T09:14:15.509626Z",
     "start_time": "2019-03-10T09:09:22.103292Z"
    },
    "scrolled": false
   },
   "outputs": [
    {
     "name": "stdout",
     "output_type": "stream",
     "text": [
      "\n",
      "LightGBM\n",
      "\n",
      "Fold 1\n",
      "\n",
      "fitting\n",
      "Training until validation scores don't improve for 100 rounds.\n",
      "[100]\tvalid_0's auc: 0.677371\tvalid_0's binary_logloss: 0.604701\n",
      "[200]\tvalid_0's auc: 0.685048\tvalid_0's binary_logloss: 0.599969\n",
      "[300]\tvalid_0's auc: 0.687145\tvalid_0's binary_logloss: 0.598676\n",
      "[400]\tvalid_0's auc: 0.687966\tvalid_0's binary_logloss: 0.598151\n",
      "[500]\tvalid_0's auc: 0.688526\tvalid_0's binary_logloss: 0.59779\n",
      "[600]\tvalid_0's auc: 0.688837\tvalid_0's binary_logloss: 0.597577\n",
      "[700]\tvalid_0's auc: 0.689194\tvalid_0's binary_logloss: 0.597344\n",
      "[800]\tvalid_0's auc: 0.68942\tvalid_0's binary_logloss: 0.597182\n",
      "[900]\tvalid_0's auc: 0.689547\tvalid_0's binary_logloss: 0.597075\n",
      "[1000]\tvalid_0's auc: 0.689621\tvalid_0's binary_logloss: 0.596991\n",
      "[1100]\tvalid_0's auc: 0.68967\tvalid_0's binary_logloss: 0.596924\n",
      "[1200]\tvalid_0's auc: 0.689712\tvalid_0's binary_logloss: 0.596872\n",
      "[1300]\tvalid_0's auc: 0.689751\tvalid_0's binary_logloss: 0.596838\n",
      "[1400]\tvalid_0's auc: 0.689791\tvalid_0's binary_logloss: 0.596808\n",
      "Early stopping, best iteration is:\n",
      "[1375]\tvalid_0's auc: 0.689815\tvalid_0's binary_logloss: 0.596801\n",
      "predicting\n",
      "Fold 2\n",
      "\n",
      "fitting\n",
      "Training until validation scores don't improve for 100 rounds.\n",
      "[100]\tvalid_0's auc: 0.677397\tvalid_0's binary_logloss: 0.604595\n",
      "[200]\tvalid_0's auc: 0.684986\tvalid_0's binary_logloss: 0.599996\n",
      "[300]\tvalid_0's auc: 0.68707\tvalid_0's binary_logloss: 0.598711\n",
      "[400]\tvalid_0's auc: 0.6879\tvalid_0's binary_logloss: 0.598183\n",
      "[500]\tvalid_0's auc: 0.688455\tvalid_0's binary_logloss: 0.597829\n",
      "[600]\tvalid_0's auc: 0.688927\tvalid_0's binary_logloss: 0.597514\n",
      "[700]\tvalid_0's auc: 0.689057\tvalid_0's binary_logloss: 0.597398\n",
      "[800]\tvalid_0's auc: 0.689212\tvalid_0's binary_logloss: 0.5973\n",
      "[900]\tvalid_0's auc: 0.689259\tvalid_0's binary_logloss: 0.59724\n",
      "[1000]\tvalid_0's auc: 0.689388\tvalid_0's binary_logloss: 0.597135\n",
      "[1100]\tvalid_0's auc: 0.689425\tvalid_0's binary_logloss: 0.597106\n",
      "Early stopping, best iteration is:\n",
      "[1015]\tvalid_0's auc: 0.68944\tvalid_0's binary_logloss: 0.597111\n",
      "predicting\n",
      "Fold 3\n",
      "\n",
      "fitting\n",
      "Training until validation scores don't improve for 100 rounds.\n",
      "[100]\tvalid_0's auc: 0.680668\tvalid_0's binary_logloss: 0.603563\n",
      "[200]\tvalid_0's auc: 0.687822\tvalid_0's binary_logloss: 0.598936\n",
      "[300]\tvalid_0's auc: 0.689691\tvalid_0's binary_logloss: 0.597769\n",
      "[400]\tvalid_0's auc: 0.690668\tvalid_0's binary_logloss: 0.597158\n",
      "[500]\tvalid_0's auc: 0.69126\tvalid_0's binary_logloss: 0.596763\n",
      "[600]\tvalid_0's auc: 0.691565\tvalid_0's binary_logloss: 0.596538\n",
      "[700]\tvalid_0's auc: 0.691705\tvalid_0's binary_logloss: 0.596422\n",
      "[800]\tvalid_0's auc: 0.691877\tvalid_0's binary_logloss: 0.596288\n",
      "[900]\tvalid_0's auc: 0.69207\tvalid_0's binary_logloss: 0.596166\n",
      "[1000]\tvalid_0's auc: 0.692023\tvalid_0's binary_logloss: 0.59616\n",
      "Early stopping, best iteration is:\n",
      "[920]\tvalid_0's auc: 0.692101\tvalid_0's binary_logloss: 0.596145\n",
      "predicting\n"
     ]
    }
   ],
   "source": [
    "print('\\nLightGBM\\n')\n",
    "\n",
    "for train_index, test_index in skf.split(train_ids, y_train):\n",
    "    \n",
    "    print('Fold {}\\n'.format(counter + 1))\n",
    "    \n",
    "    X_fit = vstack([train[train_index[i*m:(i+1)*m]] for i in range(train_index.shape[0] // m + 1)])\n",
    "    X_val = vstack([train[test_index[i*m:(i+1)*m]]  for i in range(test_index.shape[0] //  m + 1)])\n",
    "    X_fit, X_val = csr_matrix(X_fit, dtype='float32'), csr_matrix(X_val, dtype='float32')\n",
    "    y_fit, y_val = y_train[train_index], y_train[test_index]\n",
    "    \n",
    "    gc.collect()\n",
    "\n",
    "    lgb_model = lgb.LGBMClassifier(max_depth=-1,\n",
    "                                   n_estimators=30000,\n",
    "                                   learning_rate=0.05,\n",
    "                                   num_leaves=2**5-1,\n",
    "                                   objective='binary', \n",
    "                                   boosting_type='gbdt',\n",
    "                                   # overfitting handling\n",
    "                                   # max_bin=120,\n",
    "                                   # lambda_l1=6,\n",
    "                                   # lambda_l2=2,\n",
    "                                   save_binary=True,\n",
    "                                   feature_fraction=0.8,\n",
    "                                   feature_fraction_seed=42,\n",
    "                                   n_jobs=-1)\n",
    "    \n",
    "    print(\"fitting\")\n",
    "    lgb_model.fit(X_fit, y_fit, eval_metric='auc', \n",
    "                  eval_set=[(X_val, y_val)], \n",
    "                  verbose=100, early_stopping_rounds=100)\n",
    "    \n",
    "    del X_fit, X_val, y_fit, y_val, train_index, test_index\n",
    "    gc.collect()\n",
    "    \n",
    "    print(\"predicting\")\n",
    "    lgb_test_result += lgb_model.predict_proba(test)[:,1]\n",
    "    counter += 1\n",
    "    \n",
    "    gc.collect()"
   ]
  },
  {
   "cell_type": "markdown",
   "metadata": {},
   "source": [
    "# Crazy Method - 4달 미뤄서 훈련시켜보기"
   ]
  },
  {
   "cell_type": "code",
   "execution_count": 112,
   "metadata": {
    "ExecuteTime": {
     "end_time": "2019-03-11T08:01:02.971857Z",
     "start_time": "2019-03-11T08:00:51.641255Z"
    }
   },
   "outputs": [
    {
     "data": {
      "text/plain": [
       "8"
      ]
     },
     "execution_count": 112,
     "metadata": {},
     "output_type": "execute_result"
    }
   ],
   "source": [
    "temp = data[(data.Date_YMD >= '2018-05-26') & (data.Date_YMD <= '2018-11-25')]\n",
    "del temp['Date']\n",
    "gc.collect()"
   ]
  },
  {
   "cell_type": "code",
   "execution_count": 113,
   "metadata": {
    "ExecuteTime": {
     "end_time": "2019-03-11T08:01:16.002085Z",
     "start_time": "2019-03-11T08:01:02.973852Z"
    }
   },
   "outputs": [
    {
     "data": {
      "text/plain": [
       "14"
      ]
     },
     "execution_count": 113,
     "metadata": {},
     "output_type": "execute_result"
    }
   ],
   "source": [
    "train = temp[~temp.HasDetections.isna()]\n",
    "test = temp[temp.HasDetections.isna()]\n",
    "\n",
    "del temp\n",
    "gc.collect()"
   ]
  },
  {
   "cell_type": "code",
   "execution_count": 114,
   "metadata": {
    "ExecuteTime": {
     "end_time": "2019-03-11T08:01:19.446896Z",
     "start_time": "2019-03-11T08:01:16.005067Z"
    }
   },
   "outputs": [
    {
     "data": {
      "text/plain": [
       "0"
      ]
     },
     "execution_count": 114,
     "metadata": {},
     "output_type": "execute_result"
    }
   ],
   "source": [
    "train = train[train.Date_YMD <= '2018-07-25']\n",
    "test = test[test.Date_YMD >= '2018-09-26']\n",
    "\n",
    "gc.collect()"
   ]
  },
  {
   "cell_type": "code",
   "execution_count": 115,
   "metadata": {
    "ExecuteTime": {
     "end_time": "2019-03-11T08:01:19.584492Z",
     "start_time": "2019-03-11T08:01:19.453840Z"
    }
   },
   "outputs": [],
   "source": [
    "# 2달 미루기\n",
    "train.Date_YMD = train.Date_YMD + pd.offsets.MonthOffset(2)"
   ]
  },
  {
   "cell_type": "code",
   "execution_count": 116,
   "metadata": {
    "ExecuteTime": {
     "end_time": "2019-03-11T08:01:19.597497Z",
     "start_time": "2019-03-11T08:01:19.586486Z"
    }
   },
   "outputs": [],
   "source": [
    "train.reset_index(drop=True, inplace=True)\n",
    "test.reset_index(drop=True, inplace=True)"
   ]
  },
  {
   "cell_type": "code",
   "execution_count": 117,
   "metadata": {
    "ExecuteTime": {
     "end_time": "2019-03-11T08:01:19.604467Z",
     "start_time": "2019-03-11T08:01:19.598454Z"
    }
   },
   "outputs": [
    {
     "data": {
      "text/plain": [
       "(749917, 84)"
      ]
     },
     "execution_count": 117,
     "metadata": {},
     "output_type": "execute_result"
    }
   ],
   "source": [
    "train.shape"
   ]
  },
  {
   "cell_type": "code",
   "execution_count": 118,
   "metadata": {
    "ExecuteTime": {
     "end_time": "2019-03-11T08:01:19.610452Z",
     "start_time": "2019-03-11T08:01:19.606433Z"
    }
   },
   "outputs": [
    {
     "data": {
      "text/plain": [
       "(6598039, 84)"
      ]
     },
     "execution_count": 118,
     "metadata": {},
     "output_type": "execute_result"
    }
   ],
   "source": [
    "test.shape"
   ]
  },
  {
   "cell_type": "code",
   "execution_count": 119,
   "metadata": {
    "ExecuteTime": {
     "end_time": "2019-03-11T08:01:20.230769Z",
     "start_time": "2019-03-11T08:01:19.611420Z"
    }
   },
   "outputs": [
    {
     "data": {
      "text/plain": [
       "7"
      ]
     },
     "execution_count": 119,
     "metadata": {},
     "output_type": "execute_result"
    }
   ],
   "source": [
    "del train['AvSigVersion'], test['AvSigVersion']\n",
    "gc.collect()"
   ]
  },
  {
   "cell_type": "code",
   "execution_count": 127,
   "metadata": {
    "ExecuteTime": {
     "end_time": "2019-03-11T08:09:09.471338Z",
     "start_time": "2019-03-11T08:02:38.054745Z"
    },
    "scrolled": false
   },
   "outputs": [
    {
     "name": "stdout",
     "output_type": "stream",
     "text": [
      "Transform all features to category.\n",
      "\n"
     ]
    },
    {
     "data": {
      "application/vnd.jupyter.widget-view+json": {
       "model_id": "63451e4a514a4a64bb9bd67bc01b3e94",
       "version_major": 2,
       "version_minor": 0
      },
      "text/plain": [
       "HBox(children=(IntProgress(value=0, max=81), HTML(value='')))"
      ]
     },
     "metadata": {},
     "output_type": "display_data"
    },
    {
     "name": "stdout",
     "output_type": "stream",
     "text": [
      "\n"
     ]
    }
   ],
   "source": [
    "print('Transform all features to category.\\n')\n",
    "for usecol in tqdm_notebook([col for col in train.columns if col not in ['HasDetections', 'MachineIdentifier']]):\n",
    "\n",
    "    train[usecol] = train[usecol].astype('str')\n",
    "    test[usecol] = test[usecol].astype('str')\n",
    "    \n",
    "    #Fit LabelEncoder\n",
    "    le = LabelEncoder().fit(\n",
    "            np.unique(train[usecol].unique().tolist()+\n",
    "                      test[usecol].unique().tolist()))\n",
    "\n",
    "    #At the end 0 will be used for dropped values\n",
    "    train[usecol] = le.transform(train[usecol])+1\n",
    "    test[usecol]  = le.transform(test[usecol])+1\n",
    "\n",
    "    agg_tr = (train\n",
    "              .groupby([usecol])\n",
    "              .aggregate({'MachineIdentifier':'count'})\n",
    "              .reset_index()\n",
    "              .rename({'MachineIdentifier':'Train'}, axis=1))\n",
    "    \n",
    "    agg_te = (test\n",
    "              .groupby([usecol])\n",
    "              .aggregate({'MachineIdentifier':'count'})\n",
    "              .reset_index()\n",
    "              .rename({'MachineIdentifier':'Test'}, axis=1))\n",
    "\n",
    "    agg = pd.merge(agg_tr, agg_te, on=usecol, how='outer').replace(np.nan, 0)\n",
    "\n",
    "    #Select values with more than 1000 observations\n",
    "    agg = agg[(agg['Train'] > 94)].reset_index(drop=True)\n",
    "    agg['Total'] = agg['Train'] + agg['Test'] / 10\n",
    "    #Drop unbalanced values\n",
    "    agg = agg[(agg['Train'] / (agg['Total']) > 0.2) & (agg['Train'] / (agg['Total']) < 0.8)]\n",
    "    agg[usecol+'Copy'] = agg[usecol]\n",
    "        \n",
    "    train[usecol] = (pd.merge(train[[usecol]], \n",
    "                              agg[[usecol, usecol+'Copy']], \n",
    "                              on=usecol, how='left')[usecol+'Copy']\n",
    "                     .replace(np.nan, 0).astype('int').astype('category'))\n",
    "\n",
    "    test[usecol]  = (pd.merge(test[[usecol]], \n",
    "                              agg[[usecol, usecol+'Copy']], \n",
    "                              on=usecol, how='left')[usecol+'Copy']\n",
    "                     .replace(np.nan, 0).astype('int').astype('category'))\n",
    "\n",
    "    del le, agg_tr, agg_te, agg, usecol\n",
    "    gc.collect()"
   ]
  },
  {
   "cell_type": "code",
   "execution_count": 128,
   "metadata": {
    "ExecuteTime": {
     "end_time": "2019-03-11T08:37:06.047850Z",
     "start_time": "2019-03-11T08:37:06.043862Z"
    }
   },
   "outputs": [
    {
     "data": {
      "text/plain": [
       "(749917, 83)"
      ]
     },
     "execution_count": 128,
     "metadata": {},
     "output_type": "execute_result"
    }
   ],
   "source": [
    "train.shape"
   ]
  },
  {
   "cell_type": "code",
   "execution_count": 129,
   "metadata": {
    "ExecuteTime": {
     "end_time": "2019-03-11T08:37:10.563320Z",
     "start_time": "2019-03-11T08:37:10.548310Z"
    }
   },
   "outputs": [],
   "source": [
    "y_train = np.array(train['HasDetections'])\n",
    "train_ids = train.index\n",
    "test_ids  = test.index"
   ]
  },
  {
   "cell_type": "code",
   "execution_count": 130,
   "metadata": {
    "ExecuteTime": {
     "end_time": "2019-03-11T08:37:11.334145Z",
     "start_time": "2019-03-11T08:37:11.258354Z"
    }
   },
   "outputs": [
    {
     "data": {
      "text/plain": [
       "28"
      ]
     },
     "execution_count": 130,
     "metadata": {},
     "output_type": "execute_result"
    }
   ],
   "source": [
    "del train['HasDetections'], train['MachineIdentifier'], test['MachineIdentifier'], test['HasDetections']\n",
    "gc.collect()"
   ]
  },
  {
   "cell_type": "code",
   "execution_count": 131,
   "metadata": {
    "ExecuteTime": {
     "end_time": "2019-03-11T08:37:11.747826Z",
     "start_time": "2019-03-11T08:37:11.736894Z"
    },
    "scrolled": true
   },
   "outputs": [
    {
     "name": "stdout",
     "output_type": "stream",
     "text": [
      "If you don't want use Sparse Matrix choose Kernel Version 2 to get simple solution.\n",
      "\n",
      "--------------------------------------------------------------------------------------------------------\n",
      "Transform Data to Sparse Matrix.\n",
      "Sparse Matrix can be used to fit a lot of models, eg. XGBoost, LightGBM, Random Forest, K-Means and etc.\n",
      "To concatenate Sparse Matrices by column use hstack()\n",
      "Read more about Sparse Matrix https://docs.scipy.org/doc/scipy/reference/sparse.html\n",
      "Good Luck!\n",
      "--------------------------------------------------------------------------------------------------------\n"
     ]
    }
   ],
   "source": [
    "print(\"If you don't want use Sparse Matrix choose Kernel Version 2 to get simple solution.\\n\")\n",
    "\n",
    "print('--------------------------------------------------------------------------------------------------------')\n",
    "print('Transform Data to Sparse Matrix.')\n",
    "print('Sparse Matrix can be used to fit a lot of models, eg. XGBoost, LightGBM, Random Forest, K-Means and etc.')\n",
    "print('To concatenate Sparse Matrices by column use hstack()')\n",
    "print('Read more about Sparse Matrix https://docs.scipy.org/doc/scipy/reference/sparse.html')\n",
    "print('Good Luck!')\n",
    "print('--------------------------------------------------------------------------------------------------------')\n"
   ]
  },
  {
   "cell_type": "code",
   "execution_count": 132,
   "metadata": {
    "ExecuteTime": {
     "end_time": "2019-03-11T08:37:43.732073Z",
     "start_time": "2019-03-11T08:37:13.860053Z"
    }
   },
   "outputs": [],
   "source": [
    "#Fit OneHotEncoder\n",
    "ohe = OneHotEncoder(categories='auto', sparse=True, dtype='uint8').fit(train.append(test))"
   ]
  },
  {
   "cell_type": "code",
   "execution_count": 133,
   "metadata": {
    "ExecuteTime": {
     "end_time": "2019-03-11T08:39:09.679128Z",
     "start_time": "2019-03-11T08:37:43.734068Z"
    }
   },
   "outputs": [],
   "source": [
    "#Transform data using small groups to reduce memory usage\n",
    "m = 100000\n",
    "train = vstack([ohe.transform(train[i*m:(i+1)*m]) for i in range(train.shape[0] // m + 1)])\n",
    "test  = vstack([ohe.transform(test[i*m:(i+1)*m])  for i in range(test.shape[0] // m +  1)])"
   ]
  },
  {
   "cell_type": "code",
   "execution_count": 134,
   "metadata": {
    "ExecuteTime": {
     "end_time": "2019-03-11T08:39:09.684117Z",
     "start_time": "2019-03-11T08:39:09.680126Z"
    }
   },
   "outputs": [
    {
     "data": {
      "text/plain": [
       "(749917, 6651)"
      ]
     },
     "execution_count": 134,
     "metadata": {},
     "output_type": "execute_result"
    }
   ],
   "source": [
    "train.shape"
   ]
  },
  {
   "cell_type": "code",
   "execution_count": 135,
   "metadata": {
    "ExecuteTime": {
     "end_time": "2019-03-11T08:39:09.695116Z",
     "start_time": "2019-03-11T08:39:09.686111Z"
    }
   },
   "outputs": [
    {
     "data": {
      "text/plain": [
       "(6598039, 6651)"
      ]
     },
     "execution_count": 135,
     "metadata": {},
     "output_type": "execute_result"
    }
   ],
   "source": [
    "test.shape"
   ]
  },
  {
   "cell_type": "code",
   "execution_count": 136,
   "metadata": {
    "ExecuteTime": {
     "end_time": "2019-03-11T08:40:22.094726Z",
     "start_time": "2019-03-11T08:39:19.081645Z"
    }
   },
   "outputs": [],
   "source": [
    "save_npz('./data_temp/train.npz', train, compressed=True)\n",
    "save_npz('./data_temp/test.npz',  test,  compressed=True)"
   ]
  },
  {
   "cell_type": "code",
   "execution_count": 137,
   "metadata": {
    "ExecuteTime": {
     "end_time": "2019-03-11T08:40:22.554016Z",
     "start_time": "2019-03-11T08:40:22.096721Z"
    }
   },
   "outputs": [
    {
     "data": {
      "text/plain": [
       "1148"
      ]
     },
     "execution_count": 137,
     "metadata": {},
     "output_type": "execute_result"
    }
   ],
   "source": [
    "del ohe, train, test\n",
    "gc.collect()"
   ]
  },
  {
   "cell_type": "code",
   "execution_count": 138,
   "metadata": {
    "ExecuteTime": {
     "end_time": "2019-03-11T08:40:32.335091Z",
     "start_time": "2019-03-11T08:40:22.555013Z"
    }
   },
   "outputs": [],
   "source": [
    "train = load_npz('./data_temp/train.npz')\n",
    "test = load_npz('./data_temp/test.npz')\n",
    "test = csr_matrix(test, dtype='float32')"
   ]
  },
  {
   "cell_type": "code",
   "execution_count": 139,
   "metadata": {
    "ExecuteTime": {
     "end_time": "2019-03-11T08:40:32.343095Z",
     "start_time": "2019-03-11T08:40:32.338085Z"
    }
   },
   "outputs": [
    {
     "data": {
      "text/plain": [
       "(749917, 6651)"
      ]
     },
     "execution_count": 139,
     "metadata": {},
     "output_type": "execute_result"
    }
   ],
   "source": [
    "train.shape"
   ]
  },
  {
   "cell_type": "code",
   "execution_count": 140,
   "metadata": {
    "ExecuteTime": {
     "end_time": "2019-03-11T08:40:32.351050Z",
     "start_time": "2019-03-11T08:40:32.346064Z"
    }
   },
   "outputs": [
    {
     "data": {
      "text/plain": [
       "(6598039, 6651)"
      ]
     },
     "execution_count": 140,
     "metadata": {},
     "output_type": "execute_result"
    }
   ],
   "source": [
    "test.shape"
   ]
  },
  {
   "cell_type": "code",
   "execution_count": 141,
   "metadata": {
    "ExecuteTime": {
     "end_time": "2019-03-11T08:40:32.360026Z",
     "start_time": "2019-03-11T08:40:32.353043Z"
    }
   },
   "outputs": [],
   "source": [
    "skf = StratifiedKFold(n_splits=3, shuffle=True, random_state=42)\n",
    "skf.get_n_splits(train_ids, y_train)\n",
    "\n",
    "lgb_test_result  = np.zeros(test_ids.shape[0])\n",
    "lgb_train_result = np.zeros(train_ids.shape[0])\n",
    "counter = 0"
   ]
  },
  {
   "cell_type": "code",
   "execution_count": 142,
   "metadata": {
    "ExecuteTime": {
     "end_time": "2019-03-11T08:56:36.098992Z",
     "start_time": "2019-03-11T08:40:35.121474Z"
    },
    "scrolled": false
   },
   "outputs": [
    {
     "name": "stdout",
     "output_type": "stream",
     "text": [
      "\n",
      "LightGBM\n",
      "\n",
      "Fold 1\n",
      "\n",
      "fitting\n",
      "Training until validation scores don't improve for 100 rounds.\n",
      "[100]\tvalid_0's auc: 0.674795\tvalid_0's binary_logloss: 0.620621\n",
      "[200]\tvalid_0's auc: 0.681594\tvalid_0's binary_logloss: 0.616375\n",
      "[300]\tvalid_0's auc: 0.683513\tvalid_0's binary_logloss: 0.615177\n",
      "[400]\tvalid_0's auc: 0.684402\tvalid_0's binary_logloss: 0.614616\n",
      "[500]\tvalid_0's auc: 0.684942\tvalid_0's binary_logloss: 0.614282\n",
      "[600]\tvalid_0's auc: 0.685345\tvalid_0's binary_logloss: 0.614011\n",
      "[700]\tvalid_0's auc: 0.685678\tvalid_0's binary_logloss: 0.613785\n",
      "[800]\tvalid_0's auc: 0.685888\tvalid_0's binary_logloss: 0.613628\n",
      "[900]\tvalid_0's auc: 0.686112\tvalid_0's binary_logloss: 0.613472\n",
      "[1000]\tvalid_0's auc: 0.686285\tvalid_0's binary_logloss: 0.613357\n",
      "[1100]\tvalid_0's auc: 0.686443\tvalid_0's binary_logloss: 0.613273\n",
      "[1200]\tvalid_0's auc: 0.686614\tvalid_0's binary_logloss: 0.613137\n",
      "[1300]\tvalid_0's auc: 0.686685\tvalid_0's binary_logloss: 0.613086\n",
      "[1400]\tvalid_0's auc: 0.686819\tvalid_0's binary_logloss: 0.612997\n",
      "[1500]\tvalid_0's auc: 0.686808\tvalid_0's binary_logloss: 0.612975\n",
      "Early stopping, best iteration is:\n",
      "[1450]\tvalid_0's auc: 0.686895\tvalid_0's binary_logloss: 0.612938\n",
      "predicting\n",
      "Fold 2\n",
      "\n",
      "fitting\n",
      "Training until validation scores don't improve for 100 rounds.\n",
      "[100]\tvalid_0's auc: 0.67395\tvalid_0's binary_logloss: 0.62113\n",
      "[200]\tvalid_0's auc: 0.680807\tvalid_0's binary_logloss: 0.616904\n",
      "[300]\tvalid_0's auc: 0.683026\tvalid_0's binary_logloss: 0.615574\n",
      "[400]\tvalid_0's auc: 0.683899\tvalid_0's binary_logloss: 0.61502\n",
      "[500]\tvalid_0's auc: 0.68456\tvalid_0's binary_logloss: 0.614614\n",
      "[600]\tvalid_0's auc: 0.684977\tvalid_0's binary_logloss: 0.614361\n",
      "[700]\tvalid_0's auc: 0.685272\tvalid_0's binary_logloss: 0.614146\n",
      "[800]\tvalid_0's auc: 0.68558\tvalid_0's binary_logloss: 0.613938\n",
      "[900]\tvalid_0's auc: 0.685898\tvalid_0's binary_logloss: 0.613723\n",
      "[1000]\tvalid_0's auc: 0.686094\tvalid_0's binary_logloss: 0.613584\n",
      "[1100]\tvalid_0's auc: 0.686271\tvalid_0's binary_logloss: 0.61345\n",
      "[1200]\tvalid_0's auc: 0.68646\tvalid_0's binary_logloss: 0.613334\n",
      "[1300]\tvalid_0's auc: 0.686491\tvalid_0's binary_logloss: 0.613302\n",
      "[1400]\tvalid_0's auc: 0.686541\tvalid_0's binary_logloss: 0.613245\n",
      "[1500]\tvalid_0's auc: 0.68661\tvalid_0's binary_logloss: 0.613185\n",
      "[1600]\tvalid_0's auc: 0.686689\tvalid_0's binary_logloss: 0.613126\n",
      "[1700]\tvalid_0's auc: 0.686709\tvalid_0's binary_logloss: 0.613117\n",
      "Early stopping, best iteration is:\n",
      "[1602]\tvalid_0's auc: 0.686725\tvalid_0's binary_logloss: 0.61311\n",
      "predicting\n",
      "Fold 3\n",
      "\n",
      "fitting\n",
      "Training until validation scores don't improve for 100 rounds.\n",
      "[100]\tvalid_0's auc: 0.676144\tvalid_0's binary_logloss: 0.620185\n",
      "[200]\tvalid_0's auc: 0.683362\tvalid_0's binary_logloss: 0.615658\n",
      "[300]\tvalid_0's auc: 0.685489\tvalid_0's binary_logloss: 0.614392\n",
      "[400]\tvalid_0's auc: 0.686581\tvalid_0's binary_logloss: 0.61375\n",
      "[500]\tvalid_0's auc: 0.687174\tvalid_0's binary_logloss: 0.613378\n",
      "[600]\tvalid_0's auc: 0.687606\tvalid_0's binary_logloss: 0.613108\n",
      "[700]\tvalid_0's auc: 0.687913\tvalid_0's binary_logloss: 0.612887\n",
      "[800]\tvalid_0's auc: 0.688168\tvalid_0's binary_logloss: 0.612681\n",
      "[900]\tvalid_0's auc: 0.688392\tvalid_0's binary_logloss: 0.612519\n",
      "[1000]\tvalid_0's auc: 0.688532\tvalid_0's binary_logloss: 0.612409\n",
      "[1100]\tvalid_0's auc: 0.68876\tvalid_0's binary_logloss: 0.612259\n",
      "[1200]\tvalid_0's auc: 0.688907\tvalid_0's binary_logloss: 0.612154\n",
      "[1300]\tvalid_0's auc: 0.689017\tvalid_0's binary_logloss: 0.61208\n",
      "[1400]\tvalid_0's auc: 0.689149\tvalid_0's binary_logloss: 0.611999\n",
      "[1500]\tvalid_0's auc: 0.689238\tvalid_0's binary_logloss: 0.611917\n",
      "[1600]\tvalid_0's auc: 0.689264\tvalid_0's binary_logloss: 0.611882\n",
      "[1700]\tvalid_0's auc: 0.689304\tvalid_0's binary_logloss: 0.611834\n",
      "[1800]\tvalid_0's auc: 0.689312\tvalid_0's binary_logloss: 0.61182\n",
      "Early stopping, best iteration is:\n",
      "[1740]\tvalid_0's auc: 0.689328\tvalid_0's binary_logloss: 0.611816\n",
      "predicting\n"
     ]
    }
   ],
   "source": [
    "print('\\nLightGBM\\n')\n",
    "\n",
    "for train_index, test_index in skf.split(train_ids, y_train):\n",
    "    \n",
    "    print('Fold {}\\n'.format(counter + 1))\n",
    "    \n",
    "    X_fit = vstack([train[train_index[i*m:(i+1)*m]] for i in range(train_index.shape[0] // m + 1)])\n",
    "    X_val = vstack([train[test_index[i*m:(i+1)*m]]  for i in range(test_index.shape[0] //  m + 1)])\n",
    "    X_fit, X_val = csr_matrix(X_fit, dtype='float32'), csr_matrix(X_val, dtype='float32')\n",
    "    y_fit, y_val = y_train[train_index], y_train[test_index]\n",
    "    \n",
    "    gc.collect()\n",
    "\n",
    "    lgb_model = lgb.LGBMClassifier(max_depth=-1,\n",
    "                                   n_estimators=30000,\n",
    "                                   learning_rate=0.05,\n",
    "                                   num_leaves=2**5-1,\n",
    "                                   objective='binary', \n",
    "                                   boosting_type='gbdt',\n",
    "                                   # overfitting handling\n",
    "                                   # max_bin=120,\n",
    "                                   # lambda_l1=6,\n",
    "                                   # lambda_l2=2,\n",
    "                                   save_binary=True,\n",
    "                                   feature_fraction=0.8,\n",
    "                                   feature_fraction_seed=42,\n",
    "                                   n_jobs=-1)\n",
    "    \n",
    "    print(\"fitting\")\n",
    "    lgb_model.fit(X_fit, y_fit, eval_metric='auc', \n",
    "                  eval_set=[(X_val, y_val)], \n",
    "                  verbose=100, early_stopping_rounds=100)\n",
    "    \n",
    "    del X_fit, X_val, y_fit, y_val, train_index, test_index\n",
    "    gc.collect()\n",
    "    \n",
    "    print(\"predicting\")\n",
    "    lgb_test_result += lgb_model.predict_proba(test)[:,1]\n",
    "    counter += 1\n",
    "    \n",
    "    gc.collect()"
   ]
  },
  {
   "cell_type": "code",
   "execution_count": 169,
   "metadata": {
    "ExecuteTime": {
     "end_time": "2019-03-11T09:03:35.638240Z",
     "start_time": "2019-03-11T09:03:32.965124Z"
    }
   },
   "outputs": [
    {
     "data": {
      "text/plain": [
       "<matplotlib.axes._subplots.AxesSubplot at 0x251f64d5208>"
      ]
     },
     "execution_count": 169,
     "metadata": {},
     "output_type": "execute_result"
    },
    {
     "data": {
      "image/png": "[encoded data removed]",
      "text/plain": [
       "<Figure size 432x288 with 1 Axes>"
      ]
     },
     "metadata": {
      "needs_background": "light"
     },
     "output_type": "display_data"
    }
   ],
   "source": [
    "sns.distplot(lgb_test_result/3)"
   ]
  },
  {
   "cell_type": "code",
   "execution_count": 85,
   "metadata": {
    "ExecuteTime": {
     "end_time": "2019-03-10T11:54:59.984851Z",
     "start_time": "2019-03-10T11:54:41.317477Z"
    }
   },
   "outputs": [],
   "source": [
    "pd.DataFrame(lgb_test_result/3).to_csv('./data_temp/temp_11.csv')"
   ]
  }
 ],
 "metadata": {
  "kernelspec": {
   "display_name": "Python 3",
   "language": "python",
   "name": "python3"
  },
  "language_info": {
   "codemirror_mode": {
    "name": "ipython",
    "version": 3
   },
   "file_extension": ".py",
   "mimetype": "text/x-python",
   "name": "python",
   "nbconvert_exporter": "python",
   "pygments_lexer": "ipython3",
   "version": "3.6.7"
  },
  "toc": {
   "base_numbering": 1,
   "nav_menu": {},
   "number_sections": true,
   "sideBar": true,
   "skip_h1_title": false,
   "title_cell": "Table of Contents",
   "title_sidebar": "Contents",
   "toc_cell": false,
   "toc_position": {
    "height": "calc(100% - 180px)",
    "left": "10px",
    "top": "150px",
    "width": "455.764px"
   },
   "toc_section_display": true,
   "toc_window_display": true
  }
 },
 "nbformat": 4,
 "nbformat_minor": 2
}
