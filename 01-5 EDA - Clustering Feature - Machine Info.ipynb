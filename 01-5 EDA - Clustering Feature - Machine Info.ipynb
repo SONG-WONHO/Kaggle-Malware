{
 "cells": [
  {
   "cell_type": "markdown",
   "metadata": {},
   "source": [
    "# EDA - Clustering Feature - Machine Info\n",
    "* 멀웨어 소프트웨어가 아닌 하드웨어 특성에 대한 EDA"
   ]
  },
  {
   "cell_type": "markdown",
   "metadata": {},
   "source": [
    "## 라이브러리"
   ]
  },
  {
   "cell_type": "code",
   "execution_count": 1,
   "metadata": {
    "ExecuteTime": {
     "end_time": "2019-02-14T10:04:02.046837Z",
     "start_time": "2019-02-14T10:04:01.059107Z"
    }
   },
   "outputs": [],
   "source": [
    "import numpy as np\n",
    "import pandas as pd\n",
    "import warnings\n",
    "import gc\n",
    "warnings.filterwarnings(\"ignore\")"
   ]
  },
  {
   "cell_type": "code",
   "execution_count": 2,
   "metadata": {
    "ExecuteTime": {
     "end_time": "2019-02-14T10:04:02.073513Z",
     "start_time": "2019-02-14T10:04:02.048688Z"
    }
   },
   "outputs": [],
   "source": [
    "pd.set_option('max_rows', 500)\n",
    "pd.set_option('max_colwidth', 500)\n",
    "pd.set_option('max_columns', 500)"
   ]
  },
  {
   "cell_type": "markdown",
   "metadata": {},
   "source": [
    "## 데이터 로드"
   ]
  },
  {
   "cell_type": "code",
   "execution_count": 3,
   "metadata": {
    "ExecuteTime": {
     "end_time": "2019-02-14T10:04:04.295125Z",
     "start_time": "2019-02-14T10:04:04.273779Z"
    },
    "hide_input": false
   },
   "outputs": [],
   "source": [
    "dtypes = {\n",
    "        'MachineIdentifier':                                    'object',\n",
    "        'ProductName':                                          'category',\n",
    "        'EngineVersion':                                        'category',\n",
    "        'AppVersion':                                           'category',\n",
    "        'AvSigVersion':                                         'category',\n",
    "        'IsBeta':                                               'int8',\n",
    "        'RtpStateBitfield':                                     'float16',\n",
    "        'IsSxsPassiveMode':                                     'int8',\n",
    "        'DefaultBrowsersIdentifier':                            'float16',\n",
    "        'AVProductStatesIdentifier':                            'float32',\n",
    "        'AVProductsInstalled':                                  'float16',\n",
    "        'AVProductsEnabled':                                    'float16',\n",
    "        'HasTpm':                                               'int8',\n",
    "        'CountryIdentifier':                                    'int16',\n",
    "        'CityIdentifier':                                       'float32',\n",
    "        'OrganizationIdentifier':                               'float16',\n",
    "        'GeoNameIdentifier':                                    'float16',\n",
    "        'LocaleEnglishNameIdentifier':                          'int8',\n",
    "        'Platform':                                             'category',\n",
    "        'Processor':                                            'category',\n",
    "        'OsVer':                                                'category',\n",
    "        'OsBuild':                                              'int16',\n",
    "        'OsSuite':                                              'int16',\n",
    "        'OsPlatformSubRelease':                                 'category',\n",
    "        'OsBuildLab':                                           'category',\n",
    "        'SkuEdition':                                           'category',\n",
    "        'IsProtected':                                          'float16',\n",
    "        'AutoSampleOptIn':                                      'int8',\n",
    "        'PuaMode':                                              'category',\n",
    "        'SMode':                                                'float16',\n",
    "        'IeVerIdentifier':                                      'float16',\n",
    "        'SmartScreen':                                          'category',\n",
    "        'Firewall':                                             'float16',\n",
    "        'UacLuaenable':                                         'float32',\n",
    "        'Census_MDC2FormFactor':                                'category',\n",
    "        'Census_DeviceFamily':                                  'category',\n",
    "        'Census_OEMNameIdentifier':                             'float16',\n",
    "        'Census_OEMModelIdentifier':                            'float32',\n",
    "        'Census_ProcessorCoreCount':                            'float16',\n",
    "        'Census_ProcessorManufacturerIdentifier':               'float16',\n",
    "        'Census_ProcessorModelIdentifier':                      'float16',\n",
    "        'Census_ProcessorClass':                                'category',\n",
    "        'Census_PrimaryDiskTotalCapacity':                      'float32',\n",
    "        'Census_PrimaryDiskTypeName':                           'category',\n",
    "        'Census_SystemVolumeTotalCapacity':                     'float32',\n",
    "        'Census_HasOpticalDiskDrive':                           'int8',\n",
    "        'Census_TotalPhysicalRAM':                              'float32',\n",
    "        'Census_ChassisTypeName':                               'category',\n",
    "        'Census_InternalPrimaryDiagonalDisplaySizeInInches':    'float16',\n",
    "        'Census_InternalPrimaryDisplayResolutionHorizontal':    'float16',\n",
    "        'Census_InternalPrimaryDisplayResolutionVertical':      'float16',\n",
    "        'Census_PowerPlatformRoleName':                         'category',\n",
    "        'Census_InternalBatteryType':                           'category',\n",
    "        'Census_InternalBatteryNumberOfCharges':                'float32',\n",
    "        'Census_OSVersion':                                     'category',\n",
    "        'Census_OSArchitecture':                                'category',\n",
    "        'Census_OSBranch':                                      'category',\n",
    "        'Census_OSBuildNumber':                                 'int16',\n",
    "        'Census_OSBuildRevision':                               'int32',\n",
    "        'Census_OSEdition':                                     'category',\n",
    "        'Census_OSSkuName':                                     'category',\n",
    "        'Census_OSInstallTypeName':                             'category',\n",
    "        'Census_OSInstallLanguageIdentifier':                   'float16',\n",
    "        'Census_OSUILocaleIdentifier':                          'int16',\n",
    "        'Census_OSWUAutoUpdateOptionsName':                     'category',\n",
    "        'Census_IsPortableOperatingSystem':                     'int8',\n",
    "        'Census_GenuineStateName':                              'category',\n",
    "        'Census_ActivationChannel':                             'category',\n",
    "        'Census_IsFlightingInternal':                           'float16',\n",
    "        'Census_IsFlightsDisabled':                             'float16',\n",
    "        'Census_FlightRing':                                    'category',\n",
    "        'Census_ThresholdOptIn':                                'float16',\n",
    "        'Census_FirmwareManufacturerIdentifier':                'float16',\n",
    "        'Census_FirmwareVersionIdentifier':                     'float32',\n",
    "        'Census_IsSecureBootEnabled':                           'int8',\n",
    "        'Census_IsWIMBootEnabled':                              'float16',\n",
    "        'Census_IsVirtualDevice':                               'float16',\n",
    "        'Census_IsTouchEnabled':                                'int8',\n",
    "        'Census_IsPenCapable':                                  'int8',\n",
    "        'Census_IsAlwaysOnAlwaysConnectedCapable':              'float16',\n",
    "        'Wdft_IsGamer':                                         'float16',\n",
    "        'Wdft_RegionIdentifier':                                'float16',\n",
    "        'HasDetections':                                        'int8'\n",
    "        }"
   ]
  },
  {
   "cell_type": "code",
   "execution_count": 4,
   "metadata": {
    "ExecuteTime": {
     "end_time": "2019-02-14T10:12:56.426804Z",
     "start_time": "2019-02-14T10:04:10.691846Z"
    }
   },
   "outputs": [
    {
     "name": "stdout",
     "output_type": "stream",
     "text": [
      "Wall time: 8min 45s\n"
     ]
    }
   ],
   "source": [
    "%%time\n",
    "train = pd.read_csv('./data/train.csv', dtype=dtypes)\n",
    "test = pd.read_csv('./data/test.csv', dtype=dtypes)"
   ]
  },
  {
   "cell_type": "code",
   "execution_count": 5,
   "metadata": {
    "ExecuteTime": {
     "end_time": "2019-02-14T10:13:14.998909Z",
     "start_time": "2019-02-14T10:12:56.429590Z"
    }
   },
   "outputs": [],
   "source": [
    "data = train.append(test)"
   ]
  },
  {
   "cell_type": "markdown",
   "metadata": {},
   "source": [
    "## Machine Info 관련 피처"
   ]
  },
  {
   "cell_type": "markdown",
   "metadata": {},
   "source": [
    "* Processor\n",
    "* Census_MDC2FormFactor\n",
    "* Census_DeviceFamily\n",
    "* Census_ProcessorCoreCount\n",
    "* Census_ProcessorManufacturerIdentifier\n",
    "* Census_ProcessorModelIdentifier\n",
    "* Census_ProcessorClass\n",
    "* Census_PrimaryDiskTotalCapacity\n",
    "* Census_PrimaryDiskTypeName\n",
    "* Census_SystemVolumeTotalCapacity\n",
    "* Census_HasOpticalDiskDrive\n",
    "* Census_TotalPhysicalRAM\n",
    "* Census_ChassisTypeName\n",
    "* Census_InternalPrimaryDiagonalDisplaySizeInInches\n",
    "* Census_InternalPrimaryDisplayResolutionHorizontal\n",
    "* Census_InternalPrimaryDisplayResolutionVertical\n",
    "* Census_PowerPlatformRoleName\n",
    "* Census_InternalBatteryType\n",
    "* Census_InternalBatteryNumberOfCharges\n",
    "* Census_OSArchitecture (삭제)\n",
    "* Census_IsTouchEnabled\n",
    "* Census_IsPenCapable\n",
    "* Census_IsAlwaysOnAlwaysConnectedCapable"
   ]
  },
  {
   "cell_type": "markdown",
   "metadata": {},
   "source": [
    "### Processor"
   ]
  },
  {
   "cell_type": "code",
   "execution_count": 23,
   "metadata": {
    "ExecuteTime": {
     "end_time": "2019-02-14T11:12:42.603003Z",
     "start_time": "2019-02-14T11:12:42.340434Z"
    }
   },
   "outputs": [
    {
     "data": {
      "text/plain": [
       "x64      15278795\n",
       "x86       1495384\n",
       "arm64         557\n",
       "Name: Processor, dtype: int64"
      ]
     },
     "execution_count": 23,
     "metadata": {},
     "output_type": "execute_result"
    }
   ],
   "source": [
    "data.Processor.value_counts(dropna=False)"
   ]
  },
  {
   "cell_type": "markdown",
   "metadata": {},
   "source": [
    "### Census_OSArchitecture"
   ]
  },
  {
   "cell_type": "code",
   "execution_count": 24,
   "metadata": {
    "ExecuteTime": {
     "end_time": "2019-02-14T11:12:50.423761Z",
     "start_time": "2019-02-14T11:12:50.148340Z"
    }
   },
   "outputs": [
    {
     "data": {
      "text/plain": [
       "amd64    15280552\n",
       "x86       1493627\n",
       "arm64         557\n",
       "Name: Census_OSArchitecture, dtype: int64"
      ]
     },
     "execution_count": 24,
     "metadata": {},
     "output_type": "execute_result"
    }
   ],
   "source": [
    "data.Census_OSArchitecture.value_counts(dropna=False)"
   ]
  },
  {
   "cell_type": "markdown",
   "metadata": {},
   "source": [
    "### Census_MDC2FormFactor"
   ]
  },
  {
   "cell_type": "code",
   "execution_count": 25,
   "metadata": {
    "ExecuteTime": {
     "end_time": "2019-02-14T11:17:17.262652Z",
     "start_time": "2019-02-14T11:17:13.122935Z"
    }
   },
   "outputs": [
    {
     "data": {
      "text/plain": [
       "Notebook        10652855\n",
       "Desktop          3813472\n",
       "Convertible       744141\n",
       "AllInOne          547632\n",
       "Detachable        544171\n",
       "PCOther           275408\n",
       "LargeTablet       121325\n",
       "SmallTablet        52491\n",
       "SmallServer        15563\n",
       "MediumServer        6169\n",
       "LargeServer         1453\n",
       "ServerOther           53\n",
       "IoTOther               2\n",
       "Other                  1\n",
       "Name: Census_MDC2FormFactor, dtype: int64"
      ]
     },
     "execution_count": 25,
     "metadata": {},
     "output_type": "execute_result"
    }
   ],
   "source": [
    "data.Census_MDC2FormFactor.value_counts(dropna=False)"
   ]
  },
  {
   "cell_type": "markdown",
   "metadata": {},
   "source": [
    "### Census_DeviceFamily\n",
    "* Windows를 Windows.Desktop으로 치환"
   ]
  },
  {
   "cell_type": "code",
   "execution_count": 27,
   "metadata": {
    "ExecuteTime": {
     "end_time": "2019-02-14T11:18:23.444113Z",
     "start_time": "2019-02-14T11:18:23.172646Z"
    }
   },
   "outputs": [
    {
     "data": {
      "text/plain": [
       "Windows.Desktop    16749228\n",
       "Windows.Server        25463\n",
       "Windows                  45\n",
       "Name: Census_DeviceFamily, dtype: int64"
      ]
     },
     "execution_count": 27,
     "metadata": {},
     "output_type": "execute_result"
    }
   ],
   "source": [
    "data.Census_DeviceFamily.value_counts(dropna=False)"
   ]
  },
  {
   "cell_type": "code",
   "execution_count": 28,
   "metadata": {
    "ExecuteTime": {
     "end_time": "2019-02-14T11:19:09.632122Z",
     "start_time": "2019-02-14T11:18:49.440817Z"
    }
   },
   "outputs": [
    {
     "data": {
      "text/plain": [
       "Census_DeviceFamily  Census_MDC2FormFactor\n",
       "Windows.Desktop      AllInOne                   547618\n",
       "                     Convertible                744132\n",
       "                     Desktop                   3808557\n",
       "                     Detachable                 544170\n",
       "                     IoTOther                        2\n",
       "                     LargeServer                    15\n",
       "                     LargeTablet                121323\n",
       "                     MediumServer                  969\n",
       "                     Notebook                 10652495\n",
       "                     Other                           1\n",
       "                     PCOther                    275402\n",
       "                     SmallServer                  2053\n",
       "                     SmallTablet                 52491\n",
       "Windows.Server       AllInOne                       12\n",
       "                     Convertible                     7\n",
       "                     Desktop                      4899\n",
       "                     LargeServer                  1438\n",
       "                     MediumServer                 5200\n",
       "                     Notebook                      341\n",
       "                     PCOther                         3\n",
       "                     ServerOther                    53\n",
       "                     SmallServer                 13510\n",
       "Windows              AllInOne                        2\n",
       "                     Convertible                     2\n",
       "                     Desktop                        16\n",
       "                     Detachable                      1\n",
       "                     LargeTablet                     2\n",
       "                     Notebook                       19\n",
       "                     PCOther                         3\n",
       "dtype: int64"
      ]
     },
     "execution_count": 28,
     "metadata": {},
     "output_type": "execute_result"
    }
   ],
   "source": [
    "data.groupby(['Census_DeviceFamily', 'Census_MDC2FormFactor']).size()"
   ]
  },
  {
   "cell_type": "code",
   "execution_count": 35,
   "metadata": {
    "ExecuteTime": {
     "end_time": "2019-02-14T11:26:16.257847Z",
     "start_time": "2019-02-14T11:26:16.087942Z"
    }
   },
   "outputs": [
    {
     "data": {
      "text/plain": [
       "Census_MDC2FormFactor\n",
       "AllInOne           3.0\n",
       "Convertible        2.0\n",
       "Desktop         1240.0\n",
       "Detachable         0.0\n",
       "LargeServer      219.0\n",
       "LargeTablet        0.0\n",
       "MediumServer     857.0\n",
       "Notebook          77.0\n",
       "PCOther            0.0\n",
       "SmallServer     2627.0\n",
       "SmallTablet        0.0\n",
       "ServerOther        9.0\n",
       "IoTOther           0.0\n",
       "Name: HasDetections, dtype: float64"
      ]
     },
     "execution_count": 35,
     "metadata": {},
     "output_type": "execute_result"
    }
   ],
   "source": [
    "train[train.Census_DeviceFamily == 'Windows.Server'].groupby('Census_MDC2FormFactor')['HasDetections'].sum()"
   ]
  },
  {
   "cell_type": "code",
   "execution_count": 38,
   "metadata": {
    "ExecuteTime": {
     "end_time": "2019-02-14T11:27:04.412790Z",
     "start_time": "2019-02-14T11:27:04.070084Z"
    }
   },
   "outputs": [
    {
     "data": {
      "text/plain": [
       "Census_MDC2FormFactor\n",
       "AllInOne        60.000000\n",
       "Convertible     66.666667\n",
       "Desktop         45.074518\n",
       "Detachable            NaN\n",
       "LargeServer     25.259516\n",
       "LargeTablet           NaN\n",
       "MediumServer    29.369431\n",
       "Notebook        39.285714\n",
       "PCOther          0.000000\n",
       "SmallServer     34.393820\n",
       "SmallTablet           NaN\n",
       "ServerOther     30.000000\n",
       "IoTOther              NaN\n",
       "dtype: float64"
      ]
     },
     "execution_count": 38,
     "metadata": {},
     "output_type": "execute_result"
    }
   ],
   "source": [
    "100 * (train[train.Census_DeviceFamily == 'Windows.Server'].groupby('Census_MDC2FormFactor')['HasDetections'].sum() / train[train.Census_DeviceFamily == 'Windows.Server'].groupby('Census_MDC2FormFactor').size())"
   ]
  },
  {
   "cell_type": "code",
   "execution_count": null,
   "metadata": {},
   "outputs": [],
   "source": []
  }
 ],
 "metadata": {
  "kernelspec": {
   "display_name": "Python 3",
   "language": "python",
   "name": "python3"
  },
  "language_info": {
   "codemirror_mode": {
    "name": "ipython",
    "version": 3
   },
   "file_extension": ".py",
   "mimetype": "text/x-python",
   "name": "python",
   "nbconvert_exporter": "python",
   "pygments_lexer": "ipython3",
   "version": "3.6.7"
  },
  "toc": {
   "base_numbering": 1,
   "nav_menu": {},
   "number_sections": true,
   "sideBar": true,
   "skip_h1_title": false,
   "title_cell": "Table of Contents",
   "title_sidebar": "Contents",
   "toc_cell": false,
   "toc_position": {},
   "toc_section_display": true,
   "toc_window_display": false
  }
 },
 "nbformat": 4,
 "nbformat_minor": 2
}
