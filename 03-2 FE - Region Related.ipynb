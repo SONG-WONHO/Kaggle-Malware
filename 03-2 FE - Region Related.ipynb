{
 "cells": [
  {
   "cell_type": "markdown",
   "metadata": {},
   "source": [
    "# 사전작업"
   ]
  },
  {
   "cell_type": "markdown",
   "metadata": {},
   "source": [
    "## 라이브러리"
   ]
  },
  {
   "cell_type": "code",
   "execution_count": 1,
   "metadata": {
    "ExecuteTime": {
     "end_time": "2019-03-05T15:45:23.165256Z",
     "start_time": "2019-03-05T15:45:22.233778Z"
    }
   },
   "outputs": [],
   "source": [
    "import numpy as np\n",
    "import pandas as pd\n",
    "import warnings\n",
    "import gc\n",
    "import matplotlib.pyplot as plt\n",
    "from tqdm import tqdm_notebook\n",
    "warnings.filterwarnings(\"ignore\")"
   ]
  },
  {
   "cell_type": "code",
   "execution_count": 2,
   "metadata": {
    "ExecuteTime": {
     "end_time": "2019-03-05T15:45:23.977132Z",
     "start_time": "2019-03-05T15:45:23.973136Z"
    }
   },
   "outputs": [],
   "source": [
    "pd.set_option('max_rows', 500)\n",
    "pd.set_option('max_colwidth', 500)\n",
    "pd.set_option('max_columns', 500)"
   ]
  },
  {
   "cell_type": "markdown",
   "metadata": {},
   "source": [
    "## 데이터 로드"
   ]
  },
  {
   "cell_type": "code",
   "execution_count": 3,
   "metadata": {
    "ExecuteTime": {
     "end_time": "2019-03-05T15:45:25.498488Z",
     "start_time": "2019-03-05T15:45:25.487516Z"
    },
    "hide_input": true
   },
   "outputs": [],
   "source": [
    "dtypes = {\n",
    "        'MachineIdentifier':                                    'object',\n",
    "        'ProductName':                                          'category',\n",
    "        'EngineVersion':                                        'category',\n",
    "        'AppVersion':                                           'category',\n",
    "        'AvSigVersion':                                         'category',\n",
    "        'IsBeta':                                               'int8',\n",
    "        'RtpStateBitfield':                                     'float16',\n",
    "        'IsSxsPassiveMode':                                     'int8',\n",
    "        'DefaultBrowsersIdentifier':                            'float16',\n",
    "        'AVProductStatesIdentifier':                            'float32',\n",
    "        'AVProductsInstalled':                                  'float16',\n",
    "        'AVProductsEnabled':                                    'float16',\n",
    "        'HasTpm':                                               'int8',\n",
    "        'CountryIdentifier':                                    'int16',\n",
    "        'CityIdentifier':                                       'float32',\n",
    "        'OrganizationIdentifier':                               'float16',\n",
    "        'GeoNameIdentifier':                                    'float16',\n",
    "        'LocaleEnglishNameIdentifier':                          'int8',\n",
    "        'Platform':                                             'category',\n",
    "        'Processor':                                            'category',\n",
    "        'OsVer':                                                'category',\n",
    "        'OsBuild':                                              'int16',\n",
    "        'OsSuite':                                              'int16',\n",
    "        'OsPlatformSubRelease':                                 'category',\n",
    "        'OsBuildLab':                                           'category',\n",
    "        'SkuEdition':                                           'category',\n",
    "        'IsProtected':                                          'float16',\n",
    "        'AutoSampleOptIn':                                      'int8',\n",
    "        'PuaMode':                                              'category',\n",
    "        'SMode':                                                'float16',\n",
    "        'IeVerIdentifier':                                      'float16',\n",
    "        'SmartScreen':                                          'category',\n",
    "        'Firewall':                                             'float16',\n",
    "        'UacLuaenable':                                         'float32',\n",
    "        'Census_MDC2FormFactor':                                'category',\n",
    "        'Census_DeviceFamily':                                  'category',\n",
    "        'Census_OEMNameIdentifier':                             'float16',\n",
    "        'Census_OEMModelIdentifier':                            'float32',\n",
    "        'Census_ProcessorCoreCount':                            'float16',\n",
    "        'Census_ProcessorManufacturerIdentifier':               'float16',\n",
    "        'Census_ProcessorModelIdentifier':                      'float16',\n",
    "        'Census_ProcessorClass':                                'category',\n",
    "        'Census_PrimaryDiskTotalCapacity':                      'float32',\n",
    "        'Census_PrimaryDiskTypeName':                           'category',\n",
    "        'Census_SystemVolumeTotalCapacity':                     'float32',\n",
    "        'Census_HasOpticalDiskDrive':                           'int8',\n",
    "        'Census_TotalPhysicalRAM':                              'float32',\n",
    "        'Census_ChassisTypeName':                               'category',\n",
    "        'Census_InternalPrimaryDiagonalDisplaySizeInInches':    'float16',\n",
    "        'Census_InternalPrimaryDisplayResolutionHorizontal':    'float16',\n",
    "        'Census_InternalPrimaryDisplayResolutionVertical':      'float16',\n",
    "        'Census_PowerPlatformRoleName':                         'category',\n",
    "        'Census_InternalBatteryType':                           'category',\n",
    "        'Census_InternalBatteryNumberOfCharges':                'float32',\n",
    "        'Census_OSVersion':                                     'category',\n",
    "        'Census_OSArchitecture':                                'category',\n",
    "        'Census_OSBranch':                                      'category',\n",
    "        'Census_OSBuildNumber':                                 'int16',\n",
    "        'Census_OSBuildRevision':                               'int32',\n",
    "        'Census_OSEdition':                                     'category',\n",
    "        'Census_OSSkuName':                                     'category',\n",
    "        'Census_OSInstallTypeName':                             'category',\n",
    "        'Census_OSInstallLanguageIdentifier':                   'float16',\n",
    "        'Census_OSUILocaleIdentifier':                          'int16',\n",
    "        'Census_OSWUAutoUpdateOptionsName':                     'category',\n",
    "        'Census_IsPortableOperatingSystem':                     'int8',\n",
    "        'Census_GenuineStateName':                              'category',\n",
    "        'Census_ActivationChannel':                             'category',\n",
    "        'Census_IsFlightingInternal':                           'float16',\n",
    "        'Census_IsFlightsDisabled':                             'float16',\n",
    "        'Census_FlightRing':                                    'category',\n",
    "        'Census_ThresholdOptIn':                                'float16',\n",
    "        'Census_FirmwareManufacturerIdentifier':                'float16',\n",
    "        'Census_FirmwareVersionIdentifier':                     'float32',\n",
    "        'Census_IsSecureBootEnabled':                           'int8',\n",
    "        'Census_IsWIMBootEnabled':                              'float16',\n",
    "        'Census_IsVirtualDevice':                               'float16',\n",
    "        'Census_IsTouchEnabled':                                'int8',\n",
    "        'Census_IsPenCapable':                                  'int8',\n",
    "        'Census_IsAlwaysOnAlwaysConnectedCapable':              'float16',\n",
    "        'Wdft_IsGamer':                                         'float16',\n",
    "        'Wdft_RegionIdentifier':                                'float16',\n",
    "        'HasDetections':                                        'int8'\n",
    "        }"
   ]
  },
  {
   "cell_type": "code",
   "execution_count": 4,
   "metadata": {
    "ExecuteTime": {
     "end_time": "2019-03-05T15:48:51.999703Z",
     "start_time": "2019-03-05T15:45:29.161099Z"
    }
   },
   "outputs": [
    {
     "name": "stdout",
     "output_type": "stream",
     "text": [
      "Wall time: 3min 22s\n"
     ]
    }
   ],
   "source": [
    "%%time\n",
    "train = pd.read_csv('./data/train.csv', dtype=dtypes)\n",
    "test = pd.read_csv('./data/test.csv', dtype=dtypes)"
   ]
  },
  {
   "cell_type": "code",
   "execution_count": 5,
   "metadata": {
    "ExecuteTime": {
     "end_time": "2019-03-05T15:48:59.779502Z",
     "start_time": "2019-03-05T15:48:52.001697Z"
    }
   },
   "outputs": [],
   "source": [
    "data = train.append(test)"
   ]
  },
  {
   "cell_type": "code",
   "execution_count": 6,
   "metadata": {
    "ExecuteTime": {
     "end_time": "2019-03-05T15:49:15.502238Z",
     "start_time": "2019-03-05T15:48:59.779502Z"
    }
   },
   "outputs": [],
   "source": [
    "data = data.reset_index(drop=True)"
   ]
  },
  {
   "cell_type": "markdown",
   "metadata": {},
   "source": [
    "## 임시 데이터 로드"
   ]
  },
  {
   "cell_type": "code",
   "execution_count": 7,
   "metadata": {
    "ExecuteTime": {
     "end_time": "2019-03-05T15:49:35.829366Z",
     "start_time": "2019-03-05T15:49:15.513679Z"
    }
   },
   "outputs": [],
   "source": [
    "temp = pd.read_csv('./data_temp/new_feature_region.csv')"
   ]
  },
  {
   "cell_type": "code",
   "execution_count": 8,
   "metadata": {
    "ExecuteTime": {
     "end_time": "2019-03-05T15:49:37.058573Z",
     "start_time": "2019-03-05T15:49:35.829366Z"
    }
   },
   "outputs": [],
   "source": [
    "for col in temp.columns:\n",
    "    data[col] = temp[col]"
   ]
  },
  {
   "cell_type": "markdown",
   "metadata": {},
   "source": [
    "# 지역 관련 피처"
   ]
  },
  {
   "cell_type": "markdown",
   "metadata": {},
   "source": [
    "- CountryIdentifier\n",
    "- CityIdentifier\n",
    "- OrganizationIdentifier\n",
    "- GeoNameIdentifier\n",
    "- LocaleEnglishNameIdentifier\n",
    "- Census_OSInstallLanguageIdentifier\n",
    "- Census_OSUILocaleIdentifier\n",
    "- Wdft_RegionIdentifier\n",
    "- Census_OEMNameIdentifier\n",
    "- Census_OEMModelIdentifier"
   ]
  },
  {
   "cell_type": "markdown",
   "metadata": {},
   "source": [
    "# Combined"
   ]
  },
  {
   "cell_type": "code",
   "execution_count": 9,
   "metadata": {
    "ExecuteTime": {
     "end_time": "2019-03-05T15:49:37.063010Z",
     "start_time": "2019-03-05T15:49:37.060248Z"
    }
   },
   "outputs": [],
   "source": [
    "new_cols = ['MachineIdentifier', 'HasDetections']"
   ]
  },
  {
   "cell_type": "markdown",
   "metadata": {},
   "source": [
    "## Country + City"
   ]
  },
  {
   "cell_type": "markdown",
   "metadata": {},
   "source": [
    "* 한 도시에 나라가 여러 개 존재하는 경우\n",
    "* 나라당 도시의 갯수"
   ]
  },
  {
   "cell_type": "markdown",
   "metadata": {},
   "source": [
    "### 한 도시에 나라가 여러개 존재하는 경우"
   ]
  },
  {
   "cell_type": "code",
   "execution_count": 6,
   "metadata": {
    "ExecuteTime": {
     "end_time": "2019-03-04T23:30:51.479588Z",
     "start_time": "2019-03-04T23:30:37.338051Z"
    }
   },
   "outputs": [],
   "source": [
    "city = data.groupby(['CityIdentifier', 'CountryIdentifier']).size().to_frame().reset_index()"
   ]
  },
  {
   "cell_type": "code",
   "execution_count": 9,
   "metadata": {
    "ExecuteTime": {
     "end_time": "2019-03-04T23:31:32.548721Z",
     "start_time": "2019-03-04T23:31:32.542701Z"
    }
   },
   "outputs": [],
   "source": [
    "city.rename(columns={0:'size'}, inplace=True)"
   ]
  },
  {
   "cell_type": "code",
   "execution_count": 13,
   "metadata": {
    "ExecuteTime": {
     "end_time": "2019-03-04T23:33:34.302538Z",
     "start_time": "2019-03-04T23:32:29.420047Z"
    },
    "scrolled": false
   },
   "outputs": [
    {
     "data": {
      "application/vnd.jupyter.widget-view+json": {
       "model_id": "a2d751272ac945dca70552e7114563f1",
       "version_major": 2,
       "version_minor": 0
      },
      "text/plain": [
       "HBox(children=(IntProgress(value=0, max=130523), HTML(value='')))"
      ]
     },
     "metadata": {},
     "output_type": "display_data"
    },
    {
     "name": "stdout",
     "output_type": "stream",
     "text": [
      "\n"
     ]
    }
   ],
   "source": [
    "dic = {}\n",
    "for idx in tqdm_notebook(city.CityIdentifier.unique().tolist()):\n",
    "    if city[city.CityIdentifier == idx].__len__() != 1:\n",
    "        dic[idx] = city[city.CityIdentifier == idx].sort_values('size').iloc[-1].CountryIdentifier"
   ]
  },
  {
   "cell_type": "code",
   "execution_count": null,
   "metadata": {},
   "outputs": [],
   "source": [
    "data['CityIdx_CountryIdx_multi'] = 0"
   ]
  },
  {
   "cell_type": "code",
   "execution_count": 22,
   "metadata": {
    "ExecuteTime": {
     "end_time": "2019-03-05T00:21:18.216968Z",
     "start_time": "2019-03-04T23:36:53.315113Z"
    },
    "scrolled": true
   },
   "outputs": [
    {
     "data": {
      "application/vnd.jupyter.widget-view+json": {
       "model_id": "76b6048e0dc94558b92bc4f22be63aae",
       "version_major": 2,
       "version_minor": 0
      },
      "text/plain": [
       "HBox(children=(IntProgress(value=0, max=4235), HTML(value='')))"
      ]
     },
     "metadata": {},
     "output_type": "display_data"
    },
    {
     "name": "stdout",
     "output_type": "stream",
     "text": [
      "\n"
     ]
    }
   ],
   "source": [
    "for city_idx, country_idx in tqdm_notebook(dic.items()):\n",
    "    data.loc[data.CityIdentifier == city_idx, 'CountryIdentifier'] = country_idx\n",
    "    data.loc[data.CityIdentifier == city_idx, 'CityIdx_CountryIdx_multi'] = 1"
   ]
  },
  {
   "cell_type": "markdown",
   "metadata": {},
   "source": [
    "##### 임시저장"
   ]
  },
  {
   "cell_type": "code",
   "execution_count": 10,
   "metadata": {
    "ExecuteTime": {
     "end_time": "2019-03-05T15:49:37.068994Z",
     "start_time": "2019-03-05T15:49:37.065005Z"
    }
   },
   "outputs": [],
   "source": [
    "new_cols = new_cols + ['CountryIdentifier', 'CityIdx_CountryIdx_multi']"
   ]
  },
  {
   "cell_type": "code",
   "execution_count": 11,
   "metadata": {
    "ExecuteTime": {
     "end_time": "2019-03-05T15:49:37.073985Z",
     "start_time": "2019-03-05T15:49:37.070987Z"
    }
   },
   "outputs": [],
   "source": [
    "# data[new_cols].to_csv('./data_temp/new_feature_region.csv', index=False)"
   ]
  },
  {
   "cell_type": "markdown",
   "metadata": {},
   "source": [
    "### 나라별 도시의 개수\n",
    "* 나라별 도시의 개수\n",
    "* 나라별 도시의 개수 grade - log, min-max"
   ]
  },
  {
   "cell_type": "code",
   "execution_count": 101,
   "metadata": {
    "ExecuteTime": {
     "end_time": "2019-03-05T03:08:48.363492Z",
     "start_time": "2019-03-05T03:08:44.064956Z"
    }
   },
   "outputs": [
    {
     "data": {
      "application/vnd.jupyter.widget-view+json": {
       "model_id": "706fd6efb1c940a7a92236250a3d1386",
       "version_major": 2,
       "version_minor": 0
      },
      "text/plain": [
       "HBox(children=(IntProgress(value=0, max=222), HTML(value='')))"
      ]
     },
     "metadata": {},
     "output_type": "display_data"
    },
    {
     "name": "stdout",
     "output_type": "stream",
     "text": [
      "\n"
     ]
    }
   ],
   "source": [
    "# 나라별 도시의 개수\n",
    "temp = data.groupby(['CountryIdentifier', 'CityIdentifier']).size()\n",
    "dic = {}\n",
    "for country_idx in tqdm_notebook(data.CountryIdentifier.unique()):\n",
    "    dic[country_idx] = temp.loc[country_idx].__len__()"
   ]
  },
  {
   "cell_type": "code",
   "execution_count": 97,
   "metadata": {
    "ExecuteTime": {
     "end_time": "2019-03-05T03:08:04.118134Z",
     "start_time": "2019-03-05T03:07:54.106864Z"
    }
   },
   "outputs": [],
   "source": [
    "data['CityCnt_Per_Country'] = data.CountryIdentifier.map(dic)\n",
    "data['CityCnt_Per_Country_Minmax'] = np.around((data.CityCnt_Per_Country - data.CityCnt_Per_Country.min()) / (data.CityCnt_Per_Country.max() - data.CityCnt_Per_Country.min()) * 10).astype(int)\n",
    "data['CityCnt_Per_Country_Log'] = np.around(np.log(data.CityCnt_Per_Country)).astype(int)"
   ]
  },
  {
   "cell_type": "markdown",
   "metadata": {},
   "source": [
    "### 나라별 데이터의 개수\n",
    "* 나라별 데이터의 개수\n",
    "* 나라별 데이터의 개수 grede - log, min-max"
   ]
  },
  {
   "cell_type": "code",
   "execution_count": 102,
   "metadata": {
    "ExecuteTime": {
     "end_time": "2019-03-05T03:09:08.137475Z",
     "start_time": "2019-03-05T03:09:07.135558Z"
    }
   },
   "outputs": [],
   "source": [
    "# 나라별 데이터의 개수\n",
    "temp = data.groupby(['CountryIdentifier']).size()"
   ]
  },
  {
   "cell_type": "code",
   "execution_count": 104,
   "metadata": {
    "ExecuteTime": {
     "end_time": "2019-03-05T03:11:21.457263Z",
     "start_time": "2019-03-05T03:11:07.195373Z"
    }
   },
   "outputs": [],
   "source": [
    "data['DataCnt_Per_Country'] = data.CountryIdentifier.map(temp)\n",
    "data['DataCnt_Per_Country_Minmax'] = np.around((data.DataCnt_Per_Country - data.DataCnt_Per_Country.min()) / (data.DataCnt_Per_Country.max() - data.DataCnt_Per_Country.min()) * 10).astype(int)\n",
    "data['DataCnt_Per_Country_Log'] = np.around(np.log(data.DataCnt_Per_Country)).astype(int)"
   ]
  },
  {
   "cell_type": "markdown",
   "metadata": {},
   "source": [
    "##### 임시저장"
   ]
  },
  {
   "cell_type": "code",
   "execution_count": 12,
   "metadata": {
    "ExecuteTime": {
     "end_time": "2019-03-05T15:49:37.078967Z",
     "start_time": "2019-03-05T15:49:37.074977Z"
    }
   },
   "outputs": [],
   "source": [
    "new_cols = new_cols + ['CityCnt_Per_Country', 'CityCnt_Per_Country_Minmax', 'CityCnt_Per_Country_Log',\n",
    "                       'DataCnt_Per_Country', 'DataCnt_Per_Country_Minmax', 'DataCnt_Per_Country_Log']"
   ]
  },
  {
   "cell_type": "code",
   "execution_count": 13,
   "metadata": {
    "ExecuteTime": {
     "end_time": "2019-03-05T15:49:37.082956Z",
     "start_time": "2019-03-05T15:49:37.079963Z"
    }
   },
   "outputs": [],
   "source": [
    "# data[new_cols].to_csv('./data_temp/new_feature_region.csv', index=False)"
   ]
  },
  {
   "cell_type": "markdown",
   "metadata": {},
   "source": [
    "## CountryIdentifier + CityIdentifier + OrganizationIdentifier"
   ]
  },
  {
   "cell_type": "markdown",
   "metadata": {},
   "source": [
    "### 개인 사용자 vs 기관 사용자"
   ]
  },
  {
   "cell_type": "code",
   "execution_count": 14,
   "metadata": {
    "ExecuteTime": {
     "end_time": "2019-03-05T15:49:37.204173Z",
     "start_time": "2019-03-05T15:49:37.083953Z"
    }
   },
   "outputs": [],
   "source": [
    "data['Personal_User'] = data.OrganizationIdentifier.isna() * 1"
   ]
  },
  {
   "cell_type": "markdown",
   "metadata": {},
   "source": [
    "### 특정 나라의 특정 도시의 특정 기관"
   ]
  },
  {
   "cell_type": "code",
   "execution_count": 15,
   "metadata": {
    "ExecuteTime": {
     "end_time": "2019-03-05T15:49:41.592021Z",
     "start_time": "2019-03-05T15:49:37.204173Z"
    }
   },
   "outputs": [],
   "source": [
    "temp = data.groupby(['CountryIdentifier', 'CityIdentifier', 'OrganizationIdentifier']).size().to_frame().drop([0], axis=1)\n",
    "temp['label'] = range(1, len(temp) + 1)"
   ]
  },
  {
   "cell_type": "code",
   "execution_count": 16,
   "metadata": {
    "ExecuteTime": {
     "end_time": "2019-03-05T15:49:41.598296Z",
     "start_time": "2019-03-05T15:49:41.592021Z"
    }
   },
   "outputs": [],
   "source": [
    "def get_org(data):\n",
    "    try:\n",
    "        return temp.loc[data.CountryIdentifier, data.CityIdentifier, data.OrganizationIdentifier]\n",
    "    except:\n",
    "        return np.nan"
   ]
  },
  {
   "cell_type": "code",
   "execution_count": 29,
   "metadata": {
    "ExecuteTime": {
     "end_time": "2019-03-05T17:09:23.582270Z",
     "start_time": "2019-03-05T16:00:18.064123Z"
    }
   },
   "outputs": [],
   "source": [
    "data['NewOrganizationIdentifier'] = data[['CountryIdentifier', 'CityIdentifier', 'OrganizationIdentifier']].apply(get_org, axis=1)"
   ]
  },
  {
   "cell_type": "markdown",
   "metadata": {},
   "source": [
    "##### 임시저장"
   ]
  },
  {
   "cell_type": "code",
   "execution_count": 30,
   "metadata": {
    "ExecuteTime": {
     "end_time": "2019-03-05T17:09:23.629048Z",
     "start_time": "2019-03-05T17:09:23.597853Z"
    }
   },
   "outputs": [],
   "source": [
    "new_cols = new_cols + ['Personal_User', 'NewOrganizationIdentifier']"
   ]
  },
  {
   "cell_type": "code",
   "execution_count": 31,
   "metadata": {
    "ExecuteTime": {
     "end_time": "2019-03-05T17:11:59.206578Z",
     "start_time": "2019-03-05T17:09:23.629048Z"
    }
   },
   "outputs": [],
   "source": [
    "# data[new_cols].to_csv('./data_temp/new_feature_region.csv', index=False)"
   ]
  }
 ],
 "metadata": {
  "kernelspec": {
   "display_name": "Python 3",
   "language": "python",
   "name": "python3"
  },
  "language_info": {
   "codemirror_mode": {
    "name": "ipython",
    "version": 3
   },
   "file_extension": ".py",
   "mimetype": "text/x-python",
   "name": "python",
   "nbconvert_exporter": "python",
   "pygments_lexer": "ipython3",
   "version": "3.6.7"
  },
  "toc": {
   "base_numbering": 1,
   "nav_menu": {},
   "number_sections": true,
   "sideBar": true,
   "skip_h1_title": false,
   "title_cell": "Table of Contents",
   "title_sidebar": "Contents",
   "toc_cell": false,
   "toc_position": {},
   "toc_section_display": true,
   "toc_window_display": true
  }
 },
 "nbformat": 4,
 "nbformat_minor": 2
}
