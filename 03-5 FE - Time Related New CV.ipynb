{
 "cells": [
  {
   "cell_type": "markdown",
   "metadata": {},
   "source": [
    "# 사전작업"
   ]
  },
  {
   "cell_type": "markdown",
   "metadata": {},
   "source": [
    "## 라이브러리 로드"
   ]
  },
  {
   "cell_type": "code",
   "execution_count": 59,
   "metadata": {
    "ExecuteTime": {
     "end_time": "2019-03-10T02:41:03.872786Z",
     "start_time": "2019-03-10T02:41:03.858825Z"
    }
   },
   "outputs": [],
   "source": [
    "import numpy as np\n",
    "import pandas as pd\n",
    "import warnings\n",
    "import gc\n",
    "from tqdm import tqdm_notebook\n",
    "import lightgbm as lgb\n",
    "from scipy.sparse import vstack, csr_matrix, save_npz, load_npz\n",
    "from sklearn.preprocessing import LabelEncoder, OneHotEncoder\n",
    "from sklearn.model_selection import StratifiedKFold\n",
    "import matplotlib.pyplot as plt\n",
    "import seaborn as sns\n",
    "from sklearn.compose import ColumnTransformer\n",
    "\n",
    "warnings.filterwarnings(\"ignore\")\n",
    "gc.enable()\n",
    "# sns.set()"
   ]
  },
  {
   "cell_type": "code",
   "execution_count": 60,
   "metadata": {
    "ExecuteTime": {
     "end_time": "2019-03-10T02:41:04.078423Z",
     "start_time": "2019-03-10T02:41:04.074421Z"
    }
   },
   "outputs": [],
   "source": [
    "pd.set_option('max_rows', 150)\n",
    "pd.set_option('max_colwidth', 500)\n",
    "pd.set_option('max_columns', 500)"
   ]
  },
  {
   "cell_type": "code",
   "execution_count": 61,
   "metadata": {
    "ExecuteTime": {
     "end_time": "2019-03-10T02:41:04.442519Z",
     "start_time": "2019-03-10T02:41:04.429564Z"
    },
    "hide_input": true
   },
   "outputs": [],
   "source": [
    "dtypes = {\n",
    "        'MachineIdentifier':                                    'object',\n",
    "        'ProductName':                                          'category',\n",
    "        'EngineVersion':                                        'category',\n",
    "        'AppVersion':                                           'category',\n",
    "        'AvSigVersion':                                         'category',\n",
    "        'IsBeta':                                               'int8',\n",
    "        'RtpStateBitfield':                                     'float16',\n",
    "        'IsSxsPassiveMode':                                     'int8',\n",
    "        'DefaultBrowsersIdentifier':                            'float16',\n",
    "        'AVProductStatesIdentifier':                            'float32',\n",
    "        'AVProductsInstalled':                                  'float16',\n",
    "        'AVProductsEnabled':                                    'float16',\n",
    "        'HasTpm':                                               'int8',\n",
    "        'CountryIdentifier':                                    'int16',\n",
    "        'CityIdentifier':                                       'float32',\n",
    "        'OrganizationIdentifier':                               'float16',\n",
    "        'GeoNameIdentifier':                                    'float16',\n",
    "        'LocaleEnglishNameIdentifier':                          'int8',\n",
    "        'Platform':                                             'category',\n",
    "        'Processor':                                            'category',\n",
    "        'OsVer':                                                'category',\n",
    "        'OsBuild':                                              'int16',\n",
    "        'OsSuite':                                              'int16',\n",
    "        'OsPlatformSubRelease':                                 'category',\n",
    "        'OsBuildLab':                                           'category',\n",
    "        'SkuEdition':                                           'category',\n",
    "        'IsProtected':                                          'float16',\n",
    "        'AutoSampleOptIn':                                      'int8',\n",
    "        'PuaMode':                                              'category',\n",
    "        'SMode':                                                'float16',\n",
    "        'IeVerIdentifier':                                      'float16',\n",
    "        'SmartScreen':                                          'category',\n",
    "        'Firewall':                                             'float16',\n",
    "        'UacLuaenable':                                         'float32',\n",
    "        'Census_MDC2FormFactor':                                'category',\n",
    "        'Census_DeviceFamily':                                  'category',\n",
    "        'Census_OEMNameIdentifier':                             'float16',\n",
    "        'Census_OEMModelIdentifier':                            'float32',\n",
    "        'Census_ProcessorCoreCount':                            'float16',\n",
    "        'Census_ProcessorManufacturerIdentifier':               'float16',\n",
    "        'Census_ProcessorModelIdentifier':                      'float16',\n",
    "        'Census_ProcessorClass':                                'category',\n",
    "        'Census_PrimaryDiskTotalCapacity':                      'float32',\n",
    "        'Census_PrimaryDiskTypeName':                           'category',\n",
    "        'Census_SystemVolumeTotalCapacity':                     'float32',\n",
    "        'Census_HasOpticalDiskDrive':                           'int8',\n",
    "        'Census_TotalPhysicalRAM':                              'float32',\n",
    "        'Census_ChassisTypeName':                               'category',\n",
    "        'Census_InternalPrimaryDiagonalDisplaySizeInInches':    'float16',\n",
    "        'Census_InternalPrimaryDisplayResolutionHorizontal':    'float16',\n",
    "        'Census_InternalPrimaryDisplayResolutionVertical':      'float16',\n",
    "        'Census_PowerPlatformRoleName':                         'category',\n",
    "        'Census_InternalBatteryType':                           'category',\n",
    "        'Census_InternalBatteryNumberOfCharges':                'float32',\n",
    "        'Census_OSVersion':                                     'category',\n",
    "        'Census_OSArchitecture':                                'category',\n",
    "        'Census_OSBranch':                                      'category',\n",
    "        'Census_OSBuildNumber':                                 'int16',\n",
    "        'Census_OSBuildRevision':                               'int32',\n",
    "        'Census_OSEdition':                                     'category',\n",
    "        'Census_OSSkuName':                                     'category',\n",
    "        'Census_OSInstallTypeName':                             'category',\n",
    "        'Census_OSInstallLanguageIdentifier':                   'float16',\n",
    "        'Census_OSUILocaleIdentifier':                          'int16',\n",
    "        'Census_OSWUAutoUpdateOptionsName':                     'category',\n",
    "        'Census_IsPortableOperatingSystem':                     'int8',\n",
    "        'Census_GenuineStateName':                              'category',\n",
    "        'Census_ActivationChannel':                             'category',\n",
    "        'Census_IsFlightingInternal':                           'float16',\n",
    "        'Census_IsFlightsDisabled':                             'float16',\n",
    "        'Census_FlightRing':                                    'category',\n",
    "        'Census_ThresholdOptIn':                                'float16',\n",
    "        'Census_FirmwareManufacturerIdentifier':                'float16',\n",
    "        'Census_FirmwareVersionIdentifier':                     'float32',\n",
    "        'Census_IsSecureBootEnabled':                           'int8',\n",
    "        'Census_IsWIMBootEnabled':                              'float16',\n",
    "        'Census_IsVirtualDevice':                               'float16',\n",
    "        'Census_IsTouchEnabled':                                'int8',\n",
    "        'Census_IsPenCapable':                                  'int8',\n",
    "        'Census_IsAlwaysOnAlwaysConnectedCapable':              'float16',\n",
    "        'Wdft_IsGamer':                                         'float16',\n",
    "        'Wdft_RegionIdentifier':                                'float16',\n",
    "        'HasDetections':                                        'int8'\n",
    "        }"
   ]
  },
  {
   "cell_type": "markdown",
   "metadata": {},
   "source": [
    "## 데이터 로드"
   ]
  },
  {
   "cell_type": "code",
   "execution_count": 62,
   "metadata": {
    "ExecuteTime": {
     "end_time": "2019-03-10T02:44:52.795251Z",
     "start_time": "2019-03-10T02:41:05.056862Z"
    },
    "scrolled": true
   },
   "outputs": [
    {
     "name": "stdout",
     "output_type": "stream",
     "text": [
      "Wall time: 3min 47s\n"
     ]
    }
   ],
   "source": [
    "%%time\n",
    "train = pd.read_csv('./data/train.csv', dtype=dtypes)\n",
    "test = pd.read_csv('./data/test.csv', dtype=dtypes)"
   ]
  },
  {
   "cell_type": "markdown",
   "metadata": {},
   "source": [
    "## train, test 합치기"
   ]
  },
  {
   "cell_type": "code",
   "execution_count": 63,
   "metadata": {
    "ExecuteTime": {
     "end_time": "2019-03-10T02:45:56.717634Z",
     "start_time": "2019-03-10T02:44:52.797246Z"
    }
   },
   "outputs": [
    {
     "data": {
      "text/plain": [
       "194614"
      ]
     },
     "execution_count": 63,
     "metadata": {},
     "output_type": "execute_result"
    }
   ],
   "source": [
    "test['HasDetections'] = np.nan\n",
    "data = train.append(test)\n",
    "data.reset_index(drop=True, inplace=True)\n",
    "data = data.reset_index().drop(['MachineIdentifier'], axis=1).rename(columns={'index':'MachineIdentifier'})\n",
    "del train, test\n",
    "gc.collect()"
   ]
  },
  {
   "cell_type": "markdown",
   "metadata": {},
   "source": [
    "## Get Date - AvSigVersion"
   ]
  },
  {
   "cell_type": "code",
   "execution_count": 64,
   "metadata": {
    "ExecuteTime": {
     "end_time": "2019-03-10T02:46:24.195573Z",
     "start_time": "2019-03-10T02:45:56.722620Z"
    }
   },
   "outputs": [],
   "source": [
    "datedict = np.load('./data/AvSigVersionTimestamps.npy')\n",
    "datedict = datedict[()]\n",
    "data['Date'] = data['AvSigVersion'].map(datedict)\n",
    "data['Date_YMD'] = pd.to_datetime(data['Date'].astype(str).str.slice(0, 10))\n",
    "del datedict"
   ]
  },
  {
   "cell_type": "markdown",
   "metadata": {},
   "source": [
    "# New CV"
   ]
  },
  {
   "cell_type": "markdown",
   "metadata": {},
   "source": [
    "* 1) 각 튓점으로 예측 (2017-02-22, 2017-08-24, 2018-03-01)\n",
    "* 2) 지수패턴 ( Test 기준 9월 24일까지)\n",
    "* 3) 그 외"
   ]
  },
  {
   "cell_type": "markdown",
   "metadata": {},
   "source": [
    "## meta"
   ]
  },
  {
   "cell_type": "code",
   "execution_count": 7,
   "metadata": {
    "ExecuteTime": {
     "end_time": "2019-03-08T16:15:30.196279Z",
     "start_time": "2019-03-08T16:15:25.610172Z"
    }
   },
   "outputs": [],
   "source": [
    "test = data[data.HasDetections.isna()]\n",
    "test = test.reset_index(drop=True)\n",
    "root = np.zeros(test.shape[0])\n",
    "\n",
    "idx_1 = test[test.Date_YMD == '2017-02-22'].index\n",
    "idx_2 = test[test.Date_YMD == '2017-08-24'].index\n",
    "idx_3 = test[test.Date_YMD == '2018-03-01'].index"
   ]
  },
  {
   "cell_type": "markdown",
   "metadata": {},
   "source": [
    "## 2017-02-22"
   ]
  },
  {
   "cell_type": "code",
   "execution_count": 8,
   "metadata": {
    "ExecuteTime": {
     "end_time": "2019-03-08T16:15:30.781969Z",
     "start_time": "2019-03-08T16:15:30.197276Z"
    }
   },
   "outputs": [],
   "source": [
    "temp = data[data.Date_YMD == '2017-02-22']\n",
    "del temp['Date_YMD']"
   ]
  },
  {
   "cell_type": "code",
   "execution_count": 9,
   "metadata": {
    "ExecuteTime": {
     "end_time": "2019-03-08T16:15:31.475915Z",
     "start_time": "2019-03-08T16:15:30.783724Z"
    }
   },
   "outputs": [],
   "source": [
    "train = temp[~temp.HasDetections.isna()]\n",
    "test = temp[temp.HasDetections.isna()]"
   ]
  },
  {
   "cell_type": "code",
   "execution_count": 10,
   "metadata": {
    "ExecuteTime": {
     "end_time": "2019-03-08T16:15:31.480856Z",
     "start_time": "2019-03-08T16:15:31.476866Z"
    }
   },
   "outputs": [],
   "source": [
    "train.reset_index(drop=True, inplace=True)\n",
    "test.reset_index(drop=True, inplace=True)"
   ]
  },
  {
   "cell_type": "code",
   "execution_count": 11,
   "metadata": {
    "ExecuteTime": {
     "end_time": "2019-03-08T16:15:51.737755Z",
     "start_time": "2019-03-08T16:15:31.481853Z"
    }
   },
   "outputs": [
    {
     "name": "stdout",
     "output_type": "stream",
     "text": [
      "Transform all features to category.\n",
      "\n"
     ]
    },
    {
     "data": {
      "application/vnd.jupyter.widget-view+json": {
       "model_id": "e229af9f798e447e8f5e9694ae01c32f",
       "version_major": 2,
       "version_minor": 0
      },
      "text/plain": [
       "HBox(children=(IntProgress(value=0, max=82), HTML(value='')))"
      ]
     },
     "metadata": {},
     "output_type": "display_data"
    },
    {
     "name": "stdout",
     "output_type": "stream",
     "text": [
      "\n"
     ]
    }
   ],
   "source": [
    "print('Transform all features to category.\\n')\n",
    "for usecol in tqdm_notebook([col for col in train.columns if col not in ['HasDetections', 'MachineIdentifier']]):\n",
    "\n",
    "    train[usecol] = train[usecol].astype('str')\n",
    "    test[usecol] = test[usecol].astype('str')\n",
    "    \n",
    "    #Fit LabelEncoder\n",
    "    le = LabelEncoder().fit(\n",
    "            np.unique(train[usecol].unique().tolist()+\n",
    "                      test[usecol].unique().tolist()))\n",
    "\n",
    "    #At the end 0 will be used for dropped values\n",
    "    train[usecol] = le.transform(train[usecol])+1\n",
    "    test[usecol]  = le.transform(test[usecol])+1\n",
    "\n",
    "    agg_tr = (train\n",
    "              .groupby([usecol])\n",
    "              .aggregate({'MachineIdentifier':'count'})\n",
    "              .reset_index()\n",
    "              .rename({'MachineIdentifier':'Train'}, axis=1))\n",
    "    \n",
    "    agg_te = (test\n",
    "              .groupby([usecol])\n",
    "              .aggregate({'MachineIdentifier':'count'})\n",
    "              .reset_index()\n",
    "              .rename({'MachineIdentifier':'Test'}, axis=1))\n",
    "\n",
    "    agg = pd.merge(agg_tr, agg_te, on=usecol, how='outer').replace(np.nan, 0)\n",
    "    #Select values with more than 1000 observations\n",
    "    agg = agg[(agg['Train'] > 1000)].reset_index(drop=True)\n",
    "    agg['Total'] = agg['Train'] + agg['Test']\n",
    "    #Drop unbalanced values\n",
    "    agg = agg[(agg['Train'] / agg['Total'] > 0.2) & (agg['Train'] / agg['Total'] < 0.8)]\n",
    "    agg[usecol+'Copy'] = agg[usecol]\n",
    "    \n",
    "    train[usecol] = (pd.merge(train[[usecol]], \n",
    "                              agg[[usecol, usecol+'Copy']], \n",
    "                              on=usecol, how='left')[usecol+'Copy']\n",
    "                     .replace(np.nan, 0).astype('int').astype('category'))\n",
    "\n",
    "    test[usecol]  = (pd.merge(test[[usecol]], \n",
    "                              agg[[usecol, usecol+'Copy']], \n",
    "                              on=usecol, how='left')[usecol+'Copy']\n",
    "                     .replace(np.nan, 0).astype('int').astype('category'))\n",
    "\n",
    "    del le, agg_tr, agg_te, agg, usecol\n",
    "    gc.collect()"
   ]
  },
  {
   "cell_type": "code",
   "execution_count": 12,
   "metadata": {
    "ExecuteTime": {
     "end_time": "2019-03-08T16:15:51.744706Z",
     "start_time": "2019-03-08T16:15:51.739718Z"
    }
   },
   "outputs": [
    {
     "data": {
      "text/plain": [
       "(64386, 84)"
      ]
     },
     "execution_count": 12,
     "metadata": {},
     "output_type": "execute_result"
    }
   ],
   "source": [
    "train.shape"
   ]
  },
  {
   "cell_type": "code",
   "execution_count": 13,
   "metadata": {
    "ExecuteTime": {
     "end_time": "2019-03-08T16:15:51.750689Z",
     "start_time": "2019-03-08T16:15:51.745702Z"
    }
   },
   "outputs": [],
   "source": [
    "y_train = np.array(train['HasDetections'])\n",
    "train_ids = train.index\n",
    "test_ids  = test.index"
   ]
  },
  {
   "cell_type": "code",
   "execution_count": 14,
   "metadata": {
    "ExecuteTime": {
     "end_time": "2019-03-08T16:15:51.786592Z",
     "start_time": "2019-03-08T16:15:51.751686Z"
    }
   },
   "outputs": [
    {
     "data": {
      "text/plain": [
       "14"
      ]
     },
     "execution_count": 14,
     "metadata": {},
     "output_type": "execute_result"
    }
   ],
   "source": [
    "del train['HasDetections'], train['MachineIdentifier'], test['MachineIdentifier'], test['HasDetections']\n",
    "gc.collect()"
   ]
  },
  {
   "cell_type": "code",
   "execution_count": 15,
   "metadata": {
    "ExecuteTime": {
     "end_time": "2019-03-08T16:15:51.799594Z",
     "start_time": "2019-03-08T16:15:51.788589Z"
    }
   },
   "outputs": [
    {
     "name": "stdout",
     "output_type": "stream",
     "text": [
      "If you don't want use Sparse Matrix choose Kernel Version 2 to get simple solution.\n",
      "\n",
      "--------------------------------------------------------------------------------------------------------\n",
      "Transform Data to Sparse Matrix.\n",
      "Sparse Matrix can be used to fit a lot of models, eg. XGBoost, LightGBM, Random Forest, K-Means and etc.\n",
      "To concatenate Sparse Matrices by column use hstack()\n",
      "Read more about Sparse Matrix https://docs.scipy.org/doc/scipy/reference/sparse.html\n",
      "Good Luck!\n",
      "--------------------------------------------------------------------------------------------------------\n"
     ]
    }
   ],
   "source": [
    "print(\"If you don't want use Sparse Matrix choose Kernel Version 2 to get simple solution.\\n\")\n",
    "\n",
    "print('--------------------------------------------------------------------------------------------------------')\n",
    "print('Transform Data to Sparse Matrix.')\n",
    "print('Sparse Matrix can be used to fit a lot of models, eg. XGBoost, LightGBM, Random Forest, K-Means and etc.')\n",
    "print('To concatenate Sparse Matrices by column use hstack()')\n",
    "print('Read more about Sparse Matrix https://docs.scipy.org/doc/scipy/reference/sparse.html')\n",
    "print('Good Luck!')\n",
    "print('--------------------------------------------------------------------------------------------------------')\n"
   ]
  },
  {
   "cell_type": "code",
   "execution_count": 16,
   "metadata": {
    "ExecuteTime": {
     "end_time": "2019-03-08T16:15:52.270299Z",
     "start_time": "2019-03-08T16:15:51.810530Z"
    }
   },
   "outputs": [],
   "source": [
    "#Fit OneHotEncoder\n",
    "ohe = OneHotEncoder(categories='auto', sparse=True, dtype='uint8').fit(train.append(test))"
   ]
  },
  {
   "cell_type": "code",
   "execution_count": 17,
   "metadata": {
    "ExecuteTime": {
     "end_time": "2019-03-08T16:15:53.572847Z",
     "start_time": "2019-03-08T16:15:52.275284Z"
    }
   },
   "outputs": [],
   "source": [
    "#Transform data using small groups to reduce memory usage\n",
    "m = 100000\n",
    "train = vstack([ohe.transform(train[i*m:(i+1)*m]) for i in range(train.shape[0] // m + 1)])\n",
    "test  = vstack([ohe.transform(test[i*m:(i+1)*m])  for i in range(test.shape[0] // m +  1)])"
   ]
  },
  {
   "cell_type": "code",
   "execution_count": 18,
   "metadata": {
    "ExecuteTime": {
     "end_time": "2019-03-08T16:15:54.413186Z",
     "start_time": "2019-03-08T16:15:53.573809Z"
    }
   },
   "outputs": [],
   "source": [
    "save_npz('./data_temp/train.npz', train, compressed=True)\n",
    "save_npz('./data_temp/test.npz',  test,  compressed=True)"
   ]
  },
  {
   "cell_type": "code",
   "execution_count": 19,
   "metadata": {
    "ExecuteTime": {
     "end_time": "2019-03-08T16:15:54.444765Z",
     "start_time": "2019-03-08T16:15:54.413844Z"
    }
   },
   "outputs": [
    {
     "data": {
      "text/plain": [
       "1162"
      ]
     },
     "execution_count": 19,
     "metadata": {},
     "output_type": "execute_result"
    }
   ],
   "source": [
    "del ohe, train, test\n",
    "gc.collect()"
   ]
  },
  {
   "cell_type": "code",
   "execution_count": 20,
   "metadata": {
    "ExecuteTime": {
     "end_time": "2019-03-08T16:15:54.582402Z",
     "start_time": "2019-03-08T16:15:54.445760Z"
    }
   },
   "outputs": [],
   "source": [
    "train = load_npz('./data_temp/train.npz')\n",
    "test = load_npz('./data_temp/test.npz')\n",
    "test = csr_matrix(test, dtype='float32')"
   ]
  },
  {
   "cell_type": "code",
   "execution_count": 21,
   "metadata": {
    "ExecuteTime": {
     "end_time": "2019-03-08T16:15:54.588379Z",
     "start_time": "2019-03-08T16:15:54.584392Z"
    }
   },
   "outputs": [],
   "source": [
    "skf = StratifiedKFold(n_splits=10, shuffle=True, random_state=42)\n",
    "skf.get_n_splits(train_ids, y_train)\n",
    "\n",
    "lgb_test_result  = np.zeros(test_ids.shape[0])\n",
    "lgb_train_result = np.zeros(train_ids.shape[0])\n",
    "counter = 0"
   ]
  },
  {
   "cell_type": "code",
   "execution_count": 22,
   "metadata": {
    "ExecuteTime": {
     "end_time": "2019-03-08T16:18:09.170352Z",
     "start_time": "2019-03-08T16:15:54.589376Z"
    },
    "scrolled": false
   },
   "outputs": [
    {
     "name": "stdout",
     "output_type": "stream",
     "text": [
      "\n",
      "LightGBM\n",
      "\n",
      "Fold 1\n",
      "\n",
      "fitting\n",
      "Training until validation scores don't improve for 100 rounds.\n",
      "[200]\tvalid_0's binary_logloss: 0.599753\tvalid_0's auc: 0.735495\n",
      "[400]\tvalid_0's binary_logloss: 0.590322\tvalid_0's auc: 0.741608\n",
      "[600]\tvalid_0's binary_logloss: 0.587917\tvalid_0's auc: 0.744122\n",
      "[800]\tvalid_0's binary_logloss: 0.586756\tvalid_0's auc: 0.745502\n",
      "[1000]\tvalid_0's binary_logloss: 0.585801\tvalid_0's auc: 0.746588\n",
      "[1200]\tvalid_0's binary_logloss: 0.585068\tvalid_0's auc: 0.74727\n",
      "[1400]\tvalid_0's binary_logloss: 0.584684\tvalid_0's auc: 0.747535\n",
      "Early stopping, best iteration is:\n",
      "[1455]\tvalid_0's binary_logloss: 0.584563\tvalid_0's auc: 0.747656\n",
      "predicting\n",
      "Fold 2\n",
      "\n",
      "fitting\n",
      "Training until validation scores don't improve for 100 rounds.\n",
      "[200]\tvalid_0's binary_logloss: 0.601781\tvalid_0's auc: 0.730699\n",
      "[400]\tvalid_0's binary_logloss: 0.59362\tvalid_0's auc: 0.736138\n",
      "[600]\tvalid_0's binary_logloss: 0.591658\tvalid_0's auc: 0.738266\n",
      "[800]\tvalid_0's binary_logloss: 0.590758\tvalid_0's auc: 0.739211\n",
      "[1000]\tvalid_0's binary_logloss: 0.590014\tvalid_0's auc: 0.739961\n",
      "[1200]\tvalid_0's binary_logloss: 0.589434\tvalid_0's auc: 0.740658\n",
      "[1400]\tvalid_0's binary_logloss: 0.588933\tvalid_0's auc: 0.741164\n",
      "[1600]\tvalid_0's binary_logloss: 0.588563\tvalid_0's auc: 0.741535\n",
      "[1800]\tvalid_0's binary_logloss: 0.588288\tvalid_0's auc: 0.741775\n",
      "[2000]\tvalid_0's binary_logloss: 0.588028\tvalid_0's auc: 0.742078\n",
      "[2200]\tvalid_0's binary_logloss: 0.587768\tvalid_0's auc: 0.742356\n",
      "[2400]\tvalid_0's binary_logloss: 0.587535\tvalid_0's auc: 0.742543\n",
      "[2600]\tvalid_0's binary_logloss: 0.587445\tvalid_0's auc: 0.742595\n",
      "Early stopping, best iteration is:\n",
      "[2509]\tvalid_0's binary_logloss: 0.587402\tvalid_0's auc: 0.742695\n",
      "predicting\n",
      "Fold 3\n",
      "\n",
      "fitting\n",
      "Training until validation scores don't improve for 100 rounds.\n",
      "[200]\tvalid_0's binary_logloss: 0.59972\tvalid_0's auc: 0.736282\n",
      "[400]\tvalid_0's binary_logloss: 0.592445\tvalid_0's auc: 0.740675\n",
      "[600]\tvalid_0's binary_logloss: 0.591135\tvalid_0's auc: 0.741366\n",
      "[800]\tvalid_0's binary_logloss: 0.590716\tvalid_0's auc: 0.741455\n",
      "Early stopping, best iteration is:\n",
      "[724]\tvalid_0's binary_logloss: 0.590819\tvalid_0's auc: 0.741496\n",
      "predicting\n",
      "Fold 4\n",
      "\n",
      "fitting\n",
      "Training until validation scores don't improve for 100 rounds.\n",
      "[200]\tvalid_0's binary_logloss: 0.608785\tvalid_0's auc: 0.72455\n",
      "[400]\tvalid_0's binary_logloss: 0.602142\tvalid_0's auc: 0.729504\n",
      "[600]\tvalid_0's binary_logloss: 0.599979\tvalid_0's auc: 0.731763\n",
      "[800]\tvalid_0's binary_logloss: 0.599018\tvalid_0's auc: 0.732679\n",
      "[1000]\tvalid_0's binary_logloss: 0.598335\tvalid_0's auc: 0.7333\n",
      "[1200]\tvalid_0's binary_logloss: 0.597964\tvalid_0's auc: 0.73353\n",
      "Early stopping, best iteration is:\n",
      "[1256]\tvalid_0's binary_logloss: 0.597816\tvalid_0's auc: 0.733704\n",
      "predicting\n",
      "Fold 5\n",
      "\n",
      "fitting\n",
      "Training until validation scores don't improve for 100 rounds.\n",
      "[200]\tvalid_0's binary_logloss: 0.606514\tvalid_0's auc: 0.724391\n",
      "[400]\tvalid_0's binary_logloss: 0.600294\tvalid_0's auc: 0.728364\n",
      "[600]\tvalid_0's binary_logloss: 0.598554\tvalid_0's auc: 0.73025\n",
      "[800]\tvalid_0's binary_logloss: 0.597874\tvalid_0's auc: 0.731024\n",
      "[1000]\tvalid_0's binary_logloss: 0.597524\tvalid_0's auc: 0.731382\n",
      "[1200]\tvalid_0's binary_logloss: 0.597242\tvalid_0's auc: 0.731766\n",
      "[1400]\tvalid_0's binary_logloss: 0.596945\tvalid_0's auc: 0.732275\n",
      "[1600]\tvalid_0's binary_logloss: 0.596872\tvalid_0's auc: 0.732495\n",
      "Early stopping, best iteration is:\n",
      "[1609]\tvalid_0's binary_logloss: 0.596843\tvalid_0's auc: 0.732555\n",
      "predicting\n",
      "Fold 6\n",
      "\n",
      "fitting\n",
      "Training until validation scores don't improve for 100 rounds.\n",
      "[200]\tvalid_0's binary_logloss: 0.604844\tvalid_0's auc: 0.725282\n",
      "[400]\tvalid_0's binary_logloss: 0.597679\tvalid_0's auc: 0.730489\n",
      "[600]\tvalid_0's binary_logloss: 0.595715\tvalid_0's auc: 0.732902\n",
      "[800]\tvalid_0's binary_logloss: 0.594708\tvalid_0's auc: 0.734303\n",
      "[1000]\tvalid_0's binary_logloss: 0.593986\tvalid_0's auc: 0.735325\n",
      "[1200]\tvalid_0's binary_logloss: 0.593433\tvalid_0's auc: 0.736034\n",
      "[1400]\tvalid_0's binary_logloss: 0.593115\tvalid_0's auc: 0.736461\n",
      "[1600]\tvalid_0's binary_logloss: 0.592804\tvalid_0's auc: 0.736858\n",
      "[1800]\tvalid_0's binary_logloss: 0.592477\tvalid_0's auc: 0.737325\n",
      "[2000]\tvalid_0's binary_logloss: 0.592315\tvalid_0's auc: 0.737375\n",
      "Early stopping, best iteration is:\n",
      "[1931]\tvalid_0's binary_logloss: 0.592264\tvalid_0's auc: 0.737473\n",
      "predicting\n",
      "Fold 7\n",
      "\n",
      "fitting\n",
      "Training until validation scores don't improve for 100 rounds.\n",
      "[200]\tvalid_0's binary_logloss: 0.605386\tvalid_0's auc: 0.726858\n",
      "[400]\tvalid_0's binary_logloss: 0.598623\tvalid_0's auc: 0.731921\n",
      "[600]\tvalid_0's binary_logloss: 0.596902\tvalid_0's auc: 0.733802\n",
      "[800]\tvalid_0's binary_logloss: 0.596303\tvalid_0's auc: 0.73429\n",
      "[1000]\tvalid_0's binary_logloss: 0.595931\tvalid_0's auc: 0.734547\n",
      "[1200]\tvalid_0's binary_logloss: 0.595678\tvalid_0's auc: 0.73464\n",
      "[1400]\tvalid_0's binary_logloss: 0.595382\tvalid_0's auc: 0.734927\n",
      "[1600]\tvalid_0's binary_logloss: 0.595074\tvalid_0's auc: 0.735196\n",
      "[1800]\tvalid_0's binary_logloss: 0.594783\tvalid_0's auc: 0.735629\n",
      "[2000]\tvalid_0's binary_logloss: 0.594596\tvalid_0's auc: 0.735904\n",
      "Early stopping, best iteration is:\n",
      "[1994]\tvalid_0's binary_logloss: 0.594593\tvalid_0's auc: 0.735922\n",
      "predicting\n",
      "Fold 8\n",
      "\n",
      "fitting\n",
      "Training until validation scores don't improve for 100 rounds.\n",
      "[200]\tvalid_0's binary_logloss: 0.603571\tvalid_0's auc: 0.732295\n",
      "[400]\tvalid_0's binary_logloss: 0.596682\tvalid_0's auc: 0.736994\n",
      "[600]\tvalid_0's binary_logloss: 0.595027\tvalid_0's auc: 0.738497\n",
      "[800]\tvalid_0's binary_logloss: 0.594206\tvalid_0's auc: 0.739326\n",
      "[1000]\tvalid_0's binary_logloss: 0.593789\tvalid_0's auc: 0.739648\n",
      "[1200]\tvalid_0's binary_logloss: 0.593415\tvalid_0's auc: 0.740029\n",
      "[1400]\tvalid_0's binary_logloss: 0.592971\tvalid_0's auc: 0.740321\n",
      "[1600]\tvalid_0's binary_logloss: 0.592621\tvalid_0's auc: 0.740724\n",
      "[1800]\tvalid_0's binary_logloss: 0.592346\tvalid_0's auc: 0.741106\n",
      "[2000]\tvalid_0's binary_logloss: 0.592143\tvalid_0's auc: 0.741321\n",
      "Early stopping, best iteration is:\n",
      "[2019]\tvalid_0's binary_logloss: 0.5921\tvalid_0's auc: 0.741385\n",
      "predicting\n",
      "Fold 9\n",
      "\n",
      "fitting\n",
      "Training until validation scores don't improve for 100 rounds.\n",
      "[200]\tvalid_0's binary_logloss: 0.604418\tvalid_0's auc: 0.730024\n",
      "[400]\tvalid_0's binary_logloss: 0.59659\tvalid_0's auc: 0.735966\n",
      "[600]\tvalid_0's binary_logloss: 0.594363\tvalid_0's auc: 0.738566\n",
      "[800]\tvalid_0's binary_logloss: 0.593151\tvalid_0's auc: 0.740232\n",
      "[1000]\tvalid_0's binary_logloss: 0.592613\tvalid_0's auc: 0.740854\n",
      "[1200]\tvalid_0's binary_logloss: 0.592226\tvalid_0's auc: 0.741174\n",
      "[1400]\tvalid_0's binary_logloss: 0.591965\tvalid_0's auc: 0.741301\n",
      "Early stopping, best iteration is:\n",
      "[1317]\tvalid_0's binary_logloss: 0.592009\tvalid_0's auc: 0.741358\n",
      "predicting\n",
      "Fold 10\n",
      "\n",
      "fitting\n",
      "Training until validation scores don't improve for 100 rounds.\n",
      "[200]\tvalid_0's binary_logloss: 0.600567\tvalid_0's auc: 0.73379\n",
      "[400]\tvalid_0's binary_logloss: 0.593001\tvalid_0's auc: 0.737852\n",
      "[600]\tvalid_0's binary_logloss: 0.591183\tvalid_0's auc: 0.739156\n",
      "[800]\tvalid_0's binary_logloss: 0.590297\tvalid_0's auc: 0.739992\n",
      "[1000]\tvalid_0's binary_logloss: 0.589616\tvalid_0's auc: 0.740892\n",
      "[1200]\tvalid_0's binary_logloss: 0.589056\tvalid_0's auc: 0.741704\n",
      "[1400]\tvalid_0's binary_logloss: 0.588587\tvalid_0's auc: 0.742272\n",
      "[1600]\tvalid_0's binary_logloss: 0.588225\tvalid_0's auc: 0.742702\n",
      "[1800]\tvalid_0's binary_logloss: 0.588024\tvalid_0's auc: 0.742928\n",
      "[2000]\tvalid_0's binary_logloss: 0.587787\tvalid_0's auc: 0.743269\n",
      "[2200]\tvalid_0's binary_logloss: 0.587656\tvalid_0's auc: 0.743498\n",
      "[2400]\tvalid_0's binary_logloss: 0.587546\tvalid_0's auc: 0.743693\n",
      "[2600]\tvalid_0's binary_logloss: 0.587382\tvalid_0's auc: 0.743951\n",
      "Early stopping, best iteration is:\n",
      "[2685]\tvalid_0's binary_logloss: 0.58729\tvalid_0's auc: 0.744121\n",
      "predicting\n"
     ]
    }
   ],
   "source": [
    "print('\\nLightGBM\\n')\n",
    "\n",
    "for train_index, test_index in skf.split(train_ids, y_train):\n",
    "    \n",
    "    print('Fold {}\\n'.format(counter + 1))\n",
    "    \n",
    "    X_fit = vstack([train[train_index[i*m:(i+1)*m]] for i in range(train_index.shape[0] // m + 1)])\n",
    "    X_val = vstack([train[test_index[i*m:(i+1)*m]]  for i in range(test_index.shape[0] //  m + 1)])\n",
    "    X_fit, X_val = csr_matrix(X_fit, dtype='float32'), csr_matrix(X_val, dtype='float32')\n",
    "    y_fit, y_val = y_train[train_index], y_train[test_index]\n",
    "    \n",
    "    gc.collect()\n",
    "\n",
    "    lgb_model = lgb.LGBMClassifier(max_depth=-1,\n",
    "                                   n_estimators=100000,\n",
    "                                   learning_rate=0.01,\n",
    "                                   num_leaves=2**5-1,\n",
    "                                   objective='binary', \n",
    "                                   boosting_type='gbdt',\n",
    "                                   # overfitting handling\n",
    "                                   # max_bin=120,\n",
    "                                   # lambda_l1=6,\n",
    "                                   # lambda_l2=2,\n",
    "                                   save_binary=True,\n",
    "                                   feature_fraction=0.8,\n",
    "                                   feature_fraction_seed=42,\n",
    "                                   n_jobs=-1)\n",
    "    \n",
    "    print(\"fitting\")\n",
    "    lgb_model.fit(X_fit, y_fit, eval_metric='auc', \n",
    "                  eval_set=[(X_val, y_val)], \n",
    "                  verbose=200, early_stopping_rounds=100)\n",
    "    \n",
    "    del X_fit, X_val, y_fit, y_val, train_index, test_index\n",
    "    gc.collect()\n",
    "    \n",
    "    print(\"predicting\")\n",
    "    lgb_test_result += lgb_model.predict_proba(test)[:,1]\n",
    "    counter += 1\n",
    "    \n",
    "    gc.collect()"
   ]
  },
  {
   "cell_type": "code",
   "execution_count": 23,
   "metadata": {
    "ExecuteTime": {
     "end_time": "2019-03-08T16:18:09.208251Z",
     "start_time": "2019-03-08T16:18:09.173344Z"
    }
   },
   "outputs": [],
   "source": [
    "root[idx_1] = lgb_test_result/10"
   ]
  },
  {
   "cell_type": "markdown",
   "metadata": {},
   "source": [
    "##  2017-08-24"
   ]
  },
  {
   "cell_type": "code",
   "execution_count": 24,
   "metadata": {
    "ExecuteTime": {
     "end_time": "2019-03-08T16:21:32.529850Z",
     "start_time": "2019-03-08T16:21:32.073047Z"
    }
   },
   "outputs": [],
   "source": [
    "temp = data[data.Date_YMD == ' 2017-08-24']\n",
    "del temp['Date_YMD']"
   ]
  },
  {
   "cell_type": "code",
   "execution_count": 25,
   "metadata": {
    "ExecuteTime": {
     "end_time": "2019-03-08T16:21:32.609669Z",
     "start_time": "2019-03-08T16:21:32.530858Z"
    }
   },
   "outputs": [],
   "source": [
    "train = temp[~temp.HasDetections.isna()]\n",
    "test = temp[temp.HasDetections.isna()]"
   ]
  },
  {
   "cell_type": "code",
   "execution_count": 26,
   "metadata": {
    "ExecuteTime": {
     "end_time": "2019-03-08T16:21:32.620582Z",
     "start_time": "2019-03-08T16:21:32.616594Z"
    }
   },
   "outputs": [],
   "source": [
    "train.reset_index(drop=True, inplace=True)\n",
    "test.reset_index(drop=True, inplace=True)"
   ]
  },
  {
   "cell_type": "code",
   "execution_count": 27,
   "metadata": {
    "ExecuteTime": {
     "end_time": "2019-03-08T16:21:58.109893Z",
     "start_time": "2019-03-08T16:21:32.621578Z"
    }
   },
   "outputs": [
    {
     "name": "stdout",
     "output_type": "stream",
     "text": [
      "Transform all features to category.\n",
      "\n"
     ]
    },
    {
     "data": {
      "application/vnd.jupyter.widget-view+json": {
       "model_id": "cedd6d93e9e446819efa9bf72f1cf357",
       "version_major": 2,
       "version_minor": 0
      },
      "text/plain": [
       "HBox(children=(IntProgress(value=0, max=82), HTML(value='')))"
      ]
     },
     "metadata": {},
     "output_type": "display_data"
    },
    {
     "name": "stdout",
     "output_type": "stream",
     "text": [
      "\n"
     ]
    }
   ],
   "source": [
    "print('Transform all features to category.\\n')\n",
    "for usecol in tqdm_notebook([col for col in train.columns if col not in ['HasDetections', 'MachineIdentifier']]):\n",
    "\n",
    "    train[usecol] = train[usecol].astype('str')\n",
    "    test[usecol] = test[usecol].astype('str')\n",
    "    \n",
    "    #Fit LabelEncoder\n",
    "    le = LabelEncoder().fit(\n",
    "            np.unique(train[usecol].unique().tolist()+\n",
    "                      test[usecol].unique().tolist()))\n",
    "\n",
    "    #At the end 0 will be used for dropped values\n",
    "    train[usecol] = le.transform(train[usecol])+1\n",
    "    test[usecol]  = le.transform(test[usecol])+1\n",
    "\n",
    "    agg_tr = (train\n",
    "              .groupby([usecol])\n",
    "              .aggregate({'MachineIdentifier':'count'})\n",
    "              .reset_index()\n",
    "              .rename({'MachineIdentifier':'Train'}, axis=1))\n",
    "    \n",
    "    agg_te = (test\n",
    "              .groupby([usecol])\n",
    "              .aggregate({'MachineIdentifier':'count'})\n",
    "              .reset_index()\n",
    "              .rename({'MachineIdentifier':'Test'}, axis=1))\n",
    "\n",
    "    agg = pd.merge(agg_tr, agg_te, on=usecol, how='outer').replace(np.nan, 0)\n",
    "    #Select values with more than 1000 observations\n",
    "    agg = agg[(agg['Train'] > 1000)].reset_index(drop=True)\n",
    "    agg['Total'] = agg['Train'] + agg['Test']\n",
    "    #Drop unbalanced values\n",
    "    agg = agg[(agg['Train'] / agg['Total'] > 0.2) & (agg['Train'] / agg['Total'] < 0.8)]\n",
    "    agg[usecol+'Copy'] = agg[usecol]\n",
    "    \n",
    "    train[usecol] = (pd.merge(train[[usecol]], \n",
    "                              agg[[usecol, usecol+'Copy']], \n",
    "                              on=usecol, how='left')[usecol+'Copy']\n",
    "                     .replace(np.nan, 0).astype('int').astype('category'))\n",
    "\n",
    "    test[usecol]  = (pd.merge(test[[usecol]], \n",
    "                              agg[[usecol, usecol+'Copy']], \n",
    "                              on=usecol, how='left')[usecol+'Copy']\n",
    "                     .replace(np.nan, 0).astype('int').astype('category'))\n",
    "\n",
    "    del le, agg_tr, agg_te, agg, usecol\n",
    "    gc.collect()"
   ]
  },
  {
   "cell_type": "code",
   "execution_count": 28,
   "metadata": {
    "ExecuteTime": {
     "end_time": "2019-03-08T16:21:58.115875Z",
     "start_time": "2019-03-08T16:21:58.111887Z"
    }
   },
   "outputs": [
    {
     "data": {
      "text/plain": [
       "(77220, 84)"
      ]
     },
     "execution_count": 28,
     "metadata": {},
     "output_type": "execute_result"
    }
   ],
   "source": [
    "train.shape"
   ]
  },
  {
   "cell_type": "code",
   "execution_count": 29,
   "metadata": {
    "ExecuteTime": {
     "end_time": "2019-03-08T16:21:58.125849Z",
     "start_time": "2019-03-08T16:21:58.117909Z"
    }
   },
   "outputs": [],
   "source": [
    "y_train = np.array(train['HasDetections'])\n",
    "train_ids = train.index\n",
    "test_ids  = test.index"
   ]
  },
  {
   "cell_type": "code",
   "execution_count": 30,
   "metadata": {
    "ExecuteTime": {
     "end_time": "2019-03-08T16:21:58.163742Z",
     "start_time": "2019-03-08T16:21:58.126845Z"
    }
   },
   "outputs": [
    {
     "data": {
      "text/plain": [
       "14"
      ]
     },
     "execution_count": 30,
     "metadata": {},
     "output_type": "execute_result"
    }
   ],
   "source": [
    "del train['HasDetections'], train['MachineIdentifier'], test['MachineIdentifier'], test['HasDetections']\n",
    "gc.collect()"
   ]
  },
  {
   "cell_type": "code",
   "execution_count": 31,
   "metadata": {
    "ExecuteTime": {
     "end_time": "2019-03-08T16:21:58.175675Z",
     "start_time": "2019-03-08T16:21:58.164704Z"
    }
   },
   "outputs": [
    {
     "name": "stdout",
     "output_type": "stream",
     "text": [
      "If you don't want use Sparse Matrix choose Kernel Version 2 to get simple solution.\n",
      "\n",
      "--------------------------------------------------------------------------------------------------------\n",
      "Transform Data to Sparse Matrix.\n",
      "Sparse Matrix can be used to fit a lot of models, eg. XGBoost, LightGBM, Random Forest, K-Means and etc.\n",
      "To concatenate Sparse Matrices by column use hstack()\n",
      "Read more about Sparse Matrix https://docs.scipy.org/doc/scipy/reference/sparse.html\n",
      "Good Luck!\n",
      "--------------------------------------------------------------------------------------------------------\n"
     ]
    }
   ],
   "source": [
    "print(\"If you don't want use Sparse Matrix choose Kernel Version 2 to get simple solution.\\n\")\n",
    "\n",
    "print('--------------------------------------------------------------------------------------------------------')\n",
    "print('Transform Data to Sparse Matrix.')\n",
    "print('Sparse Matrix can be used to fit a lot of models, eg. XGBoost, LightGBM, Random Forest, K-Means and etc.')\n",
    "print('To concatenate Sparse Matrices by column use hstack()')\n",
    "print('Read more about Sparse Matrix https://docs.scipy.org/doc/scipy/reference/sparse.html')\n",
    "print('Good Luck!')\n",
    "print('--------------------------------------------------------------------------------------------------------')\n"
   ]
  },
  {
   "cell_type": "code",
   "execution_count": 32,
   "metadata": {
    "ExecuteTime": {
     "end_time": "2019-03-08T16:21:59.054349Z",
     "start_time": "2019-03-08T16:21:58.177707Z"
    }
   },
   "outputs": [],
   "source": [
    "#Fit OneHotEncoder\n",
    "ohe = OneHotEncoder(categories='auto', sparse=True, dtype='uint8').fit(train.append(test))"
   ]
  },
  {
   "cell_type": "code",
   "execution_count": 33,
   "metadata": {
    "ExecuteTime": {
     "end_time": "2019-03-08T16:22:01.693293Z",
     "start_time": "2019-03-08T16:21:59.055358Z"
    }
   },
   "outputs": [],
   "source": [
    "#Transform data using small groups to reduce memory usage\n",
    "m = 100000\n",
    "train = vstack([ohe.transform(train[i*m:(i+1)*m]) for i in range(train.shape[0] // m + 1)])\n",
    "test  = vstack([ohe.transform(test[i*m:(i+1)*m])  for i in range(test.shape[0] // m +  1)])"
   ]
  },
  {
   "cell_type": "code",
   "execution_count": 34,
   "metadata": {
    "ExecuteTime": {
     "end_time": "2019-03-08T16:22:03.478550Z",
     "start_time": "2019-03-08T16:22:01.694259Z"
    }
   },
   "outputs": [],
   "source": [
    "save_npz('./data_temp/train.npz', train, compressed=True)\n",
    "save_npz('./data_temp/test.npz',  test,  compressed=True)"
   ]
  },
  {
   "cell_type": "code",
   "execution_count": 35,
   "metadata": {
    "ExecuteTime": {
     "end_time": "2019-03-08T16:22:03.529349Z",
     "start_time": "2019-03-08T16:22:03.479521Z"
    }
   },
   "outputs": [
    {
     "data": {
      "text/plain": [
       "1162"
      ]
     },
     "execution_count": 35,
     "metadata": {},
     "output_type": "execute_result"
    }
   ],
   "source": [
    "del ohe, train, test\n",
    "gc.collect()"
   ]
  },
  {
   "cell_type": "code",
   "execution_count": 36,
   "metadata": {
    "ExecuteTime": {
     "end_time": "2019-03-08T16:22:03.825889Z",
     "start_time": "2019-03-08T16:22:03.531343Z"
    }
   },
   "outputs": [],
   "source": [
    "train = load_npz('./data_temp/train.npz')\n",
    "test = load_npz('./data_temp/test.npz')\n",
    "test = csr_matrix(test, dtype='float32')"
   ]
  },
  {
   "cell_type": "code",
   "execution_count": 37,
   "metadata": {
    "ExecuteTime": {
     "end_time": "2019-03-08T16:22:03.831540Z",
     "start_time": "2019-03-08T16:22:03.827588Z"
    }
   },
   "outputs": [],
   "source": [
    "skf = StratifiedKFold(n_splits=10, shuffle=True, random_state=42)\n",
    "skf.get_n_splits(train_ids, y_train)\n",
    "\n",
    "lgb_test_result  = np.zeros(test_ids.shape[0])\n",
    "lgb_train_result = np.zeros(train_ids.shape[0])\n",
    "counter = 0"
   ]
  },
  {
   "cell_type": "code",
   "execution_count": 38,
   "metadata": {
    "ExecuteTime": {
     "end_time": "2019-03-08T16:27:41.005768Z",
     "start_time": "2019-03-08T16:22:03.833565Z"
    },
    "scrolled": true
   },
   "outputs": [
    {
     "name": "stdout",
     "output_type": "stream",
     "text": [
      "\n",
      "LightGBM\n",
      "\n",
      "Fold 1\n",
      "\n",
      "fitting\n",
      "Training until validation scores don't improve for 100 rounds.\n",
      "[200]\tvalid_0's binary_logloss: 0.595852\tvalid_0's auc: 0.744953\n",
      "[400]\tvalid_0's binary_logloss: 0.58528\tvalid_0's auc: 0.752258\n",
      "[600]\tvalid_0's binary_logloss: 0.582316\tvalid_0's auc: 0.754917\n",
      "[800]\tvalid_0's binary_logloss: 0.581123\tvalid_0's auc: 0.755964\n",
      "[1000]\tvalid_0's binary_logloss: 0.580494\tvalid_0's auc: 0.756562\n",
      "[1200]\tvalid_0's binary_logloss: 0.580044\tvalid_0's auc: 0.756915\n",
      "[1400]\tvalid_0's binary_logloss: 0.579529\tvalid_0's auc: 0.757405\n",
      "[1600]\tvalid_0's binary_logloss: 0.579361\tvalid_0's auc: 0.757414\n",
      "[1800]\tvalid_0's binary_logloss: 0.579132\tvalid_0's auc: 0.757558\n",
      "[2000]\tvalid_0's binary_logloss: 0.578984\tvalid_0's auc: 0.757638\n",
      "Early stopping, best iteration is:\n",
      "[2098]\tvalid_0's binary_logloss: 0.578951\tvalid_0's auc: 0.75766\n",
      "predicting\n",
      "Fold 2\n",
      "\n",
      "fitting\n",
      "Training until validation scores don't improve for 100 rounds.\n",
      "[200]\tvalid_0's binary_logloss: 0.595221\tvalid_0's auc: 0.746172\n",
      "[400]\tvalid_0's binary_logloss: 0.584785\tvalid_0's auc: 0.753887\n",
      "[600]\tvalid_0's binary_logloss: 0.581984\tvalid_0's auc: 0.75613\n",
      "[800]\tvalid_0's binary_logloss: 0.58105\tvalid_0's auc: 0.75692\n",
      "[1000]\tvalid_0's binary_logloss: 0.580552\tvalid_0's auc: 0.757209\n",
      "Early stopping, best iteration is:\n",
      "[1081]\tvalid_0's binary_logloss: 0.580361\tvalid_0's auc: 0.757424\n",
      "predicting\n",
      "Fold 3\n",
      "\n",
      "fitting\n",
      "Training until validation scores don't improve for 100 rounds.\n",
      "[200]\tvalid_0's binary_logloss: 0.604083\tvalid_0's auc: 0.733439\n",
      "[400]\tvalid_0's binary_logloss: 0.596092\tvalid_0's auc: 0.739205\n",
      "[600]\tvalid_0's binary_logloss: 0.594032\tvalid_0's auc: 0.741294\n",
      "[800]\tvalid_0's binary_logloss: 0.593431\tvalid_0's auc: 0.741883\n",
      "[1000]\tvalid_0's binary_logloss: 0.593126\tvalid_0's auc: 0.742171\n",
      "[1200]\tvalid_0's binary_logloss: 0.592639\tvalid_0's auc: 0.742619\n",
      "[1400]\tvalid_0's binary_logloss: 0.592328\tvalid_0's auc: 0.742939\n",
      "[1600]\tvalid_0's binary_logloss: 0.592078\tvalid_0's auc: 0.743205\n",
      "[1800]\tvalid_0's binary_logloss: 0.591744\tvalid_0's auc: 0.743513\n",
      "[2000]\tvalid_0's binary_logloss: 0.591453\tvalid_0's auc: 0.743782\n",
      "[2200]\tvalid_0's binary_logloss: 0.591204\tvalid_0's auc: 0.744101\n",
      "[2400]\tvalid_0's binary_logloss: 0.590983\tvalid_0's auc: 0.744311\n",
      "Early stopping, best iteration is:\n",
      "[2387]\tvalid_0's binary_logloss: 0.590964\tvalid_0's auc: 0.744335\n",
      "predicting\n",
      "Fold 4\n",
      "\n",
      "fitting\n",
      "Training until validation scores don't improve for 100 rounds.\n",
      "[200]\tvalid_0's binary_logloss: 0.599844\tvalid_0's auc: 0.738994\n",
      "[400]\tvalid_0's binary_logloss: 0.590543\tvalid_0's auc: 0.745448\n",
      "[600]\tvalid_0's binary_logloss: 0.587892\tvalid_0's auc: 0.747979\n",
      "[800]\tvalid_0's binary_logloss: 0.586963\tvalid_0's auc: 0.749084\n",
      "[1000]\tvalid_0's binary_logloss: 0.586581\tvalid_0's auc: 0.749359\n",
      "[1200]\tvalid_0's binary_logloss: 0.586287\tvalid_0's auc: 0.749576\n",
      "[1400]\tvalid_0's binary_logloss: 0.585842\tvalid_0's auc: 0.749979\n",
      "[1600]\tvalid_0's binary_logloss: 0.585538\tvalid_0's auc: 0.750235\n",
      "[1800]\tvalid_0's binary_logloss: 0.585067\tvalid_0's auc: 0.750644\n",
      "[2000]\tvalid_0's binary_logloss: 0.58488\tvalid_0's auc: 0.750737\n",
      "Early stopping, best iteration is:\n",
      "[1946]\tvalid_0's binary_logloss: 0.584898\tvalid_0's auc: 0.750767\n",
      "predicting\n",
      "Fold 5\n",
      "\n",
      "fitting\n",
      "Training until validation scores don't improve for 100 rounds.\n",
      "[200]\tvalid_0's binary_logloss: 0.598652\tvalid_0's auc: 0.737606\n",
      "[400]\tvalid_0's binary_logloss: 0.590387\tvalid_0's auc: 0.742853\n",
      "[600]\tvalid_0's binary_logloss: 0.587952\tvalid_0's auc: 0.745317\n",
      "[800]\tvalid_0's binary_logloss: 0.587104\tvalid_0's auc: 0.746123\n",
      "[1000]\tvalid_0's binary_logloss: 0.586558\tvalid_0's auc: 0.746717\n",
      "[1200]\tvalid_0's binary_logloss: 0.586246\tvalid_0's auc: 0.747111\n",
      "[1400]\tvalid_0's binary_logloss: 0.58595\tvalid_0's auc: 0.747447\n",
      "[1600]\tvalid_0's binary_logloss: 0.585793\tvalid_0's auc: 0.747692\n",
      "[1800]\tvalid_0's binary_logloss: 0.58569\tvalid_0's auc: 0.747911\n",
      "[2000]\tvalid_0's binary_logloss: 0.585443\tvalid_0's auc: 0.748274\n",
      "[2200]\tvalid_0's binary_logloss: 0.585345\tvalid_0's auc: 0.748541\n",
      "[2400]\tvalid_0's binary_logloss: 0.585301\tvalid_0's auc: 0.748665\n",
      "Early stopping, best iteration is:\n",
      "[2410]\tvalid_0's binary_logloss: 0.585274\tvalid_0's auc: 0.74869\n",
      "predicting\n",
      "Fold 6\n",
      "\n",
      "fitting\n",
      "Training until validation scores don't improve for 100 rounds.\n",
      "[200]\tvalid_0's binary_logloss: 0.604534\tvalid_0's auc: 0.732663\n",
      "[400]\tvalid_0's binary_logloss: 0.59535\tvalid_0's auc: 0.740171\n",
      "[600]\tvalid_0's binary_logloss: 0.592788\tvalid_0's auc: 0.74261\n",
      "[800]\tvalid_0's binary_logloss: 0.591689\tvalid_0's auc: 0.743787\n",
      "[1000]\tvalid_0's binary_logloss: 0.591173\tvalid_0's auc: 0.744201\n",
      "[1200]\tvalid_0's binary_logloss: 0.590827\tvalid_0's auc: 0.744517\n",
      "Early stopping, best iteration is:\n",
      "[1272]\tvalid_0's binary_logloss: 0.590716\tvalid_0's auc: 0.744599\n",
      "predicting\n",
      "Fold 7\n",
      "\n",
      "fitting\n",
      "Training until validation scores don't improve for 100 rounds.\n",
      "[200]\tvalid_0's binary_logloss: 0.596084\tvalid_0's auc: 0.747418\n",
      "[400]\tvalid_0's binary_logloss: 0.584872\tvalid_0's auc: 0.755156\n",
      "[600]\tvalid_0's binary_logloss: 0.58184\tvalid_0's auc: 0.757679\n",
      "[800]\tvalid_0's binary_logloss: 0.580923\tvalid_0's auc: 0.75836\n",
      "[1000]\tvalid_0's binary_logloss: 0.580315\tvalid_0's auc: 0.758894\n",
      "[1200]\tvalid_0's binary_logloss: 0.579789\tvalid_0's auc: 0.759336\n",
      "Early stopping, best iteration is:\n",
      "[1274]\tvalid_0's binary_logloss: 0.579625\tvalid_0's auc: 0.759449\n",
      "predicting\n",
      "Fold 8\n",
      "\n",
      "fitting\n",
      "Training until validation scores don't improve for 100 rounds.\n",
      "[200]\tvalid_0's binary_logloss: 0.602\tvalid_0's auc: 0.734696\n",
      "[400]\tvalid_0's binary_logloss: 0.592837\tvalid_0's auc: 0.741773\n",
      "[600]\tvalid_0's binary_logloss: 0.589707\tvalid_0's auc: 0.745107\n",
      "[800]\tvalid_0's binary_logloss: 0.588699\tvalid_0's auc: 0.74612\n",
      "[1000]\tvalid_0's binary_logloss: 0.588061\tvalid_0's auc: 0.7468\n",
      "[1200]\tvalid_0's binary_logloss: 0.587524\tvalid_0's auc: 0.747279\n",
      "[1400]\tvalid_0's binary_logloss: 0.586967\tvalid_0's auc: 0.747855\n",
      "[1600]\tvalid_0's binary_logloss: 0.586562\tvalid_0's auc: 0.748271\n",
      "[1800]\tvalid_0's binary_logloss: 0.58618\tvalid_0's auc: 0.748721\n",
      "[2000]\tvalid_0's binary_logloss: 0.586019\tvalid_0's auc: 0.748931\n",
      "[2200]\tvalid_0's binary_logloss: 0.585869\tvalid_0's auc: 0.749113\n",
      "[2400]\tvalid_0's binary_logloss: 0.585759\tvalid_0's auc: 0.749288\n",
      "[2600]\tvalid_0's binary_logloss: 0.585529\tvalid_0's auc: 0.749485\n",
      "[2800]\tvalid_0's binary_logloss: 0.58541\tvalid_0's auc: 0.749626\n",
      "[3000]\tvalid_0's binary_logloss: 0.58521\tvalid_0's auc: 0.749843\n",
      "Early stopping, best iteration is:\n",
      "[2953]\tvalid_0's binary_logloss: 0.585188\tvalid_0's auc: 0.749908\n",
      "predicting\n",
      "Fold 9\n",
      "\n",
      "fitting\n",
      "Training until validation scores don't improve for 100 rounds.\n",
      "[200]\tvalid_0's binary_logloss: 0.606245\tvalid_0's auc: 0.728948\n",
      "[400]\tvalid_0's binary_logloss: 0.598539\tvalid_0's auc: 0.735679\n",
      "[600]\tvalid_0's binary_logloss: 0.595844\tvalid_0's auc: 0.738657\n",
      "[800]\tvalid_0's binary_logloss: 0.594892\tvalid_0's auc: 0.739676\n",
      "[1000]\tvalid_0's binary_logloss: 0.594289\tvalid_0's auc: 0.740365\n",
      "[1200]\tvalid_0's binary_logloss: 0.593925\tvalid_0's auc: 0.740802\n",
      "[1400]\tvalid_0's binary_logloss: 0.593652\tvalid_0's auc: 0.741104\n",
      "[1600]\tvalid_0's binary_logloss: 0.593463\tvalid_0's auc: 0.741357\n",
      "[1800]\tvalid_0's binary_logloss: 0.593118\tvalid_0's auc: 0.741735\n",
      "[2000]\tvalid_0's binary_logloss: 0.592897\tvalid_0's auc: 0.742025\n",
      "[2200]\tvalid_0's binary_logloss: 0.592614\tvalid_0's auc: 0.742457\n",
      "[2400]\tvalid_0's binary_logloss: 0.592504\tvalid_0's auc: 0.742649\n",
      "Early stopping, best iteration is:\n",
      "[2389]\tvalid_0's binary_logloss: 0.592475\tvalid_0's auc: 0.742685\n",
      "predicting\n",
      "Fold 10\n",
      "\n",
      "fitting\n",
      "Training until validation scores don't improve for 100 rounds.\n",
      "[200]\tvalid_0's binary_logloss: 0.596208\tvalid_0's auc: 0.743451\n",
      "[400]\tvalid_0's binary_logloss: 0.586261\tvalid_0's auc: 0.75055\n",
      "[600]\tvalid_0's binary_logloss: 0.583408\tvalid_0's auc: 0.753523\n",
      "[800]\tvalid_0's binary_logloss: 0.582581\tvalid_0's auc: 0.754134\n",
      "[1000]\tvalid_0's binary_logloss: 0.582064\tvalid_0's auc: 0.754592\n",
      "[1200]\tvalid_0's binary_logloss: 0.581725\tvalid_0's auc: 0.754803\n",
      "Early stopping, best iteration is:\n",
      "[1166]\tvalid_0's binary_logloss: 0.58172\tvalid_0's auc: 0.754848\n",
      "predicting\n"
     ]
    }
   ],
   "source": [
    "print('\\nLightGBM\\n')\n",
    "\n",
    "for train_index, test_index in skf.split(train_ids, y_train):\n",
    "    \n",
    "    print('Fold {}\\n'.format(counter + 1))\n",
    "    \n",
    "    X_fit = vstack([train[train_index[i*m:(i+1)*m]] for i in range(train_index.shape[0] // m + 1)])\n",
    "    X_val = vstack([train[test_index[i*m:(i+1)*m]]  for i in range(test_index.shape[0] //  m + 1)])\n",
    "    X_fit, X_val = csr_matrix(X_fit, dtype='float32'), csr_matrix(X_val, dtype='float32')\n",
    "    y_fit, y_val = y_train[train_index], y_train[test_index]\n",
    "    \n",
    "    gc.collect()\n",
    "\n",
    "    lgb_model = lgb.LGBMClassifier(max_depth=-1,\n",
    "                                   n_estimators=100000,\n",
    "                                   learning_rate=0.01,\n",
    "                                   num_leaves=2**5-1,\n",
    "                                   objective='binary', \n",
    "                                   boosting_type='gbdt',\n",
    "                                   # overfitting handling\n",
    "                                   # max_bin=120,\n",
    "                                   # lambda_l1=6,\n",
    "                                   # lambda_l2=2,\n",
    "                                   save_binary=True,\n",
    "                                   feature_fraction=0.8,\n",
    "                                   feature_fraction_seed=42,\n",
    "                                   n_jobs=-1)\n",
    "    \n",
    "    print(\"fitting\")\n",
    "    lgb_model.fit(X_fit, y_fit, eval_metric='auc', \n",
    "                  eval_set=[(X_val, y_val)], \n",
    "                  verbose=200, early_stopping_rounds=100)\n",
    "    \n",
    "    del X_fit, X_val, y_fit, y_val, train_index, test_index\n",
    "    gc.collect()\n",
    "    \n",
    "    print(\"predicting\")\n",
    "    lgb_test_result += lgb_model.predict_proba(test)[:,1]\n",
    "    counter += 1\n",
    "    \n",
    "    gc.collect()"
   ]
  },
  {
   "cell_type": "code",
   "execution_count": 39,
   "metadata": {
    "ExecuteTime": {
     "end_time": "2019-03-08T16:27:41.017737Z",
     "start_time": "2019-03-08T16:27:41.006766Z"
    }
   },
   "outputs": [],
   "source": [
    "root[idx_2] = lgb_test_result/10"
   ]
  },
  {
   "cell_type": "markdown",
   "metadata": {},
   "source": [
    "## 2018-03-01"
   ]
  },
  {
   "cell_type": "code",
   "execution_count": 40,
   "metadata": {
    "ExecuteTime": {
     "end_time": "2019-03-08T16:21:32.529850Z",
     "start_time": "2019-03-08T16:21:32.073047Z"
    }
   },
   "outputs": [],
   "source": [
    "temp = data[data.Date_YMD == '2018-03-01']\n",
    "del temp['Date_YMD']"
   ]
  },
  {
   "cell_type": "code",
   "execution_count": 41,
   "metadata": {
    "ExecuteTime": {
     "end_time": "2019-03-08T16:21:32.609669Z",
     "start_time": "2019-03-08T16:21:32.530858Z"
    }
   },
   "outputs": [],
   "source": [
    "train = temp[~temp.HasDetections.isna()]\n",
    "test = temp[temp.HasDetections.isna()]"
   ]
  },
  {
   "cell_type": "code",
   "execution_count": 42,
   "metadata": {
    "ExecuteTime": {
     "end_time": "2019-03-08T16:21:32.614599Z",
     "start_time": "2019-03-08T16:21:32.610659Z"
    }
   },
   "outputs": [
    {
     "data": {
      "text/plain": [
       "133384"
      ]
     },
     "execution_count": 42,
     "metadata": {},
     "output_type": "execute_result"
    }
   ],
   "source": [
    "test.__len__()"
   ]
  },
  {
   "cell_type": "code",
   "execution_count": 43,
   "metadata": {
    "ExecuteTime": {
     "end_time": "2019-03-08T16:21:32.620582Z",
     "start_time": "2019-03-08T16:21:32.616594Z"
    }
   },
   "outputs": [],
   "source": [
    "train.reset_index(drop=True, inplace=True)\n",
    "test.reset_index(drop=True, inplace=True)"
   ]
  },
  {
   "cell_type": "code",
   "execution_count": 44,
   "metadata": {
    "ExecuteTime": {
     "end_time": "2019-03-08T16:21:58.109893Z",
     "start_time": "2019-03-08T16:21:32.621578Z"
    }
   },
   "outputs": [
    {
     "name": "stdout",
     "output_type": "stream",
     "text": [
      "Transform all features to category.\n",
      "\n"
     ]
    },
    {
     "data": {
      "application/vnd.jupyter.widget-view+json": {
       "model_id": "59dbb6836f6a43d9bef2b5e2778585af",
       "version_major": 2,
       "version_minor": 0
      },
      "text/plain": [
       "HBox(children=(IntProgress(value=0, max=82), HTML(value='')))"
      ]
     },
     "metadata": {},
     "output_type": "display_data"
    },
    {
     "name": "stdout",
     "output_type": "stream",
     "text": [
      "\n"
     ]
    }
   ],
   "source": [
    "print('Transform all features to category.\\n')\n",
    "for usecol in tqdm_notebook([col for col in train.columns if col not in ['HasDetections', 'MachineIdentifier']]):\n",
    "\n",
    "    train[usecol] = train[usecol].astype('str')\n",
    "    test[usecol] = test[usecol].astype('str')\n",
    "    \n",
    "    #Fit LabelEncoder\n",
    "    le = LabelEncoder().fit(\n",
    "            np.unique(train[usecol].unique().tolist()+\n",
    "                      test[usecol].unique().tolist()))\n",
    "\n",
    "    #At the end 0 will be used for dropped values\n",
    "    train[usecol] = le.transform(train[usecol])+1\n",
    "    test[usecol]  = le.transform(test[usecol])+1\n",
    "\n",
    "    agg_tr = (train\n",
    "              .groupby([usecol])\n",
    "              .aggregate({'MachineIdentifier':'count'})\n",
    "              .reset_index()\n",
    "              .rename({'MachineIdentifier':'Train'}, axis=1))\n",
    "    \n",
    "    agg_te = (test\n",
    "              .groupby([usecol])\n",
    "              .aggregate({'MachineIdentifier':'count'})\n",
    "              .reset_index()\n",
    "              .rename({'MachineIdentifier':'Test'}, axis=1))\n",
    "\n",
    "    agg = pd.merge(agg_tr, agg_te, on=usecol, how='outer').replace(np.nan, 0)\n",
    "    #Select values with more than 1000 observations\n",
    "    agg = agg[(agg['Train'] > 1000)].reset_index(drop=True)\n",
    "    agg['Total'] = agg['Train'] + agg['Test']\n",
    "    #Drop unbalanced values\n",
    "    agg = agg[(agg['Train'] / agg['Total'] > 0.2) & (agg['Train'] / agg['Total'] < 0.8)]\n",
    "    agg[usecol+'Copy'] = agg[usecol]\n",
    "    \n",
    "    train[usecol] = (pd.merge(train[[usecol]], \n",
    "                              agg[[usecol, usecol+'Copy']], \n",
    "                              on=usecol, how='left')[usecol+'Copy']\n",
    "                     .replace(np.nan, 0).astype('int').astype('category'))\n",
    "\n",
    "    test[usecol]  = (pd.merge(test[[usecol]], \n",
    "                              agg[[usecol, usecol+'Copy']], \n",
    "                              on=usecol, how='left')[usecol+'Copy']\n",
    "                     .replace(np.nan, 0).astype('int').astype('category'))\n",
    "\n",
    "    del le, agg_tr, agg_te, agg, usecol\n",
    "    gc.collect()"
   ]
  },
  {
   "cell_type": "code",
   "execution_count": 45,
   "metadata": {
    "ExecuteTime": {
     "end_time": "2019-03-08T16:21:58.115875Z",
     "start_time": "2019-03-08T16:21:58.111887Z"
    }
   },
   "outputs": [
    {
     "data": {
      "text/plain": [
       "(99606, 84)"
      ]
     },
     "execution_count": 45,
     "metadata": {},
     "output_type": "execute_result"
    }
   ],
   "source": [
    "train.shape"
   ]
  },
  {
   "cell_type": "code",
   "execution_count": 46,
   "metadata": {
    "ExecuteTime": {
     "end_time": "2019-03-08T16:21:58.125849Z",
     "start_time": "2019-03-08T16:21:58.117909Z"
    }
   },
   "outputs": [],
   "source": [
    "y_train = np.array(train['HasDetections'])\n",
    "train_ids = train.index\n",
    "test_ids  = test.index"
   ]
  },
  {
   "cell_type": "code",
   "execution_count": 47,
   "metadata": {
    "ExecuteTime": {
     "end_time": "2019-03-08T16:21:58.163742Z",
     "start_time": "2019-03-08T16:21:58.126845Z"
    }
   },
   "outputs": [
    {
     "data": {
      "text/plain": [
       "14"
      ]
     },
     "execution_count": 47,
     "metadata": {},
     "output_type": "execute_result"
    }
   ],
   "source": [
    "del train['HasDetections'], train['MachineIdentifier'], test['MachineIdentifier'], test['HasDetections']\n",
    "gc.collect()"
   ]
  },
  {
   "cell_type": "code",
   "execution_count": 48,
   "metadata": {
    "ExecuteTime": {
     "end_time": "2019-03-08T16:21:58.175675Z",
     "start_time": "2019-03-08T16:21:58.164704Z"
    }
   },
   "outputs": [
    {
     "name": "stdout",
     "output_type": "stream",
     "text": [
      "If you don't want use Sparse Matrix choose Kernel Version 2 to get simple solution.\n",
      "\n",
      "--------------------------------------------------------------------------------------------------------\n",
      "Transform Data to Sparse Matrix.\n",
      "Sparse Matrix can be used to fit a lot of models, eg. XGBoost, LightGBM, Random Forest, K-Means and etc.\n",
      "To concatenate Sparse Matrices by column use hstack()\n",
      "Read more about Sparse Matrix https://docs.scipy.org/doc/scipy/reference/sparse.html\n",
      "Good Luck!\n",
      "--------------------------------------------------------------------------------------------------------\n"
     ]
    }
   ],
   "source": [
    "print(\"If you don't want use Sparse Matrix choose Kernel Version 2 to get simple solution.\\n\")\n",
    "\n",
    "print('--------------------------------------------------------------------------------------------------------')\n",
    "print('Transform Data to Sparse Matrix.')\n",
    "print('Sparse Matrix can be used to fit a lot of models, eg. XGBoost, LightGBM, Random Forest, K-Means and etc.')\n",
    "print('To concatenate Sparse Matrices by column use hstack()')\n",
    "print('Read more about Sparse Matrix https://docs.scipy.org/doc/scipy/reference/sparse.html')\n",
    "print('Good Luck!')\n",
    "print('--------------------------------------------------------------------------------------------------------')\n"
   ]
  },
  {
   "cell_type": "code",
   "execution_count": 49,
   "metadata": {
    "ExecuteTime": {
     "end_time": "2019-03-08T16:21:59.054349Z",
     "start_time": "2019-03-08T16:21:58.177707Z"
    }
   },
   "outputs": [],
   "source": [
    "#Fit OneHotEncoder\n",
    "ohe = OneHotEncoder(categories='auto', sparse=True, dtype='uint8').fit(train.append(test))"
   ]
  },
  {
   "cell_type": "code",
   "execution_count": 50,
   "metadata": {
    "ExecuteTime": {
     "end_time": "2019-03-08T16:22:01.693293Z",
     "start_time": "2019-03-08T16:21:59.055358Z"
    }
   },
   "outputs": [],
   "source": [
    "#Transform data using small groups to reduce memory usage\n",
    "m = 100000\n",
    "train = vstack([ohe.transform(train[i*m:(i+1)*m]) for i in range(train.shape[0] // m + 1)])\n",
    "test  = vstack([ohe.transform(test[i*m:(i+1)*m])  for i in range(test.shape[0] // m +  1)])"
   ]
  },
  {
   "cell_type": "code",
   "execution_count": 51,
   "metadata": {
    "ExecuteTime": {
     "end_time": "2019-03-08T16:22:03.478550Z",
     "start_time": "2019-03-08T16:22:01.694259Z"
    }
   },
   "outputs": [],
   "source": [
    "save_npz('./data_temp/train.npz', train, compressed=True)\n",
    "save_npz('./data_temp/test.npz',  test,  compressed=True)"
   ]
  },
  {
   "cell_type": "code",
   "execution_count": 52,
   "metadata": {
    "ExecuteTime": {
     "end_time": "2019-03-08T16:22:03.529349Z",
     "start_time": "2019-03-08T16:22:03.479521Z"
    }
   },
   "outputs": [
    {
     "data": {
      "text/plain": [
       "1162"
      ]
     },
     "execution_count": 52,
     "metadata": {},
     "output_type": "execute_result"
    }
   ],
   "source": [
    "del ohe, train, test\n",
    "gc.collect()"
   ]
  },
  {
   "cell_type": "code",
   "execution_count": 53,
   "metadata": {
    "ExecuteTime": {
     "end_time": "2019-03-08T16:22:03.825889Z",
     "start_time": "2019-03-08T16:22:03.531343Z"
    }
   },
   "outputs": [],
   "source": [
    "train = load_npz('./data_temp/train.npz')\n",
    "test = load_npz('./data_temp/test.npz')\n",
    "test = csr_matrix(test, dtype='float32')"
   ]
  },
  {
   "cell_type": "code",
   "execution_count": 54,
   "metadata": {
    "ExecuteTime": {
     "end_time": "2019-03-08T16:22:03.831540Z",
     "start_time": "2019-03-08T16:22:03.827588Z"
    }
   },
   "outputs": [],
   "source": [
    "skf = StratifiedKFold(n_splits=10, shuffle=True, random_state=42)\n",
    "skf.get_n_splits(train_ids, y_train)\n",
    "\n",
    "lgb_test_result  = np.zeros(test_ids.shape[0])\n",
    "lgb_train_result = np.zeros(train_ids.shape[0])\n",
    "counter = 0"
   ]
  },
  {
   "cell_type": "code",
   "execution_count": 55,
   "metadata": {
    "ExecuteTime": {
     "end_time": "2019-03-08T16:27:41.005768Z",
     "start_time": "2019-03-08T16:22:03.833565Z"
    },
    "scrolled": true
   },
   "outputs": [
    {
     "name": "stdout",
     "output_type": "stream",
     "text": [
      "\n",
      "LightGBM\n",
      "\n",
      "Fold 1\n",
      "\n",
      "fitting\n",
      "Training until validation scores don't improve for 100 rounds.\n",
      "[200]\tvalid_0's binary_logloss: 0.602906\tvalid_0's auc: 0.740902\n",
      "[400]\tvalid_0's binary_logloss: 0.592425\tvalid_0's auc: 0.74806\n",
      "[600]\tvalid_0's binary_logloss: 0.589095\tvalid_0's auc: 0.750982\n",
      "[800]\tvalid_0's binary_logloss: 0.587692\tvalid_0's auc: 0.752328\n",
      "[1000]\tvalid_0's binary_logloss: 0.58694\tvalid_0's auc: 0.753036\n",
      "[1200]\tvalid_0's binary_logloss: 0.586489\tvalid_0's auc: 0.753468\n",
      "[1400]\tvalid_0's binary_logloss: 0.585964\tvalid_0's auc: 0.753973\n",
      "[1600]\tvalid_0's binary_logloss: 0.58561\tvalid_0's auc: 0.754318\n",
      "[1800]\tvalid_0's binary_logloss: 0.585313\tvalid_0's auc: 0.754601\n",
      "[2000]\tvalid_0's binary_logloss: 0.584951\tvalid_0's auc: 0.754889\n",
      "[2200]\tvalid_0's binary_logloss: 0.584703\tvalid_0's auc: 0.75508\n",
      "[2400]\tvalid_0's binary_logloss: 0.584377\tvalid_0's auc: 0.755368\n",
      "[2600]\tvalid_0's binary_logloss: 0.584036\tvalid_0's auc: 0.755699\n",
      "[2800]\tvalid_0's binary_logloss: 0.583842\tvalid_0's auc: 0.755848\n",
      "[3000]\tvalid_0's binary_logloss: 0.58366\tvalid_0's auc: 0.756011\n",
      "[3200]\tvalid_0's binary_logloss: 0.583478\tvalid_0's auc: 0.756188\n",
      "[3400]\tvalid_0's binary_logloss: 0.583369\tvalid_0's auc: 0.756272\n",
      "[3600]\tvalid_0's binary_logloss: 0.583235\tvalid_0's auc: 0.756382\n",
      "[3800]\tvalid_0's binary_logloss: 0.583114\tvalid_0's auc: 0.756504\n",
      "[4000]\tvalid_0's binary_logloss: 0.582982\tvalid_0's auc: 0.756637\n",
      "Early stopping, best iteration is:\n",
      "[4070]\tvalid_0's binary_logloss: 0.582962\tvalid_0's auc: 0.756684\n",
      "predicting\n",
      "Fold 2\n",
      "\n",
      "fitting\n",
      "Training until validation scores don't improve for 100 rounds.\n",
      "[200]\tvalid_0's binary_logloss: 0.601764\tvalid_0's auc: 0.742745\n",
      "[400]\tvalid_0's binary_logloss: 0.591301\tvalid_0's auc: 0.749315\n",
      "[600]\tvalid_0's binary_logloss: 0.587961\tvalid_0's auc: 0.752046\n",
      "[800]\tvalid_0's binary_logloss: 0.586696\tvalid_0's auc: 0.753242\n",
      "[1000]\tvalid_0's binary_logloss: 0.586113\tvalid_0's auc: 0.753743\n",
      "[1200]\tvalid_0's binary_logloss: 0.585678\tvalid_0's auc: 0.754138\n",
      "[1400]\tvalid_0's binary_logloss: 0.585317\tvalid_0's auc: 0.754465\n",
      "[1600]\tvalid_0's binary_logloss: 0.585092\tvalid_0's auc: 0.754688\n",
      "[1800]\tvalid_0's binary_logloss: 0.584779\tvalid_0's auc: 0.754979\n",
      "[2000]\tvalid_0's binary_logloss: 0.584578\tvalid_0's auc: 0.755163\n",
      "[2200]\tvalid_0's binary_logloss: 0.584384\tvalid_0's auc: 0.755354\n",
      "[2400]\tvalid_0's binary_logloss: 0.584252\tvalid_0's auc: 0.755539\n",
      "Early stopping, best iteration is:\n",
      "[2466]\tvalid_0's binary_logloss: 0.584189\tvalid_0's auc: 0.755619\n",
      "predicting\n",
      "Fold 3\n",
      "\n",
      "fitting\n",
      "Training until validation scores don't improve for 100 rounds.\n",
      "[200]\tvalid_0's binary_logloss: 0.601773\tvalid_0's auc: 0.741711\n",
      "[400]\tvalid_0's binary_logloss: 0.589769\tvalid_0's auc: 0.749939\n",
      "[600]\tvalid_0's binary_logloss: 0.586183\tvalid_0's auc: 0.752915\n",
      "[800]\tvalid_0's binary_logloss: 0.585056\tvalid_0's auc: 0.753888\n",
      "[1000]\tvalid_0's binary_logloss: 0.58443\tvalid_0's auc: 0.754466\n",
      "[1200]\tvalid_0's binary_logloss: 0.583967\tvalid_0's auc: 0.754836\n",
      "[1400]\tvalid_0's binary_logloss: 0.583589\tvalid_0's auc: 0.75513\n",
      "[1600]\tvalid_0's binary_logloss: 0.583097\tvalid_0's auc: 0.755607\n",
      "[1800]\tvalid_0's binary_logloss: 0.582871\tvalid_0's auc: 0.755773\n",
      "[2000]\tvalid_0's binary_logloss: 0.582619\tvalid_0's auc: 0.755979\n",
      "[2200]\tvalid_0's binary_logloss: 0.582422\tvalid_0's auc: 0.756163\n",
      "[2400]\tvalid_0's binary_logloss: 0.582245\tvalid_0's auc: 0.756328\n",
      "[2600]\tvalid_0's binary_logloss: 0.582107\tvalid_0's auc: 0.756434\n",
      "Early stopping, best iteration is:\n",
      "[2507]\tvalid_0's binary_logloss: 0.582105\tvalid_0's auc: 0.756479\n",
      "predicting\n",
      "Fold 4\n",
      "\n",
      "fitting\n",
      "Training until validation scores don't improve for 100 rounds.\n",
      "[200]\tvalid_0's binary_logloss: 0.597423\tvalid_0's auc: 0.748553\n",
      "[400]\tvalid_0's binary_logloss: 0.584814\tvalid_0's auc: 0.756789\n",
      "[600]\tvalid_0's binary_logloss: 0.580644\tvalid_0's auc: 0.760318\n",
      "[800]\tvalid_0's binary_logloss: 0.579135\tvalid_0's auc: 0.761662\n",
      "[1000]\tvalid_0's binary_logloss: 0.578314\tvalid_0's auc: 0.762404\n",
      "[1200]\tvalid_0's binary_logloss: 0.577725\tvalid_0's auc: 0.762985\n",
      "[1400]\tvalid_0's binary_logloss: 0.577164\tvalid_0's auc: 0.763514\n",
      "[1600]\tvalid_0's binary_logloss: 0.57677\tvalid_0's auc: 0.763823\n",
      "[1800]\tvalid_0's binary_logloss: 0.576364\tvalid_0's auc: 0.764223\n",
      "[2000]\tvalid_0's binary_logloss: 0.575992\tvalid_0's auc: 0.764589\n",
      "[2200]\tvalid_0's binary_logloss: 0.575745\tvalid_0's auc: 0.764835\n",
      "[2400]\tvalid_0's binary_logloss: 0.575632\tvalid_0's auc: 0.764863\n",
      "Early stopping, best iteration is:\n",
      "[2304]\tvalid_0's binary_logloss: 0.575638\tvalid_0's auc: 0.764904\n",
      "predicting\n",
      "Fold 5\n",
      "\n",
      "fitting\n",
      "Training until validation scores don't improve for 100 rounds.\n",
      "[200]\tvalid_0's binary_logloss: 0.605768\tvalid_0's auc: 0.736132\n",
      "[400]\tvalid_0's binary_logloss: 0.59438\tvalid_0's auc: 0.744224\n",
      "[600]\tvalid_0's binary_logloss: 0.590113\tvalid_0's auc: 0.74793\n",
      "[800]\tvalid_0's binary_logloss: 0.588563\tvalid_0's auc: 0.749519\n",
      "[1000]\tvalid_0's binary_logloss: 0.587629\tvalid_0's auc: 0.750533\n",
      "[1200]\tvalid_0's binary_logloss: 0.587072\tvalid_0's auc: 0.75112\n",
      "[1400]\tvalid_0's binary_logloss: 0.586553\tvalid_0's auc: 0.751674\n",
      "[1600]\tvalid_0's binary_logloss: 0.5862\tvalid_0's auc: 0.752055\n",
      "[1800]\tvalid_0's binary_logloss: 0.585855\tvalid_0's auc: 0.752444\n",
      "[2000]\tvalid_0's binary_logloss: 0.58566\tvalid_0's auc: 0.752668\n",
      "[2200]\tvalid_0's binary_logloss: 0.585473\tvalid_0's auc: 0.752834\n",
      "[2400]\tvalid_0's binary_logloss: 0.585215\tvalid_0's auc: 0.753119\n",
      "[2600]\tvalid_0's binary_logloss: 0.585061\tvalid_0's auc: 0.753307\n",
      "[2800]\tvalid_0's binary_logloss: 0.584906\tvalid_0's auc: 0.753483\n",
      "[3000]\tvalid_0's binary_logloss: 0.584821\tvalid_0's auc: 0.753662\n",
      "[3200]\tvalid_0's binary_logloss: 0.584671\tvalid_0's auc: 0.753848\n",
      "[3400]\tvalid_0's binary_logloss: 0.584612\tvalid_0's auc: 0.753946\n",
      "Early stopping, best iteration is:\n",
      "[3451]\tvalid_0's binary_logloss: 0.584536\tvalid_0's auc: 0.754037\n",
      "predicting\n",
      "Fold 6\n",
      "\n",
      "fitting\n",
      "Training until validation scores don't improve for 100 rounds.\n",
      "[200]\tvalid_0's binary_logloss: 0.59675\tvalid_0's auc: 0.751543\n",
      "[400]\tvalid_0's binary_logloss: 0.584703\tvalid_0's auc: 0.759068\n",
      "[600]\tvalid_0's binary_logloss: 0.581269\tvalid_0's auc: 0.761457\n",
      "[800]\tvalid_0's binary_logloss: 0.580133\tvalid_0's auc: 0.762342\n",
      "[1000]\tvalid_0's binary_logloss: 0.579438\tvalid_0's auc: 0.762971\n",
      "[1200]\tvalid_0's binary_logloss: 0.579036\tvalid_0's auc: 0.76332\n",
      "[1400]\tvalid_0's binary_logloss: 0.578548\tvalid_0's auc: 0.763772\n",
      "[1600]\tvalid_0's binary_logloss: 0.57819\tvalid_0's auc: 0.764105\n",
      "[1800]\tvalid_0's binary_logloss: 0.577917\tvalid_0's auc: 0.764336\n",
      "[2000]\tvalid_0's binary_logloss: 0.577785\tvalid_0's auc: 0.764414\n",
      "[2200]\tvalid_0's binary_logloss: 0.577563\tvalid_0's auc: 0.76463\n",
      "[2400]\tvalid_0's binary_logloss: 0.577425\tvalid_0's auc: 0.764733\n",
      "[2600]\tvalid_0's binary_logloss: 0.577231\tvalid_0's auc: 0.764926\n",
      "[2800]\tvalid_0's binary_logloss: 0.577031\tvalid_0's auc: 0.765074\n",
      "Early stopping, best iteration is:\n",
      "[2804]\tvalid_0's binary_logloss: 0.577029\tvalid_0's auc: 0.76508\n",
      "predicting\n",
      "Fold 7\n",
      "\n",
      "fitting\n",
      "Training until validation scores don't improve for 100 rounds.\n",
      "[200]\tvalid_0's binary_logloss: 0.598667\tvalid_0's auc: 0.748008\n",
      "[400]\tvalid_0's binary_logloss: 0.587092\tvalid_0's auc: 0.755138\n",
      "[600]\tvalid_0's binary_logloss: 0.583349\tvalid_0's auc: 0.758417\n",
      "[800]\tvalid_0's binary_logloss: 0.582123\tvalid_0's auc: 0.759655\n",
      "[1000]\tvalid_0's binary_logloss: 0.581515\tvalid_0's auc: 0.760277\n",
      "[1200]\tvalid_0's binary_logloss: 0.581022\tvalid_0's auc: 0.760818\n",
      "[1400]\tvalid_0's binary_logloss: 0.580602\tvalid_0's auc: 0.761333\n",
      "[1600]\tvalid_0's binary_logloss: 0.580376\tvalid_0's auc: 0.761608\n",
      "[1800]\tvalid_0's binary_logloss: 0.580164\tvalid_0's auc: 0.761849\n",
      "[2000]\tvalid_0's binary_logloss: 0.58003\tvalid_0's auc: 0.761979\n",
      "[2200]\tvalid_0's binary_logloss: 0.579877\tvalid_0's auc: 0.762177\n",
      "[2400]\tvalid_0's binary_logloss: 0.579721\tvalid_0's auc: 0.7623\n",
      "[2600]\tvalid_0's binary_logloss: 0.579604\tvalid_0's auc: 0.762435\n",
      "Early stopping, best iteration is:\n",
      "[2579]\tvalid_0's binary_logloss: 0.579581\tvalid_0's auc: 0.762457\n",
      "predicting\n",
      "Fold 8\n",
      "\n",
      "fitting\n",
      "Training until validation scores don't improve for 100 rounds.\n",
      "[200]\tvalid_0's binary_logloss: 0.604075\tvalid_0's auc: 0.738089\n",
      "[400]\tvalid_0's binary_logloss: 0.59408\tvalid_0's auc: 0.745261\n",
      "[600]\tvalid_0's binary_logloss: 0.591158\tvalid_0's auc: 0.748024\n",
      "[800]\tvalid_0's binary_logloss: 0.590047\tvalid_0's auc: 0.749201\n",
      "[1000]\tvalid_0's binary_logloss: 0.589483\tvalid_0's auc: 0.749826\n",
      "[1200]\tvalid_0's binary_logloss: 0.589033\tvalid_0's auc: 0.750235\n",
      "[1400]\tvalid_0's binary_logloss: 0.588742\tvalid_0's auc: 0.750547\n",
      "[1600]\tvalid_0's binary_logloss: 0.588406\tvalid_0's auc: 0.750866\n",
      "[1800]\tvalid_0's binary_logloss: 0.588162\tvalid_0's auc: 0.751132\n",
      "[2000]\tvalid_0's binary_logloss: 0.587872\tvalid_0's auc: 0.751471\n",
      "[2200]\tvalid_0's binary_logloss: 0.587672\tvalid_0's auc: 0.751678\n",
      "[2400]\tvalid_0's binary_logloss: 0.587433\tvalid_0's auc: 0.751964\n",
      "[2600]\tvalid_0's binary_logloss: 0.587262\tvalid_0's auc: 0.752146\n",
      "[2800]\tvalid_0's binary_logloss: 0.587151\tvalid_0's auc: 0.752254\n",
      "[3000]\tvalid_0's binary_logloss: 0.58702\tvalid_0's auc: 0.752429\n",
      "[3200]\tvalid_0's binary_logloss: 0.586911\tvalid_0's auc: 0.752542\n",
      "[3400]\tvalid_0's binary_logloss: 0.586786\tvalid_0's auc: 0.752674\n",
      "[3600]\tvalid_0's binary_logloss: 0.586688\tvalid_0's auc: 0.752771\n",
      "[3800]\tvalid_0's binary_logloss: 0.586525\tvalid_0's auc: 0.752988\n",
      "[4000]\tvalid_0's binary_logloss: 0.586443\tvalid_0's auc: 0.753066\n",
      "Early stopping, best iteration is:\n",
      "[3919]\tvalid_0's binary_logloss: 0.586437\tvalid_0's auc: 0.753088\n",
      "predicting\n",
      "Fold 9\n",
      "\n",
      "fitting\n",
      "Training until validation scores don't improve for 100 rounds.\n",
      "[200]\tvalid_0's binary_logloss: 0.599335\tvalid_0's auc: 0.746525\n",
      "[400]\tvalid_0's binary_logloss: 0.586916\tvalid_0's auc: 0.754526\n",
      "[600]\tvalid_0's binary_logloss: 0.582902\tvalid_0's auc: 0.757552\n",
      "[800]\tvalid_0's binary_logloss: 0.581721\tvalid_0's auc: 0.758398\n",
      "[1000]\tvalid_0's binary_logloss: 0.580988\tvalid_0's auc: 0.75894\n",
      "[1200]\tvalid_0's binary_logloss: 0.580311\tvalid_0's auc: 0.7595\n",
      "[1400]\tvalid_0's binary_logloss: 0.579805\tvalid_0's auc: 0.759995\n",
      "[1600]\tvalid_0's binary_logloss: 0.579264\tvalid_0's auc: 0.760528\n",
      "[1800]\tvalid_0's binary_logloss: 0.578801\tvalid_0's auc: 0.760975\n",
      "[2000]\tvalid_0's binary_logloss: 0.578433\tvalid_0's auc: 0.76134\n",
      "[2200]\tvalid_0's binary_logloss: 0.578142\tvalid_0's auc: 0.76159\n",
      "[2400]\tvalid_0's binary_logloss: 0.577917\tvalid_0's auc: 0.761751\n",
      "Early stopping, best iteration is:\n",
      "[2355]\tvalid_0's binary_logloss: 0.577921\tvalid_0's auc: 0.761764\n",
      "predicting\n",
      "Fold 10\n",
      "\n",
      "fitting\n",
      "Training until validation scores don't improve for 100 rounds.\n",
      "[200]\tvalid_0's binary_logloss: 0.602971\tvalid_0's auc: 0.740635\n",
      "[400]\tvalid_0's binary_logloss: 0.592195\tvalid_0's auc: 0.748588\n",
      "[600]\tvalid_0's binary_logloss: 0.588791\tvalid_0's auc: 0.751407\n",
      "[800]\tvalid_0's binary_logloss: 0.58765\tvalid_0's auc: 0.752296\n",
      "[1000]\tvalid_0's binary_logloss: 0.587\tvalid_0's auc: 0.752844\n",
      "[1200]\tvalid_0's binary_logloss: 0.586459\tvalid_0's auc: 0.753361\n",
      "[1400]\tvalid_0's binary_logloss: 0.58594\tvalid_0's auc: 0.753878\n",
      "[1600]\tvalid_0's binary_logloss: 0.585655\tvalid_0's auc: 0.754179\n",
      "[1800]\tvalid_0's binary_logloss: 0.585479\tvalid_0's auc: 0.754321\n",
      "[2000]\tvalid_0's binary_logloss: 0.585197\tvalid_0's auc: 0.754587\n",
      "[2200]\tvalid_0's binary_logloss: 0.584935\tvalid_0's auc: 0.75486\n",
      "[2400]\tvalid_0's binary_logloss: 0.584678\tvalid_0's auc: 0.75509\n",
      "[2600]\tvalid_0's binary_logloss: 0.584414\tvalid_0's auc: 0.755335\n",
      "[2800]\tvalid_0's binary_logloss: 0.584235\tvalid_0's auc: 0.755503\n",
      "[3000]\tvalid_0's binary_logloss: 0.584022\tvalid_0's auc: 0.755758\n",
      "[3200]\tvalid_0's binary_logloss: 0.583856\tvalid_0's auc: 0.755937\n",
      "[3400]\tvalid_0's binary_logloss: 0.583676\tvalid_0's auc: 0.75612\n",
      "Early stopping, best iteration is:\n",
      "[3497]\tvalid_0's binary_logloss: 0.58359\tvalid_0's auc: 0.756197\n",
      "predicting\n"
     ]
    }
   ],
   "source": [
    "print('\\nLightGBM\\n')\n",
    "\n",
    "for train_index, test_index in skf.split(train_ids, y_train):\n",
    "    \n",
    "    print('Fold {}\\n'.format(counter + 1))\n",
    "    \n",
    "    X_fit = vstack([train[train_index[i*m:(i+1)*m]] for i in range(train_index.shape[0] // m + 1)])\n",
    "    X_val = vstack([train[test_index[i*m:(i+1)*m]]  for i in range(test_index.shape[0] //  m + 1)])\n",
    "    X_fit, X_val = csr_matrix(X_fit, dtype='float32'), csr_matrix(X_val, dtype='float32')\n",
    "    y_fit, y_val = y_train[train_index], y_train[test_index]\n",
    "    \n",
    "    gc.collect()\n",
    "\n",
    "    lgb_model = lgb.LGBMClassifier(max_depth=-1,\n",
    "                                   n_estimators=100000,\n",
    "                                   learning_rate=0.01,\n",
    "                                   num_leaves=2**5-1,\n",
    "                                   objective='binary', \n",
    "                                   boosting_type='gbdt',\n",
    "                                   # overfitting handling\n",
    "                                   # max_bin=120,\n",
    "                                   # lambda_l1=6,\n",
    "                                   # lambda_l2=2,\n",
    "                                   save_binary=True,\n",
    "                                   feature_fraction=0.8,\n",
    "                                   feature_fraction_seed=42,\n",
    "                                   n_jobs=-1)\n",
    "    \n",
    "    print(\"fitting\")\n",
    "    lgb_model.fit(X_fit, y_fit, eval_metric='auc', \n",
    "                  eval_set=[(X_val, y_val)], \n",
    "                  verbose=200, early_stopping_rounds=100)\n",
    "    \n",
    "    del X_fit, X_val, y_fit, y_val, train_index, test_index\n",
    "    gc.collect()\n",
    "    \n",
    "    print(\"predicting\")\n",
    "    lgb_test_result += lgb_model.predict_proba(test)[:,1]\n",
    "    counter += 1\n",
    "    \n",
    "    gc.collect()"
   ]
  },
  {
   "cell_type": "code",
   "execution_count": 56,
   "metadata": {
    "ExecuteTime": {
     "end_time": "2019-03-08T16:27:41.017737Z",
     "start_time": "2019-03-08T16:27:41.006766Z"
    }
   },
   "outputs": [],
   "source": [
    "root[idx_3] = lgb_test_result/10"
   ]
  },
  {
   "cell_type": "code",
   "execution_count": 57,
   "metadata": {
    "ExecuteTime": {
     "end_time": "2019-03-08T16:27:51.809795Z",
     "start_time": "2019-03-08T16:27:41.020729Z"
    }
   },
   "outputs": [],
   "source": [
    "pd.DataFrame(root).to_csv('./data_temp/outlier_split.csv', index=False)"
   ]
  },
  {
   "cell_type": "markdown",
   "metadata": {},
   "source": [
    "## 지수패턴 ( 2016년 6월 2일 ~ 2018년 9월 24일까지)"
   ]
  },
  {
   "cell_type": "code",
   "execution_count": 80,
   "metadata": {
    "ExecuteTime": {
     "end_time": "2019-03-10T02:50:10.846390Z",
     "start_time": "2019-03-10T02:50:04.181263Z"
    }
   },
   "outputs": [],
   "source": [
    "temp_te = data[data.HasDetections.isna()].groupby(['Date_YMD']).HasDetections.agg(['size', 'mean']).reset_index()"
   ]
  },
  {
   "cell_type": "code",
   "execution_count": 81,
   "metadata": {
    "ExecuteTime": {
     "end_time": "2019-03-10T02:50:10.876311Z",
     "start_time": "2019-03-10T02:50:10.852374Z"
    }
   },
   "outputs": [
    {
     "data": {
      "text/html": [
       "<div>\n",
       "<style scoped>\n",
       "    .dataframe tbody tr th:only-of-type {\n",
       "        vertical-align: middle;\n",
       "    }\n",
       "\n",
       "    .dataframe tbody tr th {\n",
       "        vertical-align: top;\n",
       "    }\n",
       "\n",
       "    .dataframe thead th {\n",
       "        text-align: right;\n",
       "    }\n",
       "</style>\n",
       "<table border=\"1\" class=\"dataframe\">\n",
       "  <thead>\n",
       "    <tr style=\"text-align: right;\">\n",
       "      <th></th>\n",
       "      <th>Date_YMD</th>\n",
       "      <th>size</th>\n",
       "      <th>mean</th>\n",
       "    </tr>\n",
       "  </thead>\n",
       "  <tbody>\n",
       "    <tr>\n",
       "      <th>964</th>\n",
       "      <td>2018-09-22</td>\n",
       "      <td>20533</td>\n",
       "      <td>NaN</td>\n",
       "    </tr>\n",
       "    <tr>\n",
       "      <th>965</th>\n",
       "      <td>2018-09-23</td>\n",
       "      <td>14630</td>\n",
       "      <td>NaN</td>\n",
       "    </tr>\n",
       "    <tr>\n",
       "      <th>966</th>\n",
       "      <td>2018-09-24</td>\n",
       "      <td>1192</td>\n",
       "      <td>NaN</td>\n",
       "    </tr>\n",
       "    <tr>\n",
       "      <th>967</th>\n",
       "      <td>2018-09-25</td>\n",
       "      <td>98776</td>\n",
       "      <td>NaN</td>\n",
       "    </tr>\n",
       "    <tr>\n",
       "      <th>968</th>\n",
       "      <td>2018-09-26</td>\n",
       "      <td>129556</td>\n",
       "      <td>NaN</td>\n",
       "    </tr>\n",
       "  </tbody>\n",
       "</table>\n",
       "</div>"
      ],
      "text/plain": [
       "      Date_YMD    size  mean\n",
       "964 2018-09-22   20533   NaN\n",
       "965 2018-09-23   14630   NaN\n",
       "966 2018-09-24    1192   NaN\n",
       "967 2018-09-25   98776   NaN\n",
       "968 2018-09-26  129556   NaN"
      ]
     },
     "execution_count": 81,
     "metadata": {},
     "output_type": "execute_result"
    }
   ],
   "source": [
    "temp_te[(temp_te.Date_YMD >= '2018-09-22') & (temp_te.Date_YMD <= '2018-09-26')]"
   ]
  },
  {
   "cell_type": "code",
   "execution_count": 184,
   "metadata": {
    "ExecuteTime": {
     "end_time": "2019-03-10T03:17:31.327179Z",
     "start_time": "2019-03-10T03:17:30.936203Z"
    }
   },
   "outputs": [],
   "source": [
    "time_idx = data.groupby(['Date_YMD']).size().index"
   ]
  },
  {
   "cell_type": "code",
   "execution_count": 176,
   "metadata": {
    "ExecuteTime": {
     "end_time": "2019-03-10T03:16:24.445616Z",
     "start_time": "2019-03-10T03:16:14.627421Z"
    }
   },
   "outputs": [],
   "source": [
    "train = data[~data.HasDetections.isna()]\n",
    "test = data[data.HasDetections.isna()]"
   ]
  },
  {
   "cell_type": "code",
   "execution_count": 185,
   "metadata": {
    "ExecuteTime": {
     "end_time": "2019-03-10T03:17:32.441221Z",
     "start_time": "2019-03-10T03:17:32.437256Z"
    }
   },
   "outputs": [],
   "source": [
    "temp = pd.DataFrame(time_idx)"
   ]
  },
  {
   "cell_type": "code",
   "execution_count": 186,
   "metadata": {
    "ExecuteTime": {
     "end_time": "2019-03-10T03:17:33.149921Z",
     "start_time": "2019-03-10T03:17:32.673978Z"
    }
   },
   "outputs": [],
   "source": [
    "tr_temp = train.groupby('Date_YMD').HasDetections.agg(['size', 'mean']).reset_index()\n",
    "te_temp = test.groupby('Date_YMD').HasDetections.agg(['size', 'mean']).reset_index()"
   ]
  },
  {
   "cell_type": "code",
   "execution_count": 187,
   "metadata": {
    "ExecuteTime": {
     "end_time": "2019-03-10T03:17:33.442912Z",
     "start_time": "2019-03-10T03:17:33.433937Z"
    }
   },
   "outputs": [],
   "source": [
    "tr_temp = temp.merge(tr_temp, on='Date_YMD', how='left')#.fillna(0)\n",
    "te_temp = temp.merge(te_temp, on='Date_YMD', how='left')#.fillna(0)"
   ]
  },
  {
   "cell_type": "code",
   "execution_count": 180,
   "metadata": {
    "ExecuteTime": {
     "end_time": "2019-03-10T03:16:25.638891Z",
     "start_time": "2019-03-10T03:16:25.631876Z"
    }
   },
   "outputs": [],
   "source": [
    "tr_temp.Date_YMD = tr_temp.Date_YMD + pd.offsets.MonthOffset(2)"
   ]
  },
  {
   "cell_type": "code",
   "execution_count": 188,
   "metadata": {
    "ExecuteTime": {
     "end_time": "2019-03-10T03:17:34.200551Z",
     "start_time": "2019-03-10T03:17:34.188583Z"
    }
   },
   "outputs": [],
   "source": [
    "condition = (tr_temp.Date_YMD >= '2018-05-25')&(tr_temp.Date_YMD <= '2018-09-24') & (tr_temp.Date_YMD != '2018-03-01') & (tr_temp.Date_YMD != '2017-02-22') & (tr_temp.Date_YMD != '2017-08-24')\n",
    "tr_temp = tr_temp[condition]\n",
    "# condition = (te_temp.Date_YMD >= '2016-06-02')&(te_temp.Date_YMD <= '2018-09-24') & (te_temp.Date_YMD != '2018-03-01') & (te_temp.Date_YMD != '2017-02-22') & (te_temp.Date_YMD != '2017-08-24')\n",
    "te_temp = te_temp[condition]"
   ]
  },
  {
   "cell_type": "code",
   "execution_count": 189,
   "metadata": {
    "ExecuteTime": {
     "end_time": "2019-03-10T03:17:34.632615Z",
     "start_time": "2019-03-10T03:17:34.371966Z"
    }
   },
   "outputs": [
    {
     "data": {
      "text/plain": [
       "<matplotlib.legend.Legend at 0x255e7a57278>"
      ]
     },
     "execution_count": 189,
     "metadata": {},
     "output_type": "execute_result"
    },
    {
     "data": {
      "image/png": "[encoded data removed]",
      "text/plain": [
       "<Figure size 1296x576 with 1 Axes>"
      ]
     },
     "metadata": {
      "needs_background": "light"
     },
     "output_type": "display_data"
    }
   ],
   "source": [
    "plt.figure(figsize=(18, 8))\n",
    "plt.plot(tr_temp.Date_YMD, tr_temp['size'], '+', color='b', alpha=0.5, label='train')\n",
    "plt.plot(te_temp.Date_YMD, te_temp['size'], '+', color='r', alpha=0.5, label='test')\n",
    "plt.legend(('train', 'test'), prop={'size': 16})"
   ]
  },
  {
   "cell_type": "code",
   "execution_count": 270,
   "metadata": {
    "ExecuteTime": {
     "end_time": "2019-03-08T17:22:45.969434Z",
     "start_time": "2019-03-08T17:22:45.750231Z"
    }
   },
   "outputs": [
    {
     "data": {
      "text/plain": [
       "<matplotlib.legend.Legend at 0x1d6d4ac0c50>"
      ]
     },
     "execution_count": 270,
     "metadata": {},
     "output_type": "execute_result"
    },
    {
     "data": {
      "image/png": "[encoded data removed]",
      "text/plain": [
       "<Figure size 1296x576 with 1 Axes>"
      ]
     },
     "metadata": {
      "needs_background": "light"
     },
     "output_type": "display_data"
    }
   ],
   "source": [
    "plt.figure(figsize=(18, 8))\n",
    "plt.plot(tr_temp.Date_YMD, tr_temp['mean'], '+', color='b', alpha=1, label='train')\n",
    "plt.legend(prop={'size': 16})"
   ]
  },
  {
   "cell_type": "code",
   "execution_count": 293,
   "metadata": {
    "ExecuteTime": {
     "end_time": "2019-03-08T17:38:49.223567Z",
     "start_time": "2019-03-08T17:38:49.022484Z"
    }
   },
   "outputs": [
    {
     "data": {
      "text/plain": [
       "<matplotlib.legend.Legend at 0x1d6cb18d080>"
      ]
     },
     "execution_count": 293,
     "metadata": {},
     "output_type": "execute_result"
    },
    {
     "data": {
      "image/png": "[encoded data removed]",
      "text/plain": [
       "<Figure size 1296x576 with 1 Axes>"
      ]
     },
     "metadata": {
      "needs_background": "light"
     },
     "output_type": "display_data"
    }
   ],
   "source": [
    "plt.figure(figsize=(18, 8))\n",
    "plt.plot(te_temp.Date_YMD, tr_temp['size'] - te_temp['size'], '+', color='b', alpha=1, label='train')\n",
    "plt.legend(prop={'size': 16})"
   ]
  },
  {
   "cell_type": "code",
   "execution_count": 115,
   "metadata": {
    "ExecuteTime": {
     "end_time": "2019-03-10T02:55:50.177063Z",
     "start_time": "2019-03-10T02:55:42.314482Z"
    }
   },
   "outputs": [],
   "source": [
    "base = pd.read_csv('./data/submission_lgb.csv')"
   ]
  },
  {
   "cell_type": "code",
   "execution_count": 116,
   "metadata": {
    "ExecuteTime": {
     "end_time": "2019-03-10T02:55:54.736861Z",
     "start_time": "2019-03-10T02:55:50.180023Z"
    }
   },
   "outputs": [],
   "source": [
    "base['Date'] = data[data.HasDetections.isna()].Date_YMD.values"
   ]
  },
  {
   "cell_type": "code",
   "execution_count": 117,
   "metadata": {
    "ExecuteTime": {
     "end_time": "2019-03-10T02:55:55.328143Z",
     "start_time": "2019-03-10T02:55:54.737825Z"
    }
   },
   "outputs": [],
   "source": [
    "base_temp = base.groupby('Date').HasDetections.agg(['size', 'mean']).reset_index()"
   ]
  },
  {
   "cell_type": "code",
   "execution_count": 118,
   "metadata": {
    "ExecuteTime": {
     "end_time": "2019-03-10T02:55:55.336123Z",
     "start_time": "2019-03-10T02:55:55.330103Z"
    }
   },
   "outputs": [],
   "source": [
    "base_temp = temp.merge(base_temp, left_on='Date_YMD', right_on='Date', how='left')#.fillna(0)"
   ]
  },
  {
   "cell_type": "code",
   "execution_count": 119,
   "metadata": {
    "ExecuteTime": {
     "end_time": "2019-03-10T02:55:55.346061Z",
     "start_time": "2019-03-10T02:55:55.337084Z"
    }
   },
   "outputs": [],
   "source": [
    "condition = (base_temp.Date_YMD >= '2018-07-25')&(base_temp.Date_YMD <= '2018-09-24') & (base_temp.Date_YMD != '2018-03-01') & (base_temp.Date_YMD != '2017-02-22') & (base_temp.Date_YMD != '2017-08-24')\n",
    "base_temp = base_temp[condition]"
   ]
  },
  {
   "cell_type": "code",
   "execution_count": 150,
   "metadata": {
    "ExecuteTime": {
     "end_time": "2019-03-10T03:02:37.525850Z",
     "start_time": "2019-03-10T03:02:30.555404Z"
    }
   },
   "outputs": [],
   "source": [
    "yh = pd.read_csv('./data/YH_v3_new_jebal.csv')\n",
    "yh['Date'] = test.Date_YMD.values"
   ]
  },
  {
   "cell_type": "code",
   "execution_count": 124,
   "metadata": {
    "ExecuteTime": {
     "end_time": "2019-03-10T02:57:33.721810Z",
     "start_time": "2019-03-10T02:57:33.134383Z"
    }
   },
   "outputs": [],
   "source": [
    "yh_temp = yh.groupby('Date').HasDetections.agg(['size', 'mean']).reset_index()"
   ]
  },
  {
   "cell_type": "code",
   "execution_count": 125,
   "metadata": {
    "ExecuteTime": {
     "end_time": "2019-03-10T02:57:33.728792Z",
     "start_time": "2019-03-10T02:57:33.722808Z"
    }
   },
   "outputs": [],
   "source": [
    "yh_temp = temp.merge(yh_temp, left_on='Date_YMD', right_on='Date', how='left')#.fillna(0)"
   ]
  },
  {
   "cell_type": "code",
   "execution_count": 131,
   "metadata": {
    "ExecuteTime": {
     "end_time": "2019-03-10T02:58:12.285213Z",
     "start_time": "2019-03-10T02:58:12.266266Z"
    }
   },
   "outputs": [],
   "source": [
    "condition = (tr_temp.Date_YMD >= '2018-07-25')&(tr_temp.Date_YMD <= '2018-09-24') & (tr_temp.Date_YMD != '2018-03-01') & (tr_temp.Date_YMD != '2017-02-22') & (tr_temp.Date_YMD != '2017-08-24')\n",
    "yh_temp = yh_temp[condition]"
   ]
  },
  {
   "cell_type": "code",
   "execution_count": 132,
   "metadata": {
    "ExecuteTime": {
     "end_time": "2019-03-10T02:58:13.112339Z",
     "start_time": "2019-03-10T02:58:12.873425Z"
    }
   },
   "outputs": [
    {
     "data": {
      "text/plain": [
       "<matplotlib.legend.Legend at 0x2554d69c390>"
      ]
     },
     "execution_count": 132,
     "metadata": {},
     "output_type": "execute_result"
    },
    {
     "data": {
      "image/png": "[encoded data removed]",
      "text/plain": [
       "<Figure size 1296x576 with 1 Axes>"
      ]
     },
     "metadata": {
      "needs_background": "light"
     },
     "output_type": "display_data"
    }
   ],
   "source": [
    "plt.figure(figsize=(18, 8))\n",
    "plt.plot(yh_temp.Date_YMD, yh_temp['mean'], '+', color='b', alpha=1, label='train')\n",
    "plt.legend(prop={'size': 16})"
   ]
  },
  {
   "cell_type": "code",
   "execution_count": 133,
   "metadata": {
    "ExecuteTime": {
     "end_time": "2019-03-10T02:58:26.038320Z",
     "start_time": "2019-03-10T02:58:25.793456Z"
    }
   },
   "outputs": [
    {
     "data": {
      "text/plain": [
       "<matplotlib.legend.Legend at 0x25563209080>"
      ]
     },
     "execution_count": 133,
     "metadata": {},
     "output_type": "execute_result"
    },
    {
     "data": {
      "image/png": "[encoded data removed]",
      "text/plain": [
       "<Figure size 1296x576 with 1 Axes>"
      ]
     },
     "metadata": {
      "needs_background": "light"
     },
     "output_type": "display_data"
    }
   ],
   "source": [
    "plt.figure(figsize=(18, 8))\n",
    "plt.plot(base_temp.Date_YMD, base_temp['mean'], '+', color='b', alpha=1, label='train')\n",
    "plt.plot(tt_temp.Date_YMD, tt_temp['mean'] / 5, '+', color='r', alpha=1, label='train')\n",
    "plt.plot(yh_temp.Date_YMD, yh_temp['mean'], '+', color='g', alpha=1, label='train')\n",
    "\n",
    "plt.legend(prop={'size': 16})"
   ]
  },
  {
   "cell_type": "code",
   "execution_count": 95,
   "metadata": {
    "ExecuteTime": {
     "end_time": "2019-03-10T02:51:18.570308Z",
     "start_time": "2019-03-10T02:51:18.199248Z"
    }
   },
   "outputs": [],
   "source": [
    "tt = test[(test.Date_YMD >= '2018-07-25') & (test.Date_YMD <= '2018-09-24')]"
   ]
  },
  {
   "cell_type": "code",
   "execution_count": 97,
   "metadata": {
    "ExecuteTime": {
     "end_time": "2019-03-10T02:51:22.486217Z",
     "start_time": "2019-03-10T02:51:22.430356Z"
    }
   },
   "outputs": [],
   "source": [
    "tt.HasDetections = lgb_test_result"
   ]
  },
  {
   "cell_type": "code",
   "execution_count": 98,
   "metadata": {
    "ExecuteTime": {
     "end_time": "2019-03-10T02:51:23.822018Z",
     "start_time": "2019-03-10T02:51:23.769161Z"
    }
   },
   "outputs": [],
   "source": [
    "tt_temp = tt.groupby('Date_YMD').HasDetections.agg(['size', 'mean']).reset_index()"
   ]
  },
  {
   "cell_type": "code",
   "execution_count": 103,
   "metadata": {
    "ExecuteTime": {
     "end_time": "2019-03-10T02:51:49.833029Z",
     "start_time": "2019-03-10T02:51:49.827029Z"
    }
   },
   "outputs": [],
   "source": [
    "tt_temp = temp.merge(tt_temp, left_on='Date_YMD', right_on='Date_YMD', how='left')#.fillna(0)"
   ]
  },
  {
   "cell_type": "code",
   "execution_count": 109,
   "metadata": {
    "ExecuteTime": {
     "end_time": "2019-03-10T02:53:19.594230Z",
     "start_time": "2019-03-10T02:53:19.588224Z"
    }
   },
   "outputs": [],
   "source": [
    "condition = (tt_temp.Date_YMD >= '2018-07-25')&(tt_temp.Date_YMD <= '2018-09-24')"
   ]
  },
  {
   "cell_type": "code",
   "execution_count": 111,
   "metadata": {
    "ExecuteTime": {
     "end_time": "2019-03-10T02:53:23.462238Z",
     "start_time": "2019-03-10T02:53:23.458217Z"
    }
   },
   "outputs": [],
   "source": [
    "tt_temp = tt_temp[condition]"
   ]
  },
  {
   "cell_type": "code",
   "execution_count": 113,
   "metadata": {
    "ExecuteTime": {
     "end_time": "2019-03-10T02:53:28.128508Z",
     "start_time": "2019-03-10T02:53:27.923088Z"
    }
   },
   "outputs": [
    {
     "data": {
      "text/plain": [
       "<matplotlib.legend.Legend at 0x25576d1c080>"
      ]
     },
     "execution_count": 113,
     "metadata": {},
     "output_type": "execute_result"
    },
    {
     "data": {
      "image/png": "[encoded data removed]",
      "text/plain": [
       "<Figure size 1296x576 with 1 Axes>"
      ]
     },
     "metadata": {
      "needs_background": "light"
     },
     "output_type": "display_data"
    }
   ],
   "source": [
    "plt.figure(figsize=(18, 8))\n",
    "plt.plot(tt_temp.Date_YMD, tt_temp['mean'] / 5, '+', color='b', alpha=1, label='train')\n",
    "plt.legend(prop={'size': 16})"
   ]
  },
  {
   "cell_type": "code",
   "execution_count": 89,
   "metadata": {
    "ExecuteTime": {
     "end_time": "2019-03-09T23:22:08.286385Z",
     "start_time": "2019-03-09T23:22:08.072535Z"
    }
   },
   "outputs": [
    {
     "data": {
      "text/plain": [
       "<matplotlib.legend.Legend at 0x200b3bdeba8>"
      ]
     },
     "execution_count": 89,
     "metadata": {},
     "output_type": "execute_result"
    },
    {
     "data": {
      "image/png": "[encoded data removed]",
      "text/plain": [
       "<Figure size 1296x576 with 1 Axes>"
      ]
     },
     "metadata": {
      "needs_background": "light"
     },
     "output_type": "display_data"
    }
   ],
   "source": [
    "plt.figure(figsize=(18, 8))\n",
    "plt.plot(tt_temp.Date_YMD, tt_temp['mean'] / 5, '+', color='b', alpha=1, label='train')\n",
    "plt.legend(prop={'size': 16})"
   ]
  },
  {
   "cell_type": "code",
   "execution_count": 151,
   "metadata": {
    "ExecuteTime": {
     "end_time": "2019-03-10T03:02:41.758324Z",
     "start_time": "2019-03-10T03:02:41.279648Z"
    }
   },
   "outputs": [],
   "source": [
    "tt1 = yh[~ ((yh.Date >= '2018-07-25') & (yh.Date <= '2018-09-24'))]"
   ]
  },
  {
   "cell_type": "code",
   "execution_count": 152,
   "metadata": {
    "ExecuteTime": {
     "end_time": "2019-03-10T03:02:43.291406Z",
     "start_time": "2019-03-10T03:02:43.147594Z"
    }
   },
   "outputs": [],
   "source": [
    "tt2 = yh[(yh.Date >= '2018-07-25') & (yh.Date <= '2018-09-24')]"
   ]
  },
  {
   "cell_type": "code",
   "execution_count": 153,
   "metadata": {
    "ExecuteTime": {
     "end_time": "2019-03-10T03:02:48.816725Z",
     "start_time": "2019-03-10T03:02:48.743728Z"
    }
   },
   "outputs": [],
   "source": [
    "tt2.HasDetections = lgb_test_result/5"
   ]
  },
  {
   "cell_type": "code",
   "execution_count": 155,
   "metadata": {
    "ExecuteTime": {
     "end_time": "2019-03-10T03:03:28.714602Z",
     "start_time": "2019-03-10T03:03:22.206018Z"
    }
   },
   "outputs": [],
   "source": [
    "tt3 = tt1.append(tt2).sort_values('MachineIdentifier')"
   ]
  },
  {
   "cell_type": "code",
   "execution_count": 161,
   "metadata": {
    "ExecuteTime": {
     "end_time": "2019-03-10T03:04:39.671769Z",
     "start_time": "2019-03-10T03:04:13.122582Z"
    }
   },
   "outputs": [],
   "source": [
    "tt3[['MachineIdentifier', 'HasDetections']].to_csv('./time_test.csv', index=False)"
   ]
  },
  {
   "cell_type": "code",
   "execution_count": 156,
   "metadata": {
    "ExecuteTime": {
     "end_time": "2019-03-10T03:03:35.582469Z",
     "start_time": "2019-03-10T03:03:35.538589Z"
    }
   },
   "outputs": [],
   "source": [
    "yh['NewHasDetections'] = tt3.HasDetections"
   ]
  },
  {
   "cell_type": "code",
   "execution_count": 158,
   "metadata": {
    "ExecuteTime": {
     "end_time": "2019-03-10T03:03:40.847160Z",
     "start_time": "2019-03-10T03:03:40.555914Z"
    }
   },
   "outputs": [
    {
     "data": {
      "text/html": [
       "<div>\n",
       "<style scoped>\n",
       "    .dataframe tbody tr th:only-of-type {\n",
       "        vertical-align: middle;\n",
       "    }\n",
       "\n",
       "    .dataframe tbody tr th {\n",
       "        vertical-align: top;\n",
       "    }\n",
       "\n",
       "    .dataframe thead th {\n",
       "        text-align: right;\n",
       "    }\n",
       "</style>\n",
       "<table border=\"1\" class=\"dataframe\">\n",
       "  <thead>\n",
       "    <tr style=\"text-align: right;\">\n",
       "      <th></th>\n",
       "      <th>HasDetections</th>\n",
       "      <th>NewHasDetections</th>\n",
       "    </tr>\n",
       "  </thead>\n",
       "  <tbody>\n",
       "    <tr>\n",
       "      <th>HasDetections</th>\n",
       "      <td>1.000000</td>\n",
       "      <td>0.997104</td>\n",
       "    </tr>\n",
       "    <tr>\n",
       "      <th>NewHasDetections</th>\n",
       "      <td>0.997104</td>\n",
       "      <td>1.000000</td>\n",
       "    </tr>\n",
       "  </tbody>\n",
       "</table>\n",
       "</div>"
      ],
      "text/plain": [
       "                  HasDetections  NewHasDetections\n",
       "HasDetections          1.000000          0.997104\n",
       "NewHasDetections       0.997104          1.000000"
      ]
     },
     "execution_count": 158,
     "metadata": {},
     "output_type": "execute_result"
    }
   ],
   "source": [
    "yh[['HasDetections', 'NewHasDetections']].corr()"
   ]
  },
  {
   "cell_type": "code",
   "execution_count": 149,
   "metadata": {
    "ExecuteTime": {
     "end_time": "2019-03-10T03:01:55.784384Z",
     "start_time": "2019-03-10T03:01:55.744500Z"
    }
   },
   "outputs": [
    {
     "data": {
      "text/html": [
       "<div>\n",
       "<style scoped>\n",
       "    .dataframe tbody tr th:only-of-type {\n",
       "        vertical-align: middle;\n",
       "    }\n",
       "\n",
       "    .dataframe tbody tr th {\n",
       "        vertical-align: top;\n",
       "    }\n",
       "\n",
       "    .dataframe thead th {\n",
       "        text-align: right;\n",
       "    }\n",
       "</style>\n",
       "<table border=\"1\" class=\"dataframe\">\n",
       "  <thead>\n",
       "    <tr style=\"text-align: right;\">\n",
       "      <th></th>\n",
       "      <th>MachineIdentifier</th>\n",
       "      <th>HasDetections</th>\n",
       "      <th>Date</th>\n",
       "      <th>NewHasDetections</th>\n",
       "    </tr>\n",
       "  </thead>\n",
       "  <tbody>\n",
       "    <tr>\n",
       "      <th>0</th>\n",
       "      <td>0000010489e3af074adeac69c53e555e</td>\n",
       "      <td>0.506743</td>\n",
       "      <td>2018-11-20</td>\n",
       "      <td>0.506743</td>\n",
       "    </tr>\n",
       "    <tr>\n",
       "      <th>1</th>\n",
       "      <td>00000176ac758d54827acd545b6315a5</td>\n",
       "      <td>0.533433</td>\n",
       "      <td>2018-10-22</td>\n",
       "      <td>0.533433</td>\n",
       "    </tr>\n",
       "    <tr>\n",
       "      <th>2</th>\n",
       "      <td>0000019dcefc128c2d4387c1273dae1d</td>\n",
       "      <td>0.611486</td>\n",
       "      <td>2018-09-28</td>\n",
       "      <td>0.611486</td>\n",
       "    </tr>\n",
       "    <tr>\n",
       "      <th>3</th>\n",
       "      <td>0000055553dc51b1295785415f1a224d</td>\n",
       "      <td>0.342288</td>\n",
       "      <td>2018-11-23</td>\n",
       "      <td>0.342288</td>\n",
       "    </tr>\n",
       "    <tr>\n",
       "      <th>4</th>\n",
       "      <td>00000574cefffeca83ec8adf9285b2bf</td>\n",
       "      <td>0.480390</td>\n",
       "      <td>2018-10-21</td>\n",
       "      <td>0.480390</td>\n",
       "    </tr>\n",
       "    <tr>\n",
       "      <th>5</th>\n",
       "      <td>000007ffedd31948f08e6c16da31f6d1</td>\n",
       "      <td>0.506531</td>\n",
       "      <td>2018-10-07</td>\n",
       "      <td>0.506531</td>\n",
       "    </tr>\n",
       "    <tr>\n",
       "      <th>6</th>\n",
       "      <td>000008f31610018d898e5f315cdf1bd1</td>\n",
       "      <td>0.247400</td>\n",
       "      <td>2018-11-07</td>\n",
       "      <td>0.247400</td>\n",
       "    </tr>\n",
       "    <tr>\n",
       "      <th>7</th>\n",
       "      <td>00000a3c447250626dbcc628c9cbc460</td>\n",
       "      <td>0.207781</td>\n",
       "      <td>2018-10-16</td>\n",
       "      <td>0.207781</td>\n",
       "    </tr>\n",
       "    <tr>\n",
       "      <th>8</th>\n",
       "      <td>00000b6bf217ec9aef0f68d5c6705897</td>\n",
       "      <td>0.185144</td>\n",
       "      <td>2018-11-23</td>\n",
       "      <td>0.185144</td>\n",
       "    </tr>\n",
       "    <tr>\n",
       "      <th>9</th>\n",
       "      <td>00000b8d3776b13e93ad83676a28e4aa</td>\n",
       "      <td>0.317342</td>\n",
       "      <td>2018-04-15</td>\n",
       "      <td>0.317342</td>\n",
       "    </tr>\n",
       "    <tr>\n",
       "      <th>10</th>\n",
       "      <td>00000dec341e29f26b92c3be03640bdc</td>\n",
       "      <td>0.399868</td>\n",
       "      <td>2018-10-21</td>\n",
       "      <td>0.399868</td>\n",
       "    </tr>\n",
       "    <tr>\n",
       "      <th>11</th>\n",
       "      <td>00000e658ce75c1e2a3bb47bcc3b08f3</td>\n",
       "      <td>0.436845</td>\n",
       "      <td>2018-11-01</td>\n",
       "      <td>0.436845</td>\n",
       "    </tr>\n",
       "    <tr>\n",
       "      <th>12</th>\n",
       "      <td>0000102ff65968bbdc04b69073434b05</td>\n",
       "      <td>0.445100</td>\n",
       "      <td>2018-11-23</td>\n",
       "      <td>0.445100</td>\n",
       "    </tr>\n",
       "    <tr>\n",
       "      <th>13</th>\n",
       "      <td>000011236a5dc4ff119541c42bb4287e</td>\n",
       "      <td>0.688669</td>\n",
       "      <td>2018-11-14</td>\n",
       "      <td>0.688669</td>\n",
       "    </tr>\n",
       "    <tr>\n",
       "      <th>14</th>\n",
       "      <td>0000124d8811c1a5b5848c4d730cfbf8</td>\n",
       "      <td>0.270151</td>\n",
       "      <td>2018-11-23</td>\n",
       "      <td>0.270151</td>\n",
       "    </tr>\n",
       "    <tr>\n",
       "      <th>15</th>\n",
       "      <td>000015a88b949c982bc80ec8e32b726d</td>\n",
       "      <td>0.435536</td>\n",
       "      <td>2018-11-24</td>\n",
       "      <td>0.435536</td>\n",
       "    </tr>\n",
       "    <tr>\n",
       "      <th>16</th>\n",
       "      <td>0000187a73c37cab54bd5be81c16c71f</td>\n",
       "      <td>0.239939</td>\n",
       "      <td>2018-11-20</td>\n",
       "      <td>0.239939</td>\n",
       "    </tr>\n",
       "    <tr>\n",
       "      <th>17</th>\n",
       "      <td>00001be80a499e95d5e68151b6470aa2</td>\n",
       "      <td>0.370409</td>\n",
       "      <td>2018-10-22</td>\n",
       "      <td>0.370409</td>\n",
       "    </tr>\n",
       "    <tr>\n",
       "      <th>18</th>\n",
       "      <td>00001dcfc3f82d68d6eae9cad4a3e07c</td>\n",
       "      <td>0.517164</td>\n",
       "      <td>2018-10-28</td>\n",
       "      <td>0.517164</td>\n",
       "    </tr>\n",
       "    <tr>\n",
       "      <th>19</th>\n",
       "      <td>00001ec5ccb1deb10e7f9facb5738bbb</td>\n",
       "      <td>0.358548</td>\n",
       "      <td>2018-10-29</td>\n",
       "      <td>0.358548</td>\n",
       "    </tr>\n",
       "    <tr>\n",
       "      <th>20</th>\n",
       "      <td>00001fb4bab6f49153f8b8a8cad33557</td>\n",
       "      <td>0.285654</td>\n",
       "      <td>2018-01-13</td>\n",
       "      <td>0.285654</td>\n",
       "    </tr>\n",
       "    <tr>\n",
       "      <th>21</th>\n",
       "      <td>00001fb68068b9612b7bcc8e5dd07da7</td>\n",
       "      <td>0.902387</td>\n",
       "      <td>2018-10-10</td>\n",
       "      <td>0.902387</td>\n",
       "    </tr>\n",
       "    <tr>\n",
       "      <th>22</th>\n",
       "      <td>0000208f0145e1b831c508fd33f4e66a</td>\n",
       "      <td>0.597198</td>\n",
       "      <td>2018-10-07</td>\n",
       "      <td>0.597198</td>\n",
       "    </tr>\n",
       "    <tr>\n",
       "      <th>23</th>\n",
       "      <td>000022cd46c5714e86254b4133116bb7</td>\n",
       "      <td>0.609936</td>\n",
       "      <td>2018-10-10</td>\n",
       "      <td>0.609936</td>\n",
       "    </tr>\n",
       "    <tr>\n",
       "      <th>24</th>\n",
       "      <td>00002336a5efa7665854da5c4b0f0269</td>\n",
       "      <td>0.515759</td>\n",
       "      <td>2018-09-17</td>\n",
       "      <td>0.452920</td>\n",
       "    </tr>\n",
       "    <tr>\n",
       "      <th>25</th>\n",
       "      <td>000023628ce7bd01fe765c9f1a003a56</td>\n",
       "      <td>0.647786</td>\n",
       "      <td>2018-10-23</td>\n",
       "      <td>0.647786</td>\n",
       "    </tr>\n",
       "    <tr>\n",
       "      <th>26</th>\n",
       "      <td>000024492167b242089b450565a650e7</td>\n",
       "      <td>0.617260</td>\n",
       "      <td>2018-10-13</td>\n",
       "      <td>0.617260</td>\n",
       "    </tr>\n",
       "    <tr>\n",
       "      <th>27</th>\n",
       "      <td>00002594fa72db6c02c1deac489ea004</td>\n",
       "      <td>0.384886</td>\n",
       "      <td>2018-08-05</td>\n",
       "      <td>0.353895</td>\n",
       "    </tr>\n",
       "    <tr>\n",
       "      <th>28</th>\n",
       "      <td>00002a6c8d5b34b6abfc7b73bff9c9c0</td>\n",
       "      <td>0.290688</td>\n",
       "      <td>2018-10-23</td>\n",
       "      <td>0.290688</td>\n",
       "    </tr>\n",
       "    <tr>\n",
       "      <th>29</th>\n",
       "      <td>00002b6bcc3c7956f9fc002fedb89599</td>\n",
       "      <td>0.375187</td>\n",
       "      <td>2018-11-23</td>\n",
       "      <td>0.375187</td>\n",
       "    </tr>\n",
       "    <tr>\n",
       "      <th>30</th>\n",
       "      <td>00002beccd9a641ba92c988f636533d6</td>\n",
       "      <td>0.183124</td>\n",
       "      <td>2018-09-28</td>\n",
       "      <td>0.183124</td>\n",
       "    </tr>\n",
       "    <tr>\n",
       "      <th>31</th>\n",
       "      <td>0000308669f9083fa7383b4f627c61a2</td>\n",
       "      <td>0.607439</td>\n",
       "      <td>2018-10-10</td>\n",
       "      <td>0.607439</td>\n",
       "    </tr>\n",
       "    <tr>\n",
       "      <th>32</th>\n",
       "      <td>0000329ca426eaf815bfb6e50b168ca7</td>\n",
       "      <td>0.344452</td>\n",
       "      <td>2018-10-11</td>\n",
       "      <td>0.344452</td>\n",
       "    </tr>\n",
       "    <tr>\n",
       "      <th>33</th>\n",
       "      <td>000037823afada3fe53173808cab6374</td>\n",
       "      <td>0.207696</td>\n",
       "      <td>2018-10-12</td>\n",
       "      <td>0.207696</td>\n",
       "    </tr>\n",
       "    <tr>\n",
       "      <th>34</th>\n",
       "      <td>000037d9ea7b7cfbf476b433586e5113</td>\n",
       "      <td>0.466412</td>\n",
       "      <td>2018-09-19</td>\n",
       "      <td>0.432016</td>\n",
       "    </tr>\n",
       "    <tr>\n",
       "      <th>35</th>\n",
       "      <td>00003b98e4dbced155a5fb3eab04ce28</td>\n",
       "      <td>0.672330</td>\n",
       "      <td>2018-10-09</td>\n",
       "      <td>0.672330</td>\n",
       "    </tr>\n",
       "    <tr>\n",
       "      <th>36</th>\n",
       "      <td>00003c48f2b0f68c78e82f3d18b517c7</td>\n",
       "      <td>0.549940</td>\n",
       "      <td>2018-10-09</td>\n",
       "      <td>0.549940</td>\n",
       "    </tr>\n",
       "    <tr>\n",
       "      <th>37</th>\n",
       "      <td>00003c8a62e007ac98a85ef5adaa1865</td>\n",
       "      <td>0.359282</td>\n",
       "      <td>2018-10-05</td>\n",
       "      <td>0.359282</td>\n",
       "    </tr>\n",
       "    <tr>\n",
       "      <th>38</th>\n",
       "      <td>00003f163bd22a7172e8655fa3bb638f</td>\n",
       "      <td>0.666044</td>\n",
       "      <td>2018-10-11</td>\n",
       "      <td>0.666044</td>\n",
       "    </tr>\n",
       "    <tr>\n",
       "      <th>39</th>\n",
       "      <td>00004042973d5f920c690fbf2b175d7b</td>\n",
       "      <td>0.052430</td>\n",
       "      <td>2018-10-08</td>\n",
       "      <td>0.052430</td>\n",
       "    </tr>\n",
       "    <tr>\n",
       "      <th>40</th>\n",
       "      <td>000040636c1d3217eaa78c3dc0e6ca9f</td>\n",
       "      <td>0.198819</td>\n",
       "      <td>2018-11-16</td>\n",
       "      <td>0.198819</td>\n",
       "    </tr>\n",
       "    <tr>\n",
       "      <th>41</th>\n",
       "      <td>000040d0bb6095bc5b16451768177a71</td>\n",
       "      <td>0.423507</td>\n",
       "      <td>2018-10-14</td>\n",
       "      <td>0.423507</td>\n",
       "    </tr>\n",
       "    <tr>\n",
       "      <th>42</th>\n",
       "      <td>00004316d7d468be75b2c330d40b3ee3</td>\n",
       "      <td>0.138373</td>\n",
       "      <td>2018-11-01</td>\n",
       "      <td>0.138373</td>\n",
       "    </tr>\n",
       "    <tr>\n",
       "      <th>43</th>\n",
       "      <td>000046fde0c3bb60bb94d877f1aed51f</td>\n",
       "      <td>0.399137</td>\n",
       "      <td>2018-11-08</td>\n",
       "      <td>0.399137</td>\n",
       "    </tr>\n",
       "    <tr>\n",
       "      <th>44</th>\n",
       "      <td>000047fcfba5075a43a39cc488d4a9f1</td>\n",
       "      <td>0.274868</td>\n",
       "      <td>2018-11-06</td>\n",
       "      <td>0.274868</td>\n",
       "    </tr>\n",
       "    <tr>\n",
       "      <th>45</th>\n",
       "      <td>0000484c1fd0f566986d558367799d70</td>\n",
       "      <td>0.211586</td>\n",
       "      <td>2018-10-11</td>\n",
       "      <td>0.211586</td>\n",
       "    </tr>\n",
       "    <tr>\n",
       "      <th>46</th>\n",
       "      <td>000049d209898e19506ae8f2431ec64e</td>\n",
       "      <td>0.351237</td>\n",
       "      <td>2018-10-18</td>\n",
       "      <td>0.351237</td>\n",
       "    </tr>\n",
       "    <tr>\n",
       "      <th>47</th>\n",
       "      <td>00004a929a8abbe15a6ea584f11a2d7e</td>\n",
       "      <td>0.109434</td>\n",
       "      <td>2018-10-11</td>\n",
       "      <td>0.109434</td>\n",
       "    </tr>\n",
       "    <tr>\n",
       "      <th>48</th>\n",
       "      <td>0000525b7a8f2fc01d84166b45f26b6b</td>\n",
       "      <td>0.718437</td>\n",
       "      <td>2018-10-23</td>\n",
       "      <td>0.718437</td>\n",
       "    </tr>\n",
       "    <tr>\n",
       "      <th>49</th>\n",
       "      <td>00005272f40ed7235379787664f3c801</td>\n",
       "      <td>0.105073</td>\n",
       "      <td>2018-10-22</td>\n",
       "      <td>0.105073</td>\n",
       "    </tr>\n",
       "    <tr>\n",
       "      <th>50</th>\n",
       "      <td>000055688c4b1d7875a8bc99d0c234f0</td>\n",
       "      <td>0.590177</td>\n",
       "      <td>2018-10-20</td>\n",
       "      <td>0.590177</td>\n",
       "    </tr>\n",
       "    <tr>\n",
       "      <th>51</th>\n",
       "      <td>000055ea914f7ef72f9ad26b5cdf4195</td>\n",
       "      <td>0.442033</td>\n",
       "      <td>2018-10-11</td>\n",
       "      <td>0.442033</td>\n",
       "    </tr>\n",
       "    <tr>\n",
       "      <th>52</th>\n",
       "      <td>0000561fb64f4d946f204ba29913d16b</td>\n",
       "      <td>0.520730</td>\n",
       "      <td>2018-10-14</td>\n",
       "      <td>0.520730</td>\n",
       "    </tr>\n",
       "    <tr>\n",
       "      <th>53</th>\n",
       "      <td>00005e3b5150302adeccf70bdcf0aa52</td>\n",
       "      <td>0.606150</td>\n",
       "      <td>2018-08-09</td>\n",
       "      <td>0.528399</td>\n",
       "    </tr>\n",
       "    <tr>\n",
       "      <th>54</th>\n",
       "      <td>00005f4864d68898cb9c63c22eafd5ee</td>\n",
       "      <td>0.290741</td>\n",
       "      <td>2018-11-05</td>\n",
       "      <td>0.290741</td>\n",
       "    </tr>\n",
       "    <tr>\n",
       "      <th>55</th>\n",
       "      <td>00006154b861493f10f174f72c25fdc1</td>\n",
       "      <td>0.599717</td>\n",
       "      <td>2018-09-27</td>\n",
       "      <td>0.599717</td>\n",
       "    </tr>\n",
       "    <tr>\n",
       "      <th>56</th>\n",
       "      <td>000065ad36d3a5b0943b3748ffa93fc1</td>\n",
       "      <td>0.052723</td>\n",
       "      <td>2018-11-23</td>\n",
       "      <td>0.052723</td>\n",
       "    </tr>\n",
       "    <tr>\n",
       "      <th>57</th>\n",
       "      <td>0000684ebeb593a8d574293b505922cc</td>\n",
       "      <td>0.513278</td>\n",
       "      <td>2018-10-13</td>\n",
       "      <td>0.513278</td>\n",
       "    </tr>\n",
       "    <tr>\n",
       "      <th>58</th>\n",
       "      <td>000068c452244499fb02b0cd0c9eb94f</td>\n",
       "      <td>0.438852</td>\n",
       "      <td>2018-10-30</td>\n",
       "      <td>0.438852</td>\n",
       "    </tr>\n",
       "    <tr>\n",
       "      <th>59</th>\n",
       "      <td>00006a744f9d2238c14147b654db8899</td>\n",
       "      <td>0.522139</td>\n",
       "      <td>2018-10-11</td>\n",
       "      <td>0.522139</td>\n",
       "    </tr>\n",
       "    <tr>\n",
       "      <th>60</th>\n",
       "      <td>00006e432bbb79128187560ba7c57ceb</td>\n",
       "      <td>0.604106</td>\n",
       "      <td>2018-11-16</td>\n",
       "      <td>0.604106</td>\n",
       "    </tr>\n",
       "    <tr>\n",
       "      <th>61</th>\n",
       "      <td>0000786ab891c531ef0d5d5098f28930</td>\n",
       "      <td>0.270207</td>\n",
       "      <td>2018-10-18</td>\n",
       "      <td>0.270207</td>\n",
       "    </tr>\n",
       "    <tr>\n",
       "      <th>62</th>\n",
       "      <td>000078e67a3f2a100429120430a18075</td>\n",
       "      <td>0.536908</td>\n",
       "      <td>2018-10-14</td>\n",
       "      <td>0.536908</td>\n",
       "    </tr>\n",
       "    <tr>\n",
       "      <th>63</th>\n",
       "      <td>00007cfba1c285bb92b4fbc10ee867e5</td>\n",
       "      <td>0.243668</td>\n",
       "      <td>2018-11-17</td>\n",
       "      <td>0.243668</td>\n",
       "    </tr>\n",
       "    <tr>\n",
       "      <th>64</th>\n",
       "      <td>00007d977cd6b0f21a7b497cff52b32b</td>\n",
       "      <td>0.413833</td>\n",
       "      <td>2018-09-15</td>\n",
       "      <td>0.366700</td>\n",
       "    </tr>\n",
       "    <tr>\n",
       "      <th>65</th>\n",
       "      <td>00007e387347b6a2c20e252bd8de3f86</td>\n",
       "      <td>0.660067</td>\n",
       "      <td>2018-10-11</td>\n",
       "      <td>0.660067</td>\n",
       "    </tr>\n",
       "    <tr>\n",
       "      <th>66</th>\n",
       "      <td>00007e926854c2c338f69d7ceb80cff3</td>\n",
       "      <td>0.348141</td>\n",
       "      <td>2018-08-07</td>\n",
       "      <td>0.303468</td>\n",
       "    </tr>\n",
       "    <tr>\n",
       "      <th>67</th>\n",
       "      <td>0000805072cfea837bafe44ffc3f01df</td>\n",
       "      <td>0.152884</td>\n",
       "      <td>2018-10-21</td>\n",
       "      <td>0.152884</td>\n",
       "    </tr>\n",
       "    <tr>\n",
       "      <th>68</th>\n",
       "      <td>0000837de4d8c1772b63a86a712409ed</td>\n",
       "      <td>0.576154</td>\n",
       "      <td>2018-11-22</td>\n",
       "      <td>0.576154</td>\n",
       "    </tr>\n",
       "    <tr>\n",
       "      <th>69</th>\n",
       "      <td>0000842ddc228be24fdd679c9a4194ab</td>\n",
       "      <td>0.499239</td>\n",
       "      <td>2018-11-07</td>\n",
       "      <td>0.499239</td>\n",
       "    </tr>\n",
       "    <tr>\n",
       "      <th>70</th>\n",
       "      <td>00008529373ccc5c6f2fd311cb03f3d4</td>\n",
       "      <td>0.728090</td>\n",
       "      <td>2018-10-15</td>\n",
       "      <td>0.728090</td>\n",
       "    </tr>\n",
       "    <tr>\n",
       "      <th>71</th>\n",
       "      <td>00008887d503218e314102a1ca9d792f</td>\n",
       "      <td>0.260765</td>\n",
       "      <td>2018-10-13</td>\n",
       "      <td>0.260765</td>\n",
       "    </tr>\n",
       "    <tr>\n",
       "      <th>72</th>\n",
       "      <td>00008c0e1103aa31ca48e0fa22464ae7</td>\n",
       "      <td>0.482983</td>\n",
       "      <td>2018-06-04</td>\n",
       "      <td>0.482983</td>\n",
       "    </tr>\n",
       "    <tr>\n",
       "      <th>73</th>\n",
       "      <td>00008d6f5d868b09d41db74d9badcda4</td>\n",
       "      <td>0.394059</td>\n",
       "      <td>2018-11-22</td>\n",
       "      <td>0.394059</td>\n",
       "    </tr>\n",
       "    <tr>\n",
       "      <th>74</th>\n",
       "      <td>00008f42abacfd7748a31fa33a3eb322</td>\n",
       "      <td>0.494454</td>\n",
       "      <td>2018-10-17</td>\n",
       "      <td>0.494454</td>\n",
       "    </tr>\n",
       "    <tr>\n",
       "      <th>...</th>\n",
       "      <td>...</td>\n",
       "      <td>...</td>\n",
       "      <td>...</td>\n",
       "      <td>...</td>\n",
       "    </tr>\n",
       "    <tr>\n",
       "      <th>7853178</th>\n",
       "      <td>ffff5bbb4bdb4ae465b6347d7767f1a9</td>\n",
       "      <td>0.509065</td>\n",
       "      <td>2018-10-05</td>\n",
       "      <td>0.509065</td>\n",
       "    </tr>\n",
       "    <tr>\n",
       "      <th>7853179</th>\n",
       "      <td>ffff5eb04e8bd4fddae8109dbf5c9df9</td>\n",
       "      <td>0.335669</td>\n",
       "      <td>2018-11-22</td>\n",
       "      <td>0.335669</td>\n",
       "    </tr>\n",
       "    <tr>\n",
       "      <th>7853180</th>\n",
       "      <td>ffff5f5dcdd990e0b54f6bcce7ed3cb3</td>\n",
       "      <td>0.416456</td>\n",
       "      <td>2018-10-02</td>\n",
       "      <td>0.416456</td>\n",
       "    </tr>\n",
       "    <tr>\n",
       "      <th>7853181</th>\n",
       "      <td>ffff6110cc944ddee257ec3eebb67a49</td>\n",
       "      <td>0.413364</td>\n",
       "      <td>2018-10-05</td>\n",
       "      <td>0.413364</td>\n",
       "    </tr>\n",
       "    <tr>\n",
       "      <th>7853182</th>\n",
       "      <td>ffff65a85c21a478b1fbfac000a23924</td>\n",
       "      <td>0.449994</td>\n",
       "      <td>2018-09-20</td>\n",
       "      <td>0.393267</td>\n",
       "    </tr>\n",
       "    <tr>\n",
       "      <th>7853183</th>\n",
       "      <td>ffff65bb6057b5f7f7555211b453b645</td>\n",
       "      <td>0.829053</td>\n",
       "      <td>2018-10-19</td>\n",
       "      <td>0.829053</td>\n",
       "    </tr>\n",
       "    <tr>\n",
       "      <th>7853184</th>\n",
       "      <td>ffff660f43af7e2718637f6c77597d6a</td>\n",
       "      <td>0.328496</td>\n",
       "      <td>2018-10-22</td>\n",
       "      <td>0.328496</td>\n",
       "    </tr>\n",
       "    <tr>\n",
       "      <th>7853185</th>\n",
       "      <td>ffff673ed1c806dc89fb8caf8b6dc89b</td>\n",
       "      <td>0.314695</td>\n",
       "      <td>2018-11-23</td>\n",
       "      <td>0.314695</td>\n",
       "    </tr>\n",
       "    <tr>\n",
       "      <th>7853186</th>\n",
       "      <td>ffff6832e05327074d3250c6176a615d</td>\n",
       "      <td>0.366989</td>\n",
       "      <td>2018-10-08</td>\n",
       "      <td>0.366989</td>\n",
       "    </tr>\n",
       "    <tr>\n",
       "      <th>7853187</th>\n",
       "      <td>ffff6b1df04c9f9996ee5a63f77486a2</td>\n",
       "      <td>0.549205</td>\n",
       "      <td>2018-10-24</td>\n",
       "      <td>0.549205</td>\n",
       "    </tr>\n",
       "    <tr>\n",
       "      <th>7853188</th>\n",
       "      <td>ffff6bb1c80157cd93aea48f6e52ccaf</td>\n",
       "      <td>0.386165</td>\n",
       "      <td>2018-10-15</td>\n",
       "      <td>0.386165</td>\n",
       "    </tr>\n",
       "    <tr>\n",
       "      <th>7853189</th>\n",
       "      <td>ffff723a30196b2a9a9e7fa2dae28f02</td>\n",
       "      <td>0.311453</td>\n",
       "      <td>2018-10-07</td>\n",
       "      <td>0.311453</td>\n",
       "    </tr>\n",
       "    <tr>\n",
       "      <th>7853190</th>\n",
       "      <td>ffff72d6a8b804f90e2ea199eecfe113</td>\n",
       "      <td>0.479741</td>\n",
       "      <td>2018-10-27</td>\n",
       "      <td>0.479741</td>\n",
       "    </tr>\n",
       "    <tr>\n",
       "      <th>7853191</th>\n",
       "      <td>ffff741905866b9d0d01edf7d9f7353a</td>\n",
       "      <td>0.432351</td>\n",
       "      <td>2018-10-27</td>\n",
       "      <td>0.432351</td>\n",
       "    </tr>\n",
       "    <tr>\n",
       "      <th>7853192</th>\n",
       "      <td>ffff78ec305b07afa25e94d1695fbce6</td>\n",
       "      <td>0.559410</td>\n",
       "      <td>2018-11-05</td>\n",
       "      <td>0.559410</td>\n",
       "    </tr>\n",
       "    <tr>\n",
       "      <th>7853193</th>\n",
       "      <td>ffff792a2bdc329c57a52f302ae9911d</td>\n",
       "      <td>0.338534</td>\n",
       "      <td>2018-10-06</td>\n",
       "      <td>0.338534</td>\n",
       "    </tr>\n",
       "    <tr>\n",
       "      <th>7853194</th>\n",
       "      <td>ffff79e4c8f1bbdc454d04c1fdebcff5</td>\n",
       "      <td>0.368062</td>\n",
       "      <td>2018-11-08</td>\n",
       "      <td>0.368062</td>\n",
       "    </tr>\n",
       "    <tr>\n",
       "      <th>7853195</th>\n",
       "      <td>ffff7b7577b37552c6adbf4b0dcbdf21</td>\n",
       "      <td>0.497058</td>\n",
       "      <td>2018-11-14</td>\n",
       "      <td>0.497058</td>\n",
       "    </tr>\n",
       "    <tr>\n",
       "      <th>7853196</th>\n",
       "      <td>ffff7d73773851d8e71ef9437d2dcdb3</td>\n",
       "      <td>0.414218</td>\n",
       "      <td>2018-10-07</td>\n",
       "      <td>0.414218</td>\n",
       "    </tr>\n",
       "    <tr>\n",
       "      <th>7853197</th>\n",
       "      <td>ffff7defa848b9acdb0ad31b20b3f547</td>\n",
       "      <td>0.704378</td>\n",
       "      <td>2018-10-07</td>\n",
       "      <td>0.704378</td>\n",
       "    </tr>\n",
       "    <tr>\n",
       "      <th>7853198</th>\n",
       "      <td>ffff7f7d957d1dcae53db529fa30eca3</td>\n",
       "      <td>0.574208</td>\n",
       "      <td>2018-10-01</td>\n",
       "      <td>0.574208</td>\n",
       "    </tr>\n",
       "    <tr>\n",
       "      <th>7853199</th>\n",
       "      <td>ffff7ff6926edd56029374e54d6cb295</td>\n",
       "      <td>0.190821</td>\n",
       "      <td>2018-10-02</td>\n",
       "      <td>0.190821</td>\n",
       "    </tr>\n",
       "    <tr>\n",
       "      <th>7853200</th>\n",
       "      <td>ffff82d4d3978cb778a74f1f6012e223</td>\n",
       "      <td>0.444959</td>\n",
       "      <td>2018-10-22</td>\n",
       "      <td>0.444959</td>\n",
       "    </tr>\n",
       "    <tr>\n",
       "      <th>7853201</th>\n",
       "      <td>ffff8302491747c9f2b4b480222ee2a5</td>\n",
       "      <td>0.689827</td>\n",
       "      <td>2018-09-30</td>\n",
       "      <td>0.689827</td>\n",
       "    </tr>\n",
       "    <tr>\n",
       "      <th>7853202</th>\n",
       "      <td>ffff852af6350f9d0c272e0edd1a8da3</td>\n",
       "      <td>0.628256</td>\n",
       "      <td>2018-10-23</td>\n",
       "      <td>0.628256</td>\n",
       "    </tr>\n",
       "    <tr>\n",
       "      <th>7853203</th>\n",
       "      <td>ffff88bc9f1c2208fde621a2bb4aff2a</td>\n",
       "      <td>0.358256</td>\n",
       "      <td>2018-05-29</td>\n",
       "      <td>0.358256</td>\n",
       "    </tr>\n",
       "    <tr>\n",
       "      <th>7853204</th>\n",
       "      <td>ffff8f9f0b4705aed62dd3ed36490c44</td>\n",
       "      <td>0.242959</td>\n",
       "      <td>2018-11-20</td>\n",
       "      <td>0.242959</td>\n",
       "    </tr>\n",
       "    <tr>\n",
       "      <th>7853205</th>\n",
       "      <td>ffff8fbff49f813b9d5ca6739805ffff</td>\n",
       "      <td>0.411909</td>\n",
       "      <td>2018-10-16</td>\n",
       "      <td>0.411909</td>\n",
       "    </tr>\n",
       "    <tr>\n",
       "      <th>7853206</th>\n",
       "      <td>ffff98ffbe2b368dc1ad3a47e34014f0</td>\n",
       "      <td>0.619743</td>\n",
       "      <td>2018-11-24</td>\n",
       "      <td>0.619743</td>\n",
       "    </tr>\n",
       "    <tr>\n",
       "      <th>7853207</th>\n",
       "      <td>ffff9a852e95ff9443cde29b12f04078</td>\n",
       "      <td>0.413467</td>\n",
       "      <td>2018-11-01</td>\n",
       "      <td>0.413467</td>\n",
       "    </tr>\n",
       "    <tr>\n",
       "      <th>7853208</th>\n",
       "      <td>ffff9afbfdeef06a8ccc4e558c89b34b</td>\n",
       "      <td>0.818120</td>\n",
       "      <td>2018-11-07</td>\n",
       "      <td>0.818120</td>\n",
       "    </tr>\n",
       "    <tr>\n",
       "      <th>7853209</th>\n",
       "      <td>ffff9bb8d05e05100d117547e101c8fd</td>\n",
       "      <td>0.641394</td>\n",
       "      <td>2018-11-19</td>\n",
       "      <td>0.641394</td>\n",
       "    </tr>\n",
       "    <tr>\n",
       "      <th>7853210</th>\n",
       "      <td>ffff9f8390fcc6936fcb90783cadc4df</td>\n",
       "      <td>0.210971</td>\n",
       "      <td>2018-10-07</td>\n",
       "      <td>0.210971</td>\n",
       "    </tr>\n",
       "    <tr>\n",
       "      <th>7853211</th>\n",
       "      <td>ffffa04d55edfde48c5be22ebfe147b1</td>\n",
       "      <td>0.435894</td>\n",
       "      <td>2018-03-01</td>\n",
       "      <td>0.435894</td>\n",
       "    </tr>\n",
       "    <tr>\n",
       "      <th>7853212</th>\n",
       "      <td>ffffa79f1c00825707749b70cf459392</td>\n",
       "      <td>0.300956</td>\n",
       "      <td>2018-11-20</td>\n",
       "      <td>0.300956</td>\n",
       "    </tr>\n",
       "    <tr>\n",
       "      <th>7853213</th>\n",
       "      <td>ffffa7c262471b98e2d8ef72de22cc70</td>\n",
       "      <td>0.612950</td>\n",
       "      <td>2018-10-14</td>\n",
       "      <td>0.612950</td>\n",
       "    </tr>\n",
       "    <tr>\n",
       "      <th>7853214</th>\n",
       "      <td>ffffae503b667efca7079f60b0294901</td>\n",
       "      <td>0.585505</td>\n",
       "      <td>2018-10-14</td>\n",
       "      <td>0.585505</td>\n",
       "    </tr>\n",
       "    <tr>\n",
       "      <th>7853215</th>\n",
       "      <td>ffffb3cece0b9f4d6e7048959a9dbd42</td>\n",
       "      <td>0.152314</td>\n",
       "      <td>2018-11-12</td>\n",
       "      <td>0.152314</td>\n",
       "    </tr>\n",
       "    <tr>\n",
       "      <th>7853216</th>\n",
       "      <td>ffffb40d07038fc86b49469d7503f78c</td>\n",
       "      <td>0.263824</td>\n",
       "      <td>2018-10-24</td>\n",
       "      <td>0.263824</td>\n",
       "    </tr>\n",
       "    <tr>\n",
       "      <th>7853217</th>\n",
       "      <td>ffffb44591488f1c7fbf5751d4b74764</td>\n",
       "      <td>0.546323</td>\n",
       "      <td>2018-10-12</td>\n",
       "      <td>0.546323</td>\n",
       "    </tr>\n",
       "    <tr>\n",
       "      <th>7853218</th>\n",
       "      <td>ffffb47567afb310ca5ff9bf8be747ce</td>\n",
       "      <td>0.227236</td>\n",
       "      <td>2018-10-08</td>\n",
       "      <td>0.227236</td>\n",
       "    </tr>\n",
       "    <tr>\n",
       "      <th>7853219</th>\n",
       "      <td>ffffb6ca3e122d90376f24f6db052846</td>\n",
       "      <td>0.591262</td>\n",
       "      <td>2018-11-24</td>\n",
       "      <td>0.591262</td>\n",
       "    </tr>\n",
       "    <tr>\n",
       "      <th>7853220</th>\n",
       "      <td>ffffb7a73c0ed7869adb0b6746dbf555</td>\n",
       "      <td>0.230874</td>\n",
       "      <td>2018-10-11</td>\n",
       "      <td>0.230874</td>\n",
       "    </tr>\n",
       "    <tr>\n",
       "      <th>7853221</th>\n",
       "      <td>ffffba324de22b9790323f765bbfa1c7</td>\n",
       "      <td>0.719736</td>\n",
       "      <td>2018-10-06</td>\n",
       "      <td>0.719736</td>\n",
       "    </tr>\n",
       "    <tr>\n",
       "      <th>7853222</th>\n",
       "      <td>ffffbbca54d99a63d2e7dc714da28a28</td>\n",
       "      <td>0.636442</td>\n",
       "      <td>2018-10-23</td>\n",
       "      <td>0.636442</td>\n",
       "    </tr>\n",
       "    <tr>\n",
       "      <th>7853223</th>\n",
       "      <td>ffffc5dc0ea43508e6178322089937a3</td>\n",
       "      <td>0.561709</td>\n",
       "      <td>2018-10-17</td>\n",
       "      <td>0.561709</td>\n",
       "    </tr>\n",
       "    <tr>\n",
       "      <th>7853224</th>\n",
       "      <td>ffffc978b55f10c87d647872deeeb141</td>\n",
       "      <td>0.176934</td>\n",
       "      <td>2018-10-23</td>\n",
       "      <td>0.176934</td>\n",
       "    </tr>\n",
       "    <tr>\n",
       "      <th>7853225</th>\n",
       "      <td>ffffd03c7eb58eb6758e62a5c54a64aa</td>\n",
       "      <td>0.284247</td>\n",
       "      <td>2018-11-21</td>\n",
       "      <td>0.284247</td>\n",
       "    </tr>\n",
       "    <tr>\n",
       "      <th>7853226</th>\n",
       "      <td>ffffd12ca6bce4e69cdb6a0feb9e9619</td>\n",
       "      <td>0.525877</td>\n",
       "      <td>2018-11-15</td>\n",
       "      <td>0.525877</td>\n",
       "    </tr>\n",
       "    <tr>\n",
       "      <th>7853227</th>\n",
       "      <td>ffffd149b10a6416b7fbee1022f0f608</td>\n",
       "      <td>0.394294</td>\n",
       "      <td>2018-11-18</td>\n",
       "      <td>0.394294</td>\n",
       "    </tr>\n",
       "    <tr>\n",
       "      <th>7853228</th>\n",
       "      <td>ffffd1912c7b8afaeb96a0bd78b1ff04</td>\n",
       "      <td>0.598344</td>\n",
       "      <td>2018-10-16</td>\n",
       "      <td>0.598344</td>\n",
       "    </tr>\n",
       "    <tr>\n",
       "      <th>7853229</th>\n",
       "      <td>ffffd2696ad316a0cd2f870361f54b50</td>\n",
       "      <td>0.481837</td>\n",
       "      <td>2018-10-25</td>\n",
       "      <td>0.481837</td>\n",
       "    </tr>\n",
       "    <tr>\n",
       "      <th>7853230</th>\n",
       "      <td>ffffd28fac6242fa8b9f00d30d2eaebb</td>\n",
       "      <td>0.629290</td>\n",
       "      <td>2018-09-02</td>\n",
       "      <td>0.640895</td>\n",
       "    </tr>\n",
       "    <tr>\n",
       "      <th>7853231</th>\n",
       "      <td>ffffdf248f74e52dd72469a305327205</td>\n",
       "      <td>0.304019</td>\n",
       "      <td>2018-11-21</td>\n",
       "      <td>0.304019</td>\n",
       "    </tr>\n",
       "    <tr>\n",
       "      <th>7853232</th>\n",
       "      <td>ffffe31a2077b21bd79cdccc139c4030</td>\n",
       "      <td>0.306480</td>\n",
       "      <td>2018-11-22</td>\n",
       "      <td>0.306480</td>\n",
       "    </tr>\n",
       "    <tr>\n",
       "      <th>7853233</th>\n",
       "      <td>ffffe3a255eed7864e99c319f8503ea7</td>\n",
       "      <td>0.504249</td>\n",
       "      <td>2018-10-08</td>\n",
       "      <td>0.504249</td>\n",
       "    </tr>\n",
       "    <tr>\n",
       "      <th>7853234</th>\n",
       "      <td>ffffe4b4b7cc83979736620f88393bb5</td>\n",
       "      <td>0.635957</td>\n",
       "      <td>2018-10-02</td>\n",
       "      <td>0.635957</td>\n",
       "    </tr>\n",
       "    <tr>\n",
       "      <th>7853235</th>\n",
       "      <td>ffffe54831c3e7b5fac512137a452f50</td>\n",
       "      <td>0.462464</td>\n",
       "      <td>2018-10-27</td>\n",
       "      <td>0.462464</td>\n",
       "    </tr>\n",
       "    <tr>\n",
       "      <th>7853236</th>\n",
       "      <td>ffffe6e2c11cb55bcad4229b92a5fb5f</td>\n",
       "      <td>0.297609</td>\n",
       "      <td>2018-05-16</td>\n",
       "      <td>0.297609</td>\n",
       "    </tr>\n",
       "    <tr>\n",
       "      <th>7853237</th>\n",
       "      <td>ffffe8fe730d2c82ef2f60f9925f2bf8</td>\n",
       "      <td>0.447482</td>\n",
       "      <td>2018-11-21</td>\n",
       "      <td>0.447482</td>\n",
       "    </tr>\n",
       "    <tr>\n",
       "      <th>7853238</th>\n",
       "      <td>ffffe9604a0346ab910b0bb034746217</td>\n",
       "      <td>0.496125</td>\n",
       "      <td>2018-10-14</td>\n",
       "      <td>0.496125</td>\n",
       "    </tr>\n",
       "    <tr>\n",
       "      <th>7853239</th>\n",
       "      <td>fffff2583d8fe56544dd402d69a496ab</td>\n",
       "      <td>0.478862</td>\n",
       "      <td>2018-10-09</td>\n",
       "      <td>0.478862</td>\n",
       "    </tr>\n",
       "    <tr>\n",
       "      <th>7853240</th>\n",
       "      <td>fffff2bec84ef6a4795f0ed78ef48ff0</td>\n",
       "      <td>0.488819</td>\n",
       "      <td>2018-10-11</td>\n",
       "      <td>0.488819</td>\n",
       "    </tr>\n",
       "    <tr>\n",
       "      <th>7853241</th>\n",
       "      <td>fffff4c3bc0c3b2aa62d13c36411ad5a</td>\n",
       "      <td>0.544465</td>\n",
       "      <td>2018-11-19</td>\n",
       "      <td>0.544465</td>\n",
       "    </tr>\n",
       "    <tr>\n",
       "      <th>7853242</th>\n",
       "      <td>fffff53d4c052be10e63d12077bac46b</td>\n",
       "      <td>0.467218</td>\n",
       "      <td>2018-10-12</td>\n",
       "      <td>0.467218</td>\n",
       "    </tr>\n",
       "    <tr>\n",
       "      <th>7853243</th>\n",
       "      <td>fffff595da0597305f42baf084cb3b2e</td>\n",
       "      <td>0.270881</td>\n",
       "      <td>2018-06-17</td>\n",
       "      <td>0.270881</td>\n",
       "    </tr>\n",
       "    <tr>\n",
       "      <th>7853244</th>\n",
       "      <td>fffff5997168cb2045506c92604c94e0</td>\n",
       "      <td>0.362482</td>\n",
       "      <td>2018-11-08</td>\n",
       "      <td>0.362482</td>\n",
       "    </tr>\n",
       "    <tr>\n",
       "      <th>7853245</th>\n",
       "      <td>fffff6241ca0c10545ae0f9c86ffc6a9</td>\n",
       "      <td>0.675116</td>\n",
       "      <td>2018-09-28</td>\n",
       "      <td>0.675116</td>\n",
       "    </tr>\n",
       "    <tr>\n",
       "      <th>7853246</th>\n",
       "      <td>fffff6e05dd004b0c42a7fc94b044824</td>\n",
       "      <td>0.329408</td>\n",
       "      <td>2018-10-05</td>\n",
       "      <td>0.329408</td>\n",
       "    </tr>\n",
       "    <tr>\n",
       "      <th>7853247</th>\n",
       "      <td>fffff83f05efef39e0f7244742657f07</td>\n",
       "      <td>0.742834</td>\n",
       "      <td>2018-10-03</td>\n",
       "      <td>0.742834</td>\n",
       "    </tr>\n",
       "    <tr>\n",
       "      <th>7853248</th>\n",
       "      <td>fffff8c0e065c468a2373f7afd5e7674</td>\n",
       "      <td>0.482940</td>\n",
       "      <td>2018-11-16</td>\n",
       "      <td>0.482940</td>\n",
       "    </tr>\n",
       "    <tr>\n",
       "      <th>7853249</th>\n",
       "      <td>fffff90b27a1248b6fffc7a535bd736c</td>\n",
       "      <td>0.659504</td>\n",
       "      <td>2018-11-19</td>\n",
       "      <td>0.659504</td>\n",
       "    </tr>\n",
       "    <tr>\n",
       "      <th>7853250</th>\n",
       "      <td>fffffa6a956c17ddbabca53d4ab708ae</td>\n",
       "      <td>0.291415</td>\n",
       "      <td>2018-11-16</td>\n",
       "      <td>0.291415</td>\n",
       "    </tr>\n",
       "    <tr>\n",
       "      <th>7853251</th>\n",
       "      <td>fffffad7b6c8196ec5cae634406c0d4f</td>\n",
       "      <td>0.459044</td>\n",
       "      <td>2018-11-08</td>\n",
       "      <td>0.459044</td>\n",
       "    </tr>\n",
       "    <tr>\n",
       "      <th>7853252</th>\n",
       "      <td>fffffbd305a90eb0f93ee4f30a39c736</td>\n",
       "      <td>0.371972</td>\n",
       "      <td>2018-11-25</td>\n",
       "      <td>0.371972</td>\n",
       "    </tr>\n",
       "  </tbody>\n",
       "</table>\n",
       "<p>7853253 rows × 4 columns</p>\n",
       "</div>"
      ],
      "text/plain": [
       "                        MachineIdentifier  HasDetections       Date  \\\n",
       "0        0000010489e3af074adeac69c53e555e       0.506743 2018-11-20   \n",
       "1        00000176ac758d54827acd545b6315a5       0.533433 2018-10-22   \n",
       "2        0000019dcefc128c2d4387c1273dae1d       0.611486 2018-09-28   \n",
       "3        0000055553dc51b1295785415f1a224d       0.342288 2018-11-23   \n",
       "4        00000574cefffeca83ec8adf9285b2bf       0.480390 2018-10-21   \n",
       "5        000007ffedd31948f08e6c16da31f6d1       0.506531 2018-10-07   \n",
       "6        000008f31610018d898e5f315cdf1bd1       0.247400 2018-11-07   \n",
       "7        00000a3c447250626dbcc628c9cbc460       0.207781 2018-10-16   \n",
       "8        00000b6bf217ec9aef0f68d5c6705897       0.185144 2018-11-23   \n",
       "9        00000b8d3776b13e93ad83676a28e4aa       0.317342 2018-04-15   \n",
       "10       00000dec341e29f26b92c3be03640bdc       0.399868 2018-10-21   \n",
       "11       00000e658ce75c1e2a3bb47bcc3b08f3       0.436845 2018-11-01   \n",
       "12       0000102ff65968bbdc04b69073434b05       0.445100 2018-11-23   \n",
       "13       000011236a5dc4ff119541c42bb4287e       0.688669 2018-11-14   \n",
       "14       0000124d8811c1a5b5848c4d730cfbf8       0.270151 2018-11-23   \n",
       "15       000015a88b949c982bc80ec8e32b726d       0.435536 2018-11-24   \n",
       "16       0000187a73c37cab54bd5be81c16c71f       0.239939 2018-11-20   \n",
       "17       00001be80a499e95d5e68151b6470aa2       0.370409 2018-10-22   \n",
       "18       00001dcfc3f82d68d6eae9cad4a3e07c       0.517164 2018-10-28   \n",
       "19       00001ec5ccb1deb10e7f9facb5738bbb       0.358548 2018-10-29   \n",
       "20       00001fb4bab6f49153f8b8a8cad33557       0.285654 2018-01-13   \n",
       "21       00001fb68068b9612b7bcc8e5dd07da7       0.902387 2018-10-10   \n",
       "22       0000208f0145e1b831c508fd33f4e66a       0.597198 2018-10-07   \n",
       "23       000022cd46c5714e86254b4133116bb7       0.609936 2018-10-10   \n",
       "24       00002336a5efa7665854da5c4b0f0269       0.515759 2018-09-17   \n",
       "25       000023628ce7bd01fe765c9f1a003a56       0.647786 2018-10-23   \n",
       "26       000024492167b242089b450565a650e7       0.617260 2018-10-13   \n",
       "27       00002594fa72db6c02c1deac489ea004       0.384886 2018-08-05   \n",
       "28       00002a6c8d5b34b6abfc7b73bff9c9c0       0.290688 2018-10-23   \n",
       "29       00002b6bcc3c7956f9fc002fedb89599       0.375187 2018-11-23   \n",
       "30       00002beccd9a641ba92c988f636533d6       0.183124 2018-09-28   \n",
       "31       0000308669f9083fa7383b4f627c61a2       0.607439 2018-10-10   \n",
       "32       0000329ca426eaf815bfb6e50b168ca7       0.344452 2018-10-11   \n",
       "33       000037823afada3fe53173808cab6374       0.207696 2018-10-12   \n",
       "34       000037d9ea7b7cfbf476b433586e5113       0.466412 2018-09-19   \n",
       "35       00003b98e4dbced155a5fb3eab04ce28       0.672330 2018-10-09   \n",
       "36       00003c48f2b0f68c78e82f3d18b517c7       0.549940 2018-10-09   \n",
       "37       00003c8a62e007ac98a85ef5adaa1865       0.359282 2018-10-05   \n",
       "38       00003f163bd22a7172e8655fa3bb638f       0.666044 2018-10-11   \n",
       "39       00004042973d5f920c690fbf2b175d7b       0.052430 2018-10-08   \n",
       "40       000040636c1d3217eaa78c3dc0e6ca9f       0.198819 2018-11-16   \n",
       "41       000040d0bb6095bc5b16451768177a71       0.423507 2018-10-14   \n",
       "42       00004316d7d468be75b2c330d40b3ee3       0.138373 2018-11-01   \n",
       "43       000046fde0c3bb60bb94d877f1aed51f       0.399137 2018-11-08   \n",
       "44       000047fcfba5075a43a39cc488d4a9f1       0.274868 2018-11-06   \n",
       "45       0000484c1fd0f566986d558367799d70       0.211586 2018-10-11   \n",
       "46       000049d209898e19506ae8f2431ec64e       0.351237 2018-10-18   \n",
       "47       00004a929a8abbe15a6ea584f11a2d7e       0.109434 2018-10-11   \n",
       "48       0000525b7a8f2fc01d84166b45f26b6b       0.718437 2018-10-23   \n",
       "49       00005272f40ed7235379787664f3c801       0.105073 2018-10-22   \n",
       "50       000055688c4b1d7875a8bc99d0c234f0       0.590177 2018-10-20   \n",
       "51       000055ea914f7ef72f9ad26b5cdf4195       0.442033 2018-10-11   \n",
       "52       0000561fb64f4d946f204ba29913d16b       0.520730 2018-10-14   \n",
       "53       00005e3b5150302adeccf70bdcf0aa52       0.606150 2018-08-09   \n",
       "54       00005f4864d68898cb9c63c22eafd5ee       0.290741 2018-11-05   \n",
       "55       00006154b861493f10f174f72c25fdc1       0.599717 2018-09-27   \n",
       "56       000065ad36d3a5b0943b3748ffa93fc1       0.052723 2018-11-23   \n",
       "57       0000684ebeb593a8d574293b505922cc       0.513278 2018-10-13   \n",
       "58       000068c452244499fb02b0cd0c9eb94f       0.438852 2018-10-30   \n",
       "59       00006a744f9d2238c14147b654db8899       0.522139 2018-10-11   \n",
       "60       00006e432bbb79128187560ba7c57ceb       0.604106 2018-11-16   \n",
       "61       0000786ab891c531ef0d5d5098f28930       0.270207 2018-10-18   \n",
       "62       000078e67a3f2a100429120430a18075       0.536908 2018-10-14   \n",
       "63       00007cfba1c285bb92b4fbc10ee867e5       0.243668 2018-11-17   \n",
       "64       00007d977cd6b0f21a7b497cff52b32b       0.413833 2018-09-15   \n",
       "65       00007e387347b6a2c20e252bd8de3f86       0.660067 2018-10-11   \n",
       "66       00007e926854c2c338f69d7ceb80cff3       0.348141 2018-08-07   \n",
       "67       0000805072cfea837bafe44ffc3f01df       0.152884 2018-10-21   \n",
       "68       0000837de4d8c1772b63a86a712409ed       0.576154 2018-11-22   \n",
       "69       0000842ddc228be24fdd679c9a4194ab       0.499239 2018-11-07   \n",
       "70       00008529373ccc5c6f2fd311cb03f3d4       0.728090 2018-10-15   \n",
       "71       00008887d503218e314102a1ca9d792f       0.260765 2018-10-13   \n",
       "72       00008c0e1103aa31ca48e0fa22464ae7       0.482983 2018-06-04   \n",
       "73       00008d6f5d868b09d41db74d9badcda4       0.394059 2018-11-22   \n",
       "74       00008f42abacfd7748a31fa33a3eb322       0.494454 2018-10-17   \n",
       "...                                   ...            ...        ...   \n",
       "7853178  ffff5bbb4bdb4ae465b6347d7767f1a9       0.509065 2018-10-05   \n",
       "7853179  ffff5eb04e8bd4fddae8109dbf5c9df9       0.335669 2018-11-22   \n",
       "7853180  ffff5f5dcdd990e0b54f6bcce7ed3cb3       0.416456 2018-10-02   \n",
       "7853181  ffff6110cc944ddee257ec3eebb67a49       0.413364 2018-10-05   \n",
       "7853182  ffff65a85c21a478b1fbfac000a23924       0.449994 2018-09-20   \n",
       "7853183  ffff65bb6057b5f7f7555211b453b645       0.829053 2018-10-19   \n",
       "7853184  ffff660f43af7e2718637f6c77597d6a       0.328496 2018-10-22   \n",
       "7853185  ffff673ed1c806dc89fb8caf8b6dc89b       0.314695 2018-11-23   \n",
       "7853186  ffff6832e05327074d3250c6176a615d       0.366989 2018-10-08   \n",
       "7853187  ffff6b1df04c9f9996ee5a63f77486a2       0.549205 2018-10-24   \n",
       "7853188  ffff6bb1c80157cd93aea48f6e52ccaf       0.386165 2018-10-15   \n",
       "7853189  ffff723a30196b2a9a9e7fa2dae28f02       0.311453 2018-10-07   \n",
       "7853190  ffff72d6a8b804f90e2ea199eecfe113       0.479741 2018-10-27   \n",
       "7853191  ffff741905866b9d0d01edf7d9f7353a       0.432351 2018-10-27   \n",
       "7853192  ffff78ec305b07afa25e94d1695fbce6       0.559410 2018-11-05   \n",
       "7853193  ffff792a2bdc329c57a52f302ae9911d       0.338534 2018-10-06   \n",
       "7853194  ffff79e4c8f1bbdc454d04c1fdebcff5       0.368062 2018-11-08   \n",
       "7853195  ffff7b7577b37552c6adbf4b0dcbdf21       0.497058 2018-11-14   \n",
       "7853196  ffff7d73773851d8e71ef9437d2dcdb3       0.414218 2018-10-07   \n",
       "7853197  ffff7defa848b9acdb0ad31b20b3f547       0.704378 2018-10-07   \n",
       "7853198  ffff7f7d957d1dcae53db529fa30eca3       0.574208 2018-10-01   \n",
       "7853199  ffff7ff6926edd56029374e54d6cb295       0.190821 2018-10-02   \n",
       "7853200  ffff82d4d3978cb778a74f1f6012e223       0.444959 2018-10-22   \n",
       "7853201  ffff8302491747c9f2b4b480222ee2a5       0.689827 2018-09-30   \n",
       "7853202  ffff852af6350f9d0c272e0edd1a8da3       0.628256 2018-10-23   \n",
       "7853203  ffff88bc9f1c2208fde621a2bb4aff2a       0.358256 2018-05-29   \n",
       "7853204  ffff8f9f0b4705aed62dd3ed36490c44       0.242959 2018-11-20   \n",
       "7853205  ffff8fbff49f813b9d5ca6739805ffff       0.411909 2018-10-16   \n",
       "7853206  ffff98ffbe2b368dc1ad3a47e34014f0       0.619743 2018-11-24   \n",
       "7853207  ffff9a852e95ff9443cde29b12f04078       0.413467 2018-11-01   \n",
       "7853208  ffff9afbfdeef06a8ccc4e558c89b34b       0.818120 2018-11-07   \n",
       "7853209  ffff9bb8d05e05100d117547e101c8fd       0.641394 2018-11-19   \n",
       "7853210  ffff9f8390fcc6936fcb90783cadc4df       0.210971 2018-10-07   \n",
       "7853211  ffffa04d55edfde48c5be22ebfe147b1       0.435894 2018-03-01   \n",
       "7853212  ffffa79f1c00825707749b70cf459392       0.300956 2018-11-20   \n",
       "7853213  ffffa7c262471b98e2d8ef72de22cc70       0.612950 2018-10-14   \n",
       "7853214  ffffae503b667efca7079f60b0294901       0.585505 2018-10-14   \n",
       "7853215  ffffb3cece0b9f4d6e7048959a9dbd42       0.152314 2018-11-12   \n",
       "7853216  ffffb40d07038fc86b49469d7503f78c       0.263824 2018-10-24   \n",
       "7853217  ffffb44591488f1c7fbf5751d4b74764       0.546323 2018-10-12   \n",
       "7853218  ffffb47567afb310ca5ff9bf8be747ce       0.227236 2018-10-08   \n",
       "7853219  ffffb6ca3e122d90376f24f6db052846       0.591262 2018-11-24   \n",
       "7853220  ffffb7a73c0ed7869adb0b6746dbf555       0.230874 2018-10-11   \n",
       "7853221  ffffba324de22b9790323f765bbfa1c7       0.719736 2018-10-06   \n",
       "7853222  ffffbbca54d99a63d2e7dc714da28a28       0.636442 2018-10-23   \n",
       "7853223  ffffc5dc0ea43508e6178322089937a3       0.561709 2018-10-17   \n",
       "7853224  ffffc978b55f10c87d647872deeeb141       0.176934 2018-10-23   \n",
       "7853225  ffffd03c7eb58eb6758e62a5c54a64aa       0.284247 2018-11-21   \n",
       "7853226  ffffd12ca6bce4e69cdb6a0feb9e9619       0.525877 2018-11-15   \n",
       "7853227  ffffd149b10a6416b7fbee1022f0f608       0.394294 2018-11-18   \n",
       "7853228  ffffd1912c7b8afaeb96a0bd78b1ff04       0.598344 2018-10-16   \n",
       "7853229  ffffd2696ad316a0cd2f870361f54b50       0.481837 2018-10-25   \n",
       "7853230  ffffd28fac6242fa8b9f00d30d2eaebb       0.629290 2018-09-02   \n",
       "7853231  ffffdf248f74e52dd72469a305327205       0.304019 2018-11-21   \n",
       "7853232  ffffe31a2077b21bd79cdccc139c4030       0.306480 2018-11-22   \n",
       "7853233  ffffe3a255eed7864e99c319f8503ea7       0.504249 2018-10-08   \n",
       "7853234  ffffe4b4b7cc83979736620f88393bb5       0.635957 2018-10-02   \n",
       "7853235  ffffe54831c3e7b5fac512137a452f50       0.462464 2018-10-27   \n",
       "7853236  ffffe6e2c11cb55bcad4229b92a5fb5f       0.297609 2018-05-16   \n",
       "7853237  ffffe8fe730d2c82ef2f60f9925f2bf8       0.447482 2018-11-21   \n",
       "7853238  ffffe9604a0346ab910b0bb034746217       0.496125 2018-10-14   \n",
       "7853239  fffff2583d8fe56544dd402d69a496ab       0.478862 2018-10-09   \n",
       "7853240  fffff2bec84ef6a4795f0ed78ef48ff0       0.488819 2018-10-11   \n",
       "7853241  fffff4c3bc0c3b2aa62d13c36411ad5a       0.544465 2018-11-19   \n",
       "7853242  fffff53d4c052be10e63d12077bac46b       0.467218 2018-10-12   \n",
       "7853243  fffff595da0597305f42baf084cb3b2e       0.270881 2018-06-17   \n",
       "7853244  fffff5997168cb2045506c92604c94e0       0.362482 2018-11-08   \n",
       "7853245  fffff6241ca0c10545ae0f9c86ffc6a9       0.675116 2018-09-28   \n",
       "7853246  fffff6e05dd004b0c42a7fc94b044824       0.329408 2018-10-05   \n",
       "7853247  fffff83f05efef39e0f7244742657f07       0.742834 2018-10-03   \n",
       "7853248  fffff8c0e065c468a2373f7afd5e7674       0.482940 2018-11-16   \n",
       "7853249  fffff90b27a1248b6fffc7a535bd736c       0.659504 2018-11-19   \n",
       "7853250  fffffa6a956c17ddbabca53d4ab708ae       0.291415 2018-11-16   \n",
       "7853251  fffffad7b6c8196ec5cae634406c0d4f       0.459044 2018-11-08   \n",
       "7853252  fffffbd305a90eb0f93ee4f30a39c736       0.371972 2018-11-25   \n",
       "\n",
       "         NewHasDetections  \n",
       "0                0.506743  \n",
       "1                0.533433  \n",
       "2                0.611486  \n",
       "3                0.342288  \n",
       "4                0.480390  \n",
       "5                0.506531  \n",
       "6                0.247400  \n",
       "7                0.207781  \n",
       "8                0.185144  \n",
       "9                0.317342  \n",
       "10               0.399868  \n",
       "11               0.436845  \n",
       "12               0.445100  \n",
       "13               0.688669  \n",
       "14               0.270151  \n",
       "15               0.435536  \n",
       "16               0.239939  \n",
       "17               0.370409  \n",
       "18               0.517164  \n",
       "19               0.358548  \n",
       "20               0.285654  \n",
       "21               0.902387  \n",
       "22               0.597198  \n",
       "23               0.609936  \n",
       "24               0.452920  \n",
       "25               0.647786  \n",
       "26               0.617260  \n",
       "27               0.353895  \n",
       "28               0.290688  \n",
       "29               0.375187  \n",
       "30               0.183124  \n",
       "31               0.607439  \n",
       "32               0.344452  \n",
       "33               0.207696  \n",
       "34               0.432016  \n",
       "35               0.672330  \n",
       "36               0.549940  \n",
       "37               0.359282  \n",
       "38               0.666044  \n",
       "39               0.052430  \n",
       "40               0.198819  \n",
       "41               0.423507  \n",
       "42               0.138373  \n",
       "43               0.399137  \n",
       "44               0.274868  \n",
       "45               0.211586  \n",
       "46               0.351237  \n",
       "47               0.109434  \n",
       "48               0.718437  \n",
       "49               0.105073  \n",
       "50               0.590177  \n",
       "51               0.442033  \n",
       "52               0.520730  \n",
       "53               0.528399  \n",
       "54               0.290741  \n",
       "55               0.599717  \n",
       "56               0.052723  \n",
       "57               0.513278  \n",
       "58               0.438852  \n",
       "59               0.522139  \n",
       "60               0.604106  \n",
       "61               0.270207  \n",
       "62               0.536908  \n",
       "63               0.243668  \n",
       "64               0.366700  \n",
       "65               0.660067  \n",
       "66               0.303468  \n",
       "67               0.152884  \n",
       "68               0.576154  \n",
       "69               0.499239  \n",
       "70               0.728090  \n",
       "71               0.260765  \n",
       "72               0.482983  \n",
       "73               0.394059  \n",
       "74               0.494454  \n",
       "...                   ...  \n",
       "7853178          0.509065  \n",
       "7853179          0.335669  \n",
       "7853180          0.416456  \n",
       "7853181          0.413364  \n",
       "7853182          0.393267  \n",
       "7853183          0.829053  \n",
       "7853184          0.328496  \n",
       "7853185          0.314695  \n",
       "7853186          0.366989  \n",
       "7853187          0.549205  \n",
       "7853188          0.386165  \n",
       "7853189          0.311453  \n",
       "7853190          0.479741  \n",
       "7853191          0.432351  \n",
       "7853192          0.559410  \n",
       "7853193          0.338534  \n",
       "7853194          0.368062  \n",
       "7853195          0.497058  \n",
       "7853196          0.414218  \n",
       "7853197          0.704378  \n",
       "7853198          0.574208  \n",
       "7853199          0.190821  \n",
       "7853200          0.444959  \n",
       "7853201          0.689827  \n",
       "7853202          0.628256  \n",
       "7853203          0.358256  \n",
       "7853204          0.242959  \n",
       "7853205          0.411909  \n",
       "7853206          0.619743  \n",
       "7853207          0.413467  \n",
       "7853208          0.818120  \n",
       "7853209          0.641394  \n",
       "7853210          0.210971  \n",
       "7853211          0.435894  \n",
       "7853212          0.300956  \n",
       "7853213          0.612950  \n",
       "7853214          0.585505  \n",
       "7853215          0.152314  \n",
       "7853216          0.263824  \n",
       "7853217          0.546323  \n",
       "7853218          0.227236  \n",
       "7853219          0.591262  \n",
       "7853220          0.230874  \n",
       "7853221          0.719736  \n",
       "7853222          0.636442  \n",
       "7853223          0.561709  \n",
       "7853224          0.176934  \n",
       "7853225          0.284247  \n",
       "7853226          0.525877  \n",
       "7853227          0.394294  \n",
       "7853228          0.598344  \n",
       "7853229          0.481837  \n",
       "7853230          0.640895  \n",
       "7853231          0.304019  \n",
       "7853232          0.306480  \n",
       "7853233          0.504249  \n",
       "7853234          0.635957  \n",
       "7853235          0.462464  \n",
       "7853236          0.297609  \n",
       "7853237          0.447482  \n",
       "7853238          0.496125  \n",
       "7853239          0.478862  \n",
       "7853240          0.488819  \n",
       "7853241          0.544465  \n",
       "7853242          0.467218  \n",
       "7853243          0.270881  \n",
       "7853244          0.362482  \n",
       "7853245          0.675116  \n",
       "7853246          0.329408  \n",
       "7853247          0.742834  \n",
       "7853248          0.482940  \n",
       "7853249          0.659504  \n",
       "7853250          0.291415  \n",
       "7853251          0.459044  \n",
       "7853252          0.371972  \n",
       "\n",
       "[7853253 rows x 4 columns]"
      ]
     },
     "execution_count": 149,
     "metadata": {},
     "output_type": "execute_result"
    }
   ],
   "source": [
    "yh"
   ]
  },
  {
   "cell_type": "code",
   "execution_count": null,
   "metadata": {},
   "outputs": [],
   "source": []
  },
  {
   "cell_type": "code",
   "execution_count": 75,
   "metadata": {
    "ExecuteTime": {
     "end_time": "2019-03-09T23:20:13.453734Z",
     "start_time": "2019-03-09T23:20:13.446786Z"
    }
   },
   "outputs": [],
   "source": [
    "tt_temp = temp.merge(tt_temp, left_on='Date_YMD', right_on='Date', how='left')#.fillna(0)"
   ]
  },
  {
   "cell_type": "code",
   "execution_count": null,
   "metadata": {},
   "outputs": [],
   "source": []
  },
  {
   "cell_type": "code",
   "execution_count": 69,
   "metadata": {
    "ExecuteTime": {
     "end_time": "2019-03-09T23:18:56.482504Z",
     "start_time": "2019-03-09T23:18:56.477549Z"
    }
   },
   "outputs": [
    {
     "data": {
      "text/plain": [
       "(483279,)"
      ]
     },
     "execution_count": 69,
     "metadata": {},
     "output_type": "execute_result"
    }
   ],
   "source": [
    "lgb_test_result.shape"
   ]
  },
  {
   "cell_type": "code",
   "execution_count": 63,
   "metadata": {
    "ExecuteTime": {
     "end_time": "2019-03-09T23:17:33.526209Z",
     "start_time": "2019-03-09T23:17:33.498267Z"
    }
   },
   "outputs": [
    {
     "data": {
      "text/plain": [
       "array([0.47843054, 0.37335036, 0.44245162, ..., 0.35585694, 0.40323794,\n",
       "       0.64202696])"
      ]
     },
     "execution_count": 63,
     "metadata": {},
     "output_type": "execute_result"
    }
   ],
   "source": [
    "(lgb_test_result / 5)"
   ]
  },
  {
   "cell_type": "code",
   "execution_count": null,
   "metadata": {},
   "outputs": [],
   "source": []
  },
  {
   "cell_type": "code",
   "execution_count": 162,
   "metadata": {
    "ExecuteTime": {
     "end_time": "2019-03-10T03:14:42.246617Z",
     "start_time": "2019-03-10T03:14:42.056010Z"
    }
   },
   "outputs": [
    {
     "data": {
      "text/plain": [
       "<matplotlib.legend.Legend at 0x25508d28908>"
      ]
     },
     "execution_count": 162,
     "metadata": {},
     "output_type": "execute_result"
    },
    {
     "data": {
      "image/png": "[encoded data removed]",
      "text/plain": [
       "<Figure size 1296x576 with 1 Axes>"
      ]
     },
     "metadata": {
      "needs_background": "light"
     },
     "output_type": "display_data"
    }
   ],
   "source": [
    "plt.figure(figsize=(18, 8))\n",
    "plt.plot(tr_temp.Date_YMD, tr_temp['mean'], '+', color='b', alpha=1, label='train')\n",
    "plt.legend(prop={'size': 16})"
   ]
  },
  {
   "cell_type": "code",
   "execution_count": 42,
   "metadata": {
    "ExecuteTime": {
     "end_time": "2019-03-09T05:10:52.858938Z",
     "start_time": "2019-03-09T05:10:52.850993Z"
    }
   },
   "outputs": [],
   "source": [
    "condition = (tr_temp.Date_YMD >= '2018-09-25')&(tr_temp.Date_YMD <= '2018-11-24') & (tr_temp.Date_YMD != '2018-03-01') & (tr_temp.Date_YMD != '2017-02-22') & (tr_temp.Date_YMD != '2017-08-24')\n",
    "yh_temp = yh_temp[condition]"
   ]
  },
  {
   "cell_type": "code",
   "execution_count": 43,
   "metadata": {
    "ExecuteTime": {
     "end_time": "2019-03-09T05:10:53.424673Z",
     "start_time": "2019-03-09T05:10:53.223685Z"
    }
   },
   "outputs": [
    {
     "data": {
      "text/plain": [
       "<matplotlib.legend.Legend at 0x1be6fe35668>"
      ]
     },
     "execution_count": 43,
     "metadata": {},
     "output_type": "execute_result"
    },
    {
     "data": {
      "image/png": "[encoded data removed]",
      "text/plain": [
       "<Figure size 1296x576 with 1 Axes>"
      ]
     },
     "metadata": {
      "needs_background": "light"
     },
     "output_type": "display_data"
    }
   ],
   "source": [
    "plt.figure(figsize=(18, 8))\n",
    "plt.plot(yh_temp.Date_YMD, yh_temp['mean'], '+', color='b', alpha=1, label='train')\n",
    "plt.legend(prop={'size': 16})"
   ]
  },
  {
   "cell_type": "code",
   "execution_count": 289,
   "metadata": {
    "ExecuteTime": {
     "end_time": "2019-03-08T17:31:09.388922Z",
     "start_time": "2019-03-08T17:31:08.929153Z"
    }
   },
   "outputs": [
    {
     "data": {
      "text/plain": [
       "<matplotlib.axes._subplots.AxesSubplot at 0x1d6caba64a8>"
      ]
     },
     "execution_count": 289,
     "metadata": {},
     "output_type": "execute_result"
    },
    {
     "data": {
      "image/png": "[encoded data removed]",
      "text/plain": [
       "<Figure size 432x288 with 1 Axes>"
      ]
     },
     "metadata": {
      "needs_background": "light"
     },
     "output_type": "display_data"
    }
   ],
   "source": [
    "sns.distplot(yh[(yh.Date >= '2016-06-02') & (yh.Date <= '2018-03-24')].HasDetections)"
   ]
  },
  {
   "cell_type": "code",
   "execution_count": 291,
   "metadata": {
    "ExecuteTime": {
     "end_time": "2019-03-08T17:32:29.900167Z",
     "start_time": "2019-03-08T17:32:29.505475Z"
    }
   },
   "outputs": [
    {
     "data": {
      "text/plain": [
       "<matplotlib.axes._subplots.AxesSubplot at 0x1d6caeab048>"
      ]
     },
     "execution_count": 291,
     "metadata": {},
     "output_type": "execute_result"
    },
    {
     "data": {
      "image/png": "[encoded data removed]",
      "text/plain": [
       "<Figure size 432x288 with 1 Axes>"
      ]
     },
     "metadata": {
      "needs_background": "light"
     },
     "output_type": "display_data"
    }
   ],
   "source": [
    "sns.distplot(yh[(yh.Date >= '2018-03-25') & (yh.Date <= '2018-07-24')].HasDetections)"
   ]
  },
  {
   "cell_type": "code",
   "execution_count": 292,
   "metadata": {
    "ExecuteTime": {
     "end_time": "2019-03-08T17:33:02.171478Z",
     "start_time": "2019-03-08T17:33:01.691765Z"
    }
   },
   "outputs": [
    {
     "data": {
      "text/plain": [
       "<matplotlib.axes._subplots.AxesSubplot at 0x1d6cb0cab70>"
      ]
     },
     "execution_count": 292,
     "metadata": {},
     "output_type": "execute_result"
    },
    {
     "data": {
      "image/png": "[encoded data removed]",
      "text/plain": [
       "<Figure size 432x288 with 1 Axes>"
      ]
     },
     "metadata": {
      "needs_background": "light"
     },
     "output_type": "display_data"
    }
   ],
   "source": [
    "sns.distplot(yh[(yh.Date >= '2018-07-25') & (yh.Date <= '2018-09-24')].HasDetections)"
   ]
  },
  {
   "cell_type": "markdown",
   "metadata": {},
   "source": [
    "### 2016년 6월 2일 ~ 2018년 3월 24일"
   ]
  },
  {
   "cell_type": "code",
   "execution_count": 356,
   "metadata": {
    "ExecuteTime": {
     "end_time": "2019-03-08T18:42:18.487478Z",
     "start_time": "2019-03-08T18:42:10.601497Z"
    }
   },
   "outputs": [],
   "source": [
    "temp = data[(data.Date_YMD >= '2016-06-02') & (data.Date_YMD <= '2018-03-24') & (data.Date_YMD != '2018-03-01') & (data.Date_YMD != '2017-02-22') & (data.Date_YMD != '2017-08-24')]\n",
    "del temp['Date_YMD']"
   ]
  },
  {
   "cell_type": "code",
   "execution_count": 322,
   "metadata": {
    "ExecuteTime": {
     "end_time": "2019-03-08T18:06:50.718810Z",
     "start_time": "2019-03-08T18:06:50.561232Z"
    }
   },
   "outputs": [],
   "source": [
    "train = temp[~temp.HasDetections.isna()]\n",
    "test = temp[temp.HasDetections.isna()]"
   ]
  },
  {
   "cell_type": "code",
   "execution_count": 323,
   "metadata": {
    "ExecuteTime": {
     "end_time": "2019-03-08T18:06:51.091003Z",
     "start_time": "2019-03-08T18:06:51.087014Z"
    }
   },
   "outputs": [],
   "source": [
    "train.reset_index(drop=True, inplace=True)\n",
    "test.reset_index(drop=True, inplace=True)"
   ]
  },
  {
   "cell_type": "code",
   "execution_count": 324,
   "metadata": {
    "ExecuteTime": {
     "end_time": "2019-03-08T18:09:19.156569Z",
     "start_time": "2019-03-08T18:06:51.622459Z"
    }
   },
   "outputs": [
    {
     "name": "stdout",
     "output_type": "stream",
     "text": [
      "Transform all features to category.\n",
      "\n"
     ]
    },
    {
     "data": {
      "application/vnd.jupyter.widget-view+json": {
       "model_id": "573c5e1e069249debbf8f63861be54bd",
       "version_major": 2,
       "version_minor": 0
      },
      "text/plain": [
       "HBox(children=(IntProgress(value=0, max=82), HTML(value='')))"
      ]
     },
     "metadata": {},
     "output_type": "display_data"
    },
    {
     "name": "stdout",
     "output_type": "stream",
     "text": [
      "\n"
     ]
    }
   ],
   "source": [
    "print('Transform all features to category.\\n')\n",
    "for usecol in tqdm_notebook([col for col in train.columns if col not in ['HasDetections', 'MachineIdentifier']]):\n",
    "\n",
    "    train[usecol] = train[usecol].astype('str')\n",
    "    test[usecol] = test[usecol].astype('str')\n",
    "    \n",
    "    #Fit LabelEncoder\n",
    "    le = LabelEncoder().fit(\n",
    "            np.unique(train[usecol].unique().tolist()+\n",
    "                      test[usecol].unique().tolist()))\n",
    "\n",
    "    #At the end 0 will be used for dropped values\n",
    "    train[usecol] = le.transform(train[usecol])+1\n",
    "    test[usecol]  = le.transform(test[usecol])+1\n",
    "\n",
    "    agg_tr = (train\n",
    "              .groupby([usecol])\n",
    "              .aggregate({'MachineIdentifier':'count'})\n",
    "              .reset_index()\n",
    "              .rename({'MachineIdentifier':'Train'}, axis=1))\n",
    "    \n",
    "    agg_te = (test\n",
    "              .groupby([usecol])\n",
    "              .aggregate({'MachineIdentifier':'count'})\n",
    "              .reset_index()\n",
    "              .rename({'MachineIdentifier':'Test'}, axis=1))\n",
    "\n",
    "    agg = pd.merge(agg_tr, agg_te, on=usecol, how='outer').replace(np.nan, 0)\n",
    "    #Select values with more than 1000 observations\n",
    "    agg = agg[(agg['Train'] > 1000)].reset_index(drop=True)\n",
    "    agg['Total'] = agg['Train'] + agg['Test']\n",
    "    #Drop unbalanced values\n",
    "    agg = agg[(agg['Train'] / agg['Total'] > 0.2) & (agg['Train'] / agg['Total'] < 0.8)]\n",
    "    agg[usecol+'Copy'] = agg[usecol]\n",
    "    \n",
    "    train[usecol] = (pd.merge(train[[usecol]], \n",
    "                              agg[[usecol, usecol+'Copy']], \n",
    "                              on=usecol, how='left')[usecol+'Copy']\n",
    "                     .replace(np.nan, 0).astype('int').astype('category'))\n",
    "\n",
    "    test[usecol]  = (pd.merge(test[[usecol]], \n",
    "                              agg[[usecol, usecol+'Copy']], \n",
    "                              on=usecol, how='left')[usecol+'Copy']\n",
    "                     .replace(np.nan, 0).astype('int').astype('category'))\n",
    "\n",
    "    del le, agg_tr, agg_te, agg, usecol\n",
    "    gc.collect()"
   ]
  },
  {
   "cell_type": "code",
   "execution_count": 325,
   "metadata": {
    "ExecuteTime": {
     "end_time": "2019-03-08T18:09:19.165544Z",
     "start_time": "2019-03-08T18:09:19.159561Z"
    }
   },
   "outputs": [
    {
     "data": {
      "text/plain": [
       "(279938, 84)"
      ]
     },
     "execution_count": 325,
     "metadata": {},
     "output_type": "execute_result"
    }
   ],
   "source": [
    "train.shape"
   ]
  },
  {
   "cell_type": "code",
   "execution_count": 326,
   "metadata": {
    "ExecuteTime": {
     "end_time": "2019-03-08T18:09:19.177545Z",
     "start_time": "2019-03-08T18:09:19.167540Z"
    }
   },
   "outputs": [],
   "source": [
    "y_train = np.array(train['HasDetections'])\n",
    "train_ids = train.index\n",
    "test_ids  = test.index"
   ]
  },
  {
   "cell_type": "code",
   "execution_count": 327,
   "metadata": {
    "ExecuteTime": {
     "end_time": "2019-03-08T18:09:19.419899Z",
     "start_time": "2019-03-08T18:09:19.181535Z"
    }
   },
   "outputs": [
    {
     "data": {
      "text/plain": [
       "14"
      ]
     },
     "execution_count": 327,
     "metadata": {},
     "output_type": "execute_result"
    }
   ],
   "source": [
    "del train['HasDetections'], train['MachineIdentifier'], test['MachineIdentifier'], test['HasDetections']\n",
    "gc.collect()"
   ]
  },
  {
   "cell_type": "code",
   "execution_count": 328,
   "metadata": {
    "ExecuteTime": {
     "end_time": "2019-03-08T18:09:19.438814Z",
     "start_time": "2019-03-08T18:09:19.422892Z"
    }
   },
   "outputs": [
    {
     "name": "stdout",
     "output_type": "stream",
     "text": [
      "If you don't want use Sparse Matrix choose Kernel Version 2 to get simple solution.\n",
      "\n",
      "--------------------------------------------------------------------------------------------------------\n",
      "Transform Data to Sparse Matrix.\n",
      "Sparse Matrix can be used to fit a lot of models, eg. XGBoost, LightGBM, Random Forest, K-Means and etc.\n",
      "To concatenate Sparse Matrices by column use hstack()\n",
      "Read more about Sparse Matrix https://docs.scipy.org/doc/scipy/reference/sparse.html\n",
      "Good Luck!\n",
      "--------------------------------------------------------------------------------------------------------\n"
     ]
    }
   ],
   "source": [
    "print(\"If you don't want use Sparse Matrix choose Kernel Version 2 to get simple solution.\\n\")\n",
    "\n",
    "print('--------------------------------------------------------------------------------------------------------')\n",
    "print('Transform Data to Sparse Matrix.')\n",
    "print('Sparse Matrix can be used to fit a lot of models, eg. XGBoost, LightGBM, Random Forest, K-Means and etc.')\n",
    "print('To concatenate Sparse Matrices by column use hstack()')\n",
    "print('Read more about Sparse Matrix https://docs.scipy.org/doc/scipy/reference/sparse.html')\n",
    "print('Good Luck!')\n",
    "print('--------------------------------------------------------------------------------------------------------')\n"
   ]
  },
  {
   "cell_type": "code",
   "execution_count": 329,
   "metadata": {
    "ExecuteTime": {
     "end_time": "2019-03-08T18:09:20.991692Z",
     "start_time": "2019-03-08T18:09:19.439811Z"
    }
   },
   "outputs": [],
   "source": [
    "#Fit OneHotEncoder\n",
    "ohe = OneHotEncoder(categories='auto', sparse=True, dtype='uint8').fit(train.append(test))"
   ]
  },
  {
   "cell_type": "code",
   "execution_count": 330,
   "metadata": {
    "ExecuteTime": {
     "end_time": "2019-03-08T18:09:25.694112Z",
     "start_time": "2019-03-08T18:09:20.992686Z"
    }
   },
   "outputs": [],
   "source": [
    "#Transform data using small groups to reduce memory usage\n",
    "m = 100000\n",
    "train = vstack([ohe.transform(train[i*m:(i+1)*m]) for i in range(train.shape[0] // m + 1)])\n",
    "test  = vstack([ohe.transform(test[i*m:(i+1)*m])  for i in range(test.shape[0] // m +  1)])"
   ]
  },
  {
   "cell_type": "code",
   "execution_count": 331,
   "metadata": {
    "ExecuteTime": {
     "end_time": "2019-03-08T18:09:29.484939Z",
     "start_time": "2019-03-08T18:09:25.695131Z"
    }
   },
   "outputs": [],
   "source": [
    "save_npz('./data_temp/train.npz', train, compressed=True)\n",
    "save_npz('./data_temp/test.npz',  test,  compressed=True)"
   ]
  },
  {
   "cell_type": "code",
   "execution_count": 332,
   "metadata": {
    "ExecuteTime": {
     "end_time": "2019-03-08T18:09:29.707995Z",
     "start_time": "2019-03-08T18:09:29.485590Z"
    }
   },
   "outputs": [
    {
     "data": {
      "text/plain": [
       "1162"
      ]
     },
     "execution_count": 332,
     "metadata": {},
     "output_type": "execute_result"
    }
   ],
   "source": [
    "del ohe, train, test\n",
    "gc.collect()"
   ]
  },
  {
   "cell_type": "code",
   "execution_count": 333,
   "metadata": {
    "ExecuteTime": {
     "end_time": "2019-03-08T18:09:30.253604Z",
     "start_time": "2019-03-08T18:09:29.709989Z"
    }
   },
   "outputs": [],
   "source": [
    "train = load_npz('./data_temp/train.npz')\n",
    "test = load_npz('./data_temp/test.npz')\n",
    "test = csr_matrix(test, dtype='float32')"
   ]
  },
  {
   "cell_type": "code",
   "execution_count": 339,
   "metadata": {
    "ExecuteTime": {
     "end_time": "2019-03-08T18:16:07.292118Z",
     "start_time": "2019-03-08T18:16:07.287166Z"
    }
   },
   "outputs": [],
   "source": [
    "skf = StratifiedKFold(n_splits=10, shuffle=True, random_state=42)\n",
    "skf.get_n_splits(train_ids, y_train)\n",
    "\n",
    "lgb_test_result  = np.zeros(test_ids.shape[0])\n",
    "lgb_train_result = np.zeros(train_ids.shape[0])\n",
    "counter = 0"
   ]
  },
  {
   "cell_type": "code",
   "execution_count": 340,
   "metadata": {
    "ExecuteTime": {
     "end_time": "2019-03-08T18:35:59.126391Z",
     "start_time": "2019-03-08T18:16:07.844112Z"
    },
    "scrolled": true
   },
   "outputs": [
    {
     "name": "stdout",
     "output_type": "stream",
     "text": [
      "\n",
      "LightGBM\n",
      "\n",
      "Fold 1\n",
      "\n",
      "fitting\n",
      "Training until validation scores don't improve for 100 rounds.\n",
      "[200]\tvalid_0's binary_logloss: 0.604836\tvalid_0's auc: 0.705556\n",
      "[400]\tvalid_0's binary_logloss: 0.595105\tvalid_0's auc: 0.715369\n",
      "[600]\tvalid_0's binary_logloss: 0.590745\tvalid_0's auc: 0.720647\n",
      "[800]\tvalid_0's binary_logloss: 0.588484\tvalid_0's auc: 0.723584\n",
      "[1000]\tvalid_0's binary_logloss: 0.587333\tvalid_0's auc: 0.725067\n",
      "[1200]\tvalid_0's binary_logloss: 0.586635\tvalid_0's auc: 0.725933\n",
      "[1400]\tvalid_0's binary_logloss: 0.586229\tvalid_0's auc: 0.72639\n",
      "[1600]\tvalid_0's binary_logloss: 0.585869\tvalid_0's auc: 0.72684\n",
      "[1800]\tvalid_0's binary_logloss: 0.585582\tvalid_0's auc: 0.727182\n",
      "[2000]\tvalid_0's binary_logloss: 0.585349\tvalid_0's auc: 0.727422\n",
      "[2200]\tvalid_0's binary_logloss: 0.585156\tvalid_0's auc: 0.7276\n",
      "[2400]\tvalid_0's binary_logloss: 0.584974\tvalid_0's auc: 0.727801\n",
      "[2600]\tvalid_0's binary_logloss: 0.584803\tvalid_0's auc: 0.72799\n",
      "[2800]\tvalid_0's binary_logloss: 0.584659\tvalid_0's auc: 0.728116\n",
      "[3000]\tvalid_0's binary_logloss: 0.584507\tvalid_0's auc: 0.728281\n",
      "[3200]\tvalid_0's binary_logloss: 0.584381\tvalid_0's auc: 0.72843\n",
      "[3400]\tvalid_0's binary_logloss: 0.584262\tvalid_0's auc: 0.728588\n",
      "[3600]\tvalid_0's binary_logloss: 0.584181\tvalid_0's auc: 0.728669\n",
      "[3800]\tvalid_0's binary_logloss: 0.584065\tvalid_0's auc: 0.728783\n",
      "[4000]\tvalid_0's binary_logloss: 0.58398\tvalid_0's auc: 0.728856\n",
      "[4200]\tvalid_0's binary_logloss: 0.583882\tvalid_0's auc: 0.728963\n",
      "Early stopping, best iteration is:\n",
      "[4223]\tvalid_0's binary_logloss: 0.58386\tvalid_0's auc: 0.728997\n",
      "predicting\n",
      "Fold 2\n",
      "\n",
      "fitting\n",
      "Training until validation scores don't improve for 100 rounds.\n",
      "[200]\tvalid_0's binary_logloss: 0.604637\tvalid_0's auc: 0.706671\n",
      "[400]\tvalid_0's binary_logloss: 0.59511\tvalid_0's auc: 0.716161\n",
      "[600]\tvalid_0's binary_logloss: 0.590783\tvalid_0's auc: 0.721214\n",
      "[800]\tvalid_0's binary_logloss: 0.588549\tvalid_0's auc: 0.723865\n",
      "[1000]\tvalid_0's binary_logloss: 0.587358\tvalid_0's auc: 0.725337\n",
      "[1200]\tvalid_0's binary_logloss: 0.586631\tvalid_0's auc: 0.726241\n",
      "[1400]\tvalid_0's binary_logloss: 0.586212\tvalid_0's auc: 0.726723\n",
      "[1600]\tvalid_0's binary_logloss: 0.585859\tvalid_0's auc: 0.727148\n",
      "[1800]\tvalid_0's binary_logloss: 0.585518\tvalid_0's auc: 0.72757\n",
      "[2000]\tvalid_0's binary_logloss: 0.585298\tvalid_0's auc: 0.727809\n",
      "[2200]\tvalid_0's binary_logloss: 0.585061\tvalid_0's auc: 0.728072\n",
      "[2400]\tvalid_0's binary_logloss: 0.584859\tvalid_0's auc: 0.728298\n",
      "[2600]\tvalid_0's binary_logloss: 0.584688\tvalid_0's auc: 0.7285\n",
      "[2800]\tvalid_0's binary_logloss: 0.584569\tvalid_0's auc: 0.728604\n",
      "[3000]\tvalid_0's binary_logloss: 0.584449\tvalid_0's auc: 0.728695\n",
      "[3200]\tvalid_0's binary_logloss: 0.584327\tvalid_0's auc: 0.728814\n",
      "[3400]\tvalid_0's binary_logloss: 0.58419\tvalid_0's auc: 0.728952\n",
      "[3600]\tvalid_0's binary_logloss: 0.58411\tvalid_0's auc: 0.728998\n",
      "Early stopping, best iteration is:\n",
      "[3564]\tvalid_0's binary_logloss: 0.584115\tvalid_0's auc: 0.729009\n",
      "predicting\n",
      "Fold 3\n",
      "\n",
      "fitting\n",
      "Training until validation scores don't improve for 100 rounds.\n",
      "[200]\tvalid_0's binary_logloss: 0.605114\tvalid_0's auc: 0.705768\n",
      "[400]\tvalid_0's binary_logloss: 0.595132\tvalid_0's auc: 0.715923\n",
      "[600]\tvalid_0's binary_logloss: 0.590469\tvalid_0's auc: 0.721425\n",
      "[800]\tvalid_0's binary_logloss: 0.588133\tvalid_0's auc: 0.724255\n",
      "[1000]\tvalid_0's binary_logloss: 0.586925\tvalid_0's auc: 0.725771\n",
      "[1200]\tvalid_0's binary_logloss: 0.586164\tvalid_0's auc: 0.726749\n",
      "[1400]\tvalid_0's binary_logloss: 0.585641\tvalid_0's auc: 0.72742\n",
      "[1600]\tvalid_0's binary_logloss: 0.585155\tvalid_0's auc: 0.728071\n",
      "[1800]\tvalid_0's binary_logloss: 0.584825\tvalid_0's auc: 0.728503\n",
      "[2000]\tvalid_0's binary_logloss: 0.58457\tvalid_0's auc: 0.728802\n",
      "[2200]\tvalid_0's binary_logloss: 0.584334\tvalid_0's auc: 0.729103\n",
      "[2400]\tvalid_0's binary_logloss: 0.584142\tvalid_0's auc: 0.729355\n",
      "[2600]\tvalid_0's binary_logloss: 0.583986\tvalid_0's auc: 0.72953\n",
      "[2800]\tvalid_0's binary_logloss: 0.583784\tvalid_0's auc: 0.729815\n",
      "[3000]\tvalid_0's binary_logloss: 0.583599\tvalid_0's auc: 0.730027\n",
      "[3200]\tvalid_0's binary_logloss: 0.583439\tvalid_0's auc: 0.730217\n",
      "[3400]\tvalid_0's binary_logloss: 0.583313\tvalid_0's auc: 0.730377\n",
      "[3600]\tvalid_0's binary_logloss: 0.583158\tvalid_0's auc: 0.730585\n",
      "[3800]\tvalid_0's binary_logloss: 0.583038\tvalid_0's auc: 0.730729\n",
      "[4000]\tvalid_0's binary_logloss: 0.582881\tvalid_0's auc: 0.730923\n",
      "[4200]\tvalid_0's binary_logloss: 0.5828\tvalid_0's auc: 0.730996\n",
      "[4400]\tvalid_0's binary_logloss: 0.582721\tvalid_0's auc: 0.731048\n",
      "Early stopping, best iteration is:\n",
      "[4327]\tvalid_0's binary_logloss: 0.582732\tvalid_0's auc: 0.73106\n",
      "predicting\n",
      "Fold 4\n",
      "\n",
      "fitting\n",
      "Training until validation scores don't improve for 100 rounds.\n",
      "[200]\tvalid_0's binary_logloss: 0.604005\tvalid_0's auc: 0.708143\n",
      "[400]\tvalid_0's binary_logloss: 0.593983\tvalid_0's auc: 0.718287\n",
      "[600]\tvalid_0's binary_logloss: 0.589249\tvalid_0's auc: 0.723777\n",
      "[800]\tvalid_0's binary_logloss: 0.586804\tvalid_0's auc: 0.726603\n",
      "[1000]\tvalid_0's binary_logloss: 0.585652\tvalid_0's auc: 0.727961\n",
      "[1200]\tvalid_0's binary_logloss: 0.584997\tvalid_0's auc: 0.728714\n",
      "[1400]\tvalid_0's binary_logloss: 0.584515\tvalid_0's auc: 0.729254\n",
      "[1600]\tvalid_0's binary_logloss: 0.584193\tvalid_0's auc: 0.729579\n",
      "[1800]\tvalid_0's binary_logloss: 0.583965\tvalid_0's auc: 0.729805\n",
      "[2000]\tvalid_0's binary_logloss: 0.583659\tvalid_0's auc: 0.730159\n",
      "[2200]\tvalid_0's binary_logloss: 0.583442\tvalid_0's auc: 0.730362\n",
      "[2400]\tvalid_0's binary_logloss: 0.583216\tvalid_0's auc: 0.730607\n",
      "[2600]\tvalid_0's binary_logloss: 0.583024\tvalid_0's auc: 0.730811\n",
      "[2800]\tvalid_0's binary_logloss: 0.582887\tvalid_0's auc: 0.730932\n",
      "[3000]\tvalid_0's binary_logloss: 0.582742\tvalid_0's auc: 0.731062\n",
      "[3200]\tvalid_0's binary_logloss: 0.582607\tvalid_0's auc: 0.731193\n",
      "[3400]\tvalid_0's binary_logloss: 0.582503\tvalid_0's auc: 0.731272\n",
      "[3600]\tvalid_0's binary_logloss: 0.582368\tvalid_0's auc: 0.73141\n",
      "[3800]\tvalid_0's binary_logloss: 0.582232\tvalid_0's auc: 0.731537\n",
      "[4000]\tvalid_0's binary_logloss: 0.582162\tvalid_0's auc: 0.731595\n",
      "[4200]\tvalid_0's binary_logloss: 0.582052\tvalid_0's auc: 0.731702\n",
      "[4400]\tvalid_0's binary_logloss: 0.581985\tvalid_0's auc: 0.731733\n",
      "[4600]\tvalid_0's binary_logloss: 0.581927\tvalid_0's auc: 0.73178\n",
      "Early stopping, best iteration is:\n",
      "[4561]\tvalid_0's binary_logloss: 0.58193\tvalid_0's auc: 0.731788\n",
      "predicting\n",
      "Fold 5\n",
      "\n",
      "fitting\n",
      "Training until validation scores don't improve for 100 rounds.\n",
      "[200]\tvalid_0's binary_logloss: 0.606288\tvalid_0's auc: 0.702487\n",
      "[400]\tvalid_0's binary_logloss: 0.597134\tvalid_0's auc: 0.711493\n",
      "[600]\tvalid_0's binary_logloss: 0.592949\tvalid_0's auc: 0.716394\n",
      "[800]\tvalid_0's binary_logloss: 0.590831\tvalid_0's auc: 0.719009\n",
      "[1000]\tvalid_0's binary_logloss: 0.589651\tvalid_0's auc: 0.720542\n",
      "[1200]\tvalid_0's binary_logloss: 0.589023\tvalid_0's auc: 0.721355\n",
      "[1400]\tvalid_0's binary_logloss: 0.58854\tvalid_0's auc: 0.721956\n",
      "[1600]\tvalid_0's binary_logloss: 0.58815\tvalid_0's auc: 0.722441\n",
      "[1800]\tvalid_0's binary_logloss: 0.587795\tvalid_0's auc: 0.72285\n",
      "[2000]\tvalid_0's binary_logloss: 0.587521\tvalid_0's auc: 0.723196\n",
      "[2200]\tvalid_0's binary_logloss: 0.587332\tvalid_0's auc: 0.723445\n",
      "[2400]\tvalid_0's binary_logloss: 0.587134\tvalid_0's auc: 0.723712\n",
      "[2600]\tvalid_0's binary_logloss: 0.586966\tvalid_0's auc: 0.723916\n",
      "[2800]\tvalid_0's binary_logloss: 0.586818\tvalid_0's auc: 0.724089\n",
      "[3000]\tvalid_0's binary_logloss: 0.586676\tvalid_0's auc: 0.724258\n",
      "[3200]\tvalid_0's binary_logloss: 0.58657\tvalid_0's auc: 0.724398\n",
      "[3400]\tvalid_0's binary_logloss: 0.586425\tvalid_0's auc: 0.724593\n",
      "[3600]\tvalid_0's binary_logloss: 0.586332\tvalid_0's auc: 0.724704\n",
      "[3800]\tvalid_0's binary_logloss: 0.586229\tvalid_0's auc: 0.724813\n",
      "[4000]\tvalid_0's binary_logloss: 0.586113\tvalid_0's auc: 0.724948\n",
      "[4200]\tvalid_0's binary_logloss: 0.586022\tvalid_0's auc: 0.725058\n",
      "[4400]\tvalid_0's binary_logloss: 0.585947\tvalid_0's auc: 0.725138\n",
      "[4600]\tvalid_0's binary_logloss: 0.58583\tvalid_0's auc: 0.725288\n",
      "[4800]\tvalid_0's binary_logloss: 0.585761\tvalid_0's auc: 0.725385\n",
      "[5000]\tvalid_0's binary_logloss: 0.585692\tvalid_0's auc: 0.725477\n",
      "[5200]\tvalid_0's binary_logloss: 0.585674\tvalid_0's auc: 0.72548\n",
      "Early stopping, best iteration is:\n",
      "[5134]\tvalid_0's binary_logloss: 0.585653\tvalid_0's auc: 0.72552\n",
      "predicting\n",
      "Fold 6\n",
      "\n",
      "fitting\n",
      "Training until validation scores don't improve for 100 rounds.\n",
      "[200]\tvalid_0's binary_logloss: 0.603894\tvalid_0's auc: 0.709339\n",
      "[400]\tvalid_0's binary_logloss: 0.593803\tvalid_0's auc: 0.719063\n",
      "[600]\tvalid_0's binary_logloss: 0.589322\tvalid_0's auc: 0.723944\n",
      "[800]\tvalid_0's binary_logloss: 0.58706\tvalid_0's auc: 0.726392\n",
      "[1000]\tvalid_0's binary_logloss: 0.585943\tvalid_0's auc: 0.727605\n",
      "[1200]\tvalid_0's binary_logloss: 0.585333\tvalid_0's auc: 0.728256\n",
      "[1400]\tvalid_0's binary_logloss: 0.584893\tvalid_0's auc: 0.728742\n",
      "[1600]\tvalid_0's binary_logloss: 0.584548\tvalid_0's auc: 0.729074\n",
      "[1800]\tvalid_0's binary_logloss: 0.584276\tvalid_0's auc: 0.729332\n",
      "[2000]\tvalid_0's binary_logloss: 0.584037\tvalid_0's auc: 0.729581\n",
      "[2200]\tvalid_0's binary_logloss: 0.58382\tvalid_0's auc: 0.729782\n",
      "[2400]\tvalid_0's binary_logloss: 0.583654\tvalid_0's auc: 0.72994\n",
      "[2600]\tvalid_0's binary_logloss: 0.583522\tvalid_0's auc: 0.730058\n",
      "[2800]\tvalid_0's binary_logloss: 0.583393\tvalid_0's auc: 0.730179\n",
      "[3000]\tvalid_0's binary_logloss: 0.583268\tvalid_0's auc: 0.730322\n",
      "[3200]\tvalid_0's binary_logloss: 0.583157\tvalid_0's auc: 0.730437\n",
      "Early stopping, best iteration is:\n",
      "[3282]\tvalid_0's binary_logloss: 0.583138\tvalid_0's auc: 0.730447\n",
      "predicting\n",
      "Fold 7\n",
      "\n",
      "fitting\n",
      "Training until validation scores don't improve for 100 rounds.\n",
      "[200]\tvalid_0's binary_logloss: 0.604558\tvalid_0's auc: 0.705638\n",
      "[400]\tvalid_0's binary_logloss: 0.594599\tvalid_0's auc: 0.715909\n",
      "[600]\tvalid_0's binary_logloss: 0.590241\tvalid_0's auc: 0.720986\n",
      "[800]\tvalid_0's binary_logloss: 0.588045\tvalid_0's auc: 0.723611\n",
      "[1000]\tvalid_0's binary_logloss: 0.587\tvalid_0's auc: 0.724913\n",
      "[1200]\tvalid_0's binary_logloss: 0.586335\tvalid_0's auc: 0.725751\n",
      "[1400]\tvalid_0's binary_logloss: 0.585948\tvalid_0's auc: 0.72623\n",
      "[1600]\tvalid_0's binary_logloss: 0.585611\tvalid_0's auc: 0.726649\n",
      "[1800]\tvalid_0's binary_logloss: 0.585262\tvalid_0's auc: 0.727118\n",
      "[2000]\tvalid_0's binary_logloss: 0.584999\tvalid_0's auc: 0.727446\n",
      "[2200]\tvalid_0's binary_logloss: 0.58475\tvalid_0's auc: 0.727753\n",
      "[2400]\tvalid_0's binary_logloss: 0.584535\tvalid_0's auc: 0.72802\n",
      "[2600]\tvalid_0's binary_logloss: 0.584315\tvalid_0's auc: 0.728313\n",
      "[2800]\tvalid_0's binary_logloss: 0.584149\tvalid_0's auc: 0.728508\n",
      "[3000]\tvalid_0's binary_logloss: 0.583974\tvalid_0's auc: 0.728728\n",
      "[3200]\tvalid_0's binary_logloss: 0.583841\tvalid_0's auc: 0.72888\n",
      "[3400]\tvalid_0's binary_logloss: 0.583737\tvalid_0's auc: 0.728988\n",
      "[3600]\tvalid_0's binary_logloss: 0.583607\tvalid_0's auc: 0.72913\n",
      "[3800]\tvalid_0's binary_logloss: 0.583495\tvalid_0's auc: 0.729263\n",
      "[4000]\tvalid_0's binary_logloss: 0.583424\tvalid_0's auc: 0.729329\n",
      "[4200]\tvalid_0's binary_logloss: 0.583297\tvalid_0's auc: 0.729469\n",
      "[4400]\tvalid_0's binary_logloss: 0.58317\tvalid_0's auc: 0.729626\n",
      "[4600]\tvalid_0's binary_logloss: 0.583057\tvalid_0's auc: 0.729742\n",
      "[4800]\tvalid_0's binary_logloss: 0.582997\tvalid_0's auc: 0.729814\n",
      "Early stopping, best iteration is:\n",
      "[4706]\tvalid_0's binary_logloss: 0.58299\tvalid_0's auc: 0.729831\n",
      "predicting\n",
      "Fold 8\n",
      "\n",
      "fitting\n",
      "Training until validation scores don't improve for 100 rounds.\n",
      "[200]\tvalid_0's binary_logloss: 0.603864\tvalid_0's auc: 0.707663\n",
      "[400]\tvalid_0's binary_logloss: 0.594071\tvalid_0's auc: 0.71745\n",
      "[600]\tvalid_0's binary_logloss: 0.589564\tvalid_0's auc: 0.722764\n",
      "[800]\tvalid_0's binary_logloss: 0.587275\tvalid_0's auc: 0.725458\n",
      "[1000]\tvalid_0's binary_logloss: 0.58613\tvalid_0's auc: 0.726804\n",
      "[1200]\tvalid_0's binary_logloss: 0.58548\tvalid_0's auc: 0.727582\n",
      "[1400]\tvalid_0's binary_logloss: 0.585026\tvalid_0's auc: 0.728115\n",
      "[1600]\tvalid_0's binary_logloss: 0.584649\tvalid_0's auc: 0.728569\n",
      "[1800]\tvalid_0's binary_logloss: 0.584353\tvalid_0's auc: 0.728903\n",
      "[2000]\tvalid_0's binary_logloss: 0.584124\tvalid_0's auc: 0.729166\n",
      "[2200]\tvalid_0's binary_logloss: 0.583899\tvalid_0's auc: 0.729417\n",
      "[2400]\tvalid_0's binary_logloss: 0.583719\tvalid_0's auc: 0.729602\n",
      "[2600]\tvalid_0's binary_logloss: 0.583522\tvalid_0's auc: 0.729838\n",
      "[2800]\tvalid_0's binary_logloss: 0.583318\tvalid_0's auc: 0.730072\n",
      "[3000]\tvalid_0's binary_logloss: 0.583151\tvalid_0's auc: 0.730263\n",
      "[3200]\tvalid_0's binary_logloss: 0.582997\tvalid_0's auc: 0.73044\n",
      "[3400]\tvalid_0's binary_logloss: 0.58287\tvalid_0's auc: 0.730578\n",
      "[3600]\tvalid_0's binary_logloss: 0.58276\tvalid_0's auc: 0.730661\n",
      "[3800]\tvalid_0's binary_logloss: 0.582659\tvalid_0's auc: 0.73076\n",
      "[4000]\tvalid_0's binary_logloss: 0.582565\tvalid_0's auc: 0.73086\n",
      "[4200]\tvalid_0's binary_logloss: 0.582431\tvalid_0's auc: 0.730998\n",
      "Early stopping, best iteration is:\n",
      "[4145]\tvalid_0's binary_logloss: 0.582439\tvalid_0's auc: 0.731005\n",
      "predicting\n",
      "Fold 9\n",
      "\n",
      "fitting\n",
      "Training until validation scores don't improve for 100 rounds.\n",
      "[200]\tvalid_0's binary_logloss: 0.603979\tvalid_0's auc: 0.708139\n",
      "[400]\tvalid_0's binary_logloss: 0.59373\tvalid_0's auc: 0.718647\n",
      "[600]\tvalid_0's binary_logloss: 0.589138\tvalid_0's auc: 0.723735\n",
      "[800]\tvalid_0's binary_logloss: 0.586774\tvalid_0's auc: 0.726461\n",
      "[1000]\tvalid_0's binary_logloss: 0.585742\tvalid_0's auc: 0.727614\n",
      "[1200]\tvalid_0's binary_logloss: 0.585132\tvalid_0's auc: 0.728309\n",
      "[1400]\tvalid_0's binary_logloss: 0.584748\tvalid_0's auc: 0.728754\n",
      "[1600]\tvalid_0's binary_logloss: 0.58445\tvalid_0's auc: 0.729093\n",
      "[1800]\tvalid_0's binary_logloss: 0.584191\tvalid_0's auc: 0.729371\n",
      "[2000]\tvalid_0's binary_logloss: 0.583987\tvalid_0's auc: 0.729571\n",
      "[2200]\tvalid_0's binary_logloss: 0.583815\tvalid_0's auc: 0.729744\n",
      "[2400]\tvalid_0's binary_logloss: 0.583642\tvalid_0's auc: 0.729957\n",
      "[2600]\tvalid_0's binary_logloss: 0.583527\tvalid_0's auc: 0.730078\n",
      "[2800]\tvalid_0's binary_logloss: 0.58342\tvalid_0's auc: 0.73018\n",
      "[3000]\tvalid_0's binary_logloss: 0.58328\tvalid_0's auc: 0.730324\n",
      "[3200]\tvalid_0's binary_logloss: 0.58318\tvalid_0's auc: 0.73042\n",
      "[3400]\tvalid_0's binary_logloss: 0.58305\tvalid_0's auc: 0.73056\n",
      "[3600]\tvalid_0's binary_logloss: 0.58299\tvalid_0's auc: 0.730589\n",
      "[3800]\tvalid_0's binary_logloss: 0.582895\tvalid_0's auc: 0.730674\n",
      "[4000]\tvalid_0's binary_logloss: 0.582778\tvalid_0's auc: 0.730789\n",
      "Early stopping, best iteration is:\n",
      "[4074]\tvalid_0's binary_logloss: 0.582716\tvalid_0's auc: 0.730864\n",
      "predicting\n",
      "Fold 10\n",
      "\n",
      "fitting\n",
      "Training until validation scores don't improve for 100 rounds.\n",
      "[200]\tvalid_0's binary_logloss: 0.604173\tvalid_0's auc: 0.707389\n",
      "[400]\tvalid_0's binary_logloss: 0.594313\tvalid_0's auc: 0.717054\n",
      "[600]\tvalid_0's binary_logloss: 0.589709\tvalid_0's auc: 0.72261\n",
      "[800]\tvalid_0's binary_logloss: 0.587261\tvalid_0's auc: 0.725594\n",
      "[1000]\tvalid_0's binary_logloss: 0.586063\tvalid_0's auc: 0.727052\n",
      "[1200]\tvalid_0's binary_logloss: 0.585441\tvalid_0's auc: 0.727778\n",
      "[1400]\tvalid_0's binary_logloss: 0.584984\tvalid_0's auc: 0.728319\n",
      "[1600]\tvalid_0's binary_logloss: 0.584662\tvalid_0's auc: 0.728679\n",
      "[1800]\tvalid_0's binary_logloss: 0.58439\tvalid_0's auc: 0.728984\n",
      "[2000]\tvalid_0's binary_logloss: 0.584137\tvalid_0's auc: 0.729287\n",
      "[2200]\tvalid_0's binary_logloss: 0.583926\tvalid_0's auc: 0.729501\n",
      "[2400]\tvalid_0's binary_logloss: 0.583737\tvalid_0's auc: 0.729693\n",
      "[2600]\tvalid_0's binary_logloss: 0.583558\tvalid_0's auc: 0.729911\n",
      "[2800]\tvalid_0's binary_logloss: 0.583398\tvalid_0's auc: 0.730106\n",
      "[3000]\tvalid_0's binary_logloss: 0.58325\tvalid_0's auc: 0.730249\n",
      "[3200]\tvalid_0's binary_logloss: 0.58312\tvalid_0's auc: 0.730384\n",
      "[3400]\tvalid_0's binary_logloss: 0.58296\tvalid_0's auc: 0.730548\n",
      "[3600]\tvalid_0's binary_logloss: 0.582796\tvalid_0's auc: 0.730721\n",
      "[3800]\tvalid_0's binary_logloss: 0.582656\tvalid_0's auc: 0.730892\n",
      "[4000]\tvalid_0's binary_logloss: 0.582516\tvalid_0's auc: 0.731043\n",
      "[4200]\tvalid_0's binary_logloss: 0.582405\tvalid_0's auc: 0.73115\n",
      "[4400]\tvalid_0's binary_logloss: 0.582332\tvalid_0's auc: 0.731214\n",
      "[4600]\tvalid_0's binary_logloss: 0.582212\tvalid_0's auc: 0.731339\n",
      "[4800]\tvalid_0's binary_logloss: 0.582109\tvalid_0's auc: 0.73147\n",
      "[5000]\tvalid_0's binary_logloss: 0.581996\tvalid_0's auc: 0.731601\n",
      "[5200]\tvalid_0's binary_logloss: 0.581902\tvalid_0's auc: 0.731707\n",
      "[5400]\tvalid_0's binary_logloss: 0.581803\tvalid_0's auc: 0.731814\n",
      "[5600]\tvalid_0's binary_logloss: 0.581736\tvalid_0's auc: 0.731892\n",
      "Early stopping, best iteration is:\n",
      "[5524]\tvalid_0's binary_logloss: 0.58174\tvalid_0's auc: 0.731895\n",
      "predicting\n"
     ]
    }
   ],
   "source": [
    "print('\\nLightGBM\\n')\n",
    "\n",
    "for train_index, test_index in skf.split(train_ids, y_train):\n",
    "    \n",
    "    print('Fold {}\\n'.format(counter + 1))\n",
    "    \n",
    "    X_fit = vstack([train[train_index[i*m:(i+1)*m]] for i in range(train_index.shape[0] // m + 1)])\n",
    "    X_val = vstack([train[test_index[i*m:(i+1)*m]]  for i in range(test_index.shape[0] //  m + 1)])\n",
    "    X_fit, X_val = csr_matrix(X_fit, dtype='float32'), csr_matrix(X_val, dtype='float32')\n",
    "    y_fit, y_val = y_train[train_index], y_train[test_index]\n",
    "    \n",
    "    gc.collect()\n",
    "\n",
    "    lgb_model = lgb.LGBMClassifier(max_depth=-1,\n",
    "                                   n_estimators=100000,\n",
    "                                   learning_rate=0.01,\n",
    "                                   num_leaves=2**5-1,\n",
    "                                   objective='binary', \n",
    "                                   boosting_type='gbdt',\n",
    "                                   # overfitting handling\n",
    "                                   # max_bin=120,\n",
    "                                   # lambda_l1=6,\n",
    "                                   # lambda_l2=2,\n",
    "                                   save_binary=True,\n",
    "                                   feature_fraction=0.8,\n",
    "                                   feature_fraction_seed=42,\n",
    "                                   n_jobs=-1)\n",
    "    \n",
    "    print(\"fitting\")\n",
    "    lgb_model.fit(X_fit, y_fit, eval_metric='auc', \n",
    "                  eval_set=[(X_val, y_val)], \n",
    "                  verbose=200, early_stopping_rounds=100)\n",
    "    \n",
    "    del X_fit, X_val, y_fit, y_val, train_index, test_index\n",
    "    gc.collect()\n",
    "    \n",
    "    print(\"predicting\")\n",
    "    lgb_test_result += lgb_model.predict_proba(test)[:,1]\n",
    "    counter += 1\n",
    "    \n",
    "    gc.collect()"
   ]
  },
  {
   "cell_type": "code",
   "execution_count": 363,
   "metadata": {
    "ExecuteTime": {
     "end_time": "2019-03-08T18:43:25.373674Z",
     "start_time": "2019-03-08T18:43:22.920233Z"
    }
   },
   "outputs": [],
   "source": [
    "t = data[data.HasDetections.isna()]"
   ]
  },
  {
   "cell_type": "code",
   "execution_count": 364,
   "metadata": {
    "ExecuteTime": {
     "end_time": "2019-03-08T18:43:32.716431Z",
     "start_time": "2019-03-08T18:43:31.335083Z"
    }
   },
   "outputs": [],
   "source": [
    "t = t.reset_index(drop=True)"
   ]
  },
  {
   "cell_type": "code",
   "execution_count": 365,
   "metadata": {
    "ExecuteTime": {
     "end_time": "2019-03-08T18:43:34.154759Z",
     "start_time": "2019-03-08T18:43:33.353770Z"
    }
   },
   "outputs": [],
   "source": [
    "t = t[(t.Date_YMD >= '2016-06-02') & (t.Date_YMD <= '2018-03-24') & (t.Date_YMD != '2018-03-01') & (t.Date_YMD != '2017-02-22') & (t.Date_YMD != '2017-08-24')]"
   ]
  },
  {
   "cell_type": "code",
   "execution_count": 368,
   "metadata": {
    "ExecuteTime": {
     "end_time": "2019-03-08T18:43:49.312045Z",
     "start_time": "2019-03-08T18:43:49.306061Z"
    }
   },
   "outputs": [],
   "source": [
    "idx_4 = t.index"
   ]
  },
  {
   "cell_type": "code",
   "execution_count": 371,
   "metadata": {
    "ExecuteTime": {
     "end_time": "2019-03-08T18:44:56.285092Z",
     "start_time": "2019-03-08T18:44:55.448297Z"
    }
   },
   "outputs": [],
   "source": [
    "data = pd.read_csv('./data_temp/outlier_split.csv')"
   ]
  },
  {
   "cell_type": "code",
   "execution_count": 381,
   "metadata": {
    "ExecuteTime": {
     "end_time": "2019-03-08T18:46:07.316867Z",
     "start_time": "2019-03-08T18:46:07.296922Z"
    }
   },
   "outputs": [
    {
     "data": {
      "text/plain": [
       "array([0.29278682, 0.32002471, 0.31088769, ..., 0.41186347, 0.14429379,\n",
       "       0.78599876])"
      ]
     },
     "execution_count": 381,
     "metadata": {},
     "output_type": "execute_result"
    }
   ],
   "source": [
    "lgb_test_result/10"
   ]
  },
  {
   "cell_type": "code",
   "execution_count": 382,
   "metadata": {
    "ExecuteTime": {
     "end_time": "2019-03-08T18:46:15.785543Z",
     "start_time": "2019-03-08T18:46:15.764641Z"
    }
   },
   "outputs": [],
   "source": [
    "root[idx_4] = lgb_test_result/10"
   ]
  },
  {
   "cell_type": "code",
   "execution_count": 386,
   "metadata": {
    "ExecuteTime": {
     "end_time": "2019-03-08T18:46:57.020386Z",
     "start_time": "2019-03-08T18:46:46.359749Z"
    }
   },
   "outputs": [],
   "source": [
    "pd.DataFrame(root).to_csv('./data_temp/outlier_split.csv', index=False)"
   ]
  },
  {
   "cell_type": "markdown",
   "metadata": {},
   "source": [
    "## 그 외"
   ]
  },
  {
   "cell_type": "code",
   "execution_count": 67,
   "metadata": {
    "ExecuteTime": {
     "end_time": "2019-03-10T02:48:49.277332Z",
     "start_time": "2019-03-10T02:48:43.894311Z"
    }
   },
   "outputs": [],
   "source": [
    "temp = data[(data.Date_YMD >= '2018-07-25') & (data.Date_YMD <= '2018-09-24')]\n",
    "temp.drop(['Date'], inplace=True, axis=1)"
   ]
  },
  {
   "cell_type": "code",
   "execution_count": 68,
   "metadata": {
    "ExecuteTime": {
     "end_time": "2019-03-10T02:48:51.757062Z",
     "start_time": "2019-03-10T02:48:49.279292Z"
    }
   },
   "outputs": [],
   "source": [
    "train = temp[~temp.HasDetections.isna()]\n",
    "test = temp[temp.HasDetections.isna()]"
   ]
  },
  {
   "cell_type": "code",
   "execution_count": 69,
   "metadata": {
    "ExecuteTime": {
     "end_time": "2019-03-10T02:48:51.769681Z",
     "start_time": "2019-03-10T02:48:51.758710Z"
    }
   },
   "outputs": [],
   "source": [
    "train.reset_index(drop=True, inplace=True)\n",
    "test.reset_index(drop=True, inplace=True)"
   ]
  },
  {
   "cell_type": "code",
   "execution_count": 10,
   "metadata": {
    "ExecuteTime": {
     "end_time": "2019-03-09T23:40:29.640497Z",
     "start_time": "2019-03-09T23:40:29.634515Z"
    }
   },
   "outputs": [
    {
     "data": {
      "text/plain": [
       "(7332401, 84)"
      ]
     },
     "execution_count": 10,
     "metadata": {},
     "output_type": "execute_result"
    }
   ],
   "source": [
    "train.shape"
   ]
  },
  {
   "cell_type": "code",
   "execution_count": 11,
   "metadata": {
    "ExecuteTime": {
     "end_time": "2019-03-09T23:40:29.645485Z",
     "start_time": "2019-03-09T23:40:29.641493Z"
    }
   },
   "outputs": [
    {
     "data": {
      "text/plain": [
       "(483279, 84)"
      ]
     },
     "execution_count": 11,
     "metadata": {},
     "output_type": "execute_result"
    }
   ],
   "source": [
    "test.shape"
   ]
  },
  {
   "cell_type": "code",
   "execution_count": 23,
   "metadata": {
    "ExecuteTime": {
     "end_time": "2019-03-09T23:44:44.989671Z",
     "start_time": "2019-03-09T23:44:44.842861Z"
    }
   },
   "outputs": [],
   "source": [
    "train['Score'] = train.Date_YMD\n",
    "test['Score'] = test.Date_YMD"
   ]
  },
  {
   "cell_type": "code",
   "execution_count": 27,
   "metadata": {
    "ExecuteTime": {
     "end_time": "2019-03-09T23:45:37.670162Z",
     "start_time": "2019-03-09T23:45:37.055326Z"
    }
   },
   "outputs": [],
   "source": [
    "train.Score = train.Score.map(train.groupby(['Date_YMD']).HasDetections.mean())\n",
    "test.Score = test.Score.map(train.groupby(['Date_YMD']).HasDetections.mean())"
   ]
  },
  {
   "cell_type": "code",
   "execution_count": 31,
   "metadata": {
    "ExecuteTime": {
     "end_time": "2019-03-09T23:46:24.917597Z",
     "start_time": "2019-03-09T23:46:23.640050Z"
    }
   },
   "outputs": [
    {
     "data": {
      "text/plain": [
       "14"
      ]
     },
     "execution_count": 31,
     "metadata": {},
     "output_type": "execute_result"
    }
   ],
   "source": [
    "del temp, data\n",
    "gc.collect()"
   ]
  },
  {
   "cell_type": "code",
   "execution_count": 33,
   "metadata": {
    "ExecuteTime": {
     "end_time": "2019-03-09T23:54:01.564597Z",
     "start_time": "2019-03-09T23:47:02.025939Z"
    },
    "scrolled": false
   },
   "outputs": [
    {
     "name": "stdout",
     "output_type": "stream",
     "text": [
      "Transform all features to category.\n",
      "\n"
     ]
    },
    {
     "data": {
      "application/vnd.jupyter.widget-view+json": {
       "model_id": "9813b6b6751e46609c265ff9e81c547e",
       "version_major": 2,
       "version_minor": 0
      },
      "text/plain": [
       "HBox(children=(IntProgress(value=0, max=82), HTML(value='')))"
      ]
     },
     "metadata": {},
     "output_type": "display_data"
    },
    {
     "name": "stdout",
     "output_type": "stream",
     "text": [
      "\n"
     ]
    }
   ],
   "source": [
    "print('Transform all features to category.\\n')\n",
    "for usecol in tqdm_notebook([col for col in train.columns if col not in ['HasDetections', 'MachineIdentifier', 'Score']]):\n",
    "\n",
    "    train[usecol] = train[usecol].astype('str')\n",
    "    test[usecol] = test[usecol].astype('str')\n",
    "    \n",
    "    #Fit LabelEncoder\n",
    "    le = LabelEncoder().fit(\n",
    "            np.unique(train[usecol].unique().tolist()+\n",
    "                      test[usecol].unique().tolist()))\n",
    "\n",
    "    #At the end 0 will be used for dropped values\n",
    "    train[usecol] = le.transform(train[usecol])+1\n",
    "    test[usecol]  = le.transform(test[usecol])+1\n",
    "\n",
    "    agg_tr = (train\n",
    "              .groupby([usecol])\n",
    "              .aggregate({'MachineIdentifier':'count'})\n",
    "              .reset_index()\n",
    "              .rename({'MachineIdentifier':'Train'}, axis=1))\n",
    "    \n",
    "    agg_te = (test\n",
    "              .groupby([usecol])\n",
    "              .aggregate({'MachineIdentifier':'count'})\n",
    "              .reset_index()\n",
    "              .rename({'MachineIdentifier':'Test'}, axis=1))\n",
    "\n",
    "    agg = pd.merge(agg_tr, agg_te, on=usecol, how='outer').replace(np.nan, 0)\n",
    "\n",
    "    #Select values with more than 1000 observations\n",
    "    agg = agg[(agg['Train'] > 1000)].reset_index(drop=True)\n",
    "    agg['Total'] = agg['Train'] / 12 + agg['Test']\n",
    "    #Drop unbalanced values\n",
    "    agg = agg[(agg['Train'] / (agg['Total'] * 12) > 0.2) & (agg['Train'] / (agg['Total'] * 12) < 0.8)]\n",
    "    agg[usecol+'Copy'] = agg[usecol]\n",
    "        \n",
    "    train[usecol] = (pd.merge(train[[usecol]], \n",
    "                              agg[[usecol, usecol+'Copy']], \n",
    "                              on=usecol, how='left')[usecol+'Copy']\n",
    "                     .replace(np.nan, 0).astype('int').astype('category'))\n",
    "\n",
    "    test[usecol]  = (pd.merge(test[[usecol]], \n",
    "                              agg[[usecol, usecol+'Copy']], \n",
    "                              on=usecol, how='left')[usecol+'Copy']\n",
    "                     .replace(np.nan, 0).astype('int').astype('category'))\n",
    "\n",
    "    del le, agg_tr, agg_te, agg, usecol\n",
    "    gc.collect()"
   ]
  },
  {
   "cell_type": "code",
   "execution_count": 35,
   "metadata": {
    "ExecuteTime": {
     "end_time": "2019-03-09T23:54:14.164522Z",
     "start_time": "2019-03-09T23:54:14.160534Z"
    }
   },
   "outputs": [
    {
     "data": {
      "text/plain": [
       "(7332401, 85)"
      ]
     },
     "execution_count": 35,
     "metadata": {},
     "output_type": "execute_result"
    }
   ],
   "source": [
    "train.shape"
   ]
  },
  {
   "cell_type": "code",
   "execution_count": 36,
   "metadata": {
    "ExecuteTime": {
     "end_time": "2019-03-09T23:54:14.675769Z",
     "start_time": "2019-03-09T23:54:14.641861Z"
    }
   },
   "outputs": [],
   "source": [
    "y_train = np.array(train['HasDetections'])\n",
    "train_ids = train.index\n",
    "test_ids  = test.index"
   ]
  },
  {
   "cell_type": "code",
   "execution_count": 37,
   "metadata": {
    "ExecuteTime": {
     "end_time": "2019-03-09T23:54:19.036513Z",
     "start_time": "2019-03-09T23:54:18.952767Z"
    }
   },
   "outputs": [
    {
     "data": {
      "text/plain": [
       "14"
      ]
     },
     "execution_count": 37,
     "metadata": {},
     "output_type": "execute_result"
    }
   ],
   "source": [
    "del train['HasDetections'], train['MachineIdentifier'], test['MachineIdentifier'], test['HasDetections']\n",
    "gc.collect()"
   ]
  },
  {
   "cell_type": "code",
   "execution_count": 38,
   "metadata": {
    "ExecuteTime": {
     "end_time": "2019-03-09T23:54:19.970830Z",
     "start_time": "2019-03-09T23:54:19.958902Z"
    }
   },
   "outputs": [
    {
     "name": "stdout",
     "output_type": "stream",
     "text": [
      "If you don't want use Sparse Matrix choose Kernel Version 2 to get simple solution.\n",
      "\n",
      "--------------------------------------------------------------------------------------------------------\n",
      "Transform Data to Sparse Matrix.\n",
      "Sparse Matrix can be used to fit a lot of models, eg. XGBoost, LightGBM, Random Forest, K-Means and etc.\n",
      "To concatenate Sparse Matrices by column use hstack()\n",
      "Read more about Sparse Matrix https://docs.scipy.org/doc/scipy/reference/sparse.html\n",
      "Good Luck!\n",
      "--------------------------------------------------------------------------------------------------------\n"
     ]
    }
   ],
   "source": [
    "print(\"If you don't want use Sparse Matrix choose Kernel Version 2 to get simple solution.\\n\")\n",
    "\n",
    "print('--------------------------------------------------------------------------------------------------------')\n",
    "print('Transform Data to Sparse Matrix.')\n",
    "print('Sparse Matrix can be used to fit a lot of models, eg. XGBoost, LightGBM, Random Forest, K-Means and etc.')\n",
    "print('To concatenate Sparse Matrices by column use hstack()')\n",
    "print('Read more about Sparse Matrix https://docs.scipy.org/doc/scipy/reference/sparse.html')\n",
    "print('Good Luck!')\n",
    "print('--------------------------------------------------------------------------------------------------------')\n"
   ]
  },
  {
   "cell_type": "code",
   "execution_count": 17,
   "metadata": {
    "ExecuteTime": {
     "end_time": "2019-03-09T17:52:50.518935Z",
     "start_time": "2019-03-09T17:51:57.109865Z"
    }
   },
   "outputs": [],
   "source": [
    "#Fit OneHotEncoder\n",
    "ohe = OneHotEncoder(categories='auto', sparse=True, dtype='uint8').fit(train.append(test))"
   ]
  },
  {
   "cell_type": "code",
   "execution_count": 41,
   "metadata": {
    "ExecuteTime": {
     "end_time": "2019-03-09T23:55:51.045161Z",
     "start_time": "2019-03-09T23:55:51.031236Z"
    }
   },
   "outputs": [],
   "source": [
    "# categorical features\n",
    "cat_features = train.dtypes[(train.dtypes == 'category')].index.tolist()"
   ]
  },
  {
   "cell_type": "code",
   "execution_count": 45,
   "metadata": {
    "ExecuteTime": {
     "end_time": "2019-03-10T00:00:58.864016Z",
     "start_time": "2019-03-09T23:56:08.483841Z"
    }
   },
   "outputs": [],
   "source": [
    "ct = ColumnTransformer([('categorical', OneHotEncoder(categories='auto', sparse=True), cat_features),\n",
    "                        ('numerical', 'passthrough', ['Score'])],\n",
    "                       sparse_threshold=1).fit(train.append(test))"
   ]
  },
  {
   "cell_type": "code",
   "execution_count": 46,
   "metadata": {
    "ExecuteTime": {
     "end_time": "2019-03-10T00:17:49.548893Z",
     "start_time": "2019-03-10T00:15:41.476600Z"
    }
   },
   "outputs": [],
   "source": [
    "#Transform data using small groups to reduce memory usage\n",
    "m = 100000\n",
    "train = vstack([ct.transform(train[i*m:(i+1)*m]) for i in range(train.shape[0] // m + 1)])\n",
    "test  = vstack([ct.transform(test[i*m:(i+1)*m])  for i in range(test.shape[0] // m +  1)])"
   ]
  },
  {
   "cell_type": "code",
   "execution_count": 18,
   "metadata": {
    "ExecuteTime": {
     "end_time": "2019-03-09T17:55:26.415740Z",
     "start_time": "2019-03-09T17:52:50.521928Z"
    }
   },
   "outputs": [],
   "source": [
    "#Transform data using small groups to reduce memory usage\n",
    "m = 100000\n",
    "train = vstack([ohe.transform(train[i*m:(i+1)*m]) for i in range(train.shape[0] // m + 1)])\n",
    "test  = vstack([ohe.transform(test[i*m:(i+1)*m])  for i in range(test.shape[0] // m +  1)])"
   ]
  },
  {
   "cell_type": "code",
   "execution_count": 47,
   "metadata": {
    "ExecuteTime": {
     "end_time": "2019-03-10T00:17:49.588764Z",
     "start_time": "2019-03-10T00:17:49.555815Z"
    }
   },
   "outputs": [
    {
     "data": {
      "text/plain": [
       "(7332401, 7251)"
      ]
     },
     "execution_count": 47,
     "metadata": {},
     "output_type": "execute_result"
    }
   ],
   "source": [
    "train.shape"
   ]
  },
  {
   "cell_type": "code",
   "execution_count": 48,
   "metadata": {
    "ExecuteTime": {
     "end_time": "2019-03-10T00:19:28.460630Z",
     "start_time": "2019-03-10T00:17:49.590758Z"
    }
   },
   "outputs": [],
   "source": [
    "save_npz('./data_temp/train.npz', train, compressed=True)\n",
    "save_npz('./data_temp/test.npz',  test,  compressed=True)"
   ]
  },
  {
   "cell_type": "code",
   "execution_count": 50,
   "metadata": {
    "ExecuteTime": {
     "end_time": "2019-03-10T00:19:58.758296Z",
     "start_time": "2019-03-10T00:19:57.805992Z"
    }
   },
   "outputs": [
    {
     "data": {
      "text/plain": [
       "225"
      ]
     },
     "execution_count": 50,
     "metadata": {},
     "output_type": "execute_result"
    }
   ],
   "source": [
    "del ct, train, test\n",
    "gc.collect()"
   ]
  },
  {
   "cell_type": "code",
   "execution_count": 51,
   "metadata": {
    "ExecuteTime": {
     "end_time": "2019-03-10T00:20:19.902681Z",
     "start_time": "2019-03-10T00:20:02.801489Z"
    }
   },
   "outputs": [],
   "source": [
    "train = load_npz('./data_temp/train.npz')\n",
    "test = load_npz('./data_temp/test.npz')\n",
    "test = csr_matrix(test, dtype='float32')"
   ]
  },
  {
   "cell_type": "code",
   "execution_count": 52,
   "metadata": {
    "ExecuteTime": {
     "end_time": "2019-03-10T00:20:19.908660Z",
     "start_time": "2019-03-10T00:20:19.904671Z"
    }
   },
   "outputs": [
    {
     "data": {
      "text/plain": [
       "(7332401, 7251)"
      ]
     },
     "execution_count": 52,
     "metadata": {},
     "output_type": "execute_result"
    }
   ],
   "source": [
    "train.shape"
   ]
  },
  {
   "cell_type": "code",
   "execution_count": 53,
   "metadata": {
    "ExecuteTime": {
     "end_time": "2019-03-10T00:20:19.914644Z",
     "start_time": "2019-03-10T00:20:19.909657Z"
    }
   },
   "outputs": [
    {
     "data": {
      "text/plain": [
       "(483279, 7251)"
      ]
     },
     "execution_count": 53,
     "metadata": {},
     "output_type": "execute_result"
    }
   ],
   "source": [
    "test.shape"
   ]
  },
  {
   "cell_type": "code",
   "execution_count": 54,
   "metadata": {
    "ExecuteTime": {
     "end_time": "2019-03-10T00:20:19.921626Z",
     "start_time": "2019-03-10T00:20:19.916639Z"
    }
   },
   "outputs": [],
   "source": [
    "skf = StratifiedKFold(n_splits=5, shuffle=True, random_state=42)\n",
    "skf.get_n_splits(train_ids, y_train)\n",
    "\n",
    "lgb_test_result  = np.zeros(test_ids.shape[0])\n",
    "lgb_train_result = np.zeros(train_ids.shape[0])\n",
    "counter = 0"
   ]
  },
  {
   "cell_type": "code",
   "execution_count": 55,
   "metadata": {
    "ExecuteTime": {
     "end_time": "2019-03-10T02:25:34.749752Z",
     "start_time": "2019-03-10T00:20:23.950819Z"
    },
    "scrolled": false
   },
   "outputs": [
    {
     "name": "stdout",
     "output_type": "stream",
     "text": [
      "\n",
      "LightGBM\n",
      "\n",
      "Fold 1\n",
      "\n",
      "fitting\n",
      "Training until validation scores don't improve for 100 rounds.\n",
      "[10]\tvalid_0's binary_logloss: 0.647815\tvalid_0's auc: 0.717196\n",
      "[20]\tvalid_0's binary_logloss: 0.626858\tvalid_0's auc: 0.719718\n",
      "[30]\tvalid_0's binary_logloss: 0.616283\tvalid_0's auc: 0.722503\n",
      "[40]\tvalid_0's binary_logloss: 0.610215\tvalid_0's auc: 0.724945\n",
      "[50]\tvalid_0's binary_logloss: 0.606542\tvalid_0's auc: 0.727115\n",
      "[60]\tvalid_0's binary_logloss: 0.603803\tvalid_0's auc: 0.729106\n",
      "[70]\tvalid_0's binary_logloss: 0.601759\tvalid_0's auc: 0.730905\n",
      "[80]\tvalid_0's binary_logloss: 0.600096\tvalid_0's auc: 0.732481\n",
      "[90]\tvalid_0's binary_logloss: 0.598849\tvalid_0's auc: 0.733765\n",
      "[100]\tvalid_0's binary_logloss: 0.597802\tvalid_0's auc: 0.73485\n",
      "[110]\tvalid_0's binary_logloss: 0.596929\tvalid_0's auc: 0.735781\n",
      "[120]\tvalid_0's binary_logloss: 0.596116\tvalid_0's auc: 0.736654\n",
      "[130]\tvalid_0's binary_logloss: 0.595478\tvalid_0's auc: 0.737347\n",
      "[140]\tvalid_0's binary_logloss: 0.594985\tvalid_0's auc: 0.737877\n",
      "[150]\tvalid_0's binary_logloss: 0.594559\tvalid_0's auc: 0.738329\n",
      "[160]\tvalid_0's binary_logloss: 0.594171\tvalid_0's auc: 0.738749\n",
      "[170]\tvalid_0's binary_logloss: 0.593815\tvalid_0's auc: 0.739129\n",
      "[180]\tvalid_0's binary_logloss: 0.593596\tvalid_0's auc: 0.73936\n",
      "[190]\tvalid_0's binary_logloss: 0.593402\tvalid_0's auc: 0.739569\n",
      "[200]\tvalid_0's binary_logloss: 0.593224\tvalid_0's auc: 0.739763\n",
      "[210]\tvalid_0's binary_logloss: 0.59314\tvalid_0's auc: 0.739845\n",
      "[220]\tvalid_0's binary_logloss: 0.593077\tvalid_0's auc: 0.739901\n",
      "[230]\tvalid_0's binary_logloss: 0.593042\tvalid_0's auc: 0.739932\n",
      "[240]\tvalid_0's binary_logloss: 0.593008\tvalid_0's auc: 0.73996\n",
      "[250]\tvalid_0's binary_logloss: 0.592989\tvalid_0's auc: 0.739965\n",
      "[260]\tvalid_0's binary_logloss: 0.592986\tvalid_0's auc: 0.739955\n",
      "[270]\tvalid_0's binary_logloss: 0.59297\tvalid_0's auc: 0.73996\n",
      "[280]\tvalid_0's binary_logloss: 0.592972\tvalid_0's auc: 0.739948\n",
      "[290]\tvalid_0's binary_logloss: 0.592954\tvalid_0's auc: 0.739957\n",
      "[300]\tvalid_0's binary_logloss: 0.59294\tvalid_0's auc: 0.739966\n",
      "[310]\tvalid_0's binary_logloss: 0.59295\tvalid_0's auc: 0.739949\n",
      "[320]\tvalid_0's binary_logloss: 0.592974\tvalid_0's auc: 0.739918\n",
      "[330]\tvalid_0's binary_logloss: 0.592968\tvalid_0's auc: 0.739921\n",
      "[340]\tvalid_0's binary_logloss: 0.592993\tvalid_0's auc: 0.739891\n",
      "[350]\tvalid_0's binary_logloss: 0.593002\tvalid_0's auc: 0.739879\n",
      "[360]\tvalid_0's binary_logloss: 0.593014\tvalid_0's auc: 0.739863\n",
      "[370]\tvalid_0's binary_logloss: 0.593008\tvalid_0's auc: 0.739861\n",
      "[380]\tvalid_0's binary_logloss: 0.593019\tvalid_0's auc: 0.739843\n",
      "[390]\tvalid_0's binary_logloss: 0.593052\tvalid_0's auc: 0.739795\n",
      "Early stopping, best iteration is:\n",
      "[294]\tvalid_0's binary_logloss: 0.592939\tvalid_0's auc: 0.739974\n",
      "predicting\n",
      "Fold 2\n",
      "\n",
      "fitting\n",
      "Training until validation scores don't improve for 100 rounds.\n",
      "[10]\tvalid_0's binary_logloss: 0.647012\tvalid_0's auc: 0.715235\n",
      "[20]\tvalid_0's binary_logloss: 0.626861\tvalid_0's auc: 0.7193\n",
      "[30]\tvalid_0's binary_logloss: 0.616301\tvalid_0's auc: 0.722371\n",
      "[40]\tvalid_0's binary_logloss: 0.610331\tvalid_0's auc: 0.724619\n",
      "[50]\tvalid_0's binary_logloss: 0.606559\tvalid_0's auc: 0.726851\n",
      "[60]\tvalid_0's binary_logloss: 0.603899\tvalid_0's auc: 0.728894\n",
      "[70]\tvalid_0's binary_logloss: 0.601904\tvalid_0's auc: 0.730657\n",
      "[80]\tvalid_0's binary_logloss: 0.60035\tvalid_0's auc: 0.732166\n",
      "[90]\tvalid_0's binary_logloss: 0.599107\tvalid_0's auc: 0.733416\n",
      "[100]\tvalid_0's binary_logloss: 0.597964\tvalid_0's auc: 0.734624\n",
      "[110]\tvalid_0's binary_logloss: 0.597099\tvalid_0's auc: 0.735548\n",
      "[120]\tvalid_0's binary_logloss: 0.596313\tvalid_0's auc: 0.736404\n",
      "[130]\tvalid_0's binary_logloss: 0.595717\tvalid_0's auc: 0.737046\n",
      "[140]\tvalid_0's binary_logloss: 0.595156\tvalid_0's auc: 0.737652\n",
      "[150]\tvalid_0's binary_logloss: 0.594722\tvalid_0's auc: 0.738112\n",
      "[160]\tvalid_0's binary_logloss: 0.594383\tvalid_0's auc: 0.738471\n",
      "[170]\tvalid_0's binary_logloss: 0.594076\tvalid_0's auc: 0.738807\n",
      "[180]\tvalid_0's binary_logloss: 0.593842\tvalid_0's auc: 0.73905\n",
      "[190]\tvalid_0's binary_logloss: 0.593657\tvalid_0's auc: 0.739239\n",
      "[200]\tvalid_0's binary_logloss: 0.593518\tvalid_0's auc: 0.739377\n",
      "[210]\tvalid_0's binary_logloss: 0.593418\tvalid_0's auc: 0.739474\n",
      "[220]\tvalid_0's binary_logloss: 0.593368\tvalid_0's auc: 0.739516\n",
      "[230]\tvalid_0's binary_logloss: 0.593354\tvalid_0's auc: 0.739518\n",
      "[240]\tvalid_0's binary_logloss: 0.593339\tvalid_0's auc: 0.739518\n",
      "[250]\tvalid_0's binary_logloss: 0.593327\tvalid_0's auc: 0.739517\n",
      "[260]\tvalid_0's binary_logloss: 0.593297\tvalid_0's auc: 0.73954\n",
      "[270]\tvalid_0's binary_logloss: 0.593297\tvalid_0's auc: 0.739531\n",
      "[280]\tvalid_0's binary_logloss: 0.593315\tvalid_0's auc: 0.739497\n",
      "[290]\tvalid_0's binary_logloss: 0.593308\tvalid_0's auc: 0.739494\n",
      "[300]\tvalid_0's binary_logloss: 0.593313\tvalid_0's auc: 0.739484\n",
      "[310]\tvalid_0's binary_logloss: 0.593323\tvalid_0's auc: 0.739461\n",
      "[320]\tvalid_0's binary_logloss: 0.59335\tvalid_0's auc: 0.739419\n",
      "[330]\tvalid_0's binary_logloss: 0.593364\tvalid_0's auc: 0.739393\n",
      "[340]\tvalid_0's binary_logloss: 0.593387\tvalid_0's auc: 0.739361\n",
      "[350]\tvalid_0's binary_logloss: 0.593398\tvalid_0's auc: 0.739348\n",
      "Early stopping, best iteration is:\n",
      "[256]\tvalid_0's binary_logloss: 0.593292\tvalid_0's auc: 0.739552\n",
      "predicting\n",
      "Fold 3\n",
      "\n",
      "fitting\n",
      "Training until validation scores don't improve for 100 rounds.\n",
      "[10]\tvalid_0's binary_logloss: 0.646955\tvalid_0's auc: 0.716797\n",
      "[20]\tvalid_0's binary_logloss: 0.627113\tvalid_0's auc: 0.719755\n",
      "[30]\tvalid_0's binary_logloss: 0.616382\tvalid_0's auc: 0.722352\n",
      "[40]\tvalid_0's binary_logloss: 0.610386\tvalid_0's auc: 0.725156\n",
      "[50]\tvalid_0's binary_logloss: 0.606461\tvalid_0's auc: 0.727503\n",
      "[60]\tvalid_0's binary_logloss: 0.60378\tvalid_0's auc: 0.729512\n",
      "[70]\tvalid_0's binary_logloss: 0.601695\tvalid_0's auc: 0.731251\n",
      "[80]\tvalid_0's binary_logloss: 0.600146\tvalid_0's auc: 0.732714\n",
      "[90]\tvalid_0's binary_logloss: 0.598852\tvalid_0's auc: 0.734013\n",
      "[100]\tvalid_0's binary_logloss: 0.597821\tvalid_0's auc: 0.735056\n",
      "[110]\tvalid_0's binary_logloss: 0.596928\tvalid_0's auc: 0.735991\n",
      "[120]\tvalid_0's binary_logloss: 0.596175\tvalid_0's auc: 0.736805\n",
      "[130]\tvalid_0's binary_logloss: 0.595474\tvalid_0's auc: 0.737561\n",
      "[140]\tvalid_0's binary_logloss: 0.594915\tvalid_0's auc: 0.738153\n",
      "[150]\tvalid_0's binary_logloss: 0.594502\tvalid_0's auc: 0.738599\n",
      "[160]\tvalid_0's binary_logloss: 0.594168\tvalid_0's auc: 0.738951\n",
      "[170]\tvalid_0's binary_logloss: 0.593829\tvalid_0's auc: 0.739323\n",
      "[180]\tvalid_0's binary_logloss: 0.593592\tvalid_0's auc: 0.739579\n",
      "[190]\tvalid_0's binary_logloss: 0.593415\tvalid_0's auc: 0.739763\n",
      "[200]\tvalid_0's binary_logloss: 0.593251\tvalid_0's auc: 0.739931\n",
      "[210]\tvalid_0's binary_logloss: 0.59317\tvalid_0's auc: 0.740003\n",
      "[220]\tvalid_0's binary_logloss: 0.593119\tvalid_0's auc: 0.740048\n",
      "[230]\tvalid_0's binary_logloss: 0.593076\tvalid_0's auc: 0.74009\n",
      "[240]\tvalid_0's binary_logloss: 0.593043\tvalid_0's auc: 0.740117\n",
      "[250]\tvalid_0's binary_logloss: 0.593031\tvalid_0's auc: 0.740116\n",
      "[260]\tvalid_0's binary_logloss: 0.593012\tvalid_0's auc: 0.740123\n",
      "[270]\tvalid_0's binary_logloss: 0.59301\tvalid_0's auc: 0.740118\n",
      "[280]\tvalid_0's binary_logloss: 0.593024\tvalid_0's auc: 0.740096\n",
      "[290]\tvalid_0's binary_logloss: 0.593017\tvalid_0's auc: 0.740097\n",
      "[300]\tvalid_0's binary_logloss: 0.593026\tvalid_0's auc: 0.740076\n",
      "[310]\tvalid_0's binary_logloss: 0.593021\tvalid_0's auc: 0.740077\n",
      "[320]\tvalid_0's binary_logloss: 0.593038\tvalid_0's auc: 0.740047\n",
      "[330]\tvalid_0's binary_logloss: 0.593036\tvalid_0's auc: 0.740043\n",
      "[340]\tvalid_0's binary_logloss: 0.593052\tvalid_0's auc: 0.74001\n",
      "Early stopping, best iteration is:\n",
      "[241]\tvalid_0's binary_logloss: 0.593028\tvalid_0's auc: 0.740133\n",
      "predicting\n",
      "Fold 4\n",
      "\n",
      "fitting\n",
      "Training until validation scores don't improve for 100 rounds.\n",
      "[10]\tvalid_0's binary_logloss: 0.646759\tvalid_0's auc: 0.717013\n",
      "[20]\tvalid_0's binary_logloss: 0.626665\tvalid_0's auc: 0.721106\n",
      "[30]\tvalid_0's binary_logloss: 0.615692\tvalid_0's auc: 0.723981\n",
      "[40]\tvalid_0's binary_logloss: 0.609545\tvalid_0's auc: 0.726287\n",
      "[50]\tvalid_0's binary_logloss: 0.605705\tvalid_0's auc: 0.728549\n",
      "[60]\tvalid_0's binary_logloss: 0.603002\tvalid_0's auc: 0.730506\n",
      "[70]\tvalid_0's binary_logloss: 0.600927\tvalid_0's auc: 0.732251\n",
      "[80]\tvalid_0's binary_logloss: 0.599369\tvalid_0's auc: 0.73372\n",
      "[90]\tvalid_0's binary_logloss: 0.598072\tvalid_0's auc: 0.734983\n",
      "[100]\tvalid_0's binary_logloss: 0.597045\tvalid_0's auc: 0.736005\n",
      "[110]\tvalid_0's binary_logloss: 0.596143\tvalid_0's auc: 0.736963\n",
      "[120]\tvalid_0's binary_logloss: 0.595414\tvalid_0's auc: 0.737701\n",
      "[130]\tvalid_0's binary_logloss: 0.594701\tvalid_0's auc: 0.73847\n",
      "[140]\tvalid_0's binary_logloss: 0.594129\tvalid_0's auc: 0.739088\n",
      "[150]\tvalid_0's binary_logloss: 0.59366\tvalid_0's auc: 0.73958\n",
      "[160]\tvalid_0's binary_logloss: 0.593319\tvalid_0's auc: 0.739938\n",
      "[170]\tvalid_0's binary_logloss: 0.593004\tvalid_0's auc: 0.740268\n",
      "[180]\tvalid_0's binary_logloss: 0.592781\tvalid_0's auc: 0.740491\n",
      "[190]\tvalid_0's binary_logloss: 0.592591\tvalid_0's auc: 0.740677\n",
      "[200]\tvalid_0's binary_logloss: 0.592461\tvalid_0's auc: 0.740805\n",
      "[210]\tvalid_0's binary_logloss: 0.592377\tvalid_0's auc: 0.74089\n",
      "[220]\tvalid_0's binary_logloss: 0.592351\tvalid_0's auc: 0.740903\n",
      "[230]\tvalid_0's binary_logloss: 0.592312\tvalid_0's auc: 0.740928\n",
      "[240]\tvalid_0's binary_logloss: 0.592267\tvalid_0's auc: 0.740965\n",
      "[250]\tvalid_0's binary_logloss: 0.592243\tvalid_0's auc: 0.740985\n",
      "[260]\tvalid_0's binary_logloss: 0.592252\tvalid_0's auc: 0.740963\n",
      "[270]\tvalid_0's binary_logloss: 0.592208\tvalid_0's auc: 0.741002\n",
      "[280]\tvalid_0's binary_logloss: 0.592215\tvalid_0's auc: 0.740983\n",
      "[290]\tvalid_0's binary_logloss: 0.592206\tvalid_0's auc: 0.740985\n",
      "[300]\tvalid_0's binary_logloss: 0.592188\tvalid_0's auc: 0.741002\n",
      "[310]\tvalid_0's binary_logloss: 0.592197\tvalid_0's auc: 0.740985\n",
      "[320]\tvalid_0's binary_logloss: 0.592215\tvalid_0's auc: 0.740945\n",
      "[330]\tvalid_0's binary_logloss: 0.59224\tvalid_0's auc: 0.740907\n",
      "[340]\tvalid_0's binary_logloss: 0.592256\tvalid_0's auc: 0.740885\n",
      "[350]\tvalid_0's binary_logloss: 0.592275\tvalid_0's auc: 0.740855\n",
      "[360]\tvalid_0's binary_logloss: 0.592293\tvalid_0's auc: 0.740828\n",
      "[370]\tvalid_0's binary_logloss: 0.592321\tvalid_0's auc: 0.740797\n",
      "[380]\tvalid_0's binary_logloss: 0.592337\tvalid_0's auc: 0.740778\n",
      "[390]\tvalid_0's binary_logloss: 0.59235\tvalid_0's auc: 0.740754\n",
      "Early stopping, best iteration is:\n",
      "[296]\tvalid_0's binary_logloss: 0.592181\tvalid_0's auc: 0.741016\n",
      "predicting\n",
      "Fold 5\n",
      "\n",
      "fitting\n",
      "Training until validation scores don't improve for 100 rounds.\n",
      "[10]\tvalid_0's binary_logloss: 0.647422\tvalid_0's auc: 0.716393\n",
      "[20]\tvalid_0's binary_logloss: 0.627147\tvalid_0's auc: 0.719821\n",
      "[30]\tvalid_0's binary_logloss: 0.616315\tvalid_0's auc: 0.723062\n",
      "[40]\tvalid_0's binary_logloss: 0.610023\tvalid_0's auc: 0.725352\n",
      "[50]\tvalid_0's binary_logloss: 0.606141\tvalid_0's auc: 0.727514\n",
      "[60]\tvalid_0's binary_logloss: 0.60329\tvalid_0's auc: 0.729733\n",
      "[70]\tvalid_0's binary_logloss: 0.601334\tvalid_0's auc: 0.731393\n",
      "[80]\tvalid_0's binary_logloss: 0.599736\tvalid_0's auc: 0.732875\n",
      "[90]\tvalid_0's binary_logloss: 0.598462\tvalid_0's auc: 0.734144\n",
      "[100]\tvalid_0's binary_logloss: 0.597426\tvalid_0's auc: 0.735202\n",
      "[110]\tvalid_0's binary_logloss: 0.596583\tvalid_0's auc: 0.736056\n",
      "[120]\tvalid_0's binary_logloss: 0.595799\tvalid_0's auc: 0.736907\n",
      "[130]\tvalid_0's binary_logloss: 0.59512\tvalid_0's auc: 0.737614\n",
      "[140]\tvalid_0's binary_logloss: 0.594583\tvalid_0's auc: 0.738191\n",
      "[150]\tvalid_0's binary_logloss: 0.594147\tvalid_0's auc: 0.738668\n",
      "[160]\tvalid_0's binary_logloss: 0.593809\tvalid_0's auc: 0.739017\n",
      "[170]\tvalid_0's binary_logloss: 0.593486\tvalid_0's auc: 0.739363\n",
      "[180]\tvalid_0's binary_logloss: 0.59322\tvalid_0's auc: 0.739649\n",
      "[190]\tvalid_0's binary_logloss: 0.593034\tvalid_0's auc: 0.73985\n",
      "[200]\tvalid_0's binary_logloss: 0.592886\tvalid_0's auc: 0.739995\n",
      "[210]\tvalid_0's binary_logloss: 0.592813\tvalid_0's auc: 0.740055\n",
      "[220]\tvalid_0's binary_logloss: 0.592782\tvalid_0's auc: 0.740069\n",
      "[230]\tvalid_0's binary_logloss: 0.592721\tvalid_0's auc: 0.740131\n",
      "[240]\tvalid_0's binary_logloss: 0.592709\tvalid_0's auc: 0.740136\n",
      "[250]\tvalid_0's binary_logloss: 0.592696\tvalid_0's auc: 0.740132\n",
      "[260]\tvalid_0's binary_logloss: 0.592666\tvalid_0's auc: 0.740157\n",
      "[270]\tvalid_0's binary_logloss: 0.592645\tvalid_0's auc: 0.740177\n",
      "[280]\tvalid_0's binary_logloss: 0.592648\tvalid_0's auc: 0.740159\n",
      "[290]\tvalid_0's binary_logloss: 0.592635\tvalid_0's auc: 0.740165\n",
      "[300]\tvalid_0's binary_logloss: 0.592641\tvalid_0's auc: 0.740159\n",
      "[310]\tvalid_0's binary_logloss: 0.592614\tvalid_0's auc: 0.740183\n",
      "[320]\tvalid_0's binary_logloss: 0.592599\tvalid_0's auc: 0.740198\n",
      "[330]\tvalid_0's binary_logloss: 0.592585\tvalid_0's auc: 0.740204\n",
      "[340]\tvalid_0's binary_logloss: 0.592604\tvalid_0's auc: 0.740174\n",
      "[350]\tvalid_0's binary_logloss: 0.592626\tvalid_0's auc: 0.740144\n",
      "[360]\tvalid_0's binary_logloss: 0.592649\tvalid_0's auc: 0.740107\n",
      "[370]\tvalid_0's binary_logloss: 0.592681\tvalid_0's auc: 0.740063\n",
      "[380]\tvalid_0's binary_logloss: 0.592703\tvalid_0's auc: 0.740023\n",
      "[390]\tvalid_0's binary_logloss: 0.592733\tvalid_0's auc: 0.739977\n",
      "[400]\tvalid_0's binary_logloss: 0.592738\tvalid_0's auc: 0.739968\n",
      "[410]\tvalid_0's binary_logloss: 0.592759\tvalid_0's auc: 0.73994\n",
      "[420]\tvalid_0's binary_logloss: 0.592779\tvalid_0's auc: 0.739913\n",
      "Early stopping, best iteration is:\n",
      "[324]\tvalid_0's binary_logloss: 0.592587\tvalid_0's auc: 0.740208\n",
      "predicting\n"
     ]
    }
   ],
   "source": [
    "print('\\nLightGBM\\n')\n",
    "\n",
    "for train_index, test_index in skf.split(train_ids, y_train):\n",
    "    \n",
    "    print('Fold {}\\n'.format(counter + 1))\n",
    "    \n",
    "    X_fit = vstack([train[train_index[i*m:(i+1)*m]] for i in range(train_index.shape[0] // m + 1)])\n",
    "    X_val = vstack([train[test_index[i*m:(i+1)*m]]  for i in range(test_index.shape[0] //  m + 1)])\n",
    "    X_fit, X_val = csr_matrix(X_fit, dtype='float32'), csr_matrix(X_val, dtype='float32')\n",
    "    y_fit, y_val = y_train[train_index], y_train[test_index]\n",
    "    \n",
    "    gc.collect()\n",
    "\n",
    "    lgb_model = lgb.LGBMClassifier(max_depth=-1,\n",
    "                                   n_estimators=30000,\n",
    "                                   learning_rate=0.05,\n",
    "                                   num_leaves=2**12-1,\n",
    "                                   objective='binary', \n",
    "                                   boosting_type='gbdt',\n",
    "                                   # overfitting handling\n",
    "                                   # max_bin=120,\n",
    "                                   # lambda_l1=6,\n",
    "                                   # lambda_l2=2,\n",
    "                                   save_binary=True,\n",
    "                                   feature_fraction=0.8,\n",
    "                                   feature_fraction_seed=42,\n",
    "                                   n_jobs=-1)\n",
    "    \n",
    "    print(\"fitting\")\n",
    "    lgb_model.fit(X_fit, y_fit, eval_metric='auc', \n",
    "                  eval_set=[(X_val, y_val)], \n",
    "                  verbose=10, early_stopping_rounds=100)\n",
    "    \n",
    "    del X_fit, X_val, y_fit, y_val, train_index, test_index\n",
    "    gc.collect()\n",
    "    \n",
    "    print(\"predicting\")\n",
    "    lgb_test_result += lgb_model.predict_proba(test)[:,1]\n",
    "    counter += 1\n",
    "    \n",
    "    gc.collect()"
   ]
  },
  {
   "cell_type": "code",
   "execution_count": 32,
   "metadata": {
    "ExecuteTime": {
     "end_time": "2019-03-09T23:08:42.734405Z",
     "start_time": "2019-03-09T23:08:41.481403Z"
    }
   },
   "outputs": [],
   "source": [
    "pd.DataFrame(lgb_test_result/5).to_csv('./data_temp/real_temp.csv')"
   ]
  },
  {
   "cell_type": "code",
   "execution_count": 56,
   "metadata": {
    "ExecuteTime": {
     "end_time": "2019-03-10T02:37:34.799245Z",
     "start_time": "2019-03-10T02:37:34.366352Z"
    }
   },
   "outputs": [
    {
     "data": {
      "text/plain": [
       "<matplotlib.axes._subplots.AxesSubplot at 0x2551931c5f8>"
      ]
     },
     "execution_count": 56,
     "metadata": {},
     "output_type": "execute_result"
    },
    {
     "data": {
      "image/png": "[encoded data removed]",
      "text/plain": [
       "<Figure size 432x288 with 1 Axes>"
      ]
     },
     "metadata": {
      "needs_background": "light"
     },
     "output_type": "display_data"
    }
   ],
   "source": [
    "sns.distplot(lgb_test_result/5)"
   ]
  },
  {
   "cell_type": "code",
   "execution_count": null,
   "metadata": {},
   "outputs": [],
   "source": []
  }
 ],
 "metadata": {
  "kernelspec": {
   "display_name": "Python 3",
   "language": "python",
   "name": "python3"
  },
  "language_info": {
   "codemirror_mode": {
    "name": "ipython",
    "version": 3
   },
   "file_extension": ".py",
   "mimetype": "text/x-python",
   "name": "python",
   "nbconvert_exporter": "python",
   "pygments_lexer": "ipython3",
   "version": "3.6.7"
  },
  "toc": {
   "base_numbering": 1,
   "nav_menu": {},
   "number_sections": true,
   "sideBar": true,
   "skip_h1_title": false,
   "title_cell": "Table of Contents",
   "title_sidebar": "Contents",
   "toc_cell": false,
   "toc_position": {
    "height": "757px",
    "left": "39px",
    "top": "110px",
    "width": "601px"
   },
   "toc_section_display": true,
   "toc_window_display": true
  }
 },
 "nbformat": 4,
 "nbformat_minor": 2
}
