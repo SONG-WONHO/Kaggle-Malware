{
 "cells": [
  {
   "cell_type": "markdown",
   "metadata": {},
   "source": [
    "# Overview"
   ]
  },
  {
   "cell_type": "markdown",
   "metadata": {},
   "source": [
    "## Description"
   ]
  },
  {
   "cell_type": "markdown",
   "metadata": {},
   "source": [
    "악성코드 시장은 정통적인 보안이 노력했듯이 잘 조직되고 잘 투자받는 시장이다. 우리의 컴퓨터가 악성코드에 의해 감염되면, 범죄자들은 고객 또는 기업들을 다양한 방법으로 피해줄 수 있다. \n",
    "\n",
    "10억 이상의 고객과 기업들과 함께 MS는 이 문제를 매우 심각하게 받아들이고 있고, 보안을 향상시키기 위해 심도잇는 투자를 진행하고 있다.\n",
    "\n",
    "MS의 이러한 노력들 중 한 부분에서, 데이터 과학자들 커뮤니티에 머신이 곧 공격받을 지에 대한 예측 문제를 제기하고 있다. 이전 컴피티션과 더불어, MS는 캐글러들에게 전례없는 악성코드 데이터 셋을 제공하며 악성코드를 잘 예측하기 위한 여러 오픈소스 진영에 투자하고 있다.\n",
    "\n",
    "우리를 도와주실 수 있겠습니까?"
   ]
  },
  {
   "cell_type": "markdown",
   "metadata": {},
   "source": [
    "## Evaluation"
   ]
  },
  {
   "cell_type": "markdown",
   "metadata": {},
   "source": [
    "AUC score"
   ]
  },
  {
   "cell_type": "markdown",
   "metadata": {},
   "source": [
    "## Prizes"
   ]
  },
  {
   "cell_type": "markdown",
   "metadata": {},
   "source": [
    "* 1st: 1200만원\n",
    "* 2st: 700만원\n",
    "* 3st: 300만원\n",
    "* 4st: 200만원\n",
    "* 5st: 100만원"
   ]
  },
  {
   "cell_type": "markdown",
   "metadata": {},
   "source": [
    "## Timeline"
   ]
  },
  {
   "cell_type": "markdown",
   "metadata": {},
   "source": [
    "* March 6, 2019 - Entry deadline. You must accept the competition rules before this date in order to compete.\n",
    "* March 6, 2019 - Team Merger deadline. This is the last day participants may join or merge teams.\n",
    "* March 13, 2019 - Final submission deadline."
   ]
  },
  {
   "cell_type": "markdown",
   "metadata": {},
   "source": [
    "# Data"
   ]
  },
  {
   "cell_type": "markdown",
   "metadata": {},
   "source": [
    "## Data Description"
   ]
  },
  {
   "cell_type": "markdown",
   "metadata": {},
   "source": [
    "경쟁의 목표는 Windows 시스템의 다양한 속성에 따라 다양한 종류의 악성코드에 감염 될 가능성을 예측하는 것이다. 이러한 데이터는 윈도우 디펜터와 하트비트를 이용해 원격에서 수집됐다.\n",
    "\n",
    "이 데이터 세트의 각 행은 MachineIdentifier로 고유하게 식별된다. HasDetections는 이 머신에서 악성코드가 발견됐는 지 여부를 나타낸다. train.csv의 정보를 활용해 test.csv의 HasDetections을 예측하면 된다.\n",
    "\n",
    "이 데이터를 만드는 데 사용 된 샘플링 방법론은 사용자 개인 정보와 컴퓨터가 실행되는 기간과 고려하여 설계됐다. 악성코드 탐지는 본질적으로 시계열 문제이지만, 새 시스템, 온라인 및 오프라인 시스템, 패치를 받는 시스템, 새로운 운영 체제를 받는 시스템 등이 도입되어 데이터가 복잡해졌다. 여기서 제공된 데이터 세트는 대략적으로 시간 별로 나뉘어졌기 때문에, 위에서 언급한 복잡한 샘플링 요구 사항은 CV, 공개 및 비공개 스코어 점수가 정확하지 않음을 의미할 수 있다! 또한이 데이터 집합은 Microsoft 고객의 컴퓨터를 대표하지 않는다. 훨씬 더 많은 비율의 맬웨어 시스템을 포함하도록 샘플링됐다."
   ]
  },
  {
   "cell_type": "markdown",
   "metadata": {},
   "source": [
    "# 중요 외부 기록"
   ]
  },
  {
   "cell_type": "markdown",
   "metadata": {},
   "source": [
    "* [윈도우10 버전로그](https://support.microsoft.com/ko-kr/help/4464619)\n",
    "* [백신 정보](https://www.av-comparatives.org/surveys/it-security-survey-2019/#question11)"
   ]
  },
  {
   "cell_type": "code",
   "execution_count": null,
   "metadata": {},
   "outputs": [],
   "source": []
  }
 ],
 "metadata": {
  "kernelspec": {
   "display_name": "Python 3",
   "language": "python",
   "name": "python3"
  },
  "language_info": {
   "codemirror_mode": {
    "name": "ipython",
    "version": 3
   },
   "file_extension": ".py",
   "mimetype": "text/x-python",
   "name": "python",
   "nbconvert_exporter": "python",
   "pygments_lexer": "ipython3",
   "version": "3.6.7"
  },
  "toc": {
   "base_numbering": 1,
   "nav_menu": {},
   "number_sections": true,
   "sideBar": true,
   "skip_h1_title": false,
   "title_cell": "Table of Contents",
   "title_sidebar": "Contents",
   "toc_cell": false,
   "toc_position": {},
   "toc_section_display": true,
   "toc_window_display": false
  }
 },
 "nbformat": 4,
 "nbformat_minor": 2
}
