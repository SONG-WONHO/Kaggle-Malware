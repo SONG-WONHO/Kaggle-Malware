{
 "cells": [
  {
   "cell_type": "markdown",
   "metadata": {},
   "source": [
    "# 사전작업"
   ]
  },
  {
   "cell_type": "markdown",
   "metadata": {},
   "source": [
    "## 라이브러리 로드"
   ]
  },
  {
   "cell_type": "code",
   "execution_count": 1,
   "metadata": {
    "ExecuteTime": {
     "end_time": "2019-03-07T02:28:28.534393Z",
     "start_time": "2019-03-07T02:28:25.858633Z"
    }
   },
   "outputs": [],
   "source": [
    "import numpy as np\n",
    "import pandas as pd\n",
    "import warnings\n",
    "import gc\n",
    "from tqdm import tqdm_notebook\n",
    "import lightgbm as lgb\n",
    "from scipy.sparse import vstack, csr_matrix, save_npz, load_npz\n",
    "from sklearn.preprocessing import LabelEncoder, OneHotEncoder\n",
    "from sklearn.model_selection import StratifiedKFold\n",
    "from sklearn.compose import ColumnTransformer\n",
    "warnings.filterwarnings(\"ignore\")\n",
    "gc.enable()"
   ]
  },
  {
   "cell_type": "code",
   "execution_count": 2,
   "metadata": {
    "ExecuteTime": {
     "end_time": "2019-03-07T02:28:29.255969Z",
     "start_time": "2019-03-07T02:28:29.249064Z"
    }
   },
   "outputs": [],
   "source": [
    "pd.set_option('max_rows', 150)\n",
    "pd.set_option('max_colwidth', 500)\n",
    "pd.set_option('max_columns', 500)"
   ]
  },
  {
   "cell_type": "code",
   "execution_count": 3,
   "metadata": {
    "ExecuteTime": {
     "end_time": "2019-03-07T02:28:29.451075Z",
     "start_time": "2019-03-07T02:28:29.419091Z"
    },
    "hide_input": true
   },
   "outputs": [],
   "source": [
    "dtypes = {\n",
    "        'MachineIdentifier':                                    'object',\n",
    "        'ProductName':                                          'category',\n",
    "        'EngineVersion':                                        'category',\n",
    "        'AppVersion':                                           'category',\n",
    "        'AvSigVersion':                                         'category',\n",
    "        'IsBeta':                                               'int8',\n",
    "        'RtpStateBitfield':                                     'float16',\n",
    "        'IsSxsPassiveMode':                                     'int8',\n",
    "        'DefaultBrowsersIdentifier':                            'float16',\n",
    "        'AVProductStatesIdentifier':                            'float32',\n",
    "        'AVProductsInstalled':                                  'float16',\n",
    "        'AVProductsEnabled':                                    'float16',\n",
    "        'HasTpm':                                               'int8',\n",
    "        'CountryIdentifier':                                    'int16',\n",
    "        'CityIdentifier':                                       'float32',\n",
    "        'OrganizationIdentifier':                               'float16',\n",
    "        'GeoNameIdentifier':                                    'float16',\n",
    "        'LocaleEnglishNameIdentifier':                          'int8',\n",
    "        'Platform':                                             'category',\n",
    "        'Processor':                                            'category',\n",
    "        'OsVer':                                                'category',\n",
    "        'OsBuild':                                              'int16',\n",
    "        'OsSuite':                                              'int16',\n",
    "        'OsPlatformSubRelease':                                 'category',\n",
    "        'OsBuildLab':                                           'category',\n",
    "        'SkuEdition':                                           'category',\n",
    "        'IsProtected':                                          'float16',\n",
    "        'AutoSampleOptIn':                                      'int8',\n",
    "        'PuaMode':                                              'category',\n",
    "        'SMode':                                                'float16',\n",
    "        'IeVerIdentifier':                                      'float16',\n",
    "        'SmartScreen':                                          'category',\n",
    "        'Firewall':                                             'float16',\n",
    "        'UacLuaenable':                                         'float32',\n",
    "        'Census_MDC2FormFactor':                                'category',\n",
    "        'Census_DeviceFamily':                                  'category',\n",
    "        'Census_OEMNameIdentifier':                             'float16',\n",
    "        'Census_OEMModelIdentifier':                            'float32',\n",
    "        'Census_ProcessorCoreCount':                            'float16',\n",
    "        'Census_ProcessorManufacturerIdentifier':               'float16',\n",
    "        'Census_ProcessorModelIdentifier':                      'float16',\n",
    "        'Census_ProcessorClass':                                'category',\n",
    "        'Census_PrimaryDiskTotalCapacity':                      'float32',\n",
    "        'Census_PrimaryDiskTypeName':                           'category',\n",
    "        'Census_SystemVolumeTotalCapacity':                     'float32',\n",
    "        'Census_HasOpticalDiskDrive':                           'int8',\n",
    "        'Census_TotalPhysicalRAM':                              'float32',\n",
    "        'Census_ChassisTypeName':                               'category',\n",
    "        'Census_InternalPrimaryDiagonalDisplaySizeInInches':    'float16',\n",
    "        'Census_InternalPrimaryDisplayResolutionHorizontal':    'float16',\n",
    "        'Census_InternalPrimaryDisplayResolutionVertical':      'float16',\n",
    "        'Census_PowerPlatformRoleName':                         'category',\n",
    "        'Census_InternalBatteryType':                           'category',\n",
    "        'Census_InternalBatteryNumberOfCharges':                'float32',\n",
    "        'Census_OSVersion':                                     'category',\n",
    "        'Census_OSArchitecture':                                'category',\n",
    "        'Census_OSBranch':                                      'category',\n",
    "        'Census_OSBuildNumber':                                 'int16',\n",
    "        'Census_OSBuildRevision':                               'int32',\n",
    "        'Census_OSEdition':                                     'category',\n",
    "        'Census_OSSkuName':                                     'category',\n",
    "        'Census_OSInstallTypeName':                             'category',\n",
    "        'Census_OSInstallLanguageIdentifier':                   'float16',\n",
    "        'Census_OSUILocaleIdentifier':                          'int16',\n",
    "        'Census_OSWUAutoUpdateOptionsName':                     'category',\n",
    "        'Census_IsPortableOperatingSystem':                     'int8',\n",
    "        'Census_GenuineStateName':                              'category',\n",
    "        'Census_ActivationChannel':                             'category',\n",
    "        'Census_IsFlightingInternal':                           'float16',\n",
    "        'Census_IsFlightsDisabled':                             'float16',\n",
    "        'Census_FlightRing':                                    'category',\n",
    "        'Census_ThresholdOptIn':                                'float16',\n",
    "        'Census_FirmwareManufacturerIdentifier':                'float16',\n",
    "        'Census_FirmwareVersionIdentifier':                     'float32',\n",
    "        'Census_IsSecureBootEnabled':                           'int8',\n",
    "        'Census_IsWIMBootEnabled':                              'float16',\n",
    "        'Census_IsVirtualDevice':                               'float16',\n",
    "        'Census_IsTouchEnabled':                                'int8',\n",
    "        'Census_IsPenCapable':                                  'int8',\n",
    "        'Census_IsAlwaysOnAlwaysConnectedCapable':              'float16',\n",
    "        'Wdft_IsGamer':                                         'float16',\n",
    "        'Wdft_RegionIdentifier':                                'float16',\n",
    "        'HasDetections':                                        'int8'\n",
    "        }"
   ]
  },
  {
   "cell_type": "markdown",
   "metadata": {},
   "source": [
    "## 데이터 로드"
   ]
  },
  {
   "cell_type": "code",
   "execution_count": 4,
   "metadata": {
    "ExecuteTime": {
     "end_time": "2019-03-07T02:36:53.268522Z",
     "start_time": "2019-03-07T02:28:29.719856Z"
    },
    "scrolled": true
   },
   "outputs": [
    {
     "name": "stdout",
     "output_type": "stream",
     "text": [
      "Wall time: 8min 23s\n"
     ]
    }
   ],
   "source": [
    "%%time\n",
    "train = pd.read_csv('./data/train.csv', dtype=dtypes)\n",
    "test = pd.read_csv('./data/test.csv', dtype=dtypes)"
   ]
  },
  {
   "cell_type": "markdown",
   "metadata": {},
   "source": [
    "## train, test 합치기"
   ]
  },
  {
   "cell_type": "code",
   "execution_count": 5,
   "metadata": {
    "ExecuteTime": {
     "end_time": "2019-03-07T02:38:47.384817Z",
     "start_time": "2019-03-07T02:36:53.272328Z"
    }
   },
   "outputs": [
    {
     "data": {
      "text/plain": [
       "195006"
      ]
     },
     "execution_count": 5,
     "metadata": {},
     "output_type": "execute_result"
    }
   ],
   "source": [
    "test['HasDetections'] = np.nan\n",
    "data = train.append(test)\n",
    "data.reset_index(drop=True, inplace=True)\n",
    "data = data.reset_index().drop(['MachineIdentifier'], axis=1).rename(columns={'index':'MachineIdentifier'})\n",
    "del train, test\n",
    "gc.collect()"
   ]
  },
  {
   "cell_type": "markdown",
   "metadata": {},
   "source": [
    "## Time Scoring"
   ]
  },
  {
   "cell_type": "code",
   "execution_count": 8,
   "metadata": {
    "ExecuteTime": {
     "end_time": "2019-03-07T02:41:05.097550Z",
     "start_time": "2019-03-07T02:40:01.142496Z"
    }
   },
   "outputs": [],
   "source": [
    "datedict = np.load('./data/AvSigVersionTimestamps.npy')\n",
    "datedict = datedict[()]\n",
    "data['Date'] = data['AvSigVersion'].map(datedict)\n",
    "data['Date_YMD'] = pd.to_datetime(data['Date'].astype(str).str.slice(0, 10))\n",
    "del datedict"
   ]
  },
  {
   "cell_type": "code",
   "execution_count": 9,
   "metadata": {
    "ExecuteTime": {
     "end_time": "2019-03-07T02:41:13.201192Z",
     "start_time": "2019-03-07T02:41:05.104084Z"
    }
   },
   "outputs": [],
   "source": [
    "data['Score'] = data.AvSigVersion.map(data.groupby(['AvSigVersion']).HasDetections.mean())"
   ]
  },
  {
   "cell_type": "markdown",
   "metadata": {},
   "source": [
    "## DROP TIME RELATED FEATURE"
   ]
  },
  {
   "cell_type": "code",
   "execution_count": 10,
   "metadata": {
    "ExecuteTime": {
     "end_time": "2019-03-07T02:41:13.219829Z",
     "start_time": "2019-03-07T02:41:13.205200Z"
    }
   },
   "outputs": [],
   "source": [
    "DROP_FEATURES__ = ['EngineVersion', 'AppVersion', 'AvSigVersion', \n",
    "                   'OsVer', 'OsBuild', 'OsPlatformSubRelease', 'OsBuildLab', \n",
    "                   'IeVerIdentifier',\n",
    "                   'Census_OSVersion', 'Census_OSBranch', 'Census_OSBuildNumber', 'Census_OSBuildRevision', 'Census_FirmwareVersionIdentifier',\n",
    "                   'Date', 'Date_YMD']"
   ]
  },
  {
   "cell_type": "code",
   "execution_count": 11,
   "metadata": {
    "ExecuteTime": {
     "end_time": "2019-03-07T02:41:19.561505Z",
     "start_time": "2019-03-07T02:41:13.226535Z"
    }
   },
   "outputs": [],
   "source": [
    "data = data.drop(DROP_FEATURES__, axis=1)"
   ]
  },
  {
   "cell_type": "markdown",
   "metadata": {},
   "source": [
    "## Train, Test split"
   ]
  },
  {
   "cell_type": "code",
   "execution_count": 12,
   "metadata": {
    "ExecuteTime": {
     "end_time": "2019-03-07T02:41:29.675681Z",
     "start_time": "2019-03-07T02:41:19.566513Z"
    }
   },
   "outputs": [
    {
     "data": {
      "text/plain": [
       "45"
      ]
     },
     "execution_count": 12,
     "metadata": {},
     "output_type": "execute_result"
    }
   ],
   "source": [
    "train = data[~data.HasDetections.isna()]\n",
    "test = data[data.HasDetections.isna()]\n",
    "del data\n",
    "gc.collect()"
   ]
  },
  {
   "cell_type": "code",
   "execution_count": 13,
   "metadata": {
    "ExecuteTime": {
     "end_time": "2019-03-07T02:41:32.520446Z",
     "start_time": "2019-03-07T02:41:29.679753Z"
    }
   },
   "outputs": [],
   "source": [
    "train.MachineIdentifier = range(len(train))\n",
    "train.reset_index(drop=True, inplace=True)\n",
    "\n",
    "test.MachineIdentifier = range(len(test))\n",
    "test.reset_index(drop=True, inplace=True)"
   ]
  },
  {
   "cell_type": "code",
   "execution_count": 14,
   "metadata": {
    "ExecuteTime": {
     "end_time": "2019-03-07T02:41:32.536416Z",
     "start_time": "2019-03-07T02:41:32.524464Z"
    }
   },
   "outputs": [],
   "source": [
    "debug = False\n",
    "if debug:\n",
    "    train = train[:10000]\n",
    "    test = test[:10000]"
   ]
  },
  {
   "cell_type": "code",
   "execution_count": 15,
   "metadata": {
    "ExecuteTime": {
     "end_time": "2019-03-07T03:09:36.997432Z",
     "start_time": "2019-03-07T02:41:32.539289Z"
    }
   },
   "outputs": [
    {
     "name": "stdout",
     "output_type": "stream",
     "text": [
      "Transform all features to category.\n",
      "\n"
     ]
    },
    {
     "data": {
      "application/vnd.jupyter.widget-view+json": {
       "model_id": "4f0d58a180524711a2506e592f5a8bc2",
       "version_major": 2,
       "version_minor": 0
      },
      "text/plain": [
       "HBox(children=(IntProgress(value=0, max=68), HTML(value='')))"
      ]
     },
     "metadata": {},
     "output_type": "display_data"
    },
    {
     "name": "stdout",
     "output_type": "stream",
     "text": [
      "\n"
     ]
    }
   ],
   "source": [
    "print('Transform all features to category.\\n')\n",
    "for usecol in tqdm_notebook([col for col in train.columns if col not in ['HasDetections', 'MachineIdentifier', 'Score']]):\n",
    "\n",
    "    train[usecol] = train[usecol].astype('str')\n",
    "    test[usecol] = test[usecol].astype('str')\n",
    "    \n",
    "    #Fit LabelEncoder\n",
    "    le = LabelEncoder().fit(\n",
    "            np.unique(train[usecol].unique().tolist()+\n",
    "                      test[usecol].unique().tolist()))\n",
    "\n",
    "    #At the end 0 will be used for dropped values\n",
    "    train[usecol] = le.transform(train[usecol])+1\n",
    "    test[usecol]  = le.transform(test[usecol])+1\n",
    "\n",
    "    agg_tr = (train\n",
    "              .groupby([usecol])\n",
    "              .aggregate({'MachineIdentifier':'count'})\n",
    "              .reset_index()\n",
    "              .rename({'MachineIdentifier':'Train'}, axis=1))\n",
    "    \n",
    "    agg_te = (test\n",
    "              .groupby([usecol])\n",
    "              .aggregate({'MachineIdentifier':'count'})\n",
    "              .reset_index()\n",
    "              .rename({'MachineIdentifier':'Test'}, axis=1))\n",
    "\n",
    "    agg = pd.merge(agg_tr, agg_te, on=usecol, how='outer').replace(np.nan, 0)\n",
    "    #Select values with more than 1000 observations\n",
    "    agg = agg[(agg['Train'] > 1000)].reset_index(drop=True)\n",
    "    agg['Total'] = agg['Train'] + agg['Test']\n",
    "    #Drop unbalanced values\n",
    "    agg = agg[(agg['Train'] / agg['Total'] > 0.2) & (agg['Train'] / agg['Total'] < 0.8)]\n",
    "    agg[usecol+'Copy'] = agg[usecol]\n",
    "    \n",
    "    train[usecol] = (pd.merge(train[[usecol]], \n",
    "                              agg[[usecol, usecol+'Copy']], \n",
    "                              on=usecol, how='left')[usecol+'Copy']\n",
    "                     .replace(np.nan, 0).astype('int').astype('category'))\n",
    "\n",
    "    test[usecol]  = (pd.merge(test[[usecol]], \n",
    "                              agg[[usecol, usecol+'Copy']], \n",
    "                              on=usecol, how='left')[usecol+'Copy']\n",
    "                     .replace(np.nan, 0).astype('int').astype('category'))\n",
    "\n",
    "    del le, agg_tr, agg_te, agg, usecol\n",
    "    gc.collect()"
   ]
  },
  {
   "cell_type": "code",
   "execution_count": 16,
   "metadata": {
    "ExecuteTime": {
     "end_time": "2019-03-07T03:09:37.009167Z",
     "start_time": "2019-03-07T03:09:37.000946Z"
    }
   },
   "outputs": [
    {
     "data": {
      "text/plain": [
       "(8921483, 71)"
      ]
     },
     "execution_count": 16,
     "metadata": {},
     "output_type": "execute_result"
    }
   ],
   "source": [
    "train.shape"
   ]
  },
  {
   "cell_type": "markdown",
   "metadata": {},
   "source": [
    "##### 임시저장"
   ]
  },
  {
   "cell_type": "code",
   "execution_count": 18,
   "metadata": {
    "ExecuteTime": {
     "end_time": "2019-03-07T03:39:40.840988Z",
     "start_time": "2019-03-07T03:26:53.492607Z"
    }
   },
   "outputs": [],
   "source": [
    "# train.to_csv('./data_temp/train_temp.csv')\n",
    "# test.to_csv('./data/test_temp.csv')"
   ]
  },
  {
   "cell_type": "code",
   "execution_count": 19,
   "metadata": {
    "ExecuteTime": {
     "end_time": "2019-03-07T03:43:08.867564Z",
     "start_time": "2019-03-07T03:43:08.793481Z"
    }
   },
   "outputs": [],
   "source": [
    "y_train = np.array(train['HasDetections'])\n",
    "train_ids = train.index\n",
    "test_ids  = test.index"
   ]
  },
  {
   "cell_type": "code",
   "execution_count": 20,
   "metadata": {
    "ExecuteTime": {
     "end_time": "2019-03-07T03:43:09.713451Z",
     "start_time": "2019-03-07T03:43:09.390777Z"
    }
   },
   "outputs": [
    {
     "data": {
      "text/plain": [
       "8292"
      ]
     },
     "execution_count": 20,
     "metadata": {},
     "output_type": "execute_result"
    }
   ],
   "source": [
    "del train['HasDetections'], train['MachineIdentifier'], test['MachineIdentifier'], test['HasDetections']\n",
    "gc.collect()"
   ]
  },
  {
   "cell_type": "code",
   "execution_count": 21,
   "metadata": {
    "ExecuteTime": {
     "end_time": "2019-03-07T03:43:10.269927Z",
     "start_time": "2019-03-07T03:43:10.246779Z"
    }
   },
   "outputs": [
    {
     "name": "stdout",
     "output_type": "stream",
     "text": [
      "If you don't want use Sparse Matrix choose Kernel Version 2 to get simple solution.\n",
      "\n",
      "--------------------------------------------------------------------------------------------------------\n",
      "Transform Data to Sparse Matrix.\n",
      "Sparse Matrix can be used to fit a lot of models, eg. XGBoost, LightGBM, Random Forest, K-Means and etc.\n",
      "To concatenate Sparse Matrices by column use hstack()\n",
      "Read more about Sparse Matrix https://docs.scipy.org/doc/scipy/reference/sparse.html\n",
      "Good Luck!\n",
      "--------------------------------------------------------------------------------------------------------\n"
     ]
    }
   ],
   "source": [
    "print(\"If you don't want use Sparse Matrix choose Kernel Version 2 to get simple solution.\\n\")\n",
    "\n",
    "print('--------------------------------------------------------------------------------------------------------')\n",
    "print('Transform Data to Sparse Matrix.')\n",
    "print('Sparse Matrix can be used to fit a lot of models, eg. XGBoost, LightGBM, Random Forest, K-Means and etc.')\n",
    "print('To concatenate Sparse Matrices by column use hstack()')\n",
    "print('Read more about Sparse Matrix https://docs.scipy.org/doc/scipy/reference/sparse.html')\n",
    "print('Good Luck!')\n",
    "print('--------------------------------------------------------------------------------------------------------')\n"
   ]
  },
  {
   "cell_type": "code",
   "execution_count": 22,
   "metadata": {
    "ExecuteTime": {
     "end_time": "2019-03-07T03:43:12.013732Z",
     "start_time": "2019-03-07T03:43:12.005091Z"
    }
   },
   "outputs": [],
   "source": [
    "#Fit OneHotEncoder\n",
    "# ohe = OneHotEncoder(categories='auto', sparse=True, dtype='uint8').fit(train)"
   ]
  },
  {
   "cell_type": "code",
   "execution_count": 23,
   "metadata": {
    "ExecuteTime": {
     "end_time": "2019-03-07T03:43:12.335443Z",
     "start_time": "2019-03-07T03:43:12.322300Z"
    }
   },
   "outputs": [],
   "source": [
    "# categorical features\n",
    "cat_features = train.dtypes[(train.dtypes == 'category')].index.tolist()"
   ]
  },
  {
   "cell_type": "code",
   "execution_count": 53,
   "metadata": {
    "ExecuteTime": {
     "end_time": "2019-03-07T03:58:18.370631Z",
     "start_time": "2019-03-07T03:49:01.444405Z"
    }
   },
   "outputs": [],
   "source": [
    "ct = ColumnTransformer([('categorical', OneHotEncoder(categories='auto', sparse=True), cat_features),\n",
    "                        ('numerical', 'passthrough', ['Score'])],\n",
    "                      sparse_threshold=1).fit(train)"
   ]
  },
  {
   "cell_type": "code",
   "execution_count": 55,
   "metadata": {
    "ExecuteTime": {
     "end_time": "2019-03-07T04:08:22.720274Z",
     "start_time": "2019-03-07T03:59:11.227229Z"
    }
   },
   "outputs": [],
   "source": [
    "#Transform data using small groups to reduce memory usage\n",
    "m = 100000\n",
    "train = vstack([ct.transform(train[i*m:(i+1)*m]) for i in range(train.shape[0] // m + 1)])\n",
    "test  = vstack([ct.transform(test[i*m:(i+1)*m])  for i in range(test.shape[0] // m +  1)])"
   ]
  },
  {
   "cell_type": "code",
   "execution_count": 56,
   "metadata": {
    "ExecuteTime": {
     "end_time": "2019-03-07T04:08:30.540634Z",
     "start_time": "2019-03-07T04:08:30.501843Z"
    }
   },
   "outputs": [
    {
     "data": {
      "text/plain": [
       "(8921483, 5725)"
      ]
     },
     "execution_count": 56,
     "metadata": {},
     "output_type": "execute_result"
    }
   ],
   "source": [
    "train.shape"
   ]
  },
  {
   "cell_type": "code",
   "execution_count": 57,
   "metadata": {
    "ExecuteTime": {
     "end_time": "2019-03-07T04:16:15.883466Z",
     "start_time": "2019-03-07T04:08:34.965972Z"
    }
   },
   "outputs": [],
   "source": [
    "save_npz('./data_temp/train.npz', train, compressed=True)\n",
    "save_npz('./data_temp/test.npz',  test,  compressed=True)"
   ]
  },
  {
   "cell_type": "code",
   "execution_count": 59,
   "metadata": {
    "ExecuteTime": {
     "end_time": "2019-03-07T04:16:49.573288Z",
     "start_time": "2019-03-07T04:16:46.665854Z"
    }
   },
   "outputs": [
    {
     "data": {
      "text/plain": [
       "0"
      ]
     },
     "execution_count": 59,
     "metadata": {},
     "output_type": "execute_result"
    }
   ],
   "source": [
    "del train, test\n",
    "gc.collect()"
   ]
  },
  {
   "cell_type": "code",
   "execution_count": 60,
   "metadata": {
    "ExecuteTime": {
     "end_time": "2019-03-07T04:18:17.969769Z",
     "start_time": "2019-03-07T04:16:56.259494Z"
    }
   },
   "outputs": [],
   "source": [
    "train = load_npz('./data_temp/train.npz')\n",
    "test = load_npz('./data_temp/test.npz')\n",
    "test = csr_matrix(test, dtype='float32')"
   ]
  },
  {
   "cell_type": "code",
   "execution_count": 61,
   "metadata": {
    "ExecuteTime": {
     "end_time": "2019-03-07T04:19:14.052240Z",
     "start_time": "2019-03-07T04:19:14.003527Z"
    }
   },
   "outputs": [],
   "source": [
    "skf = StratifiedKFold(n_splits=3, shuffle=True, random_state=42)\n",
    "skf.get_n_splits(train_ids, y_train)\n",
    "\n",
    "lgb_test_result  = np.zeros(test_ids.shape[0])\n",
    "lgb_train_result = np.zeros(train_ids.shape[0])\n",
    "counter = 0"
   ]
  },
  {
   "cell_type": "code",
   "execution_count": 62,
   "metadata": {
    "ExecuteTime": {
     "end_time": "2019-03-07T05:05:12.475473Z",
     "start_time": "2019-03-07T04:19:16.720765Z"
    },
    "scrolled": false
   },
   "outputs": [
    {
     "name": "stdout",
     "output_type": "stream",
     "text": [
      "\n",
      "LightGBM\n",
      "\n",
      "Fold 1\n",
      "\n",
      "fitting\n",
      "Training until validation scores don't improve for 100 rounds.\n",
      "[200]\tvalid_0's binary_logloss: 0.61492\tvalid_0's auc: 0.713729\n",
      "[400]\tvalid_0's binary_logloss: 0.611678\tvalid_0's auc: 0.718203\n",
      "[600]\tvalid_0's binary_logloss: 0.610132\tvalid_0's auc: 0.72032\n",
      "[800]\tvalid_0's binary_logloss: 0.609188\tvalid_0's auc: 0.721607\n",
      "[1000]\tvalid_0's binary_logloss: 0.608498\tvalid_0's auc: 0.722518\n",
      "Did not meet early stopping. Best iteration is:\n",
      "[1000]\tvalid_0's binary_logloss: 0.608498\tvalid_0's auc: 0.722518\n",
      "predicting\n",
      "Fold 2\n",
      "\n",
      "fitting\n",
      "Training until validation scores don't improve for 100 rounds.\n",
      "[200]\tvalid_0's binary_logloss: 0.614991\tvalid_0's auc: 0.713673\n",
      "[400]\tvalid_0's binary_logloss: 0.611863\tvalid_0's auc: 0.718062\n",
      "[600]\tvalid_0's binary_logloss: 0.610311\tvalid_0's auc: 0.720184\n",
      "[800]\tvalid_0's binary_logloss: 0.609403\tvalid_0's auc: 0.721422\n",
      "[1000]\tvalid_0's binary_logloss: 0.608732\tvalid_0's auc: 0.722326\n",
      "Did not meet early stopping. Best iteration is:\n",
      "[1000]\tvalid_0's binary_logloss: 0.608732\tvalid_0's auc: 0.722326\n",
      "predicting\n",
      "Fold 3\n",
      "\n",
      "fitting\n",
      "Training until validation scores don't improve for 100 rounds.\n"
     ]
    },
    {
     "ename": "KeyboardInterrupt",
     "evalue": "",
     "output_type": "error",
     "traceback": [
      "\u001b[1;31m---------------------------------------------------------------------------\u001b[0m",
      "\u001b[1;31mKeyboardInterrupt\u001b[0m                         Traceback (most recent call last)",
      "\u001b[1;32m<ipython-input-62-b79098af0c9e>\u001b[0m in \u001b[0;36m<module>\u001b[1;34m\u001b[0m\n\u001b[0;32m     30\u001b[0m     lgb_model.fit(X_fit, y_fit, eval_metric='auc', \n\u001b[0;32m     31\u001b[0m                   \u001b[0meval_set\u001b[0m\u001b[1;33m=\u001b[0m\u001b[1;33m[\u001b[0m\u001b[1;33m(\u001b[0m\u001b[0mX_val\u001b[0m\u001b[1;33m,\u001b[0m \u001b[0my_val\u001b[0m\u001b[1;33m)\u001b[0m\u001b[1;33m]\u001b[0m\u001b[1;33m,\u001b[0m\u001b[1;33m\u001b[0m\u001b[1;33m\u001b[0m\u001b[0m\n\u001b[1;32m---> 32\u001b[1;33m                   verbose=200, early_stopping_rounds=100)\n\u001b[0m\u001b[0;32m     33\u001b[0m \u001b[1;33m\u001b[0m\u001b[0m\n\u001b[0;32m     34\u001b[0m     \u001b[1;32mdel\u001b[0m \u001b[0mX_fit\u001b[0m\u001b[1;33m,\u001b[0m \u001b[0mX_val\u001b[0m\u001b[1;33m,\u001b[0m \u001b[0my_fit\u001b[0m\u001b[1;33m,\u001b[0m \u001b[0my_val\u001b[0m\u001b[1;33m,\u001b[0m \u001b[0mtrain_index\u001b[0m\u001b[1;33m,\u001b[0m \u001b[0mtest_index\u001b[0m\u001b[1;33m\u001b[0m\u001b[1;33m\u001b[0m\u001b[0m\n",
      "\u001b[1;32mc:\\python\\lib\\site-packages\\lightgbm\\sklearn.py\u001b[0m in \u001b[0;36mfit\u001b[1;34m(self, X, y, sample_weight, init_score, eval_set, eval_names, eval_sample_weight, eval_class_weight, eval_init_score, eval_metric, early_stopping_rounds, verbose, feature_name, categorical_feature, callbacks)\u001b[0m\n\u001b[0;32m    740\u001b[0m                                         \u001b[0mverbose\u001b[0m\u001b[1;33m=\u001b[0m\u001b[0mverbose\u001b[0m\u001b[1;33m,\u001b[0m \u001b[0mfeature_name\u001b[0m\u001b[1;33m=\u001b[0m\u001b[0mfeature_name\u001b[0m\u001b[1;33m,\u001b[0m\u001b[1;33m\u001b[0m\u001b[1;33m\u001b[0m\u001b[0m\n\u001b[0;32m    741\u001b[0m                                         \u001b[0mcategorical_feature\u001b[0m\u001b[1;33m=\u001b[0m\u001b[0mcategorical_feature\u001b[0m\u001b[1;33m,\u001b[0m\u001b[1;33m\u001b[0m\u001b[1;33m\u001b[0m\u001b[0m\n\u001b[1;32m--> 742\u001b[1;33m                                         callbacks=callbacks)\n\u001b[0m\u001b[0;32m    743\u001b[0m         \u001b[1;32mreturn\u001b[0m \u001b[0mself\u001b[0m\u001b[1;33m\u001b[0m\u001b[1;33m\u001b[0m\u001b[0m\n\u001b[0;32m    744\u001b[0m \u001b[1;33m\u001b[0m\u001b[0m\n",
      "\u001b[1;32mc:\\python\\lib\\site-packages\\lightgbm\\sklearn.py\u001b[0m in \u001b[0;36mfit\u001b[1;34m(self, X, y, sample_weight, init_score, group, eval_set, eval_names, eval_sample_weight, eval_class_weight, eval_init_score, eval_group, eval_metric, early_stopping_rounds, verbose, feature_name, categorical_feature, callbacks)\u001b[0m\n\u001b[0;32m    540\u001b[0m                               \u001b[0mverbose_eval\u001b[0m\u001b[1;33m=\u001b[0m\u001b[0mverbose\u001b[0m\u001b[1;33m,\u001b[0m \u001b[0mfeature_name\u001b[0m\u001b[1;33m=\u001b[0m\u001b[0mfeature_name\u001b[0m\u001b[1;33m,\u001b[0m\u001b[1;33m\u001b[0m\u001b[1;33m\u001b[0m\u001b[0m\n\u001b[0;32m    541\u001b[0m                               \u001b[0mcategorical_feature\u001b[0m\u001b[1;33m=\u001b[0m\u001b[0mcategorical_feature\u001b[0m\u001b[1;33m,\u001b[0m\u001b[1;33m\u001b[0m\u001b[1;33m\u001b[0m\u001b[0m\n\u001b[1;32m--> 542\u001b[1;33m                               callbacks=callbacks)\n\u001b[0m\u001b[0;32m    543\u001b[0m \u001b[1;33m\u001b[0m\u001b[0m\n\u001b[0;32m    544\u001b[0m         \u001b[1;32mif\u001b[0m \u001b[0mevals_result\u001b[0m\u001b[1;33m:\u001b[0m\u001b[1;33m\u001b[0m\u001b[1;33m\u001b[0m\u001b[0m\n",
      "\u001b[1;32mc:\\python\\lib\\site-packages\\lightgbm\\engine.py\u001b[0m in \u001b[0;36mtrain\u001b[1;34m(params, train_set, num_boost_round, valid_sets, valid_names, fobj, feval, init_model, feature_name, categorical_feature, early_stopping_rounds, evals_result, verbose_eval, learning_rates, keep_training_booster, callbacks)\u001b[0m\n\u001b[0;32m    214\u001b[0m                                     evaluation_result_list=None))\n\u001b[0;32m    215\u001b[0m \u001b[1;33m\u001b[0m\u001b[0m\n\u001b[1;32m--> 216\u001b[1;33m         \u001b[0mbooster\u001b[0m\u001b[1;33m.\u001b[0m\u001b[0mupdate\u001b[0m\u001b[1;33m(\u001b[0m\u001b[0mfobj\u001b[0m\u001b[1;33m=\u001b[0m\u001b[0mfobj\u001b[0m\u001b[1;33m)\u001b[0m\u001b[1;33m\u001b[0m\u001b[1;33m\u001b[0m\u001b[0m\n\u001b[0m\u001b[0;32m    217\u001b[0m \u001b[1;33m\u001b[0m\u001b[0m\n\u001b[0;32m    218\u001b[0m         \u001b[0mevaluation_result_list\u001b[0m \u001b[1;33m=\u001b[0m \u001b[1;33m[\u001b[0m\u001b[1;33m]\u001b[0m\u001b[1;33m\u001b[0m\u001b[1;33m\u001b[0m\u001b[0m\n",
      "\u001b[1;32mc:\\python\\lib\\site-packages\\lightgbm\\basic.py\u001b[0m in \u001b[0;36mupdate\u001b[1;34m(self, train_set, fobj)\u001b[0m\n\u001b[0;32m   1758\u001b[0m             _safe_call(_LIB.LGBM_BoosterUpdateOneIter(\n\u001b[0;32m   1759\u001b[0m                 \u001b[0mself\u001b[0m\u001b[1;33m.\u001b[0m\u001b[0mhandle\u001b[0m\u001b[1;33m,\u001b[0m\u001b[1;33m\u001b[0m\u001b[1;33m\u001b[0m\u001b[0m\n\u001b[1;32m-> 1760\u001b[1;33m                 ctypes.byref(is_finished)))\n\u001b[0m\u001b[0;32m   1761\u001b[0m             \u001b[0mself\u001b[0m\u001b[1;33m.\u001b[0m\u001b[0m__is_predicted_cur_iter\u001b[0m \u001b[1;33m=\u001b[0m \u001b[1;33m[\u001b[0m\u001b[1;32mFalse\u001b[0m \u001b[1;32mfor\u001b[0m \u001b[0m_\u001b[0m \u001b[1;32min\u001b[0m \u001b[0mrange_\u001b[0m\u001b[1;33m(\u001b[0m\u001b[0mself\u001b[0m\u001b[1;33m.\u001b[0m\u001b[0m__num_dataset\u001b[0m\u001b[1;33m)\u001b[0m\u001b[1;33m]\u001b[0m\u001b[1;33m\u001b[0m\u001b[1;33m\u001b[0m\u001b[0m\n\u001b[0;32m   1762\u001b[0m             \u001b[1;32mreturn\u001b[0m \u001b[0mis_finished\u001b[0m\u001b[1;33m.\u001b[0m\u001b[0mvalue\u001b[0m \u001b[1;33m==\u001b[0m \u001b[1;36m1\u001b[0m\u001b[1;33m\u001b[0m\u001b[1;33m\u001b[0m\u001b[0m\n",
      "\u001b[1;31mKeyboardInterrupt\u001b[0m: "
     ]
    }
   ],
   "source": [
    "print('\\nLightGBM\\n')\n",
    "\n",
    "for train_index, test_index in skf.split(train_ids, y_train):\n",
    "    \n",
    "    print('Fold {}\\n'.format(counter + 1))\n",
    "    \n",
    "    X_fit = vstack([train[train_index[i*m:(i+1)*m]] for i in range(train_index.shape[0] // m + 1)])\n",
    "    X_val = vstack([train[test_index[i*m:(i+1)*m]]  for i in range(test_index.shape[0] //  m + 1)])\n",
    "    X_fit, X_val = csr_matrix(X_fit, dtype='float32'), csr_matrix(X_val, dtype='float32')\n",
    "    y_fit, y_val = y_train[train_index], y_train[test_index]\n",
    "    \n",
    "    gc.collect()\n",
    "\n",
    "    lgb_model = lgb.LGBMClassifier(max_depth=-1,\n",
    "                                   n_estimators=1000,\n",
    "                                   learning_rate=0.1,\n",
    "                                   num_leaves=2**5-1,\n",
    "                                   objective='binary', \n",
    "                                   boosting_type='gbdt',\n",
    "                                   # overfitting handling\n",
    "                                   # max_bin=120,\n",
    "                                   # lambda_l1=6,\n",
    "                                   # lambda_l2=2,\n",
    "                                   save_binary=True,\n",
    "                                   feature_fraction=0.8,\n",
    "                                   feature_fraction_seed=42,\n",
    "                                   n_jobs=-1)\n",
    "    \n",
    "    print(\"fitting\")\n",
    "    lgb_model.fit(X_fit, y_fit, eval_metric='auc', \n",
    "                  eval_set=[(X_val, y_val)], \n",
    "                  verbose=200, early_stopping_rounds=100)\n",
    "    \n",
    "    del X_fit, X_val, y_fit, y_val, train_index, test_index\n",
    "    gc.collect()\n",
    "    \n",
    "    print(\"predicting\")\n",
    "    lgb_test_result += lgb_model.predict_proba(test)[:,1]\n",
    "    counter += 1\n",
    "    \n",
    "    gc.collect()"
   ]
  },
  {
   "cell_type": "code",
   "execution_count": 2,
   "metadata": {
    "ExecuteTime": {
     "end_time": "2019-03-03T14:16:36.876044Z",
     "start_time": "2019-03-03T14:16:36.783294Z"
    }
   },
   "outputs": [
    {
     "ename": "NameError",
     "evalue": "name 'pd' is not defined",
     "output_type": "error",
     "traceback": [
      "\u001b[1;31m---------------------------------------------------------------------------\u001b[0m",
      "\u001b[1;31mNameError\u001b[0m                                 Traceback (most recent call last)",
      "\u001b[1;32m<ipython-input-2-3ceb1372382d>\u001b[0m in \u001b[0;36m<module>\u001b[1;34m\u001b[0m\n\u001b[1;32m----> 1\u001b[1;33m \u001b[0msubmission\u001b[0m \u001b[1;33m=\u001b[0m \u001b[0mpd\u001b[0m\u001b[1;33m.\u001b[0m\u001b[0mread_csv\u001b[0m\u001b[1;33m(\u001b[0m\u001b[1;34m'./data/sample_submission.csv'\u001b[0m\u001b[1;33m)\u001b[0m\u001b[1;33m\u001b[0m\u001b[1;33m\u001b[0m\u001b[0m\n\u001b[0m",
      "\u001b[1;31mNameError\u001b[0m: name 'pd' is not defined"
     ]
    }
   ],
   "source": [
    "submission = pd.read_csv('./data/sample_submission.csv')"
   ]
  },
  {
   "cell_type": "code",
   "execution_count": 21,
   "metadata": {
    "ExecuteTime": {
     "end_time": "2019-03-01T07:11:07.948481Z",
     "start_time": "2019-03-01T07:11:07.940489Z"
    }
   },
   "outputs": [
    {
     "data": {
      "text/html": [
       "<div>\n",
       "<style scoped>\n",
       "    .dataframe tbody tr th:only-of-type {\n",
       "        vertical-align: middle;\n",
       "    }\n",
       "\n",
       "    .dataframe tbody tr th {\n",
       "        vertical-align: top;\n",
       "    }\n",
       "\n",
       "    .dataframe thead th {\n",
       "        text-align: right;\n",
       "    }\n",
       "</style>\n",
       "<table border=\"1\" class=\"dataframe\">\n",
       "  <thead>\n",
       "    <tr style=\"text-align: right;\">\n",
       "      <th></th>\n",
       "      <th>MachineIdentifier</th>\n",
       "      <th>HasDetections</th>\n",
       "    </tr>\n",
       "  </thead>\n",
       "  <tbody>\n",
       "    <tr>\n",
       "      <th>0</th>\n",
       "      <td>0000010489e3af074adeac69c53e555e</td>\n",
       "      <td>0.5</td>\n",
       "    </tr>\n",
       "    <tr>\n",
       "      <th>1</th>\n",
       "      <td>00000176ac758d54827acd545b6315a5</td>\n",
       "      <td>0.5</td>\n",
       "    </tr>\n",
       "    <tr>\n",
       "      <th>2</th>\n",
       "      <td>0000019dcefc128c2d4387c1273dae1d</td>\n",
       "      <td>0.5</td>\n",
       "    </tr>\n",
       "  </tbody>\n",
       "</table>\n",
       "</div>"
      ],
      "text/plain": [
       "                  MachineIdentifier  HasDetections\n",
       "0  0000010489e3af074adeac69c53e555e            0.5\n",
       "1  00000176ac758d54827acd545b6315a5            0.5\n",
       "2  0000019dcefc128c2d4387c1273dae1d            0.5"
      ]
     },
     "execution_count": 21,
     "metadata": {},
     "output_type": "execute_result"
    }
   ],
   "source": [
    "submission.head(3)"
   ]
  },
  {
   "cell_type": "code",
   "execution_count": 22,
   "metadata": {
    "ExecuteTime": {
     "end_time": "2019-03-01T07:11:12.856166Z",
     "start_time": "2019-03-01T07:11:12.778316Z"
    }
   },
   "outputs": [],
   "source": [
    "submission.HasDetections = lgb_test_result / counter"
   ]
  },
  {
   "cell_type": "code",
   "execution_count": 23,
   "metadata": {
    "ExecuteTime": {
     "end_time": "2019-03-01T07:11:19.112760Z",
     "start_time": "2019-03-01T07:11:19.102752Z"
    }
   },
   "outputs": [
    {
     "data": {
      "text/html": [
       "<div>\n",
       "<style scoped>\n",
       "    .dataframe tbody tr th:only-of-type {\n",
       "        vertical-align: middle;\n",
       "    }\n",
       "\n",
       "    .dataframe tbody tr th {\n",
       "        vertical-align: top;\n",
       "    }\n",
       "\n",
       "    .dataframe thead th {\n",
       "        text-align: right;\n",
       "    }\n",
       "</style>\n",
       "<table border=\"1\" class=\"dataframe\">\n",
       "  <thead>\n",
       "    <tr style=\"text-align: right;\">\n",
       "      <th></th>\n",
       "      <th>MachineIdentifier</th>\n",
       "      <th>HasDetections</th>\n",
       "    </tr>\n",
       "  </thead>\n",
       "  <tbody>\n",
       "    <tr>\n",
       "      <th>0</th>\n",
       "      <td>0000010489e3af074adeac69c53e555e</td>\n",
       "      <td>0.567584</td>\n",
       "    </tr>\n",
       "    <tr>\n",
       "      <th>1</th>\n",
       "      <td>00000176ac758d54827acd545b6315a5</td>\n",
       "      <td>0.673992</td>\n",
       "    </tr>\n",
       "    <tr>\n",
       "      <th>2</th>\n",
       "      <td>0000019dcefc128c2d4387c1273dae1d</td>\n",
       "      <td>0.497506</td>\n",
       "    </tr>\n",
       "  </tbody>\n",
       "</table>\n",
       "</div>"
      ],
      "text/plain": [
       "                  MachineIdentifier  HasDetections\n",
       "0  0000010489e3af074adeac69c53e555e       0.567584\n",
       "1  00000176ac758d54827acd545b6315a5       0.673992\n",
       "2  0000019dcefc128c2d4387c1273dae1d       0.497506"
      ]
     },
     "execution_count": 23,
     "metadata": {},
     "output_type": "execute_result"
    }
   ],
   "source": [
    "submission.head(3)"
   ]
  },
  {
   "cell_type": "code",
   "execution_count": 24,
   "metadata": {
    "ExecuteTime": {
     "end_time": "2019-03-01T07:12:51.647507Z",
     "start_time": "2019-03-01T07:12:27.216089Z"
    }
   },
   "outputs": [],
   "source": [
    "submission.to_csv('./data/sub_lgb_base_open_kernel.csv', index=False)"
   ]
  },
  {
   "cell_type": "code",
   "execution_count": null,
   "metadata": {},
   "outputs": [],
   "source": [
    "param = {\n",
    "        'objective': 'binary',\n",
    "        'boosting_type': 'gbdt',\n",
    "        'learning_rate': 0.05,\n",
    "        'max_depth': -1,\n",
    "        'num_leaves': 31,\n",
    "        'min_data_in_leaf': 20,\n",
    "        'min_sum_hessian_in_leaf': 0.0025,\n",
    "        'max_bin': 120,\n",
    "        'lambda_l1': 5,\n",
    "        'lambda_l2': 2,\n",
    "        'min_gain_to_split': 0.65,\n",
    "        'save_binary': True,\n",
    "        'bagging_fraction': 1.0,\n",
    "        'bagging_freq': 5,\n",
    "        'feature_fraction': 0.05,\n",
    "        'seed': 42,\n",
    "        'feature_fraction_seed': 42,\n",
    "        'bagging_seed': 42,\n",
    "        'drop_seed': 42,\n",
    "        'data_random_seed': 42,\n",
    "        'verbose': 1,\n",
    "        'metric': 'auc'\n",
    "    }"
   ]
  },
  {
   "cell_type": "code",
   "execution_count": null,
   "metadata": {},
   "outputs": [],
   "source": [
    "max_depth=-1,\n",
    "n_estimators=1000,\n",
    "learning_rate=0.1,\n",
    "num_leaves=2**5-1,\n",
    "objective='binary', \n",
    "boosting_type='gbdt',\n",
    "save_binary=True,\n",
    "feature_fraction=0.8,\n",
    "feature_fraction_seed=42,\n",
    "n_jobs=-1"
   ]
  }
 ],
 "metadata": {
  "kernelspec": {
   "display_name": "Python 3",
   "language": "python",
   "name": "python3"
  },
  "language_info": {
   "codemirror_mode": {
    "name": "ipython",
    "version": 3
   },
   "file_extension": ".py",
   "mimetype": "text/x-python",
   "name": "python",
   "nbconvert_exporter": "python",
   "pygments_lexer": "ipython3",
   "version": "3.6.7"
  },
  "toc": {
   "base_numbering": 1,
   "nav_menu": {},
   "number_sections": true,
   "sideBar": true,
   "skip_h1_title": false,
   "title_cell": "Table of Contents",
   "title_sidebar": "Contents",
   "toc_cell": false,
   "toc_position": {},
   "toc_section_display": true,
   "toc_window_display": true
  }
 },
 "nbformat": 4,
 "nbformat_minor": 2
}
