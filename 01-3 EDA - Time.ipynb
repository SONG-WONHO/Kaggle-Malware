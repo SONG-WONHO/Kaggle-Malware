{
 "cells": [
  {
   "cell_type": "markdown",
   "metadata": {},
   "source": [
    "# EDA with Time\n",
    "\n",
    "* 이번 커널에서는 시간 관련 특성을 알아볼 것입니다.\n",
    "* 시간이 중요한 이유는 Data Description에 아래와 같은 설명이 있기 때문입니다.\n",
    "> Malware detection is inherently a time-series problem, but it is made complicated by the introduction of new machines, machines that come online and offline, machines that receive patches, machines that receive new operating systems, etc. While the dataset provided here has been roughly split by time, the complications and sampling requirements mentioned above may mean you may see imperfect agreement between your cross validation, public, and private scores!\n",
    "* 요약하자면 대회 주최측에서 러프하게 시간으로 데이터셋을 트레인, 테스트로 구분했고, private, public 역시 러프하게 시간으로 구분했으니 주의해라 이런 말입니다."
   ]
  },
  {
   "cell_type": "markdown",
   "metadata": {},
   "source": [
    "## 라이브러리"
   ]
  },
  {
   "cell_type": "code",
   "execution_count": 1,
   "metadata": {
    "ExecuteTime": {
     "end_time": "2019-02-10T12:42:03.063467Z",
     "start_time": "2019-02-10T12:42:02.613647Z"
    }
   },
   "outputs": [],
   "source": [
    "import numpy as np\n",
    "import pandas as pd\n",
    "import warnings\n",
    "import gc\n",
    "warnings.filterwarnings(\"ignore\")"
   ]
  },
  {
   "cell_type": "code",
   "execution_count": 2,
   "metadata": {
    "ExecuteTime": {
     "end_time": "2019-02-10T12:42:03.069394Z",
     "start_time": "2019-02-10T12:42:03.065403Z"
    }
   },
   "outputs": [],
   "source": [
    "pd.set_option('max_rows', 150)\n",
    "pd.set_option('max_colwidth', 500)\n",
    "pd.set_option('max_columns', 500)"
   ]
  },
  {
   "cell_type": "markdown",
   "metadata": {},
   "source": [
    "## 데이터 로드"
   ]
  },
  {
   "cell_type": "code",
   "execution_count": 3,
   "metadata": {
    "ExecuteTime": {
     "end_time": "2019-02-10T12:42:08.667329Z",
     "start_time": "2019-02-10T12:42:08.658371Z"
    },
    "hide_input": true
   },
   "outputs": [],
   "source": [
    "dtypes = {\n",
    "        'MachineIdentifier':                                    'object',\n",
    "        'ProductName':                                          'category',\n",
    "        'EngineVersion':                                        'category',\n",
    "        'AppVersion':                                           'category',\n",
    "        'AvSigVersion':                                         'category',\n",
    "        'IsBeta':                                               'int8',\n",
    "        'RtpStateBitfield':                                     'float16',\n",
    "        'IsSxsPassiveMode':                                     'int8',\n",
    "        'DefaultBrowsersIdentifier':                            'float16',\n",
    "        'AVProductStatesIdentifier':                            'float32',\n",
    "        'AVProductsInstalled':                                  'float16',\n",
    "        'AVProductsEnabled':                                    'float16',\n",
    "        'HasTpm':                                               'int8',\n",
    "        'CountryIdentifier':                                    'int16',\n",
    "        'CityIdentifier':                                       'float32',\n",
    "        'OrganizationIdentifier':                               'float16',\n",
    "        'GeoNameIdentifier':                                    'float16',\n",
    "        'LocaleEnglishNameIdentifier':                          'int8',\n",
    "        'Platform':                                             'category',\n",
    "        'Processor':                                            'category',\n",
    "        'OsVer':                                                'category',\n",
    "        'OsBuild':                                              'int16',\n",
    "        'OsSuite':                                              'int16',\n",
    "        'OsPlatformSubRelease':                                 'category',\n",
    "        'OsBuildLab':                                           'category',\n",
    "        'SkuEdition':                                           'category',\n",
    "        'IsProtected':                                          'float16',\n",
    "        'AutoSampleOptIn':                                      'int8',\n",
    "        'PuaMode':                                              'category',\n",
    "        'SMode':                                                'float16',\n",
    "        'IeVerIdentifier':                                      'float16',\n",
    "        'SmartScreen':                                          'category',\n",
    "        'Firewall':                                             'float16',\n",
    "        'UacLuaenable':                                         'float32',\n",
    "        'Census_MDC2FormFactor':                                'category',\n",
    "        'Census_DeviceFamily':                                  'category',\n",
    "        'Census_OEMNameIdentifier':                             'float16',\n",
    "        'Census_OEMModelIdentifier':                            'float32',\n",
    "        'Census_ProcessorCoreCount':                            'float16',\n",
    "        'Census_ProcessorManufacturerIdentifier':               'float16',\n",
    "        'Census_ProcessorModelIdentifier':                      'float16',\n",
    "        'Census_ProcessorClass':                                'category',\n",
    "        'Census_PrimaryDiskTotalCapacity':                      'float32',\n",
    "        'Census_PrimaryDiskTypeName':                           'category',\n",
    "        'Census_SystemVolumeTotalCapacity':                     'float32',\n",
    "        'Census_HasOpticalDiskDrive':                           'int8',\n",
    "        'Census_TotalPhysicalRAM':                              'float32',\n",
    "        'Census_ChassisTypeName':                               'category',\n",
    "        'Census_InternalPrimaryDiagonalDisplaySizeInInches':    'float16',\n",
    "        'Census_InternalPrimaryDisplayResolutionHorizontal':    'float16',\n",
    "        'Census_InternalPrimaryDisplayResolutionVertical':      'float16',\n",
    "        'Census_PowerPlatformRoleName':                         'category',\n",
    "        'Census_InternalBatteryType':                           'category',\n",
    "        'Census_InternalBatteryNumberOfCharges':                'float32',\n",
    "        'Census_OSVersion':                                     'category',\n",
    "        'Census_OSArchitecture':                                'category',\n",
    "        'Census_OSBranch':                                      'category',\n",
    "        'Census_OSBuildNumber':                                 'int16',\n",
    "        'Census_OSBuildRevision':                               'int32',\n",
    "        'Census_OSEdition':                                     'category',\n",
    "        'Census_OSSkuName':                                     'category',\n",
    "        'Census_OSInstallTypeName':                             'category',\n",
    "        'Census_OSInstallLanguageIdentifier':                   'float16',\n",
    "        'Census_OSUILocaleIdentifier':                          'int16',\n",
    "        'Census_OSWUAutoUpdateOptionsName':                     'category',\n",
    "        'Census_IsPortableOperatingSystem':                     'int8',\n",
    "        'Census_GenuineStateName':                              'category',\n",
    "        'Census_ActivationChannel':                             'category',\n",
    "        'Census_IsFlightingInternal':                           'float16',\n",
    "        'Census_IsFlightsDisabled':                             'float16',\n",
    "        'Census_FlightRing':                                    'category',\n",
    "        'Census_ThresholdOptIn':                                'float16',\n",
    "        'Census_FirmwareManufacturerIdentifier':                'float16',\n",
    "        'Census_FirmwareVersionIdentifier':                     'float32',\n",
    "        'Census_IsSecureBootEnabled':                           'int8',\n",
    "        'Census_IsWIMBootEnabled':                              'float16',\n",
    "        'Census_IsVirtualDevice':                               'float16',\n",
    "        'Census_IsTouchEnabled':                                'int8',\n",
    "        'Census_IsPenCapable':                                  'int8',\n",
    "        'Census_IsAlwaysOnAlwaysConnectedCapable':              'float16',\n",
    "        'Wdft_IsGamer':                                         'float16',\n",
    "        'Wdft_RegionIdentifier':                                'float16',\n",
    "        'HasDetections':                                        'int8'\n",
    "        }"
   ]
  },
  {
   "cell_type": "code",
   "execution_count": 4,
   "metadata": {
    "ExecuteTime": {
     "end_time": "2019-02-10T12:45:21.197445Z",
     "start_time": "2019-02-10T12:42:09.193437Z"
    }
   },
   "outputs": [],
   "source": [
    "train = pd.read_csv('./data/train.csv', dtype=dtypes)\n",
    "test = pd.read_csv('./data/test.csv', dtype=dtypes)"
   ]
  },
  {
   "cell_type": "markdown",
   "metadata": {},
   "source": [
    "## 시간 관련 컬럼"
   ]
  },
  {
   "cell_type": "markdown",
   "metadata": {},
   "source": [
    "### ProductName\n",
    "* 윈도우 디펄트 EPP 시스템 계보, 역사를 통한 시계열성 간접적으로 파악\n",
    "* 딱히 의미 없음"
   ]
  },
  {
   "cell_type": "code",
   "execution_count": 9,
   "metadata": {
    "ExecuteTime": {
     "end_time": "2019-02-10T05:16:15.100388Z",
     "start_time": "2019-02-10T05:16:15.029593Z"
    }
   },
   "outputs": [
    {
     "data": {
      "text/plain": [
       "win8defender     8826520\n",
       "mse                94873\n",
       "mseprerelease         53\n",
       "scep                  22\n",
       "windowsintune          8\n",
       "fep                    7\n",
       "Name: ProductName, dtype: int64"
      ]
     },
     "execution_count": 9,
     "metadata": {},
     "output_type": "execute_result"
    }
   ],
   "source": [
    "train.ProductName.value_counts(dropna=False)"
   ]
  },
  {
   "cell_type": "code",
   "execution_count": 10,
   "metadata": {
    "ExecuteTime": {
     "end_time": "2019-02-10T05:20:42.799276Z",
     "start_time": "2019-02-10T05:20:42.733455Z"
    }
   },
   "outputs": [
    {
     "data": {
      "text/plain": [
       "win8defender     7797245\n",
       "mse                55946\n",
       "mseprerelease         34\n",
       "scep                  16\n",
       "fep                    7\n",
       "windowsintune          5\n",
       "Name: ProductName, dtype: int64"
      ]
     },
     "execution_count": 10,
     "metadata": {},
     "output_type": "execute_result"
    }
   ],
   "source": [
    "test.ProductName.value_counts(dropna=False)"
   ]
  },
  {
   "cell_type": "markdown",
   "metadata": {},
   "source": [
    "### EngineVersion\n",
    "* 윈도우 디펜더와 MSE과 엔진과 sig를 같이 사용함\n",
    "* 엔진 버전 네이밍에 시간 관련 힌트를 얻을 수 있지 않을까?\n",
    "* test가 상대적으로 엔진 버전이 높다 !"
   ]
  },
  {
   "cell_type": "code",
   "execution_count": 32,
   "metadata": {
    "ExecuteTime": {
     "end_time": "2019-02-10T05:45:59.465897Z",
     "start_time": "2019-02-10T05:45:59.395087Z"
    }
   },
   "outputs": [
    {
     "data": {
      "text/plain": [
       "1.1.15200.1    3845067\n",
       "1.1.15100.1    3675915\n",
       "1.1.15000.2     265218\n",
       "1.1.14901.4     212408\n",
       "1.1.14600.4     160585\n",
       "1.1.14800.3     136476\n",
       "1.1.15300.6     120295\n",
       "1.1.14104.0      93926\n",
       "1.1.13504.0      70645\n",
       "1.1.15300.5      68716\n",
       "Name: EngineVersion, dtype: int64"
      ]
     },
     "execution_count": 32,
     "metadata": {},
     "output_type": "execute_result"
    }
   ],
   "source": [
    "train.EngineVersion.value_counts(dropna=False)[:10]"
   ]
  },
  {
   "cell_type": "code",
   "execution_count": 33,
   "metadata": {
    "ExecuteTime": {
     "end_time": "2019-02-10T05:46:04.743732Z",
     "start_time": "2019-02-10T05:46:04.686844Z"
    }
   },
   "outputs": [
    {
     "data": {
      "text/plain": [
       "1.1.15300.6    3101305\n",
       "1.1.15400.4    2106236\n",
       "1.1.15400.5    1491273\n",
       "1.1.15200.1     366085\n",
       "1.1.15100.1     158036\n",
       "1.1.14600.4     138514\n",
       "1.1.14901.4      75808\n",
       "1.1.14104.0      72795\n",
       "1.1.15000.2      66904\n",
       "1.1.14800.3      55992\n",
       "Name: EngineVersion, dtype: int64"
      ]
     },
     "execution_count": 33,
     "metadata": {},
     "output_type": "execute_result"
    }
   ],
   "source": [
    "test.EngineVersion.value_counts(dropna=False)[:10]"
   ]
  },
  {
   "cell_type": "markdown",
   "metadata": {},
   "source": [
    "### AppVersion\n",
    "* 앱 버전도 시계열성 간접적으로 추측이 가능할 것\n",
    "* 네이밍 규칙을 정확히는 모르겠지만, 어느정도 시간성과 관련 있음"
   ]
  },
  {
   "cell_type": "code",
   "execution_count": 34,
   "metadata": {
    "ExecuteTime": {
     "end_time": "2019-02-10T05:46:08.375961Z",
     "start_time": "2019-02-10T05:46:08.309140Z"
    },
    "scrolled": false
   },
   "outputs": [
    {
     "data": {
      "text/plain": [
       "4.18.1807.18075     5139224\n",
       "4.18.1806.18062      850929\n",
       "4.12.16299.15        359871\n",
       "4.10.209.0           272455\n",
       "4.13.17134.1         257270\n",
       "4.16.17656.18052     235032\n",
       "4.13.17134.228       226501\n",
       "4.8.10240.17443      205480\n",
       "4.9.10586.1106       203525\n",
       "4.14.17639.18041     194699\n",
       "Name: AppVersion, dtype: int64"
      ]
     },
     "execution_count": 34,
     "metadata": {},
     "output_type": "execute_result"
    }
   ],
   "source": [
    "train.AppVersion.value_counts(dropna=False)[:10]"
   ]
  },
  {
   "cell_type": "code",
   "execution_count": 35,
   "metadata": {
    "ExecuteTime": {
     "end_time": "2019-02-10T05:46:11.401321Z",
     "start_time": "2019-02-10T05:46:11.340483Z"
    },
    "scrolled": false
   },
   "outputs": [
    {
     "data": {
      "text/plain": [
       "4.18.1809.2        2738721\n",
       "4.18.1810.5        2129928\n",
       "4.18.1807.18075     685600\n",
       "4.12.16299.15       267102\n",
       "4.13.17134.1        231117\n",
       "4.8.10240.17443     193085\n",
       "4.9.10586.1106      176442\n",
       "4.13.17134.320      169995\n",
       "4.10.209.0          155962\n",
       "4.13.17134.228      118351\n",
       "Name: AppVersion, dtype: int64"
      ]
     },
     "execution_count": 35,
     "metadata": {},
     "output_type": "execute_result"
    }
   ],
   "source": [
    "test.AppVersion.value_counts(dropna=False)[:10]"
   ]
  },
  {
   "cell_type": "markdown",
   "metadata": {},
   "source": [
    "### AvSigVersion\n",
    "* 어느정도 시간과 관련은 있지만, 완벽하게 이 컬럼으로 구분짓지는 않음"
   ]
  },
  {
   "cell_type": "code",
   "execution_count": 36,
   "metadata": {
    "ExecuteTime": {
     "end_time": "2019-02-10T05:46:14.631880Z",
     "start_time": "2019-02-10T05:46:14.565036Z"
    },
    "scrolled": true
   },
   "outputs": [
    {
     "data": {
      "text/plain": [
       "1.273.1420.0    102317\n",
       "1.263.48.0       98024\n",
       "1.275.1140.0     97232\n",
       "1.275.727.0      92448\n",
       "1.273.371.0      86967\n",
       "1.273.1826.0     86013\n",
       "1.275.1244.0     78902\n",
       "1.251.42.0       76837\n",
       "1.275.1209.0     66393\n",
       "1.273.810.0      65895\n",
       "Name: AvSigVersion, dtype: int64"
      ]
     },
     "execution_count": 36,
     "metadata": {},
     "output_type": "execute_result"
    }
   ],
   "source": [
    "train.AvSigVersion.value_counts(dropna=False)[:10]"
   ]
  },
  {
   "cell_type": "code",
   "execution_count": 37,
   "metadata": {
    "ExecuteTime": {
     "end_time": "2019-02-10T05:46:17.522783Z",
     "start_time": "2019-02-10T05:46:17.462972Z"
    }
   },
   "outputs": [
    {
     "data": {
      "text/plain": [
       "1.263.48.0      132624\n",
       "1.277.515.0      80393\n",
       "1.251.42.0       73723\n",
       "1.279.102.0      73108\n",
       "1.279.32.0       67893\n",
       "1.277.96.0       57377\n",
       "1.277.1044.0     54981\n",
       "1.277.1102.0     52147\n",
       "1.237.0.0        47158\n",
       "1.281.261.0      46284\n",
       "Name: AvSigVersion, dtype: int64"
      ]
     },
     "execution_count": 37,
     "metadata": {},
     "output_type": "execute_result"
    }
   ],
   "source": [
    "test.AvSigVersion.value_counts(dropna=False)[:10]"
   ]
  },
  {
   "cell_type": "markdown",
   "metadata": {},
   "source": [
    "### Platform\n",
    "* 10일수록 최신 플랫폼\n",
    "* 2016은 윈도우 서버 제품\n",
    "* 특이사항 없음"
   ]
  },
  {
   "cell_type": "code",
   "execution_count": 6,
   "metadata": {
    "ExecuteTime": {
     "end_time": "2019-02-10T12:47:48.087992Z",
     "start_time": "2019-02-10T12:47:48.014178Z"
    }
   },
   "outputs": [
    {
     "data": {
      "text/plain": [
       "windows10      8618715\n",
       "windows8        194508\n",
       "windows7         93889\n",
       "windows2016      14371\n",
       "Name: Platform, dtype: int64"
      ]
     },
     "execution_count": 6,
     "metadata": {},
     "output_type": "execute_result"
    }
   ],
   "source": [
    "train.Platform.value_counts(dropna=False)"
   ]
  },
  {
   "cell_type": "code",
   "execution_count": 8,
   "metadata": {
    "ExecuteTime": {
     "end_time": "2019-02-10T12:48:33.356193Z",
     "start_time": "2019-02-10T12:48:33.282362Z"
    }
   },
   "outputs": [
    {
     "data": {
      "text/plain": [
       "windows10      7675480\n",
       "windows8        111547\n",
       "windows7         55240\n",
       "windows2016      10986\n",
       "Name: Platform, dtype: int64"
      ]
     },
     "execution_count": 8,
     "metadata": {},
     "output_type": "execute_result"
    }
   ],
   "source": [
    "test.Platform.value_counts(dropna=False)"
   ]
  },
  {
   "cell_type": "markdown",
   "metadata": {},
   "source": [
    "### OsVer\n",
    "* 운영체제 버전 정보\n",
    "* 큰의미 없음"
   ]
  },
  {
   "cell_type": "code",
   "execution_count": 10,
   "metadata": {
    "ExecuteTime": {
     "end_time": "2019-02-10T12:50:16.842389Z",
     "start_time": "2019-02-10T12:50:16.763055Z"
    }
   },
   "outputs": [
    {
     "data": {
      "text/plain": [
       "10.0.0.0    8632545\n",
       "6.3.0.0      194447\n",
       "6.1.1.0       93268\n",
       "6.1.0.0         582\n",
       "10.0.3.0        225\n",
       "Name: OsVer, dtype: int64"
      ]
     },
     "execution_count": 10,
     "metadata": {},
     "output_type": "execute_result"
    }
   ],
   "source": [
    "train.OsVer.value_counts(dropna=False)[:5]"
   ]
  },
  {
   "cell_type": "code",
   "execution_count": 12,
   "metadata": {
    "ExecuteTime": {
     "end_time": "2019-02-10T12:50:33.687935Z",
     "start_time": "2019-02-10T12:50:33.624135Z"
    }
   },
   "outputs": [
    {
     "data": {
      "text/plain": [
       "10.0.0.0    7686083\n",
       "6.3.0.0      111520\n",
       "6.1.1.0       54653\n",
       "6.1.0.0         572\n",
       "10.0.3.0        167\n",
       "Name: OsVer, dtype: int64"
      ]
     },
     "execution_count": 12,
     "metadata": {},
     "output_type": "execute_result"
    }
   ],
   "source": [
    "test.OsVer.value_counts(dropna=False)[:5]"
   ]
  },
  {
   "cell_type": "markdown",
   "metadata": {},
   "source": [
    "### OsBuild\n",
    "* 거의 비슷"
   ]
  },
  {
   "cell_type": "code",
   "execution_count": 14,
   "metadata": {
    "ExecuteTime": {
     "end_time": "2019-02-10T12:51:17.494792Z",
     "start_time": "2019-02-10T12:51:17.373095Z"
    }
   },
   "outputs": [
    {
     "data": {
      "text/plain": [
       "17134    3915521\n",
       "16299    2503681\n",
       "15063     780270\n",
       "14393     730819\n",
       "10586     411606\n",
       "10240     270192\n",
       "9600      194508\n",
       "7601       93306\n",
       "17692       3184\n",
       "17738       2478\n",
       "Name: OsBuild, dtype: int64"
      ]
     },
     "execution_count": 14,
     "metadata": {},
     "output_type": "execute_result"
    }
   ],
   "source": [
    "train.OsBuild.value_counts(dropna=False)[:10]"
   ]
  },
  {
   "cell_type": "code",
   "execution_count": 16,
   "metadata": {
    "ExecuteTime": {
     "end_time": "2019-02-10T12:51:59.222229Z",
     "start_time": "2019-02-10T12:51:59.121530Z"
    }
   },
   "outputs": [
    {
     "data": {
      "text/plain": [
       "17134    3893188\n",
       "16299    1690582\n",
       "15063     616089\n",
       "14393     575569\n",
       "10586     367350\n",
       "17763     280705\n",
       "10240     248346\n",
       "9600      111547\n",
       "7601       54667\n",
       "18252       3246\n",
       "Name: OsBuild, dtype: int64"
      ]
     },
     "execution_count": 16,
     "metadata": {},
     "output_type": "execute_result"
    }
   ],
   "source": [
    "test.OsBuild.value_counts(dropna=False)[:10]"
   ]
  },
  {
   "cell_type": "markdown",
   "metadata": {},
   "source": [
    "### OsPlatformSubRelease\n",
    "* 서브릴리즈 이름\n",
    "* rs5정도 의미"
   ]
  },
  {
   "cell_type": "code",
   "execution_count": 17,
   "metadata": {
    "ExecuteTime": {
     "end_time": "2019-02-10T12:53:12.661721Z",
     "start_time": "2019-02-10T12:53:12.596835Z"
    }
   },
   "outputs": [
    {
     "data": {
      "text/plain": [
       "rs4           3915526\n",
       "rs3           2503681\n",
       "rs2            780270\n",
       "rs1            730819\n",
       "th2            411606\n",
       "th1            270192\n",
       "windows8.1     194508\n",
       "windows7        93889\n",
       "prers5          20992\n",
       "Name: OsPlatformSubRelease, dtype: int64"
      ]
     },
     "execution_count": 17,
     "metadata": {},
     "output_type": "execute_result"
    }
   ],
   "source": [
    "train.OsPlatformSubRelease.value_counts(dropna=False)"
   ]
  },
  {
   "cell_type": "code",
   "execution_count": 19,
   "metadata": {
    "ExecuteTime": {
     "end_time": "2019-02-10T12:55:15.090293Z",
     "start_time": "2019-02-10T12:55:15.030487Z"
    }
   },
   "outputs": [
    {
     "data": {
      "text/plain": [
       "rs4           3893189\n",
       "rs3           1690582\n",
       "rs2            616089\n",
       "rs1            575569\n",
       "th2            367350\n",
       "prers5         295341\n",
       "th1            248346\n",
       "windows8.1     111547\n",
       "windows7        55240\n",
       "Name: OsPlatformSubRelease, dtype: int64"
      ]
     },
     "execution_count": 19,
     "metadata": {},
     "output_type": "execute_result"
    }
   ],
   "source": [
    "test.OsPlatformSubRelease.value_counts(dropna=False)"
   ]
  },
  {
   "cell_type": "markdown",
   "metadata": {},
   "source": [
    "### OsBuildLab"
   ]
  },
  {
   "cell_type": "code",
   "execution_count": 22,
   "metadata": {
    "ExecuteTime": {
     "end_time": "2019-02-10T12:57:13.826277Z",
     "start_time": "2019-02-10T12:57:13.741503Z"
    },
    "scrolled": false
   },
   "outputs": [
    {
     "data": {
      "text/plain": [
       "17134.1.amd64fre.rs4_release.180410-1804                 3658199\n",
       "16299.431.amd64fre.rs3_release_svc_escrow.180502-1908    1252674\n",
       "16299.15.amd64fre.rs3_release.170928-1534                 961060\n",
       "15063.0.amd64fre.rs2_release.170317-1834                  718033\n",
       "17134.1.x86fre.rs4_release.180410-1804                    257074\n",
       "16299.15.x86fre.rs3_release.170928-1534                   233449\n",
       "14393.2189.amd64fre.rs1_release.180329-1711               193636\n",
       "10240.17443.amd64fre.th1.170602-2340                      171990\n",
       "10586.1176.amd64fre.th2_release_sec.170913-1848           148259\n",
       "15063.0.x86fre.rs2_release.170317-1834                     62237\n",
       "14393.0.amd64fre.rs1_release.160715-1616                   58292\n",
       "9600.19101.amd64fre.winblue_ltsb_escrow.180718-1800        56036\n",
       "9600.19067.amd64fre.winblue_ltsb_escrow.180619-2033        55853\n",
       "16299.637.amd64fre.rs3_release_svc.180808-1748             44817\n",
       "14393.2189.x86fre.rs1_release.180329-1711                  39392\n",
       "10586.1176.x86fre.th2_release_sec.170913-1848              36929\n",
       "14393.693.amd64fre.rs1_release.161220-1747                 35870\n",
       "10240.17443.x86fre.th1.170602-2340                         33479\n",
       "14393.2214.amd64fre.rs1_release_1.180402-1758              30585\n",
       "10586.0.amd64fre.th2_release.151029-1700                   27240\n",
       "Name: OsBuildLab, dtype: int64"
      ]
     },
     "execution_count": 22,
     "metadata": {},
     "output_type": "execute_result"
    }
   ],
   "source": [
    "train.OsBuildLab.value_counts(dropna=False)[:20]"
   ]
  },
  {
   "cell_type": "code",
   "execution_count": 23,
   "metadata": {
    "ExecuteTime": {
     "end_time": "2019-02-10T12:57:17.534157Z",
     "start_time": "2019-02-10T12:57:17.460356Z"
    }
   },
   "outputs": [
    {
     "data": {
      "text/plain": [
       "17134.1.amd64fre.rs4_release.180410-1804                 3628554\n",
       "16299.15.amd64fre.rs3_release.170928-1534                 731698\n",
       "15063.0.amd64fre.rs2_release.170317-1834                  570217\n",
       "16299.431.amd64fre.rs3_release_svc_escrow.180502-1908     522601\n",
       "16299.637.amd64fre.rs3_release_svc.180808-1748            277431\n",
       "17763.1.amd64fre.rs5_release.180914-1434                  266323\n",
       "17134.1.x86fre.rs4_release.180410-1804                    264521\n",
       "14393.2189.amd64fre.rs1_release.180329-1711               163371\n",
       "10240.17443.amd64fre.th1.170602-2340                      162781\n",
       "16299.15.x86fre.rs3_release.170928-1534                   132176\n",
       "10586.1176.amd64fre.th2_release_sec.170913-1848           131801\n",
       "14393.0.amd64fre.rs1_release.160715-1616                   57739\n",
       "9600.19153.amd64fre.winblue_ltsb.180908-0600               49398\n",
       "15063.0.x86fre.rs2_release.170317-1834                     45868\n",
       "10586.0.amd64fre.th2_release.151029-1700                   32668\n",
       "14393.2189.x86fre.rs1_release.180329-1711                  31127\n",
       "10586.1176.x86fre.th2_release_sec.170913-1848              30716\n",
       "14393.2214.amd64fre.rs1_release_1.180402-1758              30351\n",
       "10240.17443.x86fre.th1.170602-2340                         30272\n",
       "9600.19125.amd64fre.winblue_ltsb.180812-0703               27032\n",
       "Name: OsBuildLab, dtype: int64"
      ]
     },
     "execution_count": 23,
     "metadata": {},
     "output_type": "execute_result"
    }
   ],
   "source": [
    "test.OsBuildLab.value_counts(dropna=False)[:20]"
   ]
  },
  {
   "cell_type": "markdown",
   "metadata": {},
   "source": [
    "### Census_OSVersion\t\n",
    "* 의미있음"
   ]
  },
  {
   "cell_type": "code",
   "execution_count": 28,
   "metadata": {
    "ExecuteTime": {
     "end_time": "2019-02-10T13:02:29.626191Z",
     "start_time": "2019-02-10T13:02:29.555414Z"
    }
   },
   "outputs": [
    {
     "data": {
      "text/plain": [
       "10.0.17134.228     1413627\n",
       "10.0.17134.165      899711\n",
       "10.0.16299.431      546546\n",
       "10.0.17134.285      470280\n",
       "10.0.16299.547      346853\n",
       "10.0.17134.112      346410\n",
       "10.0.16299.371      325267\n",
       "10.0.17134.191      228254\n",
       "10.0.14393.2189     223775\n",
       "10.0.16299.611      216776\n",
       "Name: Census_OSVersion, dtype: int64"
      ]
     },
     "execution_count": 28,
     "metadata": {},
     "output_type": "execute_result"
    }
   ],
   "source": [
    "train.Census_OSVersion.value_counts(dropna=False)[:10]"
   ]
  },
  {
   "cell_type": "code",
   "execution_count": 29,
   "metadata": {
    "ExecuteTime": {
     "end_time": "2019-02-10T13:02:32.386221Z",
     "start_time": "2019-02-10T13:02:32.326360Z"
    }
   },
   "outputs": [
    {
     "data": {
      "text/plain": [
       "10.0.17134.345      1377565\n",
       "10.0.17134.285       669674\n",
       "10.0.17134.407       520122\n",
       "10.0.17134.286       365793\n",
       "10.0.16299.431       283978\n",
       "10.0.17134.112       227059\n",
       "10.0.10240.17443     195916\n",
       "10.0.16299.371       195793\n",
       "10.0.14393.2189      191389\n",
       "10.0.10586.1176      164920\n",
       "Name: Census_OSVersion, dtype: int64"
      ]
     },
     "execution_count": 29,
     "metadata": {},
     "output_type": "execute_result"
    }
   ],
   "source": [
    "test.Census_OSVersion.value_counts(dropna=False)[:10]"
   ]
  },
  {
   "cell_type": "markdown",
   "metadata": {},
   "source": [
    "### Census_OSBranch"
   ]
  },
  {
   "cell_type": "code",
   "execution_count": 31,
   "metadata": {
    "ExecuteTime": {
     "end_time": "2019-02-10T13:03:34.117333Z",
     "start_time": "2019-02-10T13:03:34.050514Z"
    }
   },
   "outputs": [
    {
     "data": {
      "text/plain": [
       "rs4_release               4009158\n",
       "rs3_release               1237321\n",
       "rs3_release_svc_escrow    1199767\n",
       "rs2_release                797066\n",
       "rs1_release                785534\n",
       "th2_release                326655\n",
       "th2_release_sec            266882\n",
       "th1_st1                    195840\n",
       "th1                         75764\n",
       "rs5_release                 15324\n",
       "Name: Census_OSBranch, dtype: int64"
      ]
     },
     "execution_count": 31,
     "metadata": {},
     "output_type": "execute_result"
    }
   ],
   "source": [
    "train.Census_OSBranch.value_counts(dropna=False)[:10]"
   ]
  },
  {
   "cell_type": "code",
   "execution_count": 32,
   "metadata": {
    "ExecuteTime": {
     "end_time": "2019-02-10T13:03:40.705427Z",
     "start_time": "2019-02-10T13:03:40.646586Z"
    }
   },
   "outputs": [
    {
     "data": {
      "text/plain": [
       "rs4_release               3979144\n",
       "rs3_release               1127648\n",
       "rs2_release                626698\n",
       "rs1_release                603919\n",
       "rs3_release_svc_escrow     496021\n",
       "rs5_release                290608\n",
       "th2_release                240049\n",
       "th2_release_sec            224555\n",
       "th1_st1                    183721\n",
       "th1                         67214\n",
       "Name: Census_OSBranch, dtype: int64"
      ]
     },
     "execution_count": 32,
     "metadata": {},
     "output_type": "execute_result"
    }
   ],
   "source": [
    "test.Census_OSBranch.value_counts(dropna=False)[:10]"
   ]
  },
  {
   "cell_type": "markdown",
   "metadata": {},
   "source": [
    "### Census_OSBuildNumber"
   ]
  },
  {
   "cell_type": "code",
   "execution_count": 35,
   "metadata": {
    "ExecuteTime": {
     "end_time": "2019-02-10T13:05:24.093708Z",
     "start_time": "2019-02-10T13:05:23.972066Z"
    }
   },
   "outputs": [
    {
     "data": {
      "text/plain": [
       "17134    4008881\n",
       "16299    2443249\n",
       "15063     797049\n",
       "14393     785450\n",
       "10586     593527\n",
       "10240     271604\n",
       "17692       3096\n",
       "17738       3062\n",
       "17744       2372\n",
       "17758       1703\n",
       "Name: Census_OSBuildNumber, dtype: int64"
      ]
     },
     "execution_count": 35,
     "metadata": {},
     "output_type": "execute_result"
    }
   ],
   "source": [
    "train.Census_OSBuildNumber.value_counts(dropna=False)[:10]"
   ]
  },
  {
   "cell_type": "code",
   "execution_count": 36,
   "metadata": {
    "ExecuteTime": {
     "end_time": "2019-02-10T13:05:27.397487Z",
     "start_time": "2019-02-10T13:05:27.298714Z"
    }
   },
   "outputs": [
    {
     "data": {
      "text/plain": [
       "17134    3978878\n",
       "16299    1627934\n",
       "15063     626684\n",
       "14393     603871\n",
       "10586     464599\n",
       "17763     285400\n",
       "10240     250935\n",
       "18252       3299\n",
       "17758       2984\n",
       "18282       1214\n",
       "Name: Census_OSBuildNumber, dtype: int64"
      ]
     },
     "execution_count": 36,
     "metadata": {},
     "output_type": "execute_result"
    }
   ],
   "source": [
    "test.Census_OSBuildNumber.value_counts(dropna=False)[:10]"
   ]
  },
  {
   "cell_type": "markdown",
   "metadata": {},
   "source": [
    "### Census_OSBuildRevision\n",
    "* 중요!"
   ]
  },
  {
   "cell_type": "code",
   "execution_count": 39,
   "metadata": {
    "ExecuteTime": {
     "end_time": "2019-02-10T13:07:41.730088Z",
     "start_time": "2019-02-10T13:07:41.600468Z"
    }
   },
   "outputs": [
    {
     "data": {
      "text/plain": [
       "228     1413633\n",
       "165      899712\n",
       "431      546548\n",
       "285      470280\n",
       "547      346853\n",
       "112      346488\n",
       "371      325267\n",
       "191      228255\n",
       "2189     223775\n",
       "611      216776\n",
       "Name: Census_OSBuildRevision, dtype: int64"
      ]
     },
     "execution_count": 39,
     "metadata": {},
     "output_type": "execute_result"
    }
   ],
   "source": [
    "train.Census_OSBuildRevision.value_counts(dropna=False)[:10]"
   ]
  },
  {
   "cell_type": "code",
   "execution_count": 40,
   "metadata": {
    "ExecuteTime": {
     "end_time": "2019-02-10T13:07:45.195464Z",
     "start_time": "2019-02-10T13:07:45.092709Z"
    }
   },
   "outputs": [
    {
     "data": {
      "text/plain": [
       "345      1377568\n",
       "285       669675\n",
       "407       520122\n",
       "286       365795\n",
       "431       283978\n",
       "112       227122\n",
       "17443     195916\n",
       "371       195793\n",
       "2189      191389\n",
       "1         179005\n",
       "Name: Census_OSBuildRevision, dtype: int64"
      ]
     },
     "execution_count": 40,
     "metadata": {},
     "output_type": "execute_result"
    }
   ],
   "source": [
    "test.Census_OSBuildRevision.value_counts(dropna=False)[:10]"
   ]
  },
  {
   "cell_type": "markdown",
   "metadata": {},
   "source": [
    "### Census_OSInstallTypeName"
   ]
  },
  {
   "cell_type": "code",
   "execution_count": 41,
   "metadata": {
    "ExecuteTime": {
     "end_time": "2019-02-10T13:08:34.958811Z",
     "start_time": "2019-02-10T13:08:34.894982Z"
    }
   },
   "outputs": [
    {
     "data": {
      "text/plain": [
       "UUPUpgrade        2608037\n",
       "IBSClean          1650733\n",
       "Update            1593308\n",
       "Upgrade           1251559\n",
       "Other              840121\n",
       "Reset              649201\n",
       "Refresh            205842\n",
       "Clean               69073\n",
       "CleanPCRefresh      53609\n",
       "Name: Census_OSInstallTypeName, dtype: int64"
      ]
     },
     "execution_count": 41,
     "metadata": {},
     "output_type": "execute_result"
    }
   ],
   "source": [
    "train.Census_OSInstallTypeName.value_counts(dropna=False)"
   ]
  },
  {
   "cell_type": "code",
   "execution_count": 42,
   "metadata": {
    "ExecuteTime": {
     "end_time": "2019-02-10T13:08:40.045176Z",
     "start_time": "2019-02-10T13:08:39.978353Z"
    }
   },
   "outputs": [
    {
     "data": {
      "text/plain": [
       "IBSClean          2110259\n",
       "UUPUpgrade        1847191\n",
       "Update            1109763\n",
       "Upgrade            942760\n",
       "Other              809406\n",
       "Reset              630962\n",
       "Refresh            256050\n",
       "Clean               74920\n",
       "CleanPCRefresh      71942\n",
       "Name: Census_OSInstallTypeName, dtype: int64"
      ]
     },
     "execution_count": 42,
     "metadata": {},
     "output_type": "execute_result"
    }
   ],
   "source": [
    "test.Census_OSInstallTypeName.value_counts(dropna=False)"
   ]
  }
 ],
 "metadata": {
  "kernelspec": {
   "display_name": "Python 3",
   "language": "python",
   "name": "python3"
  },
  "language_info": {
   "codemirror_mode": {
    "name": "ipython",
    "version": 3
   },
   "file_extension": ".py",
   "mimetype": "text/x-python",
   "name": "python",
   "nbconvert_exporter": "python",
   "pygments_lexer": "ipython3",
   "version": "3.6.7"
  },
  "toc": {
   "base_numbering": 1,
   "nav_menu": {},
   "number_sections": true,
   "sideBar": true,
   "skip_h1_title": false,
   "title_cell": "Table of Contents",
   "title_sidebar": "Contents",
   "toc_cell": false,
   "toc_position": {},
   "toc_section_display": true,
   "toc_window_display": true
  }
 },
 "nbformat": 4,
 "nbformat_minor": 2
}
