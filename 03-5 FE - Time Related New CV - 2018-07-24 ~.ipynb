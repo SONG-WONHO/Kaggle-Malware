{
 "cells": [
  {
   "cell_type": "markdown",
   "metadata": {},
   "source": [
    "# 사전작업"
   ]
  },
  {
   "cell_type": "markdown",
   "metadata": {},
   "source": [
    "## 라이브러리 로드"
   ]
  },
  {
   "cell_type": "code",
   "execution_count": 1,
   "metadata": {
    "ExecuteTime": {
     "end_time": "2019-03-10T17:36:01.626675Z",
     "start_time": "2019-03-10T17:36:00.658065Z"
    }
   },
   "outputs": [],
   "source": [
    "import numpy as np\n",
    "import pandas as pd\n",
    "import warnings\n",
    "import gc\n",
    "from tqdm import tqdm_notebook\n",
    "import lightgbm as lgb\n",
    "from scipy.sparse import vstack, csr_matrix, save_npz, load_npz\n",
    "from sklearn.preprocessing import LabelEncoder, OneHotEncoder\n",
    "from sklearn.model_selection import StratifiedKFold\n",
    "import matplotlib.pyplot as plt\n",
    "import seaborn as sns\n",
    "from sklearn.compose import ColumnTransformer\n",
    "\n",
    "warnings.filterwarnings(\"ignore\")\n",
    "gc.enable()"
   ]
  },
  {
   "cell_type": "code",
   "execution_count": 2,
   "metadata": {
    "ExecuteTime": {
     "end_time": "2019-03-10T17:36:01.633656Z",
     "start_time": "2019-03-10T17:36:01.628671Z"
    }
   },
   "outputs": [],
   "source": [
    "pd.set_option('max_rows', 150)\n",
    "pd.set_option('max_colwidth', 500)\n",
    "pd.set_option('max_columns', 500)"
   ]
  },
  {
   "cell_type": "markdown",
   "metadata": {},
   "source": [
    "## 데이터 로드"
   ]
  },
  {
   "cell_type": "code",
   "execution_count": 3,
   "metadata": {
    "ExecuteTime": {
     "end_time": "2019-03-10T17:36:01.643639Z",
     "start_time": "2019-03-10T17:36:01.634655Z"
    },
    "hide_input": true
   },
   "outputs": [],
   "source": [
    "dtypes = {\n",
    "        'MachineIdentifier':                                    'object',\n",
    "        'ProductName':                                          'category',\n",
    "        'EngineVersion':                                        'category',\n",
    "        'AppVersion':                                           'category',\n",
    "        'AvSigVersion':                                         'category',\n",
    "        'IsBeta':                                               'int8',\n",
    "        'RtpStateBitfield':                                     'float16',\n",
    "        'IsSxsPassiveMode':                                     'int8',\n",
    "        'DefaultBrowsersIdentifier':                            'float16',\n",
    "        'AVProductStatesIdentifier':                            'float32',\n",
    "        'AVProductsInstalled':                                  'float16',\n",
    "        'AVProductsEnabled':                                    'float16',\n",
    "        'HasTpm':                                               'int8',\n",
    "        'CountryIdentifier':                                    'int16',\n",
    "        'CityIdentifier':                                       'float32',\n",
    "        'OrganizationIdentifier':                               'float16',\n",
    "        'GeoNameIdentifier':                                    'float16',\n",
    "        'LocaleEnglishNameIdentifier':                          'int8',\n",
    "        'Platform':                                             'category',\n",
    "        'Processor':                                            'category',\n",
    "        'OsVer':                                                'category',\n",
    "        'OsBuild':                                              'int16',\n",
    "        'OsSuite':                                              'int16',\n",
    "        'OsPlatformSubRelease':                                 'category',\n",
    "        'OsBuildLab':                                           'category',\n",
    "        'SkuEdition':                                           'category',\n",
    "        'IsProtected':                                          'float16',\n",
    "        'AutoSampleOptIn':                                      'int8',\n",
    "        'PuaMode':                                              'category',\n",
    "        'SMode':                                                'float16',\n",
    "        'IeVerIdentifier':                                      'float16',\n",
    "        'SmartScreen':                                          'category',\n",
    "        'Firewall':                                             'float16',\n",
    "        'UacLuaenable':                                         'float32',\n",
    "        'Census_MDC2FormFactor':                                'category',\n",
    "        'Census_DeviceFamily':                                  'category',\n",
    "        'Census_OEMNameIdentifier':                             'float16',\n",
    "        'Census_OEMModelIdentifier':                            'float32',\n",
    "        'Census_ProcessorCoreCount':                            'float16',\n",
    "        'Census_ProcessorManufacturerIdentifier':               'float16',\n",
    "        'Census_ProcessorModelIdentifier':                      'float16',\n",
    "        'Census_ProcessorClass':                                'category',\n",
    "        'Census_PrimaryDiskTotalCapacity':                      'float32',\n",
    "        'Census_PrimaryDiskTypeName':                           'category',\n",
    "        'Census_SystemVolumeTotalCapacity':                     'float32',\n",
    "        'Census_HasOpticalDiskDrive':                           'int8',\n",
    "        'Census_TotalPhysicalRAM':                              'float32',\n",
    "        'Census_ChassisTypeName':                               'category',\n",
    "        'Census_InternalPrimaryDiagonalDisplaySizeInInches':    'float16',\n",
    "        'Census_InternalPrimaryDisplayResolutionHorizontal':    'float16',\n",
    "        'Census_InternalPrimaryDisplayResolutionVertical':      'float16',\n",
    "        'Census_PowerPlatformRoleName':                         'category',\n",
    "        'Census_InternalBatteryType':                           'category',\n",
    "        'Census_InternalBatteryNumberOfCharges':                'float32',\n",
    "        'Census_OSVersion':                                     'category',\n",
    "        'Census_OSArchitecture':                                'category',\n",
    "        'Census_OSBranch':                                      'category',\n",
    "        'Census_OSBuildNumber':                                 'int16',\n",
    "        'Census_OSBuildRevision':                               'int32',\n",
    "        'Census_OSEdition':                                     'category',\n",
    "        'Census_OSSkuName':                                     'category',\n",
    "        'Census_OSInstallTypeName':                             'category',\n",
    "        'Census_OSInstallLanguageIdentifier':                   'float16',\n",
    "        'Census_OSUILocaleIdentifier':                          'int16',\n",
    "        'Census_OSWUAutoUpdateOptionsName':                     'category',\n",
    "        'Census_IsPortableOperatingSystem':                     'int8',\n",
    "        'Census_GenuineStateName':                              'category',\n",
    "        'Census_ActivationChannel':                             'category',\n",
    "        'Census_IsFlightingInternal':                           'float16',\n",
    "        'Census_IsFlightsDisabled':                             'float16',\n",
    "        'Census_FlightRing':                                    'category',\n",
    "        'Census_ThresholdOptIn':                                'float16',\n",
    "        'Census_FirmwareManufacturerIdentifier':                'float16',\n",
    "        'Census_FirmwareVersionIdentifier':                     'float32',\n",
    "        'Census_IsSecureBootEnabled':                           'int8',\n",
    "        'Census_IsWIMBootEnabled':                              'float16',\n",
    "        'Census_IsVirtualDevice':                               'float16',\n",
    "        'Census_IsTouchEnabled':                                'int8',\n",
    "        'Census_IsPenCapable':                                  'int8',\n",
    "        'Census_IsAlwaysOnAlwaysConnectedCapable':              'float16',\n",
    "        'Wdft_IsGamer':                                         'float16',\n",
    "        'Wdft_RegionIdentifier':                                'float16',\n",
    "        'HasDetections':                                        'int8'\n",
    "        }"
   ]
  },
  {
   "cell_type": "code",
   "execution_count": 4,
   "metadata": {
    "ExecuteTime": {
     "end_time": "2019-03-10T17:39:42.759016Z",
     "start_time": "2019-03-10T17:36:01.645626Z"
    },
    "scrolled": true
   },
   "outputs": [
    {
     "name": "stdout",
     "output_type": "stream",
     "text": [
      "Wall time: 3min 41s\n"
     ]
    }
   ],
   "source": [
    "%%time\n",
    "train = pd.read_csv('./data/train.csv', dtype=dtypes)\n",
    "test = pd.read_csv('./data/test.csv', dtype=dtypes)"
   ]
  },
  {
   "cell_type": "markdown",
   "metadata": {},
   "source": [
    "## train, test 합치기"
   ]
  },
  {
   "cell_type": "code",
   "execution_count": 5,
   "metadata": {
    "ExecuteTime": {
     "end_time": "2019-03-10T17:40:47.687285Z",
     "start_time": "2019-03-10T17:39:42.761009Z"
    }
   },
   "outputs": [
    {
     "data": {
      "text/plain": [
       "194754"
      ]
     },
     "execution_count": 5,
     "metadata": {},
     "output_type": "execute_result"
    }
   ],
   "source": [
    "test['HasDetections'] = np.nan\n",
    "data = train.append(test)\n",
    "data.reset_index(drop=True, inplace=True)\n",
    "data = data.reset_index().drop(['MachineIdentifier'], axis=1).rename(columns={'index':'MachineIdentifier'})\n",
    "del train, test\n",
    "gc.collect()"
   ]
  },
  {
   "cell_type": "markdown",
   "metadata": {},
   "source": [
    "## Get Date - AvSigVersion"
   ]
  },
  {
   "cell_type": "code",
   "execution_count": 3,
   "metadata": {
    "ExecuteTime": {
     "end_time": "2019-03-11T03:22:34.463817Z",
     "start_time": "2019-03-11T03:22:34.450854Z"
    }
   },
   "outputs": [
    {
     "ename": "NameError",
     "evalue": "name 'np' is not defined",
     "output_type": "error",
     "traceback": [
      "\u001b[1;31m---------------------------------------------------------------------------\u001b[0m",
      "\u001b[1;31mNameError\u001b[0m                                 Traceback (most recent call last)",
      "\u001b[1;32m<ipython-input-3-8393891ff904>\u001b[0m in \u001b[0;36m<module>\u001b[1;34m\u001b[0m\n\u001b[1;32m----> 1\u001b[1;33m \u001b[0mdatedict\u001b[0m \u001b[1;33m=\u001b[0m \u001b[0mnp\u001b[0m\u001b[1;33m.\u001b[0m\u001b[0mload\u001b[0m\u001b[1;33m(\u001b[0m\u001b[1;34m'./data/AvSigVersionTimestamps.npy'\u001b[0m\u001b[1;33m)\u001b[0m\u001b[1;33m\u001b[0m\u001b[1;33m\u001b[0m\u001b[0m\n\u001b[0m\u001b[0;32m      2\u001b[0m \u001b[0mdatedict\u001b[0m \u001b[1;33m=\u001b[0m \u001b[0mdatedict\u001b[0m\u001b[1;33m[\u001b[0m\u001b[1;33m(\u001b[0m\u001b[1;33m)\u001b[0m\u001b[1;33m]\u001b[0m\u001b[1;33m\u001b[0m\u001b[1;33m\u001b[0m\u001b[0m\n\u001b[0;32m      3\u001b[0m \u001b[0mdata\u001b[0m\u001b[1;33m[\u001b[0m\u001b[1;34m'Date'\u001b[0m\u001b[1;33m]\u001b[0m \u001b[1;33m=\u001b[0m \u001b[0mdata\u001b[0m\u001b[1;33m[\u001b[0m\u001b[1;34m'AvSigVersion'\u001b[0m\u001b[1;33m]\u001b[0m\u001b[1;33m.\u001b[0m\u001b[0mmap\u001b[0m\u001b[1;33m(\u001b[0m\u001b[0mdatedict\u001b[0m\u001b[1;33m)\u001b[0m\u001b[1;33m\u001b[0m\u001b[1;33m\u001b[0m\u001b[0m\n\u001b[0;32m      4\u001b[0m \u001b[0mdata\u001b[0m\u001b[1;33m[\u001b[0m\u001b[1;34m'Date_YMD'\u001b[0m\u001b[1;33m]\u001b[0m \u001b[1;33m=\u001b[0m \u001b[0mpd\u001b[0m\u001b[1;33m.\u001b[0m\u001b[0mto_datetime\u001b[0m\u001b[1;33m(\u001b[0m\u001b[0mdata\u001b[0m\u001b[1;33m[\u001b[0m\u001b[1;34m'Date'\u001b[0m\u001b[1;33m]\u001b[0m\u001b[1;33m.\u001b[0m\u001b[0mastype\u001b[0m\u001b[1;33m(\u001b[0m\u001b[0mstr\u001b[0m\u001b[1;33m)\u001b[0m\u001b[1;33m.\u001b[0m\u001b[0mstr\u001b[0m\u001b[1;33m.\u001b[0m\u001b[0mslice\u001b[0m\u001b[1;33m(\u001b[0m\u001b[1;36m0\u001b[0m\u001b[1;33m,\u001b[0m \u001b[1;36m10\u001b[0m\u001b[1;33m)\u001b[0m\u001b[1;33m)\u001b[0m\u001b[1;33m\u001b[0m\u001b[1;33m\u001b[0m\u001b[0m\n\u001b[0;32m      5\u001b[0m \u001b[1;32mdel\u001b[0m \u001b[0mdatedict\u001b[0m\u001b[1;33m\u001b[0m\u001b[1;33m\u001b[0m\u001b[0m\n",
      "\u001b[1;31mNameError\u001b[0m: name 'np' is not defined"
     ]
    }
   ],
   "source": [
    "datedict = np.load('./data/AvSigVersionTimestamps.npy')\n",
    "datedict = datedict[()]\n",
    "data['Date'] = data['AvSigVersion'].map(datedict)\n",
    "data['Date_YMD'] = pd.to_datetime(data['Date'].astype(str).str.slice(0, 10))\n",
    "del datedict"
   ]
  },
  {
   "cell_type": "markdown",
   "metadata": {},
   "source": [
    "## 2018년 7월 25일 ~ 9월 24일"
   ]
  },
  {
   "cell_type": "markdown",
   "metadata": {},
   "source": [
    "### Data Load"
   ]
  },
  {
   "cell_type": "code",
   "execution_count": 7,
   "metadata": {
    "ExecuteTime": {
     "end_time": "2019-03-10T17:41:22.708222Z",
     "start_time": "2019-03-10T17:41:16.406492Z"
    }
   },
   "outputs": [],
   "source": [
    "train = data[~data.HasDetections.isna()]\n",
    "test = data[data.HasDetections.isna()]"
   ]
  },
  {
   "cell_type": "code",
   "execution_count": 8,
   "metadata": {
    "ExecuteTime": {
     "end_time": "2019-03-10T17:41:29.646157Z",
     "start_time": "2019-03-10T17:41:22.716238Z"
    }
   },
   "outputs": [],
   "source": [
    "lb_692 = pd.read_csv('./data/submission_lgb.csv')\n",
    "lb_692['Date_YMD'] = test.Date_YMD.values"
   ]
  },
  {
   "cell_type": "code",
   "execution_count": 9,
   "metadata": {
    "ExecuteTime": {
     "end_time": "2019-03-10T17:41:36.291158Z",
     "start_time": "2019-03-10T17:41:29.650150Z"
    }
   },
   "outputs": [],
   "source": [
    "lb_701 = pd.read_csv('./data/YH_v3_new_jebal.csv')\n",
    "lb_701['Date_YMD'] = test.Date_YMD.values"
   ]
  },
  {
   "cell_type": "code",
   "execution_count": 10,
   "metadata": {
    "ExecuteTime": {
     "end_time": "2019-03-10T17:41:46.373302Z",
     "start_time": "2019-03-10T17:41:36.292821Z"
    }
   },
   "outputs": [],
   "source": [
    "lb_702 = pd.read_csv('./data/time_test.csv')\n",
    "lb_702['Date_YMD'] = test.Date_YMD.values"
   ]
  },
  {
   "cell_type": "code",
   "execution_count": 13,
   "metadata": {
    "ExecuteTime": {
     "end_time": "2019-03-10T17:43:59.381779Z",
     "start_time": "2019-03-10T17:43:53.305980Z"
    }
   },
   "outputs": [],
   "source": [
    "lb_706 = pd.read_csv('./data/time_test_3.csv')\n",
    "lb_706['Date_YMD'] = test.Date_YMD.values"
   ]
  },
  {
   "cell_type": "code",
   "execution_count": 14,
   "metadata": {
    "ExecuteTime": {
     "end_time": "2019-03-10T17:44:06.493141Z",
     "start_time": "2019-03-10T17:43:59.853684Z"
    }
   },
   "outputs": [],
   "source": [
    "catboost_timeshift = pd.read_csv('./data/catboost_timeshift.csv')\n",
    "catboost_timeshift['Date_YMD'] = test.Date_YMD.values"
   ]
  },
  {
   "cell_type": "code",
   "execution_count": 16,
   "metadata": {
    "ExecuteTime": {
     "end_time": "2019-03-10T17:44:27.755923Z",
     "start_time": "2019-03-10T17:44:21.455578Z"
    }
   },
   "outputs": [],
   "source": [
    "catboost_timeshift_post = pd.read_csv('./data/catboost_timeshift_postprocessing.csv')\n",
    "catboost_timeshift_post['Date_YMD'] = test.Date_YMD.values"
   ]
  },
  {
   "cell_type": "markdown",
   "metadata": {},
   "source": [
    "### make meta"
   ]
  },
  {
   "cell_type": "code",
   "execution_count": 77,
   "metadata": {
    "ExecuteTime": {
     "end_time": "2019-03-10T17:48:18.088310Z",
     "start_time": "2019-03-10T17:48:17.687375Z"
    }
   },
   "outputs": [],
   "source": [
    "time_idx = data.groupby(['Date_YMD']).size().index"
   ]
  },
  {
   "cell_type": "code",
   "execution_count": 78,
   "metadata": {
    "ExecuteTime": {
     "end_time": "2019-03-10T17:48:18.096242Z",
     "start_time": "2019-03-10T17:48:18.090257Z"
    }
   },
   "outputs": [],
   "source": [
    "temp = pd.DataFrame(time_idx)"
   ]
  },
  {
   "cell_type": "code",
   "execution_count": 79,
   "metadata": {
    "ExecuteTime": {
     "end_time": "2019-03-10T17:48:18.103251Z",
     "start_time": "2019-03-10T17:48:18.098236Z"
    }
   },
   "outputs": [],
   "source": [
    "condition = (temp.Date_YMD >= '2018-07-25')&(temp.Date_YMD <= '2018-11-24')"
   ]
  },
  {
   "cell_type": "markdown",
   "metadata": {},
   "source": [
    "### train, test"
   ]
  },
  {
   "cell_type": "code",
   "execution_count": 80,
   "metadata": {
    "ExecuteTime": {
     "end_time": "2019-03-10T17:48:18.828287Z",
     "start_time": "2019-03-10T17:48:18.315663Z"
    }
   },
   "outputs": [],
   "source": [
    "tr_temp = train.groupby('Date_YMD').HasDetections.agg(['size', 'mean']).reset_index()\n",
    "te_temp = test.groupby('Date_YMD').HasDetections.agg(['size', 'mean']).reset_index()"
   ]
  },
  {
   "cell_type": "code",
   "execution_count": 81,
   "metadata": {
    "ExecuteTime": {
     "end_time": "2019-03-10T17:48:18.842296Z",
     "start_time": "2019-03-10T17:48:18.830282Z"
    }
   },
   "outputs": [],
   "source": [
    "tr_temp = temp.merge(tr_temp, on='Date_YMD', how='left')\n",
    "te_temp = temp.merge(te_temp, on='Date_YMD', how='left')"
   ]
  },
  {
   "cell_type": "code",
   "execution_count": 82,
   "metadata": {
    "ExecuteTime": {
     "end_time": "2019-03-10T17:48:18.848271Z",
     "start_time": "2019-03-10T17:48:18.843249Z"
    }
   },
   "outputs": [],
   "source": [
    "tr_temp = tr_temp[condition]\n",
    "te_temp = te_temp[condition]"
   ]
  },
  {
   "cell_type": "markdown",
   "metadata": {},
   "source": [
    "### lb_692"
   ]
  },
  {
   "cell_type": "code",
   "execution_count": 83,
   "metadata": {
    "ExecuteTime": {
     "end_time": "2019-03-10T17:48:19.190113Z",
     "start_time": "2019-03-10T17:48:18.930843Z"
    }
   },
   "outputs": [],
   "source": [
    "lb_temp_692 = lb_692.groupby('Date_YMD').HasDetections.agg(['size', 'mean']).reset_index()"
   ]
  },
  {
   "cell_type": "code",
   "execution_count": 84,
   "metadata": {
    "ExecuteTime": {
     "end_time": "2019-03-10T17:48:19.199090Z",
     "start_time": "2019-03-10T17:48:19.192108Z"
    }
   },
   "outputs": [],
   "source": [
    "lb_temp_692 = temp.merge(lb_temp_692, on='Date_YMD', how='left')"
   ]
  },
  {
   "cell_type": "code",
   "execution_count": 85,
   "metadata": {
    "ExecuteTime": {
     "end_time": "2019-03-10T17:48:19.271948Z",
     "start_time": "2019-03-10T17:48:19.267960Z"
    }
   },
   "outputs": [],
   "source": [
    "lb_temp_692 = lb_temp_692[condition]"
   ]
  },
  {
   "cell_type": "markdown",
   "metadata": {},
   "source": [
    "### lb_701"
   ]
  },
  {
   "cell_type": "code",
   "execution_count": 86,
   "metadata": {
    "ExecuteTime": {
     "end_time": "2019-03-10T17:48:19.831701Z",
     "start_time": "2019-03-10T17:48:19.579360Z"
    }
   },
   "outputs": [],
   "source": [
    "lb_temp_701 = lb_701.groupby('Date_YMD').HasDetections.agg(['size', 'mean']).reset_index()"
   ]
  },
  {
   "cell_type": "code",
   "execution_count": 87,
   "metadata": {
    "ExecuteTime": {
     "end_time": "2019-03-10T17:48:19.842664Z",
     "start_time": "2019-03-10T17:48:19.833647Z"
    }
   },
   "outputs": [],
   "source": [
    "lb_temp_701 = temp.merge(lb_temp_701, on='Date_YMD', how='left')"
   ]
  },
  {
   "cell_type": "code",
   "execution_count": 88,
   "metadata": {
    "ExecuteTime": {
     "end_time": "2019-03-10T17:48:19.930780Z",
     "start_time": "2019-03-10T17:48:19.926825Z"
    }
   },
   "outputs": [],
   "source": [
    "lb_temp_701 = lb_temp_701[condition]"
   ]
  },
  {
   "cell_type": "markdown",
   "metadata": {},
   "source": [
    "### lb_702"
   ]
  },
  {
   "cell_type": "code",
   "execution_count": 89,
   "metadata": {
    "ExecuteTime": {
     "end_time": "2019-03-10T17:48:20.515849Z",
     "start_time": "2019-03-10T17:48:20.274298Z"
    }
   },
   "outputs": [],
   "source": [
    "lb_temp_702 = lb_702.groupby('Date_YMD').HasDetections.agg(['size', 'mean']).reset_index()"
   ]
  },
  {
   "cell_type": "code",
   "execution_count": 90,
   "metadata": {
    "ExecuteTime": {
     "end_time": "2019-03-10T17:48:20.524826Z",
     "start_time": "2019-03-10T17:48:20.517844Z"
    }
   },
   "outputs": [],
   "source": [
    "lb_temp_702 = temp.merge(lb_temp_702, on='Date_YMD', how='left')"
   ]
  },
  {
   "cell_type": "code",
   "execution_count": 91,
   "metadata": {
    "ExecuteTime": {
     "end_time": "2019-03-10T17:48:20.632022Z",
     "start_time": "2019-03-10T17:48:20.629011Z"
    }
   },
   "outputs": [],
   "source": [
    "lb_temp_702 = lb_temp_702[condition]"
   ]
  },
  {
   "cell_type": "markdown",
   "metadata": {},
   "source": [
    "### lb_706"
   ]
  },
  {
   "cell_type": "code",
   "execution_count": 92,
   "metadata": {
    "ExecuteTime": {
     "end_time": "2019-03-10T17:48:21.220834Z",
     "start_time": "2019-03-10T17:48:20.975163Z"
    }
   },
   "outputs": [],
   "source": [
    "lb_temp_706 = lb_706.groupby('Date_YMD').HasDetections.agg(['size', 'mean']).reset_index()"
   ]
  },
  {
   "cell_type": "code",
   "execution_count": 93,
   "metadata": {
    "ExecuteTime": {
     "end_time": "2019-03-10T17:48:21.230771Z",
     "start_time": "2019-03-10T17:48:21.222793Z"
    }
   },
   "outputs": [],
   "source": [
    "lb_temp_706 = temp.merge(lb_temp_706, on='Date_YMD', how='left')"
   ]
  },
  {
   "cell_type": "code",
   "execution_count": 94,
   "metadata": {
    "ExecuteTime": {
     "end_time": "2019-03-10T17:48:21.319368Z",
     "start_time": "2019-03-10T17:48:21.314381Z"
    }
   },
   "outputs": [],
   "source": [
    "lb_temp_706 = lb_temp_706[condition]"
   ]
  },
  {
   "cell_type": "markdown",
   "metadata": {},
   "source": [
    "### catboost_timeshift"
   ]
  },
  {
   "cell_type": "code",
   "execution_count": 95,
   "metadata": {
    "ExecuteTime": {
     "end_time": "2019-03-10T17:48:22.979313Z",
     "start_time": "2019-03-10T17:48:22.755947Z"
    }
   },
   "outputs": [],
   "source": [
    "catboost_timeshift_temp = catboost_timeshift.groupby('Date_YMD').HasDetections.agg(['size', 'mean']).reset_index()"
   ]
  },
  {
   "cell_type": "code",
   "execution_count": 96,
   "metadata": {
    "ExecuteTime": {
     "end_time": "2019-03-10T17:48:22.988288Z",
     "start_time": "2019-03-10T17:48:22.981308Z"
    }
   },
   "outputs": [],
   "source": [
    "catboost_timeshift_temp = temp.merge(catboost_timeshift_temp, on='Date_YMD', how='left')"
   ]
  },
  {
   "cell_type": "code",
   "execution_count": 97,
   "metadata": {
    "ExecuteTime": {
     "end_time": "2019-03-10T17:48:23.113980Z",
     "start_time": "2019-03-10T17:48:23.109991Z"
    }
   },
   "outputs": [],
   "source": [
    "catboost_timeshift_temp = catboost_timeshift_temp[condition]"
   ]
  },
  {
   "cell_type": "markdown",
   "metadata": {},
   "source": [
    "### catboost_timeshift_post"
   ]
  },
  {
   "cell_type": "code",
   "execution_count": 98,
   "metadata": {
    "ExecuteTime": {
     "end_time": "2019-03-10T17:48:22.979313Z",
     "start_time": "2019-03-10T17:48:22.755947Z"
    }
   },
   "outputs": [],
   "source": [
    "catboost_timeshift_post_temp = catboost_timeshift_post.groupby('Date_YMD').HasDetections.agg(['size', 'mean']).reset_index()"
   ]
  },
  {
   "cell_type": "code",
   "execution_count": 99,
   "metadata": {
    "ExecuteTime": {
     "end_time": "2019-03-10T17:48:22.988288Z",
     "start_time": "2019-03-10T17:48:22.981308Z"
    }
   },
   "outputs": [],
   "source": [
    "catboost_timeshift_post_temp = temp.merge(catboost_timeshift_post_temp, on='Date_YMD', how='left')"
   ]
  },
  {
   "cell_type": "code",
   "execution_count": 100,
   "metadata": {
    "ExecuteTime": {
     "end_time": "2019-03-10T17:48:23.113980Z",
     "start_time": "2019-03-10T17:48:23.109991Z"
    }
   },
   "outputs": [],
   "source": [
    "catboost_timeshift_post_temp = catboost_timeshift_post_temp[condition]"
   ]
  },
  {
   "cell_type": "markdown",
   "metadata": {},
   "source": [
    "### hypothesis"
   ]
  },
  {
   "cell_type": "code",
   "execution_count": 101,
   "metadata": {
    "ExecuteTime": {
     "end_time": "2019-03-10T17:48:23.728467Z",
     "start_time": "2019-03-10T17:48:23.461128Z"
    }
   },
   "outputs": [],
   "source": [
    "hypothesis_temp = train.groupby('Date_YMD').HasDetections.agg(['size', 'mean']).reset_index()"
   ]
  },
  {
   "cell_type": "code",
   "execution_count": 102,
   "metadata": {
    "ExecuteTime": {
     "end_time": "2019-03-10T17:48:23.735434Z",
     "start_time": "2019-03-10T17:48:23.730414Z"
    }
   },
   "outputs": [],
   "source": [
    "hypothesis_temp.Date_YMD = hypothesis_temp.Date_YMD + pd.offsets.MonthOffset(2)"
   ]
  },
  {
   "cell_type": "code",
   "execution_count": 103,
   "metadata": {
    "ExecuteTime": {
     "end_time": "2019-03-10T17:48:23.868375Z",
     "start_time": "2019-03-10T17:48:23.861357Z"
    }
   },
   "outputs": [],
   "source": [
    "condition = (hypothesis_temp.Date_YMD >= '2018-07-25')&(hypothesis_temp.Date_YMD <= '2018-09-24')\n",
    "hypothesis_temp = hypothesis_temp[condition]"
   ]
  },
  {
   "cell_type": "code",
   "execution_count": 104,
   "metadata": {
    "ExecuteTime": {
     "end_time": "2019-03-10T17:48:24.089854Z",
     "start_time": "2019-03-10T17:48:24.084845Z"
    }
   },
   "outputs": [],
   "source": [
    "hypothesis_temp = temp.merge(hypothesis_temp, on='Date_YMD', how='left')"
   ]
  },
  {
   "cell_type": "markdown",
   "metadata": {},
   "source": [
    "### check_hypothesis"
   ]
  },
  {
   "cell_type": "code",
   "execution_count": 1,
   "metadata": {
    "ExecuteTime": {
     "end_time": "2019-03-11T03:22:03.190614Z",
     "start_time": "2019-03-11T03:22:03.129638Z"
    },
    "hide_input": false
   },
   "outputs": [],
   "source": [
    "# test = data[data.HasDetections.isna()]\n",
    "# test = test[(test.Date_YMD >= '2018-09-26') & (test.Date_YMD <= '2018-11-25')]\n",
    "# test.HasDetections = lgb_test_result / 3"
   ]
  },
  {
   "cell_type": "code",
   "execution_count": 106,
   "metadata": {
    "ExecuteTime": {
     "end_time": "2019-03-10T17:48:24.640753Z",
     "start_time": "2019-03-10T17:48:24.636764Z"
    },
    "hide_input": false
   },
   "outputs": [],
   "source": [
    "# check_temp = test.groupby(['Date_YMD']).HasDetections.agg(['size', 'mean']).reset_index()"
   ]
  },
  {
   "cell_type": "code",
   "execution_count": 107,
   "metadata": {
    "ExecuteTime": {
     "end_time": "2019-03-10T17:48:24.808705Z",
     "start_time": "2019-03-10T17:48:24.805746Z"
    },
    "hide_input": false
   },
   "outputs": [],
   "source": [
    "# check_temp2 = check.groupby(['Date_YMD']).HasDetections.agg(['size', 'mean']).reset_index()"
   ]
  },
  {
   "cell_type": "code",
   "execution_count": 108,
   "metadata": {
    "ExecuteTime": {
     "end_time": "2019-03-10T17:48:24.963750Z",
     "start_time": "2019-03-10T17:48:24.960759Z"
    },
    "hide_input": false
   },
   "outputs": [],
   "source": [
    "# condition = (check_temp2.Date_YMD >= '2018-09-26')&(check_temp2.Date_YMD <= '2018-11-25')\n",
    "# check_temp2 = check_temp[condition]"
   ]
  },
  {
   "cell_type": "markdown",
   "metadata": {},
   "source": [
    "### temp"
   ]
  },
  {
   "cell_type": "code",
   "execution_count": 109,
   "metadata": {
    "ExecuteTime": {
     "end_time": "2019-03-10T17:48:25.323595Z",
     "start_time": "2019-03-10T17:48:25.320603Z"
    }
   },
   "outputs": [],
   "source": [
    "# temp_temp = temp.groupby('Date_YMD').HasDetections.agg(['size', 'mean']).reset_index()"
   ]
  },
  {
   "cell_type": "code",
   "execution_count": 110,
   "metadata": {
    "ExecuteTime": {
     "end_time": "2019-03-10T17:48:25.512523Z",
     "start_time": "2019-03-10T17:48:25.509545Z"
    }
   },
   "outputs": [],
   "source": [
    "# temp_temp = temp.merge(temp_temp, on='Date_YMD', how='left')"
   ]
  },
  {
   "cell_type": "code",
   "execution_count": 111,
   "metadata": {
    "ExecuteTime": {
     "end_time": "2019-03-10T17:48:25.677706Z",
     "start_time": "2019-03-10T17:48:25.674714Z"
    }
   },
   "outputs": [],
   "source": [
    "# vmffhtemp_temp = temp_temp[condition]"
   ]
  },
  {
   "cell_type": "markdown",
   "metadata": {},
   "source": [
    "### plot"
   ]
  },
  {
   "cell_type": "code",
   "execution_count": 112,
   "metadata": {
    "ExecuteTime": {
     "end_time": "2019-03-10T17:48:26.290059Z",
     "start_time": "2019-03-10T17:48:26.012696Z"
    },
    "hide_input": false
   },
   "outputs": [
    {
     "data": {
      "text/plain": [
       "<matplotlib.legend.Legend at 0x2658a2b3b70>"
      ]
     },
     "execution_count": 112,
     "metadata": {},
     "output_type": "execute_result"
    },
    {
     "data": {
      "image/png": "[encoded data removed]",
      "text/plain": [
       "<Figure size 1296x576 with 1 Axes>"
      ]
     },
     "metadata": {
      "needs_background": "light"
     },
     "output_type": "display_data"
    }
   ],
   "source": [
    "plt.figure(figsize=(18, 8))\n",
    "plt.plot(tr_temp.Date_YMD, tr_temp['mean'], 'o', color='b', alpha=1, label='train')\n",
    "# plt.plot(lb_temp_692.Date_YMD, lb_temp_692['mean'], 'o', color='r', alpha=1, label='692')\n",
    "# plt.plot(lb_temp_701.Date_YMD, lb_temp_701['mean'], 'o', color='g', alpha=1, label='701')\n",
    "# plt.plot(lb_temp_702.Date_YMD, lb_temp_702['mean'], 'o', color='y', alpha=1, label='702')\n",
    "plt.plot(lb_temp_706.Date_YMD, lb_temp_706['mean'], 'o', color='k', alpha=1, label='706')\n",
    "# plt.plot(check_temp2.Date_YMD, check_temp2['mean'], 'o', color='c', alpha=1, label='700')\n",
    "# plt.plot(check_temp.Date_YMD, check_temp['mean'], 'o', color='b', alpha=0.2, label='694')\n",
    "# plt.plot(temp_temp.Date_YMD, temp_temp['mean'], 'o', color='r', alpha=0.2, label='694')\n",
    "plt.plot(hypothesis_temp.Date_YMD, hypothesis_temp['mean'], '+', color='c', alpha=1, label='hypothesis')\n",
    "plt.plot(catboost_timeshift_temp.Date_YMD, catboost_timeshift_temp['mean'], '+', color='g', alpha=1, label='catboost')\n",
    "plt.plot(catboost_timeshift_post_temp.Date_YMD, catboost_timeshift_post_temp['mean'], '+', color='y', alpha=1, label='catboost_prepos')\n",
    "plt.legend(prop={'size': 16})"
   ]
  },
  {
   "cell_type": "code",
   "execution_count": 169,
   "metadata": {
    "ExecuteTime": {
     "end_time": "2019-03-10T12:22:37.459135Z",
     "start_time": "2019-03-10T12:22:37.217460Z"
    },
    "hide_input": true
   },
   "outputs": [
    {
     "data": {
      "text/plain": [
       "<matplotlib.legend.Legend at 0x1d83503e940>"
      ]
     },
     "execution_count": 169,
     "metadata": {},
     "output_type": "execute_result"
    },
    {
     "data": {
      "image/png": "[encoded data removed]",
      "text/plain": [
       "<Figure size 1296x576 with 1 Axes>"
      ]
     },
     "metadata": {
      "needs_background": "light"
     },
     "output_type": "display_data"
    }
   ],
   "source": [
    "plt.figure(figsize=(18, 8))\n",
    "plt.plot(tr_temp.Date_YMD, tr_temp['size'], 'o', color='b', alpha=1, label='train')\n",
    "plt.plot(te_temp.Date_YMD, te_temp['size'], 'o', color='r', alpha=1, label='train')\n",
    "plt.plot(hypothesis_temp.Date_YMD, hypothesis_temp['size'], 'o', color='c', alpha=1, label='train')\n",
    "plt.legend(prop={'size': 16})"
   ]
  },
  {
   "cell_type": "markdown",
   "metadata": {},
   "source": [
    "## 2018-10-15일부터 의도적으로 낮춰보기"
   ]
  },
  {
   "cell_type": "code",
   "execution_count": 176,
   "metadata": {
    "ExecuteTime": {
     "end_time": "2019-03-10T15:44:23.789051Z",
     "start_time": "2019-03-10T15:44:23.786027Z"
    }
   },
   "outputs": [],
   "source": [
    "# 저점 = 0.38"
   ]
  },
  {
   "cell_type": "code",
   "execution_count": 287,
   "metadata": {
    "ExecuteTime": {
     "end_time": "2019-03-10T16:28:37.424352Z",
     "start_time": "2019-03-10T16:28:37.418367Z"
    }
   },
   "outputs": [],
   "source": [
    "def get_has_detections(data):\n",
    "    try:\n",
    "        if data.Date_YMD == '2018-10-25':\n",
    "            return data.HasDetections * 0.8932461873638343\n",
    "        elif data.Date_YMD == '2018-10-24':\n",
    "            return data.HasDetections *  0.946000733633222\n",
    "        elif data.Date_YMD == '2018-10-23':\n",
    "            return data.HasDetections *  0.9557970983024938\n",
    "        elif data.Date_YMD == '2018-10-22':\n",
    "            return data.HasDetections * 0.9655259079294601\n",
    "        elif data.Date_YMD == '2018-10-21':\n",
    "            return data.HasDetections * 0.9681535196547988\n",
    "        elif data.Date_YMD == '2018-10-20':\n",
    "            return data.HasDetections * 0.9655259079294601\n",
    "        else:\n",
    "            return data.HasDetections\n",
    "    except:\n",
    "        print(data)"
   ]
  },
  {
   "cell_type": "code",
   "execution_count": 373,
   "metadata": {
    "ExecuteTime": {
     "end_time": "2019-03-10T17:18:30.447783Z",
     "start_time": "2019-03-10T17:18:29.594820Z"
    }
   },
   "outputs": [],
   "source": [
    "t1 = lb_706[lb_706.Date_YMD == '2018-10-25']\n",
    "t2 = lb_706[lb_706.Date_YMD == '2018-10-24']\n",
    "t3 = lb_706[lb_706.Date_YMD == '2018-10-23']\n",
    "t4 = lb_706[lb_706.Date_YMD == '2018-10-22']\n",
    "t5 = lb_706[lb_706.Date_YMD == '2018-10-21']\n",
    "t6 = lb_706[lb_706.Date_YMD == '2018-10-20']\n",
    "t7 = lb_706[~((lb_706.Date_YMD == '2018-10-25') | (lb_706.Date_YMD == '2018-10-24') | (lb_706.Date_YMD == '2018-10-23') | (lb_706.Date_YMD == '2018-10-22')| (lb_706.Date_YMD == '2018-10-21') | (lb_706.Date_YMD == '2018-10-20'))]"
   ]
  },
  {
   "cell_type": "code",
   "execution_count": 374,
   "metadata": {
    "ExecuteTime": {
     "end_time": "2019-03-10T17:18:34.395482Z",
     "start_time": "2019-03-10T17:18:33.280203Z"
    }
   },
   "outputs": [],
   "source": [
    "t1.HasDetections = t1.HasDetections * 0.8732461873638343\n",
    "t2.HasDetections = t2.HasDetections * 0.926000733633222\n",
    "t3.HasDetections = t3.HasDetections * 0.9457970983024938\n",
    "t4.HasDetections = t4.HasDetections * 0.9555259079294601\n",
    "t5.HasDetections = t5.HasDetections * 0.9581535196547988\n",
    "t6.HasDetections = t6.HasDetections * 0.9555259079294601"
   ]
  },
  {
   "cell_type": "code",
   "execution_count": 375,
   "metadata": {
    "ExecuteTime": {
     "end_time": "2019-03-10T17:18:42.659329Z",
     "start_time": "2019-03-10T17:18:35.302600Z"
    }
   },
   "outputs": [],
   "source": [
    "temp = t1.append(t2).append(t3).append(t4).append(t5).append(t6).append(t7).sort_values('MachineIdentifier').reset_index(drop=True)"
   ]
  },
  {
   "cell_type": "code",
   "execution_count": 372,
   "metadata": {
    "ExecuteTime": {
     "end_time": "2019-03-10T17:15:17.807850Z",
     "start_time": "2019-03-10T17:15:14.856179Z"
    }
   },
   "outputs": [],
   "source": [
    "temp[['MachineIdentifier', 'HasDetections']].to_csv('./data/time_test_6.csv', index=False)"
   ]
  },
  {
   "cell_type": "code",
   "execution_count": 314,
   "metadata": {
    "ExecuteTime": {
     "end_time": "2019-03-10T16:41:04.413034Z",
     "start_time": "2019-03-10T16:41:03.764741Z"
    }
   },
   "outputs": [],
   "source": [
    "temp = temp.groupby(['Date_YMD']).HasDetections.agg(['size','mean']).reset_index()"
   ]
  },
  {
   "cell_type": "code",
   "execution_count": 317,
   "metadata": {
    "ExecuteTime": {
     "end_time": "2019-03-10T16:41:38.876066Z",
     "start_time": "2019-03-10T16:41:38.870082Z"
    }
   },
   "outputs": [],
   "source": [
    "temp = temp[(temp.Date_YMD >= '2018-10-15') & (temp.Date_YMD <= '2018-10-25')]"
   ]
  },
  {
   "cell_type": "code",
   "execution_count": 318,
   "metadata": {
    "ExecuteTime": {
     "end_time": "2019-03-10T16:41:39.707306Z",
     "start_time": "2019-03-10T16:41:39.502518Z"
    }
   },
   "outputs": [
    {
     "data": {
      "text/plain": [
       "(0.41, 0.55)"
      ]
     },
     "execution_count": 318,
     "metadata": {},
     "output_type": "execute_result"
    },
    {
     "data": {
      "image/png": "[encoded data removed]",
      "text/plain": [
       "<Figure size 1296x576 with 1 Axes>"
      ]
     },
     "metadata": {
      "needs_background": "light"
     },
     "output_type": "display_data"
    }
   ],
   "source": [
    "plt.figure(figsize=(18,8))\n",
    "plt.plot(temp.Date_YMD, temp['mean'], 'or')\n",
    "plt.ylim(0.41, 0.55)"
   ]
  },
  {
   "cell_type": "code",
   "execution_count": 203,
   "metadata": {
    "ExecuteTime": {
     "end_time": "2019-03-10T15:49:44.394236Z",
     "start_time": "2019-03-10T15:49:44.202259Z"
    }
   },
   "outputs": [
    {
     "data": {
      "text/plain": [
       "(0.41, 0.55)"
      ]
     },
     "execution_count": 203,
     "metadata": {},
     "output_type": "execute_result"
    },
    {
     "data": {
      "image/png": "[encoded data removed]",
      "text/plain": [
       "<Figure size 1296x576 with 1 Axes>"
      ]
     },
     "metadata": {
      "needs_background": "light"
     },
     "output_type": "display_data"
    }
   ],
   "source": [
    "plt.figure(figsize=(18,8))\n",
    "plt.plot(temp.Date_YMD, temp['mean'], 'or')\n",
    "plt.ylim(0.41, 0.55)"
   ]
  },
  {
   "cell_type": "markdown",
   "metadata": {},
   "source": [
    "## 702에서 9월 18일까지를 Hypothesis Check으로 바꿔보기"
   ]
  },
  {
   "cell_type": "code",
   "execution_count": 185,
   "metadata": {
    "ExecuteTime": {
     "end_time": "2019-03-10T09:01:56.522654Z",
     "start_time": "2019-03-10T09:01:56.052909Z"
    }
   },
   "outputs": [],
   "source": [
    "change = lb_702[(lb_702.Date_YMD >= '2018-07-25') & (lb_702.Date_YMD <= '2018-09-18')]\n",
    "not_change = lb_702[~((lb_702.Date_YMD >= '2018-07-25') & (lb_702.Date_YMD <= '2018-09-18'))]"
   ]
  },
  {
   "cell_type": "code",
   "execution_count": 186,
   "metadata": {
    "ExecuteTime": {
     "end_time": "2019-03-10T09:01:56.975256Z",
     "start_time": "2019-03-10T09:01:56.942337Z"
    }
   },
   "outputs": [],
   "source": [
    "test = test[['MachineIdentifier', 'HasDetections', 'Date_YMD']]\n",
    "test = test[(test.Date_YMD >= '2018-07-25') & (test.Date_YMD <= '2018-09-18')]"
   ]
  },
  {
   "cell_type": "code",
   "execution_count": 188,
   "metadata": {
    "ExecuteTime": {
     "end_time": "2019-03-10T09:02:05.127134Z",
     "start_time": "2019-03-10T09:02:04.939595Z"
    }
   },
   "outputs": [],
   "source": [
    "change.HasDetections = test.HasDetections.values"
   ]
  },
  {
   "cell_type": "code",
   "execution_count": 190,
   "metadata": {
    "ExecuteTime": {
     "end_time": "2019-03-10T09:02:26.854412Z",
     "start_time": "2019-03-10T09:02:21.178603Z"
    }
   },
   "outputs": [],
   "source": [
    "check = change.append(not_change).sort_values('MachineIdentifier')"
   ]
  },
  {
   "cell_type": "code",
   "execution_count": 200,
   "metadata": {
    "ExecuteTime": {
     "end_time": "2019-03-10T09:05:26.947776Z",
     "start_time": "2019-03-10T09:05:03.103811Z"
    }
   },
   "outputs": [],
   "source": [
    "check[['MachineIdentifier', 'HasDetections']].to_csv('./data/time_test_2.csv', index=False)"
   ]
  },
  {
   "cell_type": "markdown",
   "metadata": {},
   "source": [
    "## 706에서 9월 26일부터 11월 25일까지 Hypothesis Check으로 바꿔보기"
   ]
  },
  {
   "cell_type": "code",
   "execution_count": 159,
   "metadata": {
    "ExecuteTime": {
     "end_time": "2019-03-10T12:20:58.527827Z",
     "start_time": "2019-03-10T12:20:57.919294Z"
    }
   },
   "outputs": [],
   "source": [
    "change = lb_706[(lb_706.Date_YMD >= '2018-09-26') & (lb_706.Date_YMD <= '2018-11-25')]\n",
    "not_change = lb_706[~((lb_706.Date_YMD >= '2018-09-26') & (lb_706.Date_YMD <= '2018-11-25'))]"
   ]
  },
  {
   "cell_type": "code",
   "execution_count": 160,
   "metadata": {
    "ExecuteTime": {
     "end_time": "2019-03-10T12:21:00.711931Z",
     "start_time": "2019-03-10T12:21:00.066047Z"
    }
   },
   "outputs": [],
   "source": [
    "test = test[['MachineIdentifier', 'HasDetections', 'Date_YMD']]\n",
    "test = test[(test.Date_YMD >= '2018-09-26') & (test.Date_YMD <= '2018-11-25')]"
   ]
  },
  {
   "cell_type": "code",
   "execution_count": 161,
   "metadata": {
    "ExecuteTime": {
     "end_time": "2019-03-10T12:21:01.134880Z",
     "start_time": "2019-03-10T12:21:01.032118Z"
    }
   },
   "outputs": [],
   "source": [
    "change.HasDetections = test.HasDetections.values"
   ]
  },
  {
   "cell_type": "code",
   "execution_count": 162,
   "metadata": {
    "ExecuteTime": {
     "end_time": "2019-03-10T12:21:09.309669Z",
     "start_time": "2019-03-10T12:21:02.713063Z"
    }
   },
   "outputs": [],
   "source": [
    "check = change.append(not_change).sort_values('MachineIdentifier')"
   ]
  },
  {
   "cell_type": "code",
   "execution_count": 122,
   "metadata": {
    "ExecuteTime": {
     "end_time": "2019-03-10T12:10:43.294401Z",
     "start_time": "2019-03-10T12:10:19.048364Z"
    }
   },
   "outputs": [],
   "source": [
    "check[['MachineIdentifier', 'HasDetections']].to_csv('./data/time_test_4.csv', index=False)"
   ]
  },
  {
   "cell_type": "markdown",
   "metadata": {},
   "source": [
    "# Crazy Method - 2달 미뤄서 훈련시켜보기"
   ]
  },
  {
   "cell_type": "code",
   "execution_count": 226,
   "metadata": {
    "ExecuteTime": {
     "end_time": "2019-03-10T09:07:53.423830Z",
     "start_time": "2019-03-10T09:07:52.668881Z"
    }
   },
   "outputs": [
    {
     "data": {
      "text/plain": [
       "0"
      ]
     },
     "execution_count": 226,
     "metadata": {},
     "output_type": "execute_result"
    }
   ],
   "source": [
    "temp = data[(data.Date_YMD >= '2018-05-25') & (data.Date_YMD <= '2018-09-24')]\n",
    "del temp['Date']\n",
    "gc.collect()"
   ]
  },
  {
   "cell_type": "code",
   "execution_count": 227,
   "metadata": {
    "ExecuteTime": {
     "end_time": "2019-03-10T09:07:53.839717Z",
     "start_time": "2019-03-10T09:07:53.425824Z"
    }
   },
   "outputs": [
    {
     "data": {
      "text/plain": [
       "0"
      ]
     },
     "execution_count": 227,
     "metadata": {},
     "output_type": "execute_result"
    }
   ],
   "source": [
    "train = temp[~temp.HasDetections.isna()]\n",
    "test = temp[temp.HasDetections.isna()]\n",
    "\n",
    "del temp\n",
    "gc.collect()"
   ]
  },
  {
   "cell_type": "code",
   "execution_count": 97,
   "metadata": {
    "ExecuteTime": {
     "end_time": "2019-03-10T08:24:22.073139Z",
     "start_time": "2019-03-10T08:24:21.133617Z"
    }
   },
   "outputs": [
    {
     "data": {
      "text/plain": [
       "0"
      ]
     },
     "execution_count": 97,
     "metadata": {},
     "output_type": "execute_result"
    }
   ],
   "source": [
    "train = train[train.Date_YMD <= '2018-07-24']\n",
    "test = test[test.Date_YMD >= '2018-07-25']\n",
    "\n",
    "gc.collect()"
   ]
  },
  {
   "cell_type": "code",
   "execution_count": 205,
   "metadata": {
    "ExecuteTime": {
     "end_time": "2019-03-10T09:06:01.273527Z",
     "start_time": "2019-03-10T09:06:01.110383Z"
    }
   },
   "outputs": [],
   "source": [
    "# 2달 미루기\n",
    "train.Date_YMD = train.Date_YMD + pd.offsets.MonthOffset(2)"
   ]
  },
  {
   "cell_type": "code",
   "execution_count": 228,
   "metadata": {
    "ExecuteTime": {
     "end_time": "2019-03-10T09:07:55.057228Z",
     "start_time": "2019-03-10T09:07:55.053281Z"
    }
   },
   "outputs": [],
   "source": [
    "train.reset_index(drop=True, inplace=True)\n",
    "test.reset_index(drop=True, inplace=True)"
   ]
  },
  {
   "cell_type": "code",
   "execution_count": 229,
   "metadata": {
    "ExecuteTime": {
     "end_time": "2019-03-10T09:07:55.374291Z",
     "start_time": "2019-03-10T09:07:55.370302Z"
    }
   },
   "outputs": [
    {
     "data": {
      "text/plain": [
       "(627299, 84)"
      ]
     },
     "execution_count": 229,
     "metadata": {},
     "output_type": "execute_result"
    }
   ],
   "source": [
    "train.shape"
   ]
  },
  {
   "cell_type": "code",
   "execution_count": 230,
   "metadata": {
    "ExecuteTime": {
     "end_time": "2019-03-10T09:07:55.571023Z",
     "start_time": "2019-03-10T09:07:55.564042Z"
    }
   },
   "outputs": [
    {
     "data": {
      "text/plain": [
       "(161697, 84)"
      ]
     },
     "execution_count": 230,
     "metadata": {},
     "output_type": "execute_result"
    }
   ],
   "source": [
    "test.shape"
   ]
  },
  {
   "cell_type": "code",
   "execution_count": 225,
   "metadata": {
    "ExecuteTime": {
     "end_time": "2019-03-10T09:07:49.916480Z",
     "start_time": "2019-03-10T09:07:49.745938Z"
    }
   },
   "outputs": [
    {
     "data": {
      "text/plain": [
       "7"
      ]
     },
     "execution_count": 225,
     "metadata": {},
     "output_type": "execute_result"
    }
   ],
   "source": [
    "del train['AvSigVersion'], test['AvSigVersion']\n",
    "gc.collect()"
   ]
  },
  {
   "cell_type": "code",
   "execution_count": 231,
   "metadata": {
    "ExecuteTime": {
     "end_time": "2019-03-10T09:08:51.209223Z",
     "start_time": "2019-03-10T09:07:57.142593Z"
    },
    "scrolled": false
   },
   "outputs": [
    {
     "name": "stdout",
     "output_type": "stream",
     "text": [
      "Transform all features to category.\n",
      "\n"
     ]
    },
    {
     "data": {
      "application/vnd.jupyter.widget-view+json": {
       "model_id": "",
       "version_major": 2,
       "version_minor": 0
      },
      "text/plain": [
       "HBox(children=(IntProgress(value=0, max=82), HTML(value='')))"
      ]
     },
     "metadata": {},
     "output_type": "display_data"
    },
    {
     "name": "stdout",
     "output_type": "stream",
     "text": [
      "\n"
     ]
    }
   ],
   "source": [
    "print('Transform all features to category.\\n')\n",
    "for usecol in tqdm_notebook([col for col in train.columns if col not in ['HasDetections', 'MachineIdentifier']]):\n",
    "\n",
    "    train[usecol] = train[usecol].astype('str')\n",
    "    test[usecol] = test[usecol].astype('str')\n",
    "    \n",
    "    #Fit LabelEncoder\n",
    "    le = LabelEncoder().fit(\n",
    "            np.unique(train[usecol].unique().tolist()+\n",
    "                      test[usecol].unique().tolist()))\n",
    "\n",
    "    #At the end 0 will be used for dropped values\n",
    "    train[usecol] = le.transform(train[usecol])+1\n",
    "    test[usecol]  = le.transform(test[usecol])+1\n",
    "\n",
    "    agg_tr = (train\n",
    "              .groupby([usecol])\n",
    "              .aggregate({'MachineIdentifier':'count'})\n",
    "              .reset_index()\n",
    "              .rename({'MachineIdentifier':'Train'}, axis=1))\n",
    "    \n",
    "    agg_te = (test\n",
    "              .groupby([usecol])\n",
    "              .aggregate({'MachineIdentifier':'count'})\n",
    "              .reset_index()\n",
    "              .rename({'MachineIdentifier':'Test'}, axis=1))\n",
    "\n",
    "    agg = pd.merge(agg_tr, agg_te, on=usecol, how='outer').replace(np.nan, 0)\n",
    "\n",
    "    #Select values with more than 1000 observations\n",
    "    agg = agg[(agg['Train'] > 50)].reset_index(drop=True)\n",
    "    agg['Total'] = agg['Train'] / 3 + agg['Test']\n",
    "    #Drop unbalanced values\n",
    "    agg = agg[(agg['Train'] / (agg['Total'] * 3) > 0.14) & (agg['Train'] / (agg['Total'] * 3) < 0.86)]\n",
    "    agg[usecol+'Copy'] = agg[usecol]\n",
    "        \n",
    "    train[usecol] = (pd.merge(train[[usecol]], \n",
    "                              agg[[usecol, usecol+'Copy']], \n",
    "                              on=usecol, how='left')[usecol+'Copy']\n",
    "                     .replace(np.nan, 0).astype('int').astype('category'))\n",
    "\n",
    "    test[usecol]  = (pd.merge(test[[usecol]], \n",
    "                              agg[[usecol, usecol+'Copy']], \n",
    "                              on=usecol, how='left')[usecol+'Copy']\n",
    "                     .replace(np.nan, 0).astype('int').astype('category'))\n",
    "\n",
    "    del le, agg_tr, agg_te, agg, usecol\n",
    "    gc.collect()"
   ]
  },
  {
   "cell_type": "code",
   "execution_count": 232,
   "metadata": {
    "ExecuteTime": {
     "end_time": "2019-03-10T09:08:51.443379Z",
     "start_time": "2019-03-10T09:08:51.439454Z"
    }
   },
   "outputs": [
    {
     "data": {
      "text/plain": [
       "(627299, 84)"
      ]
     },
     "execution_count": 232,
     "metadata": {},
     "output_type": "execute_result"
    }
   ],
   "source": [
    "train.shape"
   ]
  },
  {
   "cell_type": "code",
   "execution_count": 233,
   "metadata": {
    "ExecuteTime": {
     "end_time": "2019-03-10T09:08:52.953901Z",
     "start_time": "2019-03-10T09:08:52.945921Z"
    }
   },
   "outputs": [],
   "source": [
    "y_train = np.array(train['HasDetections'])\n",
    "train_ids = train.index\n",
    "test_ids  = test.index"
   ]
  },
  {
   "cell_type": "code",
   "execution_count": 234,
   "metadata": {
    "ExecuteTime": {
     "end_time": "2019-03-10T09:08:53.335489Z",
     "start_time": "2019-03-10T09:08:53.218799Z"
    }
   },
   "outputs": [
    {
     "data": {
      "text/plain": [
       "21"
      ]
     },
     "execution_count": 234,
     "metadata": {},
     "output_type": "execute_result"
    }
   ],
   "source": [
    "del train['HasDetections'], train['MachineIdentifier'], test['MachineIdentifier'], test['HasDetections']\n",
    "gc.collect()"
   ]
  },
  {
   "cell_type": "code",
   "execution_count": 235,
   "metadata": {
    "ExecuteTime": {
     "end_time": "2019-03-10T09:08:53.924768Z",
     "start_time": "2019-03-10T09:08:53.910839Z"
    },
    "scrolled": true
   },
   "outputs": [
    {
     "name": "stdout",
     "output_type": "stream",
     "text": [
      "If you don't want use Sparse Matrix choose Kernel Version 2 to get simple solution.\n",
      "\n",
      "--------------------------------------------------------------------------------------------------------\n",
      "Transform Data to Sparse Matrix.\n",
      "Sparse Matrix can be used to fit a lot of models, eg. XGBoost, LightGBM, Random Forest, K-Means and etc.\n",
      "To concatenate Sparse Matrices by column use hstack()\n",
      "Read more about Sparse Matrix https://docs.scipy.org/doc/scipy/reference/sparse.html\n",
      "Good Luck!\n",
      "--------------------------------------------------------------------------------------------------------\n"
     ]
    }
   ],
   "source": [
    "print(\"If you don't want use Sparse Matrix choose Kernel Version 2 to get simple solution.\\n\")\n",
    "\n",
    "print('--------------------------------------------------------------------------------------------------------')\n",
    "print('Transform Data to Sparse Matrix.')\n",
    "print('Sparse Matrix can be used to fit a lot of models, eg. XGBoost, LightGBM, Random Forest, K-Means and etc.')\n",
    "print('To concatenate Sparse Matrices by column use hstack()')\n",
    "print('Read more about Sparse Matrix https://docs.scipy.org/doc/scipy/reference/sparse.html')\n",
    "print('Good Luck!')\n",
    "print('--------------------------------------------------------------------------------------------------------')\n"
   ]
  },
  {
   "cell_type": "code",
   "execution_count": 236,
   "metadata": {
    "ExecuteTime": {
     "end_time": "2019-03-10T09:08:58.030846Z",
     "start_time": "2019-03-10T09:08:54.924014Z"
    }
   },
   "outputs": [],
   "source": [
    "#Fit OneHotEncoder\n",
    "ohe = OneHotEncoder(categories='auto', sparse=True, dtype='uint8').fit(train.append(test))"
   ]
  },
  {
   "cell_type": "code",
   "execution_count": 237,
   "metadata": {
    "ExecuteTime": {
     "end_time": "2019-03-10T09:09:07.905496Z",
     "start_time": "2019-03-10T09:08:58.032840Z"
    }
   },
   "outputs": [],
   "source": [
    "#Transform data using small groups to reduce memory usage\n",
    "m = 100000\n",
    "train = vstack([ohe.transform(train[i*m:(i+1)*m]) for i in range(train.shape[0] // m + 1)])\n",
    "test  = vstack([ohe.transform(test[i*m:(i+1)*m])  for i in range(test.shape[0] // m +  1)])"
   ]
  },
  {
   "cell_type": "code",
   "execution_count": 238,
   "metadata": {
    "ExecuteTime": {
     "end_time": "2019-03-10T09:09:07.910485Z",
     "start_time": "2019-03-10T09:09:07.906493Z"
    }
   },
   "outputs": [
    {
     "data": {
      "text/plain": [
       "(627299, 10039)"
      ]
     },
     "execution_count": 238,
     "metadata": {},
     "output_type": "execute_result"
    }
   ],
   "source": [
    "train.shape"
   ]
  },
  {
   "cell_type": "code",
   "execution_count": 239,
   "metadata": {
    "ExecuteTime": {
     "end_time": "2019-03-10T09:09:07.916467Z",
     "start_time": "2019-03-10T09:09:07.912478Z"
    }
   },
   "outputs": [
    {
     "data": {
      "text/plain": [
       "(161697, 10039)"
      ]
     },
     "execution_count": 239,
     "metadata": {},
     "output_type": "execute_result"
    }
   ],
   "source": [
    "test.shape"
   ]
  },
  {
   "cell_type": "code",
   "execution_count": 240,
   "metadata": {
    "ExecuteTime": {
     "end_time": "2019-03-10T09:09:19.524960Z",
     "start_time": "2019-03-10T09:09:10.718474Z"
    }
   },
   "outputs": [],
   "source": [
    "save_npz('./data_temp/train.npz', train, compressed=True)\n",
    "save_npz('./data_temp/test.npz',  test,  compressed=True)"
   ]
  },
  {
   "cell_type": "code",
   "execution_count": 241,
   "metadata": {
    "ExecuteTime": {
     "end_time": "2019-03-10T09:09:19.671570Z",
     "start_time": "2019-03-10T09:09:19.526958Z"
    }
   },
   "outputs": [
    {
     "data": {
      "text/plain": [
       "1162"
      ]
     },
     "execution_count": 241,
     "metadata": {},
     "output_type": "execute_result"
    }
   ],
   "source": [
    "del ohe, train, test\n",
    "gc.collect()"
   ]
  },
  {
   "cell_type": "code",
   "execution_count": 242,
   "metadata": {
    "ExecuteTime": {
     "end_time": "2019-03-10T09:09:20.754949Z",
     "start_time": "2019-03-10T09:09:19.673579Z"
    }
   },
   "outputs": [],
   "source": [
    "train = load_npz('./data_temp/train.npz')\n",
    "test = load_npz('./data_temp/test.npz')\n",
    "test = csr_matrix(test, dtype='float32')"
   ]
  },
  {
   "cell_type": "code",
   "execution_count": 243,
   "metadata": {
    "ExecuteTime": {
     "end_time": "2019-03-10T09:09:20.761654Z",
     "start_time": "2019-03-10T09:09:20.757665Z"
    }
   },
   "outputs": [
    {
     "data": {
      "text/plain": [
       "(627299, 10039)"
      ]
     },
     "execution_count": 243,
     "metadata": {},
     "output_type": "execute_result"
    }
   ],
   "source": [
    "train.shape"
   ]
  },
  {
   "cell_type": "code",
   "execution_count": 244,
   "metadata": {
    "ExecuteTime": {
     "end_time": "2019-03-10T09:09:20.768634Z",
     "start_time": "2019-03-10T09:09:20.763648Z"
    }
   },
   "outputs": [
    {
     "data": {
      "text/plain": [
       "(161697, 10039)"
      ]
     },
     "execution_count": 244,
     "metadata": {},
     "output_type": "execute_result"
    }
   ],
   "source": [
    "test.shape"
   ]
  },
  {
   "cell_type": "code",
   "execution_count": 246,
   "metadata": {
    "ExecuteTime": {
     "end_time": "2019-03-10T09:09:21.451924Z",
     "start_time": "2019-03-10T09:09:21.446979Z"
    }
   },
   "outputs": [],
   "source": [
    "skf = StratifiedKFold(n_splits=3, shuffle=True, random_state=42)\n",
    "skf.get_n_splits(train_ids, y_train)\n",
    "\n",
    "lgb_test_result  = np.zeros(test_ids.shape[0])\n",
    "lgb_train_result = np.zeros(train_ids.shape[0])\n",
    "counter = 0"
   ]
  },
  {
   "cell_type": "code",
   "execution_count": 247,
   "metadata": {
    "ExecuteTime": {
     "end_time": "2019-03-10T09:14:15.509626Z",
     "start_time": "2019-03-10T09:09:22.103292Z"
    },
    "scrolled": false
   },
   "outputs": [
    {
     "name": "stdout",
     "output_type": "stream",
     "text": [
      "\n",
      "LightGBM\n",
      "\n",
      "Fold 1\n",
      "\n",
      "fitting\n",
      "Training until validation scores don't improve for 100 rounds.\n",
      "[100]\tvalid_0's auc: 0.677371\tvalid_0's binary_logloss: 0.604701\n",
      "[200]\tvalid_0's auc: 0.685048\tvalid_0's binary_logloss: 0.599969\n",
      "[300]\tvalid_0's auc: 0.687145\tvalid_0's binary_logloss: 0.598676\n",
      "[400]\tvalid_0's auc: 0.687966\tvalid_0's binary_logloss: 0.598151\n",
      "[500]\tvalid_0's auc: 0.688526\tvalid_0's binary_logloss: 0.59779\n",
      "[600]\tvalid_0's auc: 0.688837\tvalid_0's binary_logloss: 0.597577\n",
      "[700]\tvalid_0's auc: 0.689194\tvalid_0's binary_logloss: 0.597344\n",
      "[800]\tvalid_0's auc: 0.68942\tvalid_0's binary_logloss: 0.597182\n",
      "[900]\tvalid_0's auc: 0.689547\tvalid_0's binary_logloss: 0.597075\n",
      "[1000]\tvalid_0's auc: 0.689621\tvalid_0's binary_logloss: 0.596991\n",
      "[1100]\tvalid_0's auc: 0.68967\tvalid_0's binary_logloss: 0.596924\n",
      "[1200]\tvalid_0's auc: 0.689712\tvalid_0's binary_logloss: 0.596872\n",
      "[1300]\tvalid_0's auc: 0.689751\tvalid_0's binary_logloss: 0.596838\n",
      "[1400]\tvalid_0's auc: 0.689791\tvalid_0's binary_logloss: 0.596808\n",
      "Early stopping, best iteration is:\n",
      "[1375]\tvalid_0's auc: 0.689815\tvalid_0's binary_logloss: 0.596801\n",
      "predicting\n",
      "Fold 2\n",
      "\n",
      "fitting\n",
      "Training until validation scores don't improve for 100 rounds.\n",
      "[100]\tvalid_0's auc: 0.677397\tvalid_0's binary_logloss: 0.604595\n",
      "[200]\tvalid_0's auc: 0.684986\tvalid_0's binary_logloss: 0.599996\n",
      "[300]\tvalid_0's auc: 0.68707\tvalid_0's binary_logloss: 0.598711\n",
      "[400]\tvalid_0's auc: 0.6879\tvalid_0's binary_logloss: 0.598183\n",
      "[500]\tvalid_0's auc: 0.688455\tvalid_0's binary_logloss: 0.597829\n",
      "[600]\tvalid_0's auc: 0.688927\tvalid_0's binary_logloss: 0.597514\n",
      "[700]\tvalid_0's auc: 0.689057\tvalid_0's binary_logloss: 0.597398\n",
      "[800]\tvalid_0's auc: 0.689212\tvalid_0's binary_logloss: 0.5973\n",
      "[900]\tvalid_0's auc: 0.689259\tvalid_0's binary_logloss: 0.59724\n",
      "[1000]\tvalid_0's auc: 0.689388\tvalid_0's binary_logloss: 0.597135\n",
      "[1100]\tvalid_0's auc: 0.689425\tvalid_0's binary_logloss: 0.597106\n",
      "Early stopping, best iteration is:\n",
      "[1015]\tvalid_0's auc: 0.68944\tvalid_0's binary_logloss: 0.597111\n",
      "predicting\n",
      "Fold 3\n",
      "\n",
      "fitting\n",
      "Training until validation scores don't improve for 100 rounds.\n",
      "[100]\tvalid_0's auc: 0.680668\tvalid_0's binary_logloss: 0.603563\n",
      "[200]\tvalid_0's auc: 0.687822\tvalid_0's binary_logloss: 0.598936\n",
      "[300]\tvalid_0's auc: 0.689691\tvalid_0's binary_logloss: 0.597769\n",
      "[400]\tvalid_0's auc: 0.690668\tvalid_0's binary_logloss: 0.597158\n",
      "[500]\tvalid_0's auc: 0.69126\tvalid_0's binary_logloss: 0.596763\n",
      "[600]\tvalid_0's auc: 0.691565\tvalid_0's binary_logloss: 0.596538\n",
      "[700]\tvalid_0's auc: 0.691705\tvalid_0's binary_logloss: 0.596422\n",
      "[800]\tvalid_0's auc: 0.691877\tvalid_0's binary_logloss: 0.596288\n",
      "[900]\tvalid_0's auc: 0.69207\tvalid_0's binary_logloss: 0.596166\n",
      "[1000]\tvalid_0's auc: 0.692023\tvalid_0's binary_logloss: 0.59616\n",
      "Early stopping, best iteration is:\n",
      "[920]\tvalid_0's auc: 0.692101\tvalid_0's binary_logloss: 0.596145\n",
      "predicting\n"
     ]
    }
   ],
   "source": [
    "print('\\nLightGBM\\n')\n",
    "\n",
    "for train_index, test_index in skf.split(train_ids, y_train):\n",
    "    \n",
    "    print('Fold {}\\n'.format(counter + 1))\n",
    "    \n",
    "    X_fit = vstack([train[train_index[i*m:(i+1)*m]] for i in range(train_index.shape[0] // m + 1)])\n",
    "    X_val = vstack([train[test_index[i*m:(i+1)*m]]  for i in range(test_index.shape[0] //  m + 1)])\n",
    "    X_fit, X_val = csr_matrix(X_fit, dtype='float32'), csr_matrix(X_val, dtype='float32')\n",
    "    y_fit, y_val = y_train[train_index], y_train[test_index]\n",
    "    \n",
    "    gc.collect()\n",
    "\n",
    "    lgb_model = lgb.LGBMClassifier(max_depth=-1,\n",
    "                                   n_estimators=30000,\n",
    "                                   learning_rate=0.05,\n",
    "                                   num_leaves=2**5-1,\n",
    "                                   objective='binary', \n",
    "                                   boosting_type='gbdt',\n",
    "                                   # overfitting handling\n",
    "                                   # max_bin=120,\n",
    "                                   # lambda_l1=6,\n",
    "                                   # lambda_l2=2,\n",
    "                                   save_binary=True,\n",
    "                                   feature_fraction=0.8,\n",
    "                                   feature_fraction_seed=42,\n",
    "                                   n_jobs=-1)\n",
    "    \n",
    "    print(\"fitting\")\n",
    "    lgb_model.fit(X_fit, y_fit, eval_metric='auc', \n",
    "                  eval_set=[(X_val, y_val)], \n",
    "                  verbose=100, early_stopping_rounds=100)\n",
    "    \n",
    "    del X_fit, X_val, y_fit, y_val, train_index, test_index\n",
    "    gc.collect()\n",
    "    \n",
    "    print(\"predicting\")\n",
    "    lgb_test_result += lgb_model.predict_proba(test)[:,1]\n",
    "    counter += 1\n",
    "    \n",
    "    gc.collect()"
   ]
  },
  {
   "cell_type": "markdown",
   "metadata": {},
   "source": [
    "# Crazy Method - 2달 미뤄서 훈련시켜보기 2"
   ]
  },
  {
   "cell_type": "code",
   "execution_count": 49,
   "metadata": {
    "ExecuteTime": {
     "end_time": "2019-03-10T09:44:35.934938Z",
     "start_time": "2019-03-10T09:44:28.078193Z"
    }
   },
   "outputs": [
    {
     "data": {
      "text/plain": [
       "14"
      ]
     },
     "execution_count": 49,
     "metadata": {},
     "output_type": "execute_result"
    }
   ],
   "source": [
    "temp = data[(data.Date_YMD >= '2018-07-26') & (data.Date_YMD <= '2018-11-25')]\n",
    "del temp['Date']\n",
    "gc.collect()"
   ]
  },
  {
   "cell_type": "code",
   "execution_count": 50,
   "metadata": {
    "ExecuteTime": {
     "end_time": "2019-03-10T09:44:47.425449Z",
     "start_time": "2019-03-10T09:44:35.937928Z"
    }
   },
   "outputs": [
    {
     "data": {
      "text/plain": [
       "0"
      ]
     },
     "execution_count": 50,
     "metadata": {},
     "output_type": "execute_result"
    }
   ],
   "source": [
    "train = temp[~temp.HasDetections.isna()]\n",
    "test = temp[temp.HasDetections.isna()]\n",
    "\n",
    "del temp\n",
    "gc.collect()"
   ]
  },
  {
   "cell_type": "code",
   "execution_count": 51,
   "metadata": {
    "ExecuteTime": {
     "end_time": "2019-03-10T09:44:52.379869Z",
     "start_time": "2019-03-10T09:44:47.428441Z"
    }
   },
   "outputs": [
    {
     "data": {
      "text/plain": [
       "0"
      ]
     },
     "execution_count": 51,
     "metadata": {},
     "output_type": "execute_result"
    }
   ],
   "source": [
    "train = train[train.Date_YMD <= '2018-09-25']\n",
    "test = test[test.Date_YMD >= '2018-09-26']\n",
    "\n",
    "gc.collect()"
   ]
  },
  {
   "cell_type": "code",
   "execution_count": 54,
   "metadata": {
    "ExecuteTime": {
     "end_time": "2019-03-10T09:45:05.518114Z",
     "start_time": "2019-03-10T09:45:04.962738Z"
    }
   },
   "outputs": [],
   "source": [
    "# 2달 미루기\n",
    "train.Date_YMD = train.Date_YMD + pd.offsets.MonthOffset(2)"
   ]
  },
  {
   "cell_type": "code",
   "execution_count": 56,
   "metadata": {
    "ExecuteTime": {
     "end_time": "2019-03-10T09:45:12.710847Z",
     "start_time": "2019-03-10T09:45:12.683952Z"
    }
   },
   "outputs": [],
   "source": [
    "train.reset_index(drop=True, inplace=True)\n",
    "test.reset_index(drop=True, inplace=True)"
   ]
  },
  {
   "cell_type": "code",
   "execution_count": 57,
   "metadata": {
    "ExecuteTime": {
     "end_time": "2019-03-10T09:45:13.791778Z",
     "start_time": "2019-03-10T09:45:13.786757Z"
    }
   },
   "outputs": [
    {
     "data": {
      "text/plain": [
       "(7429146, 84)"
      ]
     },
     "execution_count": 57,
     "metadata": {},
     "output_type": "execute_result"
    }
   ],
   "source": [
    "train.shape"
   ]
  },
  {
   "cell_type": "code",
   "execution_count": 58,
   "metadata": {
    "ExecuteTime": {
     "end_time": "2019-03-10T09:45:14.803282Z",
     "start_time": "2019-03-10T09:45:14.797266Z"
    }
   },
   "outputs": [
    {
     "data": {
      "text/plain": [
       "(6598039, 84)"
      ]
     },
     "execution_count": 58,
     "metadata": {},
     "output_type": "execute_result"
    }
   ],
   "source": [
    "test.shape"
   ]
  },
  {
   "cell_type": "code",
   "execution_count": 59,
   "metadata": {
    "ExecuteTime": {
     "end_time": "2019-03-10T09:45:17.852378Z",
     "start_time": "2019-03-10T09:45:16.849944Z"
    }
   },
   "outputs": [
    {
     "data": {
      "text/plain": [
       "183"
      ]
     },
     "execution_count": 59,
     "metadata": {},
     "output_type": "execute_result"
    }
   ],
   "source": [
    "del train['AvSigVersion'], test['AvSigVersion']\n",
    "gc.collect()"
   ]
  },
  {
   "cell_type": "code",
   "execution_count": 60,
   "metadata": {
    "ExecuteTime": {
     "end_time": "2019-03-10T09:59:15.314294Z",
     "start_time": "2019-03-10T09:45:57.217626Z"
    },
    "scrolled": false
   },
   "outputs": [
    {
     "name": "stdout",
     "output_type": "stream",
     "text": [
      "Transform all features to category.\n",
      "\n"
     ]
    },
    {
     "data": {
      "application/vnd.jupyter.widget-view+json": {
       "model_id": "4c70a953e4024be691a08bbc6c29bea7",
       "version_major": 2,
       "version_minor": 0
      },
      "text/plain": [
       "HBox(children=(IntProgress(value=0, max=81), HTML(value='')))"
      ]
     },
     "metadata": {},
     "output_type": "display_data"
    },
    {
     "name": "stdout",
     "output_type": "stream",
     "text": [
      "\n"
     ]
    }
   ],
   "source": [
    "print('Transform all features to category.\\n')\n",
    "for usecol in tqdm_notebook([col for col in train.columns if col not in ['HasDetections', 'MachineIdentifier']]):\n",
    "\n",
    "    train[usecol] = train[usecol].astype('str')\n",
    "    test[usecol] = test[usecol].astype('str')\n",
    "    \n",
    "    #Fit LabelEncoder\n",
    "    le = LabelEncoder().fit(\n",
    "            np.unique(train[usecol].unique().tolist()+\n",
    "                      test[usecol].unique().tolist()))\n",
    "\n",
    "    #At the end 0 will be used for dropped values\n",
    "    train[usecol] = le.transform(train[usecol])+1\n",
    "    test[usecol]  = le.transform(test[usecol])+1\n",
    "\n",
    "    agg_tr = (train\n",
    "              .groupby([usecol])\n",
    "              .aggregate({'MachineIdentifier':'count'})\n",
    "              .reset_index()\n",
    "              .rename({'MachineIdentifier':'Train'}, axis=1))\n",
    "    \n",
    "    agg_te = (test\n",
    "              .groupby([usecol])\n",
    "              .aggregate({'MachineIdentifier':'count'})\n",
    "              .reset_index()\n",
    "              .rename({'MachineIdentifier':'Test'}, axis=1))\n",
    "\n",
    "    agg = pd.merge(agg_tr, agg_te, on=usecol, how='outer').replace(np.nan, 0)\n",
    "\n",
    "    #Select values with more than 1000 observations\n",
    "    agg = agg[(agg['Train'] > 960)].reset_index(drop=True)\n",
    "    agg['Total'] = agg['Train'] + agg['Test']\n",
    "    #Drop unbalanced values\n",
    "    agg = agg[(agg['Train'] / (agg['Total']) > 0.2) & (agg['Train'] / (agg['Total']) < 0.8)]\n",
    "    agg[usecol+'Copy'] = agg[usecol]\n",
    "        \n",
    "    train[usecol] = (pd.merge(train[[usecol]], \n",
    "                              agg[[usecol, usecol+'Copy']], \n",
    "                              on=usecol, how='left')[usecol+'Copy']\n",
    "                     .replace(np.nan, 0).astype('int').astype('category'))\n",
    "\n",
    "    test[usecol]  = (pd.merge(test[[usecol]], \n",
    "                              agg[[usecol, usecol+'Copy']], \n",
    "                              on=usecol, how='left')[usecol+'Copy']\n",
    "                     .replace(np.nan, 0).astype('int').astype('category'))\n",
    "\n",
    "    del le, agg_tr, agg_te, agg, usecol\n",
    "    gc.collect()"
   ]
  },
  {
   "cell_type": "code",
   "execution_count": 62,
   "metadata": {
    "ExecuteTime": {
     "end_time": "2019-03-10T09:59:25.087665Z",
     "start_time": "2019-03-10T09:59:25.080681Z"
    }
   },
   "outputs": [
    {
     "data": {
      "text/plain": [
       "(7429146, 83)"
      ]
     },
     "execution_count": 62,
     "metadata": {},
     "output_type": "execute_result"
    }
   ],
   "source": [
    "train.shape"
   ]
  },
  {
   "cell_type": "code",
   "execution_count": 63,
   "metadata": {
    "ExecuteTime": {
     "end_time": "2019-03-10T09:59:29.689267Z",
     "start_time": "2019-03-10T09:59:29.657354Z"
    }
   },
   "outputs": [],
   "source": [
    "y_train = np.array(train['HasDetections'])\n",
    "train_ids = train.index\n",
    "test_ids  = test.index"
   ]
  },
  {
   "cell_type": "code",
   "execution_count": 64,
   "metadata": {
    "ExecuteTime": {
     "end_time": "2019-03-10T09:59:30.180281Z",
     "start_time": "2019-03-10T09:59:30.084536Z"
    }
   },
   "outputs": [
    {
     "data": {
      "text/plain": [
       "28"
      ]
     },
     "execution_count": 64,
     "metadata": {},
     "output_type": "execute_result"
    }
   ],
   "source": [
    "del train['HasDetections'], train['MachineIdentifier'], test['MachineIdentifier'], test['HasDetections']\n",
    "gc.collect()"
   ]
  },
  {
   "cell_type": "code",
   "execution_count": 65,
   "metadata": {
    "ExecuteTime": {
     "end_time": "2019-03-10T09:59:32.242290Z",
     "start_time": "2019-03-10T09:59:32.231320Z"
    },
    "scrolled": true
   },
   "outputs": [
    {
     "name": "stdout",
     "output_type": "stream",
     "text": [
      "If you don't want use Sparse Matrix choose Kernel Version 2 to get simple solution.\n",
      "\n",
      "--------------------------------------------------------------------------------------------------------\n",
      "Transform Data to Sparse Matrix.\n",
      "Sparse Matrix can be used to fit a lot of models, eg. XGBoost, LightGBM, Random Forest, K-Means and etc.\n",
      "To concatenate Sparse Matrices by column use hstack()\n",
      "Read more about Sparse Matrix https://docs.scipy.org/doc/scipy/reference/sparse.html\n",
      "Good Luck!\n",
      "--------------------------------------------------------------------------------------------------------\n"
     ]
    }
   ],
   "source": [
    "print(\"If you don't want use Sparse Matrix choose Kernel Version 2 to get simple solution.\\n\")\n",
    "\n",
    "print('--------------------------------------------------------------------------------------------------------')\n",
    "print('Transform Data to Sparse Matrix.')\n",
    "print('Sparse Matrix can be used to fit a lot of models, eg. XGBoost, LightGBM, Random Forest, K-Means and etc.')\n",
    "print('To concatenate Sparse Matrices by column use hstack()')\n",
    "print('Read more about Sparse Matrix https://docs.scipy.org/doc/scipy/reference/sparse.html')\n",
    "print('Good Luck!')\n",
    "print('--------------------------------------------------------------------------------------------------------')\n"
   ]
  },
  {
   "cell_type": "code",
   "execution_count": 66,
   "metadata": {
    "ExecuteTime": {
     "end_time": "2019-03-10T10:01:55.889245Z",
     "start_time": "2019-03-10T09:59:36.259257Z"
    }
   },
   "outputs": [],
   "source": [
    "#Fit OneHotEncoder\n",
    "ohe = OneHotEncoder(categories='auto', sparse=True, dtype='uint8').fit(train.append(test))"
   ]
  },
  {
   "cell_type": "code",
   "execution_count": 67,
   "metadata": {
    "ExecuteTime": {
     "end_time": "2019-03-10T10:05:05.632915Z",
     "start_time": "2019-03-10T10:01:55.920454Z"
    }
   },
   "outputs": [],
   "source": [
    "#Transform data using small groups to reduce memory usage\n",
    "m = 100000\n",
    "train = vstack([ohe.transform(train[i*m:(i+1)*m]) for i in range(train.shape[0] // m + 1)])\n",
    "test  = vstack([ohe.transform(test[i*m:(i+1)*m])  for i in range(test.shape[0] // m +  1)])"
   ]
  },
  {
   "cell_type": "code",
   "execution_count": 68,
   "metadata": {
    "ExecuteTime": {
     "end_time": "2019-03-10T10:05:05.643704Z",
     "start_time": "2019-03-10T10:05:05.632915Z"
    }
   },
   "outputs": [
    {
     "data": {
      "text/plain": [
       "(7429146, 6853)"
      ]
     },
     "execution_count": 68,
     "metadata": {},
     "output_type": "execute_result"
    }
   ],
   "source": [
    "train.shape"
   ]
  },
  {
   "cell_type": "code",
   "execution_count": 69,
   "metadata": {
    "ExecuteTime": {
     "end_time": "2019-03-10T10:05:05.650651Z",
     "start_time": "2019-03-10T10:05:05.645662Z"
    }
   },
   "outputs": [
    {
     "data": {
      "text/plain": [
       "(6598039, 6853)"
      ]
     },
     "execution_count": 69,
     "metadata": {},
     "output_type": "execute_result"
    }
   ],
   "source": [
    "test.shape"
   ]
  },
  {
   "cell_type": "code",
   "execution_count": 70,
   "metadata": {
    "ExecuteTime": {
     "end_time": "2019-03-10T10:07:52.320652Z",
     "start_time": "2019-03-10T10:05:41.381218Z"
    }
   },
   "outputs": [],
   "source": [
    "save_npz('./data_temp/train.npz', train, compressed=True)\n",
    "save_npz('./data_temp/test.npz',  test,  compressed=True)"
   ]
  },
  {
   "cell_type": "code",
   "execution_count": 71,
   "metadata": {
    "ExecuteTime": {
     "end_time": "2019-03-10T10:07:53.257178Z",
     "start_time": "2019-03-10T10:07:52.322609Z"
    }
   },
   "outputs": [
    {
     "data": {
      "text/plain": [
       "1148"
      ]
     },
     "execution_count": 71,
     "metadata": {},
     "output_type": "execute_result"
    }
   ],
   "source": [
    "del ohe, train, test\n",
    "gc.collect()"
   ]
  },
  {
   "cell_type": "code",
   "execution_count": 72,
   "metadata": {
    "ExecuteTime": {
     "end_time": "2019-03-10T10:08:14.141255Z",
     "start_time": "2019-03-10T10:07:56.360174Z"
    }
   },
   "outputs": [],
   "source": [
    "train = load_npz('./data_temp/train.npz')\n",
    "test = load_npz('./data_temp/test.npz')\n",
    "test = csr_matrix(test, dtype='float32')"
   ]
  },
  {
   "cell_type": "code",
   "execution_count": 75,
   "metadata": {
    "ExecuteTime": {
     "end_time": "2019-03-10T10:08:49.368520Z",
     "start_time": "2019-03-10T10:08:49.364533Z"
    }
   },
   "outputs": [
    {
     "data": {
      "text/plain": [
       "(7429146, 6853)"
      ]
     },
     "execution_count": 75,
     "metadata": {},
     "output_type": "execute_result"
    }
   ],
   "source": [
    "train.shape"
   ]
  },
  {
   "cell_type": "code",
   "execution_count": 76,
   "metadata": {
    "ExecuteTime": {
     "end_time": "2019-03-10T10:08:49.680002Z",
     "start_time": "2019-03-10T10:08:49.674018Z"
    }
   },
   "outputs": [
    {
     "data": {
      "text/plain": [
       "(6598039, 6853)"
      ]
     },
     "execution_count": 76,
     "metadata": {},
     "output_type": "execute_result"
    }
   ],
   "source": [
    "test.shape"
   ]
  },
  {
   "cell_type": "code",
   "execution_count": 80,
   "metadata": {
    "ExecuteTime": {
     "end_time": "2019-03-10T10:19:21.538398Z",
     "start_time": "2019-03-10T10:19:21.526476Z"
    }
   },
   "outputs": [],
   "source": [
    "skf = StratifiedKFold(n_splits=3, shuffle=True, random_state=42)\n",
    "skf.get_n_splits(train_ids, y_train)\n",
    "\n",
    "lgb_test_result  = np.zeros(test_ids.shape[0])\n",
    "lgb_train_result = np.zeros(train_ids.shape[0])\n",
    "counter = 0"
   ]
  },
  {
   "cell_type": "code",
   "execution_count": 81,
   "metadata": {
    "ExecuteTime": {
     "end_time": "2019-03-10T11:53:46.928904Z",
     "start_time": "2019-03-10T10:19:24.082746Z"
    },
    "scrolled": false
   },
   "outputs": [
    {
     "name": "stdout",
     "output_type": "stream",
     "text": [
      "\n",
      "LightGBM\n",
      "\n",
      "Fold 1\n",
      "\n",
      "fitting\n",
      "Training until validation scores don't improve for 100 rounds.\n",
      "[100]\tvalid_0's binary_logloss: 0.59943\tvalid_0's auc: 0.732838\n",
      "[200]\tvalid_0's binary_logloss: 0.595501\tvalid_0's auc: 0.736929\n",
      "[300]\tvalid_0's binary_logloss: 0.595429\tvalid_0's auc: 0.736905\n",
      "Early stopping, best iteration is:\n",
      "[232]\tvalid_0's binary_logloss: 0.595378\tvalid_0's auc: 0.73703\n",
      "predicting\n",
      "Fold 2\n",
      "\n",
      "fitting\n",
      "Training until validation scores don't improve for 100 rounds.\n",
      "[100]\tvalid_0's binary_logloss: 0.599563\tvalid_0's auc: 0.732711\n",
      "[200]\tvalid_0's binary_logloss: 0.595567\tvalid_0's auc: 0.736903\n",
      "[300]\tvalid_0's binary_logloss: 0.59558\tvalid_0's auc: 0.736729\n",
      "Early stopping, best iteration is:\n",
      "[231]\tvalid_0's binary_logloss: 0.595486\tvalid_0's auc: 0.736931\n",
      "predicting\n",
      "Fold 3\n",
      "\n",
      "fitting\n",
      "Training until validation scores don't improve for 100 rounds.\n",
      "[100]\tvalid_0's binary_logloss: 0.599772\tvalid_0's auc: 0.732361\n",
      "[200]\tvalid_0's binary_logloss: 0.595784\tvalid_0's auc: 0.73664\n",
      "[300]\tvalid_0's binary_logloss: 0.595764\tvalid_0's auc: 0.736546\n",
      "Early stopping, best iteration is:\n",
      "[221]\tvalid_0's binary_logloss: 0.595688\tvalid_0's auc: 0.736722\n",
      "predicting\n"
     ]
    }
   ],
   "source": [
    "print('\\nLightGBM\\n')\n",
    "\n",
    "for train_index, test_index in skf.split(train_ids, y_train):\n",
    "    \n",
    "    print('Fold {}\\n'.format(counter + 1))\n",
    "    \n",
    "    X_fit = vstack([train[train_index[i*m:(i+1)*m]] for i in range(train_index.shape[0] // m + 1)])\n",
    "    X_val = vstack([train[test_index[i*m:(i+1)*m]]  for i in range(test_index.shape[0] //  m + 1)])\n",
    "    X_fit, X_val = csr_matrix(X_fit, dtype='float32'), csr_matrix(X_val, dtype='float32')\n",
    "    y_fit, y_val = y_train[train_index], y_train[test_index]\n",
    "    \n",
    "    gc.collect()\n",
    "\n",
    "    lgb_model = lgb.LGBMClassifier(max_depth=-1,\n",
    "                                   n_estimators=30000,\n",
    "                                   learning_rate=0.05,\n",
    "                                   num_leaves=2**12-1,\n",
    "                                   objective='binary', \n",
    "                                   boosting_type='gbdt',\n",
    "                                   # overfitting handling\n",
    "                                   # max_bin=120,\n",
    "                                   # lambda_l1=6,\n",
    "                                   # lambda_l2=2,\n",
    "                                   save_binary=True,\n",
    "                                   feature_fraction=0.8,\n",
    "                                   feature_fraction_seed=42,\n",
    "                                   n_jobs=-1)\n",
    "    \n",
    "    print(\"fitting\")\n",
    "    lgb_model.fit(X_fit, y_fit, eval_metric='auc', \n",
    "                  eval_set=[(X_val, y_val)], \n",
    "                  verbose=100, early_stopping_rounds=100)\n",
    "    \n",
    "    del X_fit, X_val, y_fit, y_val, train_index, test_index\n",
    "    gc.collect()\n",
    "    \n",
    "    print(\"predicting\")\n",
    "    lgb_test_result += lgb_model.predict_proba(test)[:,1]\n",
    "    counter += 1\n",
    "    \n",
    "    gc.collect()"
   ]
  },
  {
   "cell_type": "code",
   "execution_count": 85,
   "metadata": {
    "ExecuteTime": {
     "end_time": "2019-03-10T11:54:59.984851Z",
     "start_time": "2019-03-10T11:54:41.317477Z"
    }
   },
   "outputs": [],
   "source": [
    "pd.DataFrame(lgb_test_result/3).to_csv('./data_temp/temp_11.csv')"
   ]
  },
  {
   "cell_type": "code",
   "execution_count": 2,
   "metadata": {
    "ExecuteTime": {
     "end_time": "2019-03-11T03:22:26.545932Z",
     "start_time": "2019-03-11T03:22:26.425300Z"
    }
   },
   "outputs": [
    {
     "ename": "NameError",
     "evalue": "name 'data' is not defined",
     "output_type": "error",
     "traceback": [
      "\u001b[1;31m---------------------------------------------------------------------------\u001b[0m",
      "\u001b[1;31mNameError\u001b[0m                                 Traceback (most recent call last)",
      "\u001b[1;32m<ipython-input-2-c5d84736ba45>\u001b[0m in \u001b[0;36m<module>\u001b[1;34m\u001b[0m\n\u001b[1;32m----> 1\u001b[1;33m \u001b[0mdata\u001b[0m\u001b[1;33m\u001b[0m\u001b[1;33m\u001b[0m\u001b[0m\n\u001b[0m",
      "\u001b[1;31mNameError\u001b[0m: name 'data' is not defined"
     ]
    }
   ],
   "source": [
    "data"
   ]
  },
  {
   "cell_type": "code",
   "execution_count": null,
   "metadata": {},
   "outputs": [],
   "source": []
  }
 ],
 "metadata": {
  "kernelspec": {
   "display_name": "Python 3",
   "language": "python",
   "name": "python3"
  },
  "language_info": {
   "codemirror_mode": {
    "name": "ipython",
    "version": 3
   },
   "file_extension": ".py",
   "mimetype": "text/x-python",
   "name": "python",
   "nbconvert_exporter": "python",
   "pygments_lexer": "ipython3",
   "version": "3.6.7"
  },
  "toc": {
   "base_numbering": 1,
   "nav_menu": {},
   "number_sections": true,
   "sideBar": true,
   "skip_h1_title": false,
   "title_cell": "Table of Contents",
   "title_sidebar": "Contents",
   "toc_cell": false,
   "toc_position": {
    "height": "calc(100% - 180px)",
    "left": "10px",
    "top": "150px",
    "width": "384px"
   },
   "toc_section_display": true,
   "toc_window_display": true
  }
 },
 "nbformat": 4,
 "nbformat_minor": 2
}
