{
 "cells": [
  {
   "cell_type": "markdown",
   "metadata": {},
   "source": [
    "# 사전작업"
   ]
  },
  {
   "cell_type": "markdown",
   "metadata": {},
   "source": [
    "## 라이브러리 로드"
   ]
  },
  {
   "cell_type": "code",
   "execution_count": 1,
   "metadata": {
    "ExecuteTime": {
     "end_time": "2019-03-11T03:24:56.858704Z",
     "start_time": "2019-03-11T03:24:55.249389Z"
    }
   },
   "outputs": [],
   "source": [
    "import numpy as np\n",
    "import pandas as pd\n",
    "import warnings\n",
    "import gc\n",
    "from tqdm import tqdm_notebook\n",
    "import lightgbm as lgb\n",
    "from scipy.sparse import vstack, csr_matrix, save_npz, load_npz\n",
    "from sklearn.preprocessing import LabelEncoder, OneHotEncoder\n",
    "from sklearn.model_selection import StratifiedKFold\n",
    "import matplotlib.pyplot as plt\n",
    "import seaborn as sns\n",
    "from sklearn.compose import ColumnTransformer\n",
    "\n",
    "warnings.filterwarnings(\"ignore\")\n",
    "gc.enable()"
   ]
  },
  {
   "cell_type": "code",
   "execution_count": 2,
   "metadata": {
    "ExecuteTime": {
     "end_time": "2019-03-11T03:24:56.866678Z",
     "start_time": "2019-03-11T03:24:56.860694Z"
    }
   },
   "outputs": [],
   "source": [
    "pd.set_option('max_rows', 150)\n",
    "pd.set_option('max_colwidth', 500)\n",
    "pd.set_option('max_columns', 500)"
   ]
  },
  {
   "cell_type": "markdown",
   "metadata": {},
   "source": [
    "## 데이터 로드"
   ]
  },
  {
   "cell_type": "code",
   "execution_count": 3,
   "metadata": {
    "ExecuteTime": {
     "end_time": "2019-03-11T03:24:56.877648Z",
     "start_time": "2019-03-11T03:24:56.868673Z"
    },
    "hide_input": true
   },
   "outputs": [],
   "source": [
    "dtypes = {\n",
    "        'MachineIdentifier':                                    'object',\n",
    "        'ProductName':                                          'category',\n",
    "        'EngineVersion':                                        'category',\n",
    "        'AppVersion':                                           'category',\n",
    "        'AvSigVersion':                                         'category',\n",
    "        'IsBeta':                                               'int8',\n",
    "        'RtpStateBitfield':                                     'float16',\n",
    "        'IsSxsPassiveMode':                                     'int8',\n",
    "        'DefaultBrowsersIdentifier':                            'float16',\n",
    "        'AVProductStatesIdentifier':                            'float32',\n",
    "        'AVProductsInstalled':                                  'float16',\n",
    "        'AVProductsEnabled':                                    'float16',\n",
    "        'HasTpm':                                               'int8',\n",
    "        'CountryIdentifier':                                    'int16',\n",
    "        'CityIdentifier':                                       'float32',\n",
    "        'OrganizationIdentifier':                               'float16',\n",
    "        'GeoNameIdentifier':                                    'float16',\n",
    "        'LocaleEnglishNameIdentifier':                          'int8',\n",
    "        'Platform':                                             'category',\n",
    "        'Processor':                                            'category',\n",
    "        'OsVer':                                                'category',\n",
    "        'OsBuild':                                              'int16',\n",
    "        'OsSuite':                                              'int16',\n",
    "        'OsPlatformSubRelease':                                 'category',\n",
    "        'OsBuildLab':                                           'category',\n",
    "        'SkuEdition':                                           'category',\n",
    "        'IsProtected':                                          'float16',\n",
    "        'AutoSampleOptIn':                                      'int8',\n",
    "        'PuaMode':                                              'category',\n",
    "        'SMode':                                                'float16',\n",
    "        'IeVerIdentifier':                                      'float16',\n",
    "        'SmartScreen':                                          'category',\n",
    "        'Firewall':                                             'float16',\n",
    "        'UacLuaenable':                                         'float32',\n",
    "        'Census_MDC2FormFactor':                                'category',\n",
    "        'Census_DeviceFamily':                                  'category',\n",
    "        'Census_OEMNameIdentifier':                             'float16',\n",
    "        'Census_OEMModelIdentifier':                            'float32',\n",
    "        'Census_ProcessorCoreCount':                            'float16',\n",
    "        'Census_ProcessorManufacturerIdentifier':               'float16',\n",
    "        'Census_ProcessorModelIdentifier':                      'float16',\n",
    "        'Census_ProcessorClass':                                'category',\n",
    "        'Census_PrimaryDiskTotalCapacity':                      'float32',\n",
    "        'Census_PrimaryDiskTypeName':                           'category',\n",
    "        'Census_SystemVolumeTotalCapacity':                     'float32',\n",
    "        'Census_HasOpticalDiskDrive':                           'int8',\n",
    "        'Census_TotalPhysicalRAM':                              'float32',\n",
    "        'Census_ChassisTypeName':                               'category',\n",
    "        'Census_InternalPrimaryDiagonalDisplaySizeInInches':    'float16',\n",
    "        'Census_InternalPrimaryDisplayResolutionHorizontal':    'float16',\n",
    "        'Census_InternalPrimaryDisplayResolutionVertical':      'float16',\n",
    "        'Census_PowerPlatformRoleName':                         'category',\n",
    "        'Census_InternalBatteryType':                           'category',\n",
    "        'Census_InternalBatteryNumberOfCharges':                'float32',\n",
    "        'Census_OSVersion':                                     'category',\n",
    "        'Census_OSArchitecture':                                'category',\n",
    "        'Census_OSBranch':                                      'category',\n",
    "        'Census_OSBuildNumber':                                 'int16',\n",
    "        'Census_OSBuildRevision':                               'int32',\n",
    "        'Census_OSEdition':                                     'category',\n",
    "        'Census_OSSkuName':                                     'category',\n",
    "        'Census_OSInstallTypeName':                             'category',\n",
    "        'Census_OSInstallLanguageIdentifier':                   'float16',\n",
    "        'Census_OSUILocaleIdentifier':                          'int16',\n",
    "        'Census_OSWUAutoUpdateOptionsName':                     'category',\n",
    "        'Census_IsPortableOperatingSystem':                     'int8',\n",
    "        'Census_GenuineStateName':                              'category',\n",
    "        'Census_ActivationChannel':                             'category',\n",
    "        'Census_IsFlightingInternal':                           'float16',\n",
    "        'Census_IsFlightsDisabled':                             'float16',\n",
    "        'Census_FlightRing':                                    'category',\n",
    "        'Census_ThresholdOptIn':                                'float16',\n",
    "        'Census_FirmwareManufacturerIdentifier':                'float16',\n",
    "        'Census_FirmwareVersionIdentifier':                     'float32',\n",
    "        'Census_IsSecureBootEnabled':                           'int8',\n",
    "        'Census_IsWIMBootEnabled':                              'float16',\n",
    "        'Census_IsVirtualDevice':                               'float16',\n",
    "        'Census_IsTouchEnabled':                                'int8',\n",
    "        'Census_IsPenCapable':                                  'int8',\n",
    "        'Census_IsAlwaysOnAlwaysConnectedCapable':              'float16',\n",
    "        'Wdft_IsGamer':                                         'float16',\n",
    "        'Wdft_RegionIdentifier':                                'float16',\n",
    "        'HasDetections':                                        'int8'\n",
    "        }"
   ]
  },
  {
   "cell_type": "code",
   "execution_count": 4,
   "metadata": {
    "ExecuteTime": {
     "end_time": "2019-03-11T03:28:40.703217Z",
     "start_time": "2019-03-11T03:25:12.453955Z"
    },
    "scrolled": true
   },
   "outputs": [
    {
     "name": "stdout",
     "output_type": "stream",
     "text": [
      "Wall time: 3min 28s\n"
     ]
    }
   ],
   "source": [
    "%%time\n",
    "train = pd.read_csv('./data/train.csv', dtype=dtypes)\n",
    "test = pd.read_csv('./data/test.csv', dtype=dtypes)"
   ]
  },
  {
   "cell_type": "markdown",
   "metadata": {},
   "source": [
    "## train, test 합치기"
   ]
  },
  {
   "cell_type": "code",
   "execution_count": 6,
   "metadata": {
    "ExecuteTime": {
     "end_time": "2019-03-11T03:33:40.446335Z",
     "start_time": "2019-03-11T03:31:58.285806Z"
    }
   },
   "outputs": [
    {
     "data": {
      "text/plain": [
       "194761"
      ]
     },
     "execution_count": 6,
     "metadata": {},
     "output_type": "execute_result"
    }
   ],
   "source": [
    "test['HasDetections'] = np.nan\n",
    "data = train.append(test)\n",
    "data.reset_index(drop=True, inplace=True)\n",
    "data = data.reset_index().drop(['MachineIdentifier'], axis=1).rename(columns={'index':'MachineIdentifier'})\n",
    "del train, test\n",
    "gc.collect()"
   ]
  },
  {
   "cell_type": "markdown",
   "metadata": {},
   "source": [
    "## Get Date - AvSigVersion"
   ]
  },
  {
   "cell_type": "code",
   "execution_count": 7,
   "metadata": {
    "ExecuteTime": {
     "end_time": "2019-03-11T03:40:23.580181Z",
     "start_time": "2019-03-11T03:39:57.586432Z"
    }
   },
   "outputs": [],
   "source": [
    "datedict = np.load('./data/AvSigVersionTimestamps.npy')\n",
    "datedict = datedict[()]\n",
    "data['Date'] = data['AvSigVersion'].map(datedict)\n",
    "data['Date_YMD'] = pd.to_datetime(data['Date'].astype(str).str.slice(0, 10))\n",
    "del datedict"
   ]
  },
  {
   "cell_type": "markdown",
   "metadata": {},
   "source": [
    "## 2018년 7월 25일 ~ 9월 24일"
   ]
  },
  {
   "cell_type": "markdown",
   "metadata": {},
   "source": [
    "### Data Load"
   ]
  },
  {
   "cell_type": "code",
   "execution_count": 9,
   "metadata": {
    "ExecuteTime": {
     "end_time": "2019-03-11T03:40:59.102004Z",
     "start_time": "2019-03-11T03:40:48.671902Z"
    }
   },
   "outputs": [],
   "source": [
    "train = data[~data.HasDetections.isna()]\n",
    "test = data[data.HasDetections.isna()]"
   ]
  },
  {
   "cell_type": "code",
   "execution_count": 10,
   "metadata": {
    "ExecuteTime": {
     "end_time": "2019-03-11T03:41:05.434991Z",
     "start_time": "2019-03-11T03:40:59.104981Z"
    }
   },
   "outputs": [],
   "source": [
    "lb_692 = pd.read_csv('./data/submission_lgb.csv')\n",
    "lb_692['Date'] = test.Date.values"
   ]
  },
  {
   "cell_type": "code",
   "execution_count": 11,
   "metadata": {
    "ExecuteTime": {
     "end_time": "2019-03-11T03:41:12.108299Z",
     "start_time": "2019-03-11T03:41:05.436964Z"
    }
   },
   "outputs": [],
   "source": [
    "lb_701 = pd.read_csv('./data/YH_v3_new_jebal.csv')\n",
    "lb_701['Date'] = test.Date.values"
   ]
  },
  {
   "cell_type": "code",
   "execution_count": 12,
   "metadata": {
    "ExecuteTime": {
     "end_time": "2019-03-11T03:41:19.216125Z",
     "start_time": "2019-03-11T03:41:12.110293Z"
    }
   },
   "outputs": [],
   "source": [
    "lb_702 = pd.read_csv('./data/time_test.csv')\n",
    "lb_702['Date'] = test.Date.values"
   ]
  },
  {
   "cell_type": "code",
   "execution_count": 13,
   "metadata": {
    "ExecuteTime": {
     "end_time": "2019-03-11T03:41:27.281760Z",
     "start_time": "2019-03-11T03:41:19.217661Z"
    }
   },
   "outputs": [],
   "source": [
    "lb_706 = pd.read_csv('./data/time_test_5.csv')\n",
    "lb_706['Date'] = test.Date.values"
   ]
  },
  {
   "cell_type": "code",
   "execution_count": 14,
   "metadata": {
    "ExecuteTime": {
     "end_time": "2019-03-11T03:41:35.252948Z",
     "start_time": "2019-03-11T03:41:27.282762Z"
    }
   },
   "outputs": [],
   "source": [
    "lb_707 = pd.read_csv('./data/time_test_7.csv')\n",
    "lb_707['Date'] = test.Date.values"
   ]
  },
  {
   "cell_type": "markdown",
   "metadata": {},
   "source": [
    "### make meta"
   ]
  },
  {
   "cell_type": "code",
   "execution_count": 15,
   "metadata": {
    "ExecuteTime": {
     "end_time": "2019-03-11T03:41:36.540225Z",
     "start_time": "2019-03-11T03:41:35.277882Z"
    }
   },
   "outputs": [],
   "source": [
    "time_idx = data.groupby(['Date']).size().index"
   ]
  },
  {
   "cell_type": "code",
   "execution_count": 16,
   "metadata": {
    "ExecuteTime": {
     "end_time": "2019-03-11T03:42:18.603064Z",
     "start_time": "2019-03-11T03:42:18.594087Z"
    }
   },
   "outputs": [],
   "source": [
    "temp = pd.DataFrame(time_idx)"
   ]
  },
  {
   "cell_type": "code",
   "execution_count": 22,
   "metadata": {
    "ExecuteTime": {
     "end_time": "2019-03-11T03:42:49.239163Z",
     "start_time": "2019-03-11T03:42:49.234177Z"
    }
   },
   "outputs": [],
   "source": [
    "condition = (temp.Date >= '2018-07-25')&(temp.Date <= '2018-11-24')"
   ]
  },
  {
   "cell_type": "markdown",
   "metadata": {},
   "source": [
    "### train, test"
   ]
  },
  {
   "cell_type": "code",
   "execution_count": 23,
   "metadata": {
    "ExecuteTime": {
     "end_time": "2019-03-11T03:42:57.471187Z",
     "start_time": "2019-03-11T03:42:56.127910Z"
    }
   },
   "outputs": [],
   "source": [
    "tr_temp = train.groupby('Date').HasDetections.agg(['size', 'mean']).reset_index()\n",
    "te_temp = test.groupby('Date').HasDetections.agg(['size', 'mean']).reset_index()"
   ]
  },
  {
   "cell_type": "code",
   "execution_count": 24,
   "metadata": {
    "ExecuteTime": {
     "end_time": "2019-03-11T03:43:00.595909Z",
     "start_time": "2019-03-11T03:43:00.553025Z"
    }
   },
   "outputs": [],
   "source": [
    "tr_temp = temp.merge(tr_temp, on='Date', how='left')\n",
    "te_temp = temp.merge(te_temp, on='Date', how='left')"
   ]
  },
  {
   "cell_type": "code",
   "execution_count": 25,
   "metadata": {
    "ExecuteTime": {
     "end_time": "2019-03-11T03:43:01.247586Z",
     "start_time": "2019-03-11T03:43:01.235586Z"
    }
   },
   "outputs": [],
   "source": [
    "tr_temp = tr_temp[condition]\n",
    "te_temp = te_temp[condition]"
   ]
  },
  {
   "cell_type": "markdown",
   "metadata": {},
   "source": [
    "### lb_692"
   ]
  },
  {
   "cell_type": "code",
   "execution_count": 27,
   "metadata": {
    "ExecuteTime": {
     "end_time": "2019-03-11T03:43:11.940527Z",
     "start_time": "2019-03-11T03:43:11.228536Z"
    }
   },
   "outputs": [],
   "source": [
    "lb_temp_692 = lb_692.groupby('Date').HasDetections.agg(['size', 'mean']).reset_index()"
   ]
  },
  {
   "cell_type": "code",
   "execution_count": 28,
   "metadata": {
    "ExecuteTime": {
     "end_time": "2019-03-11T03:43:11.951498Z",
     "start_time": "2019-03-11T03:43:11.942521Z"
    }
   },
   "outputs": [],
   "source": [
    "lb_temp_692 = temp.merge(lb_temp_692, on='Date', how='left')"
   ]
  },
  {
   "cell_type": "code",
   "execution_count": 29,
   "metadata": {
    "ExecuteTime": {
     "end_time": "2019-03-11T03:43:12.844613Z",
     "start_time": "2019-03-11T03:43:12.832648Z"
    }
   },
   "outputs": [],
   "source": [
    "lb_temp_692 = lb_temp_692[condition]"
   ]
  },
  {
   "cell_type": "markdown",
   "metadata": {},
   "source": [
    "### lb_701"
   ]
  },
  {
   "cell_type": "code",
   "execution_count": 30,
   "metadata": {
    "ExecuteTime": {
     "end_time": "2019-03-11T03:43:19.613235Z",
     "start_time": "2019-03-11T03:43:18.953134Z"
    }
   },
   "outputs": [],
   "source": [
    "lb_temp_701 = lb_701.groupby('Date').HasDetections.agg(['size', 'mean']).reset_index()"
   ]
  },
  {
   "cell_type": "code",
   "execution_count": 31,
   "metadata": {
    "ExecuteTime": {
     "end_time": "2019-03-11T03:43:19.623225Z",
     "start_time": "2019-03-11T03:43:19.615194Z"
    }
   },
   "outputs": [],
   "source": [
    "lb_temp_701 = temp.merge(lb_temp_701, on='Date', how='left')"
   ]
  },
  {
   "cell_type": "code",
   "execution_count": 32,
   "metadata": {
    "ExecuteTime": {
     "end_time": "2019-03-11T03:43:19.967965Z",
     "start_time": "2019-03-11T03:43:19.960986Z"
    }
   },
   "outputs": [],
   "source": [
    "lb_temp_701 = lb_temp_701[condition]"
   ]
  },
  {
   "cell_type": "markdown",
   "metadata": {},
   "source": [
    "### lb_702"
   ]
  },
  {
   "cell_type": "code",
   "execution_count": 33,
   "metadata": {
    "ExecuteTime": {
     "end_time": "2019-03-11T03:43:28.726572Z",
     "start_time": "2019-03-11T03:43:26.388864Z"
    }
   },
   "outputs": [],
   "source": [
    "lb_temp_702 = lb_702.groupby('Date').HasDetections.agg(['size', 'mean']).reset_index()"
   ]
  },
  {
   "cell_type": "code",
   "execution_count": 34,
   "metadata": {
    "ExecuteTime": {
     "end_time": "2019-03-11T03:43:28.745524Z",
     "start_time": "2019-03-11T03:43:28.730564Z"
    }
   },
   "outputs": [],
   "source": [
    "lb_temp_702 = temp.merge(lb_temp_702, on='Date', how='left')"
   ]
  },
  {
   "cell_type": "code",
   "execution_count": 35,
   "metadata": {
    "ExecuteTime": {
     "end_time": "2019-03-11T03:43:28.757490Z",
     "start_time": "2019-03-11T03:43:28.748515Z"
    }
   },
   "outputs": [],
   "source": [
    "lb_temp_702 = lb_temp_702[condition]"
   ]
  },
  {
   "cell_type": "markdown",
   "metadata": {},
   "source": [
    "### lb_706"
   ]
  },
  {
   "cell_type": "code",
   "execution_count": 36,
   "metadata": {
    "ExecuteTime": {
     "end_time": "2019-03-11T03:43:33.052423Z",
     "start_time": "2019-03-11T03:43:32.275529Z"
    }
   },
   "outputs": [],
   "source": [
    "lb_temp_706 = lb_706.groupby('Date').HasDetections.agg(['size', 'mean']).reset_index()"
   ]
  },
  {
   "cell_type": "code",
   "execution_count": 37,
   "metadata": {
    "ExecuteTime": {
     "end_time": "2019-03-11T03:43:33.063419Z",
     "start_time": "2019-03-11T03:43:33.054418Z"
    }
   },
   "outputs": [],
   "source": [
    "lb_temp_706 = temp.merge(lb_temp_706, on='Date', how='left')"
   ]
  },
  {
   "cell_type": "code",
   "execution_count": 38,
   "metadata": {
    "ExecuteTime": {
     "end_time": "2019-03-11T03:43:33.070375Z",
     "start_time": "2019-03-11T03:43:33.064390Z"
    }
   },
   "outputs": [],
   "source": [
    "lb_temp_706 = lb_temp_706[condition]"
   ]
  },
  {
   "cell_type": "markdown",
   "metadata": {},
   "source": [
    "### lb_707"
   ]
  },
  {
   "cell_type": "code",
   "execution_count": 39,
   "metadata": {
    "ExecuteTime": {
     "end_time": "2019-03-11T03:43:39.391950Z",
     "start_time": "2019-03-11T03:43:38.720747Z"
    }
   },
   "outputs": [],
   "source": [
    "lb_temp_707 = lb_707.groupby('Date').HasDetections.agg(['size', 'mean']).reset_index()"
   ]
  },
  {
   "cell_type": "code",
   "execution_count": 40,
   "metadata": {
    "ExecuteTime": {
     "end_time": "2019-03-11T03:43:39.405941Z",
     "start_time": "2019-03-11T03:43:39.393945Z"
    }
   },
   "outputs": [],
   "source": [
    "lb_temp_707 = temp.merge(lb_temp_707, on='Date', how='left')"
   ]
  },
  {
   "cell_type": "code",
   "execution_count": 41,
   "metadata": {
    "ExecuteTime": {
     "end_time": "2019-03-11T03:43:39.414888Z",
     "start_time": "2019-03-11T03:43:39.406910Z"
    }
   },
   "outputs": [],
   "source": [
    "lb_temp_707 = lb_temp_707[condition]"
   ]
  },
  {
   "cell_type": "markdown",
   "metadata": {},
   "source": [
    "### hypothesis"
   ]
  },
  {
   "cell_type": "code",
   "execution_count": 42,
   "metadata": {
    "ExecuteTime": {
     "end_time": "2019-03-11T03:43:43.536126Z",
     "start_time": "2019-03-11T03:43:43.180685Z"
    }
   },
   "outputs": [],
   "source": [
    "hypothesis_temp = train.groupby('Date').HasDetections.agg(['size', 'mean']).reset_index()"
   ]
  },
  {
   "cell_type": "code",
   "execution_count": 43,
   "metadata": {
    "ExecuteTime": {
     "end_time": "2019-03-11T03:43:47.823141Z",
     "start_time": "2019-03-11T03:43:47.807169Z"
    }
   },
   "outputs": [],
   "source": [
    "hypothesis_temp.Date = hypothesis_temp.Date + pd.offsets.MonthOffset(2)"
   ]
  },
  {
   "cell_type": "code",
   "execution_count": 44,
   "metadata": {
    "ExecuteTime": {
     "end_time": "2019-03-11T03:43:53.309503Z",
     "start_time": "2019-03-11T03:43:53.294523Z"
    }
   },
   "outputs": [],
   "source": [
    "condition = (hypothesis_temp.Date >= '2018-07-25')&(hypothesis_temp.Date <= '2018-09-24')\n",
    "hypothesis_temp = hypothesis_temp[condition]"
   ]
  },
  {
   "cell_type": "code",
   "execution_count": 45,
   "metadata": {
    "ExecuteTime": {
     "end_time": "2019-03-11T03:43:56.234955Z",
     "start_time": "2019-03-11T03:43:56.225980Z"
    }
   },
   "outputs": [],
   "source": [
    "hypothesis_temp = temp.merge(hypothesis_temp, on='Date', how='left')"
   ]
  },
  {
   "cell_type": "markdown",
   "metadata": {},
   "source": [
    "### check hypothesis"
   ]
  },
  {
   "cell_type": "code",
   "execution_count": 46,
   "metadata": {
    "ExecuteTime": {
     "end_time": "2019-03-11T03:43:57.340941Z",
     "start_time": "2019-03-11T03:43:57.337926Z"
    },
    "hide_input": false
   },
   "outputs": [],
   "source": [
    "# check_temp = check.groupby(['Date_YMD']).HasDetections.agg(['size', 'mean']).reset_index()"
   ]
  },
  {
   "cell_type": "code",
   "execution_count": 47,
   "metadata": {
    "ExecuteTime": {
     "end_time": "2019-03-11T03:43:57.510879Z",
     "start_time": "2019-03-11T03:43:57.506934Z"
    },
    "hide_input": false
   },
   "outputs": [],
   "source": [
    "# condition = (check_temp.Date_YMD >= '2018-07-25')&(check_temp.Date_YMD <= '2018-11-25')\n",
    "# check_temp = check_temp[condition]"
   ]
  },
  {
   "cell_type": "markdown",
   "metadata": {},
   "source": [
    "### plot"
   ]
  },
  {
   "cell_type": "code",
   "execution_count": 57,
   "metadata": {
    "ExecuteTime": {
     "end_time": "2019-03-11T03:46:54.979006Z",
     "start_time": "2019-03-11T03:46:54.714086Z"
    },
    "hide_input": false
   },
   "outputs": [
    {
     "data": {
      "text/plain": [
       "<matplotlib.legend.Legend at 0x2c9bee2cf28>"
      ]
     },
     "execution_count": 57,
     "metadata": {},
     "output_type": "execute_result"
    },
    {
     "data": {
      "image/png": "[encoded data removed]",
      "text/plain": [
       "<Figure size 1296x576 with 1 Axes>"
      ]
     },
     "metadata": {
      "needs_background": "light"
     },
     "output_type": "display_data"
    }
   ],
   "source": [
    "plt.figure(figsize=(18, 8))\n",
    "plt.plot(tr_temp.Date, tr_temp['mean'], 'o', color='b', alpha=0.1, label='train')\n",
    "# plt.plot(lb_temp_692.Date, lb_temp_692['mean'], 'o', color='r', alpha=1, label='692')\n",
    "# plt.plot(lb_temp_701.Date, lb_temp_701['mean'], 'o', color='g', alpha=1, label='701')\n",
    "# plt.plot(lb_temp_702.Date, lb_temp_702['mean'], 'o', color='y', alpha=1, label='702')\n",
    "# plt.plot(lb_temp_706.Date, lb_temp_706['mean'], 'o', color='k', alpha=1, label='706')\n",
    "plt.plot(lb_temp_707.Date, lb_temp_707['mean'], 'o', color='b', alpha=1, label='707')\n",
    "# plt.plot(hypothesis_temp.Date, hypothesis_temp['mean'], '+', color='c', alpha=1, label='hypothesis')\n",
    "plt.legend(prop={'size': 16})"
   ]
  },
  {
   "cell_type": "code",
   "execution_count": 58,
   "metadata": {
    "ExecuteTime": {
     "end_time": "2019-03-11T03:46:56.948517Z",
     "start_time": "2019-03-11T03:46:56.688487Z"
    },
    "hide_input": false
   },
   "outputs": [
    {
     "data": {
      "text/plain": [
       "<matplotlib.legend.Legend at 0x2c95bb03518>"
      ]
     },
     "execution_count": 58,
     "metadata": {},
     "output_type": "execute_result"
    },
    {
     "data": {
      "image/png": "[encoded data removed]",
      "text/plain": [
       "<Figure size 1296x576 with 1 Axes>"
      ]
     },
     "metadata": {
      "needs_background": "light"
     },
     "output_type": "display_data"
    }
   ],
   "source": [
    "plt.figure(figsize=(18, 8))\n",
    "plt.plot(tr_temp.Date, tr_temp['size'], 'o', color='b', alpha=1, label='train')\n",
    "plt.plot(te_temp.Date, te_temp['size'], 'o', color='r', alpha=1, label='train')\n",
    "# plt.plot(hypothesis_temp.Date, hypothesis_temp['size'], 'o', color='c', alpha=1, label='train')\n",
    "plt.legend(prop={'size': 16})"
   ]
  },
  {
   "cell_type": "markdown",
   "metadata": {},
   "source": [
    "## 706에서 8월 22일까지를 cat으로 바꿔보기"
   ]
  },
  {
   "cell_type": "code",
   "execution_count": 180,
   "metadata": {
    "ExecuteTime": {
     "end_time": "2019-03-11T02:57:16.120128Z",
     "start_time": "2019-03-11T02:57:15.586309Z"
    }
   },
   "outputs": [],
   "source": [
    "change = lb_706[(lb_706.Date_YMD >= '2018-07-25') & (lb_706.Date_YMD <= '2018-08-22')]\n",
    "not_change = lb_706[~((lb_706.Date_YMD >= '2018-07-25') & (lb_706.Date_YMD <= '2018-08-22'))]"
   ]
  },
  {
   "cell_type": "code",
   "execution_count": 181,
   "metadata": {
    "ExecuteTime": {
     "end_time": "2019-03-11T02:57:16.674701Z",
     "start_time": "2019-03-11T02:57:16.568657Z"
    }
   },
   "outputs": [],
   "source": [
    "test = cat[(cat.Date_YMD >= '2018-07-25') & (cat.Date_YMD <= '2018-08-22')]"
   ]
  },
  {
   "cell_type": "code",
   "execution_count": 182,
   "metadata": {
    "ExecuteTime": {
     "end_time": "2019-03-11T02:57:17.386563Z",
     "start_time": "2019-03-11T02:57:17.318744Z"
    }
   },
   "outputs": [],
   "source": [
    "change.HasDetections = test.HasDetections.values"
   ]
  },
  {
   "cell_type": "code",
   "execution_count": 183,
   "metadata": {
    "ExecuteTime": {
     "end_time": "2019-03-11T02:57:26.053119Z",
     "start_time": "2019-03-11T02:57:20.309657Z"
    }
   },
   "outputs": [],
   "source": [
    "check = change.append(not_change).sort_values('MachineIdentifier')"
   ]
  },
  {
   "cell_type": "code",
   "execution_count": 188,
   "metadata": {
    "ExecuteTime": {
     "end_time": "2019-03-11T02:58:22.780315Z",
     "start_time": "2019-03-11T02:57:59.382099Z"
    }
   },
   "outputs": [],
   "source": [
    "check[['MachineIdentifier', 'HasDetections']].to_csv('./data/time_test_7.csv', index=False)"
   ]
  },
  {
   "cell_type": "markdown",
   "metadata": {},
   "source": [
    "## 706에서 9월 26일부터 11월 25일까지 Hypothesis Check으로 바꿔보기"
   ]
  },
  {
   "cell_type": "code",
   "execution_count": 178,
   "metadata": {
    "ExecuteTime": {
     "end_time": "2019-03-11T02:57:09.081499Z",
     "start_time": "2019-03-11T02:57:08.488054Z"
    }
   },
   "outputs": [],
   "source": [
    "change = lb_706[(lb_706.Date_YMD >= '2018-09-26') & (lb_706.Date_YMD <= '2018-11-25')]\n",
    "not_change = lb_706[~((lb_706.Date_YMD >= '2018-09-26') & (lb_706.Date_YMD <= '2018-11-25'))]"
   ]
  },
  {
   "cell_type": "code",
   "execution_count": 179,
   "metadata": {
    "ExecuteTime": {
     "end_time": "2019-03-11T02:57:09.924650Z",
     "start_time": "2019-03-11T02:57:09.905680Z"
    }
   },
   "outputs": [],
   "source": [
    "test = test[['MachineIdentifier', 'HasDetections', 'Date_YMD']]\n",
    "test = test[(test.Date_YMD >= '2018-09-26') & (test.Date_YMD <= '2018-11-25')]"
   ]
  },
  {
   "cell_type": "code",
   "execution_count": 161,
   "metadata": {
    "ExecuteTime": {
     "end_time": "2019-03-10T12:21:01.134880Z",
     "start_time": "2019-03-10T12:21:01.032118Z"
    }
   },
   "outputs": [],
   "source": [
    "change.HasDetections = test.HasDetections.values"
   ]
  },
  {
   "cell_type": "code",
   "execution_count": 162,
   "metadata": {
    "ExecuteTime": {
     "end_time": "2019-03-10T12:21:09.309669Z",
     "start_time": "2019-03-10T12:21:02.713063Z"
    }
   },
   "outputs": [],
   "source": [
    "check = change.append(not_change).sort_values('MachineIdentifier')"
   ]
  },
  {
   "cell_type": "code",
   "execution_count": 122,
   "metadata": {
    "ExecuteTime": {
     "end_time": "2019-03-10T12:10:43.294401Z",
     "start_time": "2019-03-10T12:10:19.048364Z"
    }
   },
   "outputs": [],
   "source": [
    "check[['MachineIdentifier', 'HasDetections']].to_csv('./data/time_test_4.csv', index=False)"
   ]
  },
  {
   "cell_type": "markdown",
   "metadata": {},
   "source": [
    "# Crazy Method - 2달 미뤄서 훈련시켜보기"
   ]
  },
  {
   "cell_type": "code",
   "execution_count": 226,
   "metadata": {
    "ExecuteTime": {
     "end_time": "2019-03-10T09:07:53.423830Z",
     "start_time": "2019-03-10T09:07:52.668881Z"
    }
   },
   "outputs": [
    {
     "data": {
      "text/plain": [
       "0"
      ]
     },
     "execution_count": 226,
     "metadata": {},
     "output_type": "execute_result"
    }
   ],
   "source": [
    "temp = data[(data.Date_YMD >= '2018-05-25') & (data.Date_YMD <= '2018-09-24')]\n",
    "del temp['Date']\n",
    "gc.collect()"
   ]
  },
  {
   "cell_type": "code",
   "execution_count": 227,
   "metadata": {
    "ExecuteTime": {
     "end_time": "2019-03-10T09:07:53.839717Z",
     "start_time": "2019-03-10T09:07:53.425824Z"
    }
   },
   "outputs": [
    {
     "data": {
      "text/plain": [
       "0"
      ]
     },
     "execution_count": 227,
     "metadata": {},
     "output_type": "execute_result"
    }
   ],
   "source": [
    "train = temp[~temp.HasDetections.isna()]\n",
    "test = temp[temp.HasDetections.isna()]\n",
    "\n",
    "del temp\n",
    "gc.collect()"
   ]
  },
  {
   "cell_type": "code",
   "execution_count": 97,
   "metadata": {
    "ExecuteTime": {
     "end_time": "2019-03-10T08:24:22.073139Z",
     "start_time": "2019-03-10T08:24:21.133617Z"
    }
   },
   "outputs": [
    {
     "data": {
      "text/plain": [
       "0"
      ]
     },
     "execution_count": 97,
     "metadata": {},
     "output_type": "execute_result"
    }
   ],
   "source": [
    "train = train[train.Date_YMD <= '2018-07-24']\n",
    "test = test[test.Date_YMD >= '2018-07-25']\n",
    "\n",
    "gc.collect()"
   ]
  },
  {
   "cell_type": "code",
   "execution_count": 205,
   "metadata": {
    "ExecuteTime": {
     "end_time": "2019-03-10T09:06:01.273527Z",
     "start_time": "2019-03-10T09:06:01.110383Z"
    }
   },
   "outputs": [],
   "source": [
    "# 2달 미루기\n",
    "train.Date_YMD = train.Date_YMD + pd.offsets.MonthOffset(2)"
   ]
  },
  {
   "cell_type": "code",
   "execution_count": 228,
   "metadata": {
    "ExecuteTime": {
     "end_time": "2019-03-10T09:07:55.057228Z",
     "start_time": "2019-03-10T09:07:55.053281Z"
    }
   },
   "outputs": [],
   "source": [
    "train.reset_index(drop=True, inplace=True)\n",
    "test.reset_index(drop=True, inplace=True)"
   ]
  },
  {
   "cell_type": "code",
   "execution_count": 229,
   "metadata": {
    "ExecuteTime": {
     "end_time": "2019-03-10T09:07:55.374291Z",
     "start_time": "2019-03-10T09:07:55.370302Z"
    }
   },
   "outputs": [
    {
     "data": {
      "text/plain": [
       "(627299, 84)"
      ]
     },
     "execution_count": 229,
     "metadata": {},
     "output_type": "execute_result"
    }
   ],
   "source": [
    "train.shape"
   ]
  },
  {
   "cell_type": "code",
   "execution_count": 230,
   "metadata": {
    "ExecuteTime": {
     "end_time": "2019-03-10T09:07:55.571023Z",
     "start_time": "2019-03-10T09:07:55.564042Z"
    }
   },
   "outputs": [
    {
     "data": {
      "text/plain": [
       "(161697, 84)"
      ]
     },
     "execution_count": 230,
     "metadata": {},
     "output_type": "execute_result"
    }
   ],
   "source": [
    "test.shape"
   ]
  },
  {
   "cell_type": "code",
   "execution_count": 225,
   "metadata": {
    "ExecuteTime": {
     "end_time": "2019-03-10T09:07:49.916480Z",
     "start_time": "2019-03-10T09:07:49.745938Z"
    }
   },
   "outputs": [
    {
     "data": {
      "text/plain": [
       "7"
      ]
     },
     "execution_count": 225,
     "metadata": {},
     "output_type": "execute_result"
    }
   ],
   "source": [
    "del train['AvSigVersion'], test['AvSigVersion']\n",
    "gc.collect()"
   ]
  },
  {
   "cell_type": "code",
   "execution_count": 231,
   "metadata": {
    "ExecuteTime": {
     "end_time": "2019-03-10T09:08:51.209223Z",
     "start_time": "2019-03-10T09:07:57.142593Z"
    },
    "scrolled": false
   },
   "outputs": [
    {
     "name": "stdout",
     "output_type": "stream",
     "text": [
      "Transform all features to category.\n",
      "\n"
     ]
    },
    {
     "data": {
      "application/vnd.jupyter.widget-view+json": {
       "model_id": "",
       "version_major": 2,
       "version_minor": 0
      },
      "text/plain": [
       "HBox(children=(IntProgress(value=0, max=82), HTML(value='')))"
      ]
     },
     "metadata": {},
     "output_type": "display_data"
    },
    {
     "name": "stdout",
     "output_type": "stream",
     "text": [
      "\n"
     ]
    }
   ],
   "source": [
    "print('Transform all features to category.\\n')\n",
    "for usecol in tqdm_notebook([col for col in train.columns if col not in ['HasDetections', 'MachineIdentifier']]):\n",
    "\n",
    "    train[usecol] = train[usecol].astype('str')\n",
    "    test[usecol] = test[usecol].astype('str')\n",
    "    \n",
    "    #Fit LabelEncoder\n",
    "    le = LabelEncoder().fit(\n",
    "            np.unique(train[usecol].unique().tolist()+\n",
    "                      test[usecol].unique().tolist()))\n",
    "\n",
    "    #At the end 0 will be used for dropped values\n",
    "    train[usecol] = le.transform(train[usecol])+1\n",
    "    test[usecol]  = le.transform(test[usecol])+1\n",
    "\n",
    "    agg_tr = (train\n",
    "              .groupby([usecol])\n",
    "              .aggregate({'MachineIdentifier':'count'})\n",
    "              .reset_index()\n",
    "              .rename({'MachineIdentifier':'Train'}, axis=1))\n",
    "    \n",
    "    agg_te = (test\n",
    "              .groupby([usecol])\n",
    "              .aggregate({'MachineIdentifier':'count'})\n",
    "              .reset_index()\n",
    "              .rename({'MachineIdentifier':'Test'}, axis=1))\n",
    "\n",
    "    agg = pd.merge(agg_tr, agg_te, on=usecol, how='outer').replace(np.nan, 0)\n",
    "\n",
    "    #Select values with more than 1000 observations\n",
    "    agg = agg[(agg['Train'] > 50)].reset_index(drop=True)\n",
    "    agg['Total'] = agg['Train'] / 3 + agg['Test']\n",
    "    #Drop unbalanced values\n",
    "    agg = agg[(agg['Train'] / (agg['Total'] * 3) > 0.14) & (agg['Train'] / (agg['Total'] * 3) < 0.86)]\n",
    "    agg[usecol+'Copy'] = agg[usecol]\n",
    "        \n",
    "    train[usecol] = (pd.merge(train[[usecol]], \n",
    "                              agg[[usecol, usecol+'Copy']], \n",
    "                              on=usecol, how='left')[usecol+'Copy']\n",
    "                     .replace(np.nan, 0).astype('int').astype('category'))\n",
    "\n",
    "    test[usecol]  = (pd.merge(test[[usecol]], \n",
    "                              agg[[usecol, usecol+'Copy']], \n",
    "                              on=usecol, how='left')[usecol+'Copy']\n",
    "                     .replace(np.nan, 0).astype('int').astype('category'))\n",
    "\n",
    "    del le, agg_tr, agg_te, agg, usecol\n",
    "    gc.collect()"
   ]
  },
  {
   "cell_type": "code",
   "execution_count": 232,
   "metadata": {
    "ExecuteTime": {
     "end_time": "2019-03-10T09:08:51.443379Z",
     "start_time": "2019-03-10T09:08:51.439454Z"
    }
   },
   "outputs": [
    {
     "data": {
      "text/plain": [
       "(627299, 84)"
      ]
     },
     "execution_count": 232,
     "metadata": {},
     "output_type": "execute_result"
    }
   ],
   "source": [
    "train.shape"
   ]
  },
  {
   "cell_type": "code",
   "execution_count": 233,
   "metadata": {
    "ExecuteTime": {
     "end_time": "2019-03-10T09:08:52.953901Z",
     "start_time": "2019-03-10T09:08:52.945921Z"
    }
   },
   "outputs": [],
   "source": [
    "y_train = np.array(train['HasDetections'])\n",
    "train_ids = train.index\n",
    "test_ids  = test.index"
   ]
  },
  {
   "cell_type": "code",
   "execution_count": 234,
   "metadata": {
    "ExecuteTime": {
     "end_time": "2019-03-10T09:08:53.335489Z",
     "start_time": "2019-03-10T09:08:53.218799Z"
    }
   },
   "outputs": [
    {
     "data": {
      "text/plain": [
       "21"
      ]
     },
     "execution_count": 234,
     "metadata": {},
     "output_type": "execute_result"
    }
   ],
   "source": [
    "del train['HasDetections'], train['MachineIdentifier'], test['MachineIdentifier'], test['HasDetections']\n",
    "gc.collect()"
   ]
  },
  {
   "cell_type": "code",
   "execution_count": 235,
   "metadata": {
    "ExecuteTime": {
     "end_time": "2019-03-10T09:08:53.924768Z",
     "start_time": "2019-03-10T09:08:53.910839Z"
    },
    "scrolled": true
   },
   "outputs": [
    {
     "name": "stdout",
     "output_type": "stream",
     "text": [
      "If you don't want use Sparse Matrix choose Kernel Version 2 to get simple solution.\n",
      "\n",
      "--------------------------------------------------------------------------------------------------------\n",
      "Transform Data to Sparse Matrix.\n",
      "Sparse Matrix can be used to fit a lot of models, eg. XGBoost, LightGBM, Random Forest, K-Means and etc.\n",
      "To concatenate Sparse Matrices by column use hstack()\n",
      "Read more about Sparse Matrix https://docs.scipy.org/doc/scipy/reference/sparse.html\n",
      "Good Luck!\n",
      "--------------------------------------------------------------------------------------------------------\n"
     ]
    }
   ],
   "source": [
    "print(\"If you don't want use Sparse Matrix choose Kernel Version 2 to get simple solution.\\n\")\n",
    "\n",
    "print('--------------------------------------------------------------------------------------------------------')\n",
    "print('Transform Data to Sparse Matrix.')\n",
    "print('Sparse Matrix can be used to fit a lot of models, eg. XGBoost, LightGBM, Random Forest, K-Means and etc.')\n",
    "print('To concatenate Sparse Matrices by column use hstack()')\n",
    "print('Read more about Sparse Matrix https://docs.scipy.org/doc/scipy/reference/sparse.html')\n",
    "print('Good Luck!')\n",
    "print('--------------------------------------------------------------------------------------------------------')\n"
   ]
  },
  {
   "cell_type": "code",
   "execution_count": 236,
   "metadata": {
    "ExecuteTime": {
     "end_time": "2019-03-10T09:08:58.030846Z",
     "start_time": "2019-03-10T09:08:54.924014Z"
    }
   },
   "outputs": [],
   "source": [
    "#Fit OneHotEncoder\n",
    "ohe = OneHotEncoder(categories='auto', sparse=True, dtype='uint8').fit(train.append(test))"
   ]
  },
  {
   "cell_type": "code",
   "execution_count": 237,
   "metadata": {
    "ExecuteTime": {
     "end_time": "2019-03-10T09:09:07.905496Z",
     "start_time": "2019-03-10T09:08:58.032840Z"
    }
   },
   "outputs": [],
   "source": [
    "#Transform data using small groups to reduce memory usage\n",
    "m = 100000\n",
    "train = vstack([ohe.transform(train[i*m:(i+1)*m]) for i in range(train.shape[0] // m + 1)])\n",
    "test  = vstack([ohe.transform(test[i*m:(i+1)*m])  for i in range(test.shape[0] // m +  1)])"
   ]
  },
  {
   "cell_type": "code",
   "execution_count": 238,
   "metadata": {
    "ExecuteTime": {
     "end_time": "2019-03-10T09:09:07.910485Z",
     "start_time": "2019-03-10T09:09:07.906493Z"
    }
   },
   "outputs": [
    {
     "data": {
      "text/plain": [
       "(627299, 10039)"
      ]
     },
     "execution_count": 238,
     "metadata": {},
     "output_type": "execute_result"
    }
   ],
   "source": [
    "train.shape"
   ]
  },
  {
   "cell_type": "code",
   "execution_count": 239,
   "metadata": {
    "ExecuteTime": {
     "end_time": "2019-03-10T09:09:07.916467Z",
     "start_time": "2019-03-10T09:09:07.912478Z"
    }
   },
   "outputs": [
    {
     "data": {
      "text/plain": [
       "(161697, 10039)"
      ]
     },
     "execution_count": 239,
     "metadata": {},
     "output_type": "execute_result"
    }
   ],
   "source": [
    "test.shape"
   ]
  },
  {
   "cell_type": "code",
   "execution_count": 240,
   "metadata": {
    "ExecuteTime": {
     "end_time": "2019-03-10T09:09:19.524960Z",
     "start_time": "2019-03-10T09:09:10.718474Z"
    }
   },
   "outputs": [],
   "source": [
    "save_npz('./data_temp/train.npz', train, compressed=True)\n",
    "save_npz('./data_temp/test.npz',  test,  compressed=True)"
   ]
  },
  {
   "cell_type": "code",
   "execution_count": 241,
   "metadata": {
    "ExecuteTime": {
     "end_time": "2019-03-10T09:09:19.671570Z",
     "start_time": "2019-03-10T09:09:19.526958Z"
    }
   },
   "outputs": [
    {
     "data": {
      "text/plain": [
       "1162"
      ]
     },
     "execution_count": 241,
     "metadata": {},
     "output_type": "execute_result"
    }
   ],
   "source": [
    "del ohe, train, test\n",
    "gc.collect()"
   ]
  },
  {
   "cell_type": "code",
   "execution_count": 242,
   "metadata": {
    "ExecuteTime": {
     "end_time": "2019-03-10T09:09:20.754949Z",
     "start_time": "2019-03-10T09:09:19.673579Z"
    }
   },
   "outputs": [],
   "source": [
    "train = load_npz('./data_temp/train.npz')\n",
    "test = load_npz('./data_temp/test.npz')\n",
    "test = csr_matrix(test, dtype='float32')"
   ]
  },
  {
   "cell_type": "code",
   "execution_count": 243,
   "metadata": {
    "ExecuteTime": {
     "end_time": "2019-03-10T09:09:20.761654Z",
     "start_time": "2019-03-10T09:09:20.757665Z"
    }
   },
   "outputs": [
    {
     "data": {
      "text/plain": [
       "(627299, 10039)"
      ]
     },
     "execution_count": 243,
     "metadata": {},
     "output_type": "execute_result"
    }
   ],
   "source": [
    "train.shape"
   ]
  },
  {
   "cell_type": "code",
   "execution_count": 244,
   "metadata": {
    "ExecuteTime": {
     "end_time": "2019-03-10T09:09:20.768634Z",
     "start_time": "2019-03-10T09:09:20.763648Z"
    }
   },
   "outputs": [
    {
     "data": {
      "text/plain": [
       "(161697, 10039)"
      ]
     },
     "execution_count": 244,
     "metadata": {},
     "output_type": "execute_result"
    }
   ],
   "source": [
    "test.shape"
   ]
  },
  {
   "cell_type": "code",
   "execution_count": 246,
   "metadata": {
    "ExecuteTime": {
     "end_time": "2019-03-10T09:09:21.451924Z",
     "start_time": "2019-03-10T09:09:21.446979Z"
    }
   },
   "outputs": [],
   "source": [
    "skf = StratifiedKFold(n_splits=3, shuffle=True, random_state=42)\n",
    "skf.get_n_splits(train_ids, y_train)\n",
    "\n",
    "lgb_test_result  = np.zeros(test_ids.shape[0])\n",
    "lgb_train_result = np.zeros(train_ids.shape[0])\n",
    "counter = 0"
   ]
  },
  {
   "cell_type": "code",
   "execution_count": 247,
   "metadata": {
    "ExecuteTime": {
     "end_time": "2019-03-10T09:14:15.509626Z",
     "start_time": "2019-03-10T09:09:22.103292Z"
    },
    "scrolled": false
   },
   "outputs": [
    {
     "name": "stdout",
     "output_type": "stream",
     "text": [
      "\n",
      "LightGBM\n",
      "\n",
      "Fold 1\n",
      "\n",
      "fitting\n",
      "Training until validation scores don't improve for 100 rounds.\n",
      "[100]\tvalid_0's auc: 0.677371\tvalid_0's binary_logloss: 0.604701\n",
      "[200]\tvalid_0's auc: 0.685048\tvalid_0's binary_logloss: 0.599969\n",
      "[300]\tvalid_0's auc: 0.687145\tvalid_0's binary_logloss: 0.598676\n",
      "[400]\tvalid_0's auc: 0.687966\tvalid_0's binary_logloss: 0.598151\n",
      "[500]\tvalid_0's auc: 0.688526\tvalid_0's binary_logloss: 0.59779\n",
      "[600]\tvalid_0's auc: 0.688837\tvalid_0's binary_logloss: 0.597577\n",
      "[700]\tvalid_0's auc: 0.689194\tvalid_0's binary_logloss: 0.597344\n",
      "[800]\tvalid_0's auc: 0.68942\tvalid_0's binary_logloss: 0.597182\n",
      "[900]\tvalid_0's auc: 0.689547\tvalid_0's binary_logloss: 0.597075\n",
      "[1000]\tvalid_0's auc: 0.689621\tvalid_0's binary_logloss: 0.596991\n",
      "[1100]\tvalid_0's auc: 0.68967\tvalid_0's binary_logloss: 0.596924\n",
      "[1200]\tvalid_0's auc: 0.689712\tvalid_0's binary_logloss: 0.596872\n",
      "[1300]\tvalid_0's auc: 0.689751\tvalid_0's binary_logloss: 0.596838\n",
      "[1400]\tvalid_0's auc: 0.689791\tvalid_0's binary_logloss: 0.596808\n",
      "Early stopping, best iteration is:\n",
      "[1375]\tvalid_0's auc: 0.689815\tvalid_0's binary_logloss: 0.596801\n",
      "predicting\n",
      "Fold 2\n",
      "\n",
      "fitting\n",
      "Training until validation scores don't improve for 100 rounds.\n",
      "[100]\tvalid_0's auc: 0.677397\tvalid_0's binary_logloss: 0.604595\n",
      "[200]\tvalid_0's auc: 0.684986\tvalid_0's binary_logloss: 0.599996\n",
      "[300]\tvalid_0's auc: 0.68707\tvalid_0's binary_logloss: 0.598711\n",
      "[400]\tvalid_0's auc: 0.6879\tvalid_0's binary_logloss: 0.598183\n",
      "[500]\tvalid_0's auc: 0.688455\tvalid_0's binary_logloss: 0.597829\n",
      "[600]\tvalid_0's auc: 0.688927\tvalid_0's binary_logloss: 0.597514\n",
      "[700]\tvalid_0's auc: 0.689057\tvalid_0's binary_logloss: 0.597398\n",
      "[800]\tvalid_0's auc: 0.689212\tvalid_0's binary_logloss: 0.5973\n",
      "[900]\tvalid_0's auc: 0.689259\tvalid_0's binary_logloss: 0.59724\n",
      "[1000]\tvalid_0's auc: 0.689388\tvalid_0's binary_logloss: 0.597135\n",
      "[1100]\tvalid_0's auc: 0.689425\tvalid_0's binary_logloss: 0.597106\n",
      "Early stopping, best iteration is:\n",
      "[1015]\tvalid_0's auc: 0.68944\tvalid_0's binary_logloss: 0.597111\n",
      "predicting\n",
      "Fold 3\n",
      "\n",
      "fitting\n",
      "Training until validation scores don't improve for 100 rounds.\n",
      "[100]\tvalid_0's auc: 0.680668\tvalid_0's binary_logloss: 0.603563\n",
      "[200]\tvalid_0's auc: 0.687822\tvalid_0's binary_logloss: 0.598936\n",
      "[300]\tvalid_0's auc: 0.689691\tvalid_0's binary_logloss: 0.597769\n",
      "[400]\tvalid_0's auc: 0.690668\tvalid_0's binary_logloss: 0.597158\n",
      "[500]\tvalid_0's auc: 0.69126\tvalid_0's binary_logloss: 0.596763\n",
      "[600]\tvalid_0's auc: 0.691565\tvalid_0's binary_logloss: 0.596538\n",
      "[700]\tvalid_0's auc: 0.691705\tvalid_0's binary_logloss: 0.596422\n",
      "[800]\tvalid_0's auc: 0.691877\tvalid_0's binary_logloss: 0.596288\n",
      "[900]\tvalid_0's auc: 0.69207\tvalid_0's binary_logloss: 0.596166\n",
      "[1000]\tvalid_0's auc: 0.692023\tvalid_0's binary_logloss: 0.59616\n",
      "Early stopping, best iteration is:\n",
      "[920]\tvalid_0's auc: 0.692101\tvalid_0's binary_logloss: 0.596145\n",
      "predicting\n"
     ]
    }
   ],
   "source": [
    "print('\\nLightGBM\\n')\n",
    "\n",
    "for train_index, test_index in skf.split(train_ids, y_train):\n",
    "    \n",
    "    print('Fold {}\\n'.format(counter + 1))\n",
    "    \n",
    "    X_fit = vstack([train[train_index[i*m:(i+1)*m]] for i in range(train_index.shape[0] // m + 1)])\n",
    "    X_val = vstack([train[test_index[i*m:(i+1)*m]]  for i in range(test_index.shape[0] //  m + 1)])\n",
    "    X_fit, X_val = csr_matrix(X_fit, dtype='float32'), csr_matrix(X_val, dtype='float32')\n",
    "    y_fit, y_val = y_train[train_index], y_train[test_index]\n",
    "    \n",
    "    gc.collect()\n",
    "\n",
    "    lgb_model = lgb.LGBMClassifier(max_depth=-1,\n",
    "                                   n_estimators=30000,\n",
    "                                   learning_rate=0.05,\n",
    "                                   num_leaves=2**5-1,\n",
    "                                   objective='binary', \n",
    "                                   boosting_type='gbdt',\n",
    "                                   # overfitting handling\n",
    "                                   # max_bin=120,\n",
    "                                   # lambda_l1=6,\n",
    "                                   # lambda_l2=2,\n",
    "                                   save_binary=True,\n",
    "                                   feature_fraction=0.8,\n",
    "                                   feature_fraction_seed=42,\n",
    "                                   n_jobs=-1)\n",
    "    \n",
    "    print(\"fitting\")\n",
    "    lgb_model.fit(X_fit, y_fit, eval_metric='auc', \n",
    "                  eval_set=[(X_val, y_val)], \n",
    "                  verbose=100, early_stopping_rounds=100)\n",
    "    \n",
    "    del X_fit, X_val, y_fit, y_val, train_index, test_index\n",
    "    gc.collect()\n",
    "    \n",
    "    print(\"predicting\")\n",
    "    lgb_test_result += lgb_model.predict_proba(test)[:,1]\n",
    "    counter += 1\n",
    "    \n",
    "    gc.collect()"
   ]
  },
  {
   "cell_type": "markdown",
   "metadata": {},
   "source": [
    "# Crazy Method - 2달 미뤄서 훈련시켜보기 2"
   ]
  },
  {
   "cell_type": "code",
   "execution_count": 49,
   "metadata": {
    "ExecuteTime": {
     "end_time": "2019-03-10T09:44:35.934938Z",
     "start_time": "2019-03-10T09:44:28.078193Z"
    }
   },
   "outputs": [
    {
     "data": {
      "text/plain": [
       "14"
      ]
     },
     "execution_count": 49,
     "metadata": {},
     "output_type": "execute_result"
    }
   ],
   "source": [
    "temp = data[(data.Date_YMD >= '2018-07-26') & (data.Date_YMD <= '2018-11-25')]\n",
    "del temp['Date']\n",
    "gc.collect()"
   ]
  },
  {
   "cell_type": "code",
   "execution_count": 50,
   "metadata": {
    "ExecuteTime": {
     "end_time": "2019-03-10T09:44:47.425449Z",
     "start_time": "2019-03-10T09:44:35.937928Z"
    }
   },
   "outputs": [
    {
     "data": {
      "text/plain": [
       "0"
      ]
     },
     "execution_count": 50,
     "metadata": {},
     "output_type": "execute_result"
    }
   ],
   "source": [
    "train = temp[~temp.HasDetections.isna()]\n",
    "test = temp[temp.HasDetections.isna()]\n",
    "\n",
    "del temp\n",
    "gc.collect()"
   ]
  },
  {
   "cell_type": "code",
   "execution_count": 51,
   "metadata": {
    "ExecuteTime": {
     "end_time": "2019-03-10T09:44:52.379869Z",
     "start_time": "2019-03-10T09:44:47.428441Z"
    }
   },
   "outputs": [
    {
     "data": {
      "text/plain": [
       "0"
      ]
     },
     "execution_count": 51,
     "metadata": {},
     "output_type": "execute_result"
    }
   ],
   "source": [
    "train = train[train.Date_YMD <= '2018-09-25']\n",
    "test = test[test.Date_YMD >= '2018-09-26']\n",
    "\n",
    "gc.collect()"
   ]
  },
  {
   "cell_type": "code",
   "execution_count": 54,
   "metadata": {
    "ExecuteTime": {
     "end_time": "2019-03-10T09:45:05.518114Z",
     "start_time": "2019-03-10T09:45:04.962738Z"
    }
   },
   "outputs": [],
   "source": [
    "# 2달 미루기\n",
    "train.Date_YMD = train.Date_YMD + pd.offsets.MonthOffset(2)"
   ]
  },
  {
   "cell_type": "code",
   "execution_count": 56,
   "metadata": {
    "ExecuteTime": {
     "end_time": "2019-03-10T09:45:12.710847Z",
     "start_time": "2019-03-10T09:45:12.683952Z"
    }
   },
   "outputs": [],
   "source": [
    "train.reset_index(drop=True, inplace=True)\n",
    "test.reset_index(drop=True, inplace=True)"
   ]
  },
  {
   "cell_type": "code",
   "execution_count": 57,
   "metadata": {
    "ExecuteTime": {
     "end_time": "2019-03-10T09:45:13.791778Z",
     "start_time": "2019-03-10T09:45:13.786757Z"
    }
   },
   "outputs": [
    {
     "data": {
      "text/plain": [
       "(7429146, 84)"
      ]
     },
     "execution_count": 57,
     "metadata": {},
     "output_type": "execute_result"
    }
   ],
   "source": [
    "train.shape"
   ]
  },
  {
   "cell_type": "code",
   "execution_count": 58,
   "metadata": {
    "ExecuteTime": {
     "end_time": "2019-03-10T09:45:14.803282Z",
     "start_time": "2019-03-10T09:45:14.797266Z"
    }
   },
   "outputs": [
    {
     "data": {
      "text/plain": [
       "(6598039, 84)"
      ]
     },
     "execution_count": 58,
     "metadata": {},
     "output_type": "execute_result"
    }
   ],
   "source": [
    "test.shape"
   ]
  },
  {
   "cell_type": "code",
   "execution_count": 59,
   "metadata": {
    "ExecuteTime": {
     "end_time": "2019-03-10T09:45:17.852378Z",
     "start_time": "2019-03-10T09:45:16.849944Z"
    }
   },
   "outputs": [
    {
     "data": {
      "text/plain": [
       "183"
      ]
     },
     "execution_count": 59,
     "metadata": {},
     "output_type": "execute_result"
    }
   ],
   "source": [
    "del train['AvSigVersion'], test['AvSigVersion']\n",
    "gc.collect()"
   ]
  },
  {
   "cell_type": "code",
   "execution_count": 60,
   "metadata": {
    "ExecuteTime": {
     "end_time": "2019-03-10T09:59:15.314294Z",
     "start_time": "2019-03-10T09:45:57.217626Z"
    },
    "scrolled": false
   },
   "outputs": [
    {
     "name": "stdout",
     "output_type": "stream",
     "text": [
      "Transform all features to category.\n",
      "\n"
     ]
    },
    {
     "data": {
      "application/vnd.jupyter.widget-view+json": {
       "model_id": "4c70a953e4024be691a08bbc6c29bea7",
       "version_major": 2,
       "version_minor": 0
      },
      "text/plain": [
       "HBox(children=(IntProgress(value=0, max=81), HTML(value='')))"
      ]
     },
     "metadata": {},
     "output_type": "display_data"
    },
    {
     "name": "stdout",
     "output_type": "stream",
     "text": [
      "\n"
     ]
    }
   ],
   "source": [
    "print('Transform all features to category.\\n')\n",
    "for usecol in tqdm_notebook([col for col in train.columns if col not in ['HasDetections', 'MachineIdentifier']]):\n",
    "\n",
    "    train[usecol] = train[usecol].astype('str')\n",
    "    test[usecol] = test[usecol].astype('str')\n",
    "    \n",
    "    #Fit LabelEncoder\n",
    "    le = LabelEncoder().fit(\n",
    "            np.unique(train[usecol].unique().tolist()+\n",
    "                      test[usecol].unique().tolist()))\n",
    "\n",
    "    #At the end 0 will be used for dropped values\n",
    "    train[usecol] = le.transform(train[usecol])+1\n",
    "    test[usecol]  = le.transform(test[usecol])+1\n",
    "\n",
    "    agg_tr = (train\n",
    "              .groupby([usecol])\n",
    "              .aggregate({'MachineIdentifier':'count'})\n",
    "              .reset_index()\n",
    "              .rename({'MachineIdentifier':'Train'}, axis=1))\n",
    "    \n",
    "    agg_te = (test\n",
    "              .groupby([usecol])\n",
    "              .aggregate({'MachineIdentifier':'count'})\n",
    "              .reset_index()\n",
    "              .rename({'MachineIdentifier':'Test'}, axis=1))\n",
    "\n",
    "    agg = pd.merge(agg_tr, agg_te, on=usecol, how='outer').replace(np.nan, 0)\n",
    "\n",
    "    #Select values with more than 1000 observations\n",
    "    agg = agg[(agg['Train'] > 960)].reset_index(drop=True)\n",
    "    agg['Total'] = agg['Train'] + agg['Test']\n",
    "    #Drop unbalanced values\n",
    "    agg = agg[(agg['Train'] / (agg['Total']) > 0.2) & (agg['Train'] / (agg['Total']) < 0.8)]\n",
    "    agg[usecol+'Copy'] = agg[usecol]\n",
    "        \n",
    "    train[usecol] = (pd.merge(train[[usecol]], \n",
    "                              agg[[usecol, usecol+'Copy']], \n",
    "                              on=usecol, how='left')[usecol+'Copy']\n",
    "                     .replace(np.nan, 0).astype('int').astype('category'))\n",
    "\n",
    "    test[usecol]  = (pd.merge(test[[usecol]], \n",
    "                              agg[[usecol, usecol+'Copy']], \n",
    "                              on=usecol, how='left')[usecol+'Copy']\n",
    "                     .replace(np.nan, 0).astype('int').astype('category'))\n",
    "\n",
    "    del le, agg_tr, agg_te, agg, usecol\n",
    "    gc.collect()"
   ]
  },
  {
   "cell_type": "code",
   "execution_count": 62,
   "metadata": {
    "ExecuteTime": {
     "end_time": "2019-03-10T09:59:25.087665Z",
     "start_time": "2019-03-10T09:59:25.080681Z"
    }
   },
   "outputs": [
    {
     "data": {
      "text/plain": [
       "(7429146, 83)"
      ]
     },
     "execution_count": 62,
     "metadata": {},
     "output_type": "execute_result"
    }
   ],
   "source": [
    "train.shape"
   ]
  },
  {
   "cell_type": "code",
   "execution_count": 63,
   "metadata": {
    "ExecuteTime": {
     "end_time": "2019-03-10T09:59:29.689267Z",
     "start_time": "2019-03-10T09:59:29.657354Z"
    }
   },
   "outputs": [],
   "source": [
    "y_train = np.array(train['HasDetections'])\n",
    "train_ids = train.index\n",
    "test_ids  = test.index"
   ]
  },
  {
   "cell_type": "code",
   "execution_count": 64,
   "metadata": {
    "ExecuteTime": {
     "end_time": "2019-03-10T09:59:30.180281Z",
     "start_time": "2019-03-10T09:59:30.084536Z"
    }
   },
   "outputs": [
    {
     "data": {
      "text/plain": [
       "28"
      ]
     },
     "execution_count": 64,
     "metadata": {},
     "output_type": "execute_result"
    }
   ],
   "source": [
    "del train['HasDetections'], train['MachineIdentifier'], test['MachineIdentifier'], test['HasDetections']\n",
    "gc.collect()"
   ]
  },
  {
   "cell_type": "code",
   "execution_count": 65,
   "metadata": {
    "ExecuteTime": {
     "end_time": "2019-03-10T09:59:32.242290Z",
     "start_time": "2019-03-10T09:59:32.231320Z"
    },
    "scrolled": true
   },
   "outputs": [
    {
     "name": "stdout",
     "output_type": "stream",
     "text": [
      "If you don't want use Sparse Matrix choose Kernel Version 2 to get simple solution.\n",
      "\n",
      "--------------------------------------------------------------------------------------------------------\n",
      "Transform Data to Sparse Matrix.\n",
      "Sparse Matrix can be used to fit a lot of models, eg. XGBoost, LightGBM, Random Forest, K-Means and etc.\n",
      "To concatenate Sparse Matrices by column use hstack()\n",
      "Read more about Sparse Matrix https://docs.scipy.org/doc/scipy/reference/sparse.html\n",
      "Good Luck!\n",
      "--------------------------------------------------------------------------------------------------------\n"
     ]
    }
   ],
   "source": [
    "print(\"If you don't want use Sparse Matrix choose Kernel Version 2 to get simple solution.\\n\")\n",
    "\n",
    "print('--------------------------------------------------------------------------------------------------------')\n",
    "print('Transform Data to Sparse Matrix.')\n",
    "print('Sparse Matrix can be used to fit a lot of models, eg. XGBoost, LightGBM, Random Forest, K-Means and etc.')\n",
    "print('To concatenate Sparse Matrices by column use hstack()')\n",
    "print('Read more about Sparse Matrix https://docs.scipy.org/doc/scipy/reference/sparse.html')\n",
    "print('Good Luck!')\n",
    "print('--------------------------------------------------------------------------------------------------------')\n"
   ]
  },
  {
   "cell_type": "code",
   "execution_count": 66,
   "metadata": {
    "ExecuteTime": {
     "end_time": "2019-03-10T10:01:55.889245Z",
     "start_time": "2019-03-10T09:59:36.259257Z"
    }
   },
   "outputs": [],
   "source": [
    "#Fit OneHotEncoder\n",
    "ohe = OneHotEncoder(categories='auto', sparse=True, dtype='uint8').fit(train.append(test))"
   ]
  },
  {
   "cell_type": "code",
   "execution_count": 67,
   "metadata": {
    "ExecuteTime": {
     "end_time": "2019-03-10T10:05:05.632915Z",
     "start_time": "2019-03-10T10:01:55.920454Z"
    }
   },
   "outputs": [],
   "source": [
    "#Transform data using small groups to reduce memory usage\n",
    "m = 100000\n",
    "train = vstack([ohe.transform(train[i*m:(i+1)*m]) for i in range(train.shape[0] // m + 1)])\n",
    "test  = vstack([ohe.transform(test[i*m:(i+1)*m])  for i in range(test.shape[0] // m +  1)])"
   ]
  },
  {
   "cell_type": "code",
   "execution_count": 68,
   "metadata": {
    "ExecuteTime": {
     "end_time": "2019-03-10T10:05:05.643704Z",
     "start_time": "2019-03-10T10:05:05.632915Z"
    }
   },
   "outputs": [
    {
     "data": {
      "text/plain": [
       "(7429146, 6853)"
      ]
     },
     "execution_count": 68,
     "metadata": {},
     "output_type": "execute_result"
    }
   ],
   "source": [
    "train.shape"
   ]
  },
  {
   "cell_type": "code",
   "execution_count": 69,
   "metadata": {
    "ExecuteTime": {
     "end_time": "2019-03-10T10:05:05.650651Z",
     "start_time": "2019-03-10T10:05:05.645662Z"
    }
   },
   "outputs": [
    {
     "data": {
      "text/plain": [
       "(6598039, 6853)"
      ]
     },
     "execution_count": 69,
     "metadata": {},
     "output_type": "execute_result"
    }
   ],
   "source": [
    "test.shape"
   ]
  },
  {
   "cell_type": "code",
   "execution_count": 70,
   "metadata": {
    "ExecuteTime": {
     "end_time": "2019-03-10T10:07:52.320652Z",
     "start_time": "2019-03-10T10:05:41.381218Z"
    }
   },
   "outputs": [],
   "source": [
    "save_npz('./data_temp/train.npz', train, compressed=True)\n",
    "save_npz('./data_temp/test.npz',  test,  compressed=True)"
   ]
  },
  {
   "cell_type": "code",
   "execution_count": 71,
   "metadata": {
    "ExecuteTime": {
     "end_time": "2019-03-10T10:07:53.257178Z",
     "start_time": "2019-03-10T10:07:52.322609Z"
    }
   },
   "outputs": [
    {
     "data": {
      "text/plain": [
       "1148"
      ]
     },
     "execution_count": 71,
     "metadata": {},
     "output_type": "execute_result"
    }
   ],
   "source": [
    "del ohe, train, test\n",
    "gc.collect()"
   ]
  },
  {
   "cell_type": "code",
   "execution_count": 72,
   "metadata": {
    "ExecuteTime": {
     "end_time": "2019-03-10T10:08:14.141255Z",
     "start_time": "2019-03-10T10:07:56.360174Z"
    }
   },
   "outputs": [],
   "source": [
    "train = load_npz('./data_temp/train.npz')\n",
    "test = load_npz('./data_temp/test.npz')\n",
    "test = csr_matrix(test, dtype='float32')"
   ]
  },
  {
   "cell_type": "code",
   "execution_count": 75,
   "metadata": {
    "ExecuteTime": {
     "end_time": "2019-03-10T10:08:49.368520Z",
     "start_time": "2019-03-10T10:08:49.364533Z"
    }
   },
   "outputs": [
    {
     "data": {
      "text/plain": [
       "(7429146, 6853)"
      ]
     },
     "execution_count": 75,
     "metadata": {},
     "output_type": "execute_result"
    }
   ],
   "source": [
    "train.shape"
   ]
  },
  {
   "cell_type": "code",
   "execution_count": 76,
   "metadata": {
    "ExecuteTime": {
     "end_time": "2019-03-10T10:08:49.680002Z",
     "start_time": "2019-03-10T10:08:49.674018Z"
    }
   },
   "outputs": [
    {
     "data": {
      "text/plain": [
       "(6598039, 6853)"
      ]
     },
     "execution_count": 76,
     "metadata": {},
     "output_type": "execute_result"
    }
   ],
   "source": [
    "test.shape"
   ]
  },
  {
   "cell_type": "code",
   "execution_count": 80,
   "metadata": {
    "ExecuteTime": {
     "end_time": "2019-03-10T10:19:21.538398Z",
     "start_time": "2019-03-10T10:19:21.526476Z"
    }
   },
   "outputs": [],
   "source": [
    "skf = StratifiedKFold(n_splits=3, shuffle=True, random_state=42)\n",
    "skf.get_n_splits(train_ids, y_train)\n",
    "\n",
    "lgb_test_result  = np.zeros(test_ids.shape[0])\n",
    "lgb_train_result = np.zeros(train_ids.shape[0])\n",
    "counter = 0"
   ]
  },
  {
   "cell_type": "code",
   "execution_count": 81,
   "metadata": {
    "ExecuteTime": {
     "end_time": "2019-03-10T11:53:46.928904Z",
     "start_time": "2019-03-10T10:19:24.082746Z"
    },
    "scrolled": false
   },
   "outputs": [
    {
     "name": "stdout",
     "output_type": "stream",
     "text": [
      "\n",
      "LightGBM\n",
      "\n",
      "Fold 1\n",
      "\n",
      "fitting\n",
      "Training until validation scores don't improve for 100 rounds.\n",
      "[100]\tvalid_0's binary_logloss: 0.59943\tvalid_0's auc: 0.732838\n",
      "[200]\tvalid_0's binary_logloss: 0.595501\tvalid_0's auc: 0.736929\n",
      "[300]\tvalid_0's binary_logloss: 0.595429\tvalid_0's auc: 0.736905\n",
      "Early stopping, best iteration is:\n",
      "[232]\tvalid_0's binary_logloss: 0.595378\tvalid_0's auc: 0.73703\n",
      "predicting\n",
      "Fold 2\n",
      "\n",
      "fitting\n",
      "Training until validation scores don't improve for 100 rounds.\n",
      "[100]\tvalid_0's binary_logloss: 0.599563\tvalid_0's auc: 0.732711\n",
      "[200]\tvalid_0's binary_logloss: 0.595567\tvalid_0's auc: 0.736903\n",
      "[300]\tvalid_0's binary_logloss: 0.59558\tvalid_0's auc: 0.736729\n",
      "Early stopping, best iteration is:\n",
      "[231]\tvalid_0's binary_logloss: 0.595486\tvalid_0's auc: 0.736931\n",
      "predicting\n",
      "Fold 3\n",
      "\n",
      "fitting\n",
      "Training until validation scores don't improve for 100 rounds.\n",
      "[100]\tvalid_0's binary_logloss: 0.599772\tvalid_0's auc: 0.732361\n",
      "[200]\tvalid_0's binary_logloss: 0.595784\tvalid_0's auc: 0.73664\n",
      "[300]\tvalid_0's binary_logloss: 0.595764\tvalid_0's auc: 0.736546\n",
      "Early stopping, best iteration is:\n",
      "[221]\tvalid_0's binary_logloss: 0.595688\tvalid_0's auc: 0.736722\n",
      "predicting\n"
     ]
    }
   ],
   "source": [
    "print('\\nLightGBM\\n')\n",
    "\n",
    "for train_index, test_index in skf.split(train_ids, y_train):\n",
    "    \n",
    "    print('Fold {}\\n'.format(counter + 1))\n",
    "    \n",
    "    X_fit = vstack([train[train_index[i*m:(i+1)*m]] for i in range(train_index.shape[0] // m + 1)])\n",
    "    X_val = vstack([train[test_index[i*m:(i+1)*m]]  for i in range(test_index.shape[0] //  m + 1)])\n",
    "    X_fit, X_val = csr_matrix(X_fit, dtype='float32'), csr_matrix(X_val, dtype='float32')\n",
    "    y_fit, y_val = y_train[train_index], y_train[test_index]\n",
    "    \n",
    "    gc.collect()\n",
    "\n",
    "    lgb_model = lgb.LGBMClassifier(max_depth=-1,\n",
    "                                   n_estimators=30000,\n",
    "                                   learning_rate=0.05,\n",
    "                                   num_leaves=2**12-1,\n",
    "                                   objective='binary', \n",
    "                                   boosting_type='gbdt',\n",
    "                                   # overfitting handling\n",
    "                                   # max_bin=120,\n",
    "                                   # lambda_l1=6,\n",
    "                                   # lambda_l2=2,\n",
    "                                   save_binary=True,\n",
    "                                   feature_fraction=0.8,\n",
    "                                   feature_fraction_seed=42,\n",
    "                                   n_jobs=-1)\n",
    "    \n",
    "    print(\"fitting\")\n",
    "    lgb_model.fit(X_fit, y_fit, eval_metric='auc', \n",
    "                  eval_set=[(X_val, y_val)], \n",
    "                  verbose=100, early_stopping_rounds=100)\n",
    "    \n",
    "    del X_fit, X_val, y_fit, y_val, train_index, test_index\n",
    "    gc.collect()\n",
    "    \n",
    "    print(\"predicting\")\n",
    "    lgb_test_result += lgb_model.predict_proba(test)[:,1]\n",
    "    counter += 1\n",
    "    \n",
    "    gc.collect()"
   ]
  },
  {
   "cell_type": "code",
   "execution_count": 85,
   "metadata": {
    "ExecuteTime": {
     "end_time": "2019-03-10T11:54:59.984851Z",
     "start_time": "2019-03-10T11:54:41.317477Z"
    }
   },
   "outputs": [],
   "source": [
    "pd.DataFrame(lgb_test_result/3).to_csv('./data_temp/temp_11.csv')"
   ]
  }
 ],
 "metadata": {
  "kernelspec": {
   "display_name": "Python 3",
   "language": "python",
   "name": "python3"
  },
  "language_info": {
   "codemirror_mode": {
    "name": "ipython",
    "version": 3
   },
   "file_extension": ".py",
   "mimetype": "text/x-python",
   "name": "python",
   "nbconvert_exporter": "python",
   "pygments_lexer": "ipython3",
   "version": "3.6.7"
  },
  "toc": {
   "base_numbering": 1,
   "nav_menu": {},
   "number_sections": true,
   "sideBar": true,
   "skip_h1_title": false,
   "title_cell": "Table of Contents",
   "title_sidebar": "Contents",
   "toc_cell": false,
   "toc_position": {
    "height": "calc(100% - 180px)",
    "left": "10px",
    "top": "150px",
    "width": "384px"
   },
   "toc_section_display": true,
   "toc_window_display": true
  }
 },
 "nbformat": 4,
 "nbformat_minor": 2
}
